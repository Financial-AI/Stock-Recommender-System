{
 "cells": [
  {
   "cell_type": "markdown",
   "id": "7d69c269-ca4a-4ca2-bda8-1c29451ef5ff",
   "metadata": {},
   "source": [
    "# Stock Price Prediction End To End ML App (Rev 11/20/23)\n",
    "\n",
    "- PyTorch (Not TF)\n",
    "- yfinance (for now just use NASDAQ directly)\n",
    "- matplotlib\n",
    "- numpy\n",
    "- pandas\n",
    "- streamlit (?)\n",
    "\n",
    "**Contributor**: James Guzman\n",
    "\n",
    "**Teammates**: Josef, Anshul\n",
    "\n",
    "**Project Advisor**: Dr. Magdalini Eirinaki\n",
    "\n",
    "**SJSU CMPE 256**: Advanced Data Mining\n",
    "\n",
    "**Date**: Nov 17, 2023\n",
    "\n",
    "Based on \"Machine Learning Project in Python to Predict Stock Price ML End to End Application\":\n",
    "\n",
    "- https://youtu.be/P3JlMWoP3fE?si=XxIz2Zo8GCt9ziHM\n",
    "\n",
    "Based on \"Amazon Stock Forecasting in PyTorch with LSTM Neural Network (Time Series Forecasting) | Tutorial 3\":\n",
    "\n",
    "- https://www.youtube.com/watch?v=q_HS4s1L8UI\n",
    "\n",
    "Planning to Contribute our Semester Project to H2O Wave App Store (Currently, I submitted a project idea to their discussion forum on GitHub):\n",
    "\n",
    "- https://github.com/h2oai/wave/discussions/2200"
   ]
  },
  {
   "cell_type": "code",
   "execution_count": 1,
   "id": "1d2fb862-b207-4eaa-aa1c-108f19773818",
   "metadata": {},
   "outputs": [],
   "source": [
    "import os\n",
    "import torch\n",
    "import torch.nn as nn\n",
    "import torch.optim as optim\n",
    "from torch.utils.data import DataLoader\n",
    "from copy import deepcopy as dc\n",
    "from tqdm.notebook import tqdm\n",
    "# import yfinance as yf\n",
    "import matplotlib.pyplot as plt\n",
    "import numpy as np\n",
    "import pandas as pd\n",
    "from sklearn.preprocessing import MinMaxScaler\n",
    "# import streamlit\n",
    "    # streamlit they use to deploy as a web app, for now I will use Wave or PySide6"
   ]
  },
  {
   "cell_type": "code",
   "execution_count": 2,
   "id": "08c80100-497a-471c-b94c-8d677645d418",
   "metadata": {},
   "outputs": [
    {
     "name": "stdout",
     "output_type": "stream",
     "text": [
      "Running on GPU NVIDIA GeForce RTX 3050 Ti Laptop GPU\n"
     ]
    }
   ],
   "source": [
    "LEARNING_RATE = 1e-2\n",
    "BATCH_SIZE = 16\n",
    "TEST_BATCH_SIZE = 1\n",
    "NUM_EPOCHS = 10\n",
    "DEBUG = True\n",
    "\n",
    "dataset_name = \"stock_closing_price\"\n",
    "\n",
    "device = torch.device(\"cuda\")\n",
    "print(f\"Running on GPU {torch.cuda.get_device_name(device)}\")"
   ]
  },
  {
   "cell_type": "code",
   "execution_count": 3,
   "id": "9a64d5f3-714d-44f3-a05f-357bbb187c37",
   "metadata": {},
   "outputs": [],
   "source": [
    "train_mse_loss_avg_values = []\n",
    "train_rmse_loss_avg_values = []\n",
    "\n",
    "valid_mse_loss_avg_values = []\n",
    "valid_rmse_loss_avg_values = []"
   ]
  },
  {
   "cell_type": "markdown",
   "id": "8224728b-8190-45d6-a8a1-70b76e939ea6",
   "metadata": {},
   "source": [
    "## Helper Classes & Functions"
   ]
  },
  {
   "cell_type": "code",
   "execution_count": 4,
   "id": "fe2279c3-fac4-44b9-8377-d0592f152dd4",
   "metadata": {},
   "outputs": [],
   "source": [
    "def mkdir_prep_dir(dirpath):\n",
    "    \"\"\"make preprocess directory if doesn't exist\"\"\"\n",
    "    prep_dir = dirpath\n",
    "    if not os.path.exists(prep_dir):\n",
    "        os.makedirs(prep_dir)\n",
    "    return prep_dir\n",
    "\n",
    "def save_checkpoint(state, filename=\"best_lstm.pth.tar\"):\n",
    "    print(\"=> Saving Checkpoint\")\n",
    "    torch.save(state, filename)\n",
    "\n",
    "def rmse(y_true, y_pred):\n",
    "    return torch.sqrt(torch.mean((y_true - y_pred) ** 2))\n"
   ]
  },
  {
   "cell_type": "code",
   "execution_count": 5,
   "id": "4b8063b7-3813-4775-b856-c21fa3dfc972",
   "metadata": {},
   "outputs": [],
   "source": [
    "# Ideally, I am thinking of parts of the preprocessing pipeline code, I can refactor toward nifi later\n",
    "# Need a better telemetry dashboard to interact with NiFi: Unity, H2O Wave, PySide6 QT\n",
    "class DataPrepPipeline:\n",
    "    def __init__(self):\n",
    "        pass\n",
    "\n",
    "    # NOTE (JG): my save predictions method later should be based on how we address 100 days here\n",
    "    # def split_features_labels(self, stock_features_labels_data, num_days=100):\n",
    "    #     # num_days = 100 by default\n",
    "    #     x_features_2d_list = [] # features: ex 100 days of final closing prices\n",
    "    #     y_labels_list = [] # labels: ex 100th day of final closing price gt to be pred\n",
    "\n",
    "    #     count = 0\n",
    "    #     for i in range(num_days, stock_features_labels_data.shape[0]):\n",
    "    #         # x_features_list is a 2D list where each element of 100 elements are 1D array with single element\n",
    "    #         if DEBUG and count == 0:\n",
    "    #             print(f\"stock_features_labels_data[i-num_days:i] = {stock_features_labels_data[i-num_days:i]}\")\n",
    "\n",
    "    #         x_features_per_num_days = []\n",
    "    #         for j in range(len(stock_features_labels_data[i-num_days:i])):\n",
    "    #             if DEBUG and count == 0:\n",
    "    #                 print(f\"j = {j}\")\n",
    "    #                 print(f\"stock_features_labels_data[j][0] = {stock_features_labels_data[j][0]}\") # only one item per list within list\n",
    "    #             x_features_per_num_days.append(stock_features_labels_data[j][0])\n",
    "    #         x_features_2d_list.append(x_features_per_num_days)\n",
    "    #         if DEBUG and count == 0:\n",
    "    #             print(f\"x_features_2d_list = {x_features_2d_list}\")\n",
    "    #             print(f\"stock_features_labels_data[i,0] = {stock_features_labels_data[i,0]}\")\n",
    "    #         y_labels_list.append(stock_features_labels_data[i,0])\n",
    "    #         count += 1\n",
    "        \n",
    "    #     return x_features_2d_list, y_labels_list\n",
    "\n",
    "    # Based on Greg Hogg's Stock Pred Video: https://youtu.be/q_HS4s1L8UI?si=CHWvbvfoPExQcALa\n",
    "    def prepare_df_for_lstm(self, stock_df, n_steps):\n",
    "        \"\"\"\n",
    "        # 10 days stock price\n",
    "        # it'll take the first 10 days, to then predict 11th day stock price\n",
    "        # 10, 11, 12, 15, 16, 17, 18, 19, 20, 17, \"18\"\n",
    "        # for the 12th day prediction, it'll take the 11th back to the 1st day\n",
    "        # .., 11, 12, 15, 16, 17, 18, 19, 20, 17, 18, \"19\"\n",
    "        \"\"\"\n",
    "        stock_df = dc(stock_df)\n",
    "        stock_df[\"Date\"] = pd.to_datetime(stock_df[\"Date\"])\n",
    "\n",
    "        stock_df.set_index(\"Date\", inplace=True)\n",
    "\n",
    "        for i in range(1, n_steps+1):\n",
    "            stock_df[f\"Close(t-{i})\"] = stock_df[\"Close\"].shift(i)\n",
    "\n",
    "        stock_df.dropna(inplace=True)\n",
    "\n",
    "        return stock_df\n",
    "\n",
    "    def split_features_labels(self, stock_features_labels_pd):\n",
    "        x_features = stock_features_labels_pd[:, 1:]\n",
    "        y_labels = stock_features_labels_pd[:, 0]\n",
    "\n",
    "        if DEBUG:\n",
    "            print(f\"x_features shape = {x_features.shape}; y_labels shape = {y_labels.shape}\")\n",
    "        return x_features, y_labels"
   ]
  },
  {
   "cell_type": "code",
   "execution_count": 6,
   "id": "bdbff328-bc26-4de5-81a1-88c2e4aa8fc3",
   "metadata": {},
   "outputs": [],
   "source": [
    "class PyTorchPipeline:\n",
    "    def __init__(self):\n",
    "        pass\n",
    "\n",
    "    def train_model(self, train_loader, lstm_model, optimizer, loss_criterion):\n",
    "        train_loop = tqdm(train_loader)\n",
    "\n",
    "        train_mse_loss_values = []\n",
    "        train_rmse_loss_values = []\n",
    "\n",
    "        # closing_price_2d_tensor\n",
    "        for batch_idx, (closing_price_2d_tensor, final_closing_price_tensor_gt) in enumerate(train_loop):\n",
    "            # final_closing_price_tensor_gt = final_closing_price_tensor.unsqueeze(1)\n",
    "\n",
    "            optimizer.zero_grad()\n",
    "            closing_price_2d_tensor = closing_price_2d_tensor.to(device)\n",
    "            final_closing_price_tensor_gt = final_closing_price_tensor_gt.to(device)\n",
    "            pred_final_closing_price = lstm_model(closing_price_2d_tensor)\n",
    "            mse_loss = loss_criterion(pred_final_closing_price, final_closing_price_tensor_gt)\n",
    "            rmse_loss = rmse(pred_final_closing_price, final_closing_price_tensor_gt)\n",
    "\n",
    "            mse_loss.backward()\n",
    "            optimizer.step()\n",
    "\n",
    "            train_mse_loss_values.append(mse_loss.item())\n",
    "            train_rmse_loss_values.append(rmse_loss.item())\n",
    "\n",
    "            train_loop.set_postfix(train_mse_loss=mse_loss.item(), train_rmse_loss=rmse_loss.item())\n",
    "\n",
    "        train_mse_loss_avg_values.append( sum(train_mse_loss_values)/len(train_loader) )\n",
    "        train_rmse_loss_avg_values.append( sum(train_rmse_loss_values)/len(train_loader) )\n",
    "\n",
    "    def validate_model(self, val_loader, lstm_model, loss_criterion):\n",
    "        val_loop = tqdm(val_loader)\n",
    "\n",
    "        val_mse_loss_values = []\n",
    "        val_rmse_loss_values = []\n",
    "\n",
    "        for batch_idx, (closing_price_2d_tensor, final_closing_price_tensor_gt) in enumerate(val_loop):\n",
    "            # final_closing_price_tensor_gt = final_closing_price_tensor.unsqueeze(1)\n",
    "            closing_price_2d_tensor = closing_price_2d_tensor.to(device)\n",
    "            final_closing_price_tensor_gt = final_closing_price_tensor_gt.to(device)\n",
    "            \n",
    "            pred_final_closing_price = lstm_model(closing_price_2d_tensor)\n",
    "            mse_loss = loss_criterion(pred_final_closing_price, final_closing_price_tensor_gt)\n",
    "            rmse_loss = rmse(pred_final_closing_price, final_closing_price_tensor_gt)\n",
    "\n",
    "\n",
    "            val_mse_loss_values.append(mse_loss.item())\n",
    "            val_rmse_loss_values.append(rmse_loss.item())\n",
    "\n",
    "            val_loop.set_postfix(val_mse_loss=mse_loss.item(), val_rmse_loss=rmse_loss.item())\n",
    "\n",
    "        valid_mse_loss_avg_values.append( sum(val_mse_loss_values)/len(val_loader) )\n",
    "        valid_rmse_loss_avg_values.append( sum(val_rmse_loss_values)/len(val_loader) )\n",
    "\n",
    "    def train_over_epochs(self, train_loader, test_loader, lstm_model, optimizer, loss_criterion, dst_folder=\"lstm_model\"):\n",
    "        step = 100\n",
    "        for epoch in range(NUM_EPOCHS):\n",
    "            self.train_model(train_loader, lstm_model, optimizer, loss_criterion)\n",
    "\n",
    "            checkpoint = {\n",
    "                \"state_dict\": lstm_model.state_dict(),\n",
    "                \"optimizer\": optimizer.state_dict(),\n",
    "            }\n",
    "\n",
    "            mkdir_prep_dir(f\"{dataset_name}/{dst_folder}\")\n",
    "            filename = f\"{dataset_name}/{dst_folder}/lstm_model_{step}.pth.tar\"\n",
    "            save_checkpoint(checkpoint, filename=filename)\n",
    "\n",
    "            self.validate_model(test_loader, lstm_model, loss_criterion)\n",
    "\n",
    "            step += 100\n",
    "\n",
    "    def deploy_model(self, test_loader, lstm_model):\n",
    "        test_loop = tqdm(test_loader)\n",
    "        final_closing_price_predictions = []\n",
    "        final_closing_price_gts = []\n",
    "        count = 0\n",
    "\n",
    "        for batch_idx, (closing_price_2d_tensor, final_closing_price_tensor) in enumerate(test_loop):\n",
    "            closing_price_2d_tensor = closing_price_2d_tensor.to(device)\n",
    "            final_closing_price_pred = lstm_model(closing_price_2d_tensor)\n",
    "            # if DEBUG and count == 0:\n",
    "            print(f\"final_closing_price_pred.item() = {final_closing_price_pred.item()}\")\n",
    "            final_closing_price_predictions.append(final_closing_price_pred.item())\n",
    "            final_closing_price_gts.append(final_closing_price_tensor.item())\n",
    "            count += 1\n",
    "        return final_closing_price_gts, final_closing_price_predictions\n",
    "\n",
    "    def test_dataloader_sample(self, data_loader):\n",
    "        for batch_idx, (closing_price_features_tensor, closing_price_labels_tensor) in enumerate(data_loader):\n",
    "            closing_price_features_tensor = closing_price_features_tensor.to(device)\n",
    "            closing_price_labels_tensor = closing_price_labels_tensor.to(device)\n",
    "            print(f\"close price features shape: {closing_price_features_tensor.shape}; close price labels shape: {closing_price_labels_tensor.shape}\")\n",
    "            break"
   ]
  },
  {
   "cell_type": "code",
   "execution_count": 7,
   "id": "3f653d58-7e80-4d7a-8dd4-008a2c277c89",
   "metadata": {},
   "outputs": [],
   "source": [
    "class PyTorchUtility:\n",
    "    def __init__(self):\n",
    "        pass\n",
    "\n",
    "    # TODO (JG): Add arguments for naming the two labels\n",
    "    def plot_loss_curves(self, train_loss_values, test_loss_values, plot_title, plot_filename):\n",
    "        f, ax = plt.subplots()\n",
    "        ax.set_title(plot_title)\n",
    "        ax.plot(train_loss_values, color=\"blue\", label=\"Train RMSE\")\n",
    "        ax.plot(test_loss_values, color=\"gold\", label=\"Valid RMSE\")\n",
    "        ax.grid(True)\n",
    "        ax.set_xlabel(\"Epochs\")\n",
    "        ax.set_ylabel(\"RMSE Loss\")\n",
    "        plt.legend()\n",
    "        plt.savefig(plot_filename)\n",
    "        plt.show()\n",
    "\n",
    "    \n",
    "    def plot_gt_pred_curves(self, final_closing_price_gts, final_closing_price_predictions, plot_title, plot_filename):\n",
    "        f, ax = plt.subplots()\n",
    "        ax.set_title(plot_title)\n",
    "        ax.plot(final_closing_price_predictions, color=\"blue\", label=\"Pred Price\")\n",
    "        ax.plot(final_closing_price_gts, color=\"gold\", label=\"GT Price\")\n",
    "        ax.grid(True)\n",
    "        ax.set_xlabel(\"Time\")\n",
    "        ax.set_ylabel(\"Price\")\n",
    "        plt.legend()\n",
    "        plt.savefig(plot_filename)\n",
    "        plt.show()\n",
    "\n",
    "\n",
    "    # TODO (JG): Need to check num_days preds for closing price. Is it suppose to be over\n",
    "    def save_lstm_predictions(self, stock_test_date_df, final_closing_price_predictions, scale, num_days, dst_folder=\"lstm_model\", filename=\"pytorch_final_closing_price_preds.csv\"):\n",
    "        # test_close_price_df, google_stock_train_date\n",
    "        stock_date_list = []\n",
    "        # y_train_list = []\n",
    "\n",
    "        count = 0\n",
    "        for i in range(num_days, stock_test_date_df.shape[0]):\n",
    "            # if DEBUG and count == 0:\n",
    "            #     print(f\"stock_test_date_df[0] = {stock_test_date_df[0]}\")\n",
    "            #     print(f\"stock_test_date_df[i,0] = {stock_test_date_df[i,0]}\")\n",
    "                \n",
    "            stock_pred_date_id = stock_test_date_df.Date.iloc[i]\n",
    "            if DEBUG and count == 0:\n",
    "                print(f\"stock_pred_date_id = {stock_pred_date_id}\")\n",
    "            stock_date_list.append(stock_pred_date_id)\n",
    "            count += 1\n",
    "\n",
    "        mkdir_prep_dir(f\"{dataset_name}/{dst_folder}\")\n",
    "        dst_filepath = f\"{dataset_name}/{dst_folder}/{filename}\"\n",
    "\n",
    "        # final_closing_price_unscaled_preds = final_closing_price_predictions*scale\n",
    "        \n",
    "        # final close price pred for each 100th date after predicting on 100 days of final closing prices\n",
    "        stock_close_price_res_df = pd.DataFrame({f\"{num_days}th Date\": stock_date_list, \"Close\": final_closing_price_predictions})\n",
    "        stock_close_price_res_df.to_csv(dst_filepath, index=False)\n",
    "        return stock_close_price_res_df\n"
   ]
  },
  {
   "cell_type": "markdown",
   "id": "94b2f004-f9b4-44e9-b3cd-a2aa180e12d0",
   "metadata": {},
   "source": [
    "## Load NASDAQ Symbols Metadata"
   ]
  },
  {
   "cell_type": "code",
   "execution_count": 8,
   "id": "7ad30409-9c14-4cbf-86d0-9161b9a2e513",
   "metadata": {},
   "outputs": [],
   "source": [
    "# Load Stock Market Data\n",
    "nasdaq_meta_symbols_filepath = \"/home/james/src/datasets/NASDAQ_Yahoo_Finance/symbols_valid_meta.csv\""
   ]
  },
  {
   "cell_type": "code",
   "execution_count": 9,
   "id": "1fd04ffe-08dd-4311-bd03-9684eafb92d9",
   "metadata": {},
   "outputs": [],
   "source": [
    "nasdaq_symbols_meta_pd = pd.read_csv(nasdaq_meta_symbols_filepath)"
   ]
  },
  {
   "cell_type": "code",
   "execution_count": 10,
   "id": "0c08a337-19c7-479c-891e-01b4e7af5780",
   "metadata": {},
   "outputs": [
    {
     "data": {
      "text/html": [
       "<div>\n",
       "<style scoped>\n",
       "    .dataframe tbody tr th:only-of-type {\n",
       "        vertical-align: middle;\n",
       "    }\n",
       "\n",
       "    .dataframe tbody tr th {\n",
       "        vertical-align: top;\n",
       "    }\n",
       "\n",
       "    .dataframe thead th {\n",
       "        text-align: right;\n",
       "    }\n",
       "</style>\n",
       "<table border=\"1\" class=\"dataframe\">\n",
       "  <thead>\n",
       "    <tr style=\"text-align: right;\">\n",
       "      <th></th>\n",
       "      <th>Nasdaq Traded</th>\n",
       "      <th>Symbol</th>\n",
       "      <th>Security Name</th>\n",
       "      <th>Listing Exchange</th>\n",
       "      <th>Market Category</th>\n",
       "      <th>ETF</th>\n",
       "      <th>Round Lot Size</th>\n",
       "      <th>Test Issue</th>\n",
       "      <th>Financial Status</th>\n",
       "      <th>CQS Symbol</th>\n",
       "      <th>NASDAQ Symbol</th>\n",
       "      <th>NextShares</th>\n",
       "    </tr>\n",
       "  </thead>\n",
       "  <tbody>\n",
       "    <tr>\n",
       "      <th>0</th>\n",
       "      <td>Y</td>\n",
       "      <td>A</td>\n",
       "      <td>Agilent Technologies, Inc. Common Stock</td>\n",
       "      <td>N</td>\n",
       "      <td></td>\n",
       "      <td>N</td>\n",
       "      <td>100.0</td>\n",
       "      <td>N</td>\n",
       "      <td>NaN</td>\n",
       "      <td>A</td>\n",
       "      <td>A</td>\n",
       "      <td>N</td>\n",
       "    </tr>\n",
       "    <tr>\n",
       "      <th>1</th>\n",
       "      <td>Y</td>\n",
       "      <td>AA</td>\n",
       "      <td>Alcoa Corporation Common Stock</td>\n",
       "      <td>N</td>\n",
       "      <td></td>\n",
       "      <td>N</td>\n",
       "      <td>100.0</td>\n",
       "      <td>N</td>\n",
       "      <td>NaN</td>\n",
       "      <td>AA</td>\n",
       "      <td>AA</td>\n",
       "      <td>N</td>\n",
       "    </tr>\n",
       "    <tr>\n",
       "      <th>2</th>\n",
       "      <td>Y</td>\n",
       "      <td>AAAU</td>\n",
       "      <td>Perth Mint Physical Gold ETF</td>\n",
       "      <td>P</td>\n",
       "      <td></td>\n",
       "      <td>Y</td>\n",
       "      <td>100.0</td>\n",
       "      <td>N</td>\n",
       "      <td>NaN</td>\n",
       "      <td>AAAU</td>\n",
       "      <td>AAAU</td>\n",
       "      <td>N</td>\n",
       "    </tr>\n",
       "    <tr>\n",
       "      <th>3</th>\n",
       "      <td>Y</td>\n",
       "      <td>AACG</td>\n",
       "      <td>ATA Creativity Global - American Depositary Sh...</td>\n",
       "      <td>Q</td>\n",
       "      <td>G</td>\n",
       "      <td>N</td>\n",
       "      <td>100.0</td>\n",
       "      <td>N</td>\n",
       "      <td>N</td>\n",
       "      <td>NaN</td>\n",
       "      <td>AACG</td>\n",
       "      <td>N</td>\n",
       "    </tr>\n",
       "    <tr>\n",
       "      <th>4</th>\n",
       "      <td>Y</td>\n",
       "      <td>AADR</td>\n",
       "      <td>AdvisorShares Dorsey Wright ADR ETF</td>\n",
       "      <td>P</td>\n",
       "      <td></td>\n",
       "      <td>Y</td>\n",
       "      <td>100.0</td>\n",
       "      <td>N</td>\n",
       "      <td>NaN</td>\n",
       "      <td>AADR</td>\n",
       "      <td>AADR</td>\n",
       "      <td>N</td>\n",
       "    </tr>\n",
       "  </tbody>\n",
       "</table>\n",
       "</div>"
      ],
      "text/plain": [
       "  Nasdaq Traded Symbol                                      Security Name  \\\n",
       "0             Y      A            Agilent Technologies, Inc. Common Stock   \n",
       "1             Y     AA                    Alcoa Corporation Common Stock    \n",
       "2             Y   AAAU                       Perth Mint Physical Gold ETF   \n",
       "3             Y   AACG  ATA Creativity Global - American Depositary Sh...   \n",
       "4             Y   AADR                AdvisorShares Dorsey Wright ADR ETF   \n",
       "\n",
       "  Listing Exchange Market Category ETF  Round Lot Size Test Issue  \\\n",
       "0                N                   N           100.0          N   \n",
       "1                N                   N           100.0          N   \n",
       "2                P                   Y           100.0          N   \n",
       "3                Q               G   N           100.0          N   \n",
       "4                P                   Y           100.0          N   \n",
       "\n",
       "  Financial Status CQS Symbol NASDAQ Symbol NextShares  \n",
       "0              NaN          A             A          N  \n",
       "1              NaN         AA            AA          N  \n",
       "2              NaN       AAAU          AAAU          N  \n",
       "3                N        NaN          AACG          N  \n",
       "4              NaN       AADR          AADR          N  "
      ]
     },
     "execution_count": 10,
     "metadata": {},
     "output_type": "execute_result"
    }
   ],
   "source": [
    "nasdaq_symbols_meta_pd.head()"
   ]
  },
  {
   "cell_type": "code",
   "execution_count": 11,
   "id": "80107d2e-a8bb-4209-a7f4-3d2847b745b6",
   "metadata": {},
   "outputs": [
    {
     "name": "stdout",
     "output_type": "stream",
     "text": [
      "<class 'pandas.core.frame.DataFrame'>\n",
      "RangeIndex: 8049 entries, 0 to 8048\n",
      "Data columns (total 12 columns):\n",
      " #   Column            Non-Null Count  Dtype  \n",
      "---  ------            --------------  -----  \n",
      " 0   Nasdaq Traded     8049 non-null   object \n",
      " 1   Symbol            8049 non-null   object \n",
      " 2   Security Name     8049 non-null   object \n",
      " 3   Listing Exchange  8049 non-null   object \n",
      " 4   Market Category   8049 non-null   object \n",
      " 5   ETF               8049 non-null   object \n",
      " 6   Round Lot Size    8049 non-null   float64\n",
      " 7   Test Issue        8049 non-null   object \n",
      " 8   Financial Status  3383 non-null   object \n",
      " 9   CQS Symbol        4666 non-null   object \n",
      " 10  NASDAQ Symbol     8049 non-null   object \n",
      " 11  NextShares        8049 non-null   object \n",
      "dtypes: float64(1), object(11)\n",
      "memory usage: 754.7+ KB\n"
     ]
    }
   ],
   "source": [
    "nasdaq_symbols_meta_pd.info()"
   ]
  },
  {
   "cell_type": "markdown",
   "id": "86a8c34b-0eb8-4694-b2d4-12283ce9c0f2",
   "metadata": {},
   "source": [
    "## Load NASDAQ Stock Data If Company Is In Metadata"
   ]
  },
  {
   "cell_type": "code",
   "execution_count": 12,
   "id": "19eda8ca-9595-42e0-a797-df49ef2fbadb",
   "metadata": {},
   "outputs": [],
   "source": [
    "stock_dir_path = \"/home/james/src/datasets/NASDAQ_Yahoo_Finance/stocks\""
   ]
  },
  {
   "cell_type": "code",
   "execution_count": 13,
   "id": "4738f384-f740-42b9-ad97-4a02d3c55f77",
   "metadata": {},
   "outputs": [],
   "source": [
    "symbol_name = \"GOOG\""
   ]
  },
  {
   "cell_type": "code",
   "execution_count": 14,
   "id": "df25d7ca-c498-4e6e-9386-65e25bddca67",
   "metadata": {},
   "outputs": [
    {
     "name": "stdout",
     "output_type": "stream",
     "text": [
      "GOOG is in NASDAQ Yahoo Finance Metadata, loading GOOG stock pd\n"
     ]
    }
   ],
   "source": [
    "if symbol_name in nasdaq_symbols_meta_pd[\"Symbol\"].tolist():\n",
    "    print(f\"{symbol_name} is in NASDAQ Yahoo Finance Metadata, loading GOOG stock pd\")\n",
    "    google_stock_data_pd = pd.read_csv(os.path.join(stock_dir_path, f\"{symbol_name}.csv\"))"
   ]
  },
  {
   "cell_type": "code",
   "execution_count": 15,
   "id": "487265b2-44fe-4080-b997-e9010c343f26",
   "metadata": {},
   "outputs": [
    {
     "data": {
      "text/html": [
       "<div>\n",
       "<style scoped>\n",
       "    .dataframe tbody tr th:only-of-type {\n",
       "        vertical-align: middle;\n",
       "    }\n",
       "\n",
       "    .dataframe tbody tr th {\n",
       "        vertical-align: top;\n",
       "    }\n",
       "\n",
       "    .dataframe thead th {\n",
       "        text-align: right;\n",
       "    }\n",
       "</style>\n",
       "<table border=\"1\" class=\"dataframe\">\n",
       "  <thead>\n",
       "    <tr style=\"text-align: right;\">\n",
       "      <th></th>\n",
       "      <th>Date</th>\n",
       "      <th>Open</th>\n",
       "      <th>High</th>\n",
       "      <th>Low</th>\n",
       "      <th>Close</th>\n",
       "      <th>Adj Close</th>\n",
       "      <th>Volume</th>\n",
       "    </tr>\n",
       "  </thead>\n",
       "  <tbody>\n",
       "    <tr>\n",
       "      <th>0</th>\n",
       "      <td>2004-08-19</td>\n",
       "      <td>49.813286</td>\n",
       "      <td>51.835709</td>\n",
       "      <td>47.800831</td>\n",
       "      <td>49.982655</td>\n",
       "      <td>49.982655</td>\n",
       "      <td>44871300</td>\n",
       "    </tr>\n",
       "    <tr>\n",
       "      <th>1</th>\n",
       "      <td>2004-08-20</td>\n",
       "      <td>50.316402</td>\n",
       "      <td>54.336334</td>\n",
       "      <td>50.062355</td>\n",
       "      <td>53.952770</td>\n",
       "      <td>53.952770</td>\n",
       "      <td>22942800</td>\n",
       "    </tr>\n",
       "    <tr>\n",
       "      <th>2</th>\n",
       "      <td>2004-08-23</td>\n",
       "      <td>55.168217</td>\n",
       "      <td>56.528118</td>\n",
       "      <td>54.321388</td>\n",
       "      <td>54.495735</td>\n",
       "      <td>54.495735</td>\n",
       "      <td>18342800</td>\n",
       "    </tr>\n",
       "    <tr>\n",
       "      <th>3</th>\n",
       "      <td>2004-08-24</td>\n",
       "      <td>55.412300</td>\n",
       "      <td>55.591629</td>\n",
       "      <td>51.591621</td>\n",
       "      <td>52.239193</td>\n",
       "      <td>52.239193</td>\n",
       "      <td>15319700</td>\n",
       "    </tr>\n",
       "    <tr>\n",
       "      <th>4</th>\n",
       "      <td>2004-08-25</td>\n",
       "      <td>52.284027</td>\n",
       "      <td>53.798351</td>\n",
       "      <td>51.746044</td>\n",
       "      <td>52.802086</td>\n",
       "      <td>52.802086</td>\n",
       "      <td>9232100</td>\n",
       "    </tr>\n",
       "  </tbody>\n",
       "</table>\n",
       "</div>"
      ],
      "text/plain": [
       "         Date       Open       High        Low      Close  Adj Close    Volume\n",
       "0  2004-08-19  49.813286  51.835709  47.800831  49.982655  49.982655  44871300\n",
       "1  2004-08-20  50.316402  54.336334  50.062355  53.952770  53.952770  22942800\n",
       "2  2004-08-23  55.168217  56.528118  54.321388  54.495735  54.495735  18342800\n",
       "3  2004-08-24  55.412300  55.591629  51.591621  52.239193  52.239193  15319700\n",
       "4  2004-08-25  52.284027  53.798351  51.746044  52.802086  52.802086   9232100"
      ]
     },
     "execution_count": 15,
     "metadata": {},
     "output_type": "execute_result"
    }
   ],
   "source": [
    "google_stock_data_pd.head()"
   ]
  },
  {
   "cell_type": "code",
   "execution_count": 16,
   "id": "110be783-2b49-4799-a52a-59ee3af4c5bc",
   "metadata": {},
   "outputs": [
    {
     "name": "stdout",
     "output_type": "stream",
     "text": [
      "<class 'pandas.core.frame.DataFrame'>\n",
      "RangeIndex: 3932 entries, 0 to 3931\n",
      "Data columns (total 7 columns):\n",
      " #   Column     Non-Null Count  Dtype  \n",
      "---  ------     --------------  -----  \n",
      " 0   Date       3932 non-null   object \n",
      " 1   Open       3932 non-null   float64\n",
      " 2   High       3932 non-null   float64\n",
      " 3   Low        3932 non-null   float64\n",
      " 4   Close      3932 non-null   float64\n",
      " 5   Adj Close  3932 non-null   float64\n",
      " 6   Volume     3932 non-null   int64  \n",
      "dtypes: float64(5), int64(1), object(1)\n",
      "memory usage: 215.2+ KB\n"
     ]
    }
   ],
   "source": [
    "google_stock_data_pd.info()"
   ]
  },
  {
   "cell_type": "markdown",
   "id": "0b380a94-72dd-49c3-92d4-88216ba1bdda",
   "metadata": {},
   "source": [
    "## Create Moving Average Stock Across 100 Days\n",
    "\n",
    "We'll create moving average stock across 100 days"
   ]
  },
  {
   "cell_type": "code",
   "execution_count": 17,
   "id": "ea232567-b82c-4beb-86e7-e4645739cc0a",
   "metadata": {},
   "outputs": [],
   "source": [
    "num_days = 100"
   ]
  },
  {
   "cell_type": "code",
   "execution_count": 18,
   "id": "324231e2-e721-4c7a-9f5d-e6a47d97ab03",
   "metadata": {},
   "outputs": [],
   "source": [
    "mavg_100_days = google_stock_data_pd.Close.rolling(num_days).mean()"
   ]
  },
  {
   "cell_type": "markdown",
   "id": "8a9ad946-ba54-4f39-9dad-8c44f5624ebd",
   "metadata": {},
   "source": [
    "### Plot Moving Average vs Close Price"
   ]
  },
  {
   "cell_type": "code",
   "execution_count": 19,
   "id": "2f50cdb0-22d6-4e61-a1b1-49a176d3db94",
   "metadata": {},
   "outputs": [
    {
     "data": {
      "image/png": "[encoded data removed]",
      "text/plain": [
       "<Figure size 800x600 with 1 Axes>"
      ]
     },
     "metadata": {},
     "output_type": "display_data"
    }
   ],
   "source": [
    "plt.figure(figsize=(8, 6))\n",
    "plt.plot(mavg_100_days, \"r\")\n",
    "plt.plot(google_stock_data_pd.Close, \"g\")\n",
    "plt.show()"
   ]
  },
  {
   "cell_type": "markdown",
   "id": "a365d14d-b238-402f-8a59-0ec8ca984d0b",
   "metadata": {},
   "source": [
    "## Create Moving Average Stock Across 200 Days"
   ]
  },
  {
   "cell_type": "code",
   "execution_count": 20,
   "id": "688ae976-fc77-4724-b512-2c9efef0a2cb",
   "metadata": {},
   "outputs": [],
   "source": [
    "num_days = 200\n",
    "mavg_200_days = google_stock_data_pd.Close.rolling(num_days).mean()"
   ]
  },
  {
   "cell_type": "code",
   "execution_count": 21,
   "id": "6dc47912-1ae3-4a96-943b-644563a81654",
   "metadata": {},
   "outputs": [
    {
     "data": {
      "image/png": "[encoded data removed]",
      "text/plain": [
       "<Figure size 800x600 with 1 Axes>"
      ]
     },
     "metadata": {},
     "output_type": "display_data"
    }
   ],
   "source": [
    "plt.figure(figsize=(8,6))\n",
    "plt.plot(mavg_100_days, \"r\")\n",
    "plt.plot(mavg_200_days, \"b\")\n",
    "plt.plot(google_stock_data_pd.Close, \"g\")\n",
    "plt.show()"
   ]
  },
  {
   "cell_type": "markdown",
   "id": "6ffd4a53-b804-4bd0-8edb-8d2fe769d84d",
   "metadata": {},
   "source": [
    "## Clean NAs from Stock Data\n",
    "\n",
    "Double check how to find number of NAs"
   ]
  },
  {
   "cell_type": "code",
   "execution_count": 22,
   "id": "79ea643d-3436-461d-836d-5f96ba08348e",
   "metadata": {},
   "outputs": [],
   "source": [
    "google_stock_data_pd.dropna(inplace=True)"
   ]
  },
  {
   "cell_type": "markdown",
   "id": "f293a387-dd56-41a9-a815-4653322d937f",
   "metadata": {},
   "source": [
    "## Filter for Date & Close Price"
   ]
  },
  {
   "cell_type": "code",
   "execution_count": 23,
   "id": "8ebf237b-3bc9-4660-b28b-2dcf15826728",
   "metadata": {},
   "outputs": [],
   "source": [
    "google_stock_date_close_pd = google_stock_data_pd[[\"Date\", \"Close\"]]"
   ]
  },
  {
   "cell_type": "code",
   "execution_count": 24,
   "id": "3800ed91-222b-43fb-ac54-561275e1fd24",
   "metadata": {},
   "outputs": [
    {
     "data": {
      "text/html": [
       "<div>\n",
       "<style scoped>\n",
       "    .dataframe tbody tr th:only-of-type {\n",
       "        vertical-align: middle;\n",
       "    }\n",
       "\n",
       "    .dataframe tbody tr th {\n",
       "        vertical-align: top;\n",
       "    }\n",
       "\n",
       "    .dataframe thead th {\n",
       "        text-align: right;\n",
       "    }\n",
       "</style>\n",
       "<table border=\"1\" class=\"dataframe\">\n",
       "  <thead>\n",
       "    <tr style=\"text-align: right;\">\n",
       "      <th></th>\n",
       "      <th>Date</th>\n",
       "      <th>Close</th>\n",
       "    </tr>\n",
       "  </thead>\n",
       "  <tbody>\n",
       "    <tr>\n",
       "      <th>0</th>\n",
       "      <td>2004-08-19</td>\n",
       "      <td>49.982655</td>\n",
       "    </tr>\n",
       "    <tr>\n",
       "      <th>1</th>\n",
       "      <td>2004-08-20</td>\n",
       "      <td>53.952770</td>\n",
       "    </tr>\n",
       "    <tr>\n",
       "      <th>2</th>\n",
       "      <td>2004-08-23</td>\n",
       "      <td>54.495735</td>\n",
       "    </tr>\n",
       "    <tr>\n",
       "      <th>3</th>\n",
       "      <td>2004-08-24</td>\n",
       "      <td>52.239193</td>\n",
       "    </tr>\n",
       "    <tr>\n",
       "      <th>4</th>\n",
       "      <td>2004-08-25</td>\n",
       "      <td>52.802086</td>\n",
       "    </tr>\n",
       "    <tr>\n",
       "      <th>...</th>\n",
       "      <td>...</td>\n",
       "      <td>...</td>\n",
       "    </tr>\n",
       "    <tr>\n",
       "      <th>3927</th>\n",
       "      <td>2020-03-26</td>\n",
       "      <td>1161.750000</td>\n",
       "    </tr>\n",
       "    <tr>\n",
       "      <th>3928</th>\n",
       "      <td>2020-03-27</td>\n",
       "      <td>1110.709961</td>\n",
       "    </tr>\n",
       "    <tr>\n",
       "      <th>3929</th>\n",
       "      <td>2020-03-30</td>\n",
       "      <td>1146.819946</td>\n",
       "    </tr>\n",
       "    <tr>\n",
       "      <th>3930</th>\n",
       "      <td>2020-03-31</td>\n",
       "      <td>1162.810059</td>\n",
       "    </tr>\n",
       "    <tr>\n",
       "      <th>3931</th>\n",
       "      <td>2020-04-01</td>\n",
       "      <td>1105.619995</td>\n",
       "    </tr>\n",
       "  </tbody>\n",
       "</table>\n",
       "<p>3932 rows × 2 columns</p>\n",
       "</div>"
      ],
      "text/plain": [
       "            Date        Close\n",
       "0     2004-08-19    49.982655\n",
       "1     2004-08-20    53.952770\n",
       "2     2004-08-23    54.495735\n",
       "3     2004-08-24    52.239193\n",
       "4     2004-08-25    52.802086\n",
       "...          ...          ...\n",
       "3927  2020-03-26  1161.750000\n",
       "3928  2020-03-27  1110.709961\n",
       "3929  2020-03-30  1146.819946\n",
       "3930  2020-03-31  1162.810059\n",
       "3931  2020-04-01  1105.619995\n",
       "\n",
       "[3932 rows x 2 columns]"
      ]
     },
     "execution_count": 24,
     "metadata": {},
     "output_type": "execute_result"
    }
   ],
   "source": [
    "google_stock_date_close_pd"
   ]
  },
  {
   "cell_type": "markdown",
   "id": "386fd839-ea29-486c-b61a-df9c9ff7df66",
   "metadata": {},
   "source": [
    "## Plot Date as PD Date Type"
   ]
  },
  {
   "cell_type": "code",
   "execution_count": 25,
   "id": "abb81064-644c-4e64-97bb-ae26dd0bee4d",
   "metadata": {},
   "outputs": [
    {
     "name": "stderr",
     "output_type": "stream",
     "text": [
      "/tmp/ipykernel_24853/636717400.py:1: SettingWithCopyWarning: \n",
      "A value is trying to be set on a copy of a slice from a DataFrame.\n",
      "Try using .loc[row_indexer,col_indexer] = value instead\n",
      "\n",
      "See the caveats in the documentation: https://pandas.pydata.org/pandas-docs/stable/user_guide/indexing.html#returning-a-view-versus-a-copy\n",
      "  google_stock_date_close_pd[\"Date\"] = pd.to_datetime(google_stock_date_close_pd[\"Date\"])\n"
     ]
    },
    {
     "data": {
      "text/plain": [
       "[<matplotlib.lines.Line2D at 0x7fd0919125b0>]"
      ]
     },
     "execution_count": 25,
     "metadata": {},
     "output_type": "execute_result"
    },
    {
     "data": {
      "image/png": "[encoded data removed]",
      "text/plain": [
       "<Figure size 640x480 with 1 Axes>"
      ]
     },
     "metadata": {},
     "output_type": "display_data"
    }
   ],
   "source": [
    "google_stock_date_close_pd[\"Date\"] = pd.to_datetime(google_stock_date_close_pd[\"Date\"])\n",
    "\n",
    "plt.plot(google_stock_date_close_pd[\"Date\"], google_stock_date_close_pd[\"Close\"])"
   ]
  },
  {
   "cell_type": "code",
   "execution_count": 26,
   "id": "b03316ab-7038-48f3-a68e-a81d476bfee9",
   "metadata": {},
   "outputs": [],
   "source": [
    "nifi_pipeline = DataPrepPipeline()"
   ]
  },
  {
   "cell_type": "code",
   "execution_count": 27,
   "id": "b11bb093-4b37-499e-bd26-c2b088bc6568",
   "metadata": {},
   "outputs": [],
   "source": [
    "# number of days we're tracking for the features with respect to the 8th day we're predicting\n",
    "lookback = 7"
   ]
  },
  {
   "cell_type": "code",
   "execution_count": 28,
   "id": "48642062-f5db-4add-b10c-fd4743322d09",
   "metadata": {},
   "outputs": [],
   "source": [
    "google_stock_fets_labels_df = nifi_pipeline.prepare_df_for_lstm(google_stock_date_close_pd, n_steps=lookback)"
   ]
  },
  {
   "cell_type": "code",
   "execution_count": 29,
   "id": "f5a45da5-70ee-456c-96dd-c4050096d4a0",
   "metadata": {},
   "outputs": [
    {
     "data": {
      "text/html": [
       "<div>\n",
       "<style scoped>\n",
       "    .dataframe tbody tr th:only-of-type {\n",
       "        vertical-align: middle;\n",
       "    }\n",
       "\n",
       "    .dataframe tbody tr th {\n",
       "        vertical-align: top;\n",
       "    }\n",
       "\n",
       "    .dataframe thead th {\n",
       "        text-align: right;\n",
       "    }\n",
       "</style>\n",
       "<table border=\"1\" class=\"dataframe\">\n",
       "  <thead>\n",
       "    <tr style=\"text-align: right;\">\n",
       "      <th></th>\n",
       "      <th>Close</th>\n",
       "      <th>Close(t-1)</th>\n",
       "      <th>Close(t-2)</th>\n",
       "      <th>Close(t-3)</th>\n",
       "      <th>Close(t-4)</th>\n",
       "      <th>Close(t-5)</th>\n",
       "      <th>Close(t-6)</th>\n",
       "      <th>Close(t-7)</th>\n",
       "    </tr>\n",
       "    <tr>\n",
       "      <th>Date</th>\n",
       "      <th></th>\n",
       "      <th></th>\n",
       "      <th></th>\n",
       "      <th></th>\n",
       "      <th></th>\n",
       "      <th></th>\n",
       "      <th></th>\n",
       "      <th></th>\n",
       "    </tr>\n",
       "  </thead>\n",
       "  <tbody>\n",
       "    <tr>\n",
       "      <th>2004-08-30</th>\n",
       "      <td>50.814533</td>\n",
       "      <td>52.876804</td>\n",
       "      <td>53.753517</td>\n",
       "      <td>52.802086</td>\n",
       "      <td>52.239193</td>\n",
       "      <td>54.495735</td>\n",
       "      <td>53.952770</td>\n",
       "      <td>49.982655</td>\n",
       "    </tr>\n",
       "    <tr>\n",
       "      <th>2004-08-31</th>\n",
       "      <td>50.993862</td>\n",
       "      <td>50.814533</td>\n",
       "      <td>52.876804</td>\n",
       "      <td>53.753517</td>\n",
       "      <td>52.802086</td>\n",
       "      <td>52.239193</td>\n",
       "      <td>54.495735</td>\n",
       "      <td>53.952770</td>\n",
       "    </tr>\n",
       "    <tr>\n",
       "      <th>2004-09-01</th>\n",
       "      <td>49.937820</td>\n",
       "      <td>50.993862</td>\n",
       "      <td>50.814533</td>\n",
       "      <td>52.876804</td>\n",
       "      <td>53.753517</td>\n",
       "      <td>52.802086</td>\n",
       "      <td>52.239193</td>\n",
       "      <td>54.495735</td>\n",
       "    </tr>\n",
       "    <tr>\n",
       "      <th>2004-09-02</th>\n",
       "      <td>50.565468</td>\n",
       "      <td>49.937820</td>\n",
       "      <td>50.993862</td>\n",
       "      <td>50.814533</td>\n",
       "      <td>52.876804</td>\n",
       "      <td>53.753517</td>\n",
       "      <td>52.802086</td>\n",
       "      <td>52.239193</td>\n",
       "    </tr>\n",
       "    <tr>\n",
       "      <th>2004-09-03</th>\n",
       "      <td>49.818268</td>\n",
       "      <td>50.565468</td>\n",
       "      <td>49.937820</td>\n",
       "      <td>50.993862</td>\n",
       "      <td>50.814533</td>\n",
       "      <td>52.876804</td>\n",
       "      <td>53.753517</td>\n",
       "      <td>52.802086</td>\n",
       "    </tr>\n",
       "    <tr>\n",
       "      <th>...</th>\n",
       "      <td>...</td>\n",
       "      <td>...</td>\n",
       "      <td>...</td>\n",
       "      <td>...</td>\n",
       "      <td>...</td>\n",
       "      <td>...</td>\n",
       "      <td>...</td>\n",
       "      <td>...</td>\n",
       "    </tr>\n",
       "    <tr>\n",
       "      <th>2020-03-26</th>\n",
       "      <td>1161.750000</td>\n",
       "      <td>1102.489990</td>\n",
       "      <td>1134.459961</td>\n",
       "      <td>1056.619995</td>\n",
       "      <td>1072.319946</td>\n",
       "      <td>1115.290039</td>\n",
       "      <td>1096.800049</td>\n",
       "      <td>1119.800049</td>\n",
       "    </tr>\n",
       "    <tr>\n",
       "      <th>2020-03-27</th>\n",
       "      <td>1110.709961</td>\n",
       "      <td>1161.750000</td>\n",
       "      <td>1102.489990</td>\n",
       "      <td>1134.459961</td>\n",
       "      <td>1056.619995</td>\n",
       "      <td>1072.319946</td>\n",
       "      <td>1115.290039</td>\n",
       "      <td>1096.800049</td>\n",
       "    </tr>\n",
       "    <tr>\n",
       "      <th>2020-03-30</th>\n",
       "      <td>1146.819946</td>\n",
       "      <td>1110.709961</td>\n",
       "      <td>1161.750000</td>\n",
       "      <td>1102.489990</td>\n",
       "      <td>1134.459961</td>\n",
       "      <td>1056.619995</td>\n",
       "      <td>1072.319946</td>\n",
       "      <td>1115.290039</td>\n",
       "    </tr>\n",
       "    <tr>\n",
       "      <th>2020-03-31</th>\n",
       "      <td>1162.810059</td>\n",
       "      <td>1146.819946</td>\n",
       "      <td>1110.709961</td>\n",
       "      <td>1161.750000</td>\n",
       "      <td>1102.489990</td>\n",
       "      <td>1134.459961</td>\n",
       "      <td>1056.619995</td>\n",
       "      <td>1072.319946</td>\n",
       "    </tr>\n",
       "    <tr>\n",
       "      <th>2020-04-01</th>\n",
       "      <td>1105.619995</td>\n",
       "      <td>1162.810059</td>\n",
       "      <td>1146.819946</td>\n",
       "      <td>1110.709961</td>\n",
       "      <td>1161.750000</td>\n",
       "      <td>1102.489990</td>\n",
       "      <td>1134.459961</td>\n",
       "      <td>1056.619995</td>\n",
       "    </tr>\n",
       "  </tbody>\n",
       "</table>\n",
       "<p>3925 rows × 8 columns</p>\n",
       "</div>"
      ],
      "text/plain": [
       "                  Close   Close(t-1)   Close(t-2)   Close(t-3)   Close(t-4)  \\\n",
       "Date                                                                          \n",
       "2004-08-30    50.814533    52.876804    53.753517    52.802086    52.239193   \n",
       "2004-08-31    50.993862    50.814533    52.876804    53.753517    52.802086   \n",
       "2004-09-01    49.937820    50.993862    50.814533    52.876804    53.753517   \n",
       "2004-09-02    50.565468    49.937820    50.993862    50.814533    52.876804   \n",
       "2004-09-03    49.818268    50.565468    49.937820    50.993862    50.814533   \n",
       "...                 ...          ...          ...          ...          ...   \n",
       "2020-03-26  1161.750000  1102.489990  1134.459961  1056.619995  1072.319946   \n",
       "2020-03-27  1110.709961  1161.750000  1102.489990  1134.459961  1056.619995   \n",
       "2020-03-30  1146.819946  1110.709961  1161.750000  1102.489990  1134.459961   \n",
       "2020-03-31  1162.810059  1146.819946  1110.709961  1161.750000  1102.489990   \n",
       "2020-04-01  1105.619995  1162.810059  1146.819946  1110.709961  1161.750000   \n",
       "\n",
       "             Close(t-5)   Close(t-6)   Close(t-7)  \n",
       "Date                                               \n",
       "2004-08-30    54.495735    53.952770    49.982655  \n",
       "2004-08-31    52.239193    54.495735    53.952770  \n",
       "2004-09-01    52.802086    52.239193    54.495735  \n",
       "2004-09-02    53.753517    52.802086    52.239193  \n",
       "2004-09-03    52.876804    53.753517    52.802086  \n",
       "...                 ...          ...          ...  \n",
       "2020-03-26  1115.290039  1096.800049  1119.800049  \n",
       "2020-03-27  1072.319946  1115.290039  1096.800049  \n",
       "2020-03-30  1056.619995  1072.319946  1115.290039  \n",
       "2020-03-31  1134.459961  1056.619995  1072.319946  \n",
       "2020-04-01  1102.489990  1134.459961  1056.619995  \n",
       "\n",
       "[3925 rows x 8 columns]"
      ]
     },
     "execution_count": 29,
     "metadata": {},
     "output_type": "execute_result"
    }
   ],
   "source": [
    "google_stock_fets_labels_df"
   ]
  },
  {
   "cell_type": "code",
   "execution_count": 93,
   "id": "f76e8b9b-1983-4f17-bc79-2db520007dbc",
   "metadata": {},
   "outputs": [
    {
     "ename": "KeyError",
     "evalue": "'Date'",
     "output_type": "error",
     "traceback": [
      "\u001b[0;31m---------------------------------------------------------------------------\u001b[0m",
      "\u001b[0;31mKeyError\u001b[0m                                  Traceback (most recent call last)",
      "File \u001b[0;32m~/miniconda3/envs/stroke_ai_torch/lib/python3.9/site-packages/pandas/core/indexes/base.py:3361\u001b[0m, in \u001b[0;36mIndex.get_loc\u001b[0;34m(self, key, method, tolerance)\u001b[0m\n\u001b[1;32m   3360\u001b[0m \u001b[38;5;28;01mtry\u001b[39;00m:\n\u001b[0;32m-> 3361\u001b[0m     \u001b[38;5;28;01mreturn\u001b[39;00m \u001b[38;5;28;43mself\u001b[39;49m\u001b[38;5;241;43m.\u001b[39;49m\u001b[43m_engine\u001b[49m\u001b[38;5;241;43m.\u001b[39;49m\u001b[43mget_loc\u001b[49m\u001b[43m(\u001b[49m\u001b[43mcasted_key\u001b[49m\u001b[43m)\u001b[49m\n\u001b[1;32m   3362\u001b[0m \u001b[38;5;28;01mexcept\u001b[39;00m \u001b[38;5;167;01mKeyError\u001b[39;00m \u001b[38;5;28;01mas\u001b[39;00m err:\n",
      "File \u001b[0;32m~/miniconda3/envs/stroke_ai_torch/lib/python3.9/site-packages/pandas/_libs/index.pyx:76\u001b[0m, in \u001b[0;36mpandas._libs.index.IndexEngine.get_loc\u001b[0;34m()\u001b[0m\n",
      "File \u001b[0;32m~/miniconda3/envs/stroke_ai_torch/lib/python3.9/site-packages/pandas/_libs/index.pyx:108\u001b[0m, in \u001b[0;36mpandas._libs.index.IndexEngine.get_loc\u001b[0;34m()\u001b[0m\n",
      "File \u001b[0;32mpandas/_libs/hashtable_class_helper.pxi:5198\u001b[0m, in \u001b[0;36mpandas._libs.hashtable.PyObjectHashTable.get_item\u001b[0;34m()\u001b[0m\n",
      "File \u001b[0;32mpandas/_libs/hashtable_class_helper.pxi:5206\u001b[0m, in \u001b[0;36mpandas._libs.hashtable.PyObjectHashTable.get_item\u001b[0;34m()\u001b[0m\n",
      "\u001b[0;31mKeyError\u001b[0m: 'Date'",
      "\nThe above exception was the direct cause of the following exception:\n",
      "\u001b[0;31mKeyError\u001b[0m                                  Traceback (most recent call last)",
      "Cell \u001b[0;32mIn[93], line 1\u001b[0m\n\u001b[0;32m----> 1\u001b[0m \u001b[43mgoogle_stock_fets_labels_df\u001b[49m\u001b[43m[\u001b[49m\u001b[38;5;124;43m\"\u001b[39;49m\u001b[38;5;124;43mDate\u001b[39;49m\u001b[38;5;124;43m\"\u001b[39;49m\u001b[43m]\u001b[49m\n",
      "File \u001b[0;32m~/miniconda3/envs/stroke_ai_torch/lib/python3.9/site-packages/pandas/core/frame.py:3458\u001b[0m, in \u001b[0;36mDataFrame.__getitem__\u001b[0;34m(self, key)\u001b[0m\n\u001b[1;32m   3456\u001b[0m \u001b[38;5;28;01mif\u001b[39;00m \u001b[38;5;28mself\u001b[39m\u001b[38;5;241m.\u001b[39mcolumns\u001b[38;5;241m.\u001b[39mnlevels \u001b[38;5;241m>\u001b[39m \u001b[38;5;241m1\u001b[39m:\n\u001b[1;32m   3457\u001b[0m     \u001b[38;5;28;01mreturn\u001b[39;00m \u001b[38;5;28mself\u001b[39m\u001b[38;5;241m.\u001b[39m_getitem_multilevel(key)\n\u001b[0;32m-> 3458\u001b[0m indexer \u001b[38;5;241m=\u001b[39m \u001b[38;5;28;43mself\u001b[39;49m\u001b[38;5;241;43m.\u001b[39;49m\u001b[43mcolumns\u001b[49m\u001b[38;5;241;43m.\u001b[39;49m\u001b[43mget_loc\u001b[49m\u001b[43m(\u001b[49m\u001b[43mkey\u001b[49m\u001b[43m)\u001b[49m\n\u001b[1;32m   3459\u001b[0m \u001b[38;5;28;01mif\u001b[39;00m is_integer(indexer):\n\u001b[1;32m   3460\u001b[0m     indexer \u001b[38;5;241m=\u001b[39m [indexer]\n",
      "File \u001b[0;32m~/miniconda3/envs/stroke_ai_torch/lib/python3.9/site-packages/pandas/core/indexes/base.py:3363\u001b[0m, in \u001b[0;36mIndex.get_loc\u001b[0;34m(self, key, method, tolerance)\u001b[0m\n\u001b[1;32m   3361\u001b[0m         \u001b[38;5;28;01mreturn\u001b[39;00m \u001b[38;5;28mself\u001b[39m\u001b[38;5;241m.\u001b[39m_engine\u001b[38;5;241m.\u001b[39mget_loc(casted_key)\n\u001b[1;32m   3362\u001b[0m     \u001b[38;5;28;01mexcept\u001b[39;00m \u001b[38;5;167;01mKeyError\u001b[39;00m \u001b[38;5;28;01mas\u001b[39;00m err:\n\u001b[0;32m-> 3363\u001b[0m         \u001b[38;5;28;01mraise\u001b[39;00m \u001b[38;5;167;01mKeyError\u001b[39;00m(key) \u001b[38;5;28;01mfrom\u001b[39;00m \u001b[38;5;21;01merr\u001b[39;00m\n\u001b[1;32m   3365\u001b[0m \u001b[38;5;28;01mif\u001b[39;00m is_scalar(key) \u001b[38;5;129;01mand\u001b[39;00m isna(key) \u001b[38;5;129;01mand\u001b[39;00m \u001b[38;5;129;01mnot\u001b[39;00m \u001b[38;5;28mself\u001b[39m\u001b[38;5;241m.\u001b[39mhasnans:\n\u001b[1;32m   3366\u001b[0m     \u001b[38;5;28;01mraise\u001b[39;00m \u001b[38;5;167;01mKeyError\u001b[39;00m(key)\n",
      "\u001b[0;31mKeyError\u001b[0m: 'Date'"
     ]
    }
   ],
   "source": [
    "google_stock_fets_labels_df[\"Date\"]"
   ]
  },
  {
   "cell_type": "markdown",
   "id": "114a9cb8-32fa-43c6-896a-d2804da5d755",
   "metadata": {},
   "source": [
    "## Scale Features On (-1, 1) via MinMaxScaler\n",
    "\n",
    "Scale training data between 0 and 1"
   ]
  },
  {
   "cell_type": "code",
   "execution_count": 30,
   "id": "afee6837-9e5d-4c2a-b3b3-b73895d1edf0",
   "metadata": {},
   "outputs": [],
   "source": [
    "scaler = MinMaxScaler(feature_range=(-1,1))"
   ]
  },
  {
   "cell_type": "code",
   "execution_count": 31,
   "id": "01553201-0e38-4edf-a8a9-8840e10f9ed5",
   "metadata": {},
   "outputs": [],
   "source": [
    "google_stock_fets_labels_df_scale = scaler.fit_transform(google_stock_fets_labels_df)"
   ]
  },
  {
   "cell_type": "code",
   "execution_count": 32,
   "id": "75b9b608-1c7e-4069-9a14-a99fa62f3747",
   "metadata": {},
   "outputs": [
    {
     "data": {
      "text/plain": [
       "array([[-0.99865084, -0.99585809, -0.99467083, ..., -0.99366571,\n",
       "        -0.994401  , -0.99977739],\n",
       "       [-0.99840799, -0.99865084, -0.99585809, ..., -0.99672155,\n",
       "        -0.99366571, -0.994401  ],\n",
       "       [-0.9998381 , -0.99840799, -0.99865084, ..., -0.99595927,\n",
       "        -0.99672155, -0.99366571],\n",
       "       ...,\n",
       "       [ 0.48557481,  0.43667417,  0.5057933 , ...,  0.36342479,\n",
       "         0.38468588,  0.44287658],\n",
       "       [ 0.50722884,  0.48557481,  0.43667417, ...,  0.46883675,\n",
       "         0.36342479,  0.38468588],\n",
       "       [ 0.42978127,  0.50722884,  0.48557481, ...,  0.42554257,\n",
       "         0.46883675,  0.36342479]])"
      ]
     },
     "execution_count": 32,
     "metadata": {},
     "output_type": "execute_result"
    }
   ],
   "source": [
    "google_stock_fets_labels_df_scale"
   ]
  },
  {
   "cell_type": "code",
   "execution_count": 33,
   "id": "233c3958-4742-48ff-8dda-febfdb3fab5e",
   "metadata": {},
   "outputs": [
    {
     "name": "stdout",
     "output_type": "stream",
     "text": [
      "x_features shape = (3925, 7); y_labels shape = (3925,)\n"
     ]
    }
   ],
   "source": [
    "x_stock_fets_list, y_stock_labels_list = nifi_pipeline.split_features_labels(google_stock_fets_labels_df_scale)"
   ]
  },
  {
   "cell_type": "markdown",
   "id": "564ceeca-0edb-4fe8-a588-30ae03950fa7",
   "metadata": {},
   "source": [
    "## Split Stock 60% for Train, 20% for Valid & 20% for Test"
   ]
  },
  {
   "cell_type": "code",
   "execution_count": 34,
   "id": "a52ef44c-07d3-411f-8d14-c9903ab185cf",
   "metadata": {},
   "outputs": [],
   "source": [
    "train_ratio = 0.60\n",
    "valid_ratio = 0.20 + train_ratio # 0.80\n",
    "test_ratio = 0.20"
   ]
  },
  {
   "cell_type": "code",
   "execution_count": 35,
   "id": "526ca269-a5d8-47c7-8109-96f5d4f4f620",
   "metadata": {},
   "outputs": [
    {
     "data": {
      "text/plain": [
       "2355"
      ]
     },
     "execution_count": 35,
     "metadata": {},
     "output_type": "execute_result"
    }
   ],
   "source": [
    "train_split_index = int(len(x_stock_fets_list) * train_ratio)\n",
    "train_split_index"
   ]
  },
  {
   "cell_type": "code",
   "execution_count": 36,
   "id": "f97c7a02-0e13-484e-8413-37fc374c738f",
   "metadata": {},
   "outputs": [
    {
     "data": {
      "text/plain": [
       "3140"
      ]
     },
     "execution_count": 36,
     "metadata": {},
     "output_type": "execute_result"
    }
   ],
   "source": [
    "valid_split_index = int(len(x_stock_fets_list)*valid_ratio)\n",
    "valid_split_index"
   ]
  },
  {
   "cell_type": "code",
   "execution_count": 37,
   "id": "92752c5c-d3a3-46a7-96ed-58a2fd50881d",
   "metadata": {},
   "outputs": [
    {
     "data": {
      "text/plain": [
       "3925"
      ]
     },
     "execution_count": 37,
     "metadata": {},
     "output_type": "execute_result"
    }
   ],
   "source": [
    "test_split_index = len(x_stock_fets_list)\n",
    "test_split_index"
   ]
  },
  {
   "cell_type": "code",
   "execution_count": 38,
   "id": "22d5de8f-6b96-4303-aff0-168255fbe153",
   "metadata": {},
   "outputs": [],
   "source": [
    "# 60% for training features: 0 to 60%\n",
    "X_google_stock_train = x_stock_fets_list[0: train_split_index]\n",
    "\n",
    "# 20% for validation features: 60% to 80%\n",
    "X_google_stock_valid = x_stock_fets_list[train_split_index: valid_split_index]\n",
    "\n",
    "# 20% for testing features\n",
    "X_google_stock_test = x_stock_fets_list[valid_split_index: test_split_index]\n",
    "\n",
    "\n",
    "y_google_stock_train = y_stock_labels_list[0: train_split_index]\n",
    "\n",
    "y_google_stock_valid = y_stock_labels_list[train_split_index: valid_split_index]\n",
    "\n",
    "y_google_stock_test = y_stock_labels_list[valid_split_index: test_split_index]"
   ]
  },
  {
   "cell_type": "code",
   "execution_count": 39,
   "id": "30dcde80-8f72-4030-b536-21ed8b196a89",
   "metadata": {},
   "outputs": [],
   "source": [
    "# google_stock_train_date = pd.DataFrame(google_stock_data_pd.Date[0: int(len(google_stock_data_pd)*0.80)])\n",
    "# google_stock_test_date = pd.DataFrame(google_stock_data_pd.Date[int(len(google_stock_data_pd)*0.80): len(google_stock_data_pd)])"
   ]
  },
  {
   "cell_type": "code",
   "execution_count": 40,
   "id": "1cb8877c-7a61-404c-b3b7-4149f485ad0a",
   "metadata": {},
   "outputs": [],
   "source": [
    "# google_stock_test_date.shape"
   ]
  },
  {
   "cell_type": "code",
   "execution_count": 41,
   "id": "78f3e85e-3634-44d5-a8f0-98b3bdc5df82",
   "metadata": {},
   "outputs": [],
   "source": [
    "# print(google_stock_test_date.Date.iloc[0])"
   ]
  },
  {
   "cell_type": "code",
   "execution_count": 42,
   "id": "7dbefa16-0f4a-4c64-80dc-0207adddf9e7",
   "metadata": {},
   "outputs": [
    {
     "name": "stdout",
     "output_type": "stream",
     "text": [
      "stock_train X shape = (2355, 7); stock_train y shape =  (2355,)\n"
     ]
    }
   ],
   "source": [
    "# We dont see 100 since back at google_stock_train, we havent yet split features from labels\n",
    "print(f\"stock_train X shape = {X_google_stock_train.shape}; stock_train y shape =  {y_google_stock_train.shape}\")"
   ]
  },
  {
   "cell_type": "code",
   "execution_count": 43,
   "id": "d357fd82-567d-41f5-a7d6-c7187c889d8a",
   "metadata": {},
   "outputs": [
    {
     "name": "stdout",
     "output_type": "stream",
     "text": [
      "stock_valid X shape = (785, 7); stock_valid y shape =  (785,)\n"
     ]
    }
   ],
   "source": [
    "print(f\"stock_valid X shape = {X_google_stock_valid.shape}; stock_valid y shape =  {y_google_stock_valid.shape}\")"
   ]
  },
  {
   "cell_type": "code",
   "execution_count": 44,
   "id": "844aa47a-fbae-4f81-bcb0-c6f278e44bd0",
   "metadata": {},
   "outputs": [
    {
     "name": "stdout",
     "output_type": "stream",
     "text": [
      "stock_test X shape = (785, 7); stock_test y shape =  (785,)\n"
     ]
    }
   ],
   "source": [
    "print(f\"stock_test X shape = {X_google_stock_test.shape}; stock_test y shape =  {y_google_stock_test.shape}\")"
   ]
  },
  {
   "cell_type": "code",
   "execution_count": 45,
   "id": "5d9bbdcf-36c0-425e-a831-9481fbfa92aa",
   "metadata": {},
   "outputs": [
    {
     "data": {
      "text/plain": [
       "array([[0.04862422, 0.04160941, 0.04360014, 0.04196151, 0.03441853,\n",
       "        0.02885273, 0.02725477],\n",
       "       [0.05391924, 0.04862422, 0.04160941, 0.04360014, 0.04196151,\n",
       "        0.03441853, 0.02885273],\n",
       "       [0.05878083, 0.05391924, 0.04862422, 0.04160941, 0.04360014,\n",
       "        0.04196151, 0.03441853],\n",
       "       [0.05756208, 0.05878083, 0.05391924, 0.04862422, 0.04160941,\n",
       "        0.04360014, 0.04196151],\n",
       "       [0.058334  , 0.05756208, 0.05878083, 0.05391924, 0.04862422,\n",
       "        0.04160941, 0.04360014]])"
      ]
     },
     "execution_count": 45,
     "metadata": {},
     "output_type": "execute_result"
    }
   ],
   "source": [
    "X_google_stock_test[:5]"
   ]
  },
  {
   "cell_type": "code",
   "execution_count": 46,
   "id": "2ea562ab-49c3-4da3-8a8a-ba7f5ec3e09d",
   "metadata": {},
   "outputs": [],
   "source": [
    "# taken last 100 days from training set\n",
    "# google_stock_train_pas_100_days = google_stock_train.tail(100)"
   ]
  },
  {
   "cell_type": "code",
   "execution_count": 47,
   "id": "cb53d787-3693-4989-83f2-9acd5005fd20",
   "metadata": {},
   "outputs": [],
   "source": [
    "# google_stock_test = pd.concat([google_stock_train_pas_100_days, google_stock_test],\n",
    "#                                ignore_index=True)"
   ]
  },
  {
   "cell_type": "code",
   "execution_count": 48,
   "id": "431e5688-be51-4ec9-953f-b6498e1fbe0e",
   "metadata": {},
   "outputs": [],
   "source": [
    "# google_stock_test"
   ]
  },
  {
   "cell_type": "code",
   "execution_count": 49,
   "id": "30ff6ac4-5ba4-4f66-baf3-5d5cee59dffd",
   "metadata": {},
   "outputs": [
    {
     "name": "stdout",
     "output_type": "stream",
     "text": [
      "len(x_stock_fets_list) = 3925\n",
      "total google stock on splits = 3925\n"
     ]
    }
   ],
   "source": [
    "print(f\"len(x_stock_fets_list) = {len(x_stock_fets_list)}\")\n",
    "print(f\"total google stock on splits = {X_google_stock_train.shape[0] + X_google_stock_valid.shape[0] + X_google_stock_test.shape[0]}\")"
   ]
  },
  {
   "cell_type": "markdown",
   "id": "b4f6cec6-fad3-4ece-9023-50f25721b597",
   "metadata": {},
   "source": [
    "## Add Extra Dimension for LSTM Prep\n",
    "\n",
    "Add an extra dimension to X stock training, validation and testing sets accounting for lookback.\n",
    "Add an extra dimension to y stock training, validation and testing sets."
   ]
  },
  {
   "cell_type": "code",
   "execution_count": 50,
   "id": "b3efd5fb-82d8-4eb9-800a-31da6a8806b5",
   "metadata": {},
   "outputs": [],
   "source": [
    "X_google_stock_train = X_google_stock_train.reshape( (-1, lookback, 1) )\n",
    "X_google_stock_valid = X_google_stock_valid.reshape( (-1, lookback, 1) )\n",
    "X_google_stock_test = X_google_stock_test.reshape( (-1, lookback, 1) )\n",
    "\n",
    "y_google_stock_train = y_google_stock_train.reshape( (-1, 1) )\n",
    "y_google_stock_valid = y_google_stock_valid.reshape( (-1, 1) )\n",
    "y_google_stock_test = y_google_stock_test.reshape( (-1, 1) )"
   ]
  },
  {
   "cell_type": "code",
   "execution_count": 51,
   "id": "93691edd-1fd4-4305-ade5-e459c35fd0f7",
   "metadata": {},
   "outputs": [
    {
     "name": "stdout",
     "output_type": "stream",
     "text": [
      "stock_train X shape = (2355, 7, 1); stock_train y shape =  (2355, 1)\n",
      "stock_valid X shape = (785, 7, 1); stock_valid y shape =  (785, 1)\n",
      "stock_test X shape = (785, 7, 1); stock_test y shape =  (785, 1)\n"
     ]
    }
   ],
   "source": [
    "print(f\"stock_train X shape = {X_google_stock_train.shape}; stock_train y shape =  {y_google_stock_train.shape}\")\n",
    "print(f\"stock_valid X shape = {X_google_stock_valid.shape}; stock_valid y shape =  {y_google_stock_valid.shape}\")\n",
    "print(f\"stock_test X shape = {X_google_stock_test.shape}; stock_test y shape =  {y_google_stock_test.shape}\")"
   ]
  },
  {
   "cell_type": "markdown",
   "id": "a4a5452c-1aa4-4821-a8fb-398f2e069ef2",
   "metadata": {},
   "source": [
    "## Create PyTorch Nasdaq Dataset (Train, Valid, Test)"
   ]
  },
  {
   "cell_type": "code",
   "execution_count": 52,
   "id": "f79eb6f7-27a4-4bb4-b35f-6e62f5eeaa36",
   "metadata": {},
   "outputs": [],
   "source": [
    "class NasdaqTimeSeriesDataset(torch.utils.data.Dataset):\n",
    "    def __init__(self, stock_close_price_fets, stock_close_price_labels):\n",
    "        self.stock_close_price_fets_ = stock_close_price_fets\n",
    "        self.stock_close_price_labels_ = stock_close_price_labels\n",
    "        self.count_ = 0\n",
    "\n",
    "    def __len__(self):\n",
    "        return len(self.stock_close_price_fets_)\n",
    "\n",
    "    def __getitem__(self, idx):\n",
    "        if DEBUG and self.count_ == 0:\n",
    "            print(f\"NasdaqDataset __getitem__ idx = {idx}\")\n",
    "        # each array holds 100 days of closing prices\n",
    "        closing_price_features = self.stock_close_price_fets_[idx]\n",
    "        closing_price_features_tensor = torch.tensor(closing_price_features).float()\n",
    "\n",
    "        if DEBUG and self.count_ == 0:\n",
    "            print(f\"closing_price_features_tensor.shape = {closing_price_features_tensor.shape}\")\n",
    "        \n",
    "        closing_price_labels = self.stock_close_price_labels_[idx]\n",
    "        closing_price_labels_tensor = torch.tensor(closing_price_labels).float()\n",
    "\n",
    "        if DEBUG and self.count_ == 0:\n",
    "            print(f\"closing_price_labels_tensor.shape = {closing_price_labels_tensor.shape}\")\n",
    "\n",
    "        self.count_ += 1\n",
    "        \n",
    "        return closing_price_features_tensor, closing_price_labels_tensor"
   ]
  },
  {
   "cell_type": "code",
   "execution_count": 53,
   "id": "496b55eb-f2fe-4a8f-8d13-5038b878abfc",
   "metadata": {},
   "outputs": [],
   "source": [
    "# x_train_fets_array, y_train_labels_array = np.array(x_train_fets_list), np.array(y_train_labels_list)\n",
    "# x_valid_fets_array, y_valid_labels_array = np.array(x_valid_fets_list), np.array(y_valid_labels_list)\n",
    "# x_test_fets_array, y_test_labels_array = np.array(x_test_fets_list), np.array(y_test_labels_list)"
   ]
  },
  {
   "cell_type": "code",
   "execution_count": 54,
   "id": "a1fc880d-07ea-4e46-b29f-905f58b275a5",
   "metadata": {},
   "outputs": [],
   "source": [
    "stock_train_dataset = NasdaqTimeSeriesDataset(X_google_stock_train, y_google_stock_train)"
   ]
  },
  {
   "cell_type": "code",
   "execution_count": 55,
   "id": "fa8e5d75-9b36-42af-a1b9-297b5d821af4",
   "metadata": {},
   "outputs": [],
   "source": [
    "stock_valid_dataset = NasdaqTimeSeriesDataset(X_google_stock_valid, y_google_stock_valid)"
   ]
  },
  {
   "cell_type": "code",
   "execution_count": 56,
   "id": "94a50dbf-3470-4072-b944-29374d9272a8",
   "metadata": {},
   "outputs": [],
   "source": [
    "stock_test_dataset = NasdaqTimeSeriesDataset(X_google_stock_test, y_google_stock_test)"
   ]
  },
  {
   "cell_type": "markdown",
   "id": "281d2cc6-81ab-4ad0-a7f6-840cbbf01499",
   "metadata": {},
   "source": [
    "## Create PyTorch Nasdaq DataLoader (Train, Test)"
   ]
  },
  {
   "cell_type": "code",
   "execution_count": 57,
   "id": "08de933f-2133-4dd6-8184-3b8f585deb03",
   "metadata": {},
   "outputs": [],
   "source": [
    "stock_train_loader = DataLoader(stock_train_dataset, batch_size = BATCH_SIZE, shuffle=True)"
   ]
  },
  {
   "cell_type": "code",
   "execution_count": 58,
   "id": "7bbfb686-b264-43b8-bf03-6fd910c956b6",
   "metadata": {},
   "outputs": [],
   "source": [
    "stock_valid_loader = DataLoader(stock_valid_dataset, batch_size = TEST_BATCH_SIZE, shuffle=False)"
   ]
  },
  {
   "cell_type": "code",
   "execution_count": 59,
   "id": "5dd3796c-c345-44f1-a492-7687944c5e8d",
   "metadata": {},
   "outputs": [],
   "source": [
    "stock_test_loader = DataLoader(stock_test_dataset, batch_size = TEST_BATCH_SIZE, shuffle=False)"
   ]
  },
  {
   "cell_type": "code",
   "execution_count": 60,
   "id": "2f864be6-7db5-45b0-9d98-b7dd5f7f98d0",
   "metadata": {},
   "outputs": [],
   "source": [
    "pytorch_pipeline = PyTorchPipeline()"
   ]
  },
  {
   "cell_type": "code",
   "execution_count": 61,
   "id": "5212e0ca-0796-40ac-91a0-7c722c77703f",
   "metadata": {},
   "outputs": [
    {
     "name": "stdout",
     "output_type": "stream",
     "text": [
      "NasdaqDataset __getitem__ idx = 1678\n",
      "closing_price_features_tensor.shape = torch.Size([7, 1])\n",
      "closing_price_labels_tensor.shape = torch.Size([1])\n",
      "close price features shape: torch.Size([16, 7, 1]); close price labels shape: torch.Size([16, 1])\n"
     ]
    }
   ],
   "source": [
    "pytorch_pipeline.test_dataloader_sample(stock_train_loader)"
   ]
  },
  {
   "cell_type": "markdown",
   "id": "80ac7f7e-f077-4ad9-bb3d-215036e5f880",
   "metadata": {},
   "source": [
    "## Create a PyTorch LSTM Model\n",
    "\n",
    "Based on our \"x\" and \"y\" training data, we'll create a ML model and then train it"
   ]
  },
  {
   "cell_type": "code",
   "execution_count": 62,
   "id": "5891bce3-9619-415c-8c10-852bc68a964d",
   "metadata": {},
   "outputs": [],
   "source": [
    "# Use nn.LSTM, nn.Linear, nn.ReLU, nn.Dropout"
   ]
  },
  {
   "cell_type": "code",
   "execution_count": 63,
   "id": "e7574106-62e0-48c1-a398-5fe7adf85f62",
   "metadata": {},
   "outputs": [],
   "source": [
    "# rows = 2259, columns, ch\n",
    "# NOTE: use to be \"x\"\n",
    "# x_train_fets_array.shape"
   ]
  },
  {
   "cell_type": "code",
   "execution_count": 69,
   "id": "ef0e7b82-a2e1-4f47-b6e5-622ca196de97",
   "metadata": {},
   "outputs": [],
   "source": [
    "class StockClosePriceLSTM(nn.Module):\n",
    "    def __init__(self, input_size, hidden_size=10, num_stacked_layers=1):\n",
    "        super(StockClosePriceLSTM, self).__init__()\n",
    "        self.hidden_size = hidden_size\n",
    "        self.num_stacked_layers = num_stacked_layers\n",
    "        self.lstm = nn.LSTM(input_size, hidden_size, num_stacked_layers, batch_first=True)\n",
    "\n",
    "        self.fc = nn.Linear(hidden_size, 1)\n",
    "        # self.dropout1 = nn.Dropout(0.2)\n",
    "        # self.relu = nn.ReLU()\n",
    "\n",
    "        self.count_ = 0\n",
    "\n",
    "    def forward(self, closing_price_2d_features):\n",
    "        # closing price 2D features: row by col, each row has 100 samples since 100 days of closing prices, \n",
    "        # trying to pred final closing price\n",
    "        if DEBUG and self.count_ == 0:\n",
    "            print(f\"type(closing_price_2d_features) = {type(closing_price_2d_features)}\")\n",
    "        batch_size = closing_price_2d_features.size(0)\n",
    "        if DEBUG and self.count_ == 0:\n",
    "            print(f\"closing_price_2d_features batch_size = {batch_size}\")\n",
    "        h0 = torch.zeros(self.num_stacked_layers, batch_size, self.hidden_size).to(device)\n",
    "        c0 = torch.zeros(self.num_stacked_layers, batch_size, self.hidden_size).to(device)\n",
    "        \n",
    "        lstm_features, lstm_hidden = self.lstm(closing_price_2d_features, (h0, c0))\n",
    "        lstm_features = lstm_features[:, -1, :]\n",
    "        if DEBUG and self.count_ == 0:\n",
    "            print(f\"type(lstm_features) = {type(lstm_features)}\")\n",
    "        # lstm_relu = self.relu(lstm_features)\n",
    "        # lstm_dropout = self.dropout1(lstm_relu)\n",
    "\n",
    "        stock_price_pred = self.fc(lstm_features)\n",
    "\n",
    "        self.count_ += 1\n",
    "        return stock_price_pred"
   ]
  },
  {
   "cell_type": "code",
   "execution_count": 70,
   "id": "1b4cc8ad-321e-4ff0-9b75-9699df46cf17",
   "metadata": {},
   "outputs": [],
   "source": [
    "# lstm_model = StockPriceLSTM(num_days=x_train_fets_array.shape[1], hidden_size=10)\n",
    "lstm_model = StockClosePriceLSTM(input_size=1, hidden_size=4, num_stacked_layers=1)"
   ]
  },
  {
   "cell_type": "code",
   "execution_count": 71,
   "id": "08381c24-fbf0-46cd-9e4d-6347ee086108",
   "metadata": {},
   "outputs": [
    {
     "data": {
      "text/plain": [
       "StockClosePriceLSTM(\n",
       "  (lstm): LSTM(1, 4, batch_first=True)\n",
       "  (fc): Linear(in_features=4, out_features=1, bias=True)\n",
       ")"
      ]
     },
     "execution_count": 71,
     "metadata": {},
     "output_type": "execute_result"
    }
   ],
   "source": [
    "lstm_model.to(device)"
   ]
  },
  {
   "cell_type": "code",
   "execution_count": 72,
   "id": "df5cb671-675c-4b3b-af30-1e3efaf55815",
   "metadata": {},
   "outputs": [],
   "source": [
    "mse_criterion = nn.MSELoss()"
   ]
  },
  {
   "cell_type": "code",
   "execution_count": 73,
   "id": "a01fbc6b-b1ca-4426-a2a1-c8ab498a6a58",
   "metadata": {},
   "outputs": [],
   "source": [
    "lstm_optimizer = optim.Adam(lstm_model.parameters(), lr=LEARNING_RATE)"
   ]
  },
  {
   "cell_type": "markdown",
   "id": "e2768af0-b5e4-4bf5-8883-d8f0eba19bab",
   "metadata": {},
   "source": [
    "## Train PyTorch LSTM Model using Pipeline"
   ]
  },
  {
   "cell_type": "code",
   "execution_count": 74,
   "id": "debcd1d3-b633-43e3-8e7b-1b1c8444e201",
   "metadata": {},
   "outputs": [],
   "source": [
    "# pytorch_pipeline = PyTorchPipeline()"
   ]
  },
  {
   "cell_type": "code",
   "execution_count": 75,
   "id": "2bd2a78f-2a78-4038-80bb-4d7338096f01",
   "metadata": {},
   "outputs": [
    {
     "data": {
      "application/vnd.jupyter.widget-view+json": {
       "model_id": "15b7f1e405074710a1c29a2d0d3a8900",
       "version_major": 2,
       "version_minor": 0
      },
      "text/plain": [
       "  0%|          | 0/148 [00:00<?, ?it/s]"
      ]
     },
     "metadata": {},
     "output_type": "display_data"
    },
    {
     "name": "stdout",
     "output_type": "stream",
     "text": [
      "type(closing_price_2d_features) = <class 'torch.Tensor'>\n",
      "closing_price_2d_features batch_size = 16\n",
      "type(lstm_features) = <class 'torch.Tensor'>\n",
      "=> Saving Checkpoint\n"
     ]
    },
    {
     "data": {
      "application/vnd.jupyter.widget-view+json": {
       "model_id": "4c6002e03e584b1580d26b10c78f9921",
       "version_major": 2,
       "version_minor": 0
      },
      "text/plain": [
       "  0%|          | 0/785 [00:00<?, ?it/s]"
      ]
     },
     "metadata": {},
     "output_type": "display_data"
    },
    {
     "name": "stdout",
     "output_type": "stream",
     "text": [
      "NasdaqDataset __getitem__ idx = 0\n",
      "closing_price_features_tensor.shape = torch.Size([7, 1])\n",
      "closing_price_labels_tensor.shape = torch.Size([1])\n"
     ]
    },
    {
     "data": {
      "application/vnd.jupyter.widget-view+json": {
       "model_id": "7af2044c41764aa5ad077747d5121b29",
       "version_major": 2,
       "version_minor": 0
      },
      "text/plain": [
       "  0%|          | 0/148 [00:00<?, ?it/s]"
      ]
     },
     "metadata": {},
     "output_type": "display_data"
    },
    {
     "name": "stdout",
     "output_type": "stream",
     "text": [
      "=> Saving Checkpoint\n"
     ]
    },
    {
     "data": {
      "application/vnd.jupyter.widget-view+json": {
       "model_id": "a349e747aa0842eab6ae75229fdace6e",
       "version_major": 2,
       "version_minor": 0
      },
      "text/plain": [
       "  0%|          | 0/785 [00:00<?, ?it/s]"
      ]
     },
     "metadata": {},
     "output_type": "display_data"
    },
    {
     "data": {
      "application/vnd.jupyter.widget-view+json": {
       "model_id": "abff8c2656434937b5aa1a55c41d8a2f",
       "version_major": 2,
       "version_minor": 0
      },
      "text/plain": [
       "  0%|          | 0/148 [00:00<?, ?it/s]"
      ]
     },
     "metadata": {},
     "output_type": "display_data"
    },
    {
     "name": "stdout",
     "output_type": "stream",
     "text": [
      "=> Saving Checkpoint\n"
     ]
    },
    {
     "data": {
      "application/vnd.jupyter.widget-view+json": {
       "model_id": "236048d1f5c24864b789b5503c3cc5d1",
       "version_major": 2,
       "version_minor": 0
      },
      "text/plain": [
       "  0%|          | 0/785 [00:00<?, ?it/s]"
      ]
     },
     "metadata": {},
     "output_type": "display_data"
    },
    {
     "data": {
      "application/vnd.jupyter.widget-view+json": {
       "model_id": "a8ec81edfbc642aea6e8d236f28cf44b",
       "version_major": 2,
       "version_minor": 0
      },
      "text/plain": [
       "  0%|          | 0/148 [00:00<?, ?it/s]"
      ]
     },
     "metadata": {},
     "output_type": "display_data"
    },
    {
     "name": "stderr",
     "output_type": "stream",
     "text": [
      "IOPub message rate exceeded.\n",
      "The Jupyter server will temporarily stop sending output\n",
      "to the client in order to avoid crashing it.\n",
      "To change this limit, set the config variable\n",
      "`--ServerApp.iopub_msg_rate_limit`.\n",
      "\n",
      "Current values:\n",
      "ServerApp.iopub_msg_rate_limit=1000.0 (msgs/sec)\n",
      "ServerApp.rate_limit_window=3.0 (secs)\n",
      "\n"
     ]
    },
    {
     "data": {
      "application/vnd.jupyter.widget-view+json": {
       "model_id": "0fa369f6a6b54ac0903c6b4cb8734bb1",
       "version_major": 2,
       "version_minor": 0
      },
      "text/plain": [
       "  0%|          | 0/148 [00:00<?, ?it/s]"
      ]
     },
     "metadata": {},
     "output_type": "display_data"
    },
    {
     "name": "stdout",
     "output_type": "stream",
     "text": [
      "=> Saving Checkpoint\n"
     ]
    },
    {
     "data": {
      "application/vnd.jupyter.widget-view+json": {
       "model_id": "eb6d5d19fcd04f5dbc2e347a6b9c027a",
       "version_major": 2,
       "version_minor": 0
      },
      "text/plain": [
       "  0%|          | 0/785 [00:00<?, ?it/s]"
      ]
     },
     "metadata": {},
     "output_type": "display_data"
    },
    {
     "data": {
      "application/vnd.jupyter.widget-view+json": {
       "model_id": "1dc1dd8eb3c445ce82f68568f962c0ab",
       "version_major": 2,
       "version_minor": 0
      },
      "text/plain": [
       "  0%|          | 0/148 [00:00<?, ?it/s]"
      ]
     },
     "metadata": {},
     "output_type": "display_data"
    },
    {
     "name": "stdout",
     "output_type": "stream",
     "text": [
      "=> Saving Checkpoint\n"
     ]
    },
    {
     "data": {
      "application/vnd.jupyter.widget-view+json": {
       "model_id": "e33ce26bcaaf486295907a425252f59a",
       "version_major": 2,
       "version_minor": 0
      },
      "text/plain": [
       "  0%|          | 0/785 [00:00<?, ?it/s]"
      ]
     },
     "metadata": {},
     "output_type": "display_data"
    },
    {
     "data": {
      "application/vnd.jupyter.widget-view+json": {
       "model_id": "aaf7b52768464361a210a057cf326737",
       "version_major": 2,
       "version_minor": 0
      },
      "text/plain": [
       "  0%|          | 0/148 [00:00<?, ?it/s]"
      ]
     },
     "metadata": {},
     "output_type": "display_data"
    },
    {
     "name": "stdout",
     "output_type": "stream",
     "text": [
      "=> Saving Checkpoint\n"
     ]
    },
    {
     "data": {
      "application/vnd.jupyter.widget-view+json": {
       "model_id": "28dd2fb44a13409ab906109b025e7888",
       "version_major": 2,
       "version_minor": 0
      },
      "text/plain": [
       "  0%|          | 0/785 [00:00<?, ?it/s]"
      ]
     },
     "metadata": {},
     "output_type": "display_data"
    },
    {
     "name": "stderr",
     "output_type": "stream",
     "text": [
      "IOPub message rate exceeded.\n",
      "The Jupyter server will temporarily stop sending output\n",
      "to the client in order to avoid crashing it.\n",
      "To change this limit, set the config variable\n",
      "`--ServerApp.iopub_msg_rate_limit`.\n",
      "\n",
      "Current values:\n",
      "ServerApp.iopub_msg_rate_limit=1000.0 (msgs/sec)\n",
      "ServerApp.rate_limit_window=3.0 (secs)\n",
      "\n"
     ]
    }
   ],
   "source": [
    "pytorch_pipeline.train_over_epochs(\n",
    "    stock_train_loader, stock_valid_loader,\n",
    "    lstm_model,\n",
    "    lstm_optimizer,\n",
    "    mse_criterion,\n",
    "    dst_folder=\"lstm_stock_close\"\n",
    ")"
   ]
  },
  {
   "cell_type": "code",
   "execution_count": 76,
   "id": "248c953f-d3b9-40f2-9fd6-d0a9c982c7eb",
   "metadata": {},
   "outputs": [],
   "source": [
    "pytorch_utility = PyTorchUtility()"
   ]
  },
  {
   "cell_type": "code",
   "execution_count": 77,
   "id": "66b2cd1c-a979-47ac-971f-0bcdf65ad3b5",
   "metadata": {},
   "outputs": [
    {
     "data": {
      "image/png": "[encoded data removed]",
      "text/plain": [
       "<Figure size 640x480 with 1 Axes>"
      ]
     },
     "metadata": {},
     "output_type": "display_data"
    }
   ],
   "source": [
    "pytorch_utility.plot_loss_curves(train_rmse_loss_avg_values, valid_rmse_loss_avg_values,\n",
    "                                 \"LSTM Train & Valid RMSE Loss\", \"lstm_train_valid_loss_avg_curves.jpg\")"
   ]
  },
  {
   "cell_type": "code",
   "execution_count": 78,
   "id": "f770cb5a-b0f9-4536-a8fe-83fe75ae0a07",
   "metadata": {},
   "outputs": [
    {
     "name": "stdout",
     "output_type": "stream",
     "text": [
      "LSTM: final_train Min RMSE = 0.014215184706798126\n"
     ]
    }
   ],
   "source": [
    "final_train_rmse = min(train_rmse_loss_avg_values)\n",
    "print(f\"LSTM: final_train Min RMSE = {final_train_rmse}\")"
   ]
  },
  {
   "cell_type": "code",
   "execution_count": 79,
   "id": "39bfc40a-e189-46d3-bbb7-6f1546f715cf",
   "metadata": {},
   "outputs": [
    {
     "name": "stdout",
     "output_type": "stream",
     "text": [
      "LSTM: final_valid Min RMSE = 0.07733356772334712\n"
     ]
    }
   ],
   "source": [
    "final_test_rmse = min(valid_rmse_loss_avg_values)\n",
    "print(f\"LSTM: final_valid Min RMSE = {final_test_rmse}\")"
   ]
  },
  {
   "cell_type": "code",
   "execution_count": 80,
   "id": "9a4188a0-c027-43f3-b74d-1b6003cd1990",
   "metadata": {},
   "outputs": [
    {
     "data": {
      "application/vnd.jupyter.widget-view+json": {
       "model_id": "b413c94eca6a4c1f8232eab459a2dfcd",
       "version_major": 2,
       "version_minor": 0
      },
      "text/plain": [
       "  0%|          | 0/785 [00:00<?, ?it/s]"
      ]
     },
     "metadata": {},
     "output_type": "display_data"
    },
    {
     "name": "stdout",
     "output_type": "stream",
     "text": [
      "NasdaqDataset __getitem__ idx = 0\n",
      "closing_price_features_tensor.shape = torch.Size([7, 1])\n",
      "closing_price_labels_tensor.shape = torch.Size([1])\n",
      "final_closing_price_pred.item() = -0.17718422412872314\n",
      "final_closing_price_pred.item() = -0.1762092113494873\n",
      "final_closing_price_pred.item() = -0.17502281069755554\n",
      "final_closing_price_pred.item() = -0.1740185171365738\n",
      "final_closing_price_pred.item() = -0.17342770099639893\n",
      "final_closing_price_pred.item() = -0.17289158701896667\n",
      "final_closing_price_pred.item() = -0.17198362946510315\n",
      "final_closing_price_pred.item() = -0.17156682908535004\n",
      "final_closing_price_pred.item() = -0.171272873878479\n",
      "final_closing_price_pred.item() = -0.17142203450202942\n",
      "final_closing_price_pred.item() = -0.17152851819992065\n",
      "final_closing_price_pred.item() = -0.17178033292293549\n",
      "final_closing_price_pred.item() = -0.17168577015399933\n",
      "final_closing_price_pred.item() = -0.17161747813224792\n",
      "final_closing_price_pred.item() = -0.1706329882144928\n",
      "final_closing_price_pred.item() = -0.17079345881938934\n",
      "final_closing_price_pred.item() = -0.17039263248443604\n",
      "final_closing_price_pred.item() = -0.16969408094882965\n",
      "final_closing_price_pred.item() = -0.1685909926891327\n",
      "final_closing_price_pred.item() = -0.16763386130332947\n",
      "final_closing_price_pred.item() = -0.16674640774726868\n",
      "final_closing_price_pred.item() = -0.16604115068912506\n",
      "final_closing_price_pred.item() = -0.16598457098007202\n",
      "final_closing_price_pred.item() = -0.1662200391292572\n",
      "final_closing_price_pred.item() = -0.16675621271133423\n",
      "final_closing_price_pred.item() = -0.16771185398101807\n",
      "final_closing_price_pred.item() = -0.16903604567050934\n",
      "final_closing_price_pred.item() = -0.17114488780498505\n",
      "final_closing_price_pred.item() = -0.17333656549453735\n",
      "final_closing_price_pred.item() = -0.17390885949134827\n",
      "final_closing_price_pred.item() = -0.17464742064476013\n",
      "final_closing_price_pred.item() = -0.17391905188560486\n",
      "final_closing_price_pred.item() = -0.17262977361679077\n",
      "final_closing_price_pred.item() = -0.171687513589859\n",
      "final_closing_price_pred.item() = -0.17066997289657593\n",
      "final_closing_price_pred.item() = -0.17073114216327667\n",
      "final_closing_price_pred.item() = -0.17084190249443054\n",
      "final_closing_price_pred.item() = -0.1707167774438858\n",
      "final_closing_price_pred.item() = -0.17167070508003235\n",
      "final_closing_price_pred.item() = -0.17244021594524384\n",
      "final_closing_price_pred.item() = -0.17279210686683655\n",
      "final_closing_price_pred.item() = -0.17281295359134674\n",
      "final_closing_price_pred.item() = -0.1724058985710144\n",
      "final_closing_price_pred.item() = -0.1718352735042572\n",
      "final_closing_price_pred.item() = -0.17089712619781494\n",
      "final_closing_price_pred.item() = -0.1694718897342682\n",
      "final_closing_price_pred.item() = -0.16730666160583496\n",
      "final_closing_price_pred.item() = -0.16618531942367554\n",
      "final_closing_price_pred.item() = -0.16466325521469116\n",
      "final_closing_price_pred.item() = -0.16235971450805664\n",
      "final_closing_price_pred.item() = -0.15969741344451904\n",
      "final_closing_price_pred.item() = -0.15635831654071808\n",
      "final_closing_price_pred.item() = -0.15404242277145386\n",
      "final_closing_price_pred.item() = -0.1519985795021057\n",
      "final_closing_price_pred.item() = -0.14934012293815613\n",
      "final_closing_price_pred.item() = -0.14604812860488892\n",
      "final_closing_price_pred.item() = -0.14483584463596344\n",
      "final_closing_price_pred.item() = -0.14388898015022278\n",
      "final_closing_price_pred.item() = -0.1429748684167862\n",
      "final_closing_price_pred.item() = -0.14270855486392975\n",
      "final_closing_price_pred.item() = -0.14270368218421936\n",
      "final_closing_price_pred.item() = -0.14222872257232666\n",
      "final_closing_price_pred.item() = -0.14250460267066956\n",
      "final_closing_price_pred.item() = -0.14256688952445984\n",
      "final_closing_price_pred.item() = -0.14229701459407806\n",
      "final_closing_price_pred.item() = -0.14200299978256226\n",
      "final_closing_price_pred.item() = -0.14167723059654236\n",
      "final_closing_price_pred.item() = -0.14162689447402954\n",
      "final_closing_price_pred.item() = -0.14189724624156952\n",
      "final_closing_price_pred.item() = -0.14018115401268005\n",
      "final_closing_price_pred.item() = -0.13880068063735962\n",
      "final_closing_price_pred.item() = -0.1374131590127945\n",
      "final_closing_price_pred.item() = -0.13621364533901215\n",
      "final_closing_price_pred.item() = -0.13509482145309448\n",
      "final_closing_price_pred.item() = -0.13405151665210724\n",
      "final_closing_price_pred.item() = -0.133860245347023\n",
      "final_closing_price_pred.item() = -0.13374200463294983\n",
      "final_closing_price_pred.item() = -0.1338578760623932\n",
      "final_closing_price_pred.item() = -0.13347411155700684\n",
      "final_closing_price_pred.item() = -0.13321417570114136\n",
      "final_closing_price_pred.item() = -0.1334575116634369\n",
      "final_closing_price_pred.item() = -0.13439452648162842\n",
      "final_closing_price_pred.item() = -0.13522928953170776\n",
      "final_closing_price_pred.item() = -0.1367851197719574\n",
      "final_closing_price_pred.item() = -0.1388677954673767\n",
      "final_closing_price_pred.item() = -0.13897620141506195\n",
      "final_closing_price_pred.item() = -0.13846924901008606\n",
      "final_closing_price_pred.item() = -0.13870015740394592\n",
      "final_closing_price_pred.item() = -0.13868868350982666\n",
      "final_closing_price_pred.item() = -0.1380782127380371\n",
      "final_closing_price_pred.item() = -0.13735736906528473\n",
      "final_closing_price_pred.item() = -0.13769440352916718\n",
      "final_closing_price_pred.item() = -0.13784833252429962\n",
      "final_closing_price_pred.item() = -0.1388886570930481\n",
      "final_closing_price_pred.item() = -0.14025667309761047\n",
      "final_closing_price_pred.item() = -0.14269769191741943\n",
      "final_closing_price_pred.item() = -0.14490383863449097\n",
      "final_closing_price_pred.item() = -0.14547675848007202\n",
      "final_closing_price_pred.item() = -0.14734740555286407\n",
      "final_closing_price_pred.item() = -0.14770807325839996\n",
      "final_closing_price_pred.item() = -0.14715510606765747\n",
      "final_closing_price_pred.item() = -0.14542484283447266\n",
      "final_closing_price_pred.item() = -0.14427444338798523\n",
      "final_closing_price_pred.item() = -0.1423250436782837\n",
      "final_closing_price_pred.item() = -0.1407209187746048\n",
      "final_closing_price_pred.item() = -0.13943180441856384\n",
      "final_closing_price_pred.item() = -0.13788440823554993\n",
      "final_closing_price_pred.item() = -0.13694001734256744\n",
      "final_closing_price_pred.item() = -0.13590410351753235\n",
      "final_closing_price_pred.item() = -0.13549965620040894\n",
      "final_closing_price_pred.item() = -0.1348150670528412\n",
      "final_closing_price_pred.item() = -0.13499844074249268\n",
      "final_closing_price_pred.item() = -0.13559070229530334\n",
      "final_closing_price_pred.item() = -0.13629966974258423\n",
      "final_closing_price_pred.item() = -0.13769543170928955\n",
      "final_closing_price_pred.item() = -0.14016853272914886\n",
      "final_closing_price_pred.item() = -0.14113479852676392\n",
      "final_closing_price_pred.item() = -0.14212511479854584\n",
      "final_closing_price_pred.item() = -0.14224326610565186\n",
      "final_closing_price_pred.item() = -0.14308509230613708\n",
      "final_closing_price_pred.item() = -0.14327523112297058\n",
      "final_closing_price_pred.item() = -0.14375320076942444\n",
      "final_closing_price_pred.item() = -0.14426907896995544\n",
      "final_closing_price_pred.item() = -0.14423584938049316\n",
      "final_closing_price_pred.item() = -0.14458894729614258\n",
      "final_closing_price_pred.item() = -0.14513665437698364\n",
      "final_closing_price_pred.item() = -0.14583662152290344\n",
      "final_closing_price_pred.item() = -0.1464228630065918\n",
      "final_closing_price_pred.item() = -0.1457662731409073\n",
      "final_closing_price_pred.item() = -0.14534534513950348\n",
      "final_closing_price_pred.item() = -0.14552095532417297\n",
      "final_closing_price_pred.item() = -0.14579150080680847\n",
      "final_closing_price_pred.item() = -0.14667513966560364\n",
      "final_closing_price_pred.item() = -0.14637377858161926\n",
      "final_closing_price_pred.item() = -0.14584313333034515\n",
      "final_closing_price_pred.item() = -0.1446557641029358\n",
      "final_closing_price_pred.item() = -0.14464561641216278\n",
      "final_closing_price_pred.item() = -0.14487162232398987\n",
      "final_closing_price_pred.item() = -0.14475542306900024\n",
      "final_closing_price_pred.item() = -0.14410904049873352\n",
      "final_closing_price_pred.item() = -0.14296147227287292\n",
      "final_closing_price_pred.item() = -0.14222565293312073\n",
      "final_closing_price_pred.item() = -0.14197367429733276\n",
      "final_closing_price_pred.item() = -0.1424732208251953\n",
      "final_closing_price_pred.item() = -0.14292436838150024\n",
      "final_closing_price_pred.item() = -0.14284120500087738\n",
      "final_closing_price_pred.item() = -0.14274516701698303\n",
      "final_closing_price_pred.item() = -0.14340618252754211\n",
      "final_closing_price_pred.item() = -0.14335592091083527\n",
      "final_closing_price_pred.item() = -0.14340192079544067\n",
      "final_closing_price_pred.item() = -0.14372773468494415\n",
      "final_closing_price_pred.item() = -0.14448793232440948\n",
      "final_closing_price_pred.item() = -0.14468911290168762\n",
      "final_closing_price_pred.item() = -0.14446347951889038\n",
      "final_closing_price_pred.item() = -0.14343640208244324\n",
      "final_closing_price_pred.item() = -0.1426398903131485\n",
      "final_closing_price_pred.item() = -0.14236049354076385\n",
      "final_closing_price_pred.item() = -0.14213718473911285\n",
      "final_closing_price_pred.item() = -0.14143681526184082\n",
      "final_closing_price_pred.item() = -0.1398903727531433\n",
      "final_closing_price_pred.item() = -0.1380234956741333\n",
      "final_closing_price_pred.item() = -0.1371159851551056\n",
      "final_closing_price_pred.item() = -0.13636621832847595\n",
      "final_closing_price_pred.item() = -0.1361721158027649\n",
      "final_closing_price_pred.item() = -0.135299414396286\n",
      "final_closing_price_pred.item() = -0.13446123898029327\n",
      "final_closing_price_pred.item() = -0.13289222121238708\n",
      "final_closing_price_pred.item() = -0.13221803307533264\n",
      "final_closing_price_pred.item() = -0.13197284936904907\n",
      "final_closing_price_pred.item() = -0.13145536184310913\n",
      "final_closing_price_pred.item() = -0.13057473301887512\n",
      "final_closing_price_pred.item() = -0.1305563896894455\n",
      "final_closing_price_pred.item() = -0.13060566782951355\n",
      "final_closing_price_pred.item() = -0.13080081343650818\n",
      "final_closing_price_pred.item() = -0.13120856881141663\n",
      "final_closing_price_pred.item() = -0.13179683685302734\n",
      "final_closing_price_pred.item() = -0.13219495117664337\n",
      "final_closing_price_pred.item() = -0.1321791559457779\n",
      "final_closing_price_pred.item() = -0.13237828016281128\n",
      "final_closing_price_pred.item() = -0.13111600279808044\n",
      "final_closing_price_pred.item() = -0.12958168983459473\n",
      "final_closing_price_pred.item() = -0.127596914768219\n",
      "final_closing_price_pred.item() = -0.12521523237228394\n",
      "final_closing_price_pred.item() = -0.1250159740447998\n",
      "final_closing_price_pred.item() = -0.12453937530517578\n",
      "final_closing_price_pred.item() = -0.12397652864456177\n",
      "final_closing_price_pred.item() = -0.12376933544874191\n",
      "final_closing_price_pred.item() = -0.12356263399124146\n",
      "final_closing_price_pred.item() = -0.12363235652446747\n",
      "final_closing_price_pred.item() = -0.12340620160102844\n",
      "final_closing_price_pred.item() = -0.123525470495224\n",
      "final_closing_price_pred.item() = -0.12412488460540771\n",
      "final_closing_price_pred.item() = -0.12442471832036972\n",
      "final_closing_price_pred.item() = -0.12450890243053436\n",
      "final_closing_price_pred.item() = -0.12447596341371536\n",
      "final_closing_price_pred.item() = -0.12436585128307343\n",
      "final_closing_price_pred.item() = -0.12391036748886108\n",
      "final_closing_price_pred.item() = -0.12395213544368744\n",
      "final_closing_price_pred.item() = -0.12333320081233978\n",
      "final_closing_price_pred.item() = -0.12255541980266571\n",
      "final_closing_price_pred.item() = -0.12252572178840637\n",
      "final_closing_price_pred.item() = -0.12266421318054199\n",
      "final_closing_price_pred.item() = -0.1232055202126503\n",
      "final_closing_price_pred.item() = -0.12465690076351166\n",
      "final_closing_price_pred.item() = -0.12602700293064117\n",
      "final_closing_price_pred.item() = -0.12629354000091553\n",
      "final_closing_price_pred.item() = -0.1265728771686554\n",
      "final_closing_price_pred.item() = -0.12615236639976501\n",
      "final_closing_price_pred.item() = -0.12483826279640198\n",
      "final_closing_price_pred.item() = -0.12347882241010666\n",
      "final_closing_price_pred.item() = -0.12243200093507767\n",
      "final_closing_price_pred.item() = -0.1217130571603775\n",
      "final_closing_price_pred.item() = -0.12116380035877228\n",
      "final_closing_price_pred.item() = -0.12067224830389023\n",
      "final_closing_price_pred.item() = -0.11994544416666031\n",
      "final_closing_price_pred.item() = -0.11900705099105835\n",
      "final_closing_price_pred.item() = -0.11830652505159378\n",
      "final_closing_price_pred.item() = -0.11830534040927887\n",
      "final_closing_price_pred.item() = -0.11892403662204742\n",
      "final_closing_price_pred.item() = -0.11942406743764877\n",
      "final_closing_price_pred.item() = -0.11970332264900208\n",
      "final_closing_price_pred.item() = -0.11989549547433853\n",
      "final_closing_price_pred.item() = -0.11994609236717224\n",
      "final_closing_price_pred.item() = -0.1196916401386261\n",
      "final_closing_price_pred.item() = -0.11890935152769089\n",
      "final_closing_price_pred.item() = -0.11771364510059357\n",
      "final_closing_price_pred.item() = -0.11614096164703369\n",
      "final_closing_price_pred.item() = -0.11506114155054092\n",
      "final_closing_price_pred.item() = -0.11430318653583527\n",
      "final_closing_price_pred.item() = -0.11359705030918121\n",
      "final_closing_price_pred.item() = -0.11330904066562653\n",
      "final_closing_price_pred.item() = -0.11311466991901398\n",
      "final_closing_price_pred.item() = -0.11272251605987549\n",
      "final_closing_price_pred.item() = -0.11193469166755676\n",
      "final_closing_price_pred.item() = -0.11110447347164154\n",
      "final_closing_price_pred.item() = -0.11058105528354645\n",
      "final_closing_price_pred.item() = -0.10994473099708557\n",
      "final_closing_price_pred.item() = -0.10933168232440948\n",
      "final_closing_price_pred.item() = -0.10844340920448303\n",
      "final_closing_price_pred.item() = -0.10772155225276947\n",
      "final_closing_price_pred.item() = -0.10746912658214569\n",
      "final_closing_price_pred.item() = -0.10741420090198517\n",
      "final_closing_price_pred.item() = -0.10746265947818756\n",
      "final_closing_price_pred.item() = -0.10802848637104034\n",
      "final_closing_price_pred.item() = -0.10891719162464142\n",
      "final_closing_price_pred.item() = -0.11016294360160828\n",
      "final_closing_price_pred.item() = -0.11199161410331726\n",
      "final_closing_price_pred.item() = -0.11481887847185135\n",
      "final_closing_price_pred.item() = -0.11832143366336823\n",
      "final_closing_price_pred.item() = -0.12048166245222092\n",
      "final_closing_price_pred.item() = -0.12083651125431061\n",
      "final_closing_price_pred.item() = -0.12237869948148727\n",
      "final_closing_price_pred.item() = -0.12231918424367905\n",
      "final_closing_price_pred.item() = -0.11966735869646072\n",
      "final_closing_price_pred.item() = -0.11824633181095123\n",
      "final_closing_price_pred.item() = -0.11703962832689285\n",
      "final_closing_price_pred.item() = -0.11541546881198883\n",
      "final_closing_price_pred.item() = -0.11416013538837433\n",
      "final_closing_price_pred.item() = -0.1134856790304184\n",
      "final_closing_price_pred.item() = -0.11290715634822845\n",
      "final_closing_price_pred.item() = -0.11269250512123108\n",
      "final_closing_price_pred.item() = -0.1125832349061966\n",
      "final_closing_price_pred.item() = -0.11238551139831543\n",
      "final_closing_price_pred.item() = -0.11316654086112976\n",
      "final_closing_price_pred.item() = -0.11461138725280762\n",
      "final_closing_price_pred.item() = -0.11551287770271301\n",
      "final_closing_price_pred.item() = -0.11565057188272476\n",
      "final_closing_price_pred.item() = -0.11429017782211304\n",
      "final_closing_price_pred.item() = -0.11309632658958435\n",
      "final_closing_price_pred.item() = -0.1119178831577301\n",
      "final_closing_price_pred.item() = -0.11056773364543915\n",
      "final_closing_price_pred.item() = -0.10943187773227692\n",
      "final_closing_price_pred.item() = -0.10905741155147552\n",
      "final_closing_price_pred.item() = -0.10978206992149353\n",
      "final_closing_price_pred.item() = -0.11060045659542084\n",
      "final_closing_price_pred.item() = -0.1112576574087143\n",
      "final_closing_price_pred.item() = -0.11280800402164459\n",
      "final_closing_price_pred.item() = -0.11480843275785446\n",
      "final_closing_price_pred.item() = -0.11707523465156555\n",
      "final_closing_price_pred.item() = -0.11877808719873428\n",
      "final_closing_price_pred.item() = -0.1209559291601181\n",
      "final_closing_price_pred.item() = -0.12360985577106476\n",
      "final_closing_price_pred.item() = -0.12473559379577637\n",
      "final_closing_price_pred.item() = -0.12482228875160217\n",
      "final_closing_price_pred.item() = -0.1265685260295868\n",
      "final_closing_price_pred.item() = -0.12604743242263794\n",
      "final_closing_price_pred.item() = -0.12545129656791687\n",
      "final_closing_price_pred.item() = -0.12608319520950317\n",
      "final_closing_price_pred.item() = -0.12543246150016785\n",
      "final_closing_price_pred.item() = -0.12498036026954651\n",
      "final_closing_price_pred.item() = -0.1251785010099411\n",
      "final_closing_price_pred.item() = -0.12540879845619202\n",
      "final_closing_price_pred.item() = -0.12417899072170258\n",
      "final_closing_price_pred.item() = -0.12319033592939377\n",
      "final_closing_price_pred.item() = -0.12263354659080505\n",
      "final_closing_price_pred.item() = -0.12137113511562347\n",
      "final_closing_price_pred.item() = -0.12036345899105072\n",
      "final_closing_price_pred.item() = -0.11908476054668427\n",
      "final_closing_price_pred.item() = -0.11813362687826157\n",
      "final_closing_price_pred.item() = -0.11853499710559845\n",
      "final_closing_price_pred.item() = -0.11923228949308395\n",
      "final_closing_price_pred.item() = -0.12100464105606079\n",
      "final_closing_price_pred.item() = -0.12264994531869888\n",
      "final_closing_price_pred.item() = -0.12441127747297287\n",
      "final_closing_price_pred.item() = -0.12400838732719421\n",
      "final_closing_price_pred.item() = -0.12350993603467941\n",
      "final_closing_price_pred.item() = -0.12387072294950485\n",
      "final_closing_price_pred.item() = -0.12365852296352386\n",
      "final_closing_price_pred.item() = -0.12257353961467743\n",
      "final_closing_price_pred.item() = -0.12210003286600113\n",
      "final_closing_price_pred.item() = -0.12064306437969208\n",
      "final_closing_price_pred.item() = -0.11881466209888458\n",
      "final_closing_price_pred.item() = -0.11783722043037415\n",
      "final_closing_price_pred.item() = -0.11673679947853088\n",
      "final_closing_price_pred.item() = -0.115444615483284\n",
      "final_closing_price_pred.item() = -0.11526470631361008\n",
      "final_closing_price_pred.item() = -0.11562441289424896\n",
      "final_closing_price_pred.item() = -0.11628544330596924\n",
      "final_closing_price_pred.item() = -0.11703749001026154\n",
      "final_closing_price_pred.item() = -0.11714387685060501\n",
      "final_closing_price_pred.item() = -0.11742988973855972\n",
      "final_closing_price_pred.item() = -0.11762107908725739\n",
      "final_closing_price_pred.item() = -0.11738016456365585\n",
      "final_closing_price_pred.item() = -0.11748023331165314\n",
      "final_closing_price_pred.item() = -0.11704389750957489\n",
      "final_closing_price_pred.item() = -0.1168447732925415\n",
      "final_closing_price_pred.item() = -0.11656107753515244\n",
      "final_closing_price_pred.item() = -0.11584312468767166\n",
      "final_closing_price_pred.item() = -0.11419603228569031\n",
      "final_closing_price_pred.item() = -0.11238862574100494\n",
      "final_closing_price_pred.item() = -0.11097587645053864\n",
      "final_closing_price_pred.item() = -0.11059123277664185\n",
      "final_closing_price_pred.item() = -0.11080214381217957\n",
      "final_closing_price_pred.item() = -0.1110442727804184\n",
      "final_closing_price_pred.item() = -0.11112712323665619\n",
      "final_closing_price_pred.item() = -0.11061994731426239\n",
      "final_closing_price_pred.item() = -0.10992024838924408\n",
      "final_closing_price_pred.item() = -0.10939180850982666\n",
      "final_closing_price_pred.item() = -0.10889717936515808\n",
      "final_closing_price_pred.item() = -0.10829056799411774\n",
      "final_closing_price_pred.item() = -0.10804241895675659\n",
      "final_closing_price_pred.item() = -0.10804706811904907\n",
      "final_closing_price_pred.item() = -0.10865353047847748\n",
      "final_closing_price_pred.item() = -0.10938970744609833\n",
      "final_closing_price_pred.item() = -0.11034871637821198\n",
      "final_closing_price_pred.item() = -0.11135321855545044\n",
      "final_closing_price_pred.item() = -0.11247469484806061\n",
      "final_closing_price_pred.item() = -0.1128121018409729\n",
      "final_closing_price_pred.item() = -0.1127648800611496\n",
      "final_closing_price_pred.item() = -0.1121739000082016\n",
      "final_closing_price_pred.item() = -0.11176593601703644\n",
      "final_closing_price_pred.item() = -0.11145509779453278\n",
      "final_closing_price_pred.item() = -0.11096782982349396\n",
      "final_closing_price_pred.item() = -0.10956872999668121\n",
      "final_closing_price_pred.item() = -0.1086113303899765\n",
      "final_closing_price_pred.item() = -0.1079520583152771\n",
      "final_closing_price_pred.item() = -0.10742790997028351\n",
      "final_closing_price_pred.item() = -0.10660462081432343\n",
      "final_closing_price_pred.item() = -0.10592854022979736\n",
      "final_closing_price_pred.item() = -0.10577355325222015\n",
      "final_closing_price_pred.item() = -0.10542477667331696\n",
      "final_closing_price_pred.item() = -0.10504166781902313\n",
      "final_closing_price_pred.item() = -0.10481826961040497\n",
      "final_closing_price_pred.item() = -0.10436680912971497\n",
      "final_closing_price_pred.item() = -0.10344551503658295\n",
      "final_closing_price_pred.item() = -0.10230198502540588\n",
      "final_closing_price_pred.item() = -0.1018161028623581\n",
      "final_closing_price_pred.item() = -0.10205022990703583\n",
      "final_closing_price_pred.item() = -0.1027897298336029\n",
      "final_closing_price_pred.item() = -0.10342617332935333\n",
      "final_closing_price_pred.item() = -0.10357247292995453\n",
      "final_closing_price_pred.item() = -0.10340893268585205\n",
      "final_closing_price_pred.item() = -0.1031544953584671\n",
      "final_closing_price_pred.item() = -0.1029878556728363\n",
      "final_closing_price_pred.item() = -0.10279692709445953\n",
      "final_closing_price_pred.item() = -0.1024179607629776\n",
      "final_closing_price_pred.item() = -0.10227958858013153\n",
      "final_closing_price_pred.item() = -0.10241474211215973\n",
      "final_closing_price_pred.item() = -0.1027761697769165\n",
      "final_closing_price_pred.item() = -0.10311990976333618\n",
      "final_closing_price_pred.item() = -0.10341808199882507\n",
      "final_closing_price_pred.item() = -0.10402418673038483\n",
      "final_closing_price_pred.item() = -0.1045624315738678\n",
      "final_closing_price_pred.item() = -0.10468634963035583\n",
      "final_closing_price_pred.item() = -0.10453338921070099\n",
      "final_closing_price_pred.item() = -0.10437153279781342\n",
      "final_closing_price_pred.item() = -0.10410559177398682\n",
      "final_closing_price_pred.item() = -0.103727325797081\n",
      "final_closing_price_pred.item() = -0.10325905680656433\n",
      "final_closing_price_pred.item() = -0.10281497240066528\n",
      "final_closing_price_pred.item() = -0.10289399325847626\n",
      "final_closing_price_pred.item() = -0.10312618315219879\n",
      "final_closing_price_pred.item() = -0.1037067174911499\n",
      "final_closing_price_pred.item() = -0.10473139584064484\n",
      "final_closing_price_pred.item() = -0.10574507713317871\n",
      "final_closing_price_pred.item() = -0.10657697916030884\n",
      "final_closing_price_pred.item() = -0.10715189576148987\n",
      "final_closing_price_pred.item() = -0.10751770436763763\n",
      "final_closing_price_pred.item() = -0.10759581625461578\n",
      "final_closing_price_pred.item() = -0.10746559500694275\n",
      "final_closing_price_pred.item() = -0.10746738314628601\n",
      "final_closing_price_pred.item() = -0.10751108825206757\n",
      "final_closing_price_pred.item() = -0.10745422542095184\n",
      "final_closing_price_pred.item() = -0.10770182311534882\n",
      "final_closing_price_pred.item() = -0.10766838490962982\n",
      "final_closing_price_pred.item() = -0.10720394551753998\n",
      "final_closing_price_pred.item() = -0.10676078498363495\n",
      "final_closing_price_pred.item() = -0.10671743750572205\n",
      "final_closing_price_pred.item() = -0.10670866072177887\n",
      "final_closing_price_pred.item() = -0.10621553659439087\n",
      "final_closing_price_pred.item() = -0.10588595271110535\n",
      "final_closing_price_pred.item() = -0.10570210218429565\n",
      "final_closing_price_pred.item() = -0.10560467839241028\n",
      "final_closing_price_pred.item() = -0.10579618811607361\n",
      "final_closing_price_pred.item() = -0.10609456896781921\n",
      "final_closing_price_pred.item() = -0.10688212513923645\n",
      "final_closing_price_pred.item() = -0.10831309854984283\n",
      "final_closing_price_pred.item() = -0.1098652333021164\n",
      "final_closing_price_pred.item() = -0.11109836399555206\n",
      "final_closing_price_pred.item() = -0.11234007775783539\n",
      "final_closing_price_pred.item() = -0.11388657987117767\n",
      "final_closing_price_pred.item() = -0.11522212624549866\n",
      "final_closing_price_pred.item() = -0.11451169848442078\n",
      "final_closing_price_pred.item() = -0.11378569900989532\n",
      "final_closing_price_pred.item() = -0.11381848156452179\n",
      "final_closing_price_pred.item() = -0.1137426346540451\n",
      "final_closing_price_pred.item() = -0.1146213561296463\n",
      "final_closing_price_pred.item() = -0.11543501168489456\n",
      "final_closing_price_pred.item() = -0.11573639512062073\n",
      "final_closing_price_pred.item() = -0.1165228933095932\n",
      "final_closing_price_pred.item() = -0.11773049831390381\n",
      "final_closing_price_pred.item() = -0.11902501434087753\n",
      "final_closing_price_pred.item() = -0.11873099952936172\n",
      "final_closing_price_pred.item() = -0.1206241026520729\n",
      "final_closing_price_pred.item() = -0.12149892002344131\n",
      "final_closing_price_pred.item() = -0.11961819231510162\n",
      "final_closing_price_pred.item() = -0.1184253990650177\n",
      "final_closing_price_pred.item() = -0.11899203062057495\n",
      "final_closing_price_pred.item() = -0.11953204870223999\n",
      "final_closing_price_pred.item() = -0.11945395916700363\n",
      "final_closing_price_pred.item() = -0.11839016526937485\n",
      "final_closing_price_pred.item() = -0.11801696568727493\n",
      "final_closing_price_pred.item() = -0.11935330182313919\n",
      "final_closing_price_pred.item() = -0.12088493257761002\n",
      "final_closing_price_pred.item() = -0.1219322457909584\n",
      "final_closing_price_pred.item() = -0.12170720100402832\n",
      "final_closing_price_pred.item() = -0.12135423719882965\n",
      "final_closing_price_pred.item() = -0.12132847309112549\n",
      "final_closing_price_pred.item() = -0.12255343794822693\n",
      "final_closing_price_pred.item() = -0.12350413203239441\n",
      "final_closing_price_pred.item() = -0.12238343805074692\n",
      "final_closing_price_pred.item() = -0.12128914147615433\n",
      "final_closing_price_pred.item() = -0.12026165425777435\n",
      "final_closing_price_pred.item() = -0.1186087355017662\n",
      "final_closing_price_pred.item() = -0.11746151000261307\n",
      "final_closing_price_pred.item() = -0.11624398082494736\n",
      "final_closing_price_pred.item() = -0.11660588532686234\n",
      "final_closing_price_pred.item() = -0.11719254404306412\n",
      "final_closing_price_pred.item() = -0.1184750646352768\n",
      "final_closing_price_pred.item() = -0.12036969512701035\n",
      "final_closing_price_pred.item() = -0.12050272524356842\n",
      "final_closing_price_pred.item() = -0.12156727910041809\n",
      "final_closing_price_pred.item() = -0.12116031348705292\n",
      "final_closing_price_pred.item() = -0.12087441980838776\n",
      "final_closing_price_pred.item() = -0.12136917561292648\n",
      "final_closing_price_pred.item() = -0.1229826956987381\n",
      "final_closing_price_pred.item() = -0.12509551644325256\n",
      "final_closing_price_pred.item() = -0.12619860470294952\n",
      "final_closing_price_pred.item() = -0.12614992260932922\n",
      "final_closing_price_pred.item() = -0.12693119049072266\n",
      "final_closing_price_pred.item() = -0.1276395469903946\n",
      "final_closing_price_pred.item() = -0.12746906280517578\n",
      "final_closing_price_pred.item() = -0.12529437243938446\n",
      "final_closing_price_pred.item() = -0.12221013009548187\n",
      "final_closing_price_pred.item() = -0.12201564759016037\n",
      "final_closing_price_pred.item() = -0.12191180884838104\n",
      "final_closing_price_pred.item() = -0.121372751891613\n",
      "final_closing_price_pred.item() = -0.12070055305957794\n",
      "final_closing_price_pred.item() = -0.12008072435855865\n",
      "final_closing_price_pred.item() = -0.11810369044542313\n",
      "final_closing_price_pred.item() = -0.11809025704860687\n",
      "final_closing_price_pred.item() = -0.11800877749919891\n",
      "final_closing_price_pred.item() = -0.1182476282119751\n",
      "final_closing_price_pred.item() = -0.11845289170742035\n",
      "final_closing_price_pred.item() = -0.11857825517654419\n",
      "final_closing_price_pred.item() = -0.11785657703876495\n",
      "final_closing_price_pred.item() = -0.11651235818862915\n",
      "final_closing_price_pred.item() = -0.11619804799556732\n",
      "final_closing_price_pred.item() = -0.11614123731851578\n",
      "final_closing_price_pred.item() = -0.11668737232685089\n",
      "final_closing_price_pred.item() = -0.11739754676818848\n",
      "final_closing_price_pred.item() = -0.11695194989442825\n",
      "final_closing_price_pred.item() = -0.11657273769378662\n",
      "final_closing_price_pred.item() = -0.11609061062335968\n",
      "final_closing_price_pred.item() = -0.11596578359603882\n",
      "final_closing_price_pred.item() = -0.1147877424955368\n",
      "final_closing_price_pred.item() = -0.11304065585136414\n",
      "final_closing_price_pred.item() = -0.11224108934402466\n",
      "final_closing_price_pred.item() = -0.1120968908071518\n",
      "final_closing_price_pred.item() = -0.11180029809474945\n",
      "final_closing_price_pred.item() = -0.11249089241027832\n",
      "final_closing_price_pred.item() = -0.11363682150840759\n",
      "final_closing_price_pred.item() = -0.11393240094184875\n",
      "final_closing_price_pred.item() = -0.11357755959033966\n",
      "final_closing_price_pred.item() = -0.11287665367126465\n",
      "final_closing_price_pred.item() = -0.1122957319021225\n",
      "final_closing_price_pred.item() = -0.11246030032634735\n",
      "final_closing_price_pred.item() = -0.11268572509288788\n",
      "final_closing_price_pred.item() = -0.11293148994445801\n",
      "final_closing_price_pred.item() = -0.11303554475307465\n",
      "final_closing_price_pred.item() = -0.11334411799907684\n",
      "final_closing_price_pred.item() = -0.11326059699058533\n",
      "final_closing_price_pred.item() = -0.11257787048816681\n",
      "final_closing_price_pred.item() = -0.11209119856357574\n",
      "final_closing_price_pred.item() = -0.11146174371242523\n",
      "final_closing_price_pred.item() = -0.11085724830627441\n",
      "final_closing_price_pred.item() = -0.11003255844116211\n",
      "final_closing_price_pred.item() = -0.10914137959480286\n",
      "final_closing_price_pred.item() = -0.10860781371593475\n",
      "final_closing_price_pred.item() = -0.10831022262573242\n",
      "final_closing_price_pred.item() = -0.10833930969238281\n",
      "final_closing_price_pred.item() = -0.10803373157978058\n",
      "final_closing_price_pred.item() = -0.1070270985364914\n",
      "final_closing_price_pred.item() = -0.1059933453798294\n",
      "final_closing_price_pred.item() = -0.10566595196723938\n",
      "final_closing_price_pred.item() = -0.10563351213932037\n",
      "final_closing_price_pred.item() = -0.10555310547351837\n",
      "final_closing_price_pred.item() = -0.10526622831821442\n",
      "final_closing_price_pred.item() = -0.10478471219539642\n",
      "final_closing_price_pred.item() = -0.1042870283126831\n",
      "final_closing_price_pred.item() = -0.10433731973171234\n",
      "final_closing_price_pred.item() = -0.10511131584644318\n",
      "final_closing_price_pred.item() = -0.10591241717338562\n",
      "final_closing_price_pred.item() = -0.10636068880558014\n",
      "final_closing_price_pred.item() = -0.10661070048809052\n",
      "final_closing_price_pred.item() = -0.10656562447547913\n",
      "final_closing_price_pred.item() = -0.10613241791725159\n",
      "final_closing_price_pred.item() = -0.10541440546512604\n",
      "final_closing_price_pred.item() = -0.10486344993114471\n",
      "final_closing_price_pred.item() = -0.10463576018810272\n",
      "final_closing_price_pred.item() = -0.10449956357479095\n",
      "final_closing_price_pred.item() = -0.10456323623657227\n",
      "final_closing_price_pred.item() = -0.10470759868621826\n",
      "final_closing_price_pred.item() = -0.10470651090145111\n",
      "final_closing_price_pred.item() = -0.10448159277439117\n",
      "final_closing_price_pred.item() = -0.10409243404865265\n",
      "final_closing_price_pred.item() = -0.1036018580198288\n",
      "final_closing_price_pred.item() = -0.10313308238983154\n",
      "final_closing_price_pred.item() = -0.10276496410369873\n",
      "final_closing_price_pred.item() = -0.10235364735126495\n",
      "final_closing_price_pred.item() = -0.10200411081314087\n",
      "final_closing_price_pred.item() = -0.10155069828033447\n",
      "final_closing_price_pred.item() = -0.10133588314056396\n",
      "final_closing_price_pred.item() = -0.10156777501106262\n",
      "final_closing_price_pred.item() = -0.10188372433185577\n",
      "final_closing_price_pred.item() = -0.10230095684528351\n",
      "final_closing_price_pred.item() = -0.10316802561283112\n",
      "final_closing_price_pred.item() = -0.10524047911167145\n",
      "final_closing_price_pred.item() = -0.10692273080348969\n",
      "final_closing_price_pred.item() = -0.10721828043460846\n",
      "final_closing_price_pred.item() = -0.10693548619747162\n",
      "final_closing_price_pred.item() = -0.10684926807880402\n",
      "final_closing_price_pred.item() = -0.10749304294586182\n",
      "final_closing_price_pred.item() = -0.10814408957958221\n",
      "final_closing_price_pred.item() = -0.10850819945335388\n",
      "final_closing_price_pred.item() = -0.10883265733718872\n",
      "final_closing_price_pred.item() = -0.10940185189247131\n",
      "final_closing_price_pred.item() = -0.10979248583316803\n",
      "final_closing_price_pred.item() = -0.10898730158805847\n",
      "final_closing_price_pred.item() = -0.10808943212032318\n",
      "final_closing_price_pred.item() = -0.10852651298046112\n",
      "final_closing_price_pred.item() = -0.10939669609069824\n",
      "final_closing_price_pred.item() = -0.10986986756324768\n",
      "final_closing_price_pred.item() = -0.10992038249969482\n",
      "final_closing_price_pred.item() = -0.1104733943939209\n",
      "final_closing_price_pred.item() = -0.11152993142604828\n",
      "final_closing_price_pred.item() = -0.11251047253608704\n",
      "final_closing_price_pred.item() = -0.11375336349010468\n",
      "final_closing_price_pred.item() = -0.11536027491092682\n",
      "final_closing_price_pred.item() = -0.11688162386417389\n",
      "final_closing_price_pred.item() = -0.11904102563858032\n",
      "final_closing_price_pred.item() = -0.12086580693721771\n",
      "final_closing_price_pred.item() = -0.12001771479845047\n",
      "final_closing_price_pred.item() = -0.11961085349321365\n",
      "final_closing_price_pred.item() = -0.11844533681869507\n",
      "final_closing_price_pred.item() = -0.11709269136190414\n",
      "final_closing_price_pred.item() = -0.11642949283123016\n",
      "final_closing_price_pred.item() = -0.1161966323852539\n",
      "final_closing_price_pred.item() = -0.11570508033037186\n",
      "final_closing_price_pred.item() = -0.1150207668542862\n",
      "final_closing_price_pred.item() = -0.1145838052034378\n",
      "final_closing_price_pred.item() = -0.11401925981044769\n",
      "final_closing_price_pred.item() = -0.11370210349559784\n",
      "final_closing_price_pred.item() = -0.11370359361171722\n",
      "final_closing_price_pred.item() = -0.11370506882667542\n",
      "final_closing_price_pred.item() = -0.11415030062198639\n",
      "final_closing_price_pred.item() = -0.11515180766582489\n",
      "final_closing_price_pred.item() = -0.11596892029047012\n",
      "final_closing_price_pred.item() = -0.11571043729782104\n",
      "final_closing_price_pred.item() = -0.11506828665733337\n",
      "final_closing_price_pred.item() = -0.11396527290344238\n",
      "final_closing_price_pred.item() = -0.11274057626724243\n",
      "final_closing_price_pred.item() = -0.11188440024852753\n",
      "final_closing_price_pred.item() = -0.11133363842964172\n",
      "final_closing_price_pred.item() = -0.11110082268714905\n",
      "final_closing_price_pred.item() = -0.11090166866779327\n",
      "final_closing_price_pred.item() = -0.11015564203262329\n",
      "final_closing_price_pred.item() = -0.10961790382862091\n",
      "final_closing_price_pred.item() = -0.10951125621795654\n",
      "final_closing_price_pred.item() = -0.10944132506847382\n",
      "final_closing_price_pred.item() = -0.10939919948577881\n",
      "final_closing_price_pred.item() = -0.10961951315402985\n",
      "final_closing_price_pred.item() = -0.10997186601161957\n",
      "final_closing_price_pred.item() = -0.10981874167919159\n",
      "final_closing_price_pred.item() = -0.1094229519367218\n",
      "final_closing_price_pred.item() = -0.10849398374557495\n",
      "final_closing_price_pred.item() = -0.10763059556484222\n",
      "final_closing_price_pred.item() = -0.10651980340480804\n",
      "final_closing_price_pred.item() = -0.10428763926029205\n",
      "final_closing_price_pred.item() = -0.10326071083545685\n",
      "final_closing_price_pred.item() = -0.10404211282730103\n",
      "final_closing_price_pred.item() = -0.10478433966636658\n",
      "final_closing_price_pred.item() = -0.10541148483753204\n",
      "final_closing_price_pred.item() = -0.10616056621074677\n",
      "final_closing_price_pred.item() = -0.1070123165845871\n",
      "final_closing_price_pred.item() = -0.10711464285850525\n",
      "final_closing_price_pred.item() = -0.10648788511753082\n",
      "final_closing_price_pred.item() = -0.10605458915233612\n",
      "final_closing_price_pred.item() = -0.10606294870376587\n",
      "final_closing_price_pred.item() = -0.10650432109832764\n",
      "final_closing_price_pred.item() = -0.10653920471668243\n",
      "final_closing_price_pred.item() = -0.10668344795703888\n",
      "final_closing_price_pred.item() = -0.1069299727678299\n",
      "final_closing_price_pred.item() = -0.10656371712684631\n",
      "final_closing_price_pred.item() = -0.10616214573383331\n",
      "final_closing_price_pred.item() = -0.10624134540557861\n",
      "final_closing_price_pred.item() = -0.10657750070095062\n",
      "final_closing_price_pred.item() = -0.1067625880241394\n",
      "final_closing_price_pred.item() = -0.10734552145004272\n",
      "final_closing_price_pred.item() = -0.10758465528488159\n",
      "final_closing_price_pred.item() = -0.10707822442054749\n",
      "final_closing_price_pred.item() = -0.10672125220298767\n",
      "final_closing_price_pred.item() = -0.10619772970676422\n",
      "final_closing_price_pred.item() = -0.10592247545719147\n",
      "final_closing_price_pred.item() = -0.10604231059551239\n",
      "final_closing_price_pred.item() = -0.10568289458751678\n",
      "final_closing_price_pred.item() = -0.10475820302963257\n",
      "final_closing_price_pred.item() = -0.10429072380065918\n",
      "final_closing_price_pred.item() = -0.10417719185352325\n",
      "final_closing_price_pred.item() = -0.1038694679737091\n",
      "final_closing_price_pred.item() = -0.10337896645069122\n",
      "final_closing_price_pred.item() = -0.10289543867111206\n",
      "final_closing_price_pred.item() = -0.10272768139839172\n",
      "final_closing_price_pred.item() = -0.102828249335289\n",
      "final_closing_price_pred.item() = -0.10294435918331146\n",
      "final_closing_price_pred.item() = -0.10285684466362\n",
      "final_closing_price_pred.item() = -0.10275571048259735\n",
      "final_closing_price_pred.item() = -0.10285414755344391\n",
      "final_closing_price_pred.item() = -0.10293512046337128\n",
      "final_closing_price_pred.item() = -0.10306566953659058\n",
      "final_closing_price_pred.item() = -0.10302779078483582\n",
      "final_closing_price_pred.item() = -0.10322761535644531\n",
      "final_closing_price_pred.item() = -0.10385456681251526\n",
      "final_closing_price_pred.item() = -0.1044384092092514\n",
      "final_closing_price_pred.item() = -0.10502855479717255\n",
      "final_closing_price_pred.item() = -0.10557602345943451\n",
      "final_closing_price_pred.item() = -0.10554403066635132\n",
      "final_closing_price_pred.item() = -0.1049332320690155\n",
      "final_closing_price_pred.item() = -0.10470069944858551\n",
      "final_closing_price_pred.item() = -0.10477949678897858\n",
      "final_closing_price_pred.item() = -0.10450756549835205\n",
      "final_closing_price_pred.item() = -0.10390432178974152\n",
      "final_closing_price_pred.item() = -0.10343155264854431\n",
      "final_closing_price_pred.item() = -0.10297803580760956\n",
      "final_closing_price_pred.item() = -0.10239870846271515\n",
      "final_closing_price_pred.item() = -0.10203695297241211\n",
      "final_closing_price_pred.item() = -0.10188175737857819\n",
      "final_closing_price_pred.item() = -0.10186891257762909\n",
      "final_closing_price_pred.item() = -0.10176172852516174\n",
      "final_closing_price_pred.item() = -0.10159702599048615\n",
      "final_closing_price_pred.item() = -0.10124455392360687\n",
      "final_closing_price_pred.item() = -0.10100714862346649\n",
      "final_closing_price_pred.item() = -0.10082468390464783\n",
      "final_closing_price_pred.item() = -0.10055232048034668\n",
      "final_closing_price_pred.item() = -0.10081847012042999\n",
      "final_closing_price_pred.item() = -0.10084164142608643\n",
      "final_closing_price_pred.item() = -0.10058672726154327\n",
      "final_closing_price_pred.item() = -0.10011850297451019\n",
      "final_closing_price_pred.item() = -0.09967829287052155\n",
      "final_closing_price_pred.item() = -0.0995248407125473\n",
      "final_closing_price_pred.item() = -0.09940902888774872\n",
      "final_closing_price_pred.item() = -0.09914711117744446\n",
      "final_closing_price_pred.item() = -0.0991000086069107\n",
      "final_closing_price_pred.item() = -0.09922157227993011\n",
      "final_closing_price_pred.item() = -0.09914575517177582\n",
      "final_closing_price_pred.item() = -0.09900543093681335\n",
      "final_closing_price_pred.item() = -0.09871745109558105\n",
      "final_closing_price_pred.item() = -0.09852789342403412\n",
      "final_closing_price_pred.item() = -0.09885706007480621\n",
      "final_closing_price_pred.item() = -0.09903433918952942\n",
      "final_closing_price_pred.item() = -0.09923036396503448\n",
      "final_closing_price_pred.item() = -0.09926007688045502\n",
      "final_closing_price_pred.item() = -0.09927883744239807\n",
      "final_closing_price_pred.item() = -0.09910738468170166\n",
      "final_closing_price_pred.item() = -0.09901365637779236\n",
      "final_closing_price_pred.item() = -0.09906570613384247\n",
      "final_closing_price_pred.item() = -0.09916558861732483\n",
      "final_closing_price_pred.item() = -0.0991816520690918\n",
      "final_closing_price_pred.item() = -0.09881772100925446\n",
      "final_closing_price_pred.item() = -0.09825347363948822\n",
      "final_closing_price_pred.item() = -0.0979883223772049\n",
      "final_closing_price_pred.item() = -0.09776611626148224\n",
      "final_closing_price_pred.item() = -0.09769991040229797\n",
      "final_closing_price_pred.item() = -0.09765170514583588\n",
      "final_closing_price_pred.item() = -0.09759832918643951\n",
      "final_closing_price_pred.item() = -0.09749805927276611\n",
      "final_closing_price_pred.item() = -0.09748932719230652\n",
      "final_closing_price_pred.item() = -0.09734737873077393\n",
      "final_closing_price_pred.item() = -0.09751002490520477\n",
      "final_closing_price_pred.item() = -0.09751681983470917\n",
      "final_closing_price_pred.item() = -0.09750232100486755\n",
      "final_closing_price_pred.item() = -0.0976281464099884\n",
      "final_closing_price_pred.item() = -0.0976400226354599\n",
      "final_closing_price_pred.item() = -0.09763102233409882\n",
      "final_closing_price_pred.item() = -0.09744761884212494\n",
      "final_closing_price_pred.item() = -0.09760813415050507\n",
      "final_closing_price_pred.item() = -0.09762462973594666\n",
      "final_closing_price_pred.item() = -0.0972762256860733\n",
      "final_closing_price_pred.item() = -0.09670792520046234\n",
      "final_closing_price_pred.item() = -0.09663517773151398\n",
      "final_closing_price_pred.item() = -0.09604819118976593\n",
      "final_closing_price_pred.item() = -0.09612071514129639\n",
      "final_closing_price_pred.item() = -0.09583680331707001\n",
      "final_closing_price_pred.item() = -0.09564103186130524\n",
      "final_closing_price_pred.item() = -0.0955781489610672\n",
      "final_closing_price_pred.item() = -0.09552024304866791\n",
      "final_closing_price_pred.item() = -0.0955861359834671\n",
      "final_closing_price_pred.item() = -0.09525041282176971\n",
      "final_closing_price_pred.item() = -0.09507511556148529\n",
      "final_closing_price_pred.item() = -0.09494417905807495\n",
      "final_closing_price_pred.item() = -0.09533461928367615\n",
      "final_closing_price_pred.item() = -0.09545072913169861\n",
      "final_closing_price_pred.item() = -0.09560093283653259\n",
      "final_closing_price_pred.item() = -0.09593348205089569\n",
      "final_closing_price_pred.item() = -0.0959056168794632\n",
      "final_closing_price_pred.item() = -0.09528931975364685\n",
      "final_closing_price_pred.item() = -0.09546808898448944\n",
      "final_closing_price_pred.item() = -0.09557729959487915\n",
      "final_closing_price_pred.item() = -0.09561286866664886\n",
      "final_closing_price_pred.item() = -0.0948811024427414\n",
      "final_closing_price_pred.item() = -0.09585100412368774\n",
      "final_closing_price_pred.item() = -0.09513643383979797\n",
      "final_closing_price_pred.item() = -0.09475551545619965\n",
      "final_closing_price_pred.item() = -0.09496735036373138\n",
      "final_closing_price_pred.item() = -0.09469230473041534\n",
      "final_closing_price_pred.item() = -0.09511308372020721\n",
      "final_closing_price_pred.item() = -0.0950252115726471\n",
      "final_closing_price_pred.item() = -0.09522254765033722\n",
      "final_closing_price_pred.item() = -0.09518541395664215\n",
      "final_closing_price_pred.item() = -0.09543627500534058\n",
      "final_closing_price_pred.item() = -0.0955948531627655\n",
      "final_closing_price_pred.item() = -0.0962240993976593\n",
      "final_closing_price_pred.item() = -0.09689170122146606\n",
      "final_closing_price_pred.item() = -0.09736891090869904\n",
      "final_closing_price_pred.item() = -0.09727700054645538\n",
      "final_closing_price_pred.item() = -0.09728042781352997\n",
      "final_closing_price_pred.item() = -0.09814782440662384\n",
      "final_closing_price_pred.item() = -0.09749075770378113\n",
      "final_closing_price_pred.item() = -0.09734418988227844\n",
      "final_closing_price_pred.item() = -0.09835827350616455\n",
      "final_closing_price_pred.item() = -0.09842371940612793\n",
      "final_closing_price_pred.item() = -0.1003735363483429\n",
      "final_closing_price_pred.item() = -0.10147649049758911\n",
      "final_closing_price_pred.item() = -0.10342688858509064\n",
      "final_closing_price_pred.item() = -0.10442918539047241\n",
      "final_closing_price_pred.item() = -0.10623924434185028\n",
      "final_closing_price_pred.item() = -0.10913346707820892\n",
      "final_closing_price_pred.item() = -0.11073625087738037\n",
      "final_closing_price_pred.item() = -0.11174125969409943\n",
      "final_closing_price_pred.item() = -0.11451591551303864\n",
      "final_closing_price_pred.item() = -0.1141044944524765\n",
      "final_closing_price_pred.item() = -0.11448918282985687\n",
      "final_closing_price_pred.item() = -0.11462859809398651\n",
      "final_closing_price_pred.item() = -0.11499321460723877\n",
      "final_closing_price_pred.item() = -0.11316631734371185\n"
     ]
    }
   ],
   "source": [
    "final_closing_price_gts, final_closing_price_predictions = pytorch_pipeline.deploy_model(stock_test_loader, lstm_model)"
   ]
  },
  {
   "cell_type": "markdown",
   "id": "ea6edfa0-0050-4e26-9636-d68248144b94",
   "metadata": {},
   "source": [
    "## Unscale Final Closing Stock Price Predictions"
   ]
  },
  {
   "cell_type": "code",
   "execution_count": 85,
   "id": "24a7e176-466c-45c2-80b5-cdc55f7e0c05",
   "metadata": {},
   "outputs": [],
   "source": [
    "unscale = 1/scaler.scale_"
   ]
  },
  {
   "cell_type": "code",
   "execution_count": 86,
   "id": "f730efb3-b035-4791-9c79-3f309f51f4fc",
   "metadata": {},
   "outputs": [
    {
     "data": {
      "text/plain": [
       "array([738.43583679])"
      ]
     },
     "execution_count": 86,
     "metadata": {},
     "output_type": "execute_result"
    }
   ],
   "source": [
    "np.array([unscale[0]])"
   ]
  },
  {
   "cell_type": "code",
   "execution_count": 87,
   "id": "a0df18b7-c041-429d-ac35-b1289641364c",
   "metadata": {},
   "outputs": [],
   "source": [
    "final_closing_price_unscaled_preds = final_closing_price_predictions*np.array([unscale[0]])"
   ]
  },
  {
   "cell_type": "code",
   "execution_count": 88,
   "id": "8ab780a9-b926-4169-adf1-3468bf31505f",
   "metadata": {},
   "outputs": [],
   "source": [
    "final_closing_price_unscaled_gts = final_closing_price_gts*np.array([unscale[0]])"
   ]
  },
  {
   "cell_type": "markdown",
   "id": "e0fa551f-3978-4742-8681-b5a5f74037e5",
   "metadata": {},
   "source": [
    "It looks like we are getting correct predictions in which I mean they are not the same for every set of features. We maybe able to improve the predictions if we increase the lookback from 7 to 100 days that we predict on. We'll test that next. I have two graphs, one with scaled predicted stock closing prices and the other with unscaled predicted stock closing prices. It seems like our initial issue where we were getting the same predictions for each set of features was happening because of the way we were using dropout and relu. **For now the simple LSTM neural network architecture works, we'll build on top of it to improve it.**"
   ]
  },
  {
   "cell_type": "code",
   "execution_count": 89,
   "id": "0a4e4fb8-2a01-44c8-b2d5-75e544ef55e0",
   "metadata": {},
   "outputs": [
    {
     "data": {
      "image/png": "[encoded data removed]",
      "text/plain": [
       "<Figure size 640x480 with 1 Axes>"
      ]
     },
     "metadata": {},
     "output_type": "display_data"
    }
   ],
   "source": [
    "pytorch_utility.plot_gt_pred_curves(final_closing_price_gts, final_closing_price_predictions,\n",
    "                    \"LSTM GT & Pred Scaled Stock Closing Price\", \"lstm_gt_pred_scaled_stock_close_price_curves.jpg\")"
   ]
  },
  {
   "cell_type": "code",
   "execution_count": 90,
   "id": "27102594-8258-4fe0-9e59-bf7d0c3f5660",
   "metadata": {},
   "outputs": [
    {
     "data": {
      "image/png": "[encoded data removed]",
      "text/plain": [
       "<Figure size 640x480 with 1 Axes>"
      ]
     },
     "metadata": {},
     "output_type": "display_data"
    }
   ],
   "source": [
    "pytorch_utility.plot_gt_pred_curves(final_closing_price_unscaled_gts, final_closing_price_unscaled_preds,\n",
    "                    \"LSTM GT & Pred Unscaled Stock Closing Price\", \"lstm_gt_pred_unscaled_stock_close_price_curves.jpg\")"
   ]
  },
  {
   "cell_type": "code",
   "execution_count": 92,
   "id": "ea5b48f4-68bf-493a-b112-58354adf7eae",
   "metadata": {},
   "outputs": [
    {
     "ename": "NameError",
     "evalue": "name 'google_stock_test_date' is not defined",
     "output_type": "error",
     "traceback": [
      "\u001b[0;31m---------------------------------------------------------------------------\u001b[0m",
      "\u001b[0;31mNameError\u001b[0m                                 Traceback (most recent call last)",
      "Cell \u001b[0;32mIn[92], line 1\u001b[0m\n\u001b[0;32m----> 1\u001b[0m pytorch_utility\u001b[38;5;241m.\u001b[39msave_lstm_predictions(\u001b[43mgoogle_stock_test_date\u001b[49m, final_closing_price_unscaled_preds, np\u001b[38;5;241m.\u001b[39marray([unscale[\u001b[38;5;241m0\u001b[39m]]),\n\u001b[1;32m      2\u001b[0m                                        num_days\u001b[38;5;241m=\u001b[39m\u001b[38;5;241m100\u001b[39m, dst_folder\u001b[38;5;241m=\u001b[39m\u001b[38;5;124m\"\u001b[39m\u001b[38;5;124mlstm_stock_close/unscaled_predictions/\u001b[39m\u001b[38;5;124m\"\u001b[39m, \n\u001b[1;32m      3\u001b[0m                                        filename\u001b[38;5;241m=\u001b[39m\u001b[38;5;124m\"\u001b[39m\u001b[38;5;124mpytorch_final_closing_price_unscaled_preds.csv\u001b[39m\u001b[38;5;124m\"\u001b[39m)\n",
      "\u001b[0;31mNameError\u001b[0m: name 'google_stock_test_date' is not defined"
     ]
    }
   ],
   "source": [
    "pytorch_utility.save_lstm_predictions(google_stock_test_date, final_closing_price_unscaled_preds, np.array([unscale[0]]),\n",
    "                                       num_days=100, dst_folder=\"lstm_stock_close/unscaled_predictions/\", \n",
    "                                       filename=\"pytorch_final_closing_price_unscaled_preds.csv\")"
   ]
  },
  {
   "cell_type": "code",
   "execution_count": null,
   "id": "198b08f5-3c76-44a6-a63a-3621c70a6ebe",
   "metadata": {},
   "outputs": [],
   "source": []
  }
 ],
 "metadata": {
  "kernelspec": {
   "display_name": "Python 3 (ipykernel)",
   "language": "python",
   "name": "python3"
  },
  "language_info": {
   "codemirror_mode": {
    "name": "ipython",
    "version": 3
   },
   "file_extension": ".py",
   "mimetype": "text/x-python",
   "name": "python",
   "nbconvert_exporter": "python",
   "pygments_lexer": "ipython3",
   "version": "3.9.17"
  }
 },
 "nbformat": 4,
 "nbformat_minor": 5
}
