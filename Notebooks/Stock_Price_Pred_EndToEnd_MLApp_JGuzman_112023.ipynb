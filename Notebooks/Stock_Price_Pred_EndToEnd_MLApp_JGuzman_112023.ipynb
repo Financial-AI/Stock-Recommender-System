{
 "cells": [
  {
   "cell_type": "markdown",
   "id": "7d69c269-ca4a-4ca2-bda8-1c29451ef5ff",
   "metadata": {},
   "source": [
    "# Stock Price Prediction End To End ML App (Rev 11/21/23)\n",
    "\n",
    "- PyTorch (Not TF)\n",
    "- yfinance (for now just use NASDAQ directly)\n",
    "- matplotlib\n",
    "- numpy\n",
    "- pandas\n",
    "- streamlit (?)\n",
    "\n",
    "**Contributor**: James Guzman\n",
    "\n",
    "**Teammates**: Josef, Anshul\n",
    "\n",
    "**Project Advisor**: Dr. Magdalini Eirinaki\n",
    "\n",
    "**SJSU CMPE 256**: Advanced Data Mining\n",
    "\n",
    "**Date**: Nov 17, 2023\n",
    "\n",
    "Based on \"Machine Learning Project in Python to Predict Stock Price ML End to End Application\":\n",
    "\n",
    "- https://youtu.be/P3JlMWoP3fE?si=XxIz2Zo8GCt9ziHM\n",
    "\n",
    "Based on \"Amazon Stock Forecasting in PyTorch with LSTM Neural Network (Time Series Forecasting) | Tutorial 3\":\n",
    "\n",
    "- https://www.youtube.com/watch?v=q_HS4s1L8UI\n",
    "\n",
    "Planning to Contribute our Semester Project to H2O Wave App Store (Currently, I submitted a project idea to their discussion forum on GitHub):\n",
    "\n",
    "- https://github.com/h2oai/wave/discussions/2200\n",
    "\n",
    "Added multi layer LSTM model.\n",
    "\n",
    "Referenced perplexity.ai for questions in regards to updating PyTorch's LSTM layers to create\n",
    "multi-layer LSTM neural network:\n",
    "\n",
    "- https://www.perplexity.ai/search/Stock-Recommender-System-BY7xxwMfT9Ohxqz5klk1BA?s=c\n",
    "\n",
    "NOTE: Valid close stock price predictions is too noisy when using multi layer LSTM with varying hidden features, \n",
    "need to see if I can get it closer to real stock close price. Then test set. I went with single LSTM so far and got\n",
    "better results."
   ]
  },
  {
   "cell_type": "code",
   "execution_count": 1,
   "id": "1d2fb862-b207-4eaa-aa1c-108f19773818",
   "metadata": {},
   "outputs": [],
   "source": [
    "import os\n",
    "import torch\n",
    "import torch.nn as nn\n",
    "import torch.optim as optim\n",
    "from torch.utils.data import DataLoader\n",
    "from copy import deepcopy as dc\n",
    "from tqdm.notebook import tqdm\n",
    "# import yfinance as yf\n",
    "import matplotlib.pyplot as plt\n",
    "import numpy as np\n",
    "import pandas as pd\n",
    "from sklearn.preprocessing import MinMaxScaler\n",
    "# import streamlit\n",
    "    # streamlit they use to deploy as a web app, for now I will use Wave or PySide6"
   ]
  },
  {
   "cell_type": "code",
   "execution_count": 2,
   "id": "08c80100-497a-471c-b94c-8d677645d418",
   "metadata": {},
   "outputs": [
    {
     "name": "stdout",
     "output_type": "stream",
     "text": [
      "Running on GPU NVIDIA GeForce RTX 3050 Ti Laptop GPU\n"
     ]
    }
   ],
   "source": [
    "LEARNING_RATE = 1e-2\n",
    "BATCH_SIZE = 16\n",
    "TEST_BATCH_SIZE = 1\n",
    "NUM_EPOCHS = 10\n",
    "DEBUG = True\n",
    "\n",
    "dataset_name = \"stock_closing_price\"\n",
    "\n",
    "device = torch.device(\"cuda\")\n",
    "print(f\"Running on GPU {torch.cuda.get_device_name(device)}\")"
   ]
  },
  {
   "cell_type": "code",
   "execution_count": 3,
   "id": "9a64d5f3-714d-44f3-a05f-357bbb187c37",
   "metadata": {},
   "outputs": [],
   "source": [
    "train_mse_loss_avg_values = []\n",
    "train_rmse_loss_avg_values = []\n",
    "\n",
    "valid_mse_loss_avg_values = []\n",
    "valid_rmse_loss_avg_values = []"
   ]
  },
  {
   "cell_type": "markdown",
   "id": "8224728b-8190-45d6-a8a1-70b76e939ea6",
   "metadata": {},
   "source": [
    "## Helper Classes & Functions"
   ]
  },
  {
   "cell_type": "code",
   "execution_count": 4,
   "id": "fe2279c3-fac4-44b9-8377-d0592f152dd4",
   "metadata": {},
   "outputs": [],
   "source": [
    "def mkdir_prep_dir(dirpath):\n",
    "    \"\"\"make preprocess directory if doesn't exist\"\"\"\n",
    "    prep_dir = dirpath\n",
    "    if not os.path.exists(prep_dir):\n",
    "        os.makedirs(prep_dir)\n",
    "    return prep_dir\n",
    "\n",
    "def save_checkpoint(state, filename=\"best_lstm.pth.tar\"):\n",
    "    print(\"=> Saving Checkpoint\")\n",
    "    torch.save(state, filename)\n",
    "\n",
    "def rmse(y_true, y_pred):\n",
    "    return torch.sqrt(torch.mean((y_true - y_pred) ** 2))\n"
   ]
  },
  {
   "cell_type": "code",
   "execution_count": 5,
   "id": "4b8063b7-3813-4775-b856-c21fa3dfc972",
   "metadata": {},
   "outputs": [],
   "source": [
    "# Ideally, I am thinking of parts of the preprocessing pipeline code, I can refactor toward nifi later\n",
    "# Need a better telemetry dashboard to interact with NiFi: Unity, H2O Wave, PySide6 QT\n",
    "class DataPrepPipeline:\n",
    "    def __init__(self):\n",
    "        pass\n",
    "\n",
    "    # Based on Greg Hogg's Stock Pred Video: https://youtu.be/q_HS4s1L8UI?si=CHWvbvfoPExQcALa\n",
    "    def prepare_df_for_lstm(self, stock_df, n_steps):\n",
    "        \"\"\"\n",
    "        # 10 days stock price\n",
    "        # it'll take the first 10 days, to then predict 11th day stock price\n",
    "        # 10, 11, 12, 15, 16, 17, 18, 19, 20, 17, \"18\"\n",
    "        # for the 12th day prediction, it'll take the 11th back to the 1st day\n",
    "        # .., 11, 12, 15, 16, 17, 18, 19, 20, 17, 18, \"19\"\n",
    "        \"\"\"\n",
    "        stock_df = dc(stock_df)\n",
    "        stock_df[\"Date\"] = pd.to_datetime(stock_df[\"Date\"])\n",
    "\n",
    "        stock_df.set_index(\"Date\", inplace=True)\n",
    "\n",
    "        for i in range(1, n_steps+1):\n",
    "            stock_df[f\"Close(t-{i})\"] = stock_df[\"Close\"].shift(i)\n",
    "\n",
    "        stock_df.dropna(inplace=True)\n",
    "\n",
    "        return stock_df\n",
    "\n",
    "    def split_features_labels(self, stock_features_labels_pd):\n",
    "        x_features = stock_features_labels_pd[:, 1:]\n",
    "        y_labels = stock_features_labels_pd[:, 0]\n",
    "\n",
    "        if DEBUG:\n",
    "            print(f\"x_features shape = {x_features.shape}; y_labels shape = {y_labels.shape}\")\n",
    "        return x_features, y_labels"
   ]
  },
  {
   "cell_type": "code",
   "execution_count": 6,
   "id": "bdbff328-bc26-4de5-81a1-88c2e4aa8fc3",
   "metadata": {},
   "outputs": [],
   "source": [
    "class PyTorchPipeline:\n",
    "    def __init__(self):\n",
    "        pass\n",
    "\n",
    "    def train_model(self, train_loader, lstm_model, optimizer, loss_criterion):\n",
    "        train_loop = tqdm(train_loader)\n",
    "\n",
    "        train_mse_loss_values = []\n",
    "        train_rmse_loss_values = []\n",
    "\n",
    "        # closing_price_2d_tensor\n",
    "        for batch_idx, (closing_price_2d_tensor, final_closing_price_tensor_gt) in enumerate(train_loop):\n",
    "            # final_closing_price_tensor_gt = final_closing_price_tensor.unsqueeze(1)\n",
    "\n",
    "            optimizer.zero_grad()\n",
    "            closing_price_2d_tensor = closing_price_2d_tensor.to(device)\n",
    "            final_closing_price_tensor_gt = final_closing_price_tensor_gt.to(device)\n",
    "            pred_final_closing_price = lstm_model(closing_price_2d_tensor)\n",
    "            mse_loss = loss_criterion(pred_final_closing_price, final_closing_price_tensor_gt)\n",
    "            rmse_loss = rmse(pred_final_closing_price, final_closing_price_tensor_gt)\n",
    "\n",
    "            mse_loss.backward()\n",
    "            optimizer.step()\n",
    "\n",
    "            train_mse_loss_values.append(mse_loss.item())\n",
    "            train_rmse_loss_values.append(rmse_loss.item())\n",
    "\n",
    "            train_loop.set_postfix(train_mse_loss=mse_loss.item(), train_rmse_loss=rmse_loss.item())\n",
    "\n",
    "        train_mse_loss_avg_values.append( sum(train_mse_loss_values)/len(train_loader) )\n",
    "        train_rmse_loss_avg_values.append( sum(train_rmse_loss_values)/len(train_loader) )\n",
    "\n",
    "    def validate_model(self, val_loader, lstm_model, loss_criterion):\n",
    "        val_loop = tqdm(val_loader)\n",
    "\n",
    "        val_mse_loss_values = []\n",
    "        val_rmse_loss_values = []\n",
    "\n",
    "        for batch_idx, (closing_price_2d_tensor, final_closing_price_tensor_gt) in enumerate(val_loop):\n",
    "            # final_closing_price_tensor_gt = final_closing_price_tensor.unsqueeze(1)\n",
    "            closing_price_2d_tensor = closing_price_2d_tensor.to(device)\n",
    "            final_closing_price_tensor_gt = final_closing_price_tensor_gt.to(device)\n",
    "            \n",
    "            pred_final_closing_price = lstm_model(closing_price_2d_tensor)\n",
    "            mse_loss = loss_criterion(pred_final_closing_price, final_closing_price_tensor_gt)\n",
    "            rmse_loss = rmse(pred_final_closing_price, final_closing_price_tensor_gt)\n",
    "\n",
    "\n",
    "            val_mse_loss_values.append(mse_loss.item())\n",
    "            val_rmse_loss_values.append(rmse_loss.item())\n",
    "\n",
    "            val_loop.set_postfix(val_mse_loss=mse_loss.item(), val_rmse_loss=rmse_loss.item())\n",
    "\n",
    "        valid_mse_loss_avg_values.append( sum(val_mse_loss_values)/len(val_loader) )\n",
    "        valid_rmse_loss_avg_values.append( sum(val_rmse_loss_values)/len(val_loader) )\n",
    "\n",
    "    def train_over_epochs(self, train_loader, test_loader, lstm_model, optimizer, loss_criterion, dst_folder=\"lstm_model\"):\n",
    "        step = 100\n",
    "        for epoch in range(NUM_EPOCHS):\n",
    "            self.train_model(train_loader, lstm_model, optimizer, loss_criterion)\n",
    "\n",
    "            checkpoint = {\n",
    "                \"state_dict\": lstm_model.state_dict(),\n",
    "                \"optimizer\": optimizer.state_dict(),\n",
    "            }\n",
    "\n",
    "            mkdir_prep_dir(f\"{dataset_name}/{dst_folder}\")\n",
    "            filename = f\"{dataset_name}/{dst_folder}/lstm_model_{step}.pth.tar\"\n",
    "            save_checkpoint(checkpoint, filename=filename)\n",
    "\n",
    "            self.validate_model(test_loader, lstm_model, loss_criterion)\n",
    "\n",
    "            step += 100\n",
    "\n",
    "    def deploy_model(self, test_loader, lstm_model):\n",
    "        test_loop = tqdm(test_loader)\n",
    "        final_closing_price_predictions = []\n",
    "        final_closing_price_gts = []\n",
    "        count = 0\n",
    "\n",
    "        for batch_idx, (closing_price_2d_tensor, final_closing_price_tensor) in enumerate(test_loop):\n",
    "            closing_price_2d_tensor = closing_price_2d_tensor.to(device)\n",
    "            final_closing_price_pred = lstm_model(closing_price_2d_tensor)\n",
    "            # if DEBUG and count == 0:\n",
    "            print(f\"final_closing_price_pred.item() = {final_closing_price_pred.item()}\")\n",
    "            final_closing_price_predictions.append(final_closing_price_pred.item())\n",
    "            final_closing_price_gts.append(final_closing_price_tensor.item())\n",
    "            count += 1\n",
    "        return final_closing_price_gts, final_closing_price_predictions\n",
    "\n",
    "    def test_dataloader_sample(self, data_loader):\n",
    "        for batch_idx, (closing_price_features_tensor, closing_price_labels_tensor) in enumerate(data_loader):\n",
    "            closing_price_features_tensor = closing_price_features_tensor.to(device)\n",
    "            closing_price_labels_tensor = closing_price_labels_tensor.to(device)\n",
    "            print(f\"close price features shape: {closing_price_features_tensor.shape}; close price labels shape: {closing_price_labels_tensor.shape}\")\n",
    "            break"
   ]
  },
  {
   "cell_type": "code",
   "execution_count": 7,
   "id": "3f653d58-7e80-4d7a-8dd4-008a2c277c89",
   "metadata": {},
   "outputs": [],
   "source": [
    "class PyTorchUtility:\n",
    "    def __init__(self):\n",
    "        pass\n",
    "\n",
    "    # TODO (JG): Add arguments for naming the two labels\n",
    "    def plot_loss_curves(self, train_loss_values, test_loss_values, plot_title, plot_filename):\n",
    "        f, ax = plt.subplots()\n",
    "        ax.set_title(plot_title)\n",
    "        ax.plot(train_loss_values, color=\"blue\", label=\"Train RMSE\")\n",
    "        ax.plot(test_loss_values, color=\"gold\", label=\"Valid RMSE\")\n",
    "        ax.grid(True)\n",
    "        ax.set_xlabel(\"Epochs\")\n",
    "        ax.set_ylabel(\"RMSE Loss\")\n",
    "        plt.legend()\n",
    "        plt.savefig(plot_filename)\n",
    "        plt.show()\n",
    "\n",
    "    \n",
    "    def plot_gt_pred_curves(self, final_closing_price_gts, final_closing_price_predictions, plot_title, plot_filename):\n",
    "        f, ax = plt.subplots()\n",
    "        ax.set_title(plot_title)\n",
    "        ax.plot(final_closing_price_predictions, color=\"blue\", label=\"Pred Price\")\n",
    "        ax.plot(final_closing_price_gts, color=\"gold\", label=\"GT Price\")\n",
    "        ax.grid(True)\n",
    "        ax.set_xlabel(\"Time\")\n",
    "        ax.set_ylabel(\"Price\")\n",
    "        plt.legend()\n",
    "        plt.savefig(plot_filename)\n",
    "        plt.show()\n",
    "\n",
    "\n",
    "    # TODO (JG): Need to check num_days preds for closing price. Is it suppose to be over\n",
    "    def save_lstm_predictions(self, stock_test_date_df, final_closing_price_predictions, scale, num_days, dst_folder=\"lstm_model\", filename=\"pytorch_final_closing_price_preds.csv\"):\n",
    "        # test_close_price_df, google_stock_train_date\n",
    "        stock_date_list = []\n",
    "        # y_train_list = []\n",
    "\n",
    "        count = 0\n",
    "        for i in range(num_days, stock_test_date_df.shape[0]):\n",
    "            # if DEBUG and count == 0:\n",
    "            #     print(f\"stock_test_date_df[0] = {stock_test_date_df[0]}\")\n",
    "            #     print(f\"stock_test_date_df[i,0] = {stock_test_date_df[i,0]}\")\n",
    "                \n",
    "            stock_pred_date_id = stock_test_date_df.Date.iloc[i]\n",
    "            if DEBUG and count == 0:\n",
    "                print(f\"stock_pred_date_id = {stock_pred_date_id}\")\n",
    "            stock_date_list.append(stock_pred_date_id)\n",
    "            count += 1\n",
    "\n",
    "        mkdir_prep_dir(f\"{dataset_name}/{dst_folder}\")\n",
    "        dst_filepath = f\"{dataset_name}/{dst_folder}/{filename}\"\n",
    "\n",
    "        # final_closing_price_unscaled_preds = final_closing_price_predictions*scale\n",
    "        \n",
    "        # final close price pred for each 100th date after predicting on 100 days of final closing prices\n",
    "        stock_close_price_res_df = pd.DataFrame({f\"{num_days}th Date\": stock_date_list, \"Close\": final_closing_price_predictions})\n",
    "        stock_close_price_res_df.to_csv(dst_filepath, index=False)\n",
    "        return stock_close_price_res_df\n"
   ]
  },
  {
   "cell_type": "markdown",
   "id": "94b2f004-f9b4-44e9-b3cd-a2aa180e12d0",
   "metadata": {},
   "source": [
    "## Load NASDAQ Symbols Metadata"
   ]
  },
  {
   "cell_type": "code",
   "execution_count": 8,
   "id": "7ad30409-9c14-4cbf-86d0-9161b9a2e513",
   "metadata": {},
   "outputs": [],
   "source": [
    "# Load Stock Market Data\n",
    "nasdaq_meta_symbols_filepath = \"/home/james/src/datasets/NASDAQ_Yahoo_Finance/symbols_valid_meta.csv\""
   ]
  },
  {
   "cell_type": "code",
   "execution_count": 9,
   "id": "1fd04ffe-08dd-4311-bd03-9684eafb92d9",
   "metadata": {},
   "outputs": [],
   "source": [
    "nasdaq_symbols_meta_pd = pd.read_csv(nasdaq_meta_symbols_filepath)"
   ]
  },
  {
   "cell_type": "code",
   "execution_count": 10,
   "id": "0c08a337-19c7-479c-891e-01b4e7af5780",
   "metadata": {},
   "outputs": [
    {
     "data": {
      "text/html": [
       "<div>\n",
       "<style scoped>\n",
       "    .dataframe tbody tr th:only-of-type {\n",
       "        vertical-align: middle;\n",
       "    }\n",
       "\n",
       "    .dataframe tbody tr th {\n",
       "        vertical-align: top;\n",
       "    }\n",
       "\n",
       "    .dataframe thead th {\n",
       "        text-align: right;\n",
       "    }\n",
       "</style>\n",
       "<table border=\"1\" class=\"dataframe\">\n",
       "  <thead>\n",
       "    <tr style=\"text-align: right;\">\n",
       "      <th></th>\n",
       "      <th>Nasdaq Traded</th>\n",
       "      <th>Symbol</th>\n",
       "      <th>Security Name</th>\n",
       "      <th>Listing Exchange</th>\n",
       "      <th>Market Category</th>\n",
       "      <th>ETF</th>\n",
       "      <th>Round Lot Size</th>\n",
       "      <th>Test Issue</th>\n",
       "      <th>Financial Status</th>\n",
       "      <th>CQS Symbol</th>\n",
       "      <th>NASDAQ Symbol</th>\n",
       "      <th>NextShares</th>\n",
       "    </tr>\n",
       "  </thead>\n",
       "  <tbody>\n",
       "    <tr>\n",
       "      <th>0</th>\n",
       "      <td>Y</td>\n",
       "      <td>A</td>\n",
       "      <td>Agilent Technologies, Inc. Common Stock</td>\n",
       "      <td>N</td>\n",
       "      <td></td>\n",
       "      <td>N</td>\n",
       "      <td>100.0</td>\n",
       "      <td>N</td>\n",
       "      <td>NaN</td>\n",
       "      <td>A</td>\n",
       "      <td>A</td>\n",
       "      <td>N</td>\n",
       "    </tr>\n",
       "    <tr>\n",
       "      <th>1</th>\n",
       "      <td>Y</td>\n",
       "      <td>AA</td>\n",
       "      <td>Alcoa Corporation Common Stock</td>\n",
       "      <td>N</td>\n",
       "      <td></td>\n",
       "      <td>N</td>\n",
       "      <td>100.0</td>\n",
       "      <td>N</td>\n",
       "      <td>NaN</td>\n",
       "      <td>AA</td>\n",
       "      <td>AA</td>\n",
       "      <td>N</td>\n",
       "    </tr>\n",
       "    <tr>\n",
       "      <th>2</th>\n",
       "      <td>Y</td>\n",
       "      <td>AAAU</td>\n",
       "      <td>Perth Mint Physical Gold ETF</td>\n",
       "      <td>P</td>\n",
       "      <td></td>\n",
       "      <td>Y</td>\n",
       "      <td>100.0</td>\n",
       "      <td>N</td>\n",
       "      <td>NaN</td>\n",
       "      <td>AAAU</td>\n",
       "      <td>AAAU</td>\n",
       "      <td>N</td>\n",
       "    </tr>\n",
       "    <tr>\n",
       "      <th>3</th>\n",
       "      <td>Y</td>\n",
       "      <td>AACG</td>\n",
       "      <td>ATA Creativity Global - American Depositary Sh...</td>\n",
       "      <td>Q</td>\n",
       "      <td>G</td>\n",
       "      <td>N</td>\n",
       "      <td>100.0</td>\n",
       "      <td>N</td>\n",
       "      <td>N</td>\n",
       "      <td>NaN</td>\n",
       "      <td>AACG</td>\n",
       "      <td>N</td>\n",
       "    </tr>\n",
       "    <tr>\n",
       "      <th>4</th>\n",
       "      <td>Y</td>\n",
       "      <td>AADR</td>\n",
       "      <td>AdvisorShares Dorsey Wright ADR ETF</td>\n",
       "      <td>P</td>\n",
       "      <td></td>\n",
       "      <td>Y</td>\n",
       "      <td>100.0</td>\n",
       "      <td>N</td>\n",
       "      <td>NaN</td>\n",
       "      <td>AADR</td>\n",
       "      <td>AADR</td>\n",
       "      <td>N</td>\n",
       "    </tr>\n",
       "  </tbody>\n",
       "</table>\n",
       "</div>"
      ],
      "text/plain": [
       "  Nasdaq Traded Symbol                                      Security Name  \\\n",
       "0             Y      A            Agilent Technologies, Inc. Common Stock   \n",
       "1             Y     AA                    Alcoa Corporation Common Stock    \n",
       "2             Y   AAAU                       Perth Mint Physical Gold ETF   \n",
       "3             Y   AACG  ATA Creativity Global - American Depositary Sh...   \n",
       "4             Y   AADR                AdvisorShares Dorsey Wright ADR ETF   \n",
       "\n",
       "  Listing Exchange Market Category ETF  Round Lot Size Test Issue  \\\n",
       "0                N                   N           100.0          N   \n",
       "1                N                   N           100.0          N   \n",
       "2                P                   Y           100.0          N   \n",
       "3                Q               G   N           100.0          N   \n",
       "4                P                   Y           100.0          N   \n",
       "\n",
       "  Financial Status CQS Symbol NASDAQ Symbol NextShares  \n",
       "0              NaN          A             A          N  \n",
       "1              NaN         AA            AA          N  \n",
       "2              NaN       AAAU          AAAU          N  \n",
       "3                N        NaN          AACG          N  \n",
       "4              NaN       AADR          AADR          N  "
      ]
     },
     "execution_count": 10,
     "metadata": {},
     "output_type": "execute_result"
    }
   ],
   "source": [
    "nasdaq_symbols_meta_pd.head()"
   ]
  },
  {
   "cell_type": "code",
   "execution_count": 11,
   "id": "80107d2e-a8bb-4209-a7f4-3d2847b745b6",
   "metadata": {},
   "outputs": [
    {
     "name": "stdout",
     "output_type": "stream",
     "text": [
      "<class 'pandas.core.frame.DataFrame'>\n",
      "RangeIndex: 8049 entries, 0 to 8048\n",
      "Data columns (total 12 columns):\n",
      " #   Column            Non-Null Count  Dtype  \n",
      "---  ------            --------------  -----  \n",
      " 0   Nasdaq Traded     8049 non-null   object \n",
      " 1   Symbol            8049 non-null   object \n",
      " 2   Security Name     8049 non-null   object \n",
      " 3   Listing Exchange  8049 non-null   object \n",
      " 4   Market Category   8049 non-null   object \n",
      " 5   ETF               8049 non-null   object \n",
      " 6   Round Lot Size    8049 non-null   float64\n",
      " 7   Test Issue        8049 non-null   object \n",
      " 8   Financial Status  3383 non-null   object \n",
      " 9   CQS Symbol        4666 non-null   object \n",
      " 10  NASDAQ Symbol     8049 non-null   object \n",
      " 11  NextShares        8049 non-null   object \n",
      "dtypes: float64(1), object(11)\n",
      "memory usage: 754.7+ KB\n"
     ]
    }
   ],
   "source": [
    "nasdaq_symbols_meta_pd.info()"
   ]
  },
  {
   "cell_type": "markdown",
   "id": "86a8c34b-0eb8-4694-b2d4-12283ce9c0f2",
   "metadata": {},
   "source": [
    "## Load NASDAQ Stock Data If Company Is In Metadata"
   ]
  },
  {
   "cell_type": "code",
   "execution_count": 12,
   "id": "19eda8ca-9595-42e0-a797-df49ef2fbadb",
   "metadata": {},
   "outputs": [],
   "source": [
    "stock_dir_path = \"/home/james/src/datasets/NASDAQ_Yahoo_Finance/stocks\""
   ]
  },
  {
   "cell_type": "code",
   "execution_count": 13,
   "id": "4738f384-f740-42b9-ad97-4a02d3c55f77",
   "metadata": {},
   "outputs": [],
   "source": [
    "symbol_name = \"GOOG\""
   ]
  },
  {
   "cell_type": "code",
   "execution_count": 14,
   "id": "df25d7ca-c498-4e6e-9386-65e25bddca67",
   "metadata": {},
   "outputs": [
    {
     "name": "stdout",
     "output_type": "stream",
     "text": [
      "GOOG is in NASDAQ Yahoo Finance Metadata, loading GOOG stock pd\n"
     ]
    }
   ],
   "source": [
    "if symbol_name in nasdaq_symbols_meta_pd[\"Symbol\"].tolist():\n",
    "    print(f\"{symbol_name} is in NASDAQ Yahoo Finance Metadata, loading GOOG stock pd\")\n",
    "    google_stock_data_pd = pd.read_csv(os.path.join(stock_dir_path, f\"{symbol_name}.csv\"))"
   ]
  },
  {
   "cell_type": "code",
   "execution_count": 15,
   "id": "487265b2-44fe-4080-b997-e9010c343f26",
   "metadata": {},
   "outputs": [
    {
     "data": {
      "text/html": [
       "<div>\n",
       "<style scoped>\n",
       "    .dataframe tbody tr th:only-of-type {\n",
       "        vertical-align: middle;\n",
       "    }\n",
       "\n",
       "    .dataframe tbody tr th {\n",
       "        vertical-align: top;\n",
       "    }\n",
       "\n",
       "    .dataframe thead th {\n",
       "        text-align: right;\n",
       "    }\n",
       "</style>\n",
       "<table border=\"1\" class=\"dataframe\">\n",
       "  <thead>\n",
       "    <tr style=\"text-align: right;\">\n",
       "      <th></th>\n",
       "      <th>Date</th>\n",
       "      <th>Open</th>\n",
       "      <th>High</th>\n",
       "      <th>Low</th>\n",
       "      <th>Close</th>\n",
       "      <th>Adj Close</th>\n",
       "      <th>Volume</th>\n",
       "    </tr>\n",
       "  </thead>\n",
       "  <tbody>\n",
       "    <tr>\n",
       "      <th>0</th>\n",
       "      <td>2004-08-19</td>\n",
       "      <td>49.813286</td>\n",
       "      <td>51.835709</td>\n",
       "      <td>47.800831</td>\n",
       "      <td>49.982655</td>\n",
       "      <td>49.982655</td>\n",
       "      <td>44871300</td>\n",
       "    </tr>\n",
       "    <tr>\n",
       "      <th>1</th>\n",
       "      <td>2004-08-20</td>\n",
       "      <td>50.316402</td>\n",
       "      <td>54.336334</td>\n",
       "      <td>50.062355</td>\n",
       "      <td>53.952770</td>\n",
       "      <td>53.952770</td>\n",
       "      <td>22942800</td>\n",
       "    </tr>\n",
       "    <tr>\n",
       "      <th>2</th>\n",
       "      <td>2004-08-23</td>\n",
       "      <td>55.168217</td>\n",
       "      <td>56.528118</td>\n",
       "      <td>54.321388</td>\n",
       "      <td>54.495735</td>\n",
       "      <td>54.495735</td>\n",
       "      <td>18342800</td>\n",
       "    </tr>\n",
       "    <tr>\n",
       "      <th>3</th>\n",
       "      <td>2004-08-24</td>\n",
       "      <td>55.412300</td>\n",
       "      <td>55.591629</td>\n",
       "      <td>51.591621</td>\n",
       "      <td>52.239193</td>\n",
       "      <td>52.239193</td>\n",
       "      <td>15319700</td>\n",
       "    </tr>\n",
       "    <tr>\n",
       "      <th>4</th>\n",
       "      <td>2004-08-25</td>\n",
       "      <td>52.284027</td>\n",
       "      <td>53.798351</td>\n",
       "      <td>51.746044</td>\n",
       "      <td>52.802086</td>\n",
       "      <td>52.802086</td>\n",
       "      <td>9232100</td>\n",
       "    </tr>\n",
       "  </tbody>\n",
       "</table>\n",
       "</div>"
      ],
      "text/plain": [
       "         Date       Open       High        Low      Close  Adj Close    Volume\n",
       "0  2004-08-19  49.813286  51.835709  47.800831  49.982655  49.982655  44871300\n",
       "1  2004-08-20  50.316402  54.336334  50.062355  53.952770  53.952770  22942800\n",
       "2  2004-08-23  55.168217  56.528118  54.321388  54.495735  54.495735  18342800\n",
       "3  2004-08-24  55.412300  55.591629  51.591621  52.239193  52.239193  15319700\n",
       "4  2004-08-25  52.284027  53.798351  51.746044  52.802086  52.802086   9232100"
      ]
     },
     "execution_count": 15,
     "metadata": {},
     "output_type": "execute_result"
    }
   ],
   "source": [
    "google_stock_data_pd.head()"
   ]
  },
  {
   "cell_type": "code",
   "execution_count": 16,
   "id": "110be783-2b49-4799-a52a-59ee3af4c5bc",
   "metadata": {},
   "outputs": [
    {
     "name": "stdout",
     "output_type": "stream",
     "text": [
      "<class 'pandas.core.frame.DataFrame'>\n",
      "RangeIndex: 3932 entries, 0 to 3931\n",
      "Data columns (total 7 columns):\n",
      " #   Column     Non-Null Count  Dtype  \n",
      "---  ------     --------------  -----  \n",
      " 0   Date       3932 non-null   object \n",
      " 1   Open       3932 non-null   float64\n",
      " 2   High       3932 non-null   float64\n",
      " 3   Low        3932 non-null   float64\n",
      " 4   Close      3932 non-null   float64\n",
      " 5   Adj Close  3932 non-null   float64\n",
      " 6   Volume     3932 non-null   int64  \n",
      "dtypes: float64(5), int64(1), object(1)\n",
      "memory usage: 215.2+ KB\n"
     ]
    }
   ],
   "source": [
    "google_stock_data_pd.info()"
   ]
  },
  {
   "cell_type": "markdown",
   "id": "0b380a94-72dd-49c3-92d4-88216ba1bdda",
   "metadata": {},
   "source": [
    "## Create Moving Average Stock Across 100 Days\n",
    "\n",
    "We'll create moving average stock across 100 days"
   ]
  },
  {
   "cell_type": "code",
   "execution_count": 17,
   "id": "ea232567-b82c-4beb-86e7-e4645739cc0a",
   "metadata": {},
   "outputs": [],
   "source": [
    "num_days = 100"
   ]
  },
  {
   "cell_type": "code",
   "execution_count": 18,
   "id": "324231e2-e721-4c7a-9f5d-e6a47d97ab03",
   "metadata": {},
   "outputs": [],
   "source": [
    "mavg_100_days = google_stock_data_pd.Close.rolling(num_days).mean()"
   ]
  },
  {
   "cell_type": "markdown",
   "id": "8a9ad946-ba54-4f39-9dad-8c44f5624ebd",
   "metadata": {},
   "source": [
    "### Plot Moving Average vs Close Price"
   ]
  },
  {
   "cell_type": "code",
   "execution_count": 19,
   "id": "2f50cdb0-22d6-4e61-a1b1-49a176d3db94",
   "metadata": {},
   "outputs": [
    {
     "data": {
      "image/png": "[encoded data removed]",
      "text/plain": [
       "<Figure size 800x600 with 1 Axes>"
      ]
     },
     "metadata": {},
     "output_type": "display_data"
    }
   ],
   "source": [
    "plt.figure(figsize=(8, 6))\n",
    "plt.plot(mavg_100_days, \"r\")\n",
    "plt.plot(google_stock_data_pd.Close, \"g\")\n",
    "plt.show()"
   ]
  },
  {
   "cell_type": "markdown",
   "id": "a365d14d-b238-402f-8a59-0ec8ca984d0b",
   "metadata": {},
   "source": [
    "## Create Moving Average Stock Across 200 Days"
   ]
  },
  {
   "cell_type": "code",
   "execution_count": 20,
   "id": "688ae976-fc77-4724-b512-2c9efef0a2cb",
   "metadata": {},
   "outputs": [],
   "source": [
    "num_days = 200\n",
    "mavg_200_days = google_stock_data_pd.Close.rolling(num_days).mean()"
   ]
  },
  {
   "cell_type": "code",
   "execution_count": 21,
   "id": "6dc47912-1ae3-4a96-943b-644563a81654",
   "metadata": {},
   "outputs": [
    {
     "data": {
      "image/png": "[encoded data removed]",
      "text/plain": [
       "<Figure size 800x600 with 1 Axes>"
      ]
     },
     "metadata": {},
     "output_type": "display_data"
    }
   ],
   "source": [
    "plt.figure(figsize=(8,6))\n",
    "plt.plot(mavg_100_days, \"r\")\n",
    "plt.plot(mavg_200_days, \"b\")\n",
    "plt.plot(google_stock_data_pd.Close, \"g\")\n",
    "plt.show()"
   ]
  },
  {
   "cell_type": "markdown",
   "id": "6ffd4a53-b804-4bd0-8edb-8d2fe769d84d",
   "metadata": {},
   "source": [
    "## Clean NAs from Stock Data\n",
    "\n",
    "Double check how to find number of NAs"
   ]
  },
  {
   "cell_type": "code",
   "execution_count": 22,
   "id": "79ea643d-3436-461d-836d-5f96ba08348e",
   "metadata": {},
   "outputs": [],
   "source": [
    "google_stock_data_pd.dropna(inplace=True)"
   ]
  },
  {
   "cell_type": "markdown",
   "id": "f293a387-dd56-41a9-a815-4653322d937f",
   "metadata": {},
   "source": [
    "## Filter for Date & Close Price"
   ]
  },
  {
   "cell_type": "code",
   "execution_count": 23,
   "id": "8ebf237b-3bc9-4660-b28b-2dcf15826728",
   "metadata": {},
   "outputs": [],
   "source": [
    "google_stock_date_close_pd = google_stock_data_pd[[\"Date\", \"Close\"]]"
   ]
  },
  {
   "cell_type": "code",
   "execution_count": 24,
   "id": "3800ed91-222b-43fb-ac54-561275e1fd24",
   "metadata": {},
   "outputs": [
    {
     "data": {
      "text/html": [
       "<div>\n",
       "<style scoped>\n",
       "    .dataframe tbody tr th:only-of-type {\n",
       "        vertical-align: middle;\n",
       "    }\n",
       "\n",
       "    .dataframe tbody tr th {\n",
       "        vertical-align: top;\n",
       "    }\n",
       "\n",
       "    .dataframe thead th {\n",
       "        text-align: right;\n",
       "    }\n",
       "</style>\n",
       "<table border=\"1\" class=\"dataframe\">\n",
       "  <thead>\n",
       "    <tr style=\"text-align: right;\">\n",
       "      <th></th>\n",
       "      <th>Date</th>\n",
       "      <th>Close</th>\n",
       "    </tr>\n",
       "  </thead>\n",
       "  <tbody>\n",
       "    <tr>\n",
       "      <th>0</th>\n",
       "      <td>2004-08-19</td>\n",
       "      <td>49.982655</td>\n",
       "    </tr>\n",
       "    <tr>\n",
       "      <th>1</th>\n",
       "      <td>2004-08-20</td>\n",
       "      <td>53.952770</td>\n",
       "    </tr>\n",
       "    <tr>\n",
       "      <th>2</th>\n",
       "      <td>2004-08-23</td>\n",
       "      <td>54.495735</td>\n",
       "    </tr>\n",
       "    <tr>\n",
       "      <th>3</th>\n",
       "      <td>2004-08-24</td>\n",
       "      <td>52.239193</td>\n",
       "    </tr>\n",
       "    <tr>\n",
       "      <th>4</th>\n",
       "      <td>2004-08-25</td>\n",
       "      <td>52.802086</td>\n",
       "    </tr>\n",
       "    <tr>\n",
       "      <th>...</th>\n",
       "      <td>...</td>\n",
       "      <td>...</td>\n",
       "    </tr>\n",
       "    <tr>\n",
       "      <th>3927</th>\n",
       "      <td>2020-03-26</td>\n",
       "      <td>1161.750000</td>\n",
       "    </tr>\n",
       "    <tr>\n",
       "      <th>3928</th>\n",
       "      <td>2020-03-27</td>\n",
       "      <td>1110.709961</td>\n",
       "    </tr>\n",
       "    <tr>\n",
       "      <th>3929</th>\n",
       "      <td>2020-03-30</td>\n",
       "      <td>1146.819946</td>\n",
       "    </tr>\n",
       "    <tr>\n",
       "      <th>3930</th>\n",
       "      <td>2020-03-31</td>\n",
       "      <td>1162.810059</td>\n",
       "    </tr>\n",
       "    <tr>\n",
       "      <th>3931</th>\n",
       "      <td>2020-04-01</td>\n",
       "      <td>1105.619995</td>\n",
       "    </tr>\n",
       "  </tbody>\n",
       "</table>\n",
       "<p>3932 rows × 2 columns</p>\n",
       "</div>"
      ],
      "text/plain": [
       "            Date        Close\n",
       "0     2004-08-19    49.982655\n",
       "1     2004-08-20    53.952770\n",
       "2     2004-08-23    54.495735\n",
       "3     2004-08-24    52.239193\n",
       "4     2004-08-25    52.802086\n",
       "...          ...          ...\n",
       "3927  2020-03-26  1161.750000\n",
       "3928  2020-03-27  1110.709961\n",
       "3929  2020-03-30  1146.819946\n",
       "3930  2020-03-31  1162.810059\n",
       "3931  2020-04-01  1105.619995\n",
       "\n",
       "[3932 rows x 2 columns]"
      ]
     },
     "execution_count": 24,
     "metadata": {},
     "output_type": "execute_result"
    }
   ],
   "source": [
    "google_stock_date_close_pd"
   ]
  },
  {
   "cell_type": "markdown",
   "id": "386fd839-ea29-486c-b61a-df9c9ff7df66",
   "metadata": {},
   "source": [
    "## Plot Date as PD Date Type"
   ]
  },
  {
   "cell_type": "code",
   "execution_count": 25,
   "id": "abb81064-644c-4e64-97bb-ae26dd0bee4d",
   "metadata": {},
   "outputs": [
    {
     "name": "stderr",
     "output_type": "stream",
     "text": [
      "/tmp/ipykernel_14449/636717400.py:1: SettingWithCopyWarning: \n",
      "A value is trying to be set on a copy of a slice from a DataFrame.\n",
      "Try using .loc[row_indexer,col_indexer] = value instead\n",
      "\n",
      "See the caveats in the documentation: https://pandas.pydata.org/pandas-docs/stable/user_guide/indexing.html#returning-a-view-versus-a-copy\n",
      "  google_stock_date_close_pd[\"Date\"] = pd.to_datetime(google_stock_date_close_pd[\"Date\"])\n"
     ]
    },
    {
     "data": {
      "text/plain": [
       "[<matplotlib.lines.Line2D at 0x7efff8c3f040>]"
      ]
     },
     "execution_count": 25,
     "metadata": {},
     "output_type": "execute_result"
    },
    {
     "data": {
      "image/png": "[encoded data removed]",
      "text/plain": [
       "<Figure size 640x480 with 1 Axes>"
      ]
     },
     "metadata": {},
     "output_type": "display_data"
    }
   ],
   "source": [
    "google_stock_date_close_pd[\"Date\"] = pd.to_datetime(google_stock_date_close_pd[\"Date\"])\n",
    "\n",
    "plt.plot(google_stock_date_close_pd[\"Date\"], google_stock_date_close_pd[\"Close\"])"
   ]
  },
  {
   "cell_type": "code",
   "execution_count": 26,
   "id": "b03316ab-7038-48f3-a68e-a81d476bfee9",
   "metadata": {},
   "outputs": [],
   "source": [
    "nifi_pipeline = DataPrepPipeline()"
   ]
  },
  {
   "cell_type": "code",
   "execution_count": 27,
   "id": "b11bb093-4b37-499e-bd26-c2b088bc6568",
   "metadata": {},
   "outputs": [],
   "source": [
    "# number of days we're tracking for the features with respect to the 8th day we're predicting\n",
    "# lookback = 7\n",
    "# NOTE: we analyze the moving average to the closing price, the better the MA Curve looks, that\n",
    "# one we can test training our model\n",
    "lookback = 100"
   ]
  },
  {
   "cell_type": "code",
   "execution_count": 28,
   "id": "48642062-f5db-4add-b10c-fd4743322d09",
   "metadata": {},
   "outputs": [
    {
     "name": "stderr",
     "output_type": "stream",
     "text": [
      "/tmp/ipykernel_14449/1392816455.py:22: PerformanceWarning: DataFrame is highly fragmented.  This is usually the result of calling `frame.insert` many times, which has poor performance.  Consider joining all columns at once using pd.concat(axis=1) instead.  To get a de-fragmented frame, use `newframe = frame.copy()`\n",
      "  stock_df[f\"Close(t-{i})\"] = stock_df[\"Close\"].shift(i)\n"
     ]
    }
   ],
   "source": [
    "google_stock_fets_labels_df = nifi_pipeline.prepare_df_for_lstm(google_stock_date_close_pd, n_steps=lookback)"
   ]
  },
  {
   "cell_type": "code",
   "execution_count": 29,
   "id": "f5a45da5-70ee-456c-96dd-c4050096d4a0",
   "metadata": {},
   "outputs": [
    {
     "data": {
      "text/html": [
       "<div>\n",
       "<style scoped>\n",
       "    .dataframe tbody tr th:only-of-type {\n",
       "        vertical-align: middle;\n",
       "    }\n",
       "\n",
       "    .dataframe tbody tr th {\n",
       "        vertical-align: top;\n",
       "    }\n",
       "\n",
       "    .dataframe thead th {\n",
       "        text-align: right;\n",
       "    }\n",
       "</style>\n",
       "<table border=\"1\" class=\"dataframe\">\n",
       "  <thead>\n",
       "    <tr style=\"text-align: right;\">\n",
       "      <th></th>\n",
       "      <th>Close</th>\n",
       "      <th>Close(t-1)</th>\n",
       "      <th>Close(t-2)</th>\n",
       "      <th>Close(t-3)</th>\n",
       "      <th>Close(t-4)</th>\n",
       "      <th>Close(t-5)</th>\n",
       "      <th>Close(t-6)</th>\n",
       "      <th>Close(t-7)</th>\n",
       "      <th>Close(t-8)</th>\n",
       "      <th>Close(t-9)</th>\n",
       "      <th>...</th>\n",
       "      <th>Close(t-91)</th>\n",
       "      <th>Close(t-92)</th>\n",
       "      <th>Close(t-93)</th>\n",
       "      <th>Close(t-94)</th>\n",
       "      <th>Close(t-95)</th>\n",
       "      <th>Close(t-96)</th>\n",
       "      <th>Close(t-97)</th>\n",
       "      <th>Close(t-98)</th>\n",
       "      <th>Close(t-99)</th>\n",
       "      <th>Close(t-100)</th>\n",
       "    </tr>\n",
       "    <tr>\n",
       "      <th>Date</th>\n",
       "      <th></th>\n",
       "      <th></th>\n",
       "      <th></th>\n",
       "      <th></th>\n",
       "      <th></th>\n",
       "      <th></th>\n",
       "      <th></th>\n",
       "      <th></th>\n",
       "      <th></th>\n",
       "      <th></th>\n",
       "      <th></th>\n",
       "      <th></th>\n",
       "      <th></th>\n",
       "      <th></th>\n",
       "      <th></th>\n",
       "      <th></th>\n",
       "      <th></th>\n",
       "      <th></th>\n",
       "      <th></th>\n",
       "      <th></th>\n",
       "      <th></th>\n",
       "    </tr>\n",
       "  </thead>\n",
       "  <tbody>\n",
       "    <tr>\n",
       "      <th>2005-01-11</th>\n",
       "      <td>96.408638</td>\n",
       "      <td>97.165802</td>\n",
       "      <td>96.563057</td>\n",
       "      <td>93.922951</td>\n",
       "      <td>96.393692</td>\n",
       "      <td>96.886841</td>\n",
       "      <td>100.976517</td>\n",
       "      <td>96.035034</td>\n",
       "      <td>98.431053</td>\n",
       "      <td>96.089828</td>\n",
       "      <td>...</td>\n",
       "      <td>49.937820</td>\n",
       "      <td>50.993862</td>\n",
       "      <td>50.814533</td>\n",
       "      <td>52.876804</td>\n",
       "      <td>53.753517</td>\n",
       "      <td>52.802086</td>\n",
       "      <td>52.239193</td>\n",
       "      <td>54.495735</td>\n",
       "      <td>53.952770</td>\n",
       "      <td>49.982655</td>\n",
       "    </tr>\n",
       "    <tr>\n",
       "      <th>2005-01-12</th>\n",
       "      <td>97.325203</td>\n",
       "      <td>96.408638</td>\n",
       "      <td>97.165802</td>\n",
       "      <td>96.563057</td>\n",
       "      <td>93.922951</td>\n",
       "      <td>96.393692</td>\n",
       "      <td>96.886841</td>\n",
       "      <td>100.976517</td>\n",
       "      <td>96.035034</td>\n",
       "      <td>98.431053</td>\n",
       "      <td>...</td>\n",
       "      <td>50.565468</td>\n",
       "      <td>49.937820</td>\n",
       "      <td>50.993862</td>\n",
       "      <td>50.814533</td>\n",
       "      <td>52.876804</td>\n",
       "      <td>53.753517</td>\n",
       "      <td>52.802086</td>\n",
       "      <td>52.239193</td>\n",
       "      <td>54.495735</td>\n",
       "      <td>53.952770</td>\n",
       "    </tr>\n",
       "    <tr>\n",
       "      <th>2005-01-13</th>\n",
       "      <td>97.300293</td>\n",
       "      <td>97.325203</td>\n",
       "      <td>96.408638</td>\n",
       "      <td>97.165802</td>\n",
       "      <td>96.563057</td>\n",
       "      <td>93.922951</td>\n",
       "      <td>96.393692</td>\n",
       "      <td>96.886841</td>\n",
       "      <td>100.976517</td>\n",
       "      <td>96.035034</td>\n",
       "      <td>...</td>\n",
       "      <td>49.818268</td>\n",
       "      <td>50.565468</td>\n",
       "      <td>49.937820</td>\n",
       "      <td>50.993862</td>\n",
       "      <td>50.814533</td>\n",
       "      <td>52.876804</td>\n",
       "      <td>53.753517</td>\n",
       "      <td>52.802086</td>\n",
       "      <td>52.239193</td>\n",
       "      <td>54.495735</td>\n",
       "    </tr>\n",
       "    <tr>\n",
       "      <th>2005-01-14</th>\n",
       "      <td>99.611633</td>\n",
       "      <td>97.300293</td>\n",
       "      <td>97.325203</td>\n",
       "      <td>96.408638</td>\n",
       "      <td>97.165802</td>\n",
       "      <td>96.563057</td>\n",
       "      <td>93.922951</td>\n",
       "      <td>96.393692</td>\n",
       "      <td>96.886841</td>\n",
       "      <td>100.976517</td>\n",
       "      <td>...</td>\n",
       "      <td>50.600338</td>\n",
       "      <td>49.818268</td>\n",
       "      <td>50.565468</td>\n",
       "      <td>49.937820</td>\n",
       "      <td>50.993862</td>\n",
       "      <td>50.814533</td>\n",
       "      <td>52.876804</td>\n",
       "      <td>53.753517</td>\n",
       "      <td>52.802086</td>\n",
       "      <td>52.239193</td>\n",
       "    </tr>\n",
       "    <tr>\n",
       "      <th>2005-01-18</th>\n",
       "      <td>101.569290</td>\n",
       "      <td>99.611633</td>\n",
       "      <td>97.300293</td>\n",
       "      <td>97.325203</td>\n",
       "      <td>96.408638</td>\n",
       "      <td>97.165802</td>\n",
       "      <td>96.563057</td>\n",
       "      <td>93.922951</td>\n",
       "      <td>96.393692</td>\n",
       "      <td>96.886841</td>\n",
       "      <td>...</td>\n",
       "      <td>50.958992</td>\n",
       "      <td>50.600338</td>\n",
       "      <td>49.818268</td>\n",
       "      <td>50.565468</td>\n",
       "      <td>49.937820</td>\n",
       "      <td>50.993862</td>\n",
       "      <td>50.814533</td>\n",
       "      <td>52.876804</td>\n",
       "      <td>53.753517</td>\n",
       "      <td>52.802086</td>\n",
       "    </tr>\n",
       "    <tr>\n",
       "      <th>...</th>\n",
       "      <td>...</td>\n",
       "      <td>...</td>\n",
       "      <td>...</td>\n",
       "      <td>...</td>\n",
       "      <td>...</td>\n",
       "      <td>...</td>\n",
       "      <td>...</td>\n",
       "      <td>...</td>\n",
       "      <td>...</td>\n",
       "      <td>...</td>\n",
       "      <td>...</td>\n",
       "      <td>...</td>\n",
       "      <td>...</td>\n",
       "      <td>...</td>\n",
       "      <td>...</td>\n",
       "      <td>...</td>\n",
       "      <td>...</td>\n",
       "      <td>...</td>\n",
       "      <td>...</td>\n",
       "      <td>...</td>\n",
       "      <td>...</td>\n",
       "    </tr>\n",
       "    <tr>\n",
       "      <th>2020-03-26</th>\n",
       "      <td>1161.750000</td>\n",
       "      <td>1102.489990</td>\n",
       "      <td>1134.459961</td>\n",
       "      <td>1056.619995</td>\n",
       "      <td>1072.319946</td>\n",
       "      <td>1115.290039</td>\n",
       "      <td>1096.800049</td>\n",
       "      <td>1119.800049</td>\n",
       "      <td>1084.329956</td>\n",
       "      <td>1219.729980</td>\n",
       "      <td>...</td>\n",
       "      <td>1298.000000</td>\n",
       "      <td>1298.800049</td>\n",
       "      <td>1299.189941</td>\n",
       "      <td>1311.369995</td>\n",
       "      <td>1308.859985</td>\n",
       "      <td>1291.800049</td>\n",
       "      <td>1292.030029</td>\n",
       "      <td>1291.369995</td>\n",
       "      <td>1273.739990</td>\n",
       "      <td>1260.109985</td>\n",
       "    </tr>\n",
       "    <tr>\n",
       "      <th>2020-03-27</th>\n",
       "      <td>1110.709961</td>\n",
       "      <td>1161.750000</td>\n",
       "      <td>1102.489990</td>\n",
       "      <td>1134.459961</td>\n",
       "      <td>1056.619995</td>\n",
       "      <td>1072.319946</td>\n",
       "      <td>1115.290039</td>\n",
       "      <td>1096.800049</td>\n",
       "      <td>1119.800049</td>\n",
       "      <td>1084.329956</td>\n",
       "      <td>...</td>\n",
       "      <td>1311.459961</td>\n",
       "      <td>1298.000000</td>\n",
       "      <td>1298.800049</td>\n",
       "      <td>1299.189941</td>\n",
       "      <td>1311.369995</td>\n",
       "      <td>1308.859985</td>\n",
       "      <td>1291.800049</td>\n",
       "      <td>1292.030029</td>\n",
       "      <td>1291.369995</td>\n",
       "      <td>1273.739990</td>\n",
       "    </tr>\n",
       "    <tr>\n",
       "      <th>2020-03-30</th>\n",
       "      <td>1146.819946</td>\n",
       "      <td>1110.709961</td>\n",
       "      <td>1161.750000</td>\n",
       "      <td>1102.489990</td>\n",
       "      <td>1134.459961</td>\n",
       "      <td>1056.619995</td>\n",
       "      <td>1072.319946</td>\n",
       "      <td>1115.290039</td>\n",
       "      <td>1096.800049</td>\n",
       "      <td>1119.800049</td>\n",
       "      <td>...</td>\n",
       "      <td>1334.869995</td>\n",
       "      <td>1311.459961</td>\n",
       "      <td>1298.000000</td>\n",
       "      <td>1298.800049</td>\n",
       "      <td>1299.189941</td>\n",
       "      <td>1311.369995</td>\n",
       "      <td>1308.859985</td>\n",
       "      <td>1291.800049</td>\n",
       "      <td>1292.030029</td>\n",
       "      <td>1291.369995</td>\n",
       "    </tr>\n",
       "    <tr>\n",
       "      <th>2020-03-31</th>\n",
       "      <td>1162.810059</td>\n",
       "      <td>1146.819946</td>\n",
       "      <td>1110.709961</td>\n",
       "      <td>1161.750000</td>\n",
       "      <td>1102.489990</td>\n",
       "      <td>1134.459961</td>\n",
       "      <td>1056.619995</td>\n",
       "      <td>1072.319946</td>\n",
       "      <td>1115.290039</td>\n",
       "      <td>1096.800049</td>\n",
       "      <td>...</td>\n",
       "      <td>1320.699951</td>\n",
       "      <td>1334.869995</td>\n",
       "      <td>1311.459961</td>\n",
       "      <td>1298.000000</td>\n",
       "      <td>1298.800049</td>\n",
       "      <td>1299.189941</td>\n",
       "      <td>1311.369995</td>\n",
       "      <td>1308.859985</td>\n",
       "      <td>1291.800049</td>\n",
       "      <td>1292.030029</td>\n",
       "    </tr>\n",
       "    <tr>\n",
       "      <th>2020-04-01</th>\n",
       "      <td>1105.619995</td>\n",
       "      <td>1162.810059</td>\n",
       "      <td>1146.819946</td>\n",
       "      <td>1110.709961</td>\n",
       "      <td>1161.750000</td>\n",
       "      <td>1102.489990</td>\n",
       "      <td>1134.459961</td>\n",
       "      <td>1056.619995</td>\n",
       "      <td>1072.319946</td>\n",
       "      <td>1115.290039</td>\n",
       "      <td>...</td>\n",
       "      <td>1315.459961</td>\n",
       "      <td>1320.699951</td>\n",
       "      <td>1334.869995</td>\n",
       "      <td>1311.459961</td>\n",
       "      <td>1298.000000</td>\n",
       "      <td>1298.800049</td>\n",
       "      <td>1299.189941</td>\n",
       "      <td>1311.369995</td>\n",
       "      <td>1308.859985</td>\n",
       "      <td>1291.800049</td>\n",
       "    </tr>\n",
       "  </tbody>\n",
       "</table>\n",
       "<p>3832 rows × 101 columns</p>\n",
       "</div>"
      ],
      "text/plain": [
       "                  Close   Close(t-1)   Close(t-2)   Close(t-3)   Close(t-4)  \\\n",
       "Date                                                                          \n",
       "2005-01-11    96.408638    97.165802    96.563057    93.922951    96.393692   \n",
       "2005-01-12    97.325203    96.408638    97.165802    96.563057    93.922951   \n",
       "2005-01-13    97.300293    97.325203    96.408638    97.165802    96.563057   \n",
       "2005-01-14    99.611633    97.300293    97.325203    96.408638    97.165802   \n",
       "2005-01-18   101.569290    99.611633    97.300293    97.325203    96.408638   \n",
       "...                 ...          ...          ...          ...          ...   \n",
       "2020-03-26  1161.750000  1102.489990  1134.459961  1056.619995  1072.319946   \n",
       "2020-03-27  1110.709961  1161.750000  1102.489990  1134.459961  1056.619995   \n",
       "2020-03-30  1146.819946  1110.709961  1161.750000  1102.489990  1134.459961   \n",
       "2020-03-31  1162.810059  1146.819946  1110.709961  1161.750000  1102.489990   \n",
       "2020-04-01  1105.619995  1162.810059  1146.819946  1110.709961  1161.750000   \n",
       "\n",
       "             Close(t-5)   Close(t-6)   Close(t-7)   Close(t-8)   Close(t-9)  \\\n",
       "Date                                                                          \n",
       "2005-01-11    96.886841   100.976517    96.035034    98.431053    96.089828   \n",
       "2005-01-12    96.393692    96.886841   100.976517    96.035034    98.431053   \n",
       "2005-01-13    93.922951    96.393692    96.886841   100.976517    96.035034   \n",
       "2005-01-14    96.563057    93.922951    96.393692    96.886841   100.976517   \n",
       "2005-01-18    97.165802    96.563057    93.922951    96.393692    96.886841   \n",
       "...                 ...          ...          ...          ...          ...   \n",
       "2020-03-26  1115.290039  1096.800049  1119.800049  1084.329956  1219.729980   \n",
       "2020-03-27  1072.319946  1115.290039  1096.800049  1119.800049  1084.329956   \n",
       "2020-03-30  1056.619995  1072.319946  1115.290039  1096.800049  1119.800049   \n",
       "2020-03-31  1134.459961  1056.619995  1072.319946  1115.290039  1096.800049   \n",
       "2020-04-01  1102.489990  1134.459961  1056.619995  1072.319946  1115.290039   \n",
       "\n",
       "            ...  Close(t-91)  Close(t-92)  Close(t-93)  Close(t-94)  \\\n",
       "Date        ...                                                       \n",
       "2005-01-11  ...    49.937820    50.993862    50.814533    52.876804   \n",
       "2005-01-12  ...    50.565468    49.937820    50.993862    50.814533   \n",
       "2005-01-13  ...    49.818268    50.565468    49.937820    50.993862   \n",
       "2005-01-14  ...    50.600338    49.818268    50.565468    49.937820   \n",
       "2005-01-18  ...    50.958992    50.600338    49.818268    50.565468   \n",
       "...         ...          ...          ...          ...          ...   \n",
       "2020-03-26  ...  1298.000000  1298.800049  1299.189941  1311.369995   \n",
       "2020-03-27  ...  1311.459961  1298.000000  1298.800049  1299.189941   \n",
       "2020-03-30  ...  1334.869995  1311.459961  1298.000000  1298.800049   \n",
       "2020-03-31  ...  1320.699951  1334.869995  1311.459961  1298.000000   \n",
       "2020-04-01  ...  1315.459961  1320.699951  1334.869995  1311.459961   \n",
       "\n",
       "            Close(t-95)  Close(t-96)  Close(t-97)  Close(t-98)  Close(t-99)  \\\n",
       "Date                                                                          \n",
       "2005-01-11    53.753517    52.802086    52.239193    54.495735    53.952770   \n",
       "2005-01-12    52.876804    53.753517    52.802086    52.239193    54.495735   \n",
       "2005-01-13    50.814533    52.876804    53.753517    52.802086    52.239193   \n",
       "2005-01-14    50.993862    50.814533    52.876804    53.753517    52.802086   \n",
       "2005-01-18    49.937820    50.993862    50.814533    52.876804    53.753517   \n",
       "...                 ...          ...          ...          ...          ...   \n",
       "2020-03-26  1308.859985  1291.800049  1292.030029  1291.369995  1273.739990   \n",
       "2020-03-27  1311.369995  1308.859985  1291.800049  1292.030029  1291.369995   \n",
       "2020-03-30  1299.189941  1311.369995  1308.859985  1291.800049  1292.030029   \n",
       "2020-03-31  1298.800049  1299.189941  1311.369995  1308.859985  1291.800049   \n",
       "2020-04-01  1298.000000  1298.800049  1299.189941  1311.369995  1308.859985   \n",
       "\n",
       "            Close(t-100)  \n",
       "Date                      \n",
       "2005-01-11     49.982655  \n",
       "2005-01-12     53.952770  \n",
       "2005-01-13     54.495735  \n",
       "2005-01-14     52.239193  \n",
       "2005-01-18     52.802086  \n",
       "...                  ...  \n",
       "2020-03-26   1260.109985  \n",
       "2020-03-27   1273.739990  \n",
       "2020-03-30   1291.369995  \n",
       "2020-03-31   1292.030029  \n",
       "2020-04-01   1291.800049  \n",
       "\n",
       "[3832 rows x 101 columns]"
      ]
     },
     "execution_count": 29,
     "metadata": {},
     "output_type": "execute_result"
    }
   ],
   "source": [
    "google_stock_fets_labels_df"
   ]
  },
  {
   "cell_type": "code",
   "execution_count": 30,
   "id": "f76e8b9b-1983-4f17-bc79-2db520007dbc",
   "metadata": {},
   "outputs": [],
   "source": [
    "# google_stock_fets_labels_df[\"Date\"]"
   ]
  },
  {
   "cell_type": "markdown",
   "id": "114a9cb8-32fa-43c6-896a-d2804da5d755",
   "metadata": {},
   "source": [
    "## Scale Features On (-1, 1) via MinMaxScaler\n",
    "\n",
    "Scale training data between 0 and 1"
   ]
  },
  {
   "cell_type": "code",
   "execution_count": 31,
   "id": "afee6837-9e5d-4c2a-b3b3-b73895d1edf0",
   "metadata": {},
   "outputs": [],
   "source": [
    "scaler = MinMaxScaler(feature_range=(0,1))"
   ]
  },
  {
   "cell_type": "code",
   "execution_count": 32,
   "id": "01553201-0e38-4edf-a8a9-8840e10f9ed5",
   "metadata": {},
   "outputs": [],
   "source": [
    "google_stock_fets_labels_df_scale = scaler.fit_transform(google_stock_fets_labels_df)"
   ]
  },
  {
   "cell_type": "code",
   "execution_count": 33,
   "id": "75b9b608-1c7e-4069-9a14-a99fa62f3747",
   "metadata": {},
   "outputs": [
    {
     "data": {
      "text/plain": [
       "array([[6.41905175e-03, 6.94503480e-03, 6.52632276e-03, ...,\n",
       "        3.70770952e-03, 3.28384862e-03, 1.32333918e-04],\n",
       "       [7.05576668e-03, 6.41905175e-03, 6.94503480e-03, ...,\n",
       "        1.91900585e-03, 3.71510116e-03, 3.32833945e-03],\n",
       "       [7.03846234e-03, 7.05576668e-03, 6.41905175e-03, ...,\n",
       "        2.36519676e-03, 1.92283155e-03, 3.76543476e-03],\n",
       "       ...,\n",
       "       [7.36113736e-01, 7.11029025e-01, 7.46485274e-01, ...,\n",
       "        9.84487401e-01, 9.86632726e-01, 9.99468662e-01],\n",
       "       [7.47221670e-01, 7.36113736e-01, 7.11029025e-01, ...,\n",
       "        9.98010379e-01, 9.86450063e-01, 1.00000000e+00],\n",
       "       [7.07493152e-01, 7.47221670e-01, 7.36113736e-01, ...,\n",
       "        1.00000000e+00, 1.00000000e+00, 9.99814862e-01]])"
      ]
     },
     "execution_count": 33,
     "metadata": {},
     "output_type": "execute_result"
    }
   ],
   "source": [
    "google_stock_fets_labels_df_scale"
   ]
  },
  {
   "cell_type": "code",
   "execution_count": 34,
   "id": "233c3958-4742-48ff-8dda-febfdb3fab5e",
   "metadata": {},
   "outputs": [
    {
     "name": "stdout",
     "output_type": "stream",
     "text": [
      "x_features shape = (3832, 100); y_labels shape = (3832,)\n"
     ]
    }
   ],
   "source": [
    "x_stock_fets_list, y_stock_labels_list = nifi_pipeline.split_features_labels(google_stock_fets_labels_df_scale)"
   ]
  },
  {
   "cell_type": "markdown",
   "id": "564ceeca-0edb-4fe8-a588-30ae03950fa7",
   "metadata": {},
   "source": [
    "## Split Stock 60% for Train, 20% for Valid & 20% for Test"
   ]
  },
  {
   "cell_type": "code",
   "execution_count": 35,
   "id": "a52ef44c-07d3-411f-8d14-c9903ab185cf",
   "metadata": {},
   "outputs": [],
   "source": [
    "train_ratio = 0.60\n",
    "valid_ratio = 0.20 + train_ratio # 0.80\n",
    "test_ratio = 0.20"
   ]
  },
  {
   "cell_type": "code",
   "execution_count": 36,
   "id": "526ca269-a5d8-47c7-8109-96f5d4f4f620",
   "metadata": {},
   "outputs": [
    {
     "data": {
      "text/plain": [
       "2299"
      ]
     },
     "execution_count": 36,
     "metadata": {},
     "output_type": "execute_result"
    }
   ],
   "source": [
    "train_split_index = int(len(x_stock_fets_list) * train_ratio)\n",
    "train_split_index"
   ]
  },
  {
   "cell_type": "code",
   "execution_count": 37,
   "id": "f97c7a02-0e13-484e-8413-37fc374c738f",
   "metadata": {},
   "outputs": [
    {
     "data": {
      "text/plain": [
       "3065"
      ]
     },
     "execution_count": 37,
     "metadata": {},
     "output_type": "execute_result"
    }
   ],
   "source": [
    "valid_split_index = int(len(x_stock_fets_list)*valid_ratio)\n",
    "valid_split_index"
   ]
  },
  {
   "cell_type": "code",
   "execution_count": 38,
   "id": "92752c5c-d3a3-46a7-96ed-58a2fd50881d",
   "metadata": {},
   "outputs": [
    {
     "data": {
      "text/plain": [
       "3832"
      ]
     },
     "execution_count": 38,
     "metadata": {},
     "output_type": "execute_result"
    }
   ],
   "source": [
    "test_split_index = len(x_stock_fets_list)\n",
    "test_split_index"
   ]
  },
  {
   "cell_type": "code",
   "execution_count": 39,
   "id": "22d5de8f-6b96-4303-aff0-168255fbe153",
   "metadata": {},
   "outputs": [],
   "source": [
    "# 60% for training features: 0 to 60%\n",
    "X_google_stock_train = x_stock_fets_list[0: train_split_index]\n",
    "\n",
    "# 20% for validation features: 60% to 80%\n",
    "X_google_stock_valid = x_stock_fets_list[train_split_index: valid_split_index]\n",
    "\n",
    "# 20% for testing features\n",
    "X_google_stock_test = x_stock_fets_list[valid_split_index: test_split_index]\n",
    "\n",
    "\n",
    "y_google_stock_train = y_stock_labels_list[0: train_split_index]\n",
    "\n",
    "y_google_stock_valid = y_stock_labels_list[train_split_index: valid_split_index]\n",
    "\n",
    "y_google_stock_test = y_stock_labels_list[valid_split_index: test_split_index]"
   ]
  },
  {
   "cell_type": "code",
   "execution_count": 40,
   "id": "30dcde80-8f72-4030-b536-21ed8b196a89",
   "metadata": {},
   "outputs": [],
   "source": [
    "# google_stock_train_date = pd.DataFrame(google_stock_data_pd.Date[0: int(len(google_stock_data_pd)*0.80)])\n",
    "# google_stock_test_date = pd.DataFrame(google_stock_data_pd.Date[int(len(google_stock_data_pd)*0.80): len(google_stock_data_pd)])"
   ]
  },
  {
   "cell_type": "code",
   "execution_count": 41,
   "id": "1cb8877c-7a61-404c-b3b7-4149f485ad0a",
   "metadata": {},
   "outputs": [],
   "source": [
    "# google_stock_test_date.shape"
   ]
  },
  {
   "cell_type": "code",
   "execution_count": 42,
   "id": "78f3e85e-3634-44d5-a8f0-98b3bdc5df82",
   "metadata": {},
   "outputs": [],
   "source": [
    "# print(google_stock_test_date.Date.iloc[0])"
   ]
  },
  {
   "cell_type": "code",
   "execution_count": 43,
   "id": "7dbefa16-0f4a-4c64-80dc-0207adddf9e7",
   "metadata": {},
   "outputs": [
    {
     "name": "stdout",
     "output_type": "stream",
     "text": [
      "stock_train X shape = (2299, 100); stock_train y shape =  (2299,)\n"
     ]
    }
   ],
   "source": [
    "# We dont see 100 since back at google_stock_train, we havent yet split features from labels\n",
    "print(f\"stock_train X shape = {X_google_stock_train.shape}; stock_train y shape =  {y_google_stock_train.shape}\")"
   ]
  },
  {
   "cell_type": "code",
   "execution_count": 44,
   "id": "d357fd82-567d-41f5-a7d6-c7187c889d8a",
   "metadata": {},
   "outputs": [
    {
     "name": "stdout",
     "output_type": "stream",
     "text": [
      "stock_valid X shape = (766, 100); stock_valid y shape =  (766,)\n"
     ]
    }
   ],
   "source": [
    "print(f\"stock_valid X shape = {X_google_stock_valid.shape}; stock_valid y shape =  {y_google_stock_valid.shape}\")"
   ]
  },
  {
   "cell_type": "code",
   "execution_count": 45,
   "id": "844aa47a-fbae-4f81-bcb0-c6f278e44bd0",
   "metadata": {},
   "outputs": [
    {
     "name": "stdout",
     "output_type": "stream",
     "text": [
      "stock_test X shape = (767, 100); stock_test y shape =  (767,)\n"
     ]
    }
   ],
   "source": [
    "print(f\"stock_test X shape = {X_google_stock_test.shape}; stock_test y shape =  {y_google_stock_test.shape}\")"
   ]
  },
  {
   "cell_type": "code",
   "execution_count": 46,
   "id": "5d9bbdcf-36c0-425e-a831-9481fbfa92aa",
   "metadata": {
    "scrolled": true
   },
   "outputs": [
    {
     "data": {
      "text/plain": [
       "array([[0.5279752 , 0.5268776 , 0.52682201, 0.52523122, 0.52205655,\n",
       "        0.51975718, 0.51735359, 0.51448462, 0.51538769, 0.51646443,\n",
       "        0.51966687, 0.51130995, 0.51552663, 0.51508203, 0.51695071,\n",
       "        0.51655474, 0.51717992, 0.51468606, 0.51196985, 0.50914259,\n",
       "        0.51016219, 0.50932293, 0.50553995, 0.50268978, 0.50187149,\n",
       "        0.50089367, 0.49698946, 0.49709345, 0.4950408 , 0.49307479,\n",
       "        0.49588019, 0.499731  , 0.51564749, 0.52220997, 0.52814773,\n",
       "        0.51991611, 0.52482477, 0.51464968, 0.5126239 , 0.51539732,\n",
       "        0.51435772, 0.51668612, 0.5156038 , 0.51670746, 0.51448589,\n",
       "        0.51581032, 0.5154543 , 0.5068172 , 0.50199769, 0.50201057,\n",
       "        0.49320825, 0.51155138, 0.51791772, 0.52270773, 0.52149917,\n",
       "        0.52891532, 0.53678466, 0.54441805, 0.54689806, 0.5443305 ,\n",
       "        0.56102544, 0.56042426, 0.56288509, 0.55796623, 0.55798165,\n",
       "        0.54803416, 0.54399179, 0.53465489, 0.5373262 , 0.52848658,\n",
       "        0.52703658, 0.53484153, 0.5451922 , 0.54928939, 0.54420948,\n",
       "        0.54589448, 0.5517094 , 0.55297853, 0.54749126, 0.55839503,\n",
       "        0.55371958, 0.54937893, 0.53195149, 0.5466787 , 0.55372017,\n",
       "        0.57196244, 0.57601424, 0.56991122, 0.5542203 , 0.55430589,\n",
       "        0.55941853, 0.57102115, 0.57174485, 0.59093777, 0.59096404,\n",
       "        0.59391282, 0.6007298 , 0.60504195, 0.5953351 , 0.60146887],\n",
       "       [0.5290728 , 0.5279752 , 0.5268776 , 0.52682201, 0.52523122,\n",
       "        0.52205655, 0.51975718, 0.51735359, 0.51448462, 0.51538769,\n",
       "        0.51646443, 0.51966687, 0.51130995, 0.51552663, 0.51508203,\n",
       "        0.51695071, 0.51655474, 0.51717992, 0.51468606, 0.51273536,\n",
       "        0.50914259, 0.51016219, 0.5094026 , 0.50553995, 0.50268978,\n",
       "        0.50187149, 0.50089367, 0.49698946, 0.49709345, 0.4950408 ,\n",
       "        0.49511771, 0.49588019, 0.50101851, 0.51605408, 0.52568026,\n",
       "        0.52818845, 0.52807169, 0.52482477, 0.51464968, 0.5126239 ,\n",
       "        0.51539732, 0.51435772, 0.51668612, 0.5156038 , 0.51670746,\n",
       "        0.51448589, 0.51581032, 0.5154543 , 0.50706997, 0.5025526 ,\n",
       "        0.50345038, 0.50354094, 0.51625226, 0.51791772, 0.52270773,\n",
       "        0.52791921, 0.53433995, 0.54302412, 0.54857449, 0.54689806,\n",
       "        0.55559145, 0.56102544, 0.56363546, 0.56324524, 0.55796623,\n",
       "        0.55798165, 0.54803416, 0.54399179, 0.53469072, 0.53776753,\n",
       "        0.52902639, 0.52703658, 0.53533066, 0.55130279, 0.54928939,\n",
       "        0.54643098, 0.54604732, 0.55225472, 0.55424677, 0.55001955,\n",
       "        0.55900087, 0.55406197, 0.54946841, 0.53267751, 0.54706081,\n",
       "        0.55424308, 0.5719641 , 0.57613264, 0.57017296, 0.5542203 ,\n",
       "        0.55430589, 0.55941853, 0.57102115, 0.5823537 , 0.59097991,\n",
       "        0.59096404, 0.59391282, 0.6007298 , 0.60624815, 0.60340093],\n",
       "       [0.53139299, 0.5290728 , 0.5279752 , 0.5268776 , 0.52682201,\n",
       "        0.52523122, 0.52205655, 0.51975718, 0.51735359, 0.51448462,\n",
       "        0.51538769, 0.51646443, 0.51966687, 0.51130995, 0.51552663,\n",
       "        0.51508203, 0.51695071, 0.51655474, 0.51717992, 0.5154473 ,\n",
       "        0.51273536, 0.50914259, 0.51024171, 0.5094026 , 0.50553995,\n",
       "        0.50268978, 0.50187149, 0.50089367, 0.49698946, 0.49709345,\n",
       "        0.49709187, 0.49511771, 0.49716436, 0.50143739, 0.51948347,\n",
       "        0.5257208 , 0.5364738 , 0.52807169, 0.52482477, 0.51464968,\n",
       "        0.5126239 , 0.51539732, 0.51435772, 0.51668612, 0.5156038 ,\n",
       "        0.51670746, 0.51448589, 0.51581032, 0.51571137, 0.50763048,\n",
       "        0.50399396, 0.51399763, 0.5081682 , 0.51625226, 0.51791772,\n",
       "        0.52912927, 0.53333981, 0.54055099, 0.5471699 , 0.54857449,\n",
       "        0.55821212, 0.55559145, 0.56423882, 0.563995  , 0.56324524,\n",
       "        0.55796623, 0.55798165, 0.54803416, 0.5440269 , 0.53513456,\n",
       "        0.53829672, 0.52902639, 0.52753392, 0.54139073, 0.55130279,\n",
       "        0.55153163, 0.54658397, 0.54658871, 0.55352131, 0.55680458,\n",
       "        0.55063687, 0.55933921, 0.55415053, 0.55016726, 0.53307143,\n",
       "        0.54759152, 0.55424481, 0.57208364, 0.5763906 , 0.57017296,\n",
       "        0.5542203 , 0.55430589, 0.55941853, 0.58161657, 0.58239523,\n",
       "        0.59097991, 0.59096404, 0.59391282, 0.60192741, 0.61446183],\n",
       "       [0.52880882, 0.53139299, 0.5290728 , 0.5279752 , 0.5268776 ,\n",
       "        0.52682201, 0.52523122, 0.52205655, 0.51975718, 0.51735359,\n",
       "        0.51448462, 0.51538769, 0.51646443, 0.51966687, 0.51130995,\n",
       "        0.51552663, 0.51508203, 0.51695071, 0.51655474, 0.51793725,\n",
       "        0.5154473 , 0.51273536, 0.50922229, 0.51024171, 0.5094026 ,\n",
       "        0.50553995, 0.50268978, 0.50187149, 0.50089367, 0.49698946,\n",
       "        0.49915302, 0.49709187, 0.49640122, 0.49758647, 0.50476964,\n",
       "        0.51952352, 0.53396743, 0.5364738 , 0.52807169, 0.52482477,\n",
       "        0.51464968, 0.5126239 , 0.51539732, 0.51435772, 0.51668612,\n",
       "        0.5156038 , 0.51670746, 0.51448589, 0.51606757, 0.51628143,\n",
       "        0.50908641, 0.5145526 , 0.51872098, 0.5081682 , 0.51625226,\n",
       "        0.52433335, 0.53455477, 0.53953922, 0.54467789, 0.5471699 ,\n",
       "        0.55992323, 0.55821212, 0.55878524, 0.56459786, 0.563995  ,\n",
       "        0.56324524, 0.55796623, 0.55798165, 0.54806896, 0.54446184,\n",
       "        0.53566676, 0.53829672, 0.52952164, 0.53355404, 0.54139073,\n",
       "        0.55355325, 0.55168604, 0.54712573, 0.5478423 , 0.55607594,\n",
       "        0.5574126 , 0.55098163, 0.55942671, 0.55484212, 0.55054643,\n",
       "        0.53361853, 0.54759327, 0.55436929, 0.57234407, 0.5763906 ,\n",
       "        0.57017296, 0.5542203 , 0.55430589, 0.56979866, 0.58165805,\n",
       "        0.58239523, 0.59097991, 0.59096404, 0.59509683, 0.61008255],\n",
       "       [0.51634634, 0.52880882, 0.53139299, 0.5290728 , 0.5279752 ,\n",
       "        0.5268776 , 0.52682201, 0.52523122, 0.52205655, 0.51975718,\n",
       "        0.51735359, 0.51448462, 0.51538769, 0.51646443, 0.51966687,\n",
       "        0.51130995, 0.51552663, 0.51508203, 0.51695071, 0.51731305,\n",
       "        0.51793725, 0.5154473 , 0.51281447, 0.50922229, 0.51024171,\n",
       "        0.5094026 , 0.50553995, 0.50268978, 0.50187149, 0.50089367,\n",
       "        0.4990486 , 0.49915302, 0.49837709, 0.49682397, 0.50089313,\n",
       "        0.50480856, 0.52767295, 0.53396743, 0.5364738 , 0.52807169,\n",
       "        0.52482477, 0.51464968, 0.5126239 , 0.51539732, 0.51435772,\n",
       "        0.51668612, 0.5156038 , 0.51670746, 0.51474248, 0.51663802,\n",
       "        0.51776217, 0.51975173, 0.51928106, 0.51872098, 0.5081682 ,\n",
       "        0.52266584, 0.52973941, 0.54076831, 0.5436584 , 0.54467789,\n",
       "        0.55848959, 0.55992323, 0.56141535, 0.55914877, 0.56459786,\n",
       "        0.563995  , 0.56324524, 0.55796623, 0.55801569, 0.54850003,\n",
       "        0.54498336, 0.53566676, 0.53878222, 0.53555195, 0.53355404,\n",
       "        0.54360073, 0.55370824, 0.55223135, 0.54838056, 0.55037212,\n",
       "        0.55668496, 0.55775215, 0.5510708 , 0.56011012, 0.55521735,\n",
       "        0.55107306, 0.53362034, 0.54771961, 0.5546405 , 0.57234407,\n",
       "        0.5763906 , 0.57017296, 0.5542203 , 0.56459115, 0.56983929,\n",
       "        0.58165805, 0.58239523, 0.59097991, 0.59214218, 0.60315943]])"
      ]
     },
     "execution_count": 46,
     "metadata": {},
     "output_type": "execute_result"
    }
   ],
   "source": [
    "X_google_stock_test[:5]"
   ]
  },
  {
   "cell_type": "code",
   "execution_count": 47,
   "id": "2ea562ab-49c3-4da3-8a8a-ba7f5ec3e09d",
   "metadata": {},
   "outputs": [],
   "source": [
    "# taken last 100 days from training set\n",
    "# google_stock_train_pas_100_days = google_stock_train.tail(100)"
   ]
  },
  {
   "cell_type": "code",
   "execution_count": 48,
   "id": "cb53d787-3693-4989-83f2-9acd5005fd20",
   "metadata": {},
   "outputs": [],
   "source": [
    "# google_stock_test = pd.concat([google_stock_train_pas_100_days, google_stock_test],\n",
    "#                                ignore_index=True)"
   ]
  },
  {
   "cell_type": "code",
   "execution_count": 49,
   "id": "431e5688-be51-4ec9-953f-b6498e1fbe0e",
   "metadata": {},
   "outputs": [],
   "source": [
    "# google_stock_test"
   ]
  },
  {
   "cell_type": "code",
   "execution_count": 50,
   "id": "30ff6ac4-5ba4-4f66-baf3-5d5cee59dffd",
   "metadata": {},
   "outputs": [
    {
     "name": "stdout",
     "output_type": "stream",
     "text": [
      "len(x_stock_fets_list) = 3832\n",
      "total google stock on splits = 3832\n"
     ]
    }
   ],
   "source": [
    "print(f\"len(x_stock_fets_list) = {len(x_stock_fets_list)}\")\n",
    "print(f\"total google stock on splits = {X_google_stock_train.shape[0] + X_google_stock_valid.shape[0] + X_google_stock_test.shape[0]}\")"
   ]
  },
  {
   "cell_type": "markdown",
   "id": "b4f6cec6-fad3-4ece-9023-50f25721b597",
   "metadata": {},
   "source": [
    "## Add Extra Dimension for LSTM Prep\n",
    "\n",
    "Add an extra dimension to X stock training, validation and testing sets accounting for lookback.\n",
    "Add an extra dimension to y stock training, validation and testing sets."
   ]
  },
  {
   "cell_type": "code",
   "execution_count": 51,
   "id": "b3efd5fb-82d8-4eb9-800a-31da6a8806b5",
   "metadata": {},
   "outputs": [],
   "source": [
    "X_google_stock_train = X_google_stock_train.reshape( (-1, lookback, 1) )\n",
    "X_google_stock_valid = X_google_stock_valid.reshape( (-1, lookback, 1) )\n",
    "X_google_stock_test = X_google_stock_test.reshape( (-1, lookback, 1) )\n",
    "\n",
    "y_google_stock_train = y_google_stock_train.reshape( (-1, 1) )\n",
    "y_google_stock_valid = y_google_stock_valid.reshape( (-1, 1) )\n",
    "y_google_stock_test = y_google_stock_test.reshape( (-1, 1) )"
   ]
  },
  {
   "cell_type": "code",
   "execution_count": 52,
   "id": "93691edd-1fd4-4305-ade5-e459c35fd0f7",
   "metadata": {},
   "outputs": [
    {
     "name": "stdout",
     "output_type": "stream",
     "text": [
      "stock_train X shape = (2299, 100, 1); stock_train y shape =  (2299, 1)\n",
      "stock_valid X shape = (766, 100, 1); stock_valid y shape =  (766, 1)\n",
      "stock_test X shape = (767, 100, 1); stock_test y shape =  (767, 1)\n"
     ]
    }
   ],
   "source": [
    "print(f\"stock_train X shape = {X_google_stock_train.shape}; stock_train y shape =  {y_google_stock_train.shape}\")\n",
    "print(f\"stock_valid X shape = {X_google_stock_valid.shape}; stock_valid y shape =  {y_google_stock_valid.shape}\")\n",
    "print(f\"stock_test X shape = {X_google_stock_test.shape}; stock_test y shape =  {y_google_stock_test.shape}\")"
   ]
  },
  {
   "cell_type": "markdown",
   "id": "a4a5452c-1aa4-4821-a8fb-398f2e069ef2",
   "metadata": {},
   "source": [
    "## Create PyTorch Nasdaq Dataset (Train, Valid, Test)"
   ]
  },
  {
   "cell_type": "code",
   "execution_count": 53,
   "id": "f79eb6f7-27a4-4bb4-b35f-6e62f5eeaa36",
   "metadata": {},
   "outputs": [],
   "source": [
    "class NasdaqTimeSeriesDataset(torch.utils.data.Dataset):\n",
    "    def __init__(self, stock_close_price_fets, stock_close_price_labels):\n",
    "        self.stock_close_price_fets_ = stock_close_price_fets\n",
    "        self.stock_close_price_labels_ = stock_close_price_labels\n",
    "        self.count_ = 0\n",
    "\n",
    "    def __len__(self):\n",
    "        return len(self.stock_close_price_fets_)\n",
    "\n",
    "    def __getitem__(self, idx):\n",
    "        if DEBUG and self.count_ == 0:\n",
    "            print(f\"NasdaqDataset __getitem__ idx = {idx}\")\n",
    "        # each array holds 100 days of closing prices\n",
    "        closing_price_features = self.stock_close_price_fets_[idx]\n",
    "        closing_price_features_tensor = torch.tensor(closing_price_features).float()\n",
    "\n",
    "        if DEBUG and self.count_ == 0:\n",
    "            print(f\"closing_price_features_tensor.shape = {closing_price_features_tensor.shape}\")\n",
    "        \n",
    "        closing_price_labels = self.stock_close_price_labels_[idx]\n",
    "        closing_price_labels_tensor = torch.tensor(closing_price_labels).float()\n",
    "\n",
    "        if DEBUG and self.count_ == 0:\n",
    "            print(f\"closing_price_labels_tensor.shape = {closing_price_labels_tensor.shape}\")\n",
    "\n",
    "        self.count_ += 1\n",
    "        \n",
    "        return closing_price_features_tensor, closing_price_labels_tensor"
   ]
  },
  {
   "cell_type": "code",
   "execution_count": 54,
   "id": "496b55eb-f2fe-4a8f-8d13-5038b878abfc",
   "metadata": {},
   "outputs": [],
   "source": [
    "# x_train_fets_array, y_train_labels_array = np.array(x_train_fets_list), np.array(y_train_labels_list)\n",
    "# x_valid_fets_array, y_valid_labels_array = np.array(x_valid_fets_list), np.array(y_valid_labels_list)\n",
    "# x_test_fets_array, y_test_labels_array = np.array(x_test_fets_list), np.array(y_test_labels_list)"
   ]
  },
  {
   "cell_type": "code",
   "execution_count": 55,
   "id": "a1fc880d-07ea-4e46-b29f-905f58b275a5",
   "metadata": {},
   "outputs": [],
   "source": [
    "stock_train_dataset = NasdaqTimeSeriesDataset(X_google_stock_train, y_google_stock_train)"
   ]
  },
  {
   "cell_type": "code",
   "execution_count": 56,
   "id": "fa8e5d75-9b36-42af-a1b9-297b5d821af4",
   "metadata": {},
   "outputs": [],
   "source": [
    "stock_valid_dataset = NasdaqTimeSeriesDataset(X_google_stock_valid, y_google_stock_valid)"
   ]
  },
  {
   "cell_type": "code",
   "execution_count": 57,
   "id": "94a50dbf-3470-4072-b944-29374d9272a8",
   "metadata": {},
   "outputs": [],
   "source": [
    "stock_test_dataset = NasdaqTimeSeriesDataset(X_google_stock_test, y_google_stock_test)"
   ]
  },
  {
   "cell_type": "markdown",
   "id": "281d2cc6-81ab-4ad0-a7f6-840cbbf01499",
   "metadata": {},
   "source": [
    "## Create PyTorch Nasdaq DataLoader (Train, Test)"
   ]
  },
  {
   "cell_type": "code",
   "execution_count": 58,
   "id": "08de933f-2133-4dd6-8184-3b8f585deb03",
   "metadata": {},
   "outputs": [],
   "source": [
    "stock_train_loader = DataLoader(stock_train_dataset, batch_size = BATCH_SIZE, shuffle=True)"
   ]
  },
  {
   "cell_type": "code",
   "execution_count": 59,
   "id": "7bbfb686-b264-43b8-bf03-6fd910c956b6",
   "metadata": {},
   "outputs": [],
   "source": [
    "stock_valid_loader = DataLoader(stock_valid_dataset, batch_size = TEST_BATCH_SIZE, shuffle=False)"
   ]
  },
  {
   "cell_type": "code",
   "execution_count": 60,
   "id": "5dd3796c-c345-44f1-a492-7687944c5e8d",
   "metadata": {},
   "outputs": [],
   "source": [
    "stock_test_loader = DataLoader(stock_test_dataset, batch_size = TEST_BATCH_SIZE, shuffle=False)"
   ]
  },
  {
   "cell_type": "code",
   "execution_count": 61,
   "id": "2f864be6-7db5-45b0-9d98-b7dd5f7f98d0",
   "metadata": {},
   "outputs": [],
   "source": [
    "pytorch_pipeline = PyTorchPipeline()"
   ]
  },
  {
   "cell_type": "code",
   "execution_count": 62,
   "id": "5212e0ca-0796-40ac-91a0-7c722c77703f",
   "metadata": {},
   "outputs": [
    {
     "name": "stdout",
     "output_type": "stream",
     "text": [
      "NasdaqDataset __getitem__ idx = 611\n",
      "closing_price_features_tensor.shape = torch.Size([100, 1])\n",
      "closing_price_labels_tensor.shape = torch.Size([1])\n",
      "close price features shape: torch.Size([16, 100, 1]); close price labels shape: torch.Size([16, 1])\n"
     ]
    }
   ],
   "source": [
    "pytorch_pipeline.test_dataloader_sample(stock_train_loader)"
   ]
  },
  {
   "cell_type": "markdown",
   "id": "80ac7f7e-f077-4ad9-bb3d-215036e5f880",
   "metadata": {},
   "source": [
    "## Create a PyTorch LSTM Model\n",
    "\n",
    "Based on our \"x\" and \"y\" training data, we'll create a ML model and then train it"
   ]
  },
  {
   "cell_type": "code",
   "execution_count": 63,
   "id": "5891bce3-9619-415c-8c10-852bc68a964d",
   "metadata": {},
   "outputs": [],
   "source": [
    "# Use nn.LSTM, nn.Linear, nn.ReLU, nn.Dropout"
   ]
  },
  {
   "cell_type": "code",
   "execution_count": 64,
   "id": "e7574106-62e0-48c1-a398-5fe7adf85f62",
   "metadata": {},
   "outputs": [],
   "source": [
    "# rows = 2259, columns, ch\n",
    "# NOTE: use to be \"x\"\n",
    "# x_train_fets_array.shape"
   ]
  },
  {
   "cell_type": "code",
   "execution_count": 65,
   "id": "ef0e7b82-a2e1-4f47-b6e5-622ca196de97",
   "metadata": {},
   "outputs": [],
   "source": [
    "# BEST Results so far with regards to MSE, RMSE, etc\n",
    "class StockClosePriceLSTM(nn.Module):\n",
    "    def __init__(self, input_size, hidden_size=10, num_stacked_layers=1, dropout_ratio=0.2):\n",
    "        super(StockClosePriceLSTM, self).__init__()\n",
    "        self.hidden_size = hidden_size\n",
    "        self.num_stacked_layers = num_stacked_layers\n",
    "        self.lstm = nn.LSTM(input_size, hidden_size, num_stacked_layers, batch_first=True, \n",
    "                            dropout=dropout_ratio, bias=True)\n",
    "\n",
    "        self.fc = nn.Linear(hidden_size, 1)\n",
    "        # self.dropout1 = nn.Dropout(0.2)\n",
    "        # self.relu = nn.ReLU()\n",
    "\n",
    "        self.count_ = 0\n",
    "\n",
    "    def forward(self, closing_price_2d_features):\n",
    "        # closing price 2D features: row by col, each row has 100 samples since 100 days of closing prices, \n",
    "        # trying to pred final closing price\n",
    "        if DEBUG and self.count_ == 0:\n",
    "            print(f\"type(closing_price_2d_features) = {type(closing_price_2d_features)}\")\n",
    "        batch_size = closing_price_2d_features.size(0)\n",
    "        if DEBUG and self.count_ == 0:\n",
    "            print(f\"closing_price_2d_features batch_size = {batch_size}\")\n",
    "        h0 = torch.zeros(self.num_stacked_layers, batch_size, self.hidden_size).to(device)\n",
    "        c0 = torch.zeros(self.num_stacked_layers, batch_size, self.hidden_size).to(device)\n",
    "        \n",
    "        lstm_features, lstm_hidden = self.lstm(closing_price_2d_features, (h0, c0))\n",
    "        # decode hidden state of the last time step\n",
    "        lstm_features = lstm_features[:, -1, :]\n",
    "        if DEBUG and self.count_ == 0:\n",
    "            print(f\"type(lstm_features) = {type(lstm_features)}\")\n",
    "        stock_price_pred = self.fc(lstm_features)\n",
    "\n",
    "        self.count_ += 1\n",
    "        return stock_price_pred"
   ]
  },
  {
   "cell_type": "code",
   "execution_count": 66,
   "id": "98d423cd-bc29-4d0b-a6ad-67bc873c10a3",
   "metadata": {},
   "outputs": [],
   "source": [
    "# NOTE: Not so great results when trying multiple LSTM layers with varying hidden features\n",
    "class StockPriceLSTMV2(nn.Module):\n",
    "    def __init__(self, input_size, hidden_sizes=[10, 20, 30, 40, 50], num_stacked_layers=5, dropout_ratio=0.3, num_classes=1):\n",
    "        super(StockPriceLSTMV2, self).__init__()\n",
    "        self.hidden_sizes = hidden_sizes\n",
    "        self.num_stacked_layers = num_stacked_layers\n",
    "\n",
    "        self.lstm_list = nn.ModuleList([\n",
    "            nn.LSTM(input_size, self.hidden_sizes[0], \n",
    "                    batch_first=True, dropout=dropout_ratio, bias=True)\n",
    "        ])\n",
    "\n",
    "        for i in range(1, self.num_stacked_layers):\n",
    "            if i < self.num_stacked_layers-1:\n",
    "                print(f\"Not on last LSTM layer {i}, adding dropout = {dropout_ratio}\")\n",
    "                self.lstm_list.append( nn.LSTM(self.hidden_sizes[i-1], self.hidden_sizes[i], \n",
    "                                              batch_first=True, dropout=dropout_ratio, bias=True) )\n",
    "            else:\n",
    "                print(f\"On last LSTM layer {i}, ignoring dropout = {dropout_ratio}\")\n",
    "                self.lstm_list.append( nn.LSTM(self.hidden_sizes[i-1], self.hidden_sizes[i], \n",
    "                                              batch_first=True, bias=True) )\n",
    "        \n",
    "        # self.lstm_list.extend([\n",
    "        #     nn.LSTM(self.hidden_sizes[i-1], self.hidden_sizes[i], batch_first=True, dropout=dropout_ratio, bias=True)\n",
    "        #         for i in range(1, self.num_stacked_layers)\n",
    "        # ])\n",
    "\n",
    "        self.fc = nn.Linear(self.hidden_sizes[-1], num_classes)\n",
    "        self.count_ = 0\n",
    "\n",
    "    def forward(self, stock_price_features):\n",
    "        if DEBUG and self.count_ == 0:\n",
    "            print(f\"type(stock_price_features) = {type(stock_price_features)}\")\n",
    "        batch_size = stock_price_features.size(0)\n",
    "        if DEBUG and self.count_ == 0:\n",
    "            print(f\"stock_price_features batch_size = {batch_size}\")\n",
    "\n",
    "        hiddens = [torch.zeros(batch_size, hidden_size).to(stock_price_features.device)\n",
    "                       for hidden_size in self.hidden_sizes]\n",
    "\n",
    "        for i in range(self.num_stacked_layers):\n",
    "            stock_price_features, (hiddens[i], _) = self.lstm_list[i](stock_price_features, (\n",
    "                hiddens[i].unsqueeze(0), hiddens[i].unsqueeze(0)\n",
    "            ) )\n",
    "        \n",
    "        stock_price_features = stock_price_features[:, -1, :]\n",
    "        if DEBUG and self.count_ == 0:\n",
    "            print(f\"type(stock_price_features) = {type(stock_price_features)}\")\n",
    "        stock_price_pred = self.fc(stock_price_features)\n",
    "\n",
    "        self.count_ += 1\n",
    "        return stock_price_pred"
   ]
  },
  {
   "cell_type": "code",
   "execution_count": 83,
   "id": "1b4cc8ad-321e-4ff0-9b75-9699df46cf17",
   "metadata": {},
   "outputs": [
    {
     "name": "stderr",
     "output_type": "stream",
     "text": [
      "/home/james/miniconda3/envs/stroke_ai_torch/lib/python3.9/site-packages/torch/nn/modules/rnn.py:71: UserWarning: dropout option adds dropout after all but last recurrent layer, so non-zero dropout expects num_layers greater than 1, but got dropout=0.3 and num_layers=1\n",
      "  warnings.warn(\"dropout option adds dropout after all but last \"\n"
     ]
    }
   ],
   "source": [
    "lstm_model = StockClosePriceLSTM(input_size=1, hidden_size=10, num_stacked_layers=1, dropout_ratio=0.3)\n",
    "# for some reason the following 3 args werent being picked up by our following StockClosePriceLSTMV2 model, but we\n",
    "# have default args\n",
    "# hidden_sizes=[10, 20, 30, 40, 50]\n",
    "# dropout_ratio=0.3\n",
    "# num_classes=1\n",
    "# lstm_model = StockPriceLSTMV2(input_size=1, hidden_sizes=[50, 60, 80, 120], \n",
    "#                               num_stacked_layers=4, dropout_ratio=0.3, num_classes=1)"
   ]
  },
  {
   "cell_type": "code",
   "execution_count": 84,
   "id": "08381c24-fbf0-46cd-9e4d-6347ee086108",
   "metadata": {},
   "outputs": [
    {
     "data": {
      "text/plain": [
       "StockClosePriceLSTM(\n",
       "  (lstm): LSTM(1, 10, batch_first=True, dropout=0.3)\n",
       "  (fc): Linear(in_features=10, out_features=1, bias=True)\n",
       ")"
      ]
     },
     "execution_count": 84,
     "metadata": {},
     "output_type": "execute_result"
    }
   ],
   "source": [
    "lstm_model.to(device)"
   ]
  },
  {
   "cell_type": "code",
   "execution_count": 85,
   "id": "df5cb671-675c-4b3b-af30-1e3efaf55815",
   "metadata": {},
   "outputs": [],
   "source": [
    "mse_criterion = nn.MSELoss()"
   ]
  },
  {
   "cell_type": "code",
   "execution_count": 86,
   "id": "a01fbc6b-b1ca-4426-a2a1-c8ab498a6a58",
   "metadata": {},
   "outputs": [],
   "source": [
    "lstm_optimizer = optim.Adam(lstm_model.parameters(), lr=LEARNING_RATE)"
   ]
  },
  {
   "cell_type": "markdown",
   "id": "e2768af0-b5e4-4bf5-8883-d8f0eba19bab",
   "metadata": {},
   "source": [
    "## Train PyTorch LSTM Model using Pipeline"
   ]
  },
  {
   "cell_type": "code",
   "execution_count": 87,
   "id": "debcd1d3-b633-43e3-8e7b-1b1c8444e201",
   "metadata": {},
   "outputs": [],
   "source": [
    "# pytorch_pipeline = PyTorchPipeline()"
   ]
  },
  {
   "cell_type": "code",
   "execution_count": 88,
   "id": "2bd2a78f-2a78-4038-80bb-4d7338096f01",
   "metadata": {},
   "outputs": [
    {
     "data": {
      "application/vnd.jupyter.widget-view+json": {
       "model_id": "e482323720ee40fdb9ab885f61ad0b2d",
       "version_major": 2,
       "version_minor": 0
      },
      "text/plain": [
       "  0%|          | 0/144 [00:00<?, ?it/s]"
      ]
     },
     "metadata": {},
     "output_type": "display_data"
    },
    {
     "name": "stdout",
     "output_type": "stream",
     "text": [
      "type(closing_price_2d_features) = <class 'torch.Tensor'>\n",
      "closing_price_2d_features batch_size = 16\n",
      "type(lstm_features) = <class 'torch.Tensor'>\n",
      "=> Saving Checkpoint\n"
     ]
    },
    {
     "data": {
      "application/vnd.jupyter.widget-view+json": {
       "model_id": "fac5d20d66b949e8b4ae49fd0207c28f",
       "version_major": 2,
       "version_minor": 0
      },
      "text/plain": [
       "  0%|          | 0/766 [00:00<?, ?it/s]"
      ]
     },
     "metadata": {},
     "output_type": "display_data"
    },
    {
     "data": {
      "application/vnd.jupyter.widget-view+json": {
       "model_id": "24a47ee97c7540eb85c33c8dd6be5f67",
       "version_major": 2,
       "version_minor": 0
      },
      "text/plain": [
       "  0%|          | 0/144 [00:00<?, ?it/s]"
      ]
     },
     "metadata": {},
     "output_type": "display_data"
    },
    {
     "name": "stdout",
     "output_type": "stream",
     "text": [
      "=> Saving Checkpoint\n"
     ]
    },
    {
     "data": {
      "application/vnd.jupyter.widget-view+json": {
       "model_id": "ef96e678ad904132bf6384f16216d93c",
       "version_major": 2,
       "version_minor": 0
      },
      "text/plain": [
       "  0%|          | 0/766 [00:00<?, ?it/s]"
      ]
     },
     "metadata": {},
     "output_type": "display_data"
    },
    {
     "data": {
      "application/vnd.jupyter.widget-view+json": {
       "model_id": "568c6126e19d441fb85a6f4fc8eeee55",
       "version_major": 2,
       "version_minor": 0
      },
      "text/plain": [
       "  0%|          | 0/144 [00:00<?, ?it/s]"
      ]
     },
     "metadata": {},
     "output_type": "display_data"
    },
    {
     "name": "stdout",
     "output_type": "stream",
     "text": [
      "=> Saving Checkpoint\n"
     ]
    },
    {
     "data": {
      "application/vnd.jupyter.widget-view+json": {
       "model_id": "53b30cb7ba9d4f128b54c28c04391720",
       "version_major": 2,
       "version_minor": 0
      },
      "text/plain": [
       "  0%|          | 0/766 [00:00<?, ?it/s]"
      ]
     },
     "metadata": {},
     "output_type": "display_data"
    },
    {
     "data": {
      "application/vnd.jupyter.widget-view+json": {
       "model_id": "9f1d21f55c7243419f6956ca511c98aa",
       "version_major": 2,
       "version_minor": 0
      },
      "text/plain": [
       "  0%|          | 0/144 [00:00<?, ?it/s]"
      ]
     },
     "metadata": {},
     "output_type": "display_data"
    },
    {
     "name": "stdout",
     "output_type": "stream",
     "text": [
      "=> Saving Checkpoint\n"
     ]
    },
    {
     "data": {
      "application/vnd.jupyter.widget-view+json": {
       "model_id": "2bc369987ff345439ad464bfab159f67",
       "version_major": 2,
       "version_minor": 0
      },
      "text/plain": [
       "  0%|          | 0/766 [00:00<?, ?it/s]"
      ]
     },
     "metadata": {},
     "output_type": "display_data"
    },
    {
     "data": {
      "application/vnd.jupyter.widget-view+json": {
       "model_id": "13b0e7eb73944423a6cb7ef246450051",
       "version_major": 2,
       "version_minor": 0
      },
      "text/plain": [
       "  0%|          | 0/144 [00:00<?, ?it/s]"
      ]
     },
     "metadata": {},
     "output_type": "display_data"
    },
    {
     "name": "stdout",
     "output_type": "stream",
     "text": [
      "=> Saving Checkpoint\n"
     ]
    },
    {
     "data": {
      "application/vnd.jupyter.widget-view+json": {
       "model_id": "8f5ded3589fe4990a57869783f3531ce",
       "version_major": 2,
       "version_minor": 0
      },
      "text/plain": [
       "  0%|          | 0/766 [00:00<?, ?it/s]"
      ]
     },
     "metadata": {},
     "output_type": "display_data"
    },
    {
     "data": {
      "application/vnd.jupyter.widget-view+json": {
       "model_id": "ebbf5e485e2c4591add57117bec3fdb1",
       "version_major": 2,
       "version_minor": 0
      },
      "text/plain": [
       "  0%|          | 0/144 [00:00<?, ?it/s]"
      ]
     },
     "metadata": {},
     "output_type": "display_data"
    },
    {
     "name": "stdout",
     "output_type": "stream",
     "text": [
      "=> Saving Checkpoint\n"
     ]
    },
    {
     "data": {
      "application/vnd.jupyter.widget-view+json": {
       "model_id": "5b0db9c5bfe74e05a7b833445c75b604",
       "version_major": 2,
       "version_minor": 0
      },
      "text/plain": [
       "  0%|          | 0/766 [00:00<?, ?it/s]"
      ]
     },
     "metadata": {},
     "output_type": "display_data"
    },
    {
     "data": {
      "application/vnd.jupyter.widget-view+json": {
       "model_id": "6700db9e108f4345bb7ebca1d34fe5ed",
       "version_major": 2,
       "version_minor": 0
      },
      "text/plain": [
       "  0%|          | 0/144 [00:00<?, ?it/s]"
      ]
     },
     "metadata": {},
     "output_type": "display_data"
    },
    {
     "name": "stdout",
     "output_type": "stream",
     "text": [
      "=> Saving Checkpoint\n"
     ]
    },
    {
     "data": {
      "application/vnd.jupyter.widget-view+json": {
       "model_id": "6d7ea2eb80014c05a2406577956601b3",
       "version_major": 2,
       "version_minor": 0
      },
      "text/plain": [
       "  0%|          | 0/766 [00:00<?, ?it/s]"
      ]
     },
     "metadata": {},
     "output_type": "display_data"
    },
    {
     "data": {
      "application/vnd.jupyter.widget-view+json": {
       "model_id": "c488e3bc157a412592a5989c0fd4de06",
       "version_major": 2,
       "version_minor": 0
      },
      "text/plain": [
       "  0%|          | 0/144 [00:00<?, ?it/s]"
      ]
     },
     "metadata": {},
     "output_type": "display_data"
    },
    {
     "name": "stdout",
     "output_type": "stream",
     "text": [
      "=> Saving Checkpoint\n"
     ]
    },
    {
     "data": {
      "application/vnd.jupyter.widget-view+json": {
       "model_id": "213220e5861c41e7ac8f3b9b45b59be5",
       "version_major": 2,
       "version_minor": 0
      },
      "text/plain": [
       "  0%|          | 0/766 [00:00<?, ?it/s]"
      ]
     },
     "metadata": {},
     "output_type": "display_data"
    },
    {
     "data": {
      "application/vnd.jupyter.widget-view+json": {
       "model_id": "79af6a0cc6dc4ec4818690f444951e59",
       "version_major": 2,
       "version_minor": 0
      },
      "text/plain": [
       "  0%|          | 0/144 [00:00<?, ?it/s]"
      ]
     },
     "metadata": {},
     "output_type": "display_data"
    },
    {
     "name": "stdout",
     "output_type": "stream",
     "text": [
      "=> Saving Checkpoint\n"
     ]
    },
    {
     "data": {
      "application/vnd.jupyter.widget-view+json": {
       "model_id": "28f14e5f118d499fa69001200eace5a5",
       "version_major": 2,
       "version_minor": 0
      },
      "text/plain": [
       "  0%|          | 0/766 [00:00<?, ?it/s]"
      ]
     },
     "metadata": {},
     "output_type": "display_data"
    },
    {
     "data": {
      "application/vnd.jupyter.widget-view+json": {
       "model_id": "882dbf3e17664641af101ccc8e3b887d",
       "version_major": 2,
       "version_minor": 0
      },
      "text/plain": [
       "  0%|          | 0/144 [00:00<?, ?it/s]"
      ]
     },
     "metadata": {},
     "output_type": "display_data"
    },
    {
     "name": "stdout",
     "output_type": "stream",
     "text": [
      "=> Saving Checkpoint\n"
     ]
    },
    {
     "data": {
      "application/vnd.jupyter.widget-view+json": {
       "model_id": "123e2661f9d44382911d350d24a05b5a",
       "version_major": 2,
       "version_minor": 0
      },
      "text/plain": [
       "  0%|          | 0/766 [00:00<?, ?it/s]"
      ]
     },
     "metadata": {},
     "output_type": "display_data"
    }
   ],
   "source": [
    "pytorch_pipeline.train_over_epochs(\n",
    "    stock_train_loader, stock_valid_loader,\n",
    "    lstm_model,\n",
    "    lstm_optimizer,\n",
    "    mse_criterion,\n",
    "    dst_folder=\"lstm_stock_close\"\n",
    ")"
   ]
  },
  {
   "cell_type": "code",
   "execution_count": 89,
   "id": "248c953f-d3b9-40f2-9fd6-d0a9c982c7eb",
   "metadata": {},
   "outputs": [],
   "source": [
    "pytorch_utility = PyTorchUtility()"
   ]
  },
  {
   "cell_type": "code",
   "execution_count": 90,
   "id": "66b2cd1c-a979-47ac-971f-0bcdf65ad3b5",
   "metadata": {},
   "outputs": [
    {
     "data": {
      "image/png": "[encoded data removed]",
      "text/plain": [
       "<Figure size 640x480 with 1 Axes>"
      ]
     },
     "metadata": {},
     "output_type": "display_data"
    }
   ],
   "source": [
    "pytorch_utility.plot_loss_curves(train_rmse_loss_avg_values, valid_rmse_loss_avg_values,\n",
    "                                 \"LSTM Train & Valid RMSE Loss\", \"lstm_train_valid_loss_avg_curves.jpg\")"
   ]
  },
  {
   "cell_type": "code",
   "execution_count": 91,
   "id": "f770cb5a-b0f9-4536-a8fe-83fe75ae0a07",
   "metadata": {},
   "outputs": [
    {
     "name": "stdout",
     "output_type": "stream",
     "text": [
      "LSTM: final_train Min RMSE = 0.030684312495092552\n"
     ]
    }
   ],
   "source": [
    "final_train_rmse = min(train_rmse_loss_avg_values)\n",
    "print(f\"LSTM: final_train Min RMSE = {final_train_rmse}\")"
   ]
  },
  {
   "cell_type": "code",
   "execution_count": 92,
   "id": "39bfc40a-e189-46d3-bbb7-6f1546f715cf",
   "metadata": {},
   "outputs": [
    {
     "name": "stdout",
     "output_type": "stream",
     "text": [
      "LSTM: final_valid Min RMSE = 0.043593859003355856\n"
     ]
    }
   ],
   "source": [
    "final_test_rmse = min(valid_rmse_loss_avg_values)\n",
    "print(f\"LSTM: final_valid Min RMSE = {final_test_rmse}\")"
   ]
  },
  {
   "cell_type": "markdown",
   "id": "54c8be1a-322b-4b7a-85bc-ac13d0cb0a3f",
   "metadata": {},
   "source": [
    "## Deploy LSTM on Validation Set for Stock Close Price Prediction"
   ]
  },
  {
   "cell_type": "code",
   "execution_count": 93,
   "id": "cdc48a56-eb64-4cdd-9ca2-f7f8f28b94d3",
   "metadata": {
    "scrolled": true
   },
   "outputs": [
    {
     "data": {
      "application/vnd.jupyter.widget-view+json": {
       "model_id": "f244c203331c478597174bc8ad7dbf5b",
       "version_major": 2,
       "version_minor": 0
      },
      "text/plain": [
       "  0%|          | 0/766 [00:00<?, ?it/s]"
      ]
     },
     "metadata": {},
     "output_type": "display_data"
    },
    {
     "name": "stdout",
     "output_type": "stream",
     "text": [
      "final_closing_price_pred.item() = 0.29668059945106506\n",
      "final_closing_price_pred.item() = 0.2972257137298584\n",
      "final_closing_price_pred.item() = 0.29936912655830383\n",
      "final_closing_price_pred.item() = 0.3022884428501129\n",
      "final_closing_price_pred.item() = 0.30457794666290283\n",
      "final_closing_price_pred.item() = 0.30719566345214844\n",
      "final_closing_price_pred.item() = 0.3103557527065277\n",
      "final_closing_price_pred.item() = 0.3145679533481598\n",
      "final_closing_price_pred.item() = 0.3179667890071869\n",
      "final_closing_price_pred.item() = 0.32929834723472595\n",
      "final_closing_price_pred.item() = 0.32911667227745056\n",
      "final_closing_price_pred.item() = 0.33007457852363586\n",
      "final_closing_price_pred.item() = 0.3320343792438507\n",
      "final_closing_price_pred.item() = 0.3314116895198822\n",
      "final_closing_price_pred.item() = 0.3308134377002716\n",
      "final_closing_price_pred.item() = 0.3312946856021881\n",
      "final_closing_price_pred.item() = 0.3329506814479828\n",
      "final_closing_price_pred.item() = 0.33232006430625916\n",
      "final_closing_price_pred.item() = 0.33216044306755066\n",
      "final_closing_price_pred.item() = 0.33173462748527527\n",
      "final_closing_price_pred.item() = 0.3315136134624481\n",
      "final_closing_price_pred.item() = 0.3310804069042206\n",
      "final_closing_price_pred.item() = 0.33106139302253723\n",
      "final_closing_price_pred.item() = 0.3301810920238495\n",
      "final_closing_price_pred.item() = 0.3311498463153839\n",
      "final_closing_price_pred.item() = 0.3312266767024994\n",
      "final_closing_price_pred.item() = 0.33208152651786804\n",
      "final_closing_price_pred.item() = 0.33405622839927673\n",
      "final_closing_price_pred.item() = 0.3343185484409332\n",
      "final_closing_price_pred.item() = 0.3342260420322418\n",
      "final_closing_price_pred.item() = 0.33417096734046936\n",
      "final_closing_price_pred.item() = 0.33402547240257263\n",
      "final_closing_price_pred.item() = 0.3344740569591522\n",
      "final_closing_price_pred.item() = 0.3359915316104889\n",
      "final_closing_price_pred.item() = 0.33655914664268494\n",
      "final_closing_price_pred.item() = 0.33828315138816833\n",
      "final_closing_price_pred.item() = 0.3395176827907562\n",
      "final_closing_price_pred.item() = 0.3398893177509308\n",
      "final_closing_price_pred.item() = 0.33963415026664734\n",
      "final_closing_price_pred.item() = 0.33945557475090027\n",
      "final_closing_price_pred.item() = 0.3397718369960785\n",
      "final_closing_price_pred.item() = 0.34058889746665955\n",
      "final_closing_price_pred.item() = 0.341099351644516\n",
      "final_closing_price_pred.item() = 0.342508465051651\n",
      "final_closing_price_pred.item() = 0.34331074357032776\n",
      "final_closing_price_pred.item() = 0.343681663274765\n",
      "final_closing_price_pred.item() = 0.34300926327705383\n",
      "final_closing_price_pred.item() = 0.34259650111198425\n",
      "final_closing_price_pred.item() = 0.3424874246120453\n",
      "final_closing_price_pred.item() = 0.344023197889328\n",
      "final_closing_price_pred.item() = 0.3445456922054291\n",
      "final_closing_price_pred.item() = 0.3463691174983978\n",
      "final_closing_price_pred.item() = 0.3472016751766205\n",
      "final_closing_price_pred.item() = 0.34888967871665955\n",
      "final_closing_price_pred.item() = 0.3501823842525482\n",
      "final_closing_price_pred.item() = 0.35008367896080017\n",
      "final_closing_price_pred.item() = 0.3505943715572357\n",
      "final_closing_price_pred.item() = 0.35065606236457825\n",
      "final_closing_price_pred.item() = 0.35020413994789124\n",
      "final_closing_price_pred.item() = 0.3511603772640228\n",
      "final_closing_price_pred.item() = 0.3507711589336395\n",
      "final_closing_price_pred.item() = 0.350792795419693\n",
      "final_closing_price_pred.item() = 0.3524295389652252\n",
      "final_closing_price_pred.item() = 0.3542540371417999\n",
      "final_closing_price_pred.item() = 0.3543071448802948\n",
      "final_closing_price_pred.item() = 0.3535650670528412\n",
      "final_closing_price_pred.item() = 0.3538537323474884\n",
      "final_closing_price_pred.item() = 0.35397395491600037\n",
      "final_closing_price_pred.item() = 0.35628238320350647\n",
      "final_closing_price_pred.item() = 0.35632869601249695\n",
      "final_closing_price_pred.item() = 0.3568536937236786\n",
      "final_closing_price_pred.item() = 0.35642901062965393\n",
      "final_closing_price_pred.item() = 0.3571220934391022\n",
      "final_closing_price_pred.item() = 0.356516033411026\n",
      "final_closing_price_pred.item() = 0.35515889525413513\n",
      "final_closing_price_pred.item() = 0.35204795002937317\n",
      "final_closing_price_pred.item() = 0.3509824573993683\n",
      "final_closing_price_pred.item() = 0.35324981808662415\n",
      "final_closing_price_pred.item() = 0.3531055748462677\n",
      "final_closing_price_pred.item() = 0.3562334477901459\n",
      "final_closing_price_pred.item() = 0.3592977821826935\n",
      "final_closing_price_pred.item() = 0.3558782637119293\n",
      "final_closing_price_pred.item() = 0.3569992482662201\n",
      "final_closing_price_pred.item() = 0.3582927882671356\n",
      "final_closing_price_pred.item() = 0.36034515500068665\n",
      "final_closing_price_pred.item() = 0.3620865046977997\n",
      "final_closing_price_pred.item() = 0.3622768819332123\n",
      "final_closing_price_pred.item() = 0.36392220854759216\n",
      "final_closing_price_pred.item() = 0.3640613257884979\n",
      "final_closing_price_pred.item() = 0.36532291769981384\n",
      "final_closing_price_pred.item() = 0.3656933605670929\n",
      "final_closing_price_pred.item() = 0.3662545382976532\n",
      "final_closing_price_pred.item() = 0.36568960547447205\n",
      "final_closing_price_pred.item() = 0.3659987151622772\n",
      "final_closing_price_pred.item() = 0.36624065041542053\n",
      "final_closing_price_pred.item() = 0.36706408858299255\n",
      "final_closing_price_pred.item() = 0.36756929755210876\n",
      "final_closing_price_pred.item() = 0.3674098551273346\n",
      "final_closing_price_pred.item() = 0.36710914969444275\n",
      "final_closing_price_pred.item() = 0.3666221797466278\n",
      "final_closing_price_pred.item() = 0.3657611310482025\n",
      "final_closing_price_pred.item() = 0.366683691740036\n",
      "final_closing_price_pred.item() = 0.366717129945755\n",
      "final_closing_price_pred.item() = 0.36643072962760925\n",
      "final_closing_price_pred.item() = 0.3656282126903534\n",
      "final_closing_price_pred.item() = 0.36489859223365784\n",
      "final_closing_price_pred.item() = 0.3636930286884308\n",
      "final_closing_price_pred.item() = 0.3636862337589264\n",
      "final_closing_price_pred.item() = 0.3619416654109955\n",
      "final_closing_price_pred.item() = 0.3609345257282257\n",
      "final_closing_price_pred.item() = 0.36242660880088806\n",
      "final_closing_price_pred.item() = 0.36315032839775085\n",
      "final_closing_price_pred.item() = 0.36130955815315247\n",
      "final_closing_price_pred.item() = 0.3599989116191864\n",
      "final_closing_price_pred.item() = 0.3576749265193939\n",
      "final_closing_price_pred.item() = 0.3548679053783417\n",
      "final_closing_price_pred.item() = 0.35391858220100403\n",
      "final_closing_price_pred.item() = 0.3512028157711029\n",
      "final_closing_price_pred.item() = 0.34997913241386414\n",
      "final_closing_price_pred.item() = 0.35012713074684143\n",
      "final_closing_price_pred.item() = 0.3497374951839447\n",
      "final_closing_price_pred.item() = 0.3509056866168976\n",
      "final_closing_price_pred.item() = 0.35002681612968445\n",
      "final_closing_price_pred.item() = 0.34900274872779846\n",
      "final_closing_price_pred.item() = 0.3444083631038666\n",
      "final_closing_price_pred.item() = 0.34409114718437195\n",
      "final_closing_price_pred.item() = 0.3464551270008087\n",
      "final_closing_price_pred.item() = 0.3464345633983612\n",
      "final_closing_price_pred.item() = 0.3419336974620819\n",
      "final_closing_price_pred.item() = 0.3403935730457306\n",
      "final_closing_price_pred.item() = 0.34102967381477356\n",
      "final_closing_price_pred.item() = 0.34185847640037537\n",
      "final_closing_price_pred.item() = 0.3438549339771271\n",
      "final_closing_price_pred.item() = 0.339764267206192\n",
      "final_closing_price_pred.item() = 0.3383926451206207\n",
      "final_closing_price_pred.item() = 0.33886560797691345\n",
      "final_closing_price_pred.item() = 0.3372286260128021\n",
      "final_closing_price_pred.item() = 0.3366927206516266\n",
      "final_closing_price_pred.item() = 0.3355642855167389\n",
      "final_closing_price_pred.item() = 0.33634230494499207\n",
      "final_closing_price_pred.item() = 0.33816227316856384\n",
      "final_closing_price_pred.item() = 0.3379844129085541\n",
      "final_closing_price_pred.item() = 0.33839651942253113\n",
      "final_closing_price_pred.item() = 0.3374404013156891\n",
      "final_closing_price_pred.item() = 0.3368559181690216\n",
      "final_closing_price_pred.item() = 0.33483967185020447\n",
      "final_closing_price_pred.item() = 0.3346846401691437\n",
      "final_closing_price_pred.item() = 0.33587196469306946\n",
      "final_closing_price_pred.item() = 0.3380015790462494\n",
      "final_closing_price_pred.item() = 0.3400662839412689\n",
      "final_closing_price_pred.item() = 0.34041133522987366\n",
      "final_closing_price_pred.item() = 0.3394515812397003\n",
      "final_closing_price_pred.item() = 0.33906134963035583\n",
      "final_closing_price_pred.item() = 0.3402361571788788\n",
      "final_closing_price_pred.item() = 0.3424917161464691\n",
      "final_closing_price_pred.item() = 0.343740314245224\n",
      "final_closing_price_pred.item() = 0.3461668789386749\n",
      "final_closing_price_pred.item() = 0.347948282957077\n",
      "final_closing_price_pred.item() = 0.34971752762794495\n",
      "final_closing_price_pred.item() = 0.35158059000968933\n",
      "final_closing_price_pred.item() = 0.3505607545375824\n",
      "final_closing_price_pred.item() = 0.3499881327152252\n",
      "final_closing_price_pred.item() = 0.3495064079761505\n",
      "final_closing_price_pred.item() = 0.34826919436454773\n",
      "final_closing_price_pred.item() = 0.34714022278785706\n",
      "final_closing_price_pred.item() = 0.34775933623313904\n",
      "final_closing_price_pred.item() = 0.3495883643627167\n",
      "final_closing_price_pred.item() = 0.35014602541923523\n",
      "final_closing_price_pred.item() = 0.35086676478385925\n",
      "final_closing_price_pred.item() = 0.35028788447380066\n",
      "final_closing_price_pred.item() = 0.34964099526405334\n",
      "final_closing_price_pred.item() = 0.34839972853660583\n",
      "final_closing_price_pred.item() = 0.3484715521335602\n",
      "final_closing_price_pred.item() = 0.3477543294429779\n",
      "final_closing_price_pred.item() = 0.34847620129585266\n",
      "final_closing_price_pred.item() = 0.3507811725139618\n",
      "final_closing_price_pred.item() = 0.35165753960609436\n",
      "final_closing_price_pred.item() = 0.3526875674724579\n",
      "final_closing_price_pred.item() = 0.3546241223812103\n",
      "final_closing_price_pred.item() = 0.3552878797054291\n",
      "final_closing_price_pred.item() = 0.35763874650001526\n",
      "final_closing_price_pred.item() = 0.357328325510025\n",
      "final_closing_price_pred.item() = 0.35765185952186584\n",
      "final_closing_price_pred.item() = 0.3576507270336151\n",
      "final_closing_price_pred.item() = 0.3588290512561798\n",
      "final_closing_price_pred.item() = 0.3586837947368622\n",
      "final_closing_price_pred.item() = 0.35875532031059265\n",
      "final_closing_price_pred.item() = 0.3580028712749481\n",
      "final_closing_price_pred.item() = 0.35647067427635193\n",
      "final_closing_price_pred.item() = 0.3574660122394562\n",
      "final_closing_price_pred.item() = 0.35723379254341125\n",
      "final_closing_price_pred.item() = 0.35889706015586853\n",
      "final_closing_price_pred.item() = 0.3598487675189972\n",
      "final_closing_price_pred.item() = 0.3598106801509857\n",
      "final_closing_price_pred.item() = 0.3595859110355377\n",
      "final_closing_price_pred.item() = 0.3589951694011688\n",
      "final_closing_price_pred.item() = 0.3623555600643158\n",
      "final_closing_price_pred.item() = 0.36149492859840393\n",
      "final_closing_price_pred.item() = 0.3621329367160797\n",
      "final_closing_price_pred.item() = 0.36188825964927673\n",
      "final_closing_price_pred.item() = 0.3609842360019684\n",
      "final_closing_price_pred.item() = 0.35991808772087097\n",
      "final_closing_price_pred.item() = 0.35957571864128113\n",
      "final_closing_price_pred.item() = 0.3582054078578949\n",
      "final_closing_price_pred.item() = 0.3575659692287445\n",
      "final_closing_price_pred.item() = 0.35469046235084534\n",
      "final_closing_price_pred.item() = 0.3539200723171234\n",
      "final_closing_price_pred.item() = 0.35481026768684387\n",
      "final_closing_price_pred.item() = 0.3535752594470978\n",
      "final_closing_price_pred.item() = 0.35390129685401917\n",
      "final_closing_price_pred.item() = 0.3537655174732208\n",
      "final_closing_price_pred.item() = 0.35480770468711853\n",
      "final_closing_price_pred.item() = 0.3548835217952728\n",
      "final_closing_price_pred.item() = 0.35475394129753113\n",
      "final_closing_price_pred.item() = 0.35697129368782043\n",
      "final_closing_price_pred.item() = 0.3572002351284027\n",
      "final_closing_price_pred.item() = 0.3574860990047455\n",
      "final_closing_price_pred.item() = 0.359020859003067\n",
      "final_closing_price_pred.item() = 0.35954752564430237\n",
      "final_closing_price_pred.item() = 0.3589308559894562\n",
      "final_closing_price_pred.item() = 0.3585086762905121\n",
      "final_closing_price_pred.item() = 0.35808268189430237\n",
      "final_closing_price_pred.item() = 0.3574203550815582\n",
      "final_closing_price_pred.item() = 0.35679468512535095\n",
      "final_closing_price_pred.item() = 0.3558129370212555\n",
      "final_closing_price_pred.item() = 0.35592713952064514\n",
      "final_closing_price_pred.item() = 0.35677745938301086\n",
      "final_closing_price_pred.item() = 0.3579656779766083\n",
      "final_closing_price_pred.item() = 0.3583526909351349\n",
      "final_closing_price_pred.item() = 0.35916343331336975\n",
      "final_closing_price_pred.item() = 0.3597353994846344\n",
      "final_closing_price_pred.item() = 0.3598845303058624\n",
      "final_closing_price_pred.item() = 0.35838863253593445\n",
      "final_closing_price_pred.item() = 0.3585487902164459\n",
      "final_closing_price_pred.item() = 0.3580882251262665\n",
      "final_closing_price_pred.item() = 0.35732129216194153\n",
      "final_closing_price_pred.item() = 0.35742250084877014\n",
      "final_closing_price_pred.item() = 0.3588733971118927\n",
      "final_closing_price_pred.item() = 0.35978028178215027\n",
      "final_closing_price_pred.item() = 0.36036208271980286\n",
      "final_closing_price_pred.item() = 0.36073532700538635\n",
      "final_closing_price_pred.item() = 0.3587946593761444\n",
      "final_closing_price_pred.item() = 0.3575560748577118\n",
      "final_closing_price_pred.item() = 0.35793665051460266\n",
      "final_closing_price_pred.item() = 0.35561034083366394\n",
      "final_closing_price_pred.item() = 0.3556530177593231\n",
      "final_closing_price_pred.item() = 0.3551596701145172\n",
      "final_closing_price_pred.item() = 0.35473737120628357\n",
      "final_closing_price_pred.item() = 0.35307589173316956\n",
      "final_closing_price_pred.item() = 0.3531528413295746\n",
      "final_closing_price_pred.item() = 0.3533291518688202\n",
      "final_closing_price_pred.item() = 0.3524952232837677\n",
      "final_closing_price_pred.item() = 0.3495403230190277\n",
      "final_closing_price_pred.item() = 0.3494506776332855\n",
      "final_closing_price_pred.item() = 0.3459996283054352\n",
      "final_closing_price_pred.item() = 0.34239915013313293\n",
      "final_closing_price_pred.item() = 0.34030577540397644\n",
      "final_closing_price_pred.item() = 0.34053823351860046\n",
      "final_closing_price_pred.item() = 0.338887482881546\n",
      "final_closing_price_pred.item() = 0.337961882352829\n",
      "final_closing_price_pred.item() = 0.336813360452652\n",
      "final_closing_price_pred.item() = 0.33944132924079895\n",
      "final_closing_price_pred.item() = 0.34127578139305115\n",
      "final_closing_price_pred.item() = 0.34303995966911316\n",
      "final_closing_price_pred.item() = 0.3450396955013275\n",
      "final_closing_price_pred.item() = 0.3446985185146332\n",
      "final_closing_price_pred.item() = 0.34538349509239197\n",
      "final_closing_price_pred.item() = 0.3468853533267975\n",
      "final_closing_price_pred.item() = 0.3470723330974579\n",
      "final_closing_price_pred.item() = 0.34735938906669617\n",
      "final_closing_price_pred.item() = 0.34834447503089905\n",
      "final_closing_price_pred.item() = 0.3472086489200592\n",
      "final_closing_price_pred.item() = 0.34642288088798523\n",
      "final_closing_price_pred.item() = 0.3448151648044586\n",
      "final_closing_price_pred.item() = 0.3442244231700897\n",
      "final_closing_price_pred.item() = 0.3442929685115814\n",
      "final_closing_price_pred.item() = 0.34527042508125305\n",
      "final_closing_price_pred.item() = 0.34531131386756897\n",
      "final_closing_price_pred.item() = 0.3443988263607025\n",
      "final_closing_price_pred.item() = 0.34366104006767273\n",
      "final_closing_price_pred.item() = 0.34298697113990784\n",
      "final_closing_price_pred.item() = 0.34154924750328064\n",
      "final_closing_price_pred.item() = 0.3413585126399994\n",
      "final_closing_price_pred.item() = 0.3416520655155182\n",
      "final_closing_price_pred.item() = 0.3414051830768585\n",
      "final_closing_price_pred.item() = 0.3418712317943573\n",
      "final_closing_price_pred.item() = 0.34205523133277893\n",
      "final_closing_price_pred.item() = 0.34206345677375793\n",
      "final_closing_price_pred.item() = 0.34157058596611023\n",
      "final_closing_price_pred.item() = 0.3411823809146881\n",
      "final_closing_price_pred.item() = 0.3395451009273529\n",
      "final_closing_price_pred.item() = 0.33925172686576843\n",
      "final_closing_price_pred.item() = 0.3386485278606415\n",
      "final_closing_price_pred.item() = 0.3389446437358856\n",
      "final_closing_price_pred.item() = 0.33678165078163147\n",
      "final_closing_price_pred.item() = 0.33693554997444153\n",
      "final_closing_price_pred.item() = 0.33729997277259827\n",
      "final_closing_price_pred.item() = 0.33552977442741394\n",
      "final_closing_price_pred.item() = 0.335032194852829\n",
      "final_closing_price_pred.item() = 0.3328140676021576\n",
      "final_closing_price_pred.item() = 0.3316279351711273\n",
      "final_closing_price_pred.item() = 0.3295256793498993\n",
      "final_closing_price_pred.item() = 0.33212175965309143\n",
      "final_closing_price_pred.item() = 0.3339577615261078\n",
      "final_closing_price_pred.item() = 0.33549901843070984\n",
      "final_closing_price_pred.item() = 0.33716633915901184\n",
      "final_closing_price_pred.item() = 0.3379301130771637\n",
      "final_closing_price_pred.item() = 0.3374442756175995\n",
      "final_closing_price_pred.item() = 0.33771607279777527\n",
      "final_closing_price_pred.item() = 0.3364582359790802\n",
      "final_closing_price_pred.item() = 0.3356224000453949\n",
      "final_closing_price_pred.item() = 0.3340332806110382\n",
      "final_closing_price_pred.item() = 0.3326026499271393\n",
      "final_closing_price_pred.item() = 0.32993265986442566\n",
      "final_closing_price_pred.item() = 0.32783040404319763\n",
      "final_closing_price_pred.item() = 0.32777687907218933\n",
      "final_closing_price_pred.item() = 0.32798752188682556\n",
      "final_closing_price_pred.item() = 0.32722601294517517\n",
      "final_closing_price_pred.item() = 0.32744506001472473\n",
      "final_closing_price_pred.item() = 0.3289656937122345\n",
      "final_closing_price_pred.item() = 0.33056625723838806\n",
      "final_closing_price_pred.item() = 0.3316892087459564\n",
      "final_closing_price_pred.item() = 0.33359792828559875\n",
      "final_closing_price_pred.item() = 0.3346267640590668\n",
      "final_closing_price_pred.item() = 0.3374432623386383\n",
      "final_closing_price_pred.item() = 0.3401208817958832\n",
      "final_closing_price_pred.item() = 0.34026166796684265\n",
      "final_closing_price_pred.item() = 0.3385414183139801\n",
      "final_closing_price_pred.item() = 0.3357129395008087\n",
      "final_closing_price_pred.item() = 0.33509597182273865\n",
      "final_closing_price_pred.item() = 0.3364962041378021\n",
      "final_closing_price_pred.item() = 0.340464323759079\n",
      "final_closing_price_pred.item() = 0.33950361609458923\n",
      "final_closing_price_pred.item() = 0.33968791365623474\n",
      "final_closing_price_pred.item() = 0.33915218710899353\n",
      "final_closing_price_pred.item() = 0.34044960141181946\n",
      "final_closing_price_pred.item() = 0.3413791358470917\n",
      "final_closing_price_pred.item() = 0.3415580689907074\n",
      "final_closing_price_pred.item() = 0.34344688057899475\n",
      "final_closing_price_pred.item() = 0.3437786400318146\n",
      "final_closing_price_pred.item() = 0.3451348841190338\n",
      "final_closing_price_pred.item() = 0.3458586037158966\n",
      "final_closing_price_pred.item() = 0.34477266669273376\n",
      "final_closing_price_pred.item() = 0.34444698691368103\n",
      "final_closing_price_pred.item() = 0.3450130522251129\n",
      "final_closing_price_pred.item() = 0.3446262776851654\n",
      "final_closing_price_pred.item() = 0.3444010317325592\n",
      "final_closing_price_pred.item() = 0.3462526500225067\n",
      "final_closing_price_pred.item() = 0.3486157953739166\n",
      "final_closing_price_pred.item() = 0.35117748379707336\n",
      "final_closing_price_pred.item() = 0.35229602456092834\n",
      "final_closing_price_pred.item() = 0.35441604256629944\n",
      "final_closing_price_pred.item() = 0.3545018136501312\n",
      "final_closing_price_pred.item() = 0.3540443480014801\n",
      "final_closing_price_pred.item() = 0.3536238968372345\n",
      "final_closing_price_pred.item() = 0.35180822014808655\n",
      "final_closing_price_pred.item() = 0.35115721821784973\n",
      "final_closing_price_pred.item() = 0.34863266348838806\n",
      "final_closing_price_pred.item() = 0.34809502959251404\n",
      "final_closing_price_pred.item() = 0.34867069125175476\n",
      "final_closing_price_pred.item() = 0.34767553210258484\n",
      "final_closing_price_pred.item() = 0.34897199273109436\n",
      "final_closing_price_pred.item() = 0.34873154759407043\n",
      "final_closing_price_pred.item() = 0.3501250445842743\n",
      "final_closing_price_pred.item() = 0.34985753893852234\n",
      "final_closing_price_pred.item() = 0.35010311007499695\n",
      "final_closing_price_pred.item() = 0.3497595489025116\n",
      "final_closing_price_pred.item() = 0.3506956398487091\n",
      "final_closing_price_pred.item() = 0.3481443226337433\n",
      "final_closing_price_pred.item() = 0.34698495268821716\n",
      "final_closing_price_pred.item() = 0.34560534358024597\n",
      "final_closing_price_pred.item() = 0.34566769003868103\n",
      "final_closing_price_pred.item() = 0.3444384038448334\n",
      "final_closing_price_pred.item() = 0.34316763281822205\n",
      "final_closing_price_pred.item() = 0.342070609331131\n",
      "final_closing_price_pred.item() = 0.3423905670642853\n",
      "final_closing_price_pred.item() = 0.3425736129283905\n",
      "final_closing_price_pred.item() = 0.3431912362575531\n",
      "final_closing_price_pred.item() = 0.3428333103656769\n",
      "final_closing_price_pred.item() = 0.3424389660358429\n",
      "final_closing_price_pred.item() = 0.34195587038993835\n",
      "final_closing_price_pred.item() = 0.3406554162502289\n",
      "final_closing_price_pred.item() = 0.34118297696113586\n",
      "final_closing_price_pred.item() = 0.34148797392845154\n",
      "final_closing_price_pred.item() = 0.3407203257083893\n",
      "final_closing_price_pred.item() = 0.34312787652015686\n",
      "final_closing_price_pred.item() = 0.3436218202114105\n",
      "final_closing_price_pred.item() = 0.3452385365962982\n",
      "final_closing_price_pred.item() = 0.34696629643440247\n",
      "final_closing_price_pred.item() = 0.3492058217525482\n",
      "final_closing_price_pred.item() = 0.3471563160419464\n",
      "final_closing_price_pred.item() = 0.34607943892478943\n",
      "final_closing_price_pred.item() = 0.344509094953537\n",
      "final_closing_price_pred.item() = 0.34233275055885315\n",
      "final_closing_price_pred.item() = 0.34222111105918884\n",
      "final_closing_price_pred.item() = 0.3421464264392853\n",
      "final_closing_price_pred.item() = 0.3403756320476532\n",
      "final_closing_price_pred.item() = 0.33978208899497986\n",
      "final_closing_price_pred.item() = 0.34120699763298035\n",
      "final_closing_price_pred.item() = 0.3422759473323822\n",
      "final_closing_price_pred.item() = 0.3416508734226227\n",
      "final_closing_price_pred.item() = 0.34078410267829895\n",
      "final_closing_price_pred.item() = 0.3412958085536957\n",
      "final_closing_price_pred.item() = 0.3426755964756012\n",
      "final_closing_price_pred.item() = 0.342011958360672\n",
      "final_closing_price_pred.item() = 0.3420881927013397\n",
      "final_closing_price_pred.item() = 0.3430691063404083\n",
      "final_closing_price_pred.item() = 0.3433794677257538\n",
      "final_closing_price_pred.item() = 0.3436320722103119\n",
      "final_closing_price_pred.item() = 0.34294697642326355\n",
      "final_closing_price_pred.item() = 0.34187087416648865\n",
      "final_closing_price_pred.item() = 0.3429814279079437\n",
      "final_closing_price_pred.item() = 0.3426681458950043\n",
      "final_closing_price_pred.item() = 0.34152624011039734\n",
      "final_closing_price_pred.item() = 0.3420211374759674\n",
      "final_closing_price_pred.item() = 0.34273311495780945\n",
      "final_closing_price_pred.item() = 0.3425264060497284\n",
      "final_closing_price_pred.item() = 0.3415863811969757\n",
      "final_closing_price_pred.item() = 0.34081611037254333\n",
      "final_closing_price_pred.item() = 0.3399684727191925\n",
      "final_closing_price_pred.item() = 0.34040191769599915\n",
      "final_closing_price_pred.item() = 0.34195807576179504\n",
      "final_closing_price_pred.item() = 0.3414331376552582\n",
      "final_closing_price_pred.item() = 0.3409670293331146\n",
      "final_closing_price_pred.item() = 0.3403908312320709\n",
      "final_closing_price_pred.item() = 0.3409486711025238\n",
      "final_closing_price_pred.item() = 0.34161409735679626\n",
      "final_closing_price_pred.item() = 0.3429652154445648\n",
      "final_closing_price_pred.item() = 0.34299924969673157\n",
      "final_closing_price_pred.item() = 0.34318026900291443\n",
      "final_closing_price_pred.item() = 0.3432341516017914\n",
      "final_closing_price_pred.item() = 0.34243521094322205\n",
      "final_closing_price_pred.item() = 0.3416388928890228\n",
      "final_closing_price_pred.item() = 0.3407355844974518\n",
      "final_closing_price_pred.item() = 0.33931776881217957\n",
      "final_closing_price_pred.item() = 0.3396943509578705\n",
      "final_closing_price_pred.item() = 0.3405246436595917\n",
      "final_closing_price_pred.item() = 0.341421514749527\n",
      "final_closing_price_pred.item() = 0.3421514928340912\n",
      "final_closing_price_pred.item() = 0.3434087336063385\n",
      "final_closing_price_pred.item() = 0.3438219130039215\n",
      "final_closing_price_pred.item() = 0.3467923104763031\n",
      "final_closing_price_pred.item() = 0.35094520449638367\n",
      "final_closing_price_pred.item() = 0.35607847571372986\n",
      "final_closing_price_pred.item() = 0.3607881963253021\n",
      "final_closing_price_pred.item() = 0.36406955122947693\n",
      "final_closing_price_pred.item() = 0.3710798919200897\n",
      "final_closing_price_pred.item() = 0.385390967130661\n",
      "final_closing_price_pred.item() = 0.3832337558269501\n",
      "final_closing_price_pred.item() = 0.38230100274086\n",
      "final_closing_price_pred.item() = 0.3810015618801117\n",
      "final_closing_price_pred.item() = 0.3773568570613861\n",
      "final_closing_price_pred.item() = 0.3742595613002777\n",
      "final_closing_price_pred.item() = 0.37504813075065613\n",
      "final_closing_price_pred.item() = 0.3753882348537445\n",
      "final_closing_price_pred.item() = 0.3760729730129242\n",
      "final_closing_price_pred.item() = 0.3761797249317169\n",
      "final_closing_price_pred.item() = 0.37551406025886536\n",
      "final_closing_price_pred.item() = 0.37676289677619934\n",
      "final_closing_price_pred.item() = 0.37708958983421326\n",
      "final_closing_price_pred.item() = 0.37942394614219666\n",
      "final_closing_price_pred.item() = 0.37926480174064636\n",
      "final_closing_price_pred.item() = 0.37862202525138855\n",
      "final_closing_price_pred.item() = 0.37936004996299744\n",
      "final_closing_price_pred.item() = 0.3834361135959625\n",
      "final_closing_price_pred.item() = 0.3829014003276825\n",
      "final_closing_price_pred.item() = 0.38212910294532776\n",
      "final_closing_price_pred.item() = 0.3818195164203644\n",
      "final_closing_price_pred.item() = 0.3815731108188629\n",
      "final_closing_price_pred.item() = 0.3798523247241974\n",
      "final_closing_price_pred.item() = 0.3788101375102997\n",
      "final_closing_price_pred.item() = 0.37463656067848206\n",
      "final_closing_price_pred.item() = 0.368501216173172\n",
      "final_closing_price_pred.item() = 0.3656826913356781\n",
      "final_closing_price_pred.item() = 0.36654624342918396\n",
      "final_closing_price_pred.item() = 0.37409451603889465\n",
      "final_closing_price_pred.item() = 0.37467172741889954\n",
      "final_closing_price_pred.item() = 0.3725939095020294\n",
      "final_closing_price_pred.item() = 0.37007954716682434\n",
      "final_closing_price_pred.item() = 0.3673916161060333\n",
      "final_closing_price_pred.item() = 0.3699815571308136\n",
      "final_closing_price_pred.item() = 0.36896124482154846\n",
      "final_closing_price_pred.item() = 0.3689264953136444\n",
      "final_closing_price_pred.item() = 0.371558278799057\n",
      "final_closing_price_pred.item() = 0.3718605935573578\n",
      "final_closing_price_pred.item() = 0.37360772490501404\n",
      "final_closing_price_pred.item() = 0.37452182173728943\n",
      "final_closing_price_pred.item() = 0.3745898902416229\n",
      "final_closing_price_pred.item() = 0.3764571249485016\n",
      "final_closing_price_pred.item() = 0.37642374634742737\n",
      "final_closing_price_pred.item() = 0.3768117129802704\n",
      "final_closing_price_pred.item() = 0.37440189719200134\n",
      "final_closing_price_pred.item() = 0.37470343708992004\n",
      "final_closing_price_pred.item() = 0.37241658568382263\n",
      "final_closing_price_pred.item() = 0.3720727264881134\n",
      "final_closing_price_pred.item() = 0.3718930184841156\n",
      "final_closing_price_pred.item() = 0.3693975508213043\n",
      "final_closing_price_pred.item() = 0.3674454391002655\n",
      "final_closing_price_pred.item() = 0.36876389384269714\n",
      "final_closing_price_pred.item() = 0.3719622790813446\n",
      "final_closing_price_pred.item() = 0.37369421124458313\n",
      "final_closing_price_pred.item() = 0.3770591914653778\n",
      "final_closing_price_pred.item() = 0.37963446974754333\n",
      "final_closing_price_pred.item() = 0.38029661774635315\n",
      "final_closing_price_pred.item() = 0.38001009821891785\n",
      "final_closing_price_pred.item() = 0.3800114095211029\n",
      "final_closing_price_pred.item() = 0.38120272755622864\n",
      "final_closing_price_pred.item() = 0.38218703866004944\n",
      "final_closing_price_pred.item() = 0.3834458887577057\n",
      "final_closing_price_pred.item() = 0.3838590085506439\n",
      "final_closing_price_pred.item() = 0.385740727186203\n",
      "final_closing_price_pred.item() = 0.38601866364479065\n",
      "final_closing_price_pred.item() = 0.3866253197193146\n",
      "final_closing_price_pred.item() = 0.38504502177238464\n",
      "final_closing_price_pred.item() = 0.3857511579990387\n",
      "final_closing_price_pred.item() = 0.38956400752067566\n",
      "final_closing_price_pred.item() = 0.3978913128376007\n",
      "final_closing_price_pred.item() = 0.3996160328388214\n",
      "final_closing_price_pred.item() = 0.3992854654788971\n",
      "final_closing_price_pred.item() = 0.4002091586589813\n",
      "final_closing_price_pred.item() = 0.4009411036968231\n",
      "final_closing_price_pred.item() = 0.4005390703678131\n",
      "final_closing_price_pred.item() = 0.4023514688014984\n",
      "final_closing_price_pred.item() = 0.40280619263648987\n",
      "final_closing_price_pred.item() = 0.4038279354572296\n",
      "final_closing_price_pred.item() = 0.4042903482913971\n",
      "final_closing_price_pred.item() = 0.40449580550193787\n",
      "final_closing_price_pred.item() = 0.40337106585502625\n",
      "final_closing_price_pred.item() = 0.40404805541038513\n",
      "final_closing_price_pred.item() = 0.4049340784549713\n",
      "final_closing_price_pred.item() = 0.40421584248542786\n",
      "final_closing_price_pred.item() = 0.4027106463909149\n",
      "final_closing_price_pred.item() = 0.4048806130886078\n",
      "final_closing_price_pred.item() = 0.40505149960517883\n",
      "final_closing_price_pred.item() = 0.40758612751960754\n",
      "final_closing_price_pred.item() = 0.40790435671806335\n",
      "final_closing_price_pred.item() = 0.41050389409065247\n",
      "final_closing_price_pred.item() = 0.4102140963077545\n",
      "final_closing_price_pred.item() = 0.40916451811790466\n",
      "final_closing_price_pred.item() = 0.40931496024131775\n",
      "final_closing_price_pred.item() = 0.40979090332984924\n",
      "final_closing_price_pred.item() = 0.4093110263347626\n",
      "final_closing_price_pred.item() = 0.41269418597221375\n",
      "final_closing_price_pred.item() = 0.41181889176368713\n",
      "final_closing_price_pred.item() = 0.41061219573020935\n",
      "final_closing_price_pred.item() = 0.4124085605144501\n",
      "final_closing_price_pred.item() = 0.4115341007709503\n",
      "final_closing_price_pred.item() = 0.4109155833721161\n",
      "final_closing_price_pred.item() = 0.4091171324253082\n",
      "final_closing_price_pred.item() = 0.4086301028728485\n",
      "final_closing_price_pred.item() = 0.40736278891563416\n",
      "final_closing_price_pred.item() = 0.40874025225639343\n",
      "final_closing_price_pred.item() = 0.40837034583091736\n",
      "final_closing_price_pred.item() = 0.410213440656662\n",
      "final_closing_price_pred.item() = 0.4088040888309479\n",
      "final_closing_price_pred.item() = 0.4076751172542572\n",
      "final_closing_price_pred.item() = 0.40910711884498596\n",
      "final_closing_price_pred.item() = 0.4095625579357147\n",
      "final_closing_price_pred.item() = 0.4097982943058014\n",
      "final_closing_price_pred.item() = 0.40994778275489807\n",
      "final_closing_price_pred.item() = 0.4120108187198639\n",
      "final_closing_price_pred.item() = 0.4132929742336273\n",
      "final_closing_price_pred.item() = 0.41147908568382263\n",
      "final_closing_price_pred.item() = 0.408809095621109\n",
      "final_closing_price_pred.item() = 0.4058830440044403\n",
      "final_closing_price_pred.item() = 0.4054282009601593\n",
      "final_closing_price_pred.item() = 0.4046412408351898\n",
      "final_closing_price_pred.item() = 0.4015258252620697\n",
      "final_closing_price_pred.item() = 0.3996659219264984\n",
      "final_closing_price_pred.item() = 0.3997746407985687\n",
      "final_closing_price_pred.item() = 0.40051695704460144\n",
      "final_closing_price_pred.item() = 0.3968230187892914\n",
      "final_closing_price_pred.item() = 0.398547500371933\n",
      "final_closing_price_pred.item() = 0.39587274193763733\n",
      "final_closing_price_pred.item() = 0.39729490876197815\n",
      "final_closing_price_pred.item() = 0.3974159061908722\n",
      "final_closing_price_pred.item() = 0.3991714417934418\n",
      "final_closing_price_pred.item() = 0.4016946256160736\n",
      "final_closing_price_pred.item() = 0.39984020590782166\n",
      "final_closing_price_pred.item() = 0.40035220980644226\n",
      "final_closing_price_pred.item() = 0.39961275458335876\n",
      "final_closing_price_pred.item() = 0.40457800030708313\n",
      "final_closing_price_pred.item() = 0.4061039984226227\n",
      "final_closing_price_pred.item() = 0.40652212500572205\n",
      "final_closing_price_pred.item() = 0.40622010827064514\n",
      "final_closing_price_pred.item() = 0.3991127908229828\n",
      "final_closing_price_pred.item() = 0.39522209763526917\n",
      "final_closing_price_pred.item() = 0.39141640067100525\n",
      "final_closing_price_pred.item() = 0.39137032628059387\n",
      "final_closing_price_pred.item() = 0.39104607701301575\n",
      "final_closing_price_pred.item() = 0.39222171902656555\n",
      "final_closing_price_pred.item() = 0.39246830344200134\n",
      "final_closing_price_pred.item() = 0.39302965998649597\n",
      "final_closing_price_pred.item() = 0.39487895369529724\n",
      "final_closing_price_pred.item() = 0.39729490876197815\n",
      "final_closing_price_pred.item() = 0.39578673243522644\n",
      "final_closing_price_pred.item() = 0.39644208550453186\n",
      "final_closing_price_pred.item() = 0.397112637758255\n",
      "final_closing_price_pred.item() = 0.39580097794532776\n",
      "final_closing_price_pred.item() = 0.3966729938983917\n",
      "final_closing_price_pred.item() = 0.3977028429508209\n",
      "final_closing_price_pred.item() = 0.3977455794811249\n",
      "final_closing_price_pred.item() = 0.39728984236717224\n",
      "final_closing_price_pred.item() = 0.40033218264579773\n",
      "final_closing_price_pred.item() = 0.3999910056591034\n",
      "final_closing_price_pred.item() = 0.39881154894828796\n",
      "final_closing_price_pred.item() = 0.39834168553352356\n",
      "final_closing_price_pred.item() = 0.3964589536190033\n",
      "final_closing_price_pred.item() = 0.39719483256340027\n",
      "final_closing_price_pred.item() = 0.3996768295764923\n",
      "final_closing_price_pred.item() = 0.4015279710292816\n",
      "final_closing_price_pred.item() = 0.40390804409980774\n",
      "final_closing_price_pred.item() = 0.4046172797679901\n",
      "final_closing_price_pred.item() = 0.4046408236026764\n",
      "final_closing_price_pred.item() = 0.4059264361858368\n",
      "final_closing_price_pred.item() = 0.4062493145465851\n",
      "final_closing_price_pred.item() = 0.40633425116539\n",
      "final_closing_price_pred.item() = 0.40693196654319763\n",
      "final_closing_price_pred.item() = 0.40666452050209045\n",
      "final_closing_price_pred.item() = 0.40629974007606506\n",
      "final_closing_price_pred.item() = 0.40610530972480774\n",
      "final_closing_price_pred.item() = 0.40629270672798157\n",
      "final_closing_price_pred.item() = 0.40807685256004333\n",
      "final_closing_price_pred.item() = 0.40875646471977234\n",
      "final_closing_price_pred.item() = 0.40792813897132874\n",
      "final_closing_price_pred.item() = 0.4084201753139496\n",
      "final_closing_price_pred.item() = 0.40757766366004944\n",
      "final_closing_price_pred.item() = 0.40663567185401917\n",
      "final_closing_price_pred.item() = 0.4076831042766571\n",
      "final_closing_price_pred.item() = 0.4069282114505768\n",
      "final_closing_price_pred.item() = 0.40692201256752014\n",
      "final_closing_price_pred.item() = 0.40689757466316223\n",
      "final_closing_price_pred.item() = 0.40826210379600525\n",
      "final_closing_price_pred.item() = 0.40958818793296814\n",
      "final_closing_price_pred.item() = 0.4098007380962372\n",
      "final_closing_price_pred.item() = 0.41037091612815857\n",
      "final_closing_price_pred.item() = 0.41065713763237\n",
      "final_closing_price_pred.item() = 0.40814247727394104\n",
      "final_closing_price_pred.item() = 0.40709009766578674\n",
      "final_closing_price_pred.item() = 0.40636178851127625\n",
      "final_closing_price_pred.item() = 0.39983585476875305\n",
      "final_closing_price_pred.item() = 0.39972278475761414\n",
      "final_closing_price_pred.item() = 0.397053986787796\n",
      "final_closing_price_pred.item() = 0.39628782868385315\n",
      "final_closing_price_pred.item() = 0.3942382037639618\n",
      "final_closing_price_pred.item() = 0.39482083916664124\n",
      "final_closing_price_pred.item() = 0.39571598172187805\n",
      "final_closing_price_pred.item() = 0.39527902007102966\n",
      "final_closing_price_pred.item() = 0.3963302671909332\n",
      "final_closing_price_pred.item() = 0.3976956307888031\n",
      "final_closing_price_pred.item() = 0.39935871958732605\n",
      "final_closing_price_pred.item() = 0.3997824490070343\n",
      "final_closing_price_pred.item() = 0.40098854899406433\n",
      "final_closing_price_pred.item() = 0.3996467888355255\n",
      "final_closing_price_pred.item() = 0.39926621317863464\n",
      "final_closing_price_pred.item() = 0.39890578389167786\n",
      "final_closing_price_pred.item() = 0.3994656503200531\n",
      "final_closing_price_pred.item() = 0.397981733083725\n",
      "final_closing_price_pred.item() = 0.3981665074825287\n",
      "final_closing_price_pred.item() = 0.3977408707141876\n",
      "final_closing_price_pred.item() = 0.39948514103889465\n",
      "final_closing_price_pred.item() = 0.39940521121025085\n",
      "final_closing_price_pred.item() = 0.40210428833961487\n",
      "final_closing_price_pred.item() = 0.40300533175468445\n",
      "final_closing_price_pred.item() = 0.4030762016773224\n",
      "final_closing_price_pred.item() = 0.4042867124080658\n",
      "final_closing_price_pred.item() = 0.4044400155544281\n",
      "final_closing_price_pred.item() = 0.4038045108318329\n",
      "final_closing_price_pred.item() = 0.4028302729129791\n",
      "final_closing_price_pred.item() = 0.40144428610801697\n",
      "final_closing_price_pred.item() = 0.4006810486316681\n",
      "final_closing_price_pred.item() = 0.4009116590023041\n",
      "final_closing_price_pred.item() = 0.4023649990558624\n",
      "final_closing_price_pred.item() = 0.40188631415367126\n",
      "final_closing_price_pred.item() = 0.4002167880535126\n",
      "final_closing_price_pred.item() = 0.3997388780117035\n",
      "final_closing_price_pred.item() = 0.39925238490104675\n",
      "final_closing_price_pred.item() = 0.3985747992992401\n",
      "final_closing_price_pred.item() = 0.39654508233070374\n",
      "final_closing_price_pred.item() = 0.3936940133571625\n",
      "final_closing_price_pred.item() = 0.39398738741874695\n",
      "final_closing_price_pred.item() = 0.3941743075847626\n",
      "final_closing_price_pred.item() = 0.39404550194740295\n",
      "final_closing_price_pred.item() = 0.3938532769680023\n",
      "final_closing_price_pred.item() = 0.38993170857429504\n",
      "final_closing_price_pred.item() = 0.38967999815940857\n",
      "final_closing_price_pred.item() = 0.3920837342739105\n",
      "final_closing_price_pred.item() = 0.3932952582836151\n",
      "final_closing_price_pred.item() = 0.39491400122642517\n",
      "final_closing_price_pred.item() = 0.3961310088634491\n",
      "final_closing_price_pred.item() = 0.39586541056632996\n",
      "final_closing_price_pred.item() = 0.39672669768333435\n",
      "final_closing_price_pred.item() = 0.39713552594184875\n",
      "final_closing_price_pred.item() = 0.39930829405784607\n",
      "final_closing_price_pred.item() = 0.40108630061149597\n",
      "final_closing_price_pred.item() = 0.4020882546901703\n",
      "final_closing_price_pred.item() = 0.4019491970539093\n",
      "final_closing_price_pred.item() = 0.4029705226421356\n",
      "final_closing_price_pred.item() = 0.40349456667900085\n",
      "final_closing_price_pred.item() = 0.40588441491127014\n",
      "final_closing_price_pred.item() = 0.40658554434776306\n",
      "final_closing_price_pred.item() = 0.4073121249675751\n",
      "final_closing_price_pred.item() = 0.40717920660972595\n",
      "final_closing_price_pred.item() = 0.40794071555137634\n",
      "final_closing_price_pred.item() = 0.40784576535224915\n",
      "final_closing_price_pred.item() = 0.40824297070503235\n",
      "final_closing_price_pred.item() = 0.40948835015296936\n",
      "final_closing_price_pred.item() = 0.4110254943370819\n",
      "final_closing_price_pred.item() = 0.4146237075328827\n",
      "final_closing_price_pred.item() = 0.41529181599617004\n",
      "final_closing_price_pred.item() = 0.4152057468891144\n",
      "final_closing_price_pred.item() = 0.4156946837902069\n",
      "final_closing_price_pred.item() = 0.41581955552101135\n",
      "final_closing_price_pred.item() = 0.417398601770401\n",
      "final_closing_price_pred.item() = 0.41737493872642517\n",
      "final_closing_price_pred.item() = 0.41769102215766907\n",
      "final_closing_price_pred.item() = 0.4176548421382904\n",
      "final_closing_price_pred.item() = 0.41752389073371887\n",
      "final_closing_price_pred.item() = 0.41712686419487\n",
      "final_closing_price_pred.item() = 0.41681429743766785\n",
      "final_closing_price_pred.item() = 0.4160021245479584\n",
      "final_closing_price_pred.item() = 0.41622820496559143\n",
      "final_closing_price_pred.item() = 0.41571006178855896\n",
      "final_closing_price_pred.item() = 0.41526028513908386\n",
      "final_closing_price_pred.item() = 0.4147249758243561\n",
      "final_closing_price_pred.item() = 0.4146398603916168\n",
      "final_closing_price_pred.item() = 0.41428861021995544\n",
      "final_closing_price_pred.item() = 0.4142853319644928\n",
      "final_closing_price_pred.item() = 0.414343923330307\n",
      "final_closing_price_pred.item() = 0.4146508276462555\n",
      "final_closing_price_pred.item() = 0.4142288863658905\n",
      "final_closing_price_pred.item() = 0.41408708691596985\n",
      "final_closing_price_pred.item() = 0.41451582312583923\n",
      "final_closing_price_pred.item() = 0.415048211812973\n",
      "final_closing_price_pred.item() = 0.41608569025993347\n",
      "final_closing_price_pred.item() = 0.41572508215904236\n",
      "final_closing_price_pred.item() = 0.4146122634410858\n",
      "final_closing_price_pred.item() = 0.4125274121761322\n",
      "final_closing_price_pred.item() = 0.41380468010902405\n",
      "final_closing_price_pred.item() = 0.412720650434494\n",
      "final_closing_price_pred.item() = 0.41346076130867004\n",
      "final_closing_price_pred.item() = 0.4148382246494293\n",
      "final_closing_price_pred.item() = 0.4145514667034149\n",
      "final_closing_price_pred.item() = 0.4144662916660309\n",
      "final_closing_price_pred.item() = 0.4156244695186615\n",
      "final_closing_price_pred.item() = 0.4165736138820648\n",
      "final_closing_price_pred.item() = 0.4179922640323639\n",
      "final_closing_price_pred.item() = 0.41764774918556213\n",
      "final_closing_price_pred.item() = 0.41596469283103943\n",
      "final_closing_price_pred.item() = 0.41710683703422546\n",
      "final_closing_price_pred.item() = 0.41671517491340637\n",
      "final_closing_price_pred.item() = 0.41580232977867126\n",
      "final_closing_price_pred.item() = 0.4161054790019989\n",
      "final_closing_price_pred.item() = 0.41559091210365295\n",
      "final_closing_price_pred.item() = 0.41624560952186584\n",
      "final_closing_price_pred.item() = 0.4163667857646942\n",
      "final_closing_price_pred.item() = 0.41658297181129456\n",
      "final_closing_price_pred.item() = 0.41665372252464294\n",
      "final_closing_price_pred.item() = 0.4182108938694\n",
      "final_closing_price_pred.item() = 0.4178508222103119\n",
      "final_closing_price_pred.item() = 0.4182290732860565\n",
      "final_closing_price_pred.item() = 0.41733846068382263\n",
      "final_closing_price_pred.item() = 0.41781172156333923\n",
      "final_closing_price_pred.item() = 0.4186115562915802\n",
      "final_closing_price_pred.item() = 0.4209994971752167\n",
      "final_closing_price_pred.item() = 0.42183348536491394\n"
     ]
    }
   ],
   "source": [
    "final_closing_price_valid_gts, final_closing_price_valid_preds = pytorch_pipeline.deploy_model(stock_valid_loader, lstm_model)"
   ]
  },
  {
   "cell_type": "code",
   "execution_count": 94,
   "id": "748267bd-d0ef-4ef4-a6e4-9b01d15cdd8a",
   "metadata": {},
   "outputs": [],
   "source": [
    "unscale = 1/scaler.scale_"
   ]
  },
  {
   "cell_type": "code",
   "execution_count": 95,
   "id": "a023273e-4124-4ff2-a6ee-3a298c2f1346",
   "metadata": {},
   "outputs": [
    {
     "data": {
      "text/plain": [
       "array([1439.52166748])"
      ]
     },
     "execution_count": 95,
     "metadata": {},
     "output_type": "execute_result"
    }
   ],
   "source": [
    "np.array([unscale[0]])"
   ]
  },
  {
   "cell_type": "code",
   "execution_count": 96,
   "id": "dfd21e07-7854-4b7a-8deb-abc29280f6cc",
   "metadata": {},
   "outputs": [],
   "source": [
    "final_closing_price_unscaled_valid_preds = final_closing_price_valid_preds*np.array([unscale[0]])"
   ]
  },
  {
   "cell_type": "code",
   "execution_count": 97,
   "id": "89aae90a-8575-4326-b4f0-c2e20ac74b9b",
   "metadata": {},
   "outputs": [],
   "source": [
    "final_closing_price_unscaled_valid_gts = final_closing_price_valid_gts*np.array([unscale[0]])"
   ]
  },
  {
   "cell_type": "code",
   "execution_count": 98,
   "id": "91e6d9aa-64cf-4bba-915a-cea8f4c1e08d",
   "metadata": {},
   "outputs": [
    {
     "data": {
      "image/png": "[encoded data removed]",
      "text/plain": [
       "<Figure size 640x480 with 1 Axes>"
      ]
     },
     "metadata": {},
     "output_type": "display_data"
    }
   ],
   "source": [
    "pytorch_utility.plot_gt_pred_curves(final_closing_price_unscaled_valid_gts, final_closing_price_unscaled_valid_preds,\n",
    "                    \"LSTM GT & Pred Unscaled Valid Stock Closing Price\", \"lstm_gt_pred_unscaled_valid_stock_close_price_curves.jpg\")"
   ]
  },
  {
   "cell_type": "markdown",
   "id": "8f4d2c8d-ce8a-44f6-9ea5-2729ea91ce19",
   "metadata": {},
   "source": [
    "For the validation set, we deploy our trained LSTM model, we see the predicted closing prices\n",
    "are close to the ground truth. This is just with one layer LSTM and no dropout and relu activation\n",
    "layers."
   ]
  },
  {
   "cell_type": "markdown",
   "id": "088f64eb-d67a-4e82-8919-47fc201e71c5",
   "metadata": {},
   "source": [
    "## Deploy LSTM on Testing Set for Stock Close Price Prediction"
   ]
  },
  {
   "cell_type": "code",
   "execution_count": 99,
   "id": "9a4188a0-c027-43f3-b74d-1b6003cd1990",
   "metadata": {
    "scrolled": true
   },
   "outputs": [
    {
     "data": {
      "application/vnd.jupyter.widget-view+json": {
       "model_id": "17ed414b91b1485298d15ad8c67210ca",
       "version_major": 2,
       "version_minor": 0
      },
      "text/plain": [
       "  0%|          | 0/767 [00:00<?, ?it/s]"
      ]
     },
     "metadata": {},
     "output_type": "display_data"
    },
    {
     "name": "stdout",
     "output_type": "stream",
     "text": [
      "NasdaqDataset __getitem__ idx = 0\n",
      "closing_price_features_tensor.shape = torch.Size([100, 1])\n",
      "closing_price_labels_tensor.shape = torch.Size([1])\n",
      "final_closing_price_pred.item() = 0.4213005006313324\n",
      "final_closing_price_pred.item() = 0.42175009846687317\n",
      "final_closing_price_pred.item() = 0.423239141702652\n",
      "final_closing_price_pred.item() = 0.4219275414943695\n",
      "final_closing_price_pred.item() = 0.42030343413352966\n",
      "final_closing_price_pred.item() = 0.41938135027885437\n",
      "final_closing_price_pred.item() = 0.41880282759666443\n",
      "final_closing_price_pred.item() = 0.41684845089912415\n",
      "final_closing_price_pred.item() = 0.41619303822517395\n",
      "final_closing_price_pred.item() = 0.4139503538608551\n",
      "final_closing_price_pred.item() = 0.4132966101169586\n",
      "final_closing_price_pred.item() = 0.41381803154945374\n",
      "final_closing_price_pred.item() = 0.41663649678230286\n",
      "final_closing_price_pred.item() = 0.4170454442501068\n",
      "final_closing_price_pred.item() = 0.41532155871391296\n",
      "final_closing_price_pred.item() = 0.41161975264549255\n",
      "final_closing_price_pred.item() = 0.4103163778781891\n",
      "final_closing_price_pred.item() = 0.4085666239261627\n",
      "final_closing_price_pred.item() = 0.41219362616539\n",
      "final_closing_price_pred.item() = 0.41316625475883484\n",
      "final_closing_price_pred.item() = 0.41393670439720154\n",
      "final_closing_price_pred.item() = 0.41254672408103943\n",
      "final_closing_price_pred.item() = 0.41369184851646423\n",
      "final_closing_price_pred.item() = 0.4133692681789398\n",
      "final_closing_price_pred.item() = 0.4123874008655548\n",
      "final_closing_price_pred.item() = 0.4126196801662445\n",
      "final_closing_price_pred.item() = 0.41343382000923157\n",
      "final_closing_price_pred.item() = 0.4133988916873932\n",
      "final_closing_price_pred.item() = 0.4114864766597748\n",
      "final_closing_price_pred.item() = 0.4105003774166107\n",
      "final_closing_price_pred.item() = 0.4115491211414337\n",
      "final_closing_price_pred.item() = 0.4137096703052521\n",
      "final_closing_price_pred.item() = 0.41393598914146423\n",
      "final_closing_price_pred.item() = 0.4162304699420929\n",
      "final_closing_price_pred.item() = 0.41750654578208923\n",
      "final_closing_price_pred.item() = 0.4195273816585541\n",
      "final_closing_price_pred.item() = 0.4197269380092621\n",
      "final_closing_price_pred.item() = 0.42070266604423523\n",
      "final_closing_price_pred.item() = 0.4207557141780853\n",
      "final_closing_price_pred.item() = 0.4206949770450592\n",
      "final_closing_price_pred.item() = 0.41974976658821106\n",
      "final_closing_price_pred.item() = 0.42021670937538147\n",
      "final_closing_price_pred.item() = 0.4203813374042511\n",
      "final_closing_price_pred.item() = 0.4199504554271698\n",
      "final_closing_price_pred.item() = 0.41938576102256775\n",
      "final_closing_price_pred.item() = 0.41912129521369934\n",
      "final_closing_price_pred.item() = 0.41916152834892273\n",
      "final_closing_price_pred.item() = 0.41820022463798523\n",
      "final_closing_price_pred.item() = 0.41796162724494934\n",
      "final_closing_price_pred.item() = 0.4170388877391815\n",
      "final_closing_price_pred.item() = 0.4194863736629486\n",
      "final_closing_price_pred.item() = 0.4200863540172577\n",
      "final_closing_price_pred.item() = 0.4215279519557953\n",
      "final_closing_price_pred.item() = 0.4233132302761078\n",
      "final_closing_price_pred.item() = 0.4233892261981964\n",
      "final_closing_price_pred.item() = 0.423211008310318\n",
      "final_closing_price_pred.item() = 0.42365142703056335\n",
      "final_closing_price_pred.item() = 0.42347440123558044\n",
      "final_closing_price_pred.item() = 0.42368778586387634\n",
      "final_closing_price_pred.item() = 0.42335042357444763\n",
      "final_closing_price_pred.item() = 0.4236988127231598\n",
      "final_closing_price_pred.item() = 0.42354270815849304\n",
      "final_closing_price_pred.item() = 0.42446473240852356\n",
      "final_closing_price_pred.item() = 0.42665591835975647\n",
      "final_closing_price_pred.item() = 0.4273105561733246\n",
      "final_closing_price_pred.item() = 0.4284522235393524\n",
      "final_closing_price_pred.item() = 0.42723748087882996\n",
      "final_closing_price_pred.item() = 0.4252608120441437\n",
      "final_closing_price_pred.item() = 0.42212626338005066\n",
      "final_closing_price_pred.item() = 0.421448677778244\n",
      "final_closing_price_pred.item() = 0.42153415083885193\n",
      "final_closing_price_pred.item() = 0.42217668890953064\n",
      "final_closing_price_pred.item() = 0.42280903458595276\n",
      "final_closing_price_pred.item() = 0.4230972230434418\n",
      "final_closing_price_pred.item() = 0.4241107404232025\n",
      "final_closing_price_pred.item() = 0.42454418540000916\n",
      "final_closing_price_pred.item() = 0.4250091016292572\n",
      "final_closing_price_pred.item() = 0.4258563220500946\n",
      "final_closing_price_pred.item() = 0.4267798364162445\n",
      "final_closing_price_pred.item() = 0.4270813763141632\n",
      "final_closing_price_pred.item() = 0.4271370470523834\n",
      "final_closing_price_pred.item() = 0.42805370688438416\n",
      "final_closing_price_pred.item() = 0.4286988079547882\n",
      "final_closing_price_pred.item() = 0.4291768968105316\n",
      "final_closing_price_pred.item() = 0.42903032898902893\n",
      "final_closing_price_pred.item() = 0.42905393242836\n",
      "final_closing_price_pred.item() = 0.42869552969932556\n",
      "final_closing_price_pred.item() = 0.42880067229270935\n",
      "final_closing_price_pred.item() = 0.42822930216789246\n",
      "final_closing_price_pred.item() = 0.4298469126224518\n",
      "final_closing_price_pred.item() = 0.42923209071159363\n",
      "final_closing_price_pred.item() = 0.4291454255580902\n",
      "final_closing_price_pred.item() = 0.42922672629356384\n",
      "final_closing_price_pred.item() = 0.43004074692726135\n",
      "final_closing_price_pred.item() = 0.43072691559791565\n",
      "final_closing_price_pred.item() = 0.4313527047634125\n",
      "final_closing_price_pred.item() = 0.43204209208488464\n",
      "final_closing_price_pred.item() = 0.43233606219291687\n",
      "final_closing_price_pred.item() = 0.4323098361492157\n",
      "final_closing_price_pred.item() = 0.4324208199977875\n",
      "final_closing_price_pred.item() = 0.4324086010456085\n",
      "final_closing_price_pred.item() = 0.4323589503765106\n",
      "final_closing_price_pred.item() = 0.43117865920066833\n",
      "final_closing_price_pred.item() = 0.42841359972953796\n",
      "final_closing_price_pred.item() = 0.42800137400627136\n",
      "final_closing_price_pred.item() = 0.4263858497142792\n",
      "final_closing_price_pred.item() = 0.4262497127056122\n",
      "final_closing_price_pred.item() = 0.4272352159023285\n",
      "final_closing_price_pred.item() = 0.4277655780315399\n",
      "final_closing_price_pred.item() = 0.42928603291511536\n",
      "final_closing_price_pred.item() = 0.4293281137943268\n",
      "final_closing_price_pred.item() = 0.42918601632118225\n",
      "final_closing_price_pred.item() = 0.43026086688041687\n",
      "final_closing_price_pred.item() = 0.42954233288764954\n",
      "final_closing_price_pred.item() = 0.42899009585380554\n",
      "final_closing_price_pred.item() = 0.4284784495830536\n",
      "final_closing_price_pred.item() = 0.4281388819217682\n",
      "final_closing_price_pred.item() = 0.428309828042984\n",
      "final_closing_price_pred.item() = 0.4284025728702545\n",
      "final_closing_price_pred.item() = 0.42892757058143616\n",
      "final_closing_price_pred.item() = 0.42942461371421814\n",
      "final_closing_price_pred.item() = 0.4316464364528656\n",
      "final_closing_price_pred.item() = 0.4320181906223297\n",
      "final_closing_price_pred.item() = 0.4327680766582489\n",
      "final_closing_price_pred.item() = 0.4339321553707123\n",
      "final_closing_price_pred.item() = 0.435099333524704\n",
      "final_closing_price_pred.item() = 0.43842747807502747\n",
      "final_closing_price_pred.item() = 0.44023528695106506\n",
      "final_closing_price_pred.item() = 0.4409215748310089\n",
      "final_closing_price_pred.item() = 0.44233307242393494\n",
      "final_closing_price_pred.item() = 0.4470391571521759\n",
      "final_closing_price_pred.item() = 0.44824740290641785\n",
      "final_closing_price_pred.item() = 0.4491025507450104\n",
      "final_closing_price_pred.item() = 0.45063766837120056\n",
      "final_closing_price_pred.item() = 0.4512498676776886\n",
      "final_closing_price_pred.item() = 0.45078954100608826\n",
      "final_closing_price_pred.item() = 0.4517098367214203\n",
      "final_closing_price_pred.item() = 0.4514295756816864\n",
      "final_closing_price_pred.item() = 0.45110443234443665\n",
      "final_closing_price_pred.item() = 0.45148029923439026\n",
      "final_closing_price_pred.item() = 0.4518348276615143\n",
      "final_closing_price_pred.item() = 0.4524889290332794\n",
      "final_closing_price_pred.item() = 0.4530589282512665\n",
      "final_closing_price_pred.item() = 0.4504263699054718\n",
      "final_closing_price_pred.item() = 0.4522327482700348\n",
      "final_closing_price_pred.item() = 0.45317885279655457\n",
      "final_closing_price_pred.item() = 0.4546201527118683\n",
      "final_closing_price_pred.item() = 0.4559130370616913\n",
      "final_closing_price_pred.item() = 0.4570789039134979\n",
      "final_closing_price_pred.item() = 0.45904383063316345\n",
      "final_closing_price_pred.item() = 0.4592909514904022\n",
      "final_closing_price_pred.item() = 0.45971497893333435\n",
      "final_closing_price_pred.item() = 0.4584176242351532\n",
      "final_closing_price_pred.item() = 0.45887085795402527\n",
      "final_closing_price_pred.item() = 0.4599929749965668\n",
      "final_closing_price_pred.item() = 0.4607716500759125\n",
      "final_closing_price_pred.item() = 0.4596560299396515\n",
      "final_closing_price_pred.item() = 0.4597735106945038\n",
      "final_closing_price_pred.item() = 0.45929887890815735\n",
      "final_closing_price_pred.item() = 0.454796701669693\n",
      "final_closing_price_pred.item() = 0.45403197407722473\n",
      "final_closing_price_pred.item() = 0.4552921950817108\n",
      "final_closing_price_pred.item() = 0.45482221245765686\n",
      "final_closing_price_pred.item() = 0.4538344442844391\n",
      "final_closing_price_pred.item() = 0.45380690693855286\n",
      "final_closing_price_pred.item() = 0.4560130536556244\n",
      "final_closing_price_pred.item() = 0.4551638662815094\n",
      "final_closing_price_pred.item() = 0.45611295104026794\n",
      "final_closing_price_pred.item() = 0.45553943514823914\n",
      "final_closing_price_pred.item() = 0.45594754815101624\n",
      "final_closing_price_pred.item() = 0.45354005694389343\n",
      "final_closing_price_pred.item() = 0.4501083791255951\n",
      "final_closing_price_pred.item() = 0.4512411057949066\n",
      "final_closing_price_pred.item() = 0.4480153024196625\n",
      "final_closing_price_pred.item() = 0.4468771517276764\n",
      "final_closing_price_pred.item() = 0.44602271914482117\n",
      "final_closing_price_pred.item() = 0.44806668162345886\n",
      "final_closing_price_pred.item() = 0.44799306988716125\n",
      "final_closing_price_pred.item() = 0.4500732123851776\n",
      "final_closing_price_pred.item() = 0.45179203152656555\n",
      "final_closing_price_pred.item() = 0.45244666934013367\n",
      "final_closing_price_pred.item() = 0.45452865958213806\n",
      "final_closing_price_pred.item() = 0.4552334249019623\n",
      "final_closing_price_pred.item() = 0.4565112292766571\n",
      "final_closing_price_pred.item() = 0.45643869042396545\n",
      "final_closing_price_pred.item() = 0.458028644323349\n",
      "final_closing_price_pred.item() = 0.4585907757282257\n",
      "final_closing_price_pred.item() = 0.45809420943260193\n",
      "final_closing_price_pred.item() = 0.45833560824394226\n",
      "final_closing_price_pred.item() = 0.4584563076496124\n",
      "final_closing_price_pred.item() = 0.45423367619514465\n",
      "final_closing_price_pred.item() = 0.4535098373889923\n",
      "final_closing_price_pred.item() = 0.4516509473323822\n",
      "final_closing_price_pred.item() = 0.4523448646068573\n",
      "final_closing_price_pred.item() = 0.45080307126045227\n",
      "final_closing_price_pred.item() = 0.45074209570884705\n",
      "final_closing_price_pred.item() = 0.45054230093955994\n",
      "final_closing_price_pred.item() = 0.44967517256736755\n",
      "final_closing_price_pred.item() = 0.4501616656780243\n",
      "final_closing_price_pred.item() = 0.45014700293540955\n",
      "final_closing_price_pred.item() = 0.4495683014392853\n",
      "final_closing_price_pred.item() = 0.4488324820995331\n",
      "final_closing_price_pred.item() = 0.44699057936668396\n",
      "final_closing_price_pred.item() = 0.44812753796577454\n",
      "final_closing_price_pred.item() = 0.4491911828517914\n",
      "final_closing_price_pred.item() = 0.44904306530952454\n",
      "final_closing_price_pred.item() = 0.4493604004383087\n",
      "final_closing_price_pred.item() = 0.4472953975200653\n",
      "final_closing_price_pred.item() = 0.4474327266216278\n",
      "final_closing_price_pred.item() = 0.4473201334476471\n",
      "final_closing_price_pred.item() = 0.4497317969799042\n",
      "final_closing_price_pred.item() = 0.4498981535434723\n",
      "final_closing_price_pred.item() = 0.44910767674446106\n",
      "final_closing_price_pred.item() = 0.4485567510128021\n",
      "final_closing_price_pred.item() = 0.44863614439964294\n",
      "final_closing_price_pred.item() = 0.4499303996562958\n",
      "final_closing_price_pred.item() = 0.4511725604534149\n",
      "final_closing_price_pred.item() = 0.452311247587204\n",
      "final_closing_price_pred.item() = 0.4518515169620514\n",
      "final_closing_price_pred.item() = 0.4506945312023163\n",
      "final_closing_price_pred.item() = 0.4506863057613373\n",
      "final_closing_price_pred.item() = 0.45159992575645447\n",
      "final_closing_price_pred.item() = 0.45040300488471985\n",
      "final_closing_price_pred.item() = 0.45077189803123474\n",
      "final_closing_price_pred.item() = 0.4510846436023712\n",
      "final_closing_price_pred.item() = 0.4512270390987396\n",
      "final_closing_price_pred.item() = 0.44983336329460144\n",
      "final_closing_price_pred.item() = 0.4492829740047455\n",
      "final_closing_price_pred.item() = 0.4489212930202484\n",
      "final_closing_price_pred.item() = 0.45011982321739197\n",
      "final_closing_price_pred.item() = 0.45148172974586487\n",
      "final_closing_price_pred.item() = 0.4516163766384125\n",
      "final_closing_price_pred.item() = 0.45124754309654236\n",
      "final_closing_price_pred.item() = 0.450754314661026\n",
      "final_closing_price_pred.item() = 0.45193013548851013\n",
      "final_closing_price_pred.item() = 0.4548392593860626\n",
      "final_closing_price_pred.item() = 0.4557543694972992\n",
      "final_closing_price_pred.item() = 0.4570642411708832\n",
      "final_closing_price_pred.item() = 0.45653823018074036\n",
      "final_closing_price_pred.item() = 0.4573635160923004\n",
      "final_closing_price_pred.item() = 0.4571182429790497\n",
      "final_closing_price_pred.item() = 0.45975247025489807\n",
      "final_closing_price_pred.item() = 0.46096453070640564\n",
      "final_closing_price_pred.item() = 0.46085724234580994\n",
      "final_closing_price_pred.item() = 0.4606418311595917\n",
      "final_closing_price_pred.item() = 0.46281567215919495\n",
      "final_closing_price_pred.item() = 0.4626835286617279\n",
      "final_closing_price_pred.item() = 0.46294328570365906\n",
      "final_closing_price_pred.item() = 0.46319594979286194\n",
      "final_closing_price_pred.item() = 0.463125079870224\n",
      "final_closing_price_pred.item() = 0.46303173899650574\n",
      "final_closing_price_pred.item() = 0.4619174897670746\n",
      "final_closing_price_pred.item() = 0.46222344040870667\n",
      "final_closing_price_pred.item() = 0.46000078320503235\n",
      "final_closing_price_pred.item() = 0.46073827147483826\n",
      "final_closing_price_pred.item() = 0.461746484041214\n",
      "final_closing_price_pred.item() = 0.4626442492008209\n",
      "final_closing_price_pred.item() = 0.46869996190071106\n",
      "final_closing_price_pred.item() = 0.468557208776474\n",
      "final_closing_price_pred.item() = 0.4687153995037079\n",
      "final_closing_price_pred.item() = 0.4699161946773529\n",
      "final_closing_price_pred.item() = 0.4700281322002411\n",
      "final_closing_price_pred.item() = 0.4708632528781891\n",
      "final_closing_price_pred.item() = 0.470165878534317\n",
      "final_closing_price_pred.item() = 0.4710939824581146\n",
      "final_closing_price_pred.item() = 0.47169944643974304\n",
      "final_closing_price_pred.item() = 0.47052112221717834\n",
      "final_closing_price_pred.item() = 0.47007396817207336\n",
      "final_closing_price_pred.item() = 0.46977946162223816\n",
      "final_closing_price_pred.item() = 0.46981164813041687\n",
      "final_closing_price_pred.item() = 0.4693022072315216\n",
      "final_closing_price_pred.item() = 0.47064194083213806\n",
      "final_closing_price_pred.item() = 0.4691447913646698\n",
      "final_closing_price_pred.item() = 0.46940359473228455\n",
      "final_closing_price_pred.item() = 0.471514493227005\n",
      "final_closing_price_pred.item() = 0.4717702567577362\n",
      "final_closing_price_pred.item() = 0.47232165932655334\n",
      "final_closing_price_pred.item() = 0.4735577404499054\n",
      "final_closing_price_pred.item() = 0.47214898467063904\n",
      "final_closing_price_pred.item() = 0.4687747657299042\n",
      "final_closing_price_pred.item() = 0.46857520937919617\n",
      "final_closing_price_pred.item() = 0.4672163426876068\n",
      "final_closing_price_pred.item() = 0.46621981263160706\n",
      "final_closing_price_pred.item() = 0.46758249402046204\n",
      "final_closing_price_pred.item() = 0.46967658400535583\n",
      "final_closing_price_pred.item() = 0.4715087115764618\n",
      "final_closing_price_pred.item() = 0.4724588096141815\n",
      "final_closing_price_pred.item() = 0.47311559319496155\n",
      "final_closing_price_pred.item() = 0.4732833802700043\n",
      "final_closing_price_pred.item() = 0.47368428111076355\n",
      "final_closing_price_pred.item() = 0.47510990500450134\n",
      "final_closing_price_pred.item() = 0.4770980179309845\n",
      "final_closing_price_pred.item() = 0.4785102307796478\n",
      "final_closing_price_pred.item() = 0.4775731861591339\n",
      "final_closing_price_pred.item() = 0.4768002927303314\n",
      "final_closing_price_pred.item() = 0.4765672981739044\n",
      "final_closing_price_pred.item() = 0.47610095143318176\n",
      "final_closing_price_pred.item() = 0.47571298480033875\n",
      "final_closing_price_pred.item() = 0.47503378987312317\n",
      "final_closing_price_pred.item() = 0.4752897322177887\n",
      "final_closing_price_pred.item() = 0.4757460057735443\n",
      "final_closing_price_pred.item() = 0.47856763005256653\n",
      "final_closing_price_pred.item() = 0.48103687167167664\n",
      "final_closing_price_pred.item() = 0.48188188672065735\n",
      "final_closing_price_pred.item() = 0.48395535349845886\n",
      "final_closing_price_pred.item() = 0.4846068322658539\n",
      "final_closing_price_pred.item() = 0.484656423330307\n",
      "final_closing_price_pred.item() = 0.48451438546180725\n",
      "final_closing_price_pred.item() = 0.48524829745292664\n",
      "final_closing_price_pred.item() = 0.4874485433101654\n",
      "final_closing_price_pred.item() = 0.4876576364040375\n",
      "final_closing_price_pred.item() = 0.48906686902046204\n",
      "final_closing_price_pred.item() = 0.4891500771045685\n",
      "final_closing_price_pred.item() = 0.4904375970363617\n",
      "final_closing_price_pred.item() = 0.4927491843700409\n",
      "final_closing_price_pred.item() = 0.49432530999183655\n",
      "final_closing_price_pred.item() = 0.4936334788799286\n",
      "final_closing_price_pred.item() = 0.4942156970500946\n",
      "final_closing_price_pred.item() = 0.49452266097068787\n",
      "final_closing_price_pred.item() = 0.49399539828300476\n",
      "final_closing_price_pred.item() = 0.49208304286003113\n",
      "final_closing_price_pred.item() = 0.49185213446617126\n",
      "final_closing_price_pred.item() = 0.4900732934474945\n",
      "final_closing_price_pred.item() = 0.48235395550727844\n",
      "final_closing_price_pred.item() = 0.4754042327404022\n",
      "final_closing_price_pred.item() = 0.47777268290519714\n",
      "final_closing_price_pred.item() = 0.47356483340263367\n",
      "final_closing_price_pred.item() = 0.468659371137619\n",
      "final_closing_price_pred.item() = 0.47378745675086975\n",
      "final_closing_price_pred.item() = 0.47598496079444885\n",
      "final_closing_price_pred.item() = 0.4766521751880646\n",
      "final_closing_price_pred.item() = 0.479341596364975\n",
      "final_closing_price_pred.item() = 0.48203203082084656\n",
      "final_closing_price_pred.item() = 0.4829283654689789\n",
      "final_closing_price_pred.item() = 0.48404833674430847\n",
      "final_closing_price_pred.item() = 0.485212117433548\n",
      "final_closing_price_pred.item() = 0.48489275574684143\n",
      "final_closing_price_pred.item() = 0.48719289898872375\n",
      "final_closing_price_pred.item() = 0.48858168721199036\n",
      "final_closing_price_pred.item() = 0.48507341742515564\n",
      "final_closing_price_pred.item() = 0.4831176698207855\n",
      "final_closing_price_pred.item() = 0.4792456328868866\n",
      "final_closing_price_pred.item() = 0.48086461424827576\n",
      "final_closing_price_pred.item() = 0.4827425181865692\n",
      "final_closing_price_pred.item() = 0.4837805926799774\n",
      "final_closing_price_pred.item() = 0.48604175448417664\n",
      "final_closing_price_pred.item() = 0.48836585879325867\n",
      "final_closing_price_pred.item() = 0.49215373396873474\n",
      "final_closing_price_pred.item() = 0.49216750264167786\n",
      "final_closing_price_pred.item() = 0.48884686827659607\n",
      "final_closing_price_pred.item() = 0.4896831214427948\n",
      "final_closing_price_pred.item() = 0.4888592064380646\n",
      "final_closing_price_pred.item() = 0.4862469732761383\n",
      "final_closing_price_pred.item() = 0.48132267594337463\n",
      "final_closing_price_pred.item() = 0.4802658259868622\n",
      "final_closing_price_pred.item() = 0.47835293412208557\n",
      "final_closing_price_pred.item() = 0.4726673662662506\n",
      "final_closing_price_pred.item() = 0.4692635238170624\n",
      "final_closing_price_pred.item() = 0.47247037291526794\n",
      "final_closing_price_pred.item() = 0.4665568172931671\n",
      "final_closing_price_pred.item() = 0.4668242633342743\n",
      "final_closing_price_pred.item() = 0.4699867069721222\n",
      "final_closing_price_pred.item() = 0.46703794598579407\n",
      "final_closing_price_pred.item() = 0.46815022826194763\n",
      "final_closing_price_pred.item() = 0.4696047604084015\n",
      "final_closing_price_pred.item() = 0.46979662775993347\n",
      "final_closing_price_pred.item() = 0.46754977107048035\n",
      "final_closing_price_pred.item() = 0.468972772359848\n",
      "final_closing_price_pred.item() = 0.471079558134079\n",
      "final_closing_price_pred.item() = 0.4700094759464264\n",
      "final_closing_price_pred.item() = 0.4718707501888275\n",
      "final_closing_price_pred.item() = 0.4720059335231781\n",
      "final_closing_price_pred.item() = 0.4736888110637665\n",
      "final_closing_price_pred.item() = 0.47810712456703186\n",
      "final_closing_price_pred.item() = 0.47773119807243347\n",
      "final_closing_price_pred.item() = 0.4790532886981964\n",
      "final_closing_price_pred.item() = 0.4766239821910858\n",
      "final_closing_price_pred.item() = 0.4751693904399872\n",
      "final_closing_price_pred.item() = 0.4693776071071625\n",
      "final_closing_price_pred.item() = 0.4698050916194916\n",
      "final_closing_price_pred.item() = 0.4720350205898285\n",
      "final_closing_price_pred.item() = 0.4708165228366852\n",
      "final_closing_price_pred.item() = 0.46962282061576843\n",
      "final_closing_price_pred.item() = 0.47219905257225037\n",
      "final_closing_price_pred.item() = 0.4710145890712738\n",
      "final_closing_price_pred.item() = 0.4716343581676483\n",
      "final_closing_price_pred.item() = 0.47507891058921814\n",
      "final_closing_price_pred.item() = 0.4762946665287018\n",
      "final_closing_price_pred.item() = 0.47681936621665955\n",
      "final_closing_price_pred.item() = 0.4805806577205658\n",
      "final_closing_price_pred.item() = 0.4822944104671478\n",
      "final_closing_price_pred.item() = 0.4821741282939911\n",
      "final_closing_price_pred.item() = 0.4820488393306732\n",
      "final_closing_price_pred.item() = 0.47945091128349304\n",
      "final_closing_price_pred.item() = 0.4796643555164337\n",
      "final_closing_price_pred.item() = 0.4792079031467438\n",
      "final_closing_price_pred.item() = 0.4779071509838104\n",
      "final_closing_price_pred.item() = 0.47951993346214294\n",
      "final_closing_price_pred.item() = 0.4785101115703583\n",
      "final_closing_price_pred.item() = 0.4797768294811249\n",
      "final_closing_price_pred.item() = 0.4797551929950714\n",
      "final_closing_price_pred.item() = 0.4794562757015228\n",
      "final_closing_price_pred.item() = 0.47819289565086365\n",
      "final_closing_price_pred.item() = 0.4799112379550934\n",
      "final_closing_price_pred.item() = 0.4827844798564911\n",
      "final_closing_price_pred.item() = 0.4872608482837677\n",
      "final_closing_price_pred.item() = 0.4895841181278229\n",
      "final_closing_price_pred.item() = 0.48951074481010437\n",
      "final_closing_price_pred.item() = 0.4890601336956024\n",
      "final_closing_price_pred.item() = 0.4876328408718109\n",
      "final_closing_price_pred.item() = 0.48756512999534607\n",
      "final_closing_price_pred.item() = 0.48888686299324036\n",
      "final_closing_price_pred.item() = 0.4901467263698578\n",
      "final_closing_price_pred.item() = 0.48992541432380676\n",
      "final_closing_price_pred.item() = 0.49211034178733826\n",
      "final_closing_price_pred.item() = 0.49228987097740173\n",
      "final_closing_price_pred.item() = 0.49457982182502747\n",
      "final_closing_price_pred.item() = 0.4937025010585785\n",
      "final_closing_price_pred.item() = 0.4935050904750824\n",
      "final_closing_price_pred.item() = 0.49167129397392273\n",
      "final_closing_price_pred.item() = 0.4908643662929535\n",
      "final_closing_price_pred.item() = 0.48704633116722107\n",
      "final_closing_price_pred.item() = 0.4862411916255951\n",
      "final_closing_price_pred.item() = 0.48477306962013245\n",
      "final_closing_price_pred.item() = 0.4862007200717926\n",
      "final_closing_price_pred.item() = 0.48658105731010437\n",
      "final_closing_price_pred.item() = 0.48805174231529236\n",
      "final_closing_price_pred.item() = 0.48574188351631165\n",
      "final_closing_price_pred.item() = 0.4888085424900055\n",
      "final_closing_price_pred.item() = 0.49106183648109436\n",
      "final_closing_price_pred.item() = 0.4929240047931671\n",
      "final_closing_price_pred.item() = 0.4931480586528778\n",
      "final_closing_price_pred.item() = 0.4937949478626251\n",
      "final_closing_price_pred.item() = 0.4974112808704376\n",
      "final_closing_price_pred.item() = 0.49813351035118103\n",
      "final_closing_price_pred.item() = 0.4977884590625763\n",
      "final_closing_price_pred.item() = 0.4995633661746979\n",
      "final_closing_price_pred.item() = 0.49933525919914246\n",
      "final_closing_price_pred.item() = 0.49868032336235046\n",
      "final_closing_price_pred.item() = 0.4991067349910736\n",
      "final_closing_price_pred.item() = 0.502077579498291\n",
      "final_closing_price_pred.item() = 0.5069971084594727\n",
      "final_closing_price_pred.item() = 0.5084927082061768\n",
      "final_closing_price_pred.item() = 0.5084989070892334\n",
      "final_closing_price_pred.item() = 0.5048751831054688\n",
      "final_closing_price_pred.item() = 0.5027536153793335\n",
      "final_closing_price_pred.item() = 0.502577543258667\n",
      "final_closing_price_pred.item() = 0.503003716468811\n",
      "final_closing_price_pred.item() = 0.5037630796432495\n",
      "final_closing_price_pred.item() = 0.5036318302154541\n",
      "final_closing_price_pred.item() = 0.5039584636688232\n",
      "final_closing_price_pred.item() = 0.5059328079223633\n",
      "final_closing_price_pred.item() = 0.50620436668396\n",
      "final_closing_price_pred.item() = 0.5063647031784058\n",
      "final_closing_price_pred.item() = 0.5049115419387817\n",
      "final_closing_price_pred.item() = 0.5044184923171997\n",
      "final_closing_price_pred.item() = 0.5047990083694458\n",
      "final_closing_price_pred.item() = 0.5014894008636475\n",
      "final_closing_price_pred.item() = 0.5005707740783691\n",
      "final_closing_price_pred.item() = 0.500028133392334\n",
      "final_closing_price_pred.item() = 0.5008423328399658\n",
      "final_closing_price_pred.item() = 0.5002918243408203\n",
      "final_closing_price_pred.item() = 0.5011129379272461\n",
      "final_closing_price_pred.item() = 0.5011879205703735\n",
      "final_closing_price_pred.item() = 0.5030913352966309\n",
      "final_closing_price_pred.item() = 0.5053443908691406\n",
      "final_closing_price_pred.item() = 0.504034161567688\n",
      "final_closing_price_pred.item() = 0.5056111812591553\n",
      "final_closing_price_pred.item() = 0.5038537979125977\n",
      "final_closing_price_pred.item() = 0.5009485483169556\n",
      "final_closing_price_pred.item() = 0.49816420674324036\n",
      "final_closing_price_pred.item() = 0.4966743290424347\n",
      "final_closing_price_pred.item() = 0.4948427975177765\n",
      "final_closing_price_pred.item() = 0.4941292107105255\n",
      "final_closing_price_pred.item() = 0.49419763684272766\n",
      "final_closing_price_pred.item() = 0.4955725371837616\n",
      "final_closing_price_pred.item() = 0.493969589471817\n",
      "final_closing_price_pred.item() = 0.49533119797706604\n",
      "final_closing_price_pred.item() = 0.49489548802375793\n",
      "final_closing_price_pred.item() = 0.49316033720970154\n",
      "final_closing_price_pred.item() = 0.4939989745616913\n",
      "final_closing_price_pred.item() = 0.49526599049568176\n",
      "final_closing_price_pred.item() = 0.49695083498954773\n",
      "final_closing_price_pred.item() = 0.49470582604408264\n",
      "final_closing_price_pred.item() = 0.4957182705402374\n",
      "final_closing_price_pred.item() = 0.49705812335014343\n",
      "final_closing_price_pred.item() = 0.496683269739151\n",
      "final_closing_price_pred.item() = 0.49822816252708435\n",
      "final_closing_price_pred.item() = 0.4979558289051056\n",
      "final_closing_price_pred.item() = 0.4979309141635895\n",
      "final_closing_price_pred.item() = 0.497990220785141\n",
      "final_closing_price_pred.item() = 0.4974924623966217\n",
      "final_closing_price_pred.item() = 0.4928724467754364\n",
      "final_closing_price_pred.item() = 0.4910311996936798\n",
      "final_closing_price_pred.item() = 0.48932787775993347\n",
      "final_closing_price_pred.item() = 0.48728641867637634\n",
      "final_closing_price_pred.item() = 0.4804811179637909\n",
      "final_closing_price_pred.item() = 0.4806518852710724\n",
      "final_closing_price_pred.item() = 0.48428091406822205\n",
      "final_closing_price_pred.item() = 0.48233065009117126\n",
      "final_closing_price_pred.item() = 0.48547181487083435\n",
      "final_closing_price_pred.item() = 0.48433277010917664\n",
      "final_closing_price_pred.item() = 0.4809565246105194\n",
      "final_closing_price_pred.item() = 0.48182031512260437\n",
      "final_closing_price_pred.item() = 0.4819541275501251\n",
      "final_closing_price_pred.item() = 0.4815615713596344\n",
      "final_closing_price_pred.item() = 0.47530075907707214\n",
      "final_closing_price_pred.item() = 0.48009374737739563\n",
      "final_closing_price_pred.item() = 0.4765683710575104\n",
      "final_closing_price_pred.item() = 0.4707837402820587\n",
      "final_closing_price_pred.item() = 0.47339925169944763\n",
      "final_closing_price_pred.item() = 0.47819283604621887\n",
      "final_closing_price_pred.item() = 0.4770977199077606\n",
      "final_closing_price_pred.item() = 0.4755499064922333\n",
      "final_closing_price_pred.item() = 0.47383591532707214\n",
      "final_closing_price_pred.item() = 0.4761299788951874\n",
      "final_closing_price_pred.item() = 0.48024144768714905\n",
      "final_closing_price_pred.item() = 0.4782940447330475\n",
      "final_closing_price_pred.item() = 0.47581443190574646\n",
      "final_closing_price_pred.item() = 0.4724530279636383\n",
      "final_closing_price_pred.item() = 0.47237589955329895\n",
      "final_closing_price_pred.item() = 0.47348377108573914\n",
      "final_closing_price_pred.item() = 0.47570499777793884\n",
      "final_closing_price_pred.item() = 0.4747409522533417\n",
      "final_closing_price_pred.item() = 0.4698399603366852\n",
      "final_closing_price_pred.item() = 0.4709112346172333\n",
      "final_closing_price_pred.item() = 0.47259822487831116\n",
      "final_closing_price_pred.item() = 0.4715467393398285\n",
      "final_closing_price_pred.item() = 0.47503843903541565\n",
      "final_closing_price_pred.item() = 0.475209504365921\n",
      "final_closing_price_pred.item() = 0.4803406894207001\n",
      "final_closing_price_pred.item() = 0.4804475009441376\n",
      "final_closing_price_pred.item() = 0.48076435923576355\n",
      "final_closing_price_pred.item() = 0.481266587972641\n",
      "final_closing_price_pred.item() = 0.4743330776691437\n",
      "final_closing_price_pred.item() = 0.47607341408729553\n",
      "final_closing_price_pred.item() = 0.4721930921077728\n",
      "final_closing_price_pred.item() = 0.4727579653263092\n",
      "final_closing_price_pred.item() = 0.47423502802848816\n",
      "final_closing_price_pred.item() = 0.47528061270713806\n",
      "final_closing_price_pred.item() = 0.47438713908195496\n",
      "final_closing_price_pred.item() = 0.4714367091655731\n",
      "final_closing_price_pred.item() = 0.46824297308921814\n",
      "final_closing_price_pred.item() = 0.46949735283851624\n",
      "final_closing_price_pred.item() = 0.46843549609184265\n",
      "final_closing_price_pred.item() = 0.46658095717430115\n",
      "final_closing_price_pred.item() = 0.46353545784950256\n",
      "final_closing_price_pred.item() = 0.46443530917167664\n",
      "final_closing_price_pred.item() = 0.47257867455482483\n",
      "final_closing_price_pred.item() = 0.47310587763786316\n",
      "final_closing_price_pred.item() = 0.4723951518535614\n",
      "final_closing_price_pred.item() = 0.47244730591773987\n",
      "final_closing_price_pred.item() = 0.4738512933254242\n",
      "final_closing_price_pred.item() = 0.4711139500141144\n",
      "final_closing_price_pred.item() = 0.47798147797584534\n",
      "final_closing_price_pred.item() = 0.47776922583580017\n",
      "final_closing_price_pred.item() = 0.4786395728588104\n",
      "final_closing_price_pred.item() = 0.47829487919807434\n",
      "final_closing_price_pred.item() = 0.47764191031455994\n",
      "final_closing_price_pred.item() = 0.476217657327652\n",
      "final_closing_price_pred.item() = 0.4753285348415375\n",
      "final_closing_price_pred.item() = 0.4795090854167938\n",
      "final_closing_price_pred.item() = 0.48009583353996277\n",
      "final_closing_price_pred.item() = 0.48110225796699524\n",
      "final_closing_price_pred.item() = 0.4817667305469513\n",
      "final_closing_price_pred.item() = 0.47851070761680603\n",
      "final_closing_price_pred.item() = 0.4792666733264923\n",
      "final_closing_price_pred.item() = 0.4792698323726654\n",
      "final_closing_price_pred.item() = 0.4812338054180145\n",
      "final_closing_price_pred.item() = 0.47901031374931335\n",
      "final_closing_price_pred.item() = 0.47865626215934753\n",
      "final_closing_price_pred.item() = 0.4826468527317047\n",
      "final_closing_price_pred.item() = 0.48604997992515564\n",
      "final_closing_price_pred.item() = 0.4856235682964325\n",
      "final_closing_price_pred.item() = 0.4881038963794708\n",
      "final_closing_price_pred.item() = 0.4890696108341217\n",
      "final_closing_price_pred.item() = 0.4851393401622772\n",
      "final_closing_price_pred.item() = 0.48322466015815735\n",
      "final_closing_price_pred.item() = 0.48305007815361023\n",
      "final_closing_price_pred.item() = 0.48345205187797546\n",
      "final_closing_price_pred.item() = 0.4866168200969696\n",
      "final_closing_price_pred.item() = 0.48642489314079285\n",
      "final_closing_price_pred.item() = 0.4865013062953949\n",
      "final_closing_price_pred.item() = 0.4855487048625946\n",
      "final_closing_price_pred.item() = 0.48603150248527527\n",
      "final_closing_price_pred.item() = 0.48540428280830383\n",
      "final_closing_price_pred.item() = 0.48368653655052185\n",
      "final_closing_price_pred.item() = 0.48548397421836853\n",
      "final_closing_price_pred.item() = 0.4856320917606354\n",
      "final_closing_price_pred.item() = 0.48658713698387146\n",
      "final_closing_price_pred.item() = 0.487084299325943\n",
      "final_closing_price_pred.item() = 0.48803916573524475\n",
      "final_closing_price_pred.item() = 0.4908141791820526\n",
      "final_closing_price_pred.item() = 0.49182531237602234\n",
      "final_closing_price_pred.item() = 0.4934752881526947\n",
      "final_closing_price_pred.item() = 0.4930141866207123\n",
      "final_closing_price_pred.item() = 0.49169525504112244\n",
      "final_closing_price_pred.item() = 0.4922312796115875\n",
      "final_closing_price_pred.item() = 0.4964210093021393\n",
      "final_closing_price_pred.item() = 0.49843844771385193\n",
      "final_closing_price_pred.item() = 0.4984113276004791\n",
      "final_closing_price_pred.item() = 0.49760863184928894\n",
      "final_closing_price_pred.item() = 0.4976889193058014\n",
      "final_closing_price_pred.item() = 0.4980085790157318\n",
      "final_closing_price_pred.item() = 0.4999190866947174\n",
      "final_closing_price_pred.item() = 0.5025969743728638\n",
      "final_closing_price_pred.item() = 0.502954363822937\n",
      "final_closing_price_pred.item() = 0.49966612458229065\n",
      "final_closing_price_pred.item() = 0.4980434477329254\n",
      "final_closing_price_pred.item() = 0.4969871938228607\n",
      "final_closing_price_pred.item() = 0.49576666951179504\n",
      "final_closing_price_pred.item() = 0.4955674111843109\n",
      "final_closing_price_pred.item() = 0.4965340197086334\n",
      "final_closing_price_pred.item() = 0.49916496872901917\n",
      "final_closing_price_pred.item() = 0.4999888241291046\n",
      "final_closing_price_pred.item() = 0.5006711483001709\n",
      "final_closing_price_pred.item() = 0.5016114711761475\n",
      "final_closing_price_pred.item() = 0.50068199634552\n",
      "final_closing_price_pred.item() = 0.5003410577774048\n",
      "final_closing_price_pred.item() = 0.49977657198905945\n",
      "final_closing_price_pred.item() = 0.5005645751953125\n",
      "final_closing_price_pred.item() = 0.5011279582977295\n",
      "final_closing_price_pred.item() = 0.502822756767273\n",
      "final_closing_price_pred.item() = 0.5033888816833496\n",
      "final_closing_price_pred.item() = 0.5042623281478882\n",
      "final_closing_price_pred.item() = 0.5054361820220947\n",
      "final_closing_price_pred.item() = 0.50563645362854\n",
      "final_closing_price_pred.item() = 0.5071147680282593\n",
      "final_closing_price_pred.item() = 0.5087125301361084\n",
      "final_closing_price_pred.item() = 0.5076241493225098\n",
      "final_closing_price_pred.item() = 0.5081475973129272\n",
      "final_closing_price_pred.item() = 0.5083599090576172\n",
      "final_closing_price_pred.item() = 0.5086393356323242\n",
      "final_closing_price_pred.item() = 0.49691036343574524\n",
      "final_closing_price_pred.item() = 0.4945671856403351\n",
      "final_closing_price_pred.item() = 0.4941364824771881\n",
      "final_closing_price_pred.item() = 0.49663791060447693\n",
      "final_closing_price_pred.item() = 0.496732622385025\n",
      "final_closing_price_pred.item() = 0.4946926534175873\n",
      "final_closing_price_pred.item() = 0.4935782253742218\n",
      "final_closing_price_pred.item() = 0.49288758635520935\n",
      "final_closing_price_pred.item() = 0.4927283227443695\n",
      "final_closing_price_pred.item() = 0.4890888035297394\n",
      "final_closing_price_pred.item() = 0.4883119761943817\n",
      "final_closing_price_pred.item() = 0.493445485830307\n",
      "final_closing_price_pred.item() = 0.4946992099285126\n",
      "final_closing_price_pred.item() = 0.4923619329929352\n",
      "final_closing_price_pred.item() = 0.48956558108329773\n",
      "final_closing_price_pred.item() = 0.49062010645866394\n",
      "final_closing_price_pred.item() = 0.49043193459510803\n",
      "final_closing_price_pred.item() = 0.4887971580028534\n",
      "final_closing_price_pred.item() = 0.48753973841667175\n",
      "final_closing_price_pred.item() = 0.4870312511920929\n",
      "final_closing_price_pred.item() = 0.4843887984752655\n",
      "final_closing_price_pred.item() = 0.4837062656879425\n",
      "final_closing_price_pred.item() = 0.4809953272342682\n",
      "final_closing_price_pred.item() = 0.47294893860816956\n",
      "final_closing_price_pred.item() = 0.4751369059085846\n",
      "final_closing_price_pred.item() = 0.4742095172405243\n",
      "final_closing_price_pred.item() = 0.4750758111476898\n",
      "final_closing_price_pred.item() = 0.47808417677879333\n",
      "final_closing_price_pred.item() = 0.4799274504184723\n",
      "final_closing_price_pred.item() = 0.4798748195171356\n",
      "final_closing_price_pred.item() = 0.4799362123012543\n",
      "final_closing_price_pred.item() = 0.48149165511131287\n",
      "final_closing_price_pred.item() = 0.48133477568626404\n",
      "final_closing_price_pred.item() = 0.48242828249931335\n",
      "final_closing_price_pred.item() = 0.48384109139442444\n",
      "final_closing_price_pred.item() = 0.48380741477012634\n",
      "final_closing_price_pred.item() = 0.4848550260066986\n",
      "final_closing_price_pred.item() = 0.48573431372642517\n",
      "final_closing_price_pred.item() = 0.48450377583503723\n",
      "final_closing_price_pred.item() = 0.48096397519111633\n",
      "final_closing_price_pred.item() = 0.4803787171840668\n",
      "final_closing_price_pred.item() = 0.480355829000473\n",
      "final_closing_price_pred.item() = 0.4815087616443634\n",
      "final_closing_price_pred.item() = 0.4839937388896942\n",
      "final_closing_price_pred.item() = 0.4858836829662323\n",
      "final_closing_price_pred.item() = 0.48727282881736755\n",
      "final_closing_price_pred.item() = 0.4884580075740814\n",
      "final_closing_price_pred.item() = 0.48696205019950867\n",
      "final_closing_price_pred.item() = 0.48830023407936096\n",
      "final_closing_price_pred.item() = 0.4902839958667755\n",
      "final_closing_price_pred.item() = 0.4908027946949005\n",
      "final_closing_price_pred.item() = 0.49097463488578796\n",
      "final_closing_price_pred.item() = 0.4916181266307831\n",
      "final_closing_price_pred.item() = 0.49191024899482727\n",
      "final_closing_price_pred.item() = 0.4910437762737274\n",
      "final_closing_price_pred.item() = 0.4910391867160797\n",
      "final_closing_price_pred.item() = 0.48946353793144226\n",
      "final_closing_price_pred.item() = 0.49077650904655457\n",
      "final_closing_price_pred.item() = 0.4921189844608307\n",
      "final_closing_price_pred.item() = 0.49199309945106506\n",
      "final_closing_price_pred.item() = 0.49270471930503845\n",
      "final_closing_price_pred.item() = 0.5060654878616333\n",
      "final_closing_price_pred.item() = 0.5043988227844238\n",
      "final_closing_price_pred.item() = 0.5024083852767944\n",
      "final_closing_price_pred.item() = 0.5010515451431274\n",
      "final_closing_price_pred.item() = 0.49970534443855286\n",
      "final_closing_price_pred.item() = 0.49760594964027405\n",
      "final_closing_price_pred.item() = 0.49307575821876526\n",
      "final_closing_price_pred.item() = 0.49539056420326233\n",
      "final_closing_price_pred.item() = 0.4960951507091522\n",
      "final_closing_price_pred.item() = 0.4993855655193329\n",
      "final_closing_price_pred.item() = 0.4973144829273224\n",
      "final_closing_price_pred.item() = 0.49583277106285095\n",
      "final_closing_price_pred.item() = 0.4981360137462616\n",
      "final_closing_price_pred.item() = 0.4944555461406708\n",
      "final_closing_price_pred.item() = 0.4950638711452484\n",
      "final_closing_price_pred.item() = 0.49642422795295715\n",
      "final_closing_price_pred.item() = 0.4986470639705658\n",
      "final_closing_price_pred.item() = 0.49678513407707214\n",
      "final_closing_price_pred.item() = 0.4975416958332062\n",
      "final_closing_price_pred.item() = 0.49702396988868713\n",
      "final_closing_price_pred.item() = 0.4928514063358307\n",
      "final_closing_price_pred.item() = 0.49507102370262146\n",
      "final_closing_price_pred.item() = 0.4951901137828827\n",
      "final_closing_price_pred.item() = 0.4958423674106598\n",
      "final_closing_price_pred.item() = 0.49833425879478455\n",
      "final_closing_price_pred.item() = 0.4977957308292389\n",
      "final_closing_price_pred.item() = 0.4959486424922943\n",
      "final_closing_price_pred.item() = 0.4978835880756378\n",
      "final_closing_price_pred.item() = 0.5013662576675415\n",
      "final_closing_price_pred.item() = 0.5007451772689819\n",
      "final_closing_price_pred.item() = 0.5009045600891113\n",
      "final_closing_price_pred.item() = 0.501399040222168\n",
      "final_closing_price_pred.item() = 0.5032198429107666\n",
      "final_closing_price_pred.item() = 0.504830002784729\n",
      "final_closing_price_pred.item() = 0.5053273439407349\n",
      "final_closing_price_pred.item() = 0.5043784379959106\n",
      "final_closing_price_pred.item() = 0.5041772127151489\n",
      "final_closing_price_pred.item() = 0.5045473575592041\n",
      "final_closing_price_pred.item() = 0.5051506757736206\n",
      "final_closing_price_pred.item() = 0.5041230916976929\n",
      "final_closing_price_pred.item() = 0.504521369934082\n",
      "final_closing_price_pred.item() = 0.5029326677322388\n",
      "final_closing_price_pred.item() = 0.5058149099349976\n",
      "final_closing_price_pred.item() = 0.5048563480377197\n",
      "final_closing_price_pred.item() = 0.5027146339416504\n",
      "final_closing_price_pred.item() = 0.5017011165618896\n",
      "final_closing_price_pred.item() = 0.49992069602012634\n",
      "final_closing_price_pred.item() = 0.49694499373435974\n",
      "final_closing_price_pred.item() = 0.49853411316871643\n",
      "final_closing_price_pred.item() = 0.5009568929672241\n",
      "final_closing_price_pred.item() = 0.5007859468460083\n",
      "final_closing_price_pred.item() = 0.4989772140979767\n",
      "final_closing_price_pred.item() = 0.500768780708313\n",
      "final_closing_price_pred.item() = 0.5017673969268799\n",
      "final_closing_price_pred.item() = 0.5028345584869385\n",
      "final_closing_price_pred.item() = 0.5034111738204956\n",
      "final_closing_price_pred.item() = 0.5064569711685181\n",
      "final_closing_price_pred.item() = 0.5066249370574951\n",
      "final_closing_price_pred.item() = 0.5076687335968018\n",
      "final_closing_price_pred.item() = 0.5068995952606201\n",
      "final_closing_price_pred.item() = 0.5071207284927368\n",
      "final_closing_price_pred.item() = 0.5070149898529053\n",
      "final_closing_price_pred.item() = 0.5089868307113647\n",
      "final_closing_price_pred.item() = 0.5093573331832886\n",
      "final_closing_price_pred.item() = 0.5099437236785889\n",
      "final_closing_price_pred.item() = 0.5124884843826294\n",
      "final_closing_price_pred.item() = 0.5095140933990479\n",
      "final_closing_price_pred.item() = 0.5095663070678711\n",
      "final_closing_price_pred.item() = 0.509769082069397\n",
      "final_closing_price_pred.item() = 0.5115567445755005\n",
      "final_closing_price_pred.item() = 0.5136077404022217\n",
      "final_closing_price_pred.item() = 0.5138039588928223\n",
      "final_closing_price_pred.item() = 0.5139548778533936\n"
     ]
    }
   ],
   "source": [
    "final_closing_price_gts, final_closing_price_predictions = pytorch_pipeline.deploy_model(stock_test_loader, lstm_model)"
   ]
  },
  {
   "cell_type": "markdown",
   "id": "ea6edfa0-0050-4e26-9636-d68248144b94",
   "metadata": {},
   "source": [
    "## Unscale Final Closing Stock Price Predictions"
   ]
  },
  {
   "cell_type": "code",
   "execution_count": 100,
   "id": "24a7e176-466c-45c2-80b5-cdc55f7e0c05",
   "metadata": {},
   "outputs": [],
   "source": [
    "unscale = 1/scaler.scale_"
   ]
  },
  {
   "cell_type": "code",
   "execution_count": 101,
   "id": "f730efb3-b035-4791-9c79-3f309f51f4fc",
   "metadata": {},
   "outputs": [
    {
     "data": {
      "text/plain": [
       "array([1439.52166748])"
      ]
     },
     "execution_count": 101,
     "metadata": {},
     "output_type": "execute_result"
    }
   ],
   "source": [
    "np.array([unscale[0]])"
   ]
  },
  {
   "cell_type": "code",
   "execution_count": 102,
   "id": "a0df18b7-c041-429d-ac35-b1289641364c",
   "metadata": {},
   "outputs": [],
   "source": [
    "final_closing_price_unscaled_preds = final_closing_price_predictions*np.array([unscale[0]])"
   ]
  },
  {
   "cell_type": "code",
   "execution_count": 103,
   "id": "8ab780a9-b926-4169-adf1-3468bf31505f",
   "metadata": {},
   "outputs": [],
   "source": [
    "final_closing_price_unscaled_gts = final_closing_price_gts*np.array([unscale[0]])"
   ]
  },
  {
   "cell_type": "markdown",
   "id": "e0fa551f-3978-4742-8681-b5a5f74037e5",
   "metadata": {},
   "source": [
    "It looks like we are getting correct predictions in which I mean they are not the same for every set of features. We maybe able to improve the predictions if we increase the lookback from 7 to 100 days that we predict on. We'll test that next. I have two graphs, one with scaled predicted stock closing prices and the other with unscaled predicted stock closing prices. It seems like our initial issue where we were getting the same predictions for each set of features was happening because of the way we were using dropout and relu. **For now the simple LSTM neural network architecture works, we'll build on top of it to improve it.**"
   ]
  },
  {
   "cell_type": "code",
   "execution_count": 104,
   "id": "0a4e4fb8-2a01-44c8-b2d5-75e544ef55e0",
   "metadata": {},
   "outputs": [
    {
     "data": {
      "image/png": "[encoded data removed]",
      "text/plain": [
       "<Figure size 640x480 with 1 Axes>"
      ]
     },
     "metadata": {},
     "output_type": "display_data"
    }
   ],
   "source": [
    "pytorch_utility.plot_gt_pred_curves(final_closing_price_gts, final_closing_price_predictions,\n",
    "                    \"LSTM GT & Pred Scaled Stock Closing Price\", \"lstm_gt_pred_scaled_stock_close_price_curves.jpg\")"
   ]
  },
  {
   "cell_type": "code",
   "execution_count": 105,
   "id": "27102594-8258-4fe0-9e59-bf7d0c3f5660",
   "metadata": {},
   "outputs": [
    {
     "data": {
      "image/png": "[encoded data removed]",
      "text/plain": [
       "<Figure size 640x480 with 1 Axes>"
      ]
     },
     "metadata": {},
     "output_type": "display_data"
    }
   ],
   "source": [
    "pytorch_utility.plot_gt_pred_curves(final_closing_price_unscaled_gts, final_closing_price_unscaled_preds,\n",
    "                    \"LSTM GT & Pred Unscaled Stock Closing Price\", \"lstm_gt_pred_unscaled_stock_close_price_curves.jpg\")"
   ]
  },
  {
   "cell_type": "code",
   "execution_count": 92,
   "id": "ea5b48f4-68bf-493a-b112-58354adf7eae",
   "metadata": {},
   "outputs": [
    {
     "ename": "NameError",
     "evalue": "name 'google_stock_test_date' is not defined",
     "output_type": "error",
     "traceback": [
      "\u001b[0;31m---------------------------------------------------------------------------\u001b[0m",
      "\u001b[0;31mNameError\u001b[0m                                 Traceback (most recent call last)",
      "Cell \u001b[0;32mIn[92], line 1\u001b[0m\n\u001b[0;32m----> 1\u001b[0m pytorch_utility\u001b[38;5;241m.\u001b[39msave_lstm_predictions(\u001b[43mgoogle_stock_test_date\u001b[49m, final_closing_price_unscaled_preds, np\u001b[38;5;241m.\u001b[39marray([unscale[\u001b[38;5;241m0\u001b[39m]]),\n\u001b[1;32m      2\u001b[0m                                        num_days\u001b[38;5;241m=\u001b[39m\u001b[38;5;241m100\u001b[39m, dst_folder\u001b[38;5;241m=\u001b[39m\u001b[38;5;124m\"\u001b[39m\u001b[38;5;124mlstm_stock_close/unscaled_predictions/\u001b[39m\u001b[38;5;124m\"\u001b[39m, \n\u001b[1;32m      3\u001b[0m                                        filename\u001b[38;5;241m=\u001b[39m\u001b[38;5;124m\"\u001b[39m\u001b[38;5;124mpytorch_final_closing_price_unscaled_preds.csv\u001b[39m\u001b[38;5;124m\"\u001b[39m)\n",
      "\u001b[0;31mNameError\u001b[0m: name 'google_stock_test_date' is not defined"
     ]
    }
   ],
   "source": [
    "pytorch_utility.save_lstm_predictions(google_stock_test_date, final_closing_price_unscaled_preds, np.array([unscale[0]]),\n",
    "                                       num_days=100, dst_folder=\"lstm_stock_close/unscaled_predictions/\", \n",
    "                                       filename=\"pytorch_final_closing_price_unscaled_preds.csv\")"
   ]
  },
  {
   "cell_type": "code",
   "execution_count": null,
   "id": "198b08f5-3c76-44a6-a63a-3621c70a6ebe",
   "metadata": {},
   "outputs": [],
   "source": []
  }
 ],
 "metadata": {
  "kernelspec": {
   "display_name": "Python 3 (ipykernel)",
   "language": "python",
   "name": "python3"
  },
  "language_info": {
   "codemirror_mode": {
    "name": "ipython",
    "version": 3
   },
   "file_extension": ".py",
   "mimetype": "text/x-python",
   "name": "python",
   "nbconvert_exporter": "python",
   "pygments_lexer": "ipython3",
   "version": "3.9.17"
  }
 },
 "nbformat": 4,
 "nbformat_minor": 5
}
