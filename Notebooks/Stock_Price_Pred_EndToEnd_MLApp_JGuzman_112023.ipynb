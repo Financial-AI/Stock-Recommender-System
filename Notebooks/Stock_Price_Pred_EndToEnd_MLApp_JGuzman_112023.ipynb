{
 "cells": [
  {
   "cell_type": "markdown",
   "id": "7d69c269-ca4a-4ca2-bda8-1c29451ef5ff",
   "metadata": {},
   "source": [
    "# Stock Price Prediction End To End ML App (Rev 11/21/23)\n",
    "\n",
    "- PyTorch (Not TF)\n",
    "- yfinance (for now just use NASDAQ directly)\n",
    "- matplotlib\n",
    "- numpy\n",
    "- pandas\n",
    "- streamlit (?)\n",
    "\n",
    "**Contributor**: James Guzman\n",
    "\n",
    "**Teammates**: Josef, Anshul\n",
    "\n",
    "**Project Advisor**: Dr. Magdalini Eirinaki\n",
    "\n",
    "**SJSU CMPE 256**: Advanced Data Mining\n",
    "\n",
    "**Date**: Nov 17, 2023\n",
    "\n",
    "Based on \"Machine Learning Project in Python to Predict Stock Price ML End to End Application\":\n",
    "\n",
    "- https://youtu.be/P3JlMWoP3fE?si=XxIz2Zo8GCt9ziHM\n",
    "\n",
    "Based on \"Amazon Stock Forecasting in PyTorch with LSTM Neural Network (Time Series Forecasting) | Tutorial 3\":\n",
    "\n",
    "- https://www.youtube.com/watch?v=q_HS4s1L8UI\n",
    "\n",
    "Planning to Contribute our Semester Project to H2O Wave App Store (Currently, I submitted a project idea to their discussion forum on GitHub):\n",
    "\n",
    "- https://github.com/h2oai/wave/discussions/2200\n",
    "\n",
    "Added multi layer LSTM model.\n",
    "\n",
    "Referenced perplexity.ai for questions in regards to updating PyTorch's LSTM layers to create\n",
    "multi-layer LSTM neural network:\n",
    "\n",
    "- https://www.perplexity.ai/search/Stock-Recommender-System-BY7xxwMfT9Ohxqz5klk1BA?s=c\n",
    "\n",
    "NOTE: Valid close stock price predictions is too noisy when using multi layer LSTM with varying hidden features, \n",
    "need to see if I can get it closer to real stock close price. Then test set. I went with single LSTM **StockClosePriceLSTM** so far and got\n",
    "better results."
   ]
  },
  {
   "cell_type": "code",
   "execution_count": 1,
   "id": "1d2fb862-b207-4eaa-aa1c-108f19773818",
   "metadata": {},
   "outputs": [],
   "source": [
    "import os\n",
    "import torch\n",
    "import torch.nn as nn\n",
    "import torch.optim as optim\n",
    "from torch.utils.data import DataLoader\n",
    "from copy import deepcopy as dc\n",
    "from tqdm.notebook import tqdm\n",
    "# import yfinance as yf\n",
    "import matplotlib.pyplot as plt\n",
    "import numpy as np\n",
    "import pandas as pd\n",
    "from sklearn.preprocessing import MinMaxScaler\n",
    "# import streamlit\n",
    "    # streamlit they use to deploy as a web app, for now I will use Wave or PySide6"
   ]
  },
  {
   "cell_type": "code",
   "execution_count": 2,
   "id": "08c80100-497a-471c-b94c-8d677645d418",
   "metadata": {},
   "outputs": [
    {
     "name": "stdout",
     "output_type": "stream",
     "text": [
      "Running on GPU NVIDIA GeForce RTX 3050 Ti Laptop GPU\n"
     ]
    }
   ],
   "source": [
    "LEARNING_RATE = 1e-2\n",
    "BATCH_SIZE = 16\n",
    "TEST_BATCH_SIZE = 1\n",
    "NUM_EPOCHS = 10\n",
    "DEBUG = True\n",
    "\n",
    "dataset_name = \"stock_closing_price\"\n",
    "\n",
    "device = torch.device(\"cuda\")\n",
    "print(f\"Running on GPU {torch.cuda.get_device_name(device)}\")"
   ]
  },
  {
   "cell_type": "code",
   "execution_count": 3,
   "id": "9a64d5f3-714d-44f3-a05f-357bbb187c37",
   "metadata": {},
   "outputs": [],
   "source": [
    "train_mse_loss_avg_values = []\n",
    "train_rmse_loss_avg_values = []\n",
    "train_f1_avg_values = []\n",
    "\n",
    "valid_mse_loss_avg_values = []\n",
    "valid_rmse_loss_avg_values = []\n",
    "valid_f1_avg_values = []"
   ]
  },
  {
   "cell_type": "markdown",
   "id": "8224728b-8190-45d6-a8a1-70b76e939ea6",
   "metadata": {},
   "source": [
    "## Helper Classes & Functions"
   ]
  },
  {
   "cell_type": "code",
   "execution_count": 4,
   "id": "fe2279c3-fac4-44b9-8377-d0592f152dd4",
   "metadata": {},
   "outputs": [],
   "source": [
    "def mkdir_prep_dir(dirpath):\n",
    "    \"\"\"make preprocess directory if doesn't exist\"\"\"\n",
    "    prep_dir = dirpath\n",
    "    if not os.path.exists(prep_dir):\n",
    "        os.makedirs(prep_dir)\n",
    "    return prep_dir\n",
    "\n",
    "def save_checkpoint(state, filename=\"best_lstm.pth.tar\"):\n",
    "    print(\"=> Saving Checkpoint\")\n",
    "    torch.save(state, filename)\n",
    "\n",
    "def rmse(y_pred, y_true):\n",
    "    return torch.sqrt(torch.mean((y_true - y_pred) ** 2))\n",
    "\n",
    "# Based on perplexity.ai solution to torchmetrics.functional f1 lib incompatibility\n",
    "# https://www.perplexity.ai/search/Stock-Recommender-System-BY7xxwMfT9Ohxqz5klk1BA?s=c\n",
    "def f1_score(y_pred, y_true):\n",
    "    epsilon = 1e-7\n",
    "    tp = (y_true * y_pred).sum().to(torch.float32)\n",
    "    fp = ( (1 - y_true) * y_pred ).sum().to(torch.float32)\n",
    "    fn = (y_true * (1 - y_pred)).sum().to(torch.float32)\n",
    "    precision = tp / (tp + fp + epsilon)\n",
    "    recall = tp / (tp + fn + epsilon)\n",
    "    f1 = 2 * (precision * recall) / (precision + recall + epsilon)\n",
    "    return f1"
   ]
  },
  {
   "cell_type": "code",
   "execution_count": 5,
   "id": "4b8063b7-3813-4775-b856-c21fa3dfc972",
   "metadata": {},
   "outputs": [],
   "source": [
    "# Ideally, I am thinking of parts of the preprocessing pipeline code, I can refactor toward nifi later\n",
    "# Need a better telemetry dashboard to interact with NiFi: Unity, H2O Wave, PySide6 QT\n",
    "class DataPrepPipeline:\n",
    "    def __init__(self):\n",
    "        pass\n",
    "\n",
    "    # Based on Greg Hogg's Stock Pred Video: https://youtu.be/q_HS4s1L8UI?si=CHWvbvfoPExQcALa\n",
    "    def prepare_df_for_lstm(self, stock_df, n_steps):\n",
    "        \"\"\"\n",
    "        # 10 days stock price\n",
    "        # it'll take the first 10 days, to then predict 11th day stock price\n",
    "        # 10, 11, 12, 15, 16, 17, 18, 19, 20, 17, \"18\"\n",
    "        # for the 12th day prediction, it'll take the 11th back to the 1st day\n",
    "        # .., 11, 12, 15, 16, 17, 18, 19, 20, 17, 18, \"19\"\n",
    "        \"\"\"\n",
    "        stock_df = dc(stock_df)\n",
    "        stock_df[\"Date\"] = pd.to_datetime(stock_df[\"Date\"])\n",
    "\n",
    "        stock_df.set_index(\"Date\", inplace=True)\n",
    "\n",
    "        for i in range(1, n_steps+1):\n",
    "            stock_df[f\"Close(t-{i})\"] = stock_df[\"Close\"].shift(i)\n",
    "\n",
    "        stock_df.dropna(inplace=True)\n",
    "\n",
    "        return stock_df\n",
    "\n",
    "    def split_features_labels(self, stock_features_labels_pd):\n",
    "        x_features = stock_features_labels_pd[:, 1:]\n",
    "        y_labels = stock_features_labels_pd[:, 0]\n",
    "\n",
    "        if DEBUG:\n",
    "            print(f\"x_features shape = {x_features.shape}; y_labels shape = {y_labels.shape}\")\n",
    "        return x_features, y_labels"
   ]
  },
  {
   "cell_type": "code",
   "execution_count": 6,
   "id": "bdbff328-bc26-4de5-81a1-88c2e4aa8fc3",
   "metadata": {},
   "outputs": [],
   "source": [
    "class PyTorchPipeline:\n",
    "    def __init__(self):\n",
    "        pass\n",
    "\n",
    "    def train_model(self, train_loader, lstm_model, optimizer, loss_criterion):\n",
    "        train_loop = tqdm(train_loader)\n",
    "\n",
    "        train_mse_loss_values = []\n",
    "        train_rmse_loss_values = []\n",
    "        train_f1_metric_values = []\n",
    "\n",
    "        # closing_price_2d_tensor\n",
    "        for batch_idx, (closing_price_2d_tensor, final_closing_price_tensor_gt) in enumerate(train_loop):\n",
    "            # final_closing_price_tensor_gt = final_closing_price_tensor.unsqueeze(1)\n",
    "\n",
    "            optimizer.zero_grad()\n",
    "            closing_price_2d_tensor = closing_price_2d_tensor.to(device)\n",
    "            final_closing_price_tensor_gt = final_closing_price_tensor_gt.to(device)\n",
    "            pred_final_closing_price = lstm_model(closing_price_2d_tensor)\n",
    "            mse_loss = loss_criterion(pred_final_closing_price, final_closing_price_tensor_gt)\n",
    "            rmse_loss = rmse(pred_final_closing_price, final_closing_price_tensor_gt)\n",
    "\n",
    "            f1_metric = f1_score(pred_final_closing_price, final_closing_price_tensor_gt)\n",
    "            \n",
    "            mse_loss.backward()\n",
    "            optimizer.step()\n",
    "\n",
    "            train_mse_loss_values.append(mse_loss.item())\n",
    "            train_rmse_loss_values.append(rmse_loss.item())\n",
    "            train_f1_metric_values.append(f1_metric.item())\n",
    "\n",
    "            train_loop.set_postfix(train_mse_loss=mse_loss.item(), train_rmse_loss=rmse_loss.item(), train_f1=f1_metric.item())\n",
    "\n",
    "        train_mse_loss_avg_values.append( sum(train_mse_loss_values)/len(train_loader) )\n",
    "        train_rmse_loss_avg_values.append( sum(train_rmse_loss_values)/len(train_loader) )\n",
    "        train_f1_avg_values.append( sum(train_f1_metric_values)/len(train_loader) )\n",
    "\n",
    "    def validate_model(self, val_loader, lstm_model, loss_criterion):\n",
    "        val_loop = tqdm(val_loader)\n",
    "\n",
    "        val_mse_loss_values = []\n",
    "        val_rmse_loss_values = []\n",
    "        val_f1_metric_values = []\n",
    "\n",
    "        for batch_idx, (closing_price_2d_tensor, final_closing_price_tensor_gt) in enumerate(val_loop):\n",
    "            # final_closing_price_tensor_gt = final_closing_price_tensor.unsqueeze(1)\n",
    "            closing_price_2d_tensor = closing_price_2d_tensor.to(device)\n",
    "            final_closing_price_tensor_gt = final_closing_price_tensor_gt.to(device)\n",
    "            \n",
    "            pred_final_closing_price = lstm_model(closing_price_2d_tensor)\n",
    "            mse_loss = loss_criterion(pred_final_closing_price, final_closing_price_tensor_gt)\n",
    "            rmse_loss = rmse(pred_final_closing_price, final_closing_price_tensor_gt)\n",
    "\n",
    "            f1_metric = f1_score(pred_final_closing_price, final_closing_price_tensor_gt)\n",
    "            \n",
    "            val_mse_loss_values.append(mse_loss.item())\n",
    "            val_rmse_loss_values.append(rmse_loss.item())\n",
    "            val_f1_metric_values.append(f1_metric.item())\n",
    "\n",
    "            val_loop.set_postfix(val_mse_loss=mse_loss.item(), val_rmse_loss=rmse_loss.item(), val_f1=f1_metric.item())\n",
    "\n",
    "        valid_mse_loss_avg_values.append( sum(val_mse_loss_values)/len(val_loader) )\n",
    "        valid_rmse_loss_avg_values.append( sum(val_rmse_loss_values)/len(val_loader) )\n",
    "        valid_f1_avg_values.append( sum(val_f1_metric_values)/len(val_loader) )\n",
    "\n",
    "    def train_over_epochs(self, train_loader, test_loader, lstm_model, optimizer, loss_criterion, dst_folder=\"lstm_model\"):\n",
    "        step = 100\n",
    "        for epoch in range(NUM_EPOCHS):\n",
    "            self.train_model(train_loader, lstm_model, optimizer, loss_criterion)\n",
    "\n",
    "            checkpoint = {\n",
    "                \"state_dict\": lstm_model.state_dict(),\n",
    "                \"optimizer\": optimizer.state_dict(),\n",
    "            }\n",
    "\n",
    "            mkdir_prep_dir(f\"{dataset_name}/{dst_folder}\")\n",
    "            filename = f\"{dataset_name}/{dst_folder}/lstm_model_{step}.pth.tar\"\n",
    "            save_checkpoint(checkpoint, filename=filename)\n",
    "\n",
    "            self.validate_model(test_loader, lstm_model, loss_criterion)\n",
    "\n",
    "            step += 100\n",
    "\n",
    "    def deploy_model(self, test_loader, lstm_model):\n",
    "        test_loop = tqdm(test_loader)\n",
    "        final_closing_price_predictions = []\n",
    "        final_closing_price_gts = []\n",
    "        count = 0\n",
    "\n",
    "        for batch_idx, (closing_price_2d_tensor, final_closing_price_tensor) in enumerate(test_loop):\n",
    "            closing_price_2d_tensor = closing_price_2d_tensor.to(device)\n",
    "            final_closing_price_pred = lstm_model(closing_price_2d_tensor)\n",
    "            # if DEBUG and count == 0:\n",
    "            print(f\"final_closing_price_pred.item() = {final_closing_price_pred.item()}\")\n",
    "            final_closing_price_predictions.append(final_closing_price_pred.item())\n",
    "            final_closing_price_gts.append(final_closing_price_tensor.item())\n",
    "            count += 1\n",
    "        return final_closing_price_gts, final_closing_price_predictions\n",
    "\n",
    "    def test_dataloader_sample(self, data_loader):\n",
    "        for batch_idx, (closing_price_features_tensor, closing_price_labels_tensor) in enumerate(data_loader):\n",
    "            closing_price_features_tensor = closing_price_features_tensor.to(device)\n",
    "            closing_price_labels_tensor = closing_price_labels_tensor.to(device)\n",
    "            print(f\"close price features shape: {closing_price_features_tensor.shape}; close price labels shape: {closing_price_labels_tensor.shape}\")\n",
    "            break"
   ]
  },
  {
   "cell_type": "code",
   "execution_count": 87,
   "id": "3f653d58-7e80-4d7a-8dd4-008a2c277c89",
   "metadata": {},
   "outputs": [],
   "source": [
    "class PyTorchUtility:\n",
    "    def __init__(self):\n",
    "        pass\n",
    "\n",
    "    # TODO (JG): Add arguments for naming the two labels\n",
    "    def plot_loss_curves(self, train_loss_values, test_loss_values, plot_title, plot_filepath):\n",
    "        # mkdir_prep_dir(plot_filepath)\n",
    "        f, ax = plt.subplots()\n",
    "        ax.set_title(plot_title)\n",
    "        ax.plot(train_loss_values, color=\"blue\", label=\"Train RMSE\")\n",
    "        ax.plot(test_loss_values, color=\"gold\", label=\"Valid RMSE\")\n",
    "        ax.grid(True)\n",
    "        ax.set_xlabel(\"Epochs\")\n",
    "        ax.set_ylabel(\"RMSE Loss\")\n",
    "        plt.legend()\n",
    "        plt.savefig(plot_filepath)\n",
    "        plt.show()\n",
    "\n",
    "    def plot_f1_curves(self, train_f1_values, test_f1_values, plot_title, plot_filepath):\n",
    "        # mkdir_prep_dir(plot_filepath)\n",
    "        f, ax = plt.subplots()\n",
    "        ax.set_title(plot_title)\n",
    "        ax.plot(train_f1_values, color=\"blue\", label=\"Train F1\")\n",
    "        ax.plot(test_f1_values, color=\"gold\", label=\"Valid F1\")\n",
    "        ax.grid(True)\n",
    "        ax.set_xlabel(\"Epochs\")\n",
    "        ax.set_ylabel(\"F1 Score\")\n",
    "        plt.legend()\n",
    "        plt.savefig(plot_filepath)\n",
    "        plt.show()\n",
    "\n",
    "\n",
    "    def plot_gt_pred_curves(self, final_closing_price_gts, final_closing_price_predictions, plot_title, plot_filepath):\n",
    "        # mkdir_prep_dir(plot_filepath)\n",
    "        f, ax = plt.subplots()\n",
    "        ax.set_title(plot_title)\n",
    "        ax.plot(final_closing_price_predictions, color=\"blue\", label=\"Pred Price\")\n",
    "        ax.plot(final_closing_price_gts, color=\"gold\", label=\"GT Price\")\n",
    "        ax.grid(True)\n",
    "        ax.set_xlabel(\"Time\")\n",
    "        ax.set_ylabel(\"Price\")\n",
    "        plt.legend()\n",
    "        plt.savefig(plot_filepath)\n",
    "        plt.show()\n",
    "\n",
    "\n",
    "    # TODO (JG): Need to check num_days preds for closing price. Is it suppose to be over\n",
    "    def save_lstm_predictions(self, final_closing_price_dates, final_closing_price_predictions, scale, num_days, dst_folder=\"lstm_model\", filename=\"pytorch_final_closing_price_preds.csv\"):\n",
    "        # test_close_price_df, google_stock_train_date\n",
    "        # stock_date_list = []\n",
    "        # y_train_list = []\n",
    "\n",
    "        # count = 0\n",
    "        # for i in range(num_days, stock_test_date_df.shape[0]):\n",
    "        #     # if DEBUG and count == 0:\n",
    "        #     #     print(f\"stock_test_date_df[0] = {stock_test_date_df[0]}\")\n",
    "        #     #     print(f\"stock_test_date_df[i,0] = {stock_test_date_df[i,0]}\")\n",
    "                \n",
    "        #     stock_pred_date_id = stock_test_date_df.Date.iloc[i]\n",
    "        #     if DEBUG and count == 0:\n",
    "        #         print(f\"stock_pred_date_id = {stock_pred_date_id}\")\n",
    "        #     stock_date_list.append(stock_pred_date_id)\n",
    "        #     count += 1\n",
    "\n",
    "        mkdir_prep_dir(f\"{dst_folder}\")\n",
    "        dst_filepath = f\"{dst_folder}/{filename}\"\n",
    "\n",
    "        # final_closing_price_unscaled_preds = final_closing_price_predictions*scale\n",
    "        \n",
    "        # final close price pred for each 100th date after predicting on 100 days of final closing prices\n",
    "        stock_close_price_res_df = pd.DataFrame({f\"{num_days}th Date\": final_closing_price_dates, \"Close\": final_closing_price_predictions})\n",
    "        stock_close_price_res_df.to_csv(dst_filepath, index=False)\n",
    "        return stock_close_price_res_df\n"
   ]
  },
  {
   "cell_type": "markdown",
   "id": "94b2f004-f9b4-44e9-b3cd-a2aa180e12d0",
   "metadata": {},
   "source": [
    "## Load NASDAQ Symbols Metadata"
   ]
  },
  {
   "cell_type": "code",
   "execution_count": 8,
   "id": "7ad30409-9c14-4cbf-86d0-9161b9a2e513",
   "metadata": {},
   "outputs": [],
   "source": [
    "# Load Stock Market Data\n",
    "nasdaq_meta_symbols_filepath = \"/home/james/src/datasets/NASDAQ_Yahoo_Finance/symbols_valid_meta.csv\""
   ]
  },
  {
   "cell_type": "code",
   "execution_count": 9,
   "id": "1fd04ffe-08dd-4311-bd03-9684eafb92d9",
   "metadata": {},
   "outputs": [],
   "source": [
    "nasdaq_symbols_meta_pd = pd.read_csv(nasdaq_meta_symbols_filepath)"
   ]
  },
  {
   "cell_type": "code",
   "execution_count": 10,
   "id": "0c08a337-19c7-479c-891e-01b4e7af5780",
   "metadata": {},
   "outputs": [
    {
     "data": {
      "text/html": [
       "<div>\n",
       "<style scoped>\n",
       "    .dataframe tbody tr th:only-of-type {\n",
       "        vertical-align: middle;\n",
       "    }\n",
       "\n",
       "    .dataframe tbody tr th {\n",
       "        vertical-align: top;\n",
       "    }\n",
       "\n",
       "    .dataframe thead th {\n",
       "        text-align: right;\n",
       "    }\n",
       "</style>\n",
       "<table border=\"1\" class=\"dataframe\">\n",
       "  <thead>\n",
       "    <tr style=\"text-align: right;\">\n",
       "      <th></th>\n",
       "      <th>Nasdaq Traded</th>\n",
       "      <th>Symbol</th>\n",
       "      <th>Security Name</th>\n",
       "      <th>Listing Exchange</th>\n",
       "      <th>Market Category</th>\n",
       "      <th>ETF</th>\n",
       "      <th>Round Lot Size</th>\n",
       "      <th>Test Issue</th>\n",
       "      <th>Financial Status</th>\n",
       "      <th>CQS Symbol</th>\n",
       "      <th>NASDAQ Symbol</th>\n",
       "      <th>NextShares</th>\n",
       "    </tr>\n",
       "  </thead>\n",
       "  <tbody>\n",
       "    <tr>\n",
       "      <th>0</th>\n",
       "      <td>Y</td>\n",
       "      <td>A</td>\n",
       "      <td>Agilent Technologies, Inc. Common Stock</td>\n",
       "      <td>N</td>\n",
       "      <td></td>\n",
       "      <td>N</td>\n",
       "      <td>100.0</td>\n",
       "      <td>N</td>\n",
       "      <td>NaN</td>\n",
       "      <td>A</td>\n",
       "      <td>A</td>\n",
       "      <td>N</td>\n",
       "    </tr>\n",
       "    <tr>\n",
       "      <th>1</th>\n",
       "      <td>Y</td>\n",
       "      <td>AA</td>\n",
       "      <td>Alcoa Corporation Common Stock</td>\n",
       "      <td>N</td>\n",
       "      <td></td>\n",
       "      <td>N</td>\n",
       "      <td>100.0</td>\n",
       "      <td>N</td>\n",
       "      <td>NaN</td>\n",
       "      <td>AA</td>\n",
       "      <td>AA</td>\n",
       "      <td>N</td>\n",
       "    </tr>\n",
       "    <tr>\n",
       "      <th>2</th>\n",
       "      <td>Y</td>\n",
       "      <td>AAAU</td>\n",
       "      <td>Perth Mint Physical Gold ETF</td>\n",
       "      <td>P</td>\n",
       "      <td></td>\n",
       "      <td>Y</td>\n",
       "      <td>100.0</td>\n",
       "      <td>N</td>\n",
       "      <td>NaN</td>\n",
       "      <td>AAAU</td>\n",
       "      <td>AAAU</td>\n",
       "      <td>N</td>\n",
       "    </tr>\n",
       "    <tr>\n",
       "      <th>3</th>\n",
       "      <td>Y</td>\n",
       "      <td>AACG</td>\n",
       "      <td>ATA Creativity Global - American Depositary Sh...</td>\n",
       "      <td>Q</td>\n",
       "      <td>G</td>\n",
       "      <td>N</td>\n",
       "      <td>100.0</td>\n",
       "      <td>N</td>\n",
       "      <td>N</td>\n",
       "      <td>NaN</td>\n",
       "      <td>AACG</td>\n",
       "      <td>N</td>\n",
       "    </tr>\n",
       "    <tr>\n",
       "      <th>4</th>\n",
       "      <td>Y</td>\n",
       "      <td>AADR</td>\n",
       "      <td>AdvisorShares Dorsey Wright ADR ETF</td>\n",
       "      <td>P</td>\n",
       "      <td></td>\n",
       "      <td>Y</td>\n",
       "      <td>100.0</td>\n",
       "      <td>N</td>\n",
       "      <td>NaN</td>\n",
       "      <td>AADR</td>\n",
       "      <td>AADR</td>\n",
       "      <td>N</td>\n",
       "    </tr>\n",
       "  </tbody>\n",
       "</table>\n",
       "</div>"
      ],
      "text/plain": [
       "  Nasdaq Traded Symbol                                      Security Name  \\\n",
       "0             Y      A            Agilent Technologies, Inc. Common Stock   \n",
       "1             Y     AA                    Alcoa Corporation Common Stock    \n",
       "2             Y   AAAU                       Perth Mint Physical Gold ETF   \n",
       "3             Y   AACG  ATA Creativity Global - American Depositary Sh...   \n",
       "4             Y   AADR                AdvisorShares Dorsey Wright ADR ETF   \n",
       "\n",
       "  Listing Exchange Market Category ETF  Round Lot Size Test Issue  \\\n",
       "0                N                   N           100.0          N   \n",
       "1                N                   N           100.0          N   \n",
       "2                P                   Y           100.0          N   \n",
       "3                Q               G   N           100.0          N   \n",
       "4                P                   Y           100.0          N   \n",
       "\n",
       "  Financial Status CQS Symbol NASDAQ Symbol NextShares  \n",
       "0              NaN          A             A          N  \n",
       "1              NaN         AA            AA          N  \n",
       "2              NaN       AAAU          AAAU          N  \n",
       "3                N        NaN          AACG          N  \n",
       "4              NaN       AADR          AADR          N  "
      ]
     },
     "execution_count": 10,
     "metadata": {},
     "output_type": "execute_result"
    }
   ],
   "source": [
    "nasdaq_symbols_meta_pd.head()"
   ]
  },
  {
   "cell_type": "code",
   "execution_count": 11,
   "id": "80107d2e-a8bb-4209-a7f4-3d2847b745b6",
   "metadata": {},
   "outputs": [
    {
     "name": "stdout",
     "output_type": "stream",
     "text": [
      "<class 'pandas.core.frame.DataFrame'>\n",
      "RangeIndex: 8049 entries, 0 to 8048\n",
      "Data columns (total 12 columns):\n",
      " #   Column            Non-Null Count  Dtype  \n",
      "---  ------            --------------  -----  \n",
      " 0   Nasdaq Traded     8049 non-null   object \n",
      " 1   Symbol            8049 non-null   object \n",
      " 2   Security Name     8049 non-null   object \n",
      " 3   Listing Exchange  8049 non-null   object \n",
      " 4   Market Category   8049 non-null   object \n",
      " 5   ETF               8049 non-null   object \n",
      " 6   Round Lot Size    8049 non-null   float64\n",
      " 7   Test Issue        8049 non-null   object \n",
      " 8   Financial Status  3383 non-null   object \n",
      " 9   CQS Symbol        4666 non-null   object \n",
      " 10  NASDAQ Symbol     8049 non-null   object \n",
      " 11  NextShares        8049 non-null   object \n",
      "dtypes: float64(1), object(11)\n",
      "memory usage: 754.7+ KB\n"
     ]
    }
   ],
   "source": [
    "nasdaq_symbols_meta_pd.info()"
   ]
  },
  {
   "cell_type": "markdown",
   "id": "86a8c34b-0eb8-4694-b2d4-12283ce9c0f2",
   "metadata": {},
   "source": [
    "## Load NASDAQ Stock Data If Company Is In Metadata"
   ]
  },
  {
   "cell_type": "code",
   "execution_count": 12,
   "id": "19eda8ca-9595-42e0-a797-df49ef2fbadb",
   "metadata": {},
   "outputs": [],
   "source": [
    "stock_dir_path = \"/home/james/src/datasets/NASDAQ_Yahoo_Finance/stocks\""
   ]
  },
  {
   "cell_type": "code",
   "execution_count": 13,
   "id": "4738f384-f740-42b9-ad97-4a02d3c55f77",
   "metadata": {},
   "outputs": [],
   "source": [
    "symbol_name = \"GOOG\""
   ]
  },
  {
   "cell_type": "code",
   "execution_count": 14,
   "id": "df25d7ca-c498-4e6e-9386-65e25bddca67",
   "metadata": {},
   "outputs": [
    {
     "name": "stdout",
     "output_type": "stream",
     "text": [
      "GOOG is in NASDAQ Yahoo Finance Metadata, loading GOOG stock pd\n"
     ]
    }
   ],
   "source": [
    "if symbol_name in nasdaq_symbols_meta_pd[\"Symbol\"].tolist():\n",
    "    print(f\"{symbol_name} is in NASDAQ Yahoo Finance Metadata, loading GOOG stock pd\")\n",
    "    google_stock_data_pd = pd.read_csv(os.path.join(stock_dir_path, f\"{symbol_name}.csv\"))"
   ]
  },
  {
   "cell_type": "code",
   "execution_count": 15,
   "id": "487265b2-44fe-4080-b997-e9010c343f26",
   "metadata": {},
   "outputs": [
    {
     "data": {
      "text/html": [
       "<div>\n",
       "<style scoped>\n",
       "    .dataframe tbody tr th:only-of-type {\n",
       "        vertical-align: middle;\n",
       "    }\n",
       "\n",
       "    .dataframe tbody tr th {\n",
       "        vertical-align: top;\n",
       "    }\n",
       "\n",
       "    .dataframe thead th {\n",
       "        text-align: right;\n",
       "    }\n",
       "</style>\n",
       "<table border=\"1\" class=\"dataframe\">\n",
       "  <thead>\n",
       "    <tr style=\"text-align: right;\">\n",
       "      <th></th>\n",
       "      <th>Date</th>\n",
       "      <th>Open</th>\n",
       "      <th>High</th>\n",
       "      <th>Low</th>\n",
       "      <th>Close</th>\n",
       "      <th>Adj Close</th>\n",
       "      <th>Volume</th>\n",
       "    </tr>\n",
       "  </thead>\n",
       "  <tbody>\n",
       "    <tr>\n",
       "      <th>0</th>\n",
       "      <td>2004-08-19</td>\n",
       "      <td>49.813286</td>\n",
       "      <td>51.835709</td>\n",
       "      <td>47.800831</td>\n",
       "      <td>49.982655</td>\n",
       "      <td>49.982655</td>\n",
       "      <td>44871300</td>\n",
       "    </tr>\n",
       "    <tr>\n",
       "      <th>1</th>\n",
       "      <td>2004-08-20</td>\n",
       "      <td>50.316402</td>\n",
       "      <td>54.336334</td>\n",
       "      <td>50.062355</td>\n",
       "      <td>53.952770</td>\n",
       "      <td>53.952770</td>\n",
       "      <td>22942800</td>\n",
       "    </tr>\n",
       "    <tr>\n",
       "      <th>2</th>\n",
       "      <td>2004-08-23</td>\n",
       "      <td>55.168217</td>\n",
       "      <td>56.528118</td>\n",
       "      <td>54.321388</td>\n",
       "      <td>54.495735</td>\n",
       "      <td>54.495735</td>\n",
       "      <td>18342800</td>\n",
       "    </tr>\n",
       "    <tr>\n",
       "      <th>3</th>\n",
       "      <td>2004-08-24</td>\n",
       "      <td>55.412300</td>\n",
       "      <td>55.591629</td>\n",
       "      <td>51.591621</td>\n",
       "      <td>52.239193</td>\n",
       "      <td>52.239193</td>\n",
       "      <td>15319700</td>\n",
       "    </tr>\n",
       "    <tr>\n",
       "      <th>4</th>\n",
       "      <td>2004-08-25</td>\n",
       "      <td>52.284027</td>\n",
       "      <td>53.798351</td>\n",
       "      <td>51.746044</td>\n",
       "      <td>52.802086</td>\n",
       "      <td>52.802086</td>\n",
       "      <td>9232100</td>\n",
       "    </tr>\n",
       "  </tbody>\n",
       "</table>\n",
       "</div>"
      ],
      "text/plain": [
       "         Date       Open       High        Low      Close  Adj Close    Volume\n",
       "0  2004-08-19  49.813286  51.835709  47.800831  49.982655  49.982655  44871300\n",
       "1  2004-08-20  50.316402  54.336334  50.062355  53.952770  53.952770  22942800\n",
       "2  2004-08-23  55.168217  56.528118  54.321388  54.495735  54.495735  18342800\n",
       "3  2004-08-24  55.412300  55.591629  51.591621  52.239193  52.239193  15319700\n",
       "4  2004-08-25  52.284027  53.798351  51.746044  52.802086  52.802086   9232100"
      ]
     },
     "execution_count": 15,
     "metadata": {},
     "output_type": "execute_result"
    }
   ],
   "source": [
    "google_stock_data_pd.head()"
   ]
  },
  {
   "cell_type": "code",
   "execution_count": 16,
   "id": "110be783-2b49-4799-a52a-59ee3af4c5bc",
   "metadata": {},
   "outputs": [
    {
     "name": "stdout",
     "output_type": "stream",
     "text": [
      "<class 'pandas.core.frame.DataFrame'>\n",
      "RangeIndex: 3932 entries, 0 to 3931\n",
      "Data columns (total 7 columns):\n",
      " #   Column     Non-Null Count  Dtype  \n",
      "---  ------     --------------  -----  \n",
      " 0   Date       3932 non-null   object \n",
      " 1   Open       3932 non-null   float64\n",
      " 2   High       3932 non-null   float64\n",
      " 3   Low        3932 non-null   float64\n",
      " 4   Close      3932 non-null   float64\n",
      " 5   Adj Close  3932 non-null   float64\n",
      " 6   Volume     3932 non-null   int64  \n",
      "dtypes: float64(5), int64(1), object(1)\n",
      "memory usage: 215.2+ KB\n"
     ]
    }
   ],
   "source": [
    "google_stock_data_pd.info()"
   ]
  },
  {
   "cell_type": "markdown",
   "id": "0b380a94-72dd-49c3-92d4-88216ba1bdda",
   "metadata": {},
   "source": [
    "## Create Moving Average Stock Across 100 Days\n",
    "\n",
    "We'll create moving average stock across 100 days"
   ]
  },
  {
   "cell_type": "code",
   "execution_count": 17,
   "id": "ea232567-b82c-4beb-86e7-e4645739cc0a",
   "metadata": {},
   "outputs": [],
   "source": [
    "num_days = 100"
   ]
  },
  {
   "cell_type": "code",
   "execution_count": 18,
   "id": "324231e2-e721-4c7a-9f5d-e6a47d97ab03",
   "metadata": {},
   "outputs": [],
   "source": [
    "mavg_100_days = google_stock_data_pd.Close.rolling(num_days).mean()"
   ]
  },
  {
   "cell_type": "markdown",
   "id": "8a9ad946-ba54-4f39-9dad-8c44f5624ebd",
   "metadata": {},
   "source": [
    "### Plot Moving Average vs Close Price"
   ]
  },
  {
   "cell_type": "code",
   "execution_count": 19,
   "id": "2f50cdb0-22d6-4e61-a1b1-49a176d3db94",
   "metadata": {},
   "outputs": [
    {
     "data": {
      "image/png": "[encoded data removed]",
      "text/plain": [
       "<Figure size 800x600 with 1 Axes>"
      ]
     },
     "metadata": {},
     "output_type": "display_data"
    }
   ],
   "source": [
    "plt.figure(figsize=(8, 6))\n",
    "plt.plot(mavg_100_days, \"r\")\n",
    "plt.plot(google_stock_data_pd.Close, \"g\")\n",
    "plt.show()"
   ]
  },
  {
   "cell_type": "markdown",
   "id": "a365d14d-b238-402f-8a59-0ec8ca984d0b",
   "metadata": {},
   "source": [
    "## Create Moving Average Stock Across 200 Days"
   ]
  },
  {
   "cell_type": "code",
   "execution_count": 20,
   "id": "688ae976-fc77-4724-b512-2c9efef0a2cb",
   "metadata": {},
   "outputs": [],
   "source": [
    "num_days = 200\n",
    "mavg_200_days = google_stock_data_pd.Close.rolling(num_days).mean()"
   ]
  },
  {
   "cell_type": "code",
   "execution_count": 21,
   "id": "6dc47912-1ae3-4a96-943b-644563a81654",
   "metadata": {},
   "outputs": [
    {
     "data": {
      "image/png": "[encoded data removed]",
      "text/plain": [
       "<Figure size 800x600 with 1 Axes>"
      ]
     },
     "metadata": {},
     "output_type": "display_data"
    }
   ],
   "source": [
    "plt.figure(figsize=(8,6))\n",
    "plt.plot(mavg_100_days, \"r\")\n",
    "plt.plot(mavg_200_days, \"b\")\n",
    "plt.plot(google_stock_data_pd.Close, \"g\")\n",
    "plt.show()"
   ]
  },
  {
   "cell_type": "markdown",
   "id": "6ffd4a53-b804-4bd0-8edb-8d2fe769d84d",
   "metadata": {},
   "source": [
    "## Clean NAs from Stock Data\n",
    "\n",
    "Double check how to find number of NAs"
   ]
  },
  {
   "cell_type": "code",
   "execution_count": 22,
   "id": "79ea643d-3436-461d-836d-5f96ba08348e",
   "metadata": {},
   "outputs": [],
   "source": [
    "google_stock_data_pd.dropna(inplace=True)"
   ]
  },
  {
   "cell_type": "markdown",
   "id": "f293a387-dd56-41a9-a815-4653322d937f",
   "metadata": {},
   "source": [
    "## Filter for Date & Close Price"
   ]
  },
  {
   "cell_type": "code",
   "execution_count": 23,
   "id": "8ebf237b-3bc9-4660-b28b-2dcf15826728",
   "metadata": {},
   "outputs": [],
   "source": [
    "google_stock_date_close_pd = google_stock_data_pd[[\"Date\", \"Close\"]]"
   ]
  },
  {
   "cell_type": "code",
   "execution_count": 24,
   "id": "3800ed91-222b-43fb-ac54-561275e1fd24",
   "metadata": {},
   "outputs": [
    {
     "data": {
      "text/html": [
       "<div>\n",
       "<style scoped>\n",
       "    .dataframe tbody tr th:only-of-type {\n",
       "        vertical-align: middle;\n",
       "    }\n",
       "\n",
       "    .dataframe tbody tr th {\n",
       "        vertical-align: top;\n",
       "    }\n",
       "\n",
       "    .dataframe thead th {\n",
       "        text-align: right;\n",
       "    }\n",
       "</style>\n",
       "<table border=\"1\" class=\"dataframe\">\n",
       "  <thead>\n",
       "    <tr style=\"text-align: right;\">\n",
       "      <th></th>\n",
       "      <th>Date</th>\n",
       "      <th>Close</th>\n",
       "    </tr>\n",
       "  </thead>\n",
       "  <tbody>\n",
       "    <tr>\n",
       "      <th>0</th>\n",
       "      <td>2004-08-19</td>\n",
       "      <td>49.982655</td>\n",
       "    </tr>\n",
       "    <tr>\n",
       "      <th>1</th>\n",
       "      <td>2004-08-20</td>\n",
       "      <td>53.952770</td>\n",
       "    </tr>\n",
       "    <tr>\n",
       "      <th>2</th>\n",
       "      <td>2004-08-23</td>\n",
       "      <td>54.495735</td>\n",
       "    </tr>\n",
       "    <tr>\n",
       "      <th>3</th>\n",
       "      <td>2004-08-24</td>\n",
       "      <td>52.239193</td>\n",
       "    </tr>\n",
       "    <tr>\n",
       "      <th>4</th>\n",
       "      <td>2004-08-25</td>\n",
       "      <td>52.802086</td>\n",
       "    </tr>\n",
       "    <tr>\n",
       "      <th>...</th>\n",
       "      <td>...</td>\n",
       "      <td>...</td>\n",
       "    </tr>\n",
       "    <tr>\n",
       "      <th>3927</th>\n",
       "      <td>2020-03-26</td>\n",
       "      <td>1161.750000</td>\n",
       "    </tr>\n",
       "    <tr>\n",
       "      <th>3928</th>\n",
       "      <td>2020-03-27</td>\n",
       "      <td>1110.709961</td>\n",
       "    </tr>\n",
       "    <tr>\n",
       "      <th>3929</th>\n",
       "      <td>2020-03-30</td>\n",
       "      <td>1146.819946</td>\n",
       "    </tr>\n",
       "    <tr>\n",
       "      <th>3930</th>\n",
       "      <td>2020-03-31</td>\n",
       "      <td>1162.810059</td>\n",
       "    </tr>\n",
       "    <tr>\n",
       "      <th>3931</th>\n",
       "      <td>2020-04-01</td>\n",
       "      <td>1105.619995</td>\n",
       "    </tr>\n",
       "  </tbody>\n",
       "</table>\n",
       "<p>3932 rows × 2 columns</p>\n",
       "</div>"
      ],
      "text/plain": [
       "            Date        Close\n",
       "0     2004-08-19    49.982655\n",
       "1     2004-08-20    53.952770\n",
       "2     2004-08-23    54.495735\n",
       "3     2004-08-24    52.239193\n",
       "4     2004-08-25    52.802086\n",
       "...          ...          ...\n",
       "3927  2020-03-26  1161.750000\n",
       "3928  2020-03-27  1110.709961\n",
       "3929  2020-03-30  1146.819946\n",
       "3930  2020-03-31  1162.810059\n",
       "3931  2020-04-01  1105.619995\n",
       "\n",
       "[3932 rows x 2 columns]"
      ]
     },
     "execution_count": 24,
     "metadata": {},
     "output_type": "execute_result"
    }
   ],
   "source": [
    "google_stock_date_close_pd"
   ]
  },
  {
   "cell_type": "markdown",
   "id": "386fd839-ea29-486c-b61a-df9c9ff7df66",
   "metadata": {},
   "source": [
    "## Plot Date as PD Date Type"
   ]
  },
  {
   "cell_type": "code",
   "execution_count": 25,
   "id": "abb81064-644c-4e64-97bb-ae26dd0bee4d",
   "metadata": {},
   "outputs": [
    {
     "name": "stderr",
     "output_type": "stream",
     "text": [
      "/tmp/ipykernel_21731/636717400.py:1: SettingWithCopyWarning: \n",
      "A value is trying to be set on a copy of a slice from a DataFrame.\n",
      "Try using .loc[row_indexer,col_indexer] = value instead\n",
      "\n",
      "See the caveats in the documentation: https://pandas.pydata.org/pandas-docs/stable/user_guide/indexing.html#returning-a-view-versus-a-copy\n",
      "  google_stock_date_close_pd[\"Date\"] = pd.to_datetime(google_stock_date_close_pd[\"Date\"])\n"
     ]
    },
    {
     "data": {
      "text/plain": [
       "[<matplotlib.lines.Line2D at 0x7f5d7db824f0>]"
      ]
     },
     "execution_count": 25,
     "metadata": {},
     "output_type": "execute_result"
    },
    {
     "data": {
      "image/png": "[encoded data removed]",
      "text/plain": [
       "<Figure size 640x480 with 1 Axes>"
      ]
     },
     "metadata": {},
     "output_type": "display_data"
    }
   ],
   "source": [
    "google_stock_date_close_pd[\"Date\"] = pd.to_datetime(google_stock_date_close_pd[\"Date\"])\n",
    "\n",
    "plt.plot(google_stock_date_close_pd[\"Date\"], google_stock_date_close_pd[\"Close\"])"
   ]
  },
  {
   "cell_type": "code",
   "execution_count": 26,
   "id": "b03316ab-7038-48f3-a68e-a81d476bfee9",
   "metadata": {},
   "outputs": [],
   "source": [
    "nifi_pipeline = DataPrepPipeline()"
   ]
  },
  {
   "cell_type": "code",
   "execution_count": 27,
   "id": "b11bb093-4b37-499e-bd26-c2b088bc6568",
   "metadata": {},
   "outputs": [],
   "source": [
    "# number of days we're tracking for the features with respect to the 8th day we're predicting\n",
    "# lookback = 7\n",
    "# NOTE: we analyze the moving average to the closing price, the better the MA Curve looks, that\n",
    "# one we can test training our model\n",
    "lookback = 100"
   ]
  },
  {
   "cell_type": "code",
   "execution_count": 28,
   "id": "48642062-f5db-4add-b10c-fd4743322d09",
   "metadata": {},
   "outputs": [
    {
     "name": "stderr",
     "output_type": "stream",
     "text": [
      "/tmp/ipykernel_21731/1392816455.py:22: PerformanceWarning: DataFrame is highly fragmented.  This is usually the result of calling `frame.insert` many times, which has poor performance.  Consider joining all columns at once using pd.concat(axis=1) instead.  To get a de-fragmented frame, use `newframe = frame.copy()`\n",
      "  stock_df[f\"Close(t-{i})\"] = stock_df[\"Close\"].shift(i)\n"
     ]
    }
   ],
   "source": [
    "google_stock_fets_labels_df = nifi_pipeline.prepare_df_for_lstm(google_stock_date_close_pd, n_steps=lookback)"
   ]
  },
  {
   "cell_type": "code",
   "execution_count": 29,
   "id": "f5a45da5-70ee-456c-96dd-c4050096d4a0",
   "metadata": {},
   "outputs": [
    {
     "data": {
      "text/html": [
       "<div>\n",
       "<style scoped>\n",
       "    .dataframe tbody tr th:only-of-type {\n",
       "        vertical-align: middle;\n",
       "    }\n",
       "\n",
       "    .dataframe tbody tr th {\n",
       "        vertical-align: top;\n",
       "    }\n",
       "\n",
       "    .dataframe thead th {\n",
       "        text-align: right;\n",
       "    }\n",
       "</style>\n",
       "<table border=\"1\" class=\"dataframe\">\n",
       "  <thead>\n",
       "    <tr style=\"text-align: right;\">\n",
       "      <th></th>\n",
       "      <th>Close</th>\n",
       "      <th>Close(t-1)</th>\n",
       "      <th>Close(t-2)</th>\n",
       "      <th>Close(t-3)</th>\n",
       "      <th>Close(t-4)</th>\n",
       "      <th>Close(t-5)</th>\n",
       "      <th>Close(t-6)</th>\n",
       "      <th>Close(t-7)</th>\n",
       "      <th>Close(t-8)</th>\n",
       "      <th>Close(t-9)</th>\n",
       "      <th>...</th>\n",
       "      <th>Close(t-91)</th>\n",
       "      <th>Close(t-92)</th>\n",
       "      <th>Close(t-93)</th>\n",
       "      <th>Close(t-94)</th>\n",
       "      <th>Close(t-95)</th>\n",
       "      <th>Close(t-96)</th>\n",
       "      <th>Close(t-97)</th>\n",
       "      <th>Close(t-98)</th>\n",
       "      <th>Close(t-99)</th>\n",
       "      <th>Close(t-100)</th>\n",
       "    </tr>\n",
       "    <tr>\n",
       "      <th>Date</th>\n",
       "      <th></th>\n",
       "      <th></th>\n",
       "      <th></th>\n",
       "      <th></th>\n",
       "      <th></th>\n",
       "      <th></th>\n",
       "      <th></th>\n",
       "      <th></th>\n",
       "      <th></th>\n",
       "      <th></th>\n",
       "      <th></th>\n",
       "      <th></th>\n",
       "      <th></th>\n",
       "      <th></th>\n",
       "      <th></th>\n",
       "      <th></th>\n",
       "      <th></th>\n",
       "      <th></th>\n",
       "      <th></th>\n",
       "      <th></th>\n",
       "      <th></th>\n",
       "    </tr>\n",
       "  </thead>\n",
       "  <tbody>\n",
       "    <tr>\n",
       "      <th>2005-01-11</th>\n",
       "      <td>96.408638</td>\n",
       "      <td>97.165802</td>\n",
       "      <td>96.563057</td>\n",
       "      <td>93.922951</td>\n",
       "      <td>96.393692</td>\n",
       "      <td>96.886841</td>\n",
       "      <td>100.976517</td>\n",
       "      <td>96.035034</td>\n",
       "      <td>98.431053</td>\n",
       "      <td>96.089828</td>\n",
       "      <td>...</td>\n",
       "      <td>49.937820</td>\n",
       "      <td>50.993862</td>\n",
       "      <td>50.814533</td>\n",
       "      <td>52.876804</td>\n",
       "      <td>53.753517</td>\n",
       "      <td>52.802086</td>\n",
       "      <td>52.239193</td>\n",
       "      <td>54.495735</td>\n",
       "      <td>53.952770</td>\n",
       "      <td>49.982655</td>\n",
       "    </tr>\n",
       "    <tr>\n",
       "      <th>2005-01-12</th>\n",
       "      <td>97.325203</td>\n",
       "      <td>96.408638</td>\n",
       "      <td>97.165802</td>\n",
       "      <td>96.563057</td>\n",
       "      <td>93.922951</td>\n",
       "      <td>96.393692</td>\n",
       "      <td>96.886841</td>\n",
       "      <td>100.976517</td>\n",
       "      <td>96.035034</td>\n",
       "      <td>98.431053</td>\n",
       "      <td>...</td>\n",
       "      <td>50.565468</td>\n",
       "      <td>49.937820</td>\n",
       "      <td>50.993862</td>\n",
       "      <td>50.814533</td>\n",
       "      <td>52.876804</td>\n",
       "      <td>53.753517</td>\n",
       "      <td>52.802086</td>\n",
       "      <td>52.239193</td>\n",
       "      <td>54.495735</td>\n",
       "      <td>53.952770</td>\n",
       "    </tr>\n",
       "    <tr>\n",
       "      <th>2005-01-13</th>\n",
       "      <td>97.300293</td>\n",
       "      <td>97.325203</td>\n",
       "      <td>96.408638</td>\n",
       "      <td>97.165802</td>\n",
       "      <td>96.563057</td>\n",
       "      <td>93.922951</td>\n",
       "      <td>96.393692</td>\n",
       "      <td>96.886841</td>\n",
       "      <td>100.976517</td>\n",
       "      <td>96.035034</td>\n",
       "      <td>...</td>\n",
       "      <td>49.818268</td>\n",
       "      <td>50.565468</td>\n",
       "      <td>49.937820</td>\n",
       "      <td>50.993862</td>\n",
       "      <td>50.814533</td>\n",
       "      <td>52.876804</td>\n",
       "      <td>53.753517</td>\n",
       "      <td>52.802086</td>\n",
       "      <td>52.239193</td>\n",
       "      <td>54.495735</td>\n",
       "    </tr>\n",
       "    <tr>\n",
       "      <th>2005-01-14</th>\n",
       "      <td>99.611633</td>\n",
       "      <td>97.300293</td>\n",
       "      <td>97.325203</td>\n",
       "      <td>96.408638</td>\n",
       "      <td>97.165802</td>\n",
       "      <td>96.563057</td>\n",
       "      <td>93.922951</td>\n",
       "      <td>96.393692</td>\n",
       "      <td>96.886841</td>\n",
       "      <td>100.976517</td>\n",
       "      <td>...</td>\n",
       "      <td>50.600338</td>\n",
       "      <td>49.818268</td>\n",
       "      <td>50.565468</td>\n",
       "      <td>49.937820</td>\n",
       "      <td>50.993862</td>\n",
       "      <td>50.814533</td>\n",
       "      <td>52.876804</td>\n",
       "      <td>53.753517</td>\n",
       "      <td>52.802086</td>\n",
       "      <td>52.239193</td>\n",
       "    </tr>\n",
       "    <tr>\n",
       "      <th>2005-01-18</th>\n",
       "      <td>101.569290</td>\n",
       "      <td>99.611633</td>\n",
       "      <td>97.300293</td>\n",
       "      <td>97.325203</td>\n",
       "      <td>96.408638</td>\n",
       "      <td>97.165802</td>\n",
       "      <td>96.563057</td>\n",
       "      <td>93.922951</td>\n",
       "      <td>96.393692</td>\n",
       "      <td>96.886841</td>\n",
       "      <td>...</td>\n",
       "      <td>50.958992</td>\n",
       "      <td>50.600338</td>\n",
       "      <td>49.818268</td>\n",
       "      <td>50.565468</td>\n",
       "      <td>49.937820</td>\n",
       "      <td>50.993862</td>\n",
       "      <td>50.814533</td>\n",
       "      <td>52.876804</td>\n",
       "      <td>53.753517</td>\n",
       "      <td>52.802086</td>\n",
       "    </tr>\n",
       "    <tr>\n",
       "      <th>...</th>\n",
       "      <td>...</td>\n",
       "      <td>...</td>\n",
       "      <td>...</td>\n",
       "      <td>...</td>\n",
       "      <td>...</td>\n",
       "      <td>...</td>\n",
       "      <td>...</td>\n",
       "      <td>...</td>\n",
       "      <td>...</td>\n",
       "      <td>...</td>\n",
       "      <td>...</td>\n",
       "      <td>...</td>\n",
       "      <td>...</td>\n",
       "      <td>...</td>\n",
       "      <td>...</td>\n",
       "      <td>...</td>\n",
       "      <td>...</td>\n",
       "      <td>...</td>\n",
       "      <td>...</td>\n",
       "      <td>...</td>\n",
       "      <td>...</td>\n",
       "    </tr>\n",
       "    <tr>\n",
       "      <th>2020-03-26</th>\n",
       "      <td>1161.750000</td>\n",
       "      <td>1102.489990</td>\n",
       "      <td>1134.459961</td>\n",
       "      <td>1056.619995</td>\n",
       "      <td>1072.319946</td>\n",
       "      <td>1115.290039</td>\n",
       "      <td>1096.800049</td>\n",
       "      <td>1119.800049</td>\n",
       "      <td>1084.329956</td>\n",
       "      <td>1219.729980</td>\n",
       "      <td>...</td>\n",
       "      <td>1298.000000</td>\n",
       "      <td>1298.800049</td>\n",
       "      <td>1299.189941</td>\n",
       "      <td>1311.369995</td>\n",
       "      <td>1308.859985</td>\n",
       "      <td>1291.800049</td>\n",
       "      <td>1292.030029</td>\n",
       "      <td>1291.369995</td>\n",
       "      <td>1273.739990</td>\n",
       "      <td>1260.109985</td>\n",
       "    </tr>\n",
       "    <tr>\n",
       "      <th>2020-03-27</th>\n",
       "      <td>1110.709961</td>\n",
       "      <td>1161.750000</td>\n",
       "      <td>1102.489990</td>\n",
       "      <td>1134.459961</td>\n",
       "      <td>1056.619995</td>\n",
       "      <td>1072.319946</td>\n",
       "      <td>1115.290039</td>\n",
       "      <td>1096.800049</td>\n",
       "      <td>1119.800049</td>\n",
       "      <td>1084.329956</td>\n",
       "      <td>...</td>\n",
       "      <td>1311.459961</td>\n",
       "      <td>1298.000000</td>\n",
       "      <td>1298.800049</td>\n",
       "      <td>1299.189941</td>\n",
       "      <td>1311.369995</td>\n",
       "      <td>1308.859985</td>\n",
       "      <td>1291.800049</td>\n",
       "      <td>1292.030029</td>\n",
       "      <td>1291.369995</td>\n",
       "      <td>1273.739990</td>\n",
       "    </tr>\n",
       "    <tr>\n",
       "      <th>2020-03-30</th>\n",
       "      <td>1146.819946</td>\n",
       "      <td>1110.709961</td>\n",
       "      <td>1161.750000</td>\n",
       "      <td>1102.489990</td>\n",
       "      <td>1134.459961</td>\n",
       "      <td>1056.619995</td>\n",
       "      <td>1072.319946</td>\n",
       "      <td>1115.290039</td>\n",
       "      <td>1096.800049</td>\n",
       "      <td>1119.800049</td>\n",
       "      <td>...</td>\n",
       "      <td>1334.869995</td>\n",
       "      <td>1311.459961</td>\n",
       "      <td>1298.000000</td>\n",
       "      <td>1298.800049</td>\n",
       "      <td>1299.189941</td>\n",
       "      <td>1311.369995</td>\n",
       "      <td>1308.859985</td>\n",
       "      <td>1291.800049</td>\n",
       "      <td>1292.030029</td>\n",
       "      <td>1291.369995</td>\n",
       "    </tr>\n",
       "    <tr>\n",
       "      <th>2020-03-31</th>\n",
       "      <td>1162.810059</td>\n",
       "      <td>1146.819946</td>\n",
       "      <td>1110.709961</td>\n",
       "      <td>1161.750000</td>\n",
       "      <td>1102.489990</td>\n",
       "      <td>1134.459961</td>\n",
       "      <td>1056.619995</td>\n",
       "      <td>1072.319946</td>\n",
       "      <td>1115.290039</td>\n",
       "      <td>1096.800049</td>\n",
       "      <td>...</td>\n",
       "      <td>1320.699951</td>\n",
       "      <td>1334.869995</td>\n",
       "      <td>1311.459961</td>\n",
       "      <td>1298.000000</td>\n",
       "      <td>1298.800049</td>\n",
       "      <td>1299.189941</td>\n",
       "      <td>1311.369995</td>\n",
       "      <td>1308.859985</td>\n",
       "      <td>1291.800049</td>\n",
       "      <td>1292.030029</td>\n",
       "    </tr>\n",
       "    <tr>\n",
       "      <th>2020-04-01</th>\n",
       "      <td>1105.619995</td>\n",
       "      <td>1162.810059</td>\n",
       "      <td>1146.819946</td>\n",
       "      <td>1110.709961</td>\n",
       "      <td>1161.750000</td>\n",
       "      <td>1102.489990</td>\n",
       "      <td>1134.459961</td>\n",
       "      <td>1056.619995</td>\n",
       "      <td>1072.319946</td>\n",
       "      <td>1115.290039</td>\n",
       "      <td>...</td>\n",
       "      <td>1315.459961</td>\n",
       "      <td>1320.699951</td>\n",
       "      <td>1334.869995</td>\n",
       "      <td>1311.459961</td>\n",
       "      <td>1298.000000</td>\n",
       "      <td>1298.800049</td>\n",
       "      <td>1299.189941</td>\n",
       "      <td>1311.369995</td>\n",
       "      <td>1308.859985</td>\n",
       "      <td>1291.800049</td>\n",
       "    </tr>\n",
       "  </tbody>\n",
       "</table>\n",
       "<p>3832 rows × 101 columns</p>\n",
       "</div>"
      ],
      "text/plain": [
       "                  Close   Close(t-1)   Close(t-2)   Close(t-3)   Close(t-4)  \\\n",
       "Date                                                                          \n",
       "2005-01-11    96.408638    97.165802    96.563057    93.922951    96.393692   \n",
       "2005-01-12    97.325203    96.408638    97.165802    96.563057    93.922951   \n",
       "2005-01-13    97.300293    97.325203    96.408638    97.165802    96.563057   \n",
       "2005-01-14    99.611633    97.300293    97.325203    96.408638    97.165802   \n",
       "2005-01-18   101.569290    99.611633    97.300293    97.325203    96.408638   \n",
       "...                 ...          ...          ...          ...          ...   \n",
       "2020-03-26  1161.750000  1102.489990  1134.459961  1056.619995  1072.319946   \n",
       "2020-03-27  1110.709961  1161.750000  1102.489990  1134.459961  1056.619995   \n",
       "2020-03-30  1146.819946  1110.709961  1161.750000  1102.489990  1134.459961   \n",
       "2020-03-31  1162.810059  1146.819946  1110.709961  1161.750000  1102.489990   \n",
       "2020-04-01  1105.619995  1162.810059  1146.819946  1110.709961  1161.750000   \n",
       "\n",
       "             Close(t-5)   Close(t-6)   Close(t-7)   Close(t-8)   Close(t-9)  \\\n",
       "Date                                                                          \n",
       "2005-01-11    96.886841   100.976517    96.035034    98.431053    96.089828   \n",
       "2005-01-12    96.393692    96.886841   100.976517    96.035034    98.431053   \n",
       "2005-01-13    93.922951    96.393692    96.886841   100.976517    96.035034   \n",
       "2005-01-14    96.563057    93.922951    96.393692    96.886841   100.976517   \n",
       "2005-01-18    97.165802    96.563057    93.922951    96.393692    96.886841   \n",
       "...                 ...          ...          ...          ...          ...   \n",
       "2020-03-26  1115.290039  1096.800049  1119.800049  1084.329956  1219.729980   \n",
       "2020-03-27  1072.319946  1115.290039  1096.800049  1119.800049  1084.329956   \n",
       "2020-03-30  1056.619995  1072.319946  1115.290039  1096.800049  1119.800049   \n",
       "2020-03-31  1134.459961  1056.619995  1072.319946  1115.290039  1096.800049   \n",
       "2020-04-01  1102.489990  1134.459961  1056.619995  1072.319946  1115.290039   \n",
       "\n",
       "            ...  Close(t-91)  Close(t-92)  Close(t-93)  Close(t-94)  \\\n",
       "Date        ...                                                       \n",
       "2005-01-11  ...    49.937820    50.993862    50.814533    52.876804   \n",
       "2005-01-12  ...    50.565468    49.937820    50.993862    50.814533   \n",
       "2005-01-13  ...    49.818268    50.565468    49.937820    50.993862   \n",
       "2005-01-14  ...    50.600338    49.818268    50.565468    49.937820   \n",
       "2005-01-18  ...    50.958992    50.600338    49.818268    50.565468   \n",
       "...         ...          ...          ...          ...          ...   \n",
       "2020-03-26  ...  1298.000000  1298.800049  1299.189941  1311.369995   \n",
       "2020-03-27  ...  1311.459961  1298.000000  1298.800049  1299.189941   \n",
       "2020-03-30  ...  1334.869995  1311.459961  1298.000000  1298.800049   \n",
       "2020-03-31  ...  1320.699951  1334.869995  1311.459961  1298.000000   \n",
       "2020-04-01  ...  1315.459961  1320.699951  1334.869995  1311.459961   \n",
       "\n",
       "            Close(t-95)  Close(t-96)  Close(t-97)  Close(t-98)  Close(t-99)  \\\n",
       "Date                                                                          \n",
       "2005-01-11    53.753517    52.802086    52.239193    54.495735    53.952770   \n",
       "2005-01-12    52.876804    53.753517    52.802086    52.239193    54.495735   \n",
       "2005-01-13    50.814533    52.876804    53.753517    52.802086    52.239193   \n",
       "2005-01-14    50.993862    50.814533    52.876804    53.753517    52.802086   \n",
       "2005-01-18    49.937820    50.993862    50.814533    52.876804    53.753517   \n",
       "...                 ...          ...          ...          ...          ...   \n",
       "2020-03-26  1308.859985  1291.800049  1292.030029  1291.369995  1273.739990   \n",
       "2020-03-27  1311.369995  1308.859985  1291.800049  1292.030029  1291.369995   \n",
       "2020-03-30  1299.189941  1311.369995  1308.859985  1291.800049  1292.030029   \n",
       "2020-03-31  1298.800049  1299.189941  1311.369995  1308.859985  1291.800049   \n",
       "2020-04-01  1298.000000  1298.800049  1299.189941  1311.369995  1308.859985   \n",
       "\n",
       "            Close(t-100)  \n",
       "Date                      \n",
       "2005-01-11     49.982655  \n",
       "2005-01-12     53.952770  \n",
       "2005-01-13     54.495735  \n",
       "2005-01-14     52.239193  \n",
       "2005-01-18     52.802086  \n",
       "...                  ...  \n",
       "2020-03-26   1260.109985  \n",
       "2020-03-27   1273.739990  \n",
       "2020-03-30   1291.369995  \n",
       "2020-03-31   1292.030029  \n",
       "2020-04-01   1291.800049  \n",
       "\n",
       "[3832 rows x 101 columns]"
      ]
     },
     "execution_count": 29,
     "metadata": {},
     "output_type": "execute_result"
    }
   ],
   "source": [
    "google_stock_fets_labels_df"
   ]
  },
  {
   "cell_type": "code",
   "execution_count": 30,
   "id": "c2c14537-e1e5-4169-af47-33e9b30745b9",
   "metadata": {},
   "outputs": [
    {
     "data": {
      "text/plain": [
       "DatetimeIndex(['2005-01-11', '2005-01-12', '2005-01-13', '2005-01-14',\n",
       "               '2005-01-18', '2005-01-19', '2005-01-20', '2005-01-21',\n",
       "               '2005-01-24', '2005-01-25',\n",
       "               ...\n",
       "               '2020-03-19', '2020-03-20', '2020-03-23', '2020-03-24',\n",
       "               '2020-03-25', '2020-03-26', '2020-03-27', '2020-03-30',\n",
       "               '2020-03-31', '2020-04-01'],\n",
       "              dtype='datetime64[ns]', name='Date', length=3832, freq=None)"
      ]
     },
     "execution_count": 30,
     "metadata": {},
     "output_type": "execute_result"
    }
   ],
   "source": [
    "google_stock_fets_labels_df.index"
   ]
  },
  {
   "cell_type": "markdown",
   "id": "114a9cb8-32fa-43c6-896a-d2804da5d755",
   "metadata": {},
   "source": [
    "## Scale Features On (-1, 1) via MinMaxScaler\n",
    "\n",
    "Scale training data between 0 and 1"
   ]
  },
  {
   "cell_type": "code",
   "execution_count": 31,
   "id": "afee6837-9e5d-4c2a-b3b3-b73895d1edf0",
   "metadata": {},
   "outputs": [],
   "source": [
    "scaler = MinMaxScaler(feature_range=(0,1))"
   ]
  },
  {
   "cell_type": "code",
   "execution_count": 32,
   "id": "01553201-0e38-4edf-a8a9-8840e10f9ed5",
   "metadata": {},
   "outputs": [],
   "source": [
    "google_stock_fets_labels_df_scale = scaler.fit_transform(google_stock_fets_labels_df)"
   ]
  },
  {
   "cell_type": "code",
   "execution_count": 33,
   "id": "75b9b608-1c7e-4069-9a14-a99fa62f3747",
   "metadata": {},
   "outputs": [
    {
     "data": {
      "text/plain": [
       "array([[6.41905175e-03, 6.94503480e-03, 6.52632276e-03, ...,\n",
       "        3.70770952e-03, 3.28384862e-03, 1.32333918e-04],\n",
       "       [7.05576668e-03, 6.41905175e-03, 6.94503480e-03, ...,\n",
       "        1.91900585e-03, 3.71510116e-03, 3.32833945e-03],\n",
       "       [7.03846234e-03, 7.05576668e-03, 6.41905175e-03, ...,\n",
       "        2.36519676e-03, 1.92283155e-03, 3.76543476e-03],\n",
       "       ...,\n",
       "       [7.36113736e-01, 7.11029025e-01, 7.46485274e-01, ...,\n",
       "        9.84487401e-01, 9.86632726e-01, 9.99468662e-01],\n",
       "       [7.47221670e-01, 7.36113736e-01, 7.11029025e-01, ...,\n",
       "        9.98010379e-01, 9.86450063e-01, 1.00000000e+00],\n",
       "       [7.07493152e-01, 7.47221670e-01, 7.36113736e-01, ...,\n",
       "        1.00000000e+00, 1.00000000e+00, 9.99814862e-01]])"
      ]
     },
     "execution_count": 33,
     "metadata": {},
     "output_type": "execute_result"
    }
   ],
   "source": [
    "google_stock_fets_labels_df_scale"
   ]
  },
  {
   "cell_type": "code",
   "execution_count": 34,
   "id": "233c3958-4742-48ff-8dda-febfdb3fab5e",
   "metadata": {},
   "outputs": [
    {
     "name": "stdout",
     "output_type": "stream",
     "text": [
      "x_features shape = (3832, 100); y_labels shape = (3832,)\n"
     ]
    }
   ],
   "source": [
    "x_stock_fets_list, y_stock_labels_list = nifi_pipeline.split_features_labels(google_stock_fets_labels_df_scale)"
   ]
  },
  {
   "cell_type": "markdown",
   "id": "564ceeca-0edb-4fe8-a588-30ae03950fa7",
   "metadata": {},
   "source": [
    "## Split Stock 60% for Train, 20% for Valid & 20% for Test"
   ]
  },
  {
   "cell_type": "code",
   "execution_count": 35,
   "id": "a52ef44c-07d3-411f-8d14-c9903ab185cf",
   "metadata": {},
   "outputs": [],
   "source": [
    "train_ratio = 0.60\n",
    "valid_ratio = 0.20 + train_ratio # 0.80\n",
    "test_ratio = 0.20"
   ]
  },
  {
   "cell_type": "code",
   "execution_count": 36,
   "id": "526ca269-a5d8-47c7-8109-96f5d4f4f620",
   "metadata": {},
   "outputs": [
    {
     "data": {
      "text/plain": [
       "2299"
      ]
     },
     "execution_count": 36,
     "metadata": {},
     "output_type": "execute_result"
    }
   ],
   "source": [
    "train_split_index = int(len(x_stock_fets_list) * train_ratio)\n",
    "train_split_index"
   ]
  },
  {
   "cell_type": "code",
   "execution_count": 37,
   "id": "f97c7a02-0e13-484e-8413-37fc374c738f",
   "metadata": {},
   "outputs": [
    {
     "data": {
      "text/plain": [
       "3065"
      ]
     },
     "execution_count": 37,
     "metadata": {},
     "output_type": "execute_result"
    }
   ],
   "source": [
    "valid_split_index = int(len(x_stock_fets_list)*valid_ratio)\n",
    "valid_split_index"
   ]
  },
  {
   "cell_type": "code",
   "execution_count": 38,
   "id": "92752c5c-d3a3-46a7-96ed-58a2fd50881d",
   "metadata": {},
   "outputs": [
    {
     "data": {
      "text/plain": [
       "3832"
      ]
     },
     "execution_count": 38,
     "metadata": {},
     "output_type": "execute_result"
    }
   ],
   "source": [
    "test_split_index = len(x_stock_fets_list)\n",
    "test_split_index"
   ]
  },
  {
   "cell_type": "code",
   "execution_count": 39,
   "id": "22d5de8f-6b96-4303-aff0-168255fbe153",
   "metadata": {},
   "outputs": [],
   "source": [
    "# 60% for training features: 0 to 60%\n",
    "X_google_stock_train = x_stock_fets_list[0: train_split_index]\n",
    "\n",
    "# 20% for validation features: 60% to 80%\n",
    "X_google_stock_valid = x_stock_fets_list[train_split_index: valid_split_index]\n",
    "\n",
    "# 20% for testing features\n",
    "X_google_stock_test = x_stock_fets_list[valid_split_index: test_split_index]\n",
    "\n",
    "\n",
    "y_google_stock_train = y_stock_labels_list[0: train_split_index]\n",
    "\n",
    "y_google_stock_valid = y_stock_labels_list[train_split_index: valid_split_index]\n",
    "\n",
    "y_google_stock_test = y_stock_labels_list[valid_split_index: test_split_index]"
   ]
  },
  {
   "cell_type": "code",
   "execution_count": 40,
   "id": "c637c5e1-2807-47e0-8698-cb46d4d58e05",
   "metadata": {},
   "outputs": [],
   "source": [
    "Date_google_stock_train = google_stock_fets_labels_df.index[0: train_split_index]\n",
    "Date_google_stock_valid = google_stock_fets_labels_df.index[train_split_index: valid_split_index]\n",
    "Date_google_stock_test = google_stock_fets_labels_df.index[valid_split_index: test_split_index]"
   ]
  },
  {
   "cell_type": "code",
   "execution_count": 41,
   "id": "7dbefa16-0f4a-4c64-80dc-0207adddf9e7",
   "metadata": {},
   "outputs": [
    {
     "name": "stdout",
     "output_type": "stream",
     "text": [
      "stock_train X shape = (2299, 100); stock_train y shape =  (2299,)\n"
     ]
    }
   ],
   "source": [
    "# We dont see 100 since back at google_stock_train, we havent yet split features from labels\n",
    "print(f\"stock_train X shape = {X_google_stock_train.shape}; stock_train y shape =  {y_google_stock_train.shape}\")"
   ]
  },
  {
   "cell_type": "code",
   "execution_count": 42,
   "id": "d357fd82-567d-41f5-a7d6-c7187c889d8a",
   "metadata": {},
   "outputs": [
    {
     "name": "stdout",
     "output_type": "stream",
     "text": [
      "stock_valid X shape = (766, 100); stock_valid y shape =  (766,)\n"
     ]
    }
   ],
   "source": [
    "print(f\"stock_valid X shape = {X_google_stock_valid.shape}; stock_valid y shape =  {y_google_stock_valid.shape}\")"
   ]
  },
  {
   "cell_type": "code",
   "execution_count": 43,
   "id": "844aa47a-fbae-4f81-bcb0-c6f278e44bd0",
   "metadata": {},
   "outputs": [
    {
     "name": "stdout",
     "output_type": "stream",
     "text": [
      "stock_test X shape = (767, 100); stock_test y shape =  (767,)\n"
     ]
    }
   ],
   "source": [
    "print(f\"stock_test X shape = {X_google_stock_test.shape}; stock_test y shape =  {y_google_stock_test.shape}\")"
   ]
  },
  {
   "cell_type": "code",
   "execution_count": 44,
   "id": "fa7012b6-383b-4112-a187-976c34b3285d",
   "metadata": {},
   "outputs": [
    {
     "name": "stdout",
     "output_type": "stream",
     "text": [
      "stock_test_Date shape = (767,)\n"
     ]
    }
   ],
   "source": [
    "print(f\"stock_test_Date shape = {Date_google_stock_test.shape}\")"
   ]
  },
  {
   "cell_type": "code",
   "execution_count": null,
   "id": "5d9bbdcf-36c0-425e-a831-9481fbfa92aa",
   "metadata": {
    "scrolled": true
   },
   "outputs": [],
   "source": [
    "X_google_stock_test[:5]"
   ]
  },
  {
   "cell_type": "code",
   "execution_count": 46,
   "id": "30ff6ac4-5ba4-4f66-baf3-5d5cee59dffd",
   "metadata": {},
   "outputs": [
    {
     "name": "stdout",
     "output_type": "stream",
     "text": [
      "len(x_stock_fets_list) = 3832\n",
      "total google stock on splits = 3832\n"
     ]
    }
   ],
   "source": [
    "print(f\"len(x_stock_fets_list) = {len(x_stock_fets_list)}\")\n",
    "print(f\"total google stock on splits = {X_google_stock_train.shape[0] + X_google_stock_valid.shape[0] + X_google_stock_test.shape[0]}\")"
   ]
  },
  {
   "cell_type": "markdown",
   "id": "b4f6cec6-fad3-4ece-9023-50f25721b597",
   "metadata": {},
   "source": [
    "## Add Extra Dimension for LSTM Prep\n",
    "\n",
    "Add an extra dimension to X stock training, validation and testing sets accounting for lookback.\n",
    "Add an extra dimension to y stock training, validation and testing sets."
   ]
  },
  {
   "cell_type": "code",
   "execution_count": 47,
   "id": "b3efd5fb-82d8-4eb9-800a-31da6a8806b5",
   "metadata": {},
   "outputs": [],
   "source": [
    "X_google_stock_train = X_google_stock_train.reshape( (-1, lookback, 1) )\n",
    "X_google_stock_valid = X_google_stock_valid.reshape( (-1, lookback, 1) )\n",
    "X_google_stock_test = X_google_stock_test.reshape( (-1, lookback, 1) )\n",
    "\n",
    "y_google_stock_train = y_google_stock_train.reshape( (-1, 1) )\n",
    "y_google_stock_valid = y_google_stock_valid.reshape( (-1, 1) )\n",
    "y_google_stock_test = y_google_stock_test.reshape( (-1, 1) )"
   ]
  },
  {
   "cell_type": "code",
   "execution_count": 48,
   "id": "93691edd-1fd4-4305-ade5-e459c35fd0f7",
   "metadata": {},
   "outputs": [
    {
     "name": "stdout",
     "output_type": "stream",
     "text": [
      "stock_train X shape = (2299, 100, 1); stock_train y shape =  (2299, 1)\n",
      "stock_valid X shape = (766, 100, 1); stock_valid y shape =  (766, 1)\n",
      "stock_test X shape = (767, 100, 1); stock_test y shape =  (767, 1)\n"
     ]
    }
   ],
   "source": [
    "print(f\"stock_train X shape = {X_google_stock_train.shape}; stock_train y shape =  {y_google_stock_train.shape}\")\n",
    "print(f\"stock_valid X shape = {X_google_stock_valid.shape}; stock_valid y shape =  {y_google_stock_valid.shape}\")\n",
    "print(f\"stock_test X shape = {X_google_stock_test.shape}; stock_test y shape =  {y_google_stock_test.shape}\")"
   ]
  },
  {
   "cell_type": "markdown",
   "id": "a4a5452c-1aa4-4821-a8fb-398f2e069ef2",
   "metadata": {},
   "source": [
    "## Create PyTorch Nasdaq Dataset (Train, Valid, Test)"
   ]
  },
  {
   "cell_type": "code",
   "execution_count": 49,
   "id": "f79eb6f7-27a4-4bb4-b35f-6e62f5eeaa36",
   "metadata": {},
   "outputs": [],
   "source": [
    "class NasdaqTimeSeriesDataset(torch.utils.data.Dataset):\n",
    "    def __init__(self, stock_close_price_fets, stock_close_price_labels):\n",
    "        self.stock_close_price_fets_ = stock_close_price_fets\n",
    "        self.stock_close_price_labels_ = stock_close_price_labels\n",
    "        self.count_ = 0\n",
    "\n",
    "    def __len__(self):\n",
    "        return len(self.stock_close_price_fets_)\n",
    "\n",
    "    def __getitem__(self, idx):\n",
    "        if DEBUG and self.count_ == 0:\n",
    "            print(f\"NasdaqDataset __getitem__ idx = {idx}\")\n",
    "        # each array holds 100 days of closing prices\n",
    "        closing_price_features = self.stock_close_price_fets_[idx]\n",
    "        closing_price_features_tensor = torch.tensor(closing_price_features).float()\n",
    "\n",
    "        if DEBUG and self.count_ == 0:\n",
    "            print(f\"closing_price_features_tensor.shape = {closing_price_features_tensor.shape}\")\n",
    "        \n",
    "        closing_price_labels = self.stock_close_price_labels_[idx]\n",
    "        closing_price_labels_tensor = torch.tensor(closing_price_labels).float()\n",
    "\n",
    "        if DEBUG and self.count_ == 0:\n",
    "            print(f\"closing_price_labels_tensor.shape = {closing_price_labels_tensor.shape}\")\n",
    "\n",
    "        self.count_ += 1\n",
    "        \n",
    "        return closing_price_features_tensor, closing_price_labels_tensor"
   ]
  },
  {
   "cell_type": "code",
   "execution_count": 50,
   "id": "a1fc880d-07ea-4e46-b29f-905f58b275a5",
   "metadata": {},
   "outputs": [],
   "source": [
    "stock_train_dataset = NasdaqTimeSeriesDataset(X_google_stock_train, y_google_stock_train)"
   ]
  },
  {
   "cell_type": "code",
   "execution_count": 51,
   "id": "fa8e5d75-9b36-42af-a1b9-297b5d821af4",
   "metadata": {},
   "outputs": [],
   "source": [
    "stock_valid_dataset = NasdaqTimeSeriesDataset(X_google_stock_valid, y_google_stock_valid)"
   ]
  },
  {
   "cell_type": "code",
   "execution_count": 52,
   "id": "94a50dbf-3470-4072-b944-29374d9272a8",
   "metadata": {},
   "outputs": [],
   "source": [
    "stock_test_dataset = NasdaqTimeSeriesDataset(X_google_stock_test, y_google_stock_test)"
   ]
  },
  {
   "cell_type": "markdown",
   "id": "281d2cc6-81ab-4ad0-a7f6-840cbbf01499",
   "metadata": {},
   "source": [
    "## Create PyTorch Nasdaq DataLoader (Train, Valid, Test)"
   ]
  },
  {
   "cell_type": "code",
   "execution_count": 53,
   "id": "08de933f-2133-4dd6-8184-3b8f585deb03",
   "metadata": {},
   "outputs": [],
   "source": [
    "stock_train_loader = DataLoader(stock_train_dataset, batch_size = BATCH_SIZE, shuffle=True)"
   ]
  },
  {
   "cell_type": "code",
   "execution_count": 54,
   "id": "7bbfb686-b264-43b8-bf03-6fd910c956b6",
   "metadata": {},
   "outputs": [],
   "source": [
    "stock_valid_loader = DataLoader(stock_valid_dataset, batch_size = TEST_BATCH_SIZE, shuffle=False)"
   ]
  },
  {
   "cell_type": "code",
   "execution_count": 55,
   "id": "5dd3796c-c345-44f1-a492-7687944c5e8d",
   "metadata": {},
   "outputs": [],
   "source": [
    "stock_test_loader = DataLoader(stock_test_dataset, batch_size = TEST_BATCH_SIZE, shuffle=False)"
   ]
  },
  {
   "cell_type": "code",
   "execution_count": 56,
   "id": "2f864be6-7db5-45b0-9d98-b7dd5f7f98d0",
   "metadata": {},
   "outputs": [],
   "source": [
    "pytorch_pipeline = PyTorchPipeline()"
   ]
  },
  {
   "cell_type": "code",
   "execution_count": 57,
   "id": "5212e0ca-0796-40ac-91a0-7c722c77703f",
   "metadata": {},
   "outputs": [
    {
     "name": "stdout",
     "output_type": "stream",
     "text": [
      "NasdaqDataset __getitem__ idx = 1250\n",
      "closing_price_features_tensor.shape = torch.Size([100, 1])\n",
      "closing_price_labels_tensor.shape = torch.Size([1])\n",
      "close price features shape: torch.Size([16, 100, 1]); close price labels shape: torch.Size([16, 1])\n"
     ]
    }
   ],
   "source": [
    "pytorch_pipeline.test_dataloader_sample(stock_train_loader)"
   ]
  },
  {
   "cell_type": "markdown",
   "id": "80ac7f7e-f077-4ad9-bb3d-215036e5f880",
   "metadata": {},
   "source": [
    "## Create a PyTorch LSTM Model\n",
    "\n",
    "Based on our \"x\" and \"y\" training data, we'll create a ML model and then train it"
   ]
  },
  {
   "cell_type": "code",
   "execution_count": 58,
   "id": "5891bce3-9619-415c-8c10-852bc68a964d",
   "metadata": {},
   "outputs": [],
   "source": [
    "# Use nn.LSTM, nn.Linear, nn.ReLU, nn.Dropout"
   ]
  },
  {
   "cell_type": "code",
   "execution_count": 59,
   "id": "ef0e7b82-a2e1-4f47-b6e5-622ca196de97",
   "metadata": {},
   "outputs": [],
   "source": [
    "# BEST Results so far with regards to MSE, RMSE, etc\n",
    "class StockClosePriceLSTM(nn.Module):\n",
    "    def __init__(self, input_size, hidden_size=10, num_stacked_layers=1, dropout_ratio=0.2):\n",
    "        super(StockClosePriceLSTM, self).__init__()\n",
    "        self.hidden_size = hidden_size\n",
    "        self.num_stacked_layers = num_stacked_layers\n",
    "        self.lstm = nn.LSTM(input_size, hidden_size, num_stacked_layers, batch_first=True, \n",
    "                            dropout=dropout_ratio, bias=True)\n",
    "\n",
    "        self.fc = nn.Linear(hidden_size, 1)\n",
    "        # self.dropout1 = nn.Dropout(0.2)\n",
    "        # self.relu = nn.ReLU()\n",
    "\n",
    "        self.count_ = 0\n",
    "\n",
    "    def forward(self, closing_price_2d_features):\n",
    "        # closing price 2D features: row by col, each row has 100 samples since 100 days of closing prices, \n",
    "        # trying to pred final closing price\n",
    "        if DEBUG and self.count_ == 0:\n",
    "            print(f\"type(closing_price_2d_features) = {type(closing_price_2d_features)}\")\n",
    "        batch_size = closing_price_2d_features.size(0)\n",
    "        if DEBUG and self.count_ == 0:\n",
    "            print(f\"closing_price_2d_features batch_size = {batch_size}\")\n",
    "        h0 = torch.zeros(self.num_stacked_layers, batch_size, self.hidden_size).to(device)\n",
    "        c0 = torch.zeros(self.num_stacked_layers, batch_size, self.hidden_size).to(device)\n",
    "        \n",
    "        lstm_features, lstm_hidden = self.lstm(closing_price_2d_features, (h0, c0))\n",
    "        # decode hidden state of the last time step\n",
    "        lstm_features = lstm_features[:, -1, :]\n",
    "        if DEBUG and self.count_ == 0:\n",
    "            print(f\"type(lstm_features) = {type(lstm_features)}\")\n",
    "        stock_price_pred = self.fc(lstm_features)\n",
    "\n",
    "        self.count_ += 1\n",
    "        return stock_price_pred"
   ]
  },
  {
   "cell_type": "code",
   "execution_count": 60,
   "id": "98d423cd-bc29-4d0b-a6ad-67bc873c10a3",
   "metadata": {},
   "outputs": [],
   "source": [
    "# NOTE: Not so great results when trying multiple LSTM layers with varying hidden features\n",
    "class StockPriceLSTMV2(nn.Module):\n",
    "    def __init__(self, input_size, hidden_sizes=[10, 20, 30, 40, 50], num_stacked_layers=5, dropout_ratio=0.3, num_classes=1):\n",
    "        super(StockPriceLSTMV2, self).__init__()\n",
    "        self.hidden_sizes = hidden_sizes\n",
    "        self.num_stacked_layers = num_stacked_layers\n",
    "\n",
    "        self.lstm_list = nn.ModuleList([\n",
    "            nn.LSTM(input_size, self.hidden_sizes[0], \n",
    "                    batch_first=True, dropout=dropout_ratio, bias=True)\n",
    "        ])\n",
    "\n",
    "        for i in range(1, self.num_stacked_layers):\n",
    "            if i < self.num_stacked_layers-1:\n",
    "                print(f\"Not on last LSTM layer {i}, adding dropout = {dropout_ratio}\")\n",
    "                self.lstm_list.append( nn.LSTM(self.hidden_sizes[i-1], self.hidden_sizes[i], \n",
    "                                              batch_first=True, dropout=dropout_ratio, bias=True) )\n",
    "            else:\n",
    "                print(f\"On last LSTM layer {i}, ignoring dropout = {dropout_ratio}\")\n",
    "                self.lstm_list.append( nn.LSTM(self.hidden_sizes[i-1], self.hidden_sizes[i], \n",
    "                                              batch_first=True, bias=True) )\n",
    "        \n",
    "        # self.lstm_list.extend([\n",
    "        #     nn.LSTM(self.hidden_sizes[i-1], self.hidden_sizes[i], batch_first=True, dropout=dropout_ratio, bias=True)\n",
    "        #         for i in range(1, self.num_stacked_layers)\n",
    "        # ])\n",
    "\n",
    "        self.fc = nn.Linear(self.hidden_sizes[-1], num_classes)\n",
    "        self.count_ = 0\n",
    "\n",
    "    def forward(self, stock_price_features):\n",
    "        if DEBUG and self.count_ == 0:\n",
    "            print(f\"type(stock_price_features) = {type(stock_price_features)}\")\n",
    "        batch_size = stock_price_features.size(0)\n",
    "        if DEBUG and self.count_ == 0:\n",
    "            print(f\"stock_price_features batch_size = {batch_size}\")\n",
    "\n",
    "        hiddens = [torch.zeros(batch_size, hidden_size).to(stock_price_features.device)\n",
    "                       for hidden_size in self.hidden_sizes]\n",
    "\n",
    "        for i in range(self.num_stacked_layers):\n",
    "            stock_price_features, (hiddens[i], _) = self.lstm_list[i](stock_price_features, (\n",
    "                hiddens[i].unsqueeze(0), hiddens[i].unsqueeze(0)\n",
    "            ) )\n",
    "        \n",
    "        stock_price_features = stock_price_features[:, -1, :]\n",
    "        if DEBUG and self.count_ == 0:\n",
    "            print(f\"type(stock_price_features) = {type(stock_price_features)}\")\n",
    "        stock_price_pred = self.fc(stock_price_features)\n",
    "\n",
    "        self.count_ += 1\n",
    "        return stock_price_pred"
   ]
  },
  {
   "cell_type": "code",
   "execution_count": 61,
   "id": "1b4cc8ad-321e-4ff0-9b75-9699df46cf17",
   "metadata": {},
   "outputs": [
    {
     "name": "stderr",
     "output_type": "stream",
     "text": [
      "/home/james/miniconda3/envs/stroke_ai_torch/lib/python3.9/site-packages/torch/nn/modules/rnn.py:71: UserWarning: dropout option adds dropout after all but last recurrent layer, so non-zero dropout expects num_layers greater than 1, but got dropout=0.3 and num_layers=1\n",
      "  warnings.warn(\"dropout option adds dropout after all but last \"\n"
     ]
    }
   ],
   "source": [
    "lstm_model = StockClosePriceLSTM(input_size=1, hidden_size=10, num_stacked_layers=1, dropout_ratio=0.3)\n",
    "# for some reason the following 3 args werent being picked up by our following StockClosePriceLSTMV2 model, but we\n",
    "# have default args\n",
    "# hidden_sizes=[10, 20, 30, 40, 50]\n",
    "# dropout_ratio=0.3\n",
    "# num_classes=1\n",
    "# lstm_model = StockPriceLSTMV2(input_size=1, hidden_sizes=[50, 60, 80, 120], \n",
    "#                               num_stacked_layers=4, dropout_ratio=0.3, num_classes=1)"
   ]
  },
  {
   "cell_type": "code",
   "execution_count": 62,
   "id": "08381c24-fbf0-46cd-9e4d-6347ee086108",
   "metadata": {},
   "outputs": [
    {
     "data": {
      "text/plain": [
       "StockClosePriceLSTM(\n",
       "  (lstm): LSTM(1, 10, batch_first=True, dropout=0.3)\n",
       "  (fc): Linear(in_features=10, out_features=1, bias=True)\n",
       ")"
      ]
     },
     "execution_count": 62,
     "metadata": {},
     "output_type": "execute_result"
    }
   ],
   "source": [
    "lstm_model.to(device)"
   ]
  },
  {
   "cell_type": "code",
   "execution_count": 63,
   "id": "df5cb671-675c-4b3b-af30-1e3efaf55815",
   "metadata": {},
   "outputs": [],
   "source": [
    "mse_criterion = nn.MSELoss()"
   ]
  },
  {
   "cell_type": "code",
   "execution_count": 64,
   "id": "a01fbc6b-b1ca-4426-a2a1-c8ab498a6a58",
   "metadata": {},
   "outputs": [],
   "source": [
    "lstm_optimizer = optim.Adam(lstm_model.parameters(), lr=LEARNING_RATE)"
   ]
  },
  {
   "cell_type": "markdown",
   "id": "e2768af0-b5e4-4bf5-8883-d8f0eba19bab",
   "metadata": {},
   "source": [
    "## Train PyTorch LSTM Model using Pipeline"
   ]
  },
  {
   "cell_type": "code",
   "execution_count": 65,
   "id": "2bd2a78f-2a78-4038-80bb-4d7338096f01",
   "metadata": {},
   "outputs": [
    {
     "data": {
      "application/vnd.jupyter.widget-view+json": {
       "model_id": "5ef6d2901d244825a5127f5133791352",
       "version_major": 2,
       "version_minor": 0
      },
      "text/plain": [
       "  0%|          | 0/144 [00:00<?, ?it/s]"
      ]
     },
     "metadata": {},
     "output_type": "display_data"
    },
    {
     "name": "stdout",
     "output_type": "stream",
     "text": [
      "type(closing_price_2d_features) = <class 'torch.Tensor'>\n",
      "closing_price_2d_features batch_size = 16\n",
      "type(lstm_features) = <class 'torch.Tensor'>\n",
      "=> Saving Checkpoint\n"
     ]
    },
    {
     "data": {
      "application/vnd.jupyter.widget-view+json": {
       "model_id": "3cf34fcc343a4b18913ee0a55bf71f35",
       "version_major": 2,
       "version_minor": 0
      },
      "text/plain": [
       "  0%|          | 0/766 [00:00<?, ?it/s]"
      ]
     },
     "metadata": {},
     "output_type": "display_data"
    },
    {
     "name": "stdout",
     "output_type": "stream",
     "text": [
      "NasdaqDataset __getitem__ idx = 0\n",
      "closing_price_features_tensor.shape = torch.Size([100, 1])\n",
      "closing_price_labels_tensor.shape = torch.Size([1])\n"
     ]
    },
    {
     "data": {
      "application/vnd.jupyter.widget-view+json": {
       "model_id": "e074d1de7ef84ca5b421416c78f5d67b",
       "version_major": 2,
       "version_minor": 0
      },
      "text/plain": [
       "  0%|          | 0/144 [00:00<?, ?it/s]"
      ]
     },
     "metadata": {},
     "output_type": "display_data"
    },
    {
     "name": "stdout",
     "output_type": "stream",
     "text": [
      "=> Saving Checkpoint\n"
     ]
    },
    {
     "data": {
      "application/vnd.jupyter.widget-view+json": {
       "model_id": "50ff23fd5e61422a87a9369b3b95b6b0",
       "version_major": 2,
       "version_minor": 0
      },
      "text/plain": [
       "  0%|          | 0/766 [00:00<?, ?it/s]"
      ]
     },
     "metadata": {},
     "output_type": "display_data"
    },
    {
     "data": {
      "application/vnd.jupyter.widget-view+json": {
       "model_id": "80e93c2cd5e346efb441401c100da722",
       "version_major": 2,
       "version_minor": 0
      },
      "text/plain": [
       "  0%|          | 0/144 [00:00<?, ?it/s]"
      ]
     },
     "metadata": {},
     "output_type": "display_data"
    },
    {
     "name": "stdout",
     "output_type": "stream",
     "text": [
      "=> Saving Checkpoint\n"
     ]
    },
    {
     "data": {
      "application/vnd.jupyter.widget-view+json": {
       "model_id": "71b1da6bdcf143fe93c6688e36a77e36",
       "version_major": 2,
       "version_minor": 0
      },
      "text/plain": [
       "  0%|          | 0/766 [00:00<?, ?it/s]"
      ]
     },
     "metadata": {},
     "output_type": "display_data"
    },
    {
     "data": {
      "application/vnd.jupyter.widget-view+json": {
       "model_id": "64486862053f4b3bb9df331f81c7fb7e",
       "version_major": 2,
       "version_minor": 0
      },
      "text/plain": [
       "  0%|          | 0/144 [00:00<?, ?it/s]"
      ]
     },
     "metadata": {},
     "output_type": "display_data"
    },
    {
     "name": "stdout",
     "output_type": "stream",
     "text": [
      "=> Saving Checkpoint\n"
     ]
    },
    {
     "data": {
      "application/vnd.jupyter.widget-view+json": {
       "model_id": "09badc5aaa034397af8f63c07422f931",
       "version_major": 2,
       "version_minor": 0
      },
      "text/plain": [
       "  0%|          | 0/766 [00:00<?, ?it/s]"
      ]
     },
     "metadata": {},
     "output_type": "display_data"
    },
    {
     "data": {
      "application/vnd.jupyter.widget-view+json": {
       "model_id": "69b26fbbeaf8422291edd151726e7d1f",
       "version_major": 2,
       "version_minor": 0
      },
      "text/plain": [
       "  0%|          | 0/144 [00:00<?, ?it/s]"
      ]
     },
     "metadata": {},
     "output_type": "display_data"
    },
    {
     "name": "stdout",
     "output_type": "stream",
     "text": [
      "=> Saving Checkpoint\n"
     ]
    },
    {
     "data": {
      "application/vnd.jupyter.widget-view+json": {
       "model_id": "ab8314b26bde4611bbf6bad2fe58d785",
       "version_major": 2,
       "version_minor": 0
      },
      "text/plain": [
       "  0%|          | 0/766 [00:00<?, ?it/s]"
      ]
     },
     "metadata": {},
     "output_type": "display_data"
    },
    {
     "data": {
      "application/vnd.jupyter.widget-view+json": {
       "model_id": "27ef20f92a0a4139877be0126f821f67",
       "version_major": 2,
       "version_minor": 0
      },
      "text/plain": [
       "  0%|          | 0/144 [00:00<?, ?it/s]"
      ]
     },
     "metadata": {},
     "output_type": "display_data"
    },
    {
     "name": "stdout",
     "output_type": "stream",
     "text": [
      "=> Saving Checkpoint\n"
     ]
    },
    {
     "data": {
      "application/vnd.jupyter.widget-view+json": {
       "model_id": "7c56e09c5a4c429fb1b33159d9024a3b",
       "version_major": 2,
       "version_minor": 0
      },
      "text/plain": [
       "  0%|          | 0/766 [00:00<?, ?it/s]"
      ]
     },
     "metadata": {},
     "output_type": "display_data"
    },
    {
     "data": {
      "application/vnd.jupyter.widget-view+json": {
       "model_id": "964e67970f774e1ba4622832c2a91e4d",
       "version_major": 2,
       "version_minor": 0
      },
      "text/plain": [
       "  0%|          | 0/144 [00:00<?, ?it/s]"
      ]
     },
     "metadata": {},
     "output_type": "display_data"
    },
    {
     "name": "stdout",
     "output_type": "stream",
     "text": [
      "=> Saving Checkpoint\n"
     ]
    },
    {
     "data": {
      "application/vnd.jupyter.widget-view+json": {
       "model_id": "6d10e92a040941d886d3823cc363c402",
       "version_major": 2,
       "version_minor": 0
      },
      "text/plain": [
       "  0%|          | 0/766 [00:00<?, ?it/s]"
      ]
     },
     "metadata": {},
     "output_type": "display_data"
    },
    {
     "data": {
      "application/vnd.jupyter.widget-view+json": {
       "model_id": "c80905f8d7f541dab6a89367a21c472d",
       "version_major": 2,
       "version_minor": 0
      },
      "text/plain": [
       "  0%|          | 0/144 [00:00<?, ?it/s]"
      ]
     },
     "metadata": {},
     "output_type": "display_data"
    },
    {
     "name": "stdout",
     "output_type": "stream",
     "text": [
      "=> Saving Checkpoint\n"
     ]
    },
    {
     "data": {
      "application/vnd.jupyter.widget-view+json": {
       "model_id": "2143de11cae94cafa8bf6c9cc45b1641",
       "version_major": 2,
       "version_minor": 0
      },
      "text/plain": [
       "  0%|          | 0/766 [00:00<?, ?it/s]"
      ]
     },
     "metadata": {},
     "output_type": "display_data"
    },
    {
     "data": {
      "application/vnd.jupyter.widget-view+json": {
       "model_id": "3f02e58856484f9aa84cd0eb21fe1824",
       "version_major": 2,
       "version_minor": 0
      },
      "text/plain": [
       "  0%|          | 0/144 [00:00<?, ?it/s]"
      ]
     },
     "metadata": {},
     "output_type": "display_data"
    },
    {
     "name": "stdout",
     "output_type": "stream",
     "text": [
      "=> Saving Checkpoint\n"
     ]
    },
    {
     "data": {
      "application/vnd.jupyter.widget-view+json": {
       "model_id": "6e59cc48adf44635a05dd94974753777",
       "version_major": 2,
       "version_minor": 0
      },
      "text/plain": [
       "  0%|          | 0/766 [00:00<?, ?it/s]"
      ]
     },
     "metadata": {},
     "output_type": "display_data"
    },
    {
     "data": {
      "application/vnd.jupyter.widget-view+json": {
       "model_id": "fa85652f9874427e955428b4720887be",
       "version_major": 2,
       "version_minor": 0
      },
      "text/plain": [
       "  0%|          | 0/144 [00:00<?, ?it/s]"
      ]
     },
     "metadata": {},
     "output_type": "display_data"
    },
    {
     "name": "stdout",
     "output_type": "stream",
     "text": [
      "=> Saving Checkpoint\n"
     ]
    },
    {
     "data": {
      "application/vnd.jupyter.widget-view+json": {
       "model_id": "775b57efd20543879aace209ad836a91",
       "version_major": 2,
       "version_minor": 0
      },
      "text/plain": [
       "  0%|          | 0/766 [00:00<?, ?it/s]"
      ]
     },
     "metadata": {},
     "output_type": "display_data"
    }
   ],
   "source": [
    "pytorch_pipeline.train_over_epochs(\n",
    "    stock_train_loader, stock_valid_loader,\n",
    "    lstm_model,\n",
    "    lstm_optimizer,\n",
    "    mse_criterion,\n",
    "    dst_folder=\"lstm_stock_close\"\n",
    ")"
   ]
  },
  {
   "cell_type": "code",
   "execution_count": 88,
   "id": "248c953f-d3b9-40f2-9fd6-d0a9c982c7eb",
   "metadata": {},
   "outputs": [],
   "source": [
    "pytorch_utility = PyTorchUtility()"
   ]
  },
  {
   "cell_type": "code",
   "execution_count": 67,
   "id": "66b2cd1c-a979-47ac-971f-0bcdf65ad3b5",
   "metadata": {},
   "outputs": [
    {
     "data": {
      "image/png": "[encoded data removed]",
      "text/plain": [
       "<Figure size 640x480 with 1 Axes>"
      ]
     },
     "metadata": {},
     "output_type": "display_data"
    }
   ],
   "source": [
    "mkdir_prep_dir(f\"{dataset_name}/lstm_stock_close/graphs\")\n",
    "pytorch_utility.plot_loss_curves(train_rmse_loss_avg_values, valid_rmse_loss_avg_values,\n",
    "                                 \"LSTM Train & Valid Avg RMSE Loss\", f\"{dataset_name}/lstm_stock_close/graphs/lstm_train_valid_loss_avg_curves.jpg\")"
   ]
  },
  {
   "cell_type": "code",
   "execution_count": 68,
   "id": "76d87ad6-c202-4d0f-9392-82c1cddd563a",
   "metadata": {},
   "outputs": [
    {
     "data": {
      "image/png": "[encoded data removed]",
      "text/plain": [
       "<Figure size 640x480 with 1 Axes>"
      ]
     },
     "metadata": {},
     "output_type": "display_data"
    }
   ],
   "source": [
    "pytorch_utility.plot_f1_curves(train_f1_avg_values, valid_f1_avg_values,\n",
    "                                 \"LSTM Train & Valid F1 Avg Score\", f\"{dataset_name}/lstm_stock_close/graphs/lstm_train_valid_f1_avg_curves.jpg\")"
   ]
  },
  {
   "cell_type": "code",
   "execution_count": 69,
   "id": "f770cb5a-b0f9-4536-a8fe-83fe75ae0a07",
   "metadata": {},
   "outputs": [
    {
     "name": "stdout",
     "output_type": "stream",
     "text": [
      "LSTM: final_train Min RMSE = 0.031497231115483575\n"
     ]
    }
   ],
   "source": [
    "final_train_rmse = min(train_rmse_loss_avg_values)\n",
    "print(f\"LSTM: final_train Min RMSE = {final_train_rmse}\")"
   ]
  },
  {
   "cell_type": "code",
   "execution_count": 70,
   "id": "39bfc40a-e189-46d3-bbb7-6f1546f715cf",
   "metadata": {},
   "outputs": [
    {
     "name": "stdout",
     "output_type": "stream",
     "text": [
      "LSTM: final_valid Min RMSE = 0.03918528871965782\n"
     ]
    }
   ],
   "source": [
    "final_test_rmse = min(valid_rmse_loss_avg_values)\n",
    "print(f\"LSTM: final_valid Min RMSE = {final_test_rmse}\")"
   ]
  },
  {
   "cell_type": "code",
   "execution_count": 71,
   "id": "abdf881a-b9b1-4004-a4da-a9df3a219938",
   "metadata": {},
   "outputs": [
    {
     "name": "stdout",
     "output_type": "stream",
     "text": [
      "LSTM: final_train Min F1 = 0.14188680590854752\n"
     ]
    }
   ],
   "source": [
    "final_train_f1 = min(train_f1_avg_values)\n",
    "print(f\"LSTM: final_train Min F1 = {final_train_f1}\")"
   ]
  },
  {
   "cell_type": "code",
   "execution_count": 72,
   "id": "2e6e071c-ad4e-4473-901a-987acd959891",
   "metadata": {},
   "outputs": [
    {
     "name": "stdout",
     "output_type": "stream",
     "text": [
      "LSTM: final_valid Min F1 = 0.39059803920844205\n"
     ]
    }
   ],
   "source": [
    "final_valid_f1 = min(valid_f1_avg_values)\n",
    "print(f\"LSTM: final_valid Min F1 = {final_valid_f1}\")"
   ]
  },
  {
   "cell_type": "markdown",
   "id": "54c8be1a-322b-4b7a-85bc-ac13d0cb0a3f",
   "metadata": {},
   "source": [
    "## Deploy LSTM on Validation Set for Stock Close Price Prediction"
   ]
  },
  {
   "cell_type": "code",
   "execution_count": null,
   "id": "cdc48a56-eb64-4cdd-9ca2-f7f8f28b94d3",
   "metadata": {
    "scrolled": true
   },
   "outputs": [],
   "source": [
    "final_closing_price_valid_gts, final_closing_price_valid_preds = pytorch_pipeline.deploy_model(stock_valid_loader, lstm_model)"
   ]
  },
  {
   "cell_type": "code",
   "execution_count": 74,
   "id": "748267bd-d0ef-4ef4-a6e4-9b01d15cdd8a",
   "metadata": {},
   "outputs": [],
   "source": [
    "unscale = 1/scaler.scale_"
   ]
  },
  {
   "cell_type": "code",
   "execution_count": 75,
   "id": "a023273e-4124-4ff2-a6ee-3a298c2f1346",
   "metadata": {},
   "outputs": [
    {
     "data": {
      "text/plain": [
       "array([1439.52166748])"
      ]
     },
     "execution_count": 75,
     "metadata": {},
     "output_type": "execute_result"
    }
   ],
   "source": [
    "np.array([unscale[0]])"
   ]
  },
  {
   "cell_type": "code",
   "execution_count": 76,
   "id": "dfd21e07-7854-4b7a-8deb-abc29280f6cc",
   "metadata": {},
   "outputs": [],
   "source": [
    "final_closing_price_unscaled_valid_preds = final_closing_price_valid_preds*np.array([unscale[0]])"
   ]
  },
  {
   "cell_type": "code",
   "execution_count": 77,
   "id": "89aae90a-8575-4326-b4f0-c2e20ac74b9b",
   "metadata": {},
   "outputs": [],
   "source": [
    "final_closing_price_unscaled_valid_gts = final_closing_price_valid_gts*np.array([unscale[0]])"
   ]
  },
  {
   "cell_type": "code",
   "execution_count": 78,
   "id": "91e6d9aa-64cf-4bba-915a-cea8f4c1e08d",
   "metadata": {},
   "outputs": [
    {
     "data": {
      "image/png": "[encoded data removed]",
      "text/plain": [
       "<Figure size 640x480 with 1 Axes>"
      ]
     },
     "metadata": {},
     "output_type": "display_data"
    }
   ],
   "source": [
    "pytorch_utility.plot_gt_pred_curves(final_closing_price_unscaled_valid_gts, final_closing_price_unscaled_valid_preds,\n",
    "                    \"LSTM GT & Pred Unscaled Valid Stock Closing Price\", f\"{dataset_name}/lstm_stock_close/graphs/lstm_gt_pred_unscaled_valid_stock_close_price_curves.jpg\")"
   ]
  },
  {
   "cell_type": "markdown",
   "id": "8f4d2c8d-ce8a-44f6-9ea5-2729ea91ce19",
   "metadata": {},
   "source": [
    "For the validation set, we deploy our trained LSTM model, we see the predicted closing prices\n",
    "are close to the ground truth. This is just with one layer LSTM and no dropout and relu activation\n",
    "layers."
   ]
  },
  {
   "cell_type": "markdown",
   "id": "088f64eb-d67a-4e82-8919-47fc201e71c5",
   "metadata": {},
   "source": [
    "## Deploy LSTM on Testing Set for Stock Close Price Prediction"
   ]
  },
  {
   "cell_type": "code",
   "execution_count": null,
   "id": "9a4188a0-c027-43f3-b74d-1b6003cd1990",
   "metadata": {
    "scrolled": true
   },
   "outputs": [],
   "source": [
    "final_closing_price_gts, final_closing_price_predictions = pytorch_pipeline.deploy_model(stock_test_loader, lstm_model)"
   ]
  },
  {
   "cell_type": "markdown",
   "id": "ea6edfa0-0050-4e26-9636-d68248144b94",
   "metadata": {},
   "source": [
    "## Unscale Final Closing Stock Price Predictions"
   ]
  },
  {
   "cell_type": "code",
   "execution_count": 80,
   "id": "24a7e176-466c-45c2-80b5-cdc55f7e0c05",
   "metadata": {},
   "outputs": [],
   "source": [
    "unscale = 1/scaler.scale_"
   ]
  },
  {
   "cell_type": "code",
   "execution_count": 81,
   "id": "f730efb3-b035-4791-9c79-3f309f51f4fc",
   "metadata": {},
   "outputs": [
    {
     "data": {
      "text/plain": [
       "array([1439.52166748])"
      ]
     },
     "execution_count": 81,
     "metadata": {},
     "output_type": "execute_result"
    }
   ],
   "source": [
    "np.array([unscale[0]])"
   ]
  },
  {
   "cell_type": "code",
   "execution_count": 82,
   "id": "a0df18b7-c041-429d-ac35-b1289641364c",
   "metadata": {},
   "outputs": [],
   "source": [
    "final_closing_price_unscaled_preds = final_closing_price_predictions*np.array([unscale[0]])"
   ]
  },
  {
   "cell_type": "code",
   "execution_count": 83,
   "id": "8ab780a9-b926-4169-adf1-3468bf31505f",
   "metadata": {},
   "outputs": [],
   "source": [
    "final_closing_price_unscaled_gts = final_closing_price_gts*np.array([unscale[0]])"
   ]
  },
  {
   "cell_type": "markdown",
   "id": "e0fa551f-3978-4742-8681-b5a5f74037e5",
   "metadata": {},
   "source": [
    "It looks like we are getting correct predictions in which I mean they are not the same for every set of features. We maybe able to improve the predictions if we increase the lookback from 7 to 100 days that we predict on. We'll test that next. I have two graphs, one with scaled predicted stock closing prices and the other with unscaled predicted stock closing prices. It seems like our initial issue where we were getting the same predictions for each set of features was happening because of the way we were using dropout and relu. **For now the simple LSTM neural network architecture works, we'll build on top of it to improve it.**"
   ]
  },
  {
   "cell_type": "code",
   "execution_count": 84,
   "id": "0a4e4fb8-2a01-44c8-b2d5-75e544ef55e0",
   "metadata": {},
   "outputs": [
    {
     "data": {
      "image/png": "[encoded data removed]",
      "text/plain": [
       "<Figure size 640x480 with 1 Axes>"
      ]
     },
     "metadata": {},
     "output_type": "display_data"
    }
   ],
   "source": [
    "pytorch_utility.plot_gt_pred_curves(final_closing_price_gts, final_closing_price_predictions,\n",
    "                    \"LSTM GT & Pred Scaled Stock Closing Price\", f\"{dataset_name}/lstm_stock_close/graphs/lstm_gt_pred_scaled_stock_close_price_curves.jpg\")"
   ]
  },
  {
   "cell_type": "code",
   "execution_count": 85,
   "id": "27102594-8258-4fe0-9e59-bf7d0c3f5660",
   "metadata": {},
   "outputs": [
    {
     "data": {
      "image/png": "[encoded data removed]",
      "text/plain": [
       "<Figure size 640x480 with 1 Axes>"
      ]
     },
     "metadata": {},
     "output_type": "display_data"
    }
   ],
   "source": [
    "pytorch_utility.plot_gt_pred_curves(final_closing_price_unscaled_gts, final_closing_price_unscaled_preds,\n",
    "                    \"LSTM GT & Pred Unscaled Stock Closing Price\", \"lstm_gt_pred_unscaled_stock_close_price_curves.jpg\")"
   ]
  },
  {
   "cell_type": "code",
   "execution_count": 90,
   "id": "ea5b48f4-68bf-493a-b112-58354adf7eae",
   "metadata": {},
   "outputs": [
    {
     "data": {
      "text/html": [
       "<div>\n",
       "<style scoped>\n",
       "    .dataframe tbody tr th:only-of-type {\n",
       "        vertical-align: middle;\n",
       "    }\n",
       "\n",
       "    .dataframe tbody tr th {\n",
       "        vertical-align: top;\n",
       "    }\n",
       "\n",
       "    .dataframe thead th {\n",
       "        text-align: right;\n",
       "    }\n",
       "</style>\n",
       "<table border=\"1\" class=\"dataframe\">\n",
       "  <thead>\n",
       "    <tr style=\"text-align: right;\">\n",
       "      <th></th>\n",
       "      <th>100th Date</th>\n",
       "      <th>Close</th>\n",
       "    </tr>\n",
       "  </thead>\n",
       "  <tbody>\n",
       "    <tr>\n",
       "      <th>0</th>\n",
       "      <td>2017-03-16</td>\n",
       "      <td>780.899261</td>\n",
       "    </tr>\n",
       "    <tr>\n",
       "      <th>1</th>\n",
       "      <td>2017-03-17</td>\n",
       "      <td>781.577956</td>\n",
       "    </tr>\n",
       "    <tr>\n",
       "      <th>2</th>\n",
       "      <td>2017-03-20</td>\n",
       "      <td>782.921275</td>\n",
       "    </tr>\n",
       "    <tr>\n",
       "      <th>3</th>\n",
       "      <td>2017-03-21</td>\n",
       "      <td>779.192227</td>\n",
       "    </tr>\n",
       "    <tr>\n",
       "      <th>4</th>\n",
       "      <td>2017-03-22</td>\n",
       "      <td>775.225077</td>\n",
       "    </tr>\n",
       "    <tr>\n",
       "      <th>...</th>\n",
       "      <td>...</td>\n",
       "      <td>...</td>\n",
       "    </tr>\n",
       "    <tr>\n",
       "      <th>762</th>\n",
       "      <td>2020-03-26</td>\n",
       "      <td>1060.627488</td>\n",
       "    </tr>\n",
       "    <tr>\n",
       "      <th>763</th>\n",
       "      <td>2020-03-27</td>\n",
       "      <td>1064.726344</td>\n",
       "    </tr>\n",
       "    <tr>\n",
       "      <th>764</th>\n",
       "      <td>2020-03-30</td>\n",
       "      <td>1068.556381</td>\n",
       "    </tr>\n",
       "    <tr>\n",
       "      <th>765</th>\n",
       "      <td>2020-03-31</td>\n",
       "      <td>1069.329974</td>\n",
       "    </tr>\n",
       "    <tr>\n",
       "      <th>766</th>\n",
       "      <td>2020-04-01</td>\n",
       "      <td>1070.316442</td>\n",
       "    </tr>\n",
       "  </tbody>\n",
       "</table>\n",
       "<p>767 rows × 2 columns</p>\n",
       "</div>"
      ],
      "text/plain": [
       "    100th Date        Close\n",
       "0   2017-03-16   780.899261\n",
       "1   2017-03-17   781.577956\n",
       "2   2017-03-20   782.921275\n",
       "3   2017-03-21   779.192227\n",
       "4   2017-03-22   775.225077\n",
       "..         ...          ...\n",
       "762 2020-03-26  1060.627488\n",
       "763 2020-03-27  1064.726344\n",
       "764 2020-03-30  1068.556381\n",
       "765 2020-03-31  1069.329974\n",
       "766 2020-04-01  1070.316442\n",
       "\n",
       "[767 rows x 2 columns]"
      ]
     },
     "execution_count": 90,
     "metadata": {},
     "output_type": "execute_result"
    }
   ],
   "source": [
    "pytorch_utility.save_lstm_predictions(Date_google_stock_test, final_closing_price_unscaled_preds, np.array([unscale[0]]),\n",
    "                                       num_days=100, dst_folder=f\"{dataset_name}/lstm_stock_close/table/unscaled_predictions/\", \n",
    "                                       filename=\"pytorch_final_closing_price_unscaled_preds.csv\")"
   ]
  },
  {
   "cell_type": "code",
   "execution_count": null,
   "id": "198b08f5-3c76-44a6-a63a-3621c70a6ebe",
   "metadata": {},
   "outputs": [],
   "source": []
  }
 ],
 "metadata": {
  "kernelspec": {
   "display_name": "Python 3 (ipykernel)",
   "language": "python",
   "name": "python3"
  },
  "language_info": {
   "codemirror_mode": {
    "name": "ipython",
    "version": 3
   },
   "file_extension": ".py",
   "mimetype": "text/x-python",
   "name": "python",
   "nbconvert_exporter": "python",
   "pygments_lexer": "ipython3",
   "version": "3.9.17"
  }
 },
 "nbformat": 4,
 "nbformat_minor": 5
}
