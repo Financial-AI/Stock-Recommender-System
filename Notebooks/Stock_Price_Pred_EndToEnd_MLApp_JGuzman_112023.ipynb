{
 "cells": [
  {
   "cell_type": "markdown",
   "id": "7d69c269-ca4a-4ca2-bda8-1c29451ef5ff",
   "metadata": {},
   "source": [
    "# Stock Price Prediction End To End ML App (Rev 11/21/23)\n",
    "\n",
    "- PyTorch (Not TF)\n",
    "- yfinance (for now just use NASDAQ directly)\n",
    "- matplotlib\n",
    "- numpy\n",
    "- pandas\n",
    "- streamlit (?)\n",
    "\n",
    "**Contributor**: James Guzman\n",
    "\n",
    "**Teammates**: Josef, Anshul\n",
    "\n",
    "**Project Advisor**: Dr. Magdalini Eirinaki\n",
    "\n",
    "**SJSU CMPE 256**: Advanced Data Mining\n",
    "\n",
    "**Date**: Nov 17, 2023\n",
    "\n",
    "Based on \"Machine Learning Project in Python to Predict Stock Price ML End to End Application\":\n",
    "\n",
    "- https://youtu.be/P3JlMWoP3fE?si=XxIz2Zo8GCt9ziHM\n",
    "\n",
    "Based on \"Amazon Stock Forecasting in PyTorch with LSTM Neural Network (Time Series Forecasting) | Tutorial 3\":\n",
    "\n",
    "- https://www.youtube.com/watch?v=q_HS4s1L8UI\n",
    "\n",
    "Planning to Contribute our Semester Project to H2O Wave App Store (Currently, I submitted a project idea to their discussion forum on GitHub):\n",
    "\n",
    "- https://github.com/h2oai/wave/discussions/2200\n",
    "\n",
    "Added multi layer LSTM model.\n",
    "\n",
    "Referenced perplexity.ai for questions in regards to updating PyTorch's LSTM layers to create\n",
    "multi-layer LSTM neural network:\n",
    "\n",
    "- https://www.perplexity.ai/search/Stock-Recommender-System-BY7xxwMfT9Ohxqz5klk1BA?s=c"
   ]
  },
  {
   "cell_type": "code",
   "execution_count": 1,
   "id": "1d2fb862-b207-4eaa-aa1c-108f19773818",
   "metadata": {},
   "outputs": [],
   "source": [
    "import os\n",
    "import torch\n",
    "import torch.nn as nn\n",
    "import torch.optim as optim\n",
    "from torch.utils.data import DataLoader\n",
    "from copy import deepcopy as dc\n",
    "from tqdm.notebook import tqdm\n",
    "# import yfinance as yf\n",
    "import matplotlib.pyplot as plt\n",
    "import numpy as np\n",
    "import pandas as pd\n",
    "from sklearn.preprocessing import MinMaxScaler\n",
    "# import streamlit\n",
    "    # streamlit they use to deploy as a web app, for now I will use Wave or PySide6"
   ]
  },
  {
   "cell_type": "code",
   "execution_count": 2,
   "id": "08c80100-497a-471c-b94c-8d677645d418",
   "metadata": {},
   "outputs": [
    {
     "name": "stdout",
     "output_type": "stream",
     "text": [
      "Running on GPU NVIDIA GeForce RTX 3050 Ti Laptop GPU\n"
     ]
    }
   ],
   "source": [
    "LEARNING_RATE = 1e-2\n",
    "BATCH_SIZE = 16\n",
    "TEST_BATCH_SIZE = 1\n",
    "NUM_EPOCHS = 10\n",
    "DEBUG = True\n",
    "\n",
    "dataset_name = \"stock_closing_price\"\n",
    "\n",
    "device = torch.device(\"cuda\")\n",
    "print(f\"Running on GPU {torch.cuda.get_device_name(device)}\")"
   ]
  },
  {
   "cell_type": "code",
   "execution_count": 3,
   "id": "9a64d5f3-714d-44f3-a05f-357bbb187c37",
   "metadata": {},
   "outputs": [],
   "source": [
    "train_mse_loss_avg_values = []\n",
    "train_rmse_loss_avg_values = []\n",
    "\n",
    "valid_mse_loss_avg_values = []\n",
    "valid_rmse_loss_avg_values = []"
   ]
  },
  {
   "cell_type": "markdown",
   "id": "8224728b-8190-45d6-a8a1-70b76e939ea6",
   "metadata": {},
   "source": [
    "## Helper Classes & Functions"
   ]
  },
  {
   "cell_type": "code",
   "execution_count": 4,
   "id": "fe2279c3-fac4-44b9-8377-d0592f152dd4",
   "metadata": {},
   "outputs": [],
   "source": [
    "def mkdir_prep_dir(dirpath):\n",
    "    \"\"\"make preprocess directory if doesn't exist\"\"\"\n",
    "    prep_dir = dirpath\n",
    "    if not os.path.exists(prep_dir):\n",
    "        os.makedirs(prep_dir)\n",
    "    return prep_dir\n",
    "\n",
    "def save_checkpoint(state, filename=\"best_lstm.pth.tar\"):\n",
    "    print(\"=> Saving Checkpoint\")\n",
    "    torch.save(state, filename)\n",
    "\n",
    "def rmse(y_true, y_pred):\n",
    "    return torch.sqrt(torch.mean((y_true - y_pred) ** 2))\n"
   ]
  },
  {
   "cell_type": "code",
   "execution_count": 5,
   "id": "4b8063b7-3813-4775-b856-c21fa3dfc972",
   "metadata": {},
   "outputs": [],
   "source": [
    "# Ideally, I am thinking of parts of the preprocessing pipeline code, I can refactor toward nifi later\n",
    "# Need a better telemetry dashboard to interact with NiFi: Unity, H2O Wave, PySide6 QT\n",
    "class DataPrepPipeline:\n",
    "    def __init__(self):\n",
    "        pass\n",
    "\n",
    "    # Based on Greg Hogg's Stock Pred Video: https://youtu.be/q_HS4s1L8UI?si=CHWvbvfoPExQcALa\n",
    "    def prepare_df_for_lstm(self, stock_df, n_steps):\n",
    "        \"\"\"\n",
    "        # 10 days stock price\n",
    "        # it'll take the first 10 days, to then predict 11th day stock price\n",
    "        # 10, 11, 12, 15, 16, 17, 18, 19, 20, 17, \"18\"\n",
    "        # for the 12th day prediction, it'll take the 11th back to the 1st day\n",
    "        # .., 11, 12, 15, 16, 17, 18, 19, 20, 17, 18, \"19\"\n",
    "        \"\"\"\n",
    "        stock_df = dc(stock_df)\n",
    "        stock_df[\"Date\"] = pd.to_datetime(stock_df[\"Date\"])\n",
    "\n",
    "        stock_df.set_index(\"Date\", inplace=True)\n",
    "\n",
    "        for i in range(1, n_steps+1):\n",
    "            stock_df[f\"Close(t-{i})\"] = stock_df[\"Close\"].shift(i)\n",
    "\n",
    "        stock_df.dropna(inplace=True)\n",
    "\n",
    "        return stock_df\n",
    "\n",
    "    def split_features_labels(self, stock_features_labels_pd):\n",
    "        x_features = stock_features_labels_pd[:, 1:]\n",
    "        y_labels = stock_features_labels_pd[:, 0]\n",
    "\n",
    "        if DEBUG:\n",
    "            print(f\"x_features shape = {x_features.shape}; y_labels shape = {y_labels.shape}\")\n",
    "        return x_features, y_labels"
   ]
  },
  {
   "cell_type": "code",
   "execution_count": 6,
   "id": "bdbff328-bc26-4de5-81a1-88c2e4aa8fc3",
   "metadata": {},
   "outputs": [],
   "source": [
    "class PyTorchPipeline:\n",
    "    def __init__(self):\n",
    "        pass\n",
    "\n",
    "    def train_model(self, train_loader, lstm_model, optimizer, loss_criterion):\n",
    "        train_loop = tqdm(train_loader)\n",
    "\n",
    "        train_mse_loss_values = []\n",
    "        train_rmse_loss_values = []\n",
    "\n",
    "        # closing_price_2d_tensor\n",
    "        for batch_idx, (closing_price_2d_tensor, final_closing_price_tensor_gt) in enumerate(train_loop):\n",
    "            # final_closing_price_tensor_gt = final_closing_price_tensor.unsqueeze(1)\n",
    "\n",
    "            optimizer.zero_grad()\n",
    "            closing_price_2d_tensor = closing_price_2d_tensor.to(device)\n",
    "            final_closing_price_tensor_gt = final_closing_price_tensor_gt.to(device)\n",
    "            pred_final_closing_price = lstm_model(closing_price_2d_tensor)\n",
    "            mse_loss = loss_criterion(pred_final_closing_price, final_closing_price_tensor_gt)\n",
    "            rmse_loss = rmse(pred_final_closing_price, final_closing_price_tensor_gt)\n",
    "\n",
    "            mse_loss.backward()\n",
    "            optimizer.step()\n",
    "\n",
    "            train_mse_loss_values.append(mse_loss.item())\n",
    "            train_rmse_loss_values.append(rmse_loss.item())\n",
    "\n",
    "            train_loop.set_postfix(train_mse_loss=mse_loss.item(), train_rmse_loss=rmse_loss.item())\n",
    "\n",
    "        train_mse_loss_avg_values.append( sum(train_mse_loss_values)/len(train_loader) )\n",
    "        train_rmse_loss_avg_values.append( sum(train_rmse_loss_values)/len(train_loader) )\n",
    "\n",
    "    def validate_model(self, val_loader, lstm_model, loss_criterion):\n",
    "        val_loop = tqdm(val_loader)\n",
    "\n",
    "        val_mse_loss_values = []\n",
    "        val_rmse_loss_values = []\n",
    "\n",
    "        for batch_idx, (closing_price_2d_tensor, final_closing_price_tensor_gt) in enumerate(val_loop):\n",
    "            # final_closing_price_tensor_gt = final_closing_price_tensor.unsqueeze(1)\n",
    "            closing_price_2d_tensor = closing_price_2d_tensor.to(device)\n",
    "            final_closing_price_tensor_gt = final_closing_price_tensor_gt.to(device)\n",
    "            \n",
    "            pred_final_closing_price = lstm_model(closing_price_2d_tensor)\n",
    "            mse_loss = loss_criterion(pred_final_closing_price, final_closing_price_tensor_gt)\n",
    "            rmse_loss = rmse(pred_final_closing_price, final_closing_price_tensor_gt)\n",
    "\n",
    "\n",
    "            val_mse_loss_values.append(mse_loss.item())\n",
    "            val_rmse_loss_values.append(rmse_loss.item())\n",
    "\n",
    "            val_loop.set_postfix(val_mse_loss=mse_loss.item(), val_rmse_loss=rmse_loss.item())\n",
    "\n",
    "        valid_mse_loss_avg_values.append( sum(val_mse_loss_values)/len(val_loader) )\n",
    "        valid_rmse_loss_avg_values.append( sum(val_rmse_loss_values)/len(val_loader) )\n",
    "\n",
    "    def train_over_epochs(self, train_loader, test_loader, lstm_model, optimizer, loss_criterion, dst_folder=\"lstm_model\"):\n",
    "        step = 100\n",
    "        for epoch in range(NUM_EPOCHS):\n",
    "            self.train_model(train_loader, lstm_model, optimizer, loss_criterion)\n",
    "\n",
    "            checkpoint = {\n",
    "                \"state_dict\": lstm_model.state_dict(),\n",
    "                \"optimizer\": optimizer.state_dict(),\n",
    "            }\n",
    "\n",
    "            mkdir_prep_dir(f\"{dataset_name}/{dst_folder}\")\n",
    "            filename = f\"{dataset_name}/{dst_folder}/lstm_model_{step}.pth.tar\"\n",
    "            save_checkpoint(checkpoint, filename=filename)\n",
    "\n",
    "            self.validate_model(test_loader, lstm_model, loss_criterion)\n",
    "\n",
    "            step += 100\n",
    "\n",
    "    def deploy_model(self, test_loader, lstm_model):\n",
    "        test_loop = tqdm(test_loader)\n",
    "        final_closing_price_predictions = []\n",
    "        final_closing_price_gts = []\n",
    "        count = 0\n",
    "\n",
    "        for batch_idx, (closing_price_2d_tensor, final_closing_price_tensor) in enumerate(test_loop):\n",
    "            closing_price_2d_tensor = closing_price_2d_tensor.to(device)\n",
    "            final_closing_price_pred = lstm_model(closing_price_2d_tensor)\n",
    "            # if DEBUG and count == 0:\n",
    "            print(f\"final_closing_price_pred.item() = {final_closing_price_pred.item()}\")\n",
    "            final_closing_price_predictions.append(final_closing_price_pred.item())\n",
    "            final_closing_price_gts.append(final_closing_price_tensor.item())\n",
    "            count += 1\n",
    "        return final_closing_price_gts, final_closing_price_predictions\n",
    "\n",
    "    def test_dataloader_sample(self, data_loader):\n",
    "        for batch_idx, (closing_price_features_tensor, closing_price_labels_tensor) in enumerate(data_loader):\n",
    "            closing_price_features_tensor = closing_price_features_tensor.to(device)\n",
    "            closing_price_labels_tensor = closing_price_labels_tensor.to(device)\n",
    "            print(f\"close price features shape: {closing_price_features_tensor.shape}; close price labels shape: {closing_price_labels_tensor.shape}\")\n",
    "            break"
   ]
  },
  {
   "cell_type": "code",
   "execution_count": 7,
   "id": "3f653d58-7e80-4d7a-8dd4-008a2c277c89",
   "metadata": {},
   "outputs": [],
   "source": [
    "class PyTorchUtility:\n",
    "    def __init__(self):\n",
    "        pass\n",
    "\n",
    "    # TODO (JG): Add arguments for naming the two labels\n",
    "    def plot_loss_curves(self, train_loss_values, test_loss_values, plot_title, plot_filename):\n",
    "        f, ax = plt.subplots()\n",
    "        ax.set_title(plot_title)\n",
    "        ax.plot(train_loss_values, color=\"blue\", label=\"Train RMSE\")\n",
    "        ax.plot(test_loss_values, color=\"gold\", label=\"Valid RMSE\")\n",
    "        ax.grid(True)\n",
    "        ax.set_xlabel(\"Epochs\")\n",
    "        ax.set_ylabel(\"RMSE Loss\")\n",
    "        plt.legend()\n",
    "        plt.savefig(plot_filename)\n",
    "        plt.show()\n",
    "\n",
    "    \n",
    "    def plot_gt_pred_curves(self, final_closing_price_gts, final_closing_price_predictions, plot_title, plot_filename):\n",
    "        f, ax = plt.subplots()\n",
    "        ax.set_title(plot_title)\n",
    "        ax.plot(final_closing_price_predictions, color=\"blue\", label=\"Pred Price\")\n",
    "        ax.plot(final_closing_price_gts, color=\"gold\", label=\"GT Price\")\n",
    "        ax.grid(True)\n",
    "        ax.set_xlabel(\"Time\")\n",
    "        ax.set_ylabel(\"Price\")\n",
    "        plt.legend()\n",
    "        plt.savefig(plot_filename)\n",
    "        plt.show()\n",
    "\n",
    "\n",
    "    # TODO (JG): Need to check num_days preds for closing price. Is it suppose to be over\n",
    "    def save_lstm_predictions(self, stock_test_date_df, final_closing_price_predictions, scale, num_days, dst_folder=\"lstm_model\", filename=\"pytorch_final_closing_price_preds.csv\"):\n",
    "        # test_close_price_df, google_stock_train_date\n",
    "        stock_date_list = []\n",
    "        # y_train_list = []\n",
    "\n",
    "        count = 0\n",
    "        for i in range(num_days, stock_test_date_df.shape[0]):\n",
    "            # if DEBUG and count == 0:\n",
    "            #     print(f\"stock_test_date_df[0] = {stock_test_date_df[0]}\")\n",
    "            #     print(f\"stock_test_date_df[i,0] = {stock_test_date_df[i,0]}\")\n",
    "                \n",
    "            stock_pred_date_id = stock_test_date_df.Date.iloc[i]\n",
    "            if DEBUG and count == 0:\n",
    "                print(f\"stock_pred_date_id = {stock_pred_date_id}\")\n",
    "            stock_date_list.append(stock_pred_date_id)\n",
    "            count += 1\n",
    "\n",
    "        mkdir_prep_dir(f\"{dataset_name}/{dst_folder}\")\n",
    "        dst_filepath = f\"{dataset_name}/{dst_folder}/{filename}\"\n",
    "\n",
    "        # final_closing_price_unscaled_preds = final_closing_price_predictions*scale\n",
    "        \n",
    "        # final close price pred for each 100th date after predicting on 100 days of final closing prices\n",
    "        stock_close_price_res_df = pd.DataFrame({f\"{num_days}th Date\": stock_date_list, \"Close\": final_closing_price_predictions})\n",
    "        stock_close_price_res_df.to_csv(dst_filepath, index=False)\n",
    "        return stock_close_price_res_df\n"
   ]
  },
  {
   "cell_type": "markdown",
   "id": "94b2f004-f9b4-44e9-b3cd-a2aa180e12d0",
   "metadata": {},
   "source": [
    "## Load NASDAQ Symbols Metadata"
   ]
  },
  {
   "cell_type": "code",
   "execution_count": 8,
   "id": "7ad30409-9c14-4cbf-86d0-9161b9a2e513",
   "metadata": {},
   "outputs": [],
   "source": [
    "# Load Stock Market Data\n",
    "nasdaq_meta_symbols_filepath = \"/home/james/src/datasets/NASDAQ_Yahoo_Finance/symbols_valid_meta.csv\""
   ]
  },
  {
   "cell_type": "code",
   "execution_count": 9,
   "id": "1fd04ffe-08dd-4311-bd03-9684eafb92d9",
   "metadata": {},
   "outputs": [],
   "source": [
    "nasdaq_symbols_meta_pd = pd.read_csv(nasdaq_meta_symbols_filepath)"
   ]
  },
  {
   "cell_type": "code",
   "execution_count": 10,
   "id": "0c08a337-19c7-479c-891e-01b4e7af5780",
   "metadata": {},
   "outputs": [
    {
     "data": {
      "text/html": [
       "<div>\n",
       "<style scoped>\n",
       "    .dataframe tbody tr th:only-of-type {\n",
       "        vertical-align: middle;\n",
       "    }\n",
       "\n",
       "    .dataframe tbody tr th {\n",
       "        vertical-align: top;\n",
       "    }\n",
       "\n",
       "    .dataframe thead th {\n",
       "        text-align: right;\n",
       "    }\n",
       "</style>\n",
       "<table border=\"1\" class=\"dataframe\">\n",
       "  <thead>\n",
       "    <tr style=\"text-align: right;\">\n",
       "      <th></th>\n",
       "      <th>Nasdaq Traded</th>\n",
       "      <th>Symbol</th>\n",
       "      <th>Security Name</th>\n",
       "      <th>Listing Exchange</th>\n",
       "      <th>Market Category</th>\n",
       "      <th>ETF</th>\n",
       "      <th>Round Lot Size</th>\n",
       "      <th>Test Issue</th>\n",
       "      <th>Financial Status</th>\n",
       "      <th>CQS Symbol</th>\n",
       "      <th>NASDAQ Symbol</th>\n",
       "      <th>NextShares</th>\n",
       "    </tr>\n",
       "  </thead>\n",
       "  <tbody>\n",
       "    <tr>\n",
       "      <th>0</th>\n",
       "      <td>Y</td>\n",
       "      <td>A</td>\n",
       "      <td>Agilent Technologies, Inc. Common Stock</td>\n",
       "      <td>N</td>\n",
       "      <td></td>\n",
       "      <td>N</td>\n",
       "      <td>100.0</td>\n",
       "      <td>N</td>\n",
       "      <td>NaN</td>\n",
       "      <td>A</td>\n",
       "      <td>A</td>\n",
       "      <td>N</td>\n",
       "    </tr>\n",
       "    <tr>\n",
       "      <th>1</th>\n",
       "      <td>Y</td>\n",
       "      <td>AA</td>\n",
       "      <td>Alcoa Corporation Common Stock</td>\n",
       "      <td>N</td>\n",
       "      <td></td>\n",
       "      <td>N</td>\n",
       "      <td>100.0</td>\n",
       "      <td>N</td>\n",
       "      <td>NaN</td>\n",
       "      <td>AA</td>\n",
       "      <td>AA</td>\n",
       "      <td>N</td>\n",
       "    </tr>\n",
       "    <tr>\n",
       "      <th>2</th>\n",
       "      <td>Y</td>\n",
       "      <td>AAAU</td>\n",
       "      <td>Perth Mint Physical Gold ETF</td>\n",
       "      <td>P</td>\n",
       "      <td></td>\n",
       "      <td>Y</td>\n",
       "      <td>100.0</td>\n",
       "      <td>N</td>\n",
       "      <td>NaN</td>\n",
       "      <td>AAAU</td>\n",
       "      <td>AAAU</td>\n",
       "      <td>N</td>\n",
       "    </tr>\n",
       "    <tr>\n",
       "      <th>3</th>\n",
       "      <td>Y</td>\n",
       "      <td>AACG</td>\n",
       "      <td>ATA Creativity Global - American Depositary Sh...</td>\n",
       "      <td>Q</td>\n",
       "      <td>G</td>\n",
       "      <td>N</td>\n",
       "      <td>100.0</td>\n",
       "      <td>N</td>\n",
       "      <td>N</td>\n",
       "      <td>NaN</td>\n",
       "      <td>AACG</td>\n",
       "      <td>N</td>\n",
       "    </tr>\n",
       "    <tr>\n",
       "      <th>4</th>\n",
       "      <td>Y</td>\n",
       "      <td>AADR</td>\n",
       "      <td>AdvisorShares Dorsey Wright ADR ETF</td>\n",
       "      <td>P</td>\n",
       "      <td></td>\n",
       "      <td>Y</td>\n",
       "      <td>100.0</td>\n",
       "      <td>N</td>\n",
       "      <td>NaN</td>\n",
       "      <td>AADR</td>\n",
       "      <td>AADR</td>\n",
       "      <td>N</td>\n",
       "    </tr>\n",
       "  </tbody>\n",
       "</table>\n",
       "</div>"
      ],
      "text/plain": [
       "  Nasdaq Traded Symbol                                      Security Name  \\\n",
       "0             Y      A            Agilent Technologies, Inc. Common Stock   \n",
       "1             Y     AA                    Alcoa Corporation Common Stock    \n",
       "2             Y   AAAU                       Perth Mint Physical Gold ETF   \n",
       "3             Y   AACG  ATA Creativity Global - American Depositary Sh...   \n",
       "4             Y   AADR                AdvisorShares Dorsey Wright ADR ETF   \n",
       "\n",
       "  Listing Exchange Market Category ETF  Round Lot Size Test Issue  \\\n",
       "0                N                   N           100.0          N   \n",
       "1                N                   N           100.0          N   \n",
       "2                P                   Y           100.0          N   \n",
       "3                Q               G   N           100.0          N   \n",
       "4                P                   Y           100.0          N   \n",
       "\n",
       "  Financial Status CQS Symbol NASDAQ Symbol NextShares  \n",
       "0              NaN          A             A          N  \n",
       "1              NaN         AA            AA          N  \n",
       "2              NaN       AAAU          AAAU          N  \n",
       "3                N        NaN          AACG          N  \n",
       "4              NaN       AADR          AADR          N  "
      ]
     },
     "execution_count": 10,
     "metadata": {},
     "output_type": "execute_result"
    }
   ],
   "source": [
    "nasdaq_symbols_meta_pd.head()"
   ]
  },
  {
   "cell_type": "code",
   "execution_count": 11,
   "id": "80107d2e-a8bb-4209-a7f4-3d2847b745b6",
   "metadata": {},
   "outputs": [
    {
     "name": "stdout",
     "output_type": "stream",
     "text": [
      "<class 'pandas.core.frame.DataFrame'>\n",
      "RangeIndex: 8049 entries, 0 to 8048\n",
      "Data columns (total 12 columns):\n",
      " #   Column            Non-Null Count  Dtype  \n",
      "---  ------            --------------  -----  \n",
      " 0   Nasdaq Traded     8049 non-null   object \n",
      " 1   Symbol            8049 non-null   object \n",
      " 2   Security Name     8049 non-null   object \n",
      " 3   Listing Exchange  8049 non-null   object \n",
      " 4   Market Category   8049 non-null   object \n",
      " 5   ETF               8049 non-null   object \n",
      " 6   Round Lot Size    8049 non-null   float64\n",
      " 7   Test Issue        8049 non-null   object \n",
      " 8   Financial Status  3383 non-null   object \n",
      " 9   CQS Symbol        4666 non-null   object \n",
      " 10  NASDAQ Symbol     8049 non-null   object \n",
      " 11  NextShares        8049 non-null   object \n",
      "dtypes: float64(1), object(11)\n",
      "memory usage: 754.7+ KB\n"
     ]
    }
   ],
   "source": [
    "nasdaq_symbols_meta_pd.info()"
   ]
  },
  {
   "cell_type": "markdown",
   "id": "86a8c34b-0eb8-4694-b2d4-12283ce9c0f2",
   "metadata": {},
   "source": [
    "## Load NASDAQ Stock Data If Company Is In Metadata"
   ]
  },
  {
   "cell_type": "code",
   "execution_count": 12,
   "id": "19eda8ca-9595-42e0-a797-df49ef2fbadb",
   "metadata": {},
   "outputs": [],
   "source": [
    "stock_dir_path = \"/home/james/src/datasets/NASDAQ_Yahoo_Finance/stocks\""
   ]
  },
  {
   "cell_type": "code",
   "execution_count": 13,
   "id": "4738f384-f740-42b9-ad97-4a02d3c55f77",
   "metadata": {},
   "outputs": [],
   "source": [
    "symbol_name = \"GOOG\""
   ]
  },
  {
   "cell_type": "code",
   "execution_count": 14,
   "id": "df25d7ca-c498-4e6e-9386-65e25bddca67",
   "metadata": {},
   "outputs": [
    {
     "name": "stdout",
     "output_type": "stream",
     "text": [
      "GOOG is in NASDAQ Yahoo Finance Metadata, loading GOOG stock pd\n"
     ]
    }
   ],
   "source": [
    "if symbol_name in nasdaq_symbols_meta_pd[\"Symbol\"].tolist():\n",
    "    print(f\"{symbol_name} is in NASDAQ Yahoo Finance Metadata, loading GOOG stock pd\")\n",
    "    google_stock_data_pd = pd.read_csv(os.path.join(stock_dir_path, f\"{symbol_name}.csv\"))"
   ]
  },
  {
   "cell_type": "code",
   "execution_count": 15,
   "id": "487265b2-44fe-4080-b997-e9010c343f26",
   "metadata": {},
   "outputs": [
    {
     "data": {
      "text/html": [
       "<div>\n",
       "<style scoped>\n",
       "    .dataframe tbody tr th:only-of-type {\n",
       "        vertical-align: middle;\n",
       "    }\n",
       "\n",
       "    .dataframe tbody tr th {\n",
       "        vertical-align: top;\n",
       "    }\n",
       "\n",
       "    .dataframe thead th {\n",
       "        text-align: right;\n",
       "    }\n",
       "</style>\n",
       "<table border=\"1\" class=\"dataframe\">\n",
       "  <thead>\n",
       "    <tr style=\"text-align: right;\">\n",
       "      <th></th>\n",
       "      <th>Date</th>\n",
       "      <th>Open</th>\n",
       "      <th>High</th>\n",
       "      <th>Low</th>\n",
       "      <th>Close</th>\n",
       "      <th>Adj Close</th>\n",
       "      <th>Volume</th>\n",
       "    </tr>\n",
       "  </thead>\n",
       "  <tbody>\n",
       "    <tr>\n",
       "      <th>0</th>\n",
       "      <td>2004-08-19</td>\n",
       "      <td>49.813286</td>\n",
       "      <td>51.835709</td>\n",
       "      <td>47.800831</td>\n",
       "      <td>49.982655</td>\n",
       "      <td>49.982655</td>\n",
       "      <td>44871300</td>\n",
       "    </tr>\n",
       "    <tr>\n",
       "      <th>1</th>\n",
       "      <td>2004-08-20</td>\n",
       "      <td>50.316402</td>\n",
       "      <td>54.336334</td>\n",
       "      <td>50.062355</td>\n",
       "      <td>53.952770</td>\n",
       "      <td>53.952770</td>\n",
       "      <td>22942800</td>\n",
       "    </tr>\n",
       "    <tr>\n",
       "      <th>2</th>\n",
       "      <td>2004-08-23</td>\n",
       "      <td>55.168217</td>\n",
       "      <td>56.528118</td>\n",
       "      <td>54.321388</td>\n",
       "      <td>54.495735</td>\n",
       "      <td>54.495735</td>\n",
       "      <td>18342800</td>\n",
       "    </tr>\n",
       "    <tr>\n",
       "      <th>3</th>\n",
       "      <td>2004-08-24</td>\n",
       "      <td>55.412300</td>\n",
       "      <td>55.591629</td>\n",
       "      <td>51.591621</td>\n",
       "      <td>52.239193</td>\n",
       "      <td>52.239193</td>\n",
       "      <td>15319700</td>\n",
       "    </tr>\n",
       "    <tr>\n",
       "      <th>4</th>\n",
       "      <td>2004-08-25</td>\n",
       "      <td>52.284027</td>\n",
       "      <td>53.798351</td>\n",
       "      <td>51.746044</td>\n",
       "      <td>52.802086</td>\n",
       "      <td>52.802086</td>\n",
       "      <td>9232100</td>\n",
       "    </tr>\n",
       "  </tbody>\n",
       "</table>\n",
       "</div>"
      ],
      "text/plain": [
       "         Date       Open       High        Low      Close  Adj Close    Volume\n",
       "0  2004-08-19  49.813286  51.835709  47.800831  49.982655  49.982655  44871300\n",
       "1  2004-08-20  50.316402  54.336334  50.062355  53.952770  53.952770  22942800\n",
       "2  2004-08-23  55.168217  56.528118  54.321388  54.495735  54.495735  18342800\n",
       "3  2004-08-24  55.412300  55.591629  51.591621  52.239193  52.239193  15319700\n",
       "4  2004-08-25  52.284027  53.798351  51.746044  52.802086  52.802086   9232100"
      ]
     },
     "execution_count": 15,
     "metadata": {},
     "output_type": "execute_result"
    }
   ],
   "source": [
    "google_stock_data_pd.head()"
   ]
  },
  {
   "cell_type": "code",
   "execution_count": 16,
   "id": "110be783-2b49-4799-a52a-59ee3af4c5bc",
   "metadata": {},
   "outputs": [
    {
     "name": "stdout",
     "output_type": "stream",
     "text": [
      "<class 'pandas.core.frame.DataFrame'>\n",
      "RangeIndex: 3932 entries, 0 to 3931\n",
      "Data columns (total 7 columns):\n",
      " #   Column     Non-Null Count  Dtype  \n",
      "---  ------     --------------  -----  \n",
      " 0   Date       3932 non-null   object \n",
      " 1   Open       3932 non-null   float64\n",
      " 2   High       3932 non-null   float64\n",
      " 3   Low        3932 non-null   float64\n",
      " 4   Close      3932 non-null   float64\n",
      " 5   Adj Close  3932 non-null   float64\n",
      " 6   Volume     3932 non-null   int64  \n",
      "dtypes: float64(5), int64(1), object(1)\n",
      "memory usage: 215.2+ KB\n"
     ]
    }
   ],
   "source": [
    "google_stock_data_pd.info()"
   ]
  },
  {
   "cell_type": "markdown",
   "id": "0b380a94-72dd-49c3-92d4-88216ba1bdda",
   "metadata": {},
   "source": [
    "## Create Moving Average Stock Across 100 Days\n",
    "\n",
    "We'll create moving average stock across 100 days"
   ]
  },
  {
   "cell_type": "code",
   "execution_count": 17,
   "id": "ea232567-b82c-4beb-86e7-e4645739cc0a",
   "metadata": {},
   "outputs": [],
   "source": [
    "num_days = 100"
   ]
  },
  {
   "cell_type": "code",
   "execution_count": 18,
   "id": "324231e2-e721-4c7a-9f5d-e6a47d97ab03",
   "metadata": {},
   "outputs": [],
   "source": [
    "mavg_100_days = google_stock_data_pd.Close.rolling(num_days).mean()"
   ]
  },
  {
   "cell_type": "markdown",
   "id": "8a9ad946-ba54-4f39-9dad-8c44f5624ebd",
   "metadata": {},
   "source": [
    "### Plot Moving Average vs Close Price"
   ]
  },
  {
   "cell_type": "code",
   "execution_count": 19,
   "id": "2f50cdb0-22d6-4e61-a1b1-49a176d3db94",
   "metadata": {},
   "outputs": [
    {
     "data": {
      "image/png": "[encoded data removed]",
      "text/plain": [
       "<Figure size 800x600 with 1 Axes>"
      ]
     },
     "metadata": {},
     "output_type": "display_data"
    }
   ],
   "source": [
    "plt.figure(figsize=(8, 6))\n",
    "plt.plot(mavg_100_days, \"r\")\n",
    "plt.plot(google_stock_data_pd.Close, \"g\")\n",
    "plt.show()"
   ]
  },
  {
   "cell_type": "markdown",
   "id": "a365d14d-b238-402f-8a59-0ec8ca984d0b",
   "metadata": {},
   "source": [
    "## Create Moving Average Stock Across 200 Days"
   ]
  },
  {
   "cell_type": "code",
   "execution_count": 20,
   "id": "688ae976-fc77-4724-b512-2c9efef0a2cb",
   "metadata": {},
   "outputs": [],
   "source": [
    "num_days = 200\n",
    "mavg_200_days = google_stock_data_pd.Close.rolling(num_days).mean()"
   ]
  },
  {
   "cell_type": "code",
   "execution_count": 21,
   "id": "6dc47912-1ae3-4a96-943b-644563a81654",
   "metadata": {},
   "outputs": [
    {
     "data": {
      "image/png": "[encoded data removed]",
      "text/plain": [
       "<Figure size 800x600 with 1 Axes>"
      ]
     },
     "metadata": {},
     "output_type": "display_data"
    }
   ],
   "source": [
    "plt.figure(figsize=(8,6))\n",
    "plt.plot(mavg_100_days, \"r\")\n",
    "plt.plot(mavg_200_days, \"b\")\n",
    "plt.plot(google_stock_data_pd.Close, \"g\")\n",
    "plt.show()"
   ]
  },
  {
   "cell_type": "markdown",
   "id": "6ffd4a53-b804-4bd0-8edb-8d2fe769d84d",
   "metadata": {},
   "source": [
    "## Clean NAs from Stock Data\n",
    "\n",
    "Double check how to find number of NAs"
   ]
  },
  {
   "cell_type": "code",
   "execution_count": 22,
   "id": "79ea643d-3436-461d-836d-5f96ba08348e",
   "metadata": {},
   "outputs": [],
   "source": [
    "google_stock_data_pd.dropna(inplace=True)"
   ]
  },
  {
   "cell_type": "markdown",
   "id": "f293a387-dd56-41a9-a815-4653322d937f",
   "metadata": {},
   "source": [
    "## Filter for Date & Close Price"
   ]
  },
  {
   "cell_type": "code",
   "execution_count": 23,
   "id": "8ebf237b-3bc9-4660-b28b-2dcf15826728",
   "metadata": {},
   "outputs": [],
   "source": [
    "google_stock_date_close_pd = google_stock_data_pd[[\"Date\", \"Close\"]]"
   ]
  },
  {
   "cell_type": "code",
   "execution_count": 24,
   "id": "3800ed91-222b-43fb-ac54-561275e1fd24",
   "metadata": {},
   "outputs": [
    {
     "data": {
      "text/html": [
       "<div>\n",
       "<style scoped>\n",
       "    .dataframe tbody tr th:only-of-type {\n",
       "        vertical-align: middle;\n",
       "    }\n",
       "\n",
       "    .dataframe tbody tr th {\n",
       "        vertical-align: top;\n",
       "    }\n",
       "\n",
       "    .dataframe thead th {\n",
       "        text-align: right;\n",
       "    }\n",
       "</style>\n",
       "<table border=\"1\" class=\"dataframe\">\n",
       "  <thead>\n",
       "    <tr style=\"text-align: right;\">\n",
       "      <th></th>\n",
       "      <th>Date</th>\n",
       "      <th>Close</th>\n",
       "    </tr>\n",
       "  </thead>\n",
       "  <tbody>\n",
       "    <tr>\n",
       "      <th>0</th>\n",
       "      <td>2004-08-19</td>\n",
       "      <td>49.982655</td>\n",
       "    </tr>\n",
       "    <tr>\n",
       "      <th>1</th>\n",
       "      <td>2004-08-20</td>\n",
       "      <td>53.952770</td>\n",
       "    </tr>\n",
       "    <tr>\n",
       "      <th>2</th>\n",
       "      <td>2004-08-23</td>\n",
       "      <td>54.495735</td>\n",
       "    </tr>\n",
       "    <tr>\n",
       "      <th>3</th>\n",
       "      <td>2004-08-24</td>\n",
       "      <td>52.239193</td>\n",
       "    </tr>\n",
       "    <tr>\n",
       "      <th>4</th>\n",
       "      <td>2004-08-25</td>\n",
       "      <td>52.802086</td>\n",
       "    </tr>\n",
       "    <tr>\n",
       "      <th>...</th>\n",
       "      <td>...</td>\n",
       "      <td>...</td>\n",
       "    </tr>\n",
       "    <tr>\n",
       "      <th>3927</th>\n",
       "      <td>2020-03-26</td>\n",
       "      <td>1161.750000</td>\n",
       "    </tr>\n",
       "    <tr>\n",
       "      <th>3928</th>\n",
       "      <td>2020-03-27</td>\n",
       "      <td>1110.709961</td>\n",
       "    </tr>\n",
       "    <tr>\n",
       "      <th>3929</th>\n",
       "      <td>2020-03-30</td>\n",
       "      <td>1146.819946</td>\n",
       "    </tr>\n",
       "    <tr>\n",
       "      <th>3930</th>\n",
       "      <td>2020-03-31</td>\n",
       "      <td>1162.810059</td>\n",
       "    </tr>\n",
       "    <tr>\n",
       "      <th>3931</th>\n",
       "      <td>2020-04-01</td>\n",
       "      <td>1105.619995</td>\n",
       "    </tr>\n",
       "  </tbody>\n",
       "</table>\n",
       "<p>3932 rows × 2 columns</p>\n",
       "</div>"
      ],
      "text/plain": [
       "            Date        Close\n",
       "0     2004-08-19    49.982655\n",
       "1     2004-08-20    53.952770\n",
       "2     2004-08-23    54.495735\n",
       "3     2004-08-24    52.239193\n",
       "4     2004-08-25    52.802086\n",
       "...          ...          ...\n",
       "3927  2020-03-26  1161.750000\n",
       "3928  2020-03-27  1110.709961\n",
       "3929  2020-03-30  1146.819946\n",
       "3930  2020-03-31  1162.810059\n",
       "3931  2020-04-01  1105.619995\n",
       "\n",
       "[3932 rows x 2 columns]"
      ]
     },
     "execution_count": 24,
     "metadata": {},
     "output_type": "execute_result"
    }
   ],
   "source": [
    "google_stock_date_close_pd"
   ]
  },
  {
   "cell_type": "markdown",
   "id": "386fd839-ea29-486c-b61a-df9c9ff7df66",
   "metadata": {},
   "source": [
    "## Plot Date as PD Date Type"
   ]
  },
  {
   "cell_type": "code",
   "execution_count": 25,
   "id": "abb81064-644c-4e64-97bb-ae26dd0bee4d",
   "metadata": {},
   "outputs": [
    {
     "name": "stderr",
     "output_type": "stream",
     "text": [
      "/tmp/ipykernel_12941/636717400.py:1: SettingWithCopyWarning: \n",
      "A value is trying to be set on a copy of a slice from a DataFrame.\n",
      "Try using .loc[row_indexer,col_indexer] = value instead\n",
      "\n",
      "See the caveats in the documentation: https://pandas.pydata.org/pandas-docs/stable/user_guide/indexing.html#returning-a-view-versus-a-copy\n",
      "  google_stock_date_close_pd[\"Date\"] = pd.to_datetime(google_stock_date_close_pd[\"Date\"])\n"
     ]
    },
    {
     "data": {
      "text/plain": [
       "[<matplotlib.lines.Line2D at 0x7f616383d9d0>]"
      ]
     },
     "execution_count": 25,
     "metadata": {},
     "output_type": "execute_result"
    },
    {
     "data": {
      "image/png": "[encoded data removed]",
      "text/plain": [
       "<Figure size 640x480 with 1 Axes>"
      ]
     },
     "metadata": {},
     "output_type": "display_data"
    }
   ],
   "source": [
    "google_stock_date_close_pd[\"Date\"] = pd.to_datetime(google_stock_date_close_pd[\"Date\"])\n",
    "\n",
    "plt.plot(google_stock_date_close_pd[\"Date\"], google_stock_date_close_pd[\"Close\"])"
   ]
  },
  {
   "cell_type": "code",
   "execution_count": 26,
   "id": "b03316ab-7038-48f3-a68e-a81d476bfee9",
   "metadata": {},
   "outputs": [],
   "source": [
    "nifi_pipeline = DataPrepPipeline()"
   ]
  },
  {
   "cell_type": "code",
   "execution_count": 27,
   "id": "b11bb093-4b37-499e-bd26-c2b088bc6568",
   "metadata": {},
   "outputs": [],
   "source": [
    "# number of days we're tracking for the features with respect to the 8th day we're predicting\n",
    "# lookback = 7\n",
    "# NOTE: we analyze the moving average to the closing price, the better the MA Curve looks, that\n",
    "# one we can test training our model\n",
    "lookback = 100"
   ]
  },
  {
   "cell_type": "code",
   "execution_count": 28,
   "id": "48642062-f5db-4add-b10c-fd4743322d09",
   "metadata": {},
   "outputs": [
    {
     "name": "stderr",
     "output_type": "stream",
     "text": [
      "/tmp/ipykernel_12941/1392816455.py:22: PerformanceWarning: DataFrame is highly fragmented.  This is usually the result of calling `frame.insert` many times, which has poor performance.  Consider joining all columns at once using pd.concat(axis=1) instead.  To get a de-fragmented frame, use `newframe = frame.copy()`\n",
      "  stock_df[f\"Close(t-{i})\"] = stock_df[\"Close\"].shift(i)\n"
     ]
    }
   ],
   "source": [
    "google_stock_fets_labels_df = nifi_pipeline.prepare_df_for_lstm(google_stock_date_close_pd, n_steps=lookback)"
   ]
  },
  {
   "cell_type": "code",
   "execution_count": 29,
   "id": "f5a45da5-70ee-456c-96dd-c4050096d4a0",
   "metadata": {},
   "outputs": [
    {
     "data": {
      "text/html": [
       "<div>\n",
       "<style scoped>\n",
       "    .dataframe tbody tr th:only-of-type {\n",
       "        vertical-align: middle;\n",
       "    }\n",
       "\n",
       "    .dataframe tbody tr th {\n",
       "        vertical-align: top;\n",
       "    }\n",
       "\n",
       "    .dataframe thead th {\n",
       "        text-align: right;\n",
       "    }\n",
       "</style>\n",
       "<table border=\"1\" class=\"dataframe\">\n",
       "  <thead>\n",
       "    <tr style=\"text-align: right;\">\n",
       "      <th></th>\n",
       "      <th>Close</th>\n",
       "      <th>Close(t-1)</th>\n",
       "      <th>Close(t-2)</th>\n",
       "      <th>Close(t-3)</th>\n",
       "      <th>Close(t-4)</th>\n",
       "      <th>Close(t-5)</th>\n",
       "      <th>Close(t-6)</th>\n",
       "      <th>Close(t-7)</th>\n",
       "      <th>Close(t-8)</th>\n",
       "      <th>Close(t-9)</th>\n",
       "      <th>...</th>\n",
       "      <th>Close(t-91)</th>\n",
       "      <th>Close(t-92)</th>\n",
       "      <th>Close(t-93)</th>\n",
       "      <th>Close(t-94)</th>\n",
       "      <th>Close(t-95)</th>\n",
       "      <th>Close(t-96)</th>\n",
       "      <th>Close(t-97)</th>\n",
       "      <th>Close(t-98)</th>\n",
       "      <th>Close(t-99)</th>\n",
       "      <th>Close(t-100)</th>\n",
       "    </tr>\n",
       "    <tr>\n",
       "      <th>Date</th>\n",
       "      <th></th>\n",
       "      <th></th>\n",
       "      <th></th>\n",
       "      <th></th>\n",
       "      <th></th>\n",
       "      <th></th>\n",
       "      <th></th>\n",
       "      <th></th>\n",
       "      <th></th>\n",
       "      <th></th>\n",
       "      <th></th>\n",
       "      <th></th>\n",
       "      <th></th>\n",
       "      <th></th>\n",
       "      <th></th>\n",
       "      <th></th>\n",
       "      <th></th>\n",
       "      <th></th>\n",
       "      <th></th>\n",
       "      <th></th>\n",
       "      <th></th>\n",
       "    </tr>\n",
       "  </thead>\n",
       "  <tbody>\n",
       "    <tr>\n",
       "      <th>2005-01-11</th>\n",
       "      <td>96.408638</td>\n",
       "      <td>97.165802</td>\n",
       "      <td>96.563057</td>\n",
       "      <td>93.922951</td>\n",
       "      <td>96.393692</td>\n",
       "      <td>96.886841</td>\n",
       "      <td>100.976517</td>\n",
       "      <td>96.035034</td>\n",
       "      <td>98.431053</td>\n",
       "      <td>96.089828</td>\n",
       "      <td>...</td>\n",
       "      <td>49.937820</td>\n",
       "      <td>50.993862</td>\n",
       "      <td>50.814533</td>\n",
       "      <td>52.876804</td>\n",
       "      <td>53.753517</td>\n",
       "      <td>52.802086</td>\n",
       "      <td>52.239193</td>\n",
       "      <td>54.495735</td>\n",
       "      <td>53.952770</td>\n",
       "      <td>49.982655</td>\n",
       "    </tr>\n",
       "    <tr>\n",
       "      <th>2005-01-12</th>\n",
       "      <td>97.325203</td>\n",
       "      <td>96.408638</td>\n",
       "      <td>97.165802</td>\n",
       "      <td>96.563057</td>\n",
       "      <td>93.922951</td>\n",
       "      <td>96.393692</td>\n",
       "      <td>96.886841</td>\n",
       "      <td>100.976517</td>\n",
       "      <td>96.035034</td>\n",
       "      <td>98.431053</td>\n",
       "      <td>...</td>\n",
       "      <td>50.565468</td>\n",
       "      <td>49.937820</td>\n",
       "      <td>50.993862</td>\n",
       "      <td>50.814533</td>\n",
       "      <td>52.876804</td>\n",
       "      <td>53.753517</td>\n",
       "      <td>52.802086</td>\n",
       "      <td>52.239193</td>\n",
       "      <td>54.495735</td>\n",
       "      <td>53.952770</td>\n",
       "    </tr>\n",
       "    <tr>\n",
       "      <th>2005-01-13</th>\n",
       "      <td>97.300293</td>\n",
       "      <td>97.325203</td>\n",
       "      <td>96.408638</td>\n",
       "      <td>97.165802</td>\n",
       "      <td>96.563057</td>\n",
       "      <td>93.922951</td>\n",
       "      <td>96.393692</td>\n",
       "      <td>96.886841</td>\n",
       "      <td>100.976517</td>\n",
       "      <td>96.035034</td>\n",
       "      <td>...</td>\n",
       "      <td>49.818268</td>\n",
       "      <td>50.565468</td>\n",
       "      <td>49.937820</td>\n",
       "      <td>50.993862</td>\n",
       "      <td>50.814533</td>\n",
       "      <td>52.876804</td>\n",
       "      <td>53.753517</td>\n",
       "      <td>52.802086</td>\n",
       "      <td>52.239193</td>\n",
       "      <td>54.495735</td>\n",
       "    </tr>\n",
       "    <tr>\n",
       "      <th>2005-01-14</th>\n",
       "      <td>99.611633</td>\n",
       "      <td>97.300293</td>\n",
       "      <td>97.325203</td>\n",
       "      <td>96.408638</td>\n",
       "      <td>97.165802</td>\n",
       "      <td>96.563057</td>\n",
       "      <td>93.922951</td>\n",
       "      <td>96.393692</td>\n",
       "      <td>96.886841</td>\n",
       "      <td>100.976517</td>\n",
       "      <td>...</td>\n",
       "      <td>50.600338</td>\n",
       "      <td>49.818268</td>\n",
       "      <td>50.565468</td>\n",
       "      <td>49.937820</td>\n",
       "      <td>50.993862</td>\n",
       "      <td>50.814533</td>\n",
       "      <td>52.876804</td>\n",
       "      <td>53.753517</td>\n",
       "      <td>52.802086</td>\n",
       "      <td>52.239193</td>\n",
       "    </tr>\n",
       "    <tr>\n",
       "      <th>2005-01-18</th>\n",
       "      <td>101.569290</td>\n",
       "      <td>99.611633</td>\n",
       "      <td>97.300293</td>\n",
       "      <td>97.325203</td>\n",
       "      <td>96.408638</td>\n",
       "      <td>97.165802</td>\n",
       "      <td>96.563057</td>\n",
       "      <td>93.922951</td>\n",
       "      <td>96.393692</td>\n",
       "      <td>96.886841</td>\n",
       "      <td>...</td>\n",
       "      <td>50.958992</td>\n",
       "      <td>50.600338</td>\n",
       "      <td>49.818268</td>\n",
       "      <td>50.565468</td>\n",
       "      <td>49.937820</td>\n",
       "      <td>50.993862</td>\n",
       "      <td>50.814533</td>\n",
       "      <td>52.876804</td>\n",
       "      <td>53.753517</td>\n",
       "      <td>52.802086</td>\n",
       "    </tr>\n",
       "    <tr>\n",
       "      <th>...</th>\n",
       "      <td>...</td>\n",
       "      <td>...</td>\n",
       "      <td>...</td>\n",
       "      <td>...</td>\n",
       "      <td>...</td>\n",
       "      <td>...</td>\n",
       "      <td>...</td>\n",
       "      <td>...</td>\n",
       "      <td>...</td>\n",
       "      <td>...</td>\n",
       "      <td>...</td>\n",
       "      <td>...</td>\n",
       "      <td>...</td>\n",
       "      <td>...</td>\n",
       "      <td>...</td>\n",
       "      <td>...</td>\n",
       "      <td>...</td>\n",
       "      <td>...</td>\n",
       "      <td>...</td>\n",
       "      <td>...</td>\n",
       "      <td>...</td>\n",
       "    </tr>\n",
       "    <tr>\n",
       "      <th>2020-03-26</th>\n",
       "      <td>1161.750000</td>\n",
       "      <td>1102.489990</td>\n",
       "      <td>1134.459961</td>\n",
       "      <td>1056.619995</td>\n",
       "      <td>1072.319946</td>\n",
       "      <td>1115.290039</td>\n",
       "      <td>1096.800049</td>\n",
       "      <td>1119.800049</td>\n",
       "      <td>1084.329956</td>\n",
       "      <td>1219.729980</td>\n",
       "      <td>...</td>\n",
       "      <td>1298.000000</td>\n",
       "      <td>1298.800049</td>\n",
       "      <td>1299.189941</td>\n",
       "      <td>1311.369995</td>\n",
       "      <td>1308.859985</td>\n",
       "      <td>1291.800049</td>\n",
       "      <td>1292.030029</td>\n",
       "      <td>1291.369995</td>\n",
       "      <td>1273.739990</td>\n",
       "      <td>1260.109985</td>\n",
       "    </tr>\n",
       "    <tr>\n",
       "      <th>2020-03-27</th>\n",
       "      <td>1110.709961</td>\n",
       "      <td>1161.750000</td>\n",
       "      <td>1102.489990</td>\n",
       "      <td>1134.459961</td>\n",
       "      <td>1056.619995</td>\n",
       "      <td>1072.319946</td>\n",
       "      <td>1115.290039</td>\n",
       "      <td>1096.800049</td>\n",
       "      <td>1119.800049</td>\n",
       "      <td>1084.329956</td>\n",
       "      <td>...</td>\n",
       "      <td>1311.459961</td>\n",
       "      <td>1298.000000</td>\n",
       "      <td>1298.800049</td>\n",
       "      <td>1299.189941</td>\n",
       "      <td>1311.369995</td>\n",
       "      <td>1308.859985</td>\n",
       "      <td>1291.800049</td>\n",
       "      <td>1292.030029</td>\n",
       "      <td>1291.369995</td>\n",
       "      <td>1273.739990</td>\n",
       "    </tr>\n",
       "    <tr>\n",
       "      <th>2020-03-30</th>\n",
       "      <td>1146.819946</td>\n",
       "      <td>1110.709961</td>\n",
       "      <td>1161.750000</td>\n",
       "      <td>1102.489990</td>\n",
       "      <td>1134.459961</td>\n",
       "      <td>1056.619995</td>\n",
       "      <td>1072.319946</td>\n",
       "      <td>1115.290039</td>\n",
       "      <td>1096.800049</td>\n",
       "      <td>1119.800049</td>\n",
       "      <td>...</td>\n",
       "      <td>1334.869995</td>\n",
       "      <td>1311.459961</td>\n",
       "      <td>1298.000000</td>\n",
       "      <td>1298.800049</td>\n",
       "      <td>1299.189941</td>\n",
       "      <td>1311.369995</td>\n",
       "      <td>1308.859985</td>\n",
       "      <td>1291.800049</td>\n",
       "      <td>1292.030029</td>\n",
       "      <td>1291.369995</td>\n",
       "    </tr>\n",
       "    <tr>\n",
       "      <th>2020-03-31</th>\n",
       "      <td>1162.810059</td>\n",
       "      <td>1146.819946</td>\n",
       "      <td>1110.709961</td>\n",
       "      <td>1161.750000</td>\n",
       "      <td>1102.489990</td>\n",
       "      <td>1134.459961</td>\n",
       "      <td>1056.619995</td>\n",
       "      <td>1072.319946</td>\n",
       "      <td>1115.290039</td>\n",
       "      <td>1096.800049</td>\n",
       "      <td>...</td>\n",
       "      <td>1320.699951</td>\n",
       "      <td>1334.869995</td>\n",
       "      <td>1311.459961</td>\n",
       "      <td>1298.000000</td>\n",
       "      <td>1298.800049</td>\n",
       "      <td>1299.189941</td>\n",
       "      <td>1311.369995</td>\n",
       "      <td>1308.859985</td>\n",
       "      <td>1291.800049</td>\n",
       "      <td>1292.030029</td>\n",
       "    </tr>\n",
       "    <tr>\n",
       "      <th>2020-04-01</th>\n",
       "      <td>1105.619995</td>\n",
       "      <td>1162.810059</td>\n",
       "      <td>1146.819946</td>\n",
       "      <td>1110.709961</td>\n",
       "      <td>1161.750000</td>\n",
       "      <td>1102.489990</td>\n",
       "      <td>1134.459961</td>\n",
       "      <td>1056.619995</td>\n",
       "      <td>1072.319946</td>\n",
       "      <td>1115.290039</td>\n",
       "      <td>...</td>\n",
       "      <td>1315.459961</td>\n",
       "      <td>1320.699951</td>\n",
       "      <td>1334.869995</td>\n",
       "      <td>1311.459961</td>\n",
       "      <td>1298.000000</td>\n",
       "      <td>1298.800049</td>\n",
       "      <td>1299.189941</td>\n",
       "      <td>1311.369995</td>\n",
       "      <td>1308.859985</td>\n",
       "      <td>1291.800049</td>\n",
       "    </tr>\n",
       "  </tbody>\n",
       "</table>\n",
       "<p>3832 rows × 101 columns</p>\n",
       "</div>"
      ],
      "text/plain": [
       "                  Close   Close(t-1)   Close(t-2)   Close(t-3)   Close(t-4)  \\\n",
       "Date                                                                          \n",
       "2005-01-11    96.408638    97.165802    96.563057    93.922951    96.393692   \n",
       "2005-01-12    97.325203    96.408638    97.165802    96.563057    93.922951   \n",
       "2005-01-13    97.300293    97.325203    96.408638    97.165802    96.563057   \n",
       "2005-01-14    99.611633    97.300293    97.325203    96.408638    97.165802   \n",
       "2005-01-18   101.569290    99.611633    97.300293    97.325203    96.408638   \n",
       "...                 ...          ...          ...          ...          ...   \n",
       "2020-03-26  1161.750000  1102.489990  1134.459961  1056.619995  1072.319946   \n",
       "2020-03-27  1110.709961  1161.750000  1102.489990  1134.459961  1056.619995   \n",
       "2020-03-30  1146.819946  1110.709961  1161.750000  1102.489990  1134.459961   \n",
       "2020-03-31  1162.810059  1146.819946  1110.709961  1161.750000  1102.489990   \n",
       "2020-04-01  1105.619995  1162.810059  1146.819946  1110.709961  1161.750000   \n",
       "\n",
       "             Close(t-5)   Close(t-6)   Close(t-7)   Close(t-8)   Close(t-9)  \\\n",
       "Date                                                                          \n",
       "2005-01-11    96.886841   100.976517    96.035034    98.431053    96.089828   \n",
       "2005-01-12    96.393692    96.886841   100.976517    96.035034    98.431053   \n",
       "2005-01-13    93.922951    96.393692    96.886841   100.976517    96.035034   \n",
       "2005-01-14    96.563057    93.922951    96.393692    96.886841   100.976517   \n",
       "2005-01-18    97.165802    96.563057    93.922951    96.393692    96.886841   \n",
       "...                 ...          ...          ...          ...          ...   \n",
       "2020-03-26  1115.290039  1096.800049  1119.800049  1084.329956  1219.729980   \n",
       "2020-03-27  1072.319946  1115.290039  1096.800049  1119.800049  1084.329956   \n",
       "2020-03-30  1056.619995  1072.319946  1115.290039  1096.800049  1119.800049   \n",
       "2020-03-31  1134.459961  1056.619995  1072.319946  1115.290039  1096.800049   \n",
       "2020-04-01  1102.489990  1134.459961  1056.619995  1072.319946  1115.290039   \n",
       "\n",
       "            ...  Close(t-91)  Close(t-92)  Close(t-93)  Close(t-94)  \\\n",
       "Date        ...                                                       \n",
       "2005-01-11  ...    49.937820    50.993862    50.814533    52.876804   \n",
       "2005-01-12  ...    50.565468    49.937820    50.993862    50.814533   \n",
       "2005-01-13  ...    49.818268    50.565468    49.937820    50.993862   \n",
       "2005-01-14  ...    50.600338    49.818268    50.565468    49.937820   \n",
       "2005-01-18  ...    50.958992    50.600338    49.818268    50.565468   \n",
       "...         ...          ...          ...          ...          ...   \n",
       "2020-03-26  ...  1298.000000  1298.800049  1299.189941  1311.369995   \n",
       "2020-03-27  ...  1311.459961  1298.000000  1298.800049  1299.189941   \n",
       "2020-03-30  ...  1334.869995  1311.459961  1298.000000  1298.800049   \n",
       "2020-03-31  ...  1320.699951  1334.869995  1311.459961  1298.000000   \n",
       "2020-04-01  ...  1315.459961  1320.699951  1334.869995  1311.459961   \n",
       "\n",
       "            Close(t-95)  Close(t-96)  Close(t-97)  Close(t-98)  Close(t-99)  \\\n",
       "Date                                                                          \n",
       "2005-01-11    53.753517    52.802086    52.239193    54.495735    53.952770   \n",
       "2005-01-12    52.876804    53.753517    52.802086    52.239193    54.495735   \n",
       "2005-01-13    50.814533    52.876804    53.753517    52.802086    52.239193   \n",
       "2005-01-14    50.993862    50.814533    52.876804    53.753517    52.802086   \n",
       "2005-01-18    49.937820    50.993862    50.814533    52.876804    53.753517   \n",
       "...                 ...          ...          ...          ...          ...   \n",
       "2020-03-26  1308.859985  1291.800049  1292.030029  1291.369995  1273.739990   \n",
       "2020-03-27  1311.369995  1308.859985  1291.800049  1292.030029  1291.369995   \n",
       "2020-03-30  1299.189941  1311.369995  1308.859985  1291.800049  1292.030029   \n",
       "2020-03-31  1298.800049  1299.189941  1311.369995  1308.859985  1291.800049   \n",
       "2020-04-01  1298.000000  1298.800049  1299.189941  1311.369995  1308.859985   \n",
       "\n",
       "            Close(t-100)  \n",
       "Date                      \n",
       "2005-01-11     49.982655  \n",
       "2005-01-12     53.952770  \n",
       "2005-01-13     54.495735  \n",
       "2005-01-14     52.239193  \n",
       "2005-01-18     52.802086  \n",
       "...                  ...  \n",
       "2020-03-26   1260.109985  \n",
       "2020-03-27   1273.739990  \n",
       "2020-03-30   1291.369995  \n",
       "2020-03-31   1292.030029  \n",
       "2020-04-01   1291.800049  \n",
       "\n",
       "[3832 rows x 101 columns]"
      ]
     },
     "execution_count": 29,
     "metadata": {},
     "output_type": "execute_result"
    }
   ],
   "source": [
    "google_stock_fets_labels_df"
   ]
  },
  {
   "cell_type": "code",
   "execution_count": 30,
   "id": "f76e8b9b-1983-4f17-bc79-2db520007dbc",
   "metadata": {},
   "outputs": [],
   "source": [
    "# google_stock_fets_labels_df[\"Date\"]"
   ]
  },
  {
   "cell_type": "markdown",
   "id": "114a9cb8-32fa-43c6-896a-d2804da5d755",
   "metadata": {},
   "source": [
    "## Scale Features On (-1, 1) via MinMaxScaler\n",
    "\n",
    "Scale training data between 0 and 1"
   ]
  },
  {
   "cell_type": "code",
   "execution_count": 31,
   "id": "afee6837-9e5d-4c2a-b3b3-b73895d1edf0",
   "metadata": {},
   "outputs": [],
   "source": [
    "scaler = MinMaxScaler(feature_range=(0,1))"
   ]
  },
  {
   "cell_type": "code",
   "execution_count": 32,
   "id": "01553201-0e38-4edf-a8a9-8840e10f9ed5",
   "metadata": {},
   "outputs": [],
   "source": [
    "google_stock_fets_labels_df_scale = scaler.fit_transform(google_stock_fets_labels_df)"
   ]
  },
  {
   "cell_type": "code",
   "execution_count": 33,
   "id": "75b9b608-1c7e-4069-9a14-a99fa62f3747",
   "metadata": {},
   "outputs": [
    {
     "data": {
      "text/plain": [
       "array([[-0.9871619 , -0.98610993, -0.98694735, ..., -0.99258458,\n",
       "        -0.9934323 , -0.99973533],\n",
       "       [-0.98588847, -0.9871619 , -0.98610993, ..., -0.99616199,\n",
       "        -0.9925698 , -0.99334332],\n",
       "       [-0.98592308, -0.98588847, -0.9871619 , ..., -0.99526961,\n",
       "        -0.99615434, -0.99246913],\n",
       "       ...,\n",
       "       [ 0.47222747,  0.42205805,  0.49297055, ...,  0.9689748 ,\n",
       "         0.97326545,  0.99893732],\n",
       "       [ 0.49444334,  0.47222747,  0.42205805, ...,  0.99602076,\n",
       "         0.97290013,  1.        ],\n",
       "       [ 0.4149863 ,  0.49444334,  0.47222747, ...,  1.        ,\n",
       "         1.        ,  0.99962972]])"
      ]
     },
     "execution_count": 33,
     "metadata": {},
     "output_type": "execute_result"
    }
   ],
   "source": [
    "google_stock_fets_labels_df_scale"
   ]
  },
  {
   "cell_type": "code",
   "execution_count": 34,
   "id": "233c3958-4742-48ff-8dda-febfdb3fab5e",
   "metadata": {},
   "outputs": [
    {
     "name": "stdout",
     "output_type": "stream",
     "text": [
      "x_features shape = (3832, 100); y_labels shape = (3832,)\n"
     ]
    }
   ],
   "source": [
    "x_stock_fets_list, y_stock_labels_list = nifi_pipeline.split_features_labels(google_stock_fets_labels_df_scale)"
   ]
  },
  {
   "cell_type": "markdown",
   "id": "564ceeca-0edb-4fe8-a588-30ae03950fa7",
   "metadata": {},
   "source": [
    "## Split Stock 60% for Train, 20% for Valid & 20% for Test"
   ]
  },
  {
   "cell_type": "code",
   "execution_count": 35,
   "id": "a52ef44c-07d3-411f-8d14-c9903ab185cf",
   "metadata": {},
   "outputs": [],
   "source": [
    "train_ratio = 0.60\n",
    "valid_ratio = 0.20 + train_ratio # 0.80\n",
    "test_ratio = 0.20"
   ]
  },
  {
   "cell_type": "code",
   "execution_count": 36,
   "id": "526ca269-a5d8-47c7-8109-96f5d4f4f620",
   "metadata": {},
   "outputs": [
    {
     "data": {
      "text/plain": [
       "2299"
      ]
     },
     "execution_count": 36,
     "metadata": {},
     "output_type": "execute_result"
    }
   ],
   "source": [
    "train_split_index = int(len(x_stock_fets_list) * train_ratio)\n",
    "train_split_index"
   ]
  },
  {
   "cell_type": "code",
   "execution_count": 37,
   "id": "f97c7a02-0e13-484e-8413-37fc374c738f",
   "metadata": {},
   "outputs": [
    {
     "data": {
      "text/plain": [
       "3065"
      ]
     },
     "execution_count": 37,
     "metadata": {},
     "output_type": "execute_result"
    }
   ],
   "source": [
    "valid_split_index = int(len(x_stock_fets_list)*valid_ratio)\n",
    "valid_split_index"
   ]
  },
  {
   "cell_type": "code",
   "execution_count": 38,
   "id": "92752c5c-d3a3-46a7-96ed-58a2fd50881d",
   "metadata": {},
   "outputs": [
    {
     "data": {
      "text/plain": [
       "3832"
      ]
     },
     "execution_count": 38,
     "metadata": {},
     "output_type": "execute_result"
    }
   ],
   "source": [
    "test_split_index = len(x_stock_fets_list)\n",
    "test_split_index"
   ]
  },
  {
   "cell_type": "code",
   "execution_count": 39,
   "id": "22d5de8f-6b96-4303-aff0-168255fbe153",
   "metadata": {},
   "outputs": [],
   "source": [
    "# 60% for training features: 0 to 60%\n",
    "X_google_stock_train = x_stock_fets_list[0: train_split_index]\n",
    "\n",
    "# 20% for validation features: 60% to 80%\n",
    "X_google_stock_valid = x_stock_fets_list[train_split_index: valid_split_index]\n",
    "\n",
    "# 20% for testing features\n",
    "X_google_stock_test = x_stock_fets_list[valid_split_index: test_split_index]\n",
    "\n",
    "\n",
    "y_google_stock_train = y_stock_labels_list[0: train_split_index]\n",
    "\n",
    "y_google_stock_valid = y_stock_labels_list[train_split_index: valid_split_index]\n",
    "\n",
    "y_google_stock_test = y_stock_labels_list[valid_split_index: test_split_index]"
   ]
  },
  {
   "cell_type": "code",
   "execution_count": 40,
   "id": "30dcde80-8f72-4030-b536-21ed8b196a89",
   "metadata": {},
   "outputs": [],
   "source": [
    "# google_stock_train_date = pd.DataFrame(google_stock_data_pd.Date[0: int(len(google_stock_data_pd)*0.80)])\n",
    "# google_stock_test_date = pd.DataFrame(google_stock_data_pd.Date[int(len(google_stock_data_pd)*0.80): len(google_stock_data_pd)])"
   ]
  },
  {
   "cell_type": "code",
   "execution_count": 41,
   "id": "1cb8877c-7a61-404c-b3b7-4149f485ad0a",
   "metadata": {},
   "outputs": [],
   "source": [
    "# google_stock_test_date.shape"
   ]
  },
  {
   "cell_type": "code",
   "execution_count": 42,
   "id": "78f3e85e-3634-44d5-a8f0-98b3bdc5df82",
   "metadata": {},
   "outputs": [],
   "source": [
    "# print(google_stock_test_date.Date.iloc[0])"
   ]
  },
  {
   "cell_type": "code",
   "execution_count": 43,
   "id": "7dbefa16-0f4a-4c64-80dc-0207adddf9e7",
   "metadata": {},
   "outputs": [
    {
     "name": "stdout",
     "output_type": "stream",
     "text": [
      "stock_train X shape = (2299, 100); stock_train y shape =  (2299,)\n"
     ]
    }
   ],
   "source": [
    "# We dont see 100 since back at google_stock_train, we havent yet split features from labels\n",
    "print(f\"stock_train X shape = {X_google_stock_train.shape}; stock_train y shape =  {y_google_stock_train.shape}\")"
   ]
  },
  {
   "cell_type": "code",
   "execution_count": 44,
   "id": "d357fd82-567d-41f5-a7d6-c7187c889d8a",
   "metadata": {},
   "outputs": [
    {
     "name": "stdout",
     "output_type": "stream",
     "text": [
      "stock_valid X shape = (766, 100); stock_valid y shape =  (766,)\n"
     ]
    }
   ],
   "source": [
    "print(f\"stock_valid X shape = {X_google_stock_valid.shape}; stock_valid y shape =  {y_google_stock_valid.shape}\")"
   ]
  },
  {
   "cell_type": "code",
   "execution_count": 45,
   "id": "844aa47a-fbae-4f81-bcb0-c6f278e44bd0",
   "metadata": {},
   "outputs": [
    {
     "name": "stdout",
     "output_type": "stream",
     "text": [
      "stock_test X shape = (767, 100); stock_test y shape =  (767,)\n"
     ]
    }
   ],
   "source": [
    "print(f\"stock_test X shape = {X_google_stock_test.shape}; stock_test y shape =  {y_google_stock_test.shape}\")"
   ]
  },
  {
   "cell_type": "code",
   "execution_count": 46,
   "id": "5d9bbdcf-36c0-425e-a831-9481fbfa92aa",
   "metadata": {
    "scrolled": true
   },
   "outputs": [
    {
     "data": {
      "text/plain": [
       "array([[ 0.0559504 ,  0.0537552 ,  0.05364403,  0.05046245,  0.0441131 ,\n",
       "         0.03951436,  0.03470718,  0.02896924,  0.03077537,  0.03292885,\n",
       "         0.03933374,  0.02261989,  0.03105326,  0.03016406,  0.03390141,\n",
       "         0.03310947,  0.03435984,  0.02937212,  0.02393971,  0.01828519,\n",
       "         0.02032437,  0.01864586,  0.0110799 ,  0.00537957,  0.00374298,\n",
       "         0.00178734, -0.00602109, -0.00581309, -0.0099184 , -0.01385042,\n",
       "        -0.00823963, -0.000538  ,  0.03129498,  0.04441994,  0.05629546,\n",
       "         0.03983222,  0.04964955,  0.02929937,  0.0252478 ,  0.03079464,\n",
       "         0.02871544,  0.03337224,  0.0312076 ,  0.03341492,  0.02897177,\n",
       "         0.03162064,  0.0309086 ,  0.01363441,  0.00399539,  0.00402113,\n",
       "        -0.01358349,  0.02310276,  0.03583543,  0.04541547,  0.04299833,\n",
       "         0.05783063,  0.07356932,  0.08883611,  0.09379612,  0.08866101,\n",
       "         0.12205088,  0.12084852,  0.12577017,  0.11593245,  0.1159633 ,\n",
       "         0.09606831,  0.08798359,  0.06930978,  0.07465241,  0.05697315,\n",
       "         0.05407315,  0.06968306,  0.09038441,  0.09857877,  0.08841895,\n",
       "         0.09178895,  0.1034188 ,  0.10595705,  0.09498251,  0.11679006,\n",
       "         0.10743917,  0.09875785,  0.06390298,  0.09335739,  0.10744034,\n",
       "         0.14392488,  0.15202848,  0.13982243,  0.1084406 ,  0.10861177,\n",
       "         0.11883705,  0.1420423 ,  0.1434897 ,  0.18187554,  0.18192808,\n",
       "         0.18782563,  0.2014596 ,  0.2100839 ,  0.1906702 ,  0.20293774],\n",
       "       [ 0.05814559,  0.0559504 ,  0.0537552 ,  0.05364403,  0.05046245,\n",
       "         0.0441131 ,  0.03951436,  0.03470718,  0.02896924,  0.03077537,\n",
       "         0.03292885,  0.03933374,  0.02261989,  0.03105326,  0.03016406,\n",
       "         0.03390141,  0.03310947,  0.03435984,  0.02937212,  0.02547072,\n",
       "         0.01828519,  0.02032437,  0.01880519,  0.0110799 ,  0.00537957,\n",
       "         0.00374298,  0.00178734, -0.00602109, -0.00581309, -0.0099184 ,\n",
       "        -0.00976458, -0.00823963,  0.00203703,  0.03210817,  0.05136053,\n",
       "         0.0563769 ,  0.05614338,  0.04964955,  0.02929937,  0.0252478 ,\n",
       "         0.03079464,  0.02871544,  0.03337224,  0.0312076 ,  0.03341492,\n",
       "         0.02897177,  0.03162064,  0.0309086 ,  0.01413994,  0.00510519,\n",
       "         0.00690075,  0.00708187,  0.03250451,  0.03583543,  0.04541547,\n",
       "         0.05583843,  0.0686799 ,  0.08604823,  0.09714897,  0.09379612,\n",
       "         0.11118291,  0.12205088,  0.12727093,  0.12649049,  0.11593245,\n",
       "         0.1159633 ,  0.09606831,  0.08798359,  0.06938144,  0.07553506,\n",
       "         0.05805278,  0.05407315,  0.07066133,  0.10260559,  0.09857877,\n",
       "         0.09286196,  0.09209463,  0.10450944,  0.10849355,  0.10003909,\n",
       "         0.11800174,  0.10812395,  0.09893682,  0.06535503,  0.09412161,\n",
       "         0.10848615,  0.14392821,  0.15226529,  0.14034593,  0.1084406 ,\n",
       "         0.10861177,  0.11883705,  0.1420423 ,  0.1647074 ,  0.18195982,\n",
       "         0.18192808,  0.18782563,  0.2014596 ,  0.21249631,  0.20680185],\n",
       "       [ 0.06278598,  0.05814559,  0.0559504 ,  0.0537552 ,  0.05364403,\n",
       "         0.05046245,  0.0441131 ,  0.03951436,  0.03470718,  0.02896924,\n",
       "         0.03077537,  0.03292885,  0.03933374,  0.02261989,  0.03105326,\n",
       "         0.03016406,  0.03390141,  0.03310947,  0.03435984,  0.03089461,\n",
       "         0.02547072,  0.01828519,  0.02048343,  0.01880519,  0.0110799 ,\n",
       "         0.00537957,  0.00374298,  0.00178734, -0.00602109, -0.00581309,\n",
       "        -0.00581627, -0.00976458, -0.00567128,  0.00287477,  0.03896694,\n",
       "         0.05144159,  0.07294759,  0.05614338,  0.04964955,  0.02929937,\n",
       "         0.0252478 ,  0.03079464,  0.02871544,  0.03337224,  0.0312076 ,\n",
       "         0.03341492,  0.02897177,  0.03162064,  0.03142274,  0.01526096,\n",
       "         0.00798792,  0.02799526,  0.0163364 ,  0.03250451,  0.03583543,\n",
       "         0.05825855,  0.06667962,  0.08110197,  0.09433981,  0.09714897,\n",
       "         0.11642425,  0.11118291,  0.12847763,  0.12799001,  0.12649049,\n",
       "         0.11593245,  0.1159633 ,  0.09606831,  0.08805381,  0.07026911,\n",
       "         0.07659344,  0.05805278,  0.05506784,  0.08278147,  0.10260559,\n",
       "         0.10306325,  0.09316794,  0.09317742,  0.10704261,  0.11360915,\n",
       "         0.10127375,  0.11867842,  0.10830106,  0.10033452,  0.06614285,\n",
       "         0.09518303,  0.10848961,  0.14416728,  0.15278121,  0.14034593,\n",
       "         0.1084406 ,  0.10861177,  0.11883705,  0.16323315,  0.16479046,\n",
       "         0.18195982,  0.18192808,  0.18782563,  0.20385481,  0.22892367],\n",
       "       [ 0.05761763,  0.06278598,  0.05814559,  0.0559504 ,  0.0537552 ,\n",
       "         0.05364403,  0.05046245,  0.0441131 ,  0.03951436,  0.03470718,\n",
       "         0.02896924,  0.03077537,  0.03292885,  0.03933374,  0.02261989,\n",
       "         0.03105326,  0.03016406,  0.03390141,  0.03310947,  0.03587451,\n",
       "         0.03089461,  0.02547072,  0.01844458,  0.02048343,  0.01880519,\n",
       "         0.0110799 ,  0.00537957,  0.00374298,  0.00178734, -0.00602109,\n",
       "        -0.00169395, -0.00581627, -0.00719756, -0.00482706,  0.00953928,\n",
       "         0.03904705,  0.06793486,  0.07294759,  0.05614338,  0.04964955,\n",
       "         0.02929937,  0.0252478 ,  0.03079464,  0.02871544,  0.03337224,\n",
       "         0.0312076 ,  0.03341492,  0.02897177,  0.03213514,  0.03256286,\n",
       "         0.01817281,  0.0291052 ,  0.03744197,  0.0163364 ,  0.03250451,\n",
       "         0.04866671,  0.06910955,  0.07907844,  0.08935579,  0.09433981,\n",
       "         0.11984646,  0.11642425,  0.11757047,  0.12919571,  0.12799001,\n",
       "         0.12649049,  0.11593245,  0.1159633 ,  0.09613791,  0.08892367,\n",
       "         0.07133352,  0.07659344,  0.05904328,  0.06710808,  0.08278147,\n",
       "         0.10710651,  0.10337209,  0.09425147,  0.0956846 ,  0.11215187,\n",
       "         0.11482519,  0.10196326,  0.11885343,  0.10968423,  0.10109286,\n",
       "         0.06723706,  0.09518654,  0.10873858,  0.14468813,  0.15278121,\n",
       "         0.14034593,  0.1084406 ,  0.10861177,  0.13959732,  0.1633161 ,\n",
       "         0.16479046,  0.18195982,  0.18192808,  0.19019367,  0.22016509],\n",
       "       [ 0.03269269,  0.05761763,  0.06278598,  0.05814559,  0.0559504 ,\n",
       "         0.0537552 ,  0.05364403,  0.05046245,  0.0441131 ,  0.03951436,\n",
       "         0.03470718,  0.02896924,  0.03077537,  0.03292885,  0.03933374,\n",
       "         0.02261989,  0.03105326,  0.03016406,  0.03390141,  0.0346261 ,\n",
       "         0.03587451,  0.03089461,  0.02562894,  0.01844458,  0.02048343,\n",
       "         0.01880519,  0.0110799 ,  0.00537957,  0.00374298,  0.00178734,\n",
       "        -0.00190281, -0.00169395, -0.00324582, -0.00635206,  0.00178626,\n",
       "         0.00961712,  0.05534589,  0.06793486,  0.07294759,  0.05614338,\n",
       "         0.04964955,  0.02929937,  0.0252478 ,  0.03079464,  0.02871544,\n",
       "         0.03337224,  0.0312076 ,  0.03341492,  0.02948495,  0.03327605,\n",
       "         0.03552434,  0.03950347,  0.03856211,  0.03744197,  0.0163364 ,\n",
       "         0.04533168,  0.05947883,  0.08153661,  0.08731681,  0.08935579,\n",
       "         0.11697919,  0.11984646,  0.12283071,  0.11829754,  0.12919571,\n",
       "         0.12799001,  0.12649049,  0.11593245,  0.11603137,  0.09700007,\n",
       "         0.08996673,  0.07133352,  0.07756444,  0.0711039 ,  0.06710808,\n",
       "         0.08720146,  0.10741648,  0.10446269,  0.09676112,  0.10074425,\n",
       "         0.11336992,  0.11550431,  0.10214159,  0.12022024,  0.11043469,\n",
       "         0.10214611,  0.06724068,  0.09543923,  0.109281  ,  0.14468813,\n",
       "         0.15278121,  0.14034593,  0.1084406 ,  0.1291823 ,  0.13967859,\n",
       "         0.1633161 ,  0.16479046,  0.18195982,  0.18428436,  0.20631886]])"
      ]
     },
     "execution_count": 46,
     "metadata": {},
     "output_type": "execute_result"
    }
   ],
   "source": [
    "X_google_stock_test[:5]"
   ]
  },
  {
   "cell_type": "code",
   "execution_count": 47,
   "id": "2ea562ab-49c3-4da3-8a8a-ba7f5ec3e09d",
   "metadata": {},
   "outputs": [],
   "source": [
    "# taken last 100 days from training set\n",
    "# google_stock_train_pas_100_days = google_stock_train.tail(100)"
   ]
  },
  {
   "cell_type": "code",
   "execution_count": 48,
   "id": "cb53d787-3693-4989-83f2-9acd5005fd20",
   "metadata": {},
   "outputs": [],
   "source": [
    "# google_stock_test = pd.concat([google_stock_train_pas_100_days, google_stock_test],\n",
    "#                                ignore_index=True)"
   ]
  },
  {
   "cell_type": "code",
   "execution_count": 49,
   "id": "431e5688-be51-4ec9-953f-b6498e1fbe0e",
   "metadata": {},
   "outputs": [],
   "source": [
    "# google_stock_test"
   ]
  },
  {
   "cell_type": "code",
   "execution_count": 50,
   "id": "30ff6ac4-5ba4-4f66-baf3-5d5cee59dffd",
   "metadata": {},
   "outputs": [
    {
     "name": "stdout",
     "output_type": "stream",
     "text": [
      "len(x_stock_fets_list) = 3832\n",
      "total google stock on splits = 3832\n"
     ]
    }
   ],
   "source": [
    "print(f\"len(x_stock_fets_list) = {len(x_stock_fets_list)}\")\n",
    "print(f\"total google stock on splits = {X_google_stock_train.shape[0] + X_google_stock_valid.shape[0] + X_google_stock_test.shape[0]}\")"
   ]
  },
  {
   "cell_type": "markdown",
   "id": "b4f6cec6-fad3-4ece-9023-50f25721b597",
   "metadata": {},
   "source": [
    "## Add Extra Dimension for LSTM Prep\n",
    "\n",
    "Add an extra dimension to X stock training, validation and testing sets accounting for lookback.\n",
    "Add an extra dimension to y stock training, validation and testing sets."
   ]
  },
  {
   "cell_type": "code",
   "execution_count": 51,
   "id": "b3efd5fb-82d8-4eb9-800a-31da6a8806b5",
   "metadata": {},
   "outputs": [],
   "source": [
    "X_google_stock_train = X_google_stock_train.reshape( (-1, lookback, 1) )\n",
    "X_google_stock_valid = X_google_stock_valid.reshape( (-1, lookback, 1) )\n",
    "X_google_stock_test = X_google_stock_test.reshape( (-1, lookback, 1) )\n",
    "\n",
    "y_google_stock_train = y_google_stock_train.reshape( (-1, 1) )\n",
    "y_google_stock_valid = y_google_stock_valid.reshape( (-1, 1) )\n",
    "y_google_stock_test = y_google_stock_test.reshape( (-1, 1) )"
   ]
  },
  {
   "cell_type": "code",
   "execution_count": 52,
   "id": "93691edd-1fd4-4305-ade5-e459c35fd0f7",
   "metadata": {},
   "outputs": [
    {
     "name": "stdout",
     "output_type": "stream",
     "text": [
      "stock_train X shape = (2299, 100, 1); stock_train y shape =  (2299, 1)\n",
      "stock_valid X shape = (766, 100, 1); stock_valid y shape =  (766, 1)\n",
      "stock_test X shape = (767, 100, 1); stock_test y shape =  (767, 1)\n"
     ]
    }
   ],
   "source": [
    "print(f\"stock_train X shape = {X_google_stock_train.shape}; stock_train y shape =  {y_google_stock_train.shape}\")\n",
    "print(f\"stock_valid X shape = {X_google_stock_valid.shape}; stock_valid y shape =  {y_google_stock_valid.shape}\")\n",
    "print(f\"stock_test X shape = {X_google_stock_test.shape}; stock_test y shape =  {y_google_stock_test.shape}\")"
   ]
  },
  {
   "cell_type": "markdown",
   "id": "a4a5452c-1aa4-4821-a8fb-398f2e069ef2",
   "metadata": {},
   "source": [
    "## Create PyTorch Nasdaq Dataset (Train, Valid, Test)"
   ]
  },
  {
   "cell_type": "code",
   "execution_count": 53,
   "id": "f79eb6f7-27a4-4bb4-b35f-6e62f5eeaa36",
   "metadata": {},
   "outputs": [],
   "source": [
    "class NasdaqTimeSeriesDataset(torch.utils.data.Dataset):\n",
    "    def __init__(self, stock_close_price_fets, stock_close_price_labels):\n",
    "        self.stock_close_price_fets_ = stock_close_price_fets\n",
    "        self.stock_close_price_labels_ = stock_close_price_labels\n",
    "        self.count_ = 0\n",
    "\n",
    "    def __len__(self):\n",
    "        return len(self.stock_close_price_fets_)\n",
    "\n",
    "    def __getitem__(self, idx):\n",
    "        if DEBUG and self.count_ == 0:\n",
    "            print(f\"NasdaqDataset __getitem__ idx = {idx}\")\n",
    "        # each array holds 100 days of closing prices\n",
    "        closing_price_features = self.stock_close_price_fets_[idx]\n",
    "        closing_price_features_tensor = torch.tensor(closing_price_features).float()\n",
    "\n",
    "        if DEBUG and self.count_ == 0:\n",
    "            print(f\"closing_price_features_tensor.shape = {closing_price_features_tensor.shape}\")\n",
    "        \n",
    "        closing_price_labels = self.stock_close_price_labels_[idx]\n",
    "        closing_price_labels_tensor = torch.tensor(closing_price_labels).float()\n",
    "\n",
    "        if DEBUG and self.count_ == 0:\n",
    "            print(f\"closing_price_labels_tensor.shape = {closing_price_labels_tensor.shape}\")\n",
    "\n",
    "        self.count_ += 1\n",
    "        \n",
    "        return closing_price_features_tensor, closing_price_labels_tensor"
   ]
  },
  {
   "cell_type": "code",
   "execution_count": 54,
   "id": "496b55eb-f2fe-4a8f-8d13-5038b878abfc",
   "metadata": {},
   "outputs": [],
   "source": [
    "# x_train_fets_array, y_train_labels_array = np.array(x_train_fets_list), np.array(y_train_labels_list)\n",
    "# x_valid_fets_array, y_valid_labels_array = np.array(x_valid_fets_list), np.array(y_valid_labels_list)\n",
    "# x_test_fets_array, y_test_labels_array = np.array(x_test_fets_list), np.array(y_test_labels_list)"
   ]
  },
  {
   "cell_type": "code",
   "execution_count": 55,
   "id": "a1fc880d-07ea-4e46-b29f-905f58b275a5",
   "metadata": {},
   "outputs": [],
   "source": [
    "stock_train_dataset = NasdaqTimeSeriesDataset(X_google_stock_train, y_google_stock_train)"
   ]
  },
  {
   "cell_type": "code",
   "execution_count": 56,
   "id": "fa8e5d75-9b36-42af-a1b9-297b5d821af4",
   "metadata": {},
   "outputs": [],
   "source": [
    "stock_valid_dataset = NasdaqTimeSeriesDataset(X_google_stock_valid, y_google_stock_valid)"
   ]
  },
  {
   "cell_type": "code",
   "execution_count": 57,
   "id": "94a50dbf-3470-4072-b944-29374d9272a8",
   "metadata": {},
   "outputs": [],
   "source": [
    "stock_test_dataset = NasdaqTimeSeriesDataset(X_google_stock_test, y_google_stock_test)"
   ]
  },
  {
   "cell_type": "markdown",
   "id": "281d2cc6-81ab-4ad0-a7f6-840cbbf01499",
   "metadata": {},
   "source": [
    "## Create PyTorch Nasdaq DataLoader (Train, Test)"
   ]
  },
  {
   "cell_type": "code",
   "execution_count": 58,
   "id": "08de933f-2133-4dd6-8184-3b8f585deb03",
   "metadata": {},
   "outputs": [],
   "source": [
    "stock_train_loader = DataLoader(stock_train_dataset, batch_size = BATCH_SIZE, shuffle=True)"
   ]
  },
  {
   "cell_type": "code",
   "execution_count": 59,
   "id": "7bbfb686-b264-43b8-bf03-6fd910c956b6",
   "metadata": {},
   "outputs": [],
   "source": [
    "stock_valid_loader = DataLoader(stock_valid_dataset, batch_size = TEST_BATCH_SIZE, shuffle=False)"
   ]
  },
  {
   "cell_type": "code",
   "execution_count": 60,
   "id": "5dd3796c-c345-44f1-a492-7687944c5e8d",
   "metadata": {},
   "outputs": [],
   "source": [
    "stock_test_loader = DataLoader(stock_test_dataset, batch_size = TEST_BATCH_SIZE, shuffle=False)"
   ]
  },
  {
   "cell_type": "code",
   "execution_count": 61,
   "id": "2f864be6-7db5-45b0-9d98-b7dd5f7f98d0",
   "metadata": {},
   "outputs": [],
   "source": [
    "pytorch_pipeline = PyTorchPipeline()"
   ]
  },
  {
   "cell_type": "code",
   "execution_count": 62,
   "id": "5212e0ca-0796-40ac-91a0-7c722c77703f",
   "metadata": {},
   "outputs": [
    {
     "name": "stdout",
     "output_type": "stream",
     "text": [
      "NasdaqDataset __getitem__ idx = 892\n",
      "closing_price_features_tensor.shape = torch.Size([100, 1])\n",
      "closing_price_labels_tensor.shape = torch.Size([1])\n",
      "close price features shape: torch.Size([16, 100, 1]); close price labels shape: torch.Size([16, 1])\n"
     ]
    }
   ],
   "source": [
    "pytorch_pipeline.test_dataloader_sample(stock_train_loader)"
   ]
  },
  {
   "cell_type": "markdown",
   "id": "80ac7f7e-f077-4ad9-bb3d-215036e5f880",
   "metadata": {},
   "source": [
    "## Create a PyTorch LSTM Model\n",
    "\n",
    "Based on our \"x\" and \"y\" training data, we'll create a ML model and then train it"
   ]
  },
  {
   "cell_type": "code",
   "execution_count": 63,
   "id": "5891bce3-9619-415c-8c10-852bc68a964d",
   "metadata": {},
   "outputs": [],
   "source": [
    "# Use nn.LSTM, nn.Linear, nn.ReLU, nn.Dropout"
   ]
  },
  {
   "cell_type": "code",
   "execution_count": 64,
   "id": "e7574106-62e0-48c1-a398-5fe7adf85f62",
   "metadata": {},
   "outputs": [],
   "source": [
    "# rows = 2259, columns, ch\n",
    "# NOTE: use to be \"x\"\n",
    "# x_train_fets_array.shape"
   ]
  },
  {
   "cell_type": "code",
   "execution_count": 65,
   "id": "ef0e7b82-a2e1-4f47-b6e5-622ca196de97",
   "metadata": {},
   "outputs": [],
   "source": [
    "class StockClosePriceLSTM(nn.Module):\n",
    "    def __init__(self, input_size, hidden_size=10, num_stacked_layers=1, dropout_ratio=0.2):\n",
    "        super(StockClosePriceLSTM, self).__init__()\n",
    "        self.hidden_size = hidden_size\n",
    "        self.num_stacked_layers = num_stacked_layers\n",
    "        self.lstm = nn.LSTM(input_size, hidden_size, num_stacked_layers, batch_first=True, \n",
    "                            dropout=dropout_ratio, bias=True)\n",
    "\n",
    "        self.fc = nn.Linear(hidden_size, 1)\n",
    "        # self.dropout1 = nn.Dropout(0.2)\n",
    "        # self.relu = nn.ReLU()\n",
    "\n",
    "        self.count_ = 0\n",
    "\n",
    "    def forward(self, closing_price_2d_features):\n",
    "        # closing price 2D features: row by col, each row has 100 samples since 100 days of closing prices, \n",
    "        # trying to pred final closing price\n",
    "        if DEBUG and self.count_ == 0:\n",
    "            print(f\"type(closing_price_2d_features) = {type(closing_price_2d_features)}\")\n",
    "        batch_size = closing_price_2d_features.size(0)\n",
    "        if DEBUG and self.count_ == 0:\n",
    "            print(f\"closing_price_2d_features batch_size = {batch_size}\")\n",
    "        h0 = torch.zeros(self.num_stacked_layers, batch_size, self.hidden_size).to(device)\n",
    "        c0 = torch.zeros(self.num_stacked_layers, batch_size, self.hidden_size).to(device)\n",
    "        \n",
    "        lstm_features, lstm_hidden = self.lstm(closing_price_2d_features, (h0, c0))\n",
    "        # decode hidden state of the last time step\n",
    "        lstm_features = lstm_features[:, -1, :]\n",
    "        if DEBUG and self.count_ == 0:\n",
    "            print(f\"type(lstm_features) = {type(lstm_features)}\")\n",
    "        stock_price_pred = self.fc(lstm_features)\n",
    "\n",
    "        self.count_ += 1\n",
    "        return stock_price_pred"
   ]
  },
  {
   "cell_type": "code",
   "execution_count": 76,
   "id": "98d423cd-bc29-4d0b-a6ad-67bc873c10a3",
   "metadata": {},
   "outputs": [],
   "source": [
    "class StockPriceLSTMV2(nn.Module):\n",
    "    def __init__(self, input_size, hidden_sizes=[10, 20, 30, 40, 50], num_stacked_layers=5, dropout_ratio=0.3, num_classes=1):\n",
    "        super(StockPriceLSTMV2, self).__init__()\n",
    "        self.hidden_sizes = hidden_sizes\n",
    "        self.num_stacked_layers = num_stacked_layers\n",
    "\n",
    "        self.lstm_list = nn.ModuleList([\n",
    "            nn.LSTM(input_size, self.hidden_sizes[0], \n",
    "                    batch_first=True, dropout=dropout_ratio, bias=True)\n",
    "        ])\n",
    "\n",
    "        for i in range(1, self.num_stacked_layers):\n",
    "            if i < self.num_stacked_layers-1:\n",
    "                print(f\"Not on last LSTM layer {i}, adding dropout = {dropout_ratio}\")\n",
    "                self.lstm_list.append( nn.LSTM(self.hidden_sizes[i-1], self.hidden_sizes[i], \n",
    "                                              batch_first=True, dropout=dropout_ratio, bias=True) )\n",
    "            else:\n",
    "                print(f\"On last LSTM layer {i}, ignoring dropout = {dropout_ratio}\")\n",
    "                self.lstm_list.append( nn.LSTM(self.hidden_sizes[i-1], self.hidden_sizes[i], \n",
    "                                              batch_first=True, bias=True) )\n",
    "        \n",
    "        # self.lstm_list.extend([\n",
    "        #     nn.LSTM(self.hidden_sizes[i-1], self.hidden_sizes[i], batch_first=True, dropout=dropout_ratio, bias=True)\n",
    "        #         for i in range(1, self.num_stacked_layers)\n",
    "        # ])\n",
    "\n",
    "        self.fc = nn.Linear(self.hidden_sizes[-1], num_classes)\n",
    "        self.count_ = 0\n",
    "\n",
    "    def forward(self, stock_price_features):\n",
    "        if DEBUG and self.count_ == 0:\n",
    "            print(f\"type(stock_price_features) = {type(stock_price_features)}\")\n",
    "        batch_size = stock_price_features.size(0)\n",
    "        if DEBUG and self.count_ == 0:\n",
    "            print(f\"stock_price_features batch_size = {batch_size}\")\n",
    "\n",
    "        hiddens = [torch.zeros(batch_size, hidden_size).to(stock_price_features.device)\n",
    "                       for hidden_size in self.hidden_sizes]\n",
    "\n",
    "        for i in range(self.num_stacked_layers):\n",
    "            stock_price_features, (hiddens[i], _) = self.lstm_list[i](stock_price_features, (\n",
    "                hiddens[i].unsqueeze(0), hiddens[i].unsqueeze(0)\n",
    "            ) )\n",
    "        \n",
    "        stock_price_features = stock_price_features[:, -1, :]\n",
    "        if DEBUG and self.count_ == 0:\n",
    "            print(f\"type(stock_price_features) = {type(stock_price_features)}\")\n",
    "        stock_price_pred = self.fc(stock_price_features)\n",
    "\n",
    "        self.count_ += 1\n",
    "        return stock_price_pred"
   ]
  },
  {
   "cell_type": "code",
   "execution_count": 77,
   "id": "1b4cc8ad-321e-4ff0-9b75-9699df46cf17",
   "metadata": {},
   "outputs": [
    {
     "name": "stdout",
     "output_type": "stream",
     "text": [
      "Not on last LSTM layer 1, adding dropout = 0.3\n",
      "Not on last LSTM layer 2, adding dropout = 0.3\n",
      "On last LSTM layer 3, ignoring dropout = 0.3\n"
     ]
    }
   ],
   "source": [
    "# lstm_model = StockClosePriceLSTM(input_size=1, hidden_size=20, num_stacked_layers=3, dropout_ratio=0.3)\n",
    "# for some reason the following 3 args werent being picked up by our following StockClosePriceLSTMV2 model, but we\n",
    "# have default args\n",
    "# hidden_sizes=[10, 20, 30, 40, 50]\n",
    "# dropout_ratio=0.3\n",
    "# num_classes=1\n",
    "lstm_model = StockPriceLSTMV2(input_size=1, hidden_sizes=[50, 60, 80, 120], \n",
    "                              num_stacked_layers=4, dropout_ratio=0.3, num_classes=1)"
   ]
  },
  {
   "cell_type": "code",
   "execution_count": 78,
   "id": "08381c24-fbf0-46cd-9e4d-6347ee086108",
   "metadata": {},
   "outputs": [
    {
     "data": {
      "text/plain": [
       "StockPriceLSTMV2(\n",
       "  (lstm_list): ModuleList(\n",
       "    (0): LSTM(1, 50, batch_first=True, dropout=0.3)\n",
       "    (1): LSTM(50, 60, batch_first=True, dropout=0.3)\n",
       "    (2): LSTM(60, 80, batch_first=True, dropout=0.3)\n",
       "    (3): LSTM(80, 120, batch_first=True)\n",
       "  )\n",
       "  (fc): Linear(in_features=120, out_features=1, bias=True)\n",
       ")"
      ]
     },
     "execution_count": 78,
     "metadata": {},
     "output_type": "execute_result"
    }
   ],
   "source": [
    "lstm_model.to(device)"
   ]
  },
  {
   "cell_type": "code",
   "execution_count": 79,
   "id": "df5cb671-675c-4b3b-af30-1e3efaf55815",
   "metadata": {},
   "outputs": [],
   "source": [
    "mse_criterion = nn.MSELoss()"
   ]
  },
  {
   "cell_type": "code",
   "execution_count": 80,
   "id": "a01fbc6b-b1ca-4426-a2a1-c8ab498a6a58",
   "metadata": {},
   "outputs": [],
   "source": [
    "lstm_optimizer = optim.Adam(lstm_model.parameters(), lr=LEARNING_RATE)"
   ]
  },
  {
   "cell_type": "markdown",
   "id": "e2768af0-b5e4-4bf5-8883-d8f0eba19bab",
   "metadata": {},
   "source": [
    "## Train PyTorch LSTM Model using Pipeline"
   ]
  },
  {
   "cell_type": "code",
   "execution_count": 94,
   "id": "debcd1d3-b633-43e3-8e7b-1b1c8444e201",
   "metadata": {},
   "outputs": [],
   "source": [
    "# pytorch_pipeline = PyTorchPipeline()"
   ]
  },
  {
   "cell_type": "code",
   "execution_count": 81,
   "id": "2bd2a78f-2a78-4038-80bb-4d7338096f01",
   "metadata": {},
   "outputs": [
    {
     "data": {
      "application/vnd.jupyter.widget-view+json": {
       "model_id": "de38e61bc57741b5b578e8f3be5893e3",
       "version_major": 2,
       "version_minor": 0
      },
      "text/plain": [
       "  0%|          | 0/144 [00:00<?, ?it/s]"
      ]
     },
     "metadata": {},
     "output_type": "display_data"
    },
    {
     "name": "stdout",
     "output_type": "stream",
     "text": [
      "type(stock_price_features) = <class 'torch.Tensor'>\n",
      "stock_price_features batch_size = 16\n",
      "type(stock_price_features) = <class 'torch.Tensor'>\n",
      "=> Saving Checkpoint\n"
     ]
    },
    {
     "data": {
      "application/vnd.jupyter.widget-view+json": {
       "model_id": "11e2f32f8afd458ab2fcb4b84cd50dec",
       "version_major": 2,
       "version_minor": 0
      },
      "text/plain": [
       "  0%|          | 0/766 [00:00<?, ?it/s]"
      ]
     },
     "metadata": {},
     "output_type": "display_data"
    },
    {
     "data": {
      "application/vnd.jupyter.widget-view+json": {
       "model_id": "38b23266aae04a9ea49a4b939188e6b1",
       "version_major": 2,
       "version_minor": 0
      },
      "text/plain": [
       "  0%|          | 0/144 [00:00<?, ?it/s]"
      ]
     },
     "metadata": {},
     "output_type": "display_data"
    },
    {
     "name": "stdout",
     "output_type": "stream",
     "text": [
      "=> Saving Checkpoint\n"
     ]
    },
    {
     "data": {
      "application/vnd.jupyter.widget-view+json": {
       "model_id": "079bf0a2fe1642b1aa37812f041a8141",
       "version_major": 2,
       "version_minor": 0
      },
      "text/plain": [
       "  0%|          | 0/766 [00:00<?, ?it/s]"
      ]
     },
     "metadata": {},
     "output_type": "display_data"
    },
    {
     "data": {
      "application/vnd.jupyter.widget-view+json": {
       "model_id": "5046597c7d734402bddae022d4074a9e",
       "version_major": 2,
       "version_minor": 0
      },
      "text/plain": [
       "  0%|          | 0/144 [00:00<?, ?it/s]"
      ]
     },
     "metadata": {},
     "output_type": "display_data"
    },
    {
     "name": "stdout",
     "output_type": "stream",
     "text": [
      "=> Saving Checkpoint\n"
     ]
    },
    {
     "data": {
      "application/vnd.jupyter.widget-view+json": {
       "model_id": "fc89c6f08ce24224b7f90df9e3800f6f",
       "version_major": 2,
       "version_minor": 0
      },
      "text/plain": [
       "  0%|          | 0/766 [00:00<?, ?it/s]"
      ]
     },
     "metadata": {},
     "output_type": "display_data"
    },
    {
     "data": {
      "application/vnd.jupyter.widget-view+json": {
       "model_id": "6337ee75c54c4d00bf1bef09f381ccd0",
       "version_major": 2,
       "version_minor": 0
      },
      "text/plain": [
       "  0%|          | 0/144 [00:00<?, ?it/s]"
      ]
     },
     "metadata": {},
     "output_type": "display_data"
    },
    {
     "name": "stdout",
     "output_type": "stream",
     "text": [
      "=> Saving Checkpoint\n"
     ]
    },
    {
     "data": {
      "application/vnd.jupyter.widget-view+json": {
       "model_id": "af1336c047ad4942a83ff2fdbbc3319e",
       "version_major": 2,
       "version_minor": 0
      },
      "text/plain": [
       "  0%|          | 0/766 [00:00<?, ?it/s]"
      ]
     },
     "metadata": {},
     "output_type": "display_data"
    },
    {
     "data": {
      "application/vnd.jupyter.widget-view+json": {
       "model_id": "f7af61ad4c5c49199f7151e50b102229",
       "version_major": 2,
       "version_minor": 0
      },
      "text/plain": [
       "  0%|          | 0/144 [00:00<?, ?it/s]"
      ]
     },
     "metadata": {},
     "output_type": "display_data"
    },
    {
     "name": "stdout",
     "output_type": "stream",
     "text": [
      "=> Saving Checkpoint\n"
     ]
    },
    {
     "data": {
      "application/vnd.jupyter.widget-view+json": {
       "model_id": "4c29ef29b8fb48f7a08499663053c779",
       "version_major": 2,
       "version_minor": 0
      },
      "text/plain": [
       "  0%|          | 0/766 [00:00<?, ?it/s]"
      ]
     },
     "metadata": {},
     "output_type": "display_data"
    },
    {
     "data": {
      "application/vnd.jupyter.widget-view+json": {
       "model_id": "47f6f81c78974e48ba69cf344a0215a5",
       "version_major": 2,
       "version_minor": 0
      },
      "text/plain": [
       "  0%|          | 0/144 [00:00<?, ?it/s]"
      ]
     },
     "metadata": {},
     "output_type": "display_data"
    },
    {
     "name": "stdout",
     "output_type": "stream",
     "text": [
      "=> Saving Checkpoint\n"
     ]
    },
    {
     "data": {
      "application/vnd.jupyter.widget-view+json": {
       "model_id": "66f079c142084787add780845451d363",
       "version_major": 2,
       "version_minor": 0
      },
      "text/plain": [
       "  0%|          | 0/766 [00:00<?, ?it/s]"
      ]
     },
     "metadata": {},
     "output_type": "display_data"
    },
    {
     "data": {
      "application/vnd.jupyter.widget-view+json": {
       "model_id": "d7682752d4b54d3aa1eb64ef518b7732",
       "version_major": 2,
       "version_minor": 0
      },
      "text/plain": [
       "  0%|          | 0/144 [00:00<?, ?it/s]"
      ]
     },
     "metadata": {},
     "output_type": "display_data"
    },
    {
     "name": "stdout",
     "output_type": "stream",
     "text": [
      "=> Saving Checkpoint\n"
     ]
    },
    {
     "data": {
      "application/vnd.jupyter.widget-view+json": {
       "model_id": "b8dafb1a885d44d4acf055a5fa667282",
       "version_major": 2,
       "version_minor": 0
      },
      "text/plain": [
       "  0%|          | 0/766 [00:00<?, ?it/s]"
      ]
     },
     "metadata": {},
     "output_type": "display_data"
    },
    {
     "data": {
      "application/vnd.jupyter.widget-view+json": {
       "model_id": "3bee0d54236847ca9276ce16525d11d7",
       "version_major": 2,
       "version_minor": 0
      },
      "text/plain": [
       "  0%|          | 0/144 [00:00<?, ?it/s]"
      ]
     },
     "metadata": {},
     "output_type": "display_data"
    },
    {
     "name": "stdout",
     "output_type": "stream",
     "text": [
      "=> Saving Checkpoint\n"
     ]
    },
    {
     "data": {
      "application/vnd.jupyter.widget-view+json": {
       "model_id": "81a72b9ac1f64c6797194e4015532bba",
       "version_major": 2,
       "version_minor": 0
      },
      "text/plain": [
       "  0%|          | 0/766 [00:00<?, ?it/s]"
      ]
     },
     "metadata": {},
     "output_type": "display_data"
    },
    {
     "data": {
      "application/vnd.jupyter.widget-view+json": {
       "model_id": "9a7362c7a57e4a27b3598559f530d62f",
       "version_major": 2,
       "version_minor": 0
      },
      "text/plain": [
       "  0%|          | 0/144 [00:00<?, ?it/s]"
      ]
     },
     "metadata": {},
     "output_type": "display_data"
    },
    {
     "name": "stdout",
     "output_type": "stream",
     "text": [
      "=> Saving Checkpoint\n"
     ]
    },
    {
     "data": {
      "application/vnd.jupyter.widget-view+json": {
       "model_id": "696ee5e1f89349d8a41cbfeb7fb856e4",
       "version_major": 2,
       "version_minor": 0
      },
      "text/plain": [
       "  0%|          | 0/766 [00:00<?, ?it/s]"
      ]
     },
     "metadata": {},
     "output_type": "display_data"
    },
    {
     "data": {
      "application/vnd.jupyter.widget-view+json": {
       "model_id": "d47131b69c254ff5a2220cd077f76864",
       "version_major": 2,
       "version_minor": 0
      },
      "text/plain": [
       "  0%|          | 0/144 [00:00<?, ?it/s]"
      ]
     },
     "metadata": {},
     "output_type": "display_data"
    },
    {
     "name": "stdout",
     "output_type": "stream",
     "text": [
      "=> Saving Checkpoint\n"
     ]
    },
    {
     "data": {
      "application/vnd.jupyter.widget-view+json": {
       "model_id": "dca1f91915e94dafb0a8003b953751ba",
       "version_major": 2,
       "version_minor": 0
      },
      "text/plain": [
       "  0%|          | 0/766 [00:00<?, ?it/s]"
      ]
     },
     "metadata": {},
     "output_type": "display_data"
    }
   ],
   "source": [
    "pytorch_pipeline.train_over_epochs(\n",
    "    stock_train_loader, stock_valid_loader,\n",
    "    lstm_model,\n",
    "    lstm_optimizer,\n",
    "    mse_criterion,\n",
    "    dst_folder=\"lstm_stock_close\"\n",
    ")"
   ]
  },
  {
   "cell_type": "code",
   "execution_count": 82,
   "id": "248c953f-d3b9-40f2-9fd6-d0a9c982c7eb",
   "metadata": {},
   "outputs": [],
   "source": [
    "pytorch_utility = PyTorchUtility()"
   ]
  },
  {
   "cell_type": "code",
   "execution_count": 83,
   "id": "66b2cd1c-a979-47ac-971f-0bcdf65ad3b5",
   "metadata": {},
   "outputs": [
    {
     "data": {
      "image/png": "[encoded data removed]",
      "text/plain": [
       "<Figure size 640x480 with 1 Axes>"
      ]
     },
     "metadata": {},
     "output_type": "display_data"
    }
   ],
   "source": [
    "pytorch_utility.plot_loss_curves(train_rmse_loss_avg_values, valid_rmse_loss_avg_values,\n",
    "                                 \"LSTM Train & Valid RMSE Loss\", \"lstm_train_valid_loss_avg_curves.jpg\")"
   ]
  },
  {
   "cell_type": "code",
   "execution_count": 84,
   "id": "f770cb5a-b0f9-4536-a8fe-83fe75ae0a07",
   "metadata": {},
   "outputs": [
    {
     "name": "stdout",
     "output_type": "stream",
     "text": [
      "LSTM: final_train Min RMSE = 0.06124028281515671\n"
     ]
    }
   ],
   "source": [
    "final_train_rmse = min(train_rmse_loss_avg_values)\n",
    "print(f\"LSTM: final_train Min RMSE = {final_train_rmse}\")"
   ]
  },
  {
   "cell_type": "code",
   "execution_count": 85,
   "id": "39bfc40a-e189-46d3-bbb7-6f1546f715cf",
   "metadata": {},
   "outputs": [
    {
     "name": "stdout",
     "output_type": "stream",
     "text": [
      "LSTM: final_valid Min RMSE = 0.12822749708869127\n"
     ]
    }
   ],
   "source": [
    "final_test_rmse = min(valid_rmse_loss_avg_values)\n",
    "print(f\"LSTM: final_valid Min RMSE = {final_test_rmse}\")"
   ]
  },
  {
   "cell_type": "markdown",
   "id": "54c8be1a-322b-4b7a-85bc-ac13d0cb0a3f",
   "metadata": {},
   "source": [
    "## Deploy LSTM on Validation Set for Stock Close Price Prediction"
   ]
  },
  {
   "cell_type": "code",
   "execution_count": 86,
   "id": "cdc48a56-eb64-4cdd-9ca2-f7f8f28b94d3",
   "metadata": {
    "scrolled": true
   },
   "outputs": [
    {
     "data": {
      "application/vnd.jupyter.widget-view+json": {
       "model_id": "c5fac2d9e1664d87a87249a6834bfed1",
       "version_major": 2,
       "version_minor": 0
      },
      "text/plain": [
       "  0%|          | 0/766 [00:00<?, ?it/s]"
      ]
     },
     "metadata": {},
     "output_type": "display_data"
    },
    {
     "name": "stdout",
     "output_type": "stream",
     "text": [
      "final_closing_price_pred.item() = -0.46754419803619385\n",
      "final_closing_price_pred.item() = -0.46432387828826904\n",
      "final_closing_price_pred.item() = -0.46021127700805664\n",
      "final_closing_price_pred.item() = -0.45681262016296387\n",
      "final_closing_price_pred.item() = -0.4533149003982544\n",
      "final_closing_price_pred.item() = -0.4474244713783264\n",
      "final_closing_price_pred.item() = -0.43803513050079346\n",
      "final_closing_price_pred.item() = -0.42624032497406006\n",
      "final_closing_price_pred.item() = -0.41540759801864624\n",
      "final_closing_price_pred.item() = -0.40908968448638916\n",
      "final_closing_price_pred.item() = -0.40781521797180176\n",
      "final_closing_price_pred.item() = -0.4065544009208679\n",
      "final_closing_price_pred.item() = -0.4063642621040344\n",
      "final_closing_price_pred.item() = -0.40659958124160767\n",
      "final_closing_price_pred.item() = -0.40585124492645264\n",
      "final_closing_price_pred.item() = -0.4047858715057373\n",
      "final_closing_price_pred.item() = -0.4045546054840088\n",
      "final_closing_price_pred.item() = -0.40516048669815063\n",
      "final_closing_price_pred.item() = -0.4057098627090454\n",
      "final_closing_price_pred.item() = -0.4063968062400818\n",
      "final_closing_price_pred.item() = -0.4071444272994995\n",
      "final_closing_price_pred.item() = -0.40797317028045654\n",
      "final_closing_price_pred.item() = -0.40852218866348267\n",
      "final_closing_price_pred.item() = -0.40837323665618896\n",
      "final_closing_price_pred.item() = -0.4073116183280945\n",
      "final_closing_price_pred.item() = -0.4058140516281128\n",
      "final_closing_price_pred.item() = -0.40410226583480835\n",
      "final_closing_price_pred.item() = -0.40328454971313477\n",
      "final_closing_price_pred.item() = -0.4035937786102295\n",
      "final_closing_price_pred.item() = -0.4039844870567322\n",
      "final_closing_price_pred.item() = -0.40406787395477295\n",
      "final_closing_price_pred.item() = -0.40335315465927124\n",
      "final_closing_price_pred.item() = -0.4018073081970215\n",
      "final_closing_price_pred.item() = -0.39987415075302124\n",
      "final_closing_price_pred.item() = -0.398040235042572\n",
      "final_closing_price_pred.item() = -0.39654576778411865\n",
      "final_closing_price_pred.item() = -0.3961082100868225\n",
      "final_closing_price_pred.item() = -0.39634573459625244\n",
      "final_closing_price_pred.item() = -0.3965381979942322\n",
      "final_closing_price_pred.item() = -0.3961496949195862\n",
      "final_closing_price_pred.item() = -0.3951777219772339\n",
      "final_closing_price_pred.item() = -0.3938212990760803\n",
      "final_closing_price_pred.item() = -0.3924074172973633\n",
      "final_closing_price_pred.item() = -0.3914192318916321\n",
      "final_closing_price_pred.item() = -0.3913837671279907\n",
      "final_closing_price_pred.item() = -0.39200305938720703\n",
      "final_closing_price_pred.item() = -0.39254313707351685\n",
      "final_closing_price_pred.item() = -0.39224547147750854\n",
      "final_closing_price_pred.item() = -0.39108842611312866\n",
      "final_closing_price_pred.item() = -0.389448881149292\n",
      "final_closing_price_pred.item() = -0.38768523931503296\n",
      "final_closing_price_pred.item() = -0.3857192397117615\n",
      "final_closing_price_pred.item() = -0.3840395212173462\n",
      "final_closing_price_pred.item() = -0.382717490196228\n",
      "final_closing_price_pred.item() = -0.38215434551239014\n",
      "final_closing_price_pred.item() = -0.3819665312767029\n",
      "final_closing_price_pred.item() = -0.3818579316139221\n",
      "final_closing_price_pred.item() = -0.381908118724823\n",
      "final_closing_price_pred.item() = -0.38174015283584595\n",
      "final_closing_price_pred.item() = -0.38131463527679443\n",
      "final_closing_price_pred.item() = -0.38051658868789673\n",
      "final_closing_price_pred.item() = -0.3790416121482849\n",
      "final_closing_price_pred.item() = -0.3777692914009094\n",
      "final_closing_price_pred.item() = -0.37743639945983887\n",
      "final_closing_price_pred.item() = -0.3776519298553467\n",
      "final_closing_price_pred.item() = -0.37739092111587524\n",
      "final_closing_price_pred.item() = -0.3764207363128662\n",
      "final_closing_price_pred.item() = -0.3752007782459259\n",
      "final_closing_price_pred.item() = -0.3742539882659912\n",
      "final_closing_price_pred.item() = -0.3739129304885864\n",
      "final_closing_price_pred.item() = -0.37375277280807495\n",
      "final_closing_price_pred.item() = -0.3740442395210266\n",
      "final_closing_price_pred.item() = -0.37515681982040405\n",
      "final_closing_price_pred.item() = -0.37729156017303467\n",
      "final_closing_price_pred.item() = -0.37940043210983276\n",
      "final_closing_price_pred.item() = -0.3800750970840454\n",
      "final_closing_price_pred.item() = -0.37865662574768066\n",
      "final_closing_price_pred.item() = -0.37643367052078247\n",
      "final_closing_price_pred.item() = -0.37444138526916504\n",
      "final_closing_price_pred.item() = -0.37301403284072876\n",
      "final_closing_price_pred.item() = -0.37296921014785767\n",
      "final_closing_price_pred.item() = -0.3726118803024292\n",
      "final_closing_price_pred.item() = -0.37066367268562317\n",
      "final_closing_price_pred.item() = -0.3686448931694031\n",
      "final_closing_price_pred.item() = -0.36692696809768677\n",
      "final_closing_price_pred.item() = -0.365699827671051\n",
      "final_closing_price_pred.item() = -0.3646410405635834\n",
      "final_closing_price_pred.item() = -0.3636366128921509\n",
      "final_closing_price_pred.item() = -0.36289650201797485\n",
      "final_closing_price_pred.item() = -0.36232078075408936\n",
      "final_closing_price_pred.item() = -0.36210983991622925\n",
      "final_closing_price_pred.item() = -0.3620203137397766\n",
      "final_closing_price_pred.item() = -0.3618033528327942\n",
      "final_closing_price_pred.item() = -0.3613101541996002\n",
      "final_closing_price_pred.item() = -0.36081576347351074\n",
      "final_closing_price_pred.item() = -0.3605562448501587\n",
      "final_closing_price_pred.item() = -0.36072951555252075\n",
      "final_closing_price_pred.item() = -0.36114591360092163\n",
      "final_closing_price_pred.item() = -0.3615492582321167\n",
      "final_closing_price_pred.item() = -0.36175161600112915\n",
      "final_closing_price_pred.item() = -0.3616836667060852\n",
      "final_closing_price_pred.item() = -0.36168819665908813\n",
      "final_closing_price_pred.item() = -0.3621926009654999\n",
      "final_closing_price_pred.item() = -0.363022118806839\n",
      "final_closing_price_pred.item() = -0.36400747299194336\n",
      "final_closing_price_pred.item() = -0.3650510013103485\n",
      "final_closing_price_pred.item() = -0.36603379249572754\n",
      "final_closing_price_pred.item() = -0.36681628227233887\n",
      "final_closing_price_pred.item() = -0.36713141202926636\n",
      "final_closing_price_pred.item() = -0.3667990565299988\n",
      "final_closing_price_pred.item() = -0.3668423891067505\n",
      "final_closing_price_pred.item() = -0.3681712746620178\n",
      "final_closing_price_pred.item() = -0.3703279197216034\n",
      "final_closing_price_pred.item() = -0.37280285358428955\n",
      "final_closing_price_pred.item() = -0.37549740076065063\n",
      "final_closing_price_pred.item() = -0.37793081998825073\n",
      "final_closing_price_pred.item() = -0.3799704611301422\n",
      "final_closing_price_pred.item() = -0.3813113272190094\n",
      "final_closing_price_pred.item() = -0.3813983201980591\n",
      "final_closing_price_pred.item() = -0.38103726506233215\n",
      "final_closing_price_pred.item() = -0.38106536865234375\n",
      "final_closing_price_pred.item() = -0.38212674856185913\n",
      "final_closing_price_pred.item() = -0.38449251651763916\n",
      "final_closing_price_pred.item() = -0.3867611289024353\n",
      "final_closing_price_pred.item() = -0.3875683546066284\n",
      "final_closing_price_pred.item() = -0.38705897331237793\n",
      "final_closing_price_pred.item() = -0.3881951570510864\n",
      "final_closing_price_pred.item() = -0.39116936922073364\n",
      "final_closing_price_pred.item() = -0.39314448833465576\n",
      "final_closing_price_pred.item() = -0.39255291223526\n",
      "final_closing_price_pred.item() = -0.3914629817008972\n",
      "final_closing_price_pred.item() = -0.3916400671005249\n",
      "final_closing_price_pred.item() = -0.39359158277511597\n",
      "final_closing_price_pred.item() = -0.3960307836532593\n",
      "final_closing_price_pred.item() = -0.39719319343566895\n",
      "final_closing_price_pred.item() = -0.39861977100372314\n",
      "final_closing_price_pred.item() = -0.4001691937446594\n",
      "final_closing_price_pred.item() = -0.40055400133132935\n",
      "final_closing_price_pred.item() = -0.39970141649246216\n",
      "final_closing_price_pred.item() = -0.3981015086174011\n",
      "final_closing_price_pred.item() = -0.397291898727417\n",
      "final_closing_price_pred.item() = -0.3976505994796753\n",
      "final_closing_price_pred.item() = -0.39890962839126587\n",
      "final_closing_price_pred.item() = -0.40101075172424316\n",
      "final_closing_price_pred.item() = -0.40285491943359375\n",
      "final_closing_price_pred.item() = -0.40316295623779297\n",
      "final_closing_price_pred.item() = -0.4012066721916199\n",
      "final_closing_price_pred.item() = -0.39846426248550415\n",
      "final_closing_price_pred.item() = -0.3964865207672119\n",
      "final_closing_price_pred.item() = -0.3962250351905823\n",
      "final_closing_price_pred.item() = -0.39699798822402954\n",
      "final_closing_price_pred.item() = -0.397149920463562\n",
      "final_closing_price_pred.item() = -0.3957623839378357\n",
      "final_closing_price_pred.item() = -0.39326632022857666\n",
      "final_closing_price_pred.item() = -0.39046257734298706\n",
      "final_closing_price_pred.item() = -0.3875610828399658\n",
      "final_closing_price_pred.item() = -0.384670615196228\n",
      "final_closing_price_pred.item() = -0.3824523687362671\n",
      "final_closing_price_pred.item() = -0.3812790513038635\n",
      "final_closing_price_pred.item() = -0.3814486265182495\n",
      "final_closing_price_pred.item() = -0.3825724720954895\n",
      "final_closing_price_pred.item() = -0.38378775119781494\n",
      "final_closing_price_pred.item() = -0.38502341508865356\n",
      "final_closing_price_pred.item() = -0.38560181856155396\n",
      "final_closing_price_pred.item() = -0.3848530650138855\n",
      "final_closing_price_pred.item() = -0.38327300548553467\n",
      "final_closing_price_pred.item() = -0.3820948898792267\n",
      "final_closing_price_pred.item() = -0.3818400502204895\n",
      "final_closing_price_pred.item() = -0.3823346197605133\n",
      "final_closing_price_pred.item() = -0.3834325671195984\n",
      "final_closing_price_pred.item() = -0.38451147079467773\n",
      "final_closing_price_pred.item() = -0.3851582407951355\n",
      "final_closing_price_pred.item() = -0.38498783111572266\n",
      "final_closing_price_pred.item() = -0.38394540548324585\n",
      "final_closing_price_pred.item() = -0.38200944662094116\n",
      "final_closing_price_pred.item() = -0.38012951612472534\n",
      "final_closing_price_pred.item() = -0.3784405589103699\n",
      "final_closing_price_pred.item() = -0.37653499841690063\n",
      "final_closing_price_pred.item() = -0.3748183250427246\n",
      "final_closing_price_pred.item() = -0.37359410524368286\n",
      "final_closing_price_pred.item() = -0.3728557229042053\n",
      "final_closing_price_pred.item() = -0.37258028984069824\n",
      "final_closing_price_pred.item() = -0.3720432221889496\n",
      "final_closing_price_pred.item() = -0.37154701352119446\n",
      "final_closing_price_pred.item() = -0.3714025020599365\n",
      "final_closing_price_pred.item() = -0.37189656496047974\n",
      "final_closing_price_pred.item() = -0.37261033058166504\n",
      "final_closing_price_pred.item() = -0.3731822073459625\n",
      "final_closing_price_pred.item() = -0.37293750047683716\n",
      "final_closing_price_pred.item() = -0.3720081150531769\n",
      "final_closing_price_pred.item() = -0.3710538446903229\n",
      "final_closing_price_pred.item() = -0.37024372816085815\n",
      "final_closing_price_pred.item() = -0.3700706660747528\n",
      "final_closing_price_pred.item() = -0.36988919973373413\n",
      "final_closing_price_pred.item() = -0.36919867992401123\n",
      "final_closing_price_pred.item() = -0.36808690428733826\n",
      "final_closing_price_pred.item() = -0.3673880994319916\n",
      "final_closing_price_pred.item() = -0.36760807037353516\n",
      "final_closing_price_pred.item() = -0.36797255277633667\n",
      "final_closing_price_pred.item() = -0.36884817481040955\n",
      "final_closing_price_pred.item() = -0.36987441778182983\n",
      "final_closing_price_pred.item() = -0.37093889713287354\n",
      "final_closing_price_pred.item() = -0.3723350763320923\n",
      "final_closing_price_pred.item() = -0.3740847706794739\n",
      "final_closing_price_pred.item() = -0.3757880628108978\n",
      "final_closing_price_pred.item() = -0.3769359588623047\n",
      "final_closing_price_pred.item() = -0.3771599531173706\n",
      "final_closing_price_pred.item() = -0.37735816836357117\n",
      "final_closing_price_pred.item() = -0.3775148391723633\n",
      "final_closing_price_pred.item() = -0.3771532475948334\n",
      "final_closing_price_pred.item() = -0.3766465485095978\n",
      "final_closing_price_pred.item() = -0.3760160803794861\n",
      "final_closing_price_pred.item() = -0.37526822090148926\n",
      "final_closing_price_pred.item() = -0.3740963637828827\n",
      "final_closing_price_pred.item() = -0.3729349374771118\n",
      "final_closing_price_pred.item() = -0.37212103605270386\n",
      "final_closing_price_pred.item() = -0.37122368812561035\n",
      "final_closing_price_pred.item() = -0.37078988552093506\n",
      "final_closing_price_pred.item() = -0.3710988163948059\n",
      "final_closing_price_pred.item() = -0.3717065453529358\n",
      "final_closing_price_pred.item() = -0.37238067388534546\n",
      "final_closing_price_pred.item() = -0.37319570779800415\n",
      "final_closing_price_pred.item() = -0.37401819229125977\n",
      "final_closing_price_pred.item() = -0.37450507283210754\n",
      "final_closing_price_pred.item() = -0.37426185607910156\n",
      "final_closing_price_pred.item() = -0.3733437657356262\n",
      "final_closing_price_pred.item() = -0.37219858169555664\n",
      "final_closing_price_pred.item() = -0.3712425231933594\n",
      "final_closing_price_pred.item() = -0.3705645799636841\n",
      "final_closing_price_pred.item() = -0.3702080249786377\n",
      "final_closing_price_pred.item() = -0.37044215202331543\n",
      "final_closing_price_pred.item() = -0.37111395597457886\n",
      "final_closing_price_pred.item() = -0.3717997372150421\n",
      "final_closing_price_pred.item() = -0.3722010850906372\n",
      "final_closing_price_pred.item() = -0.3723832368850708\n",
      "final_closing_price_pred.item() = -0.3718731105327606\n",
      "final_closing_price_pred.item() = -0.3707018792629242\n",
      "final_closing_price_pred.item() = -0.3696216344833374\n",
      "final_closing_price_pred.item() = -0.36927998065948486\n",
      "final_closing_price_pred.item() = -0.3697175085544586\n",
      "final_closing_price_pred.item() = -0.37083426117897034\n",
      "final_closing_price_pred.item() = -0.37212997674942017\n",
      "final_closing_price_pred.item() = -0.37305760383605957\n",
      "final_closing_price_pred.item() = -0.37403082847595215\n",
      "final_closing_price_pred.item() = -0.374961793422699\n",
      "final_closing_price_pred.item() = -0.37552666664123535\n",
      "final_closing_price_pred.item() = -0.3763372302055359\n",
      "final_closing_price_pred.item() = -0.37705498933792114\n",
      "final_closing_price_pred.item() = -0.3774722218513489\n",
      "final_closing_price_pred.item() = -0.3778040409088135\n",
      "final_closing_price_pred.item() = -0.3789871335029602\n",
      "final_closing_price_pred.item() = -0.3810809850692749\n",
      "final_closing_price_pred.item() = -0.38377368450164795\n",
      "final_closing_price_pred.item() = -0.3870828151702881\n",
      "final_closing_price_pred.item() = -0.3909837603569031\n",
      "final_closing_price_pred.item() = -0.3937811851501465\n",
      "final_closing_price_pred.item() = -0.3955639600753784\n",
      "final_closing_price_pred.item() = -0.3973807692527771\n",
      "final_closing_price_pred.item() = -0.39908653497695923\n",
      "final_closing_price_pred.item() = -0.3989992141723633\n",
      "final_closing_price_pred.item() = -0.3968880772590637\n",
      "final_closing_price_pred.item() = -0.39373326301574707\n",
      "final_closing_price_pred.item() = -0.3913191556930542\n",
      "final_closing_price_pred.item() = -0.3895679712295532\n",
      "final_closing_price_pred.item() = -0.3885432481765747\n",
      "final_closing_price_pred.item() = -0.3876548409461975\n",
      "final_closing_price_pred.item() = -0.3863273859024048\n",
      "final_closing_price_pred.item() = -0.3852716088294983\n",
      "final_closing_price_pred.item() = -0.38470226526260376\n",
      "final_closing_price_pred.item() = -0.3845534920692444\n",
      "final_closing_price_pred.item() = -0.38535988330841064\n",
      "final_closing_price_pred.item() = -0.386898398399353\n",
      "final_closing_price_pred.item() = -0.38820910453796387\n",
      "final_closing_price_pred.item() = -0.3888476490974426\n",
      "final_closing_price_pred.item() = -0.3885003924369812\n",
      "final_closing_price_pred.item() = -0.387897253036499\n",
      "final_closing_price_pred.item() = -0.38783425092697144\n",
      "final_closing_price_pred.item() = -0.3886287808418274\n",
      "final_closing_price_pred.item() = -0.38980424404144287\n",
      "final_closing_price_pred.item() = -0.3910232186317444\n",
      "final_closing_price_pred.item() = -0.3921424150466919\n",
      "final_closing_price_pred.item() = -0.39270973205566406\n",
      "final_closing_price_pred.item() = -0.3925866484642029\n",
      "final_closing_price_pred.item() = -0.3922644853591919\n",
      "final_closing_price_pred.item() = -0.39185845851898193\n",
      "final_closing_price_pred.item() = -0.3914342522621155\n",
      "final_closing_price_pred.item() = -0.39146411418914795\n",
      "final_closing_price_pred.item() = -0.39198750257492065\n",
      "final_closing_price_pred.item() = -0.39294320344924927\n",
      "final_closing_price_pred.item() = -0.39409542083740234\n",
      "final_closing_price_pred.item() = -0.3950193524360657\n",
      "final_closing_price_pred.item() = -0.39556950330734253\n",
      "final_closing_price_pred.item() = -0.39629948139190674\n",
      "final_closing_price_pred.item() = -0.3970821499824524\n",
      "final_closing_price_pred.item() = -0.3976377844810486\n",
      "final_closing_price_pred.item() = -0.3978603482246399\n",
      "final_closing_price_pred.item() = -0.3991815447807312\n",
      "final_closing_price_pred.item() = -0.4015713334083557\n",
      "final_closing_price_pred.item() = -0.40444642305374146\n",
      "final_closing_price_pred.item() = -0.40727800130844116\n",
      "final_closing_price_pred.item() = -0.408136248588562\n",
      "final_closing_price_pred.item() = -0.40641844272613525\n",
      "final_closing_price_pred.item() = -0.4030205011367798\n",
      "final_closing_price_pred.item() = -0.40025514364242554\n",
      "final_closing_price_pred.item() = -0.39808017015457153\n",
      "final_closing_price_pred.item() = -0.39681345224380493\n",
      "final_closing_price_pred.item() = -0.39651912450790405\n",
      "final_closing_price_pred.item() = -0.3967953324317932\n",
      "final_closing_price_pred.item() = -0.39758431911468506\n",
      "final_closing_price_pred.item() = -0.3991551995277405\n",
      "final_closing_price_pred.item() = -0.40132951736450195\n",
      "final_closing_price_pred.item() = -0.40439122915267944\n",
      "final_closing_price_pred.item() = -0.40787285566329956\n",
      "final_closing_price_pred.item() = -0.41082197427749634\n",
      "final_closing_price_pred.item() = -0.4123210906982422\n",
      "final_closing_price_pred.item() = -0.4130781292915344\n",
      "final_closing_price_pred.item() = -0.41377562284469604\n",
      "final_closing_price_pred.item() = -0.4136161208152771\n",
      "final_closing_price_pred.item() = -0.4120953679084778\n",
      "final_closing_price_pred.item() = -0.41006165742874146\n",
      "final_closing_price_pred.item() = -0.40794992446899414\n",
      "final_closing_price_pred.item() = -0.40530431270599365\n",
      "final_closing_price_pred.item() = -0.40183597803115845\n",
      "final_closing_price_pred.item() = -0.39816075563430786\n",
      "final_closing_price_pred.item() = -0.3955480456352234\n",
      "final_closing_price_pred.item() = -0.395752489566803\n",
      "final_closing_price_pred.item() = -0.3983912467956543\n",
      "final_closing_price_pred.item() = -0.4011409282684326\n",
      "final_closing_price_pred.item() = -0.4016317129135132\n",
      "final_closing_price_pred.item() = -0.3995031714439392\n",
      "final_closing_price_pred.item() = -0.39697444438934326\n",
      "final_closing_price_pred.item() = -0.3960995078086853\n",
      "final_closing_price_pred.item() = -0.39659935235977173\n",
      "final_closing_price_pred.item() = -0.39642417430877686\n",
      "final_closing_price_pred.item() = -0.39562880992889404\n",
      "final_closing_price_pred.item() = -0.3943297863006592\n",
      "final_closing_price_pred.item() = -0.3930817246437073\n",
      "final_closing_price_pred.item() = -0.39154160022735596\n",
      "final_closing_price_pred.item() = -0.389958918094635\n",
      "final_closing_price_pred.item() = -0.38892948627471924\n",
      "final_closing_price_pred.item() = -0.38849717378616333\n",
      "final_closing_price_pred.item() = -0.38893991708755493\n",
      "final_closing_price_pred.item() = -0.3895661234855652\n",
      "final_closing_price_pred.item() = -0.3898143172264099\n",
      "final_closing_price_pred.item() = -0.389862060546875\n",
      "final_closing_price_pred.item() = -0.3891761898994446\n",
      "final_closing_price_pred.item() = -0.38698381185531616\n",
      "final_closing_price_pred.item() = -0.38382357358932495\n",
      "final_closing_price_pred.item() = -0.38082990050315857\n",
      "final_closing_price_pred.item() = -0.37851881980895996\n",
      "final_closing_price_pred.item() = -0.3770400285720825\n",
      "final_closing_price_pred.item() = -0.376461923122406\n",
      "final_closing_price_pred.item() = -0.37696439027786255\n",
      "final_closing_price_pred.item() = -0.3780207633972168\n",
      "final_closing_price_pred.item() = -0.3796454966068268\n",
      "final_closing_price_pred.item() = -0.38152462244033813\n",
      "final_closing_price_pred.item() = -0.3832072615623474\n",
      "final_closing_price_pred.item() = -0.384299635887146\n",
      "final_closing_price_pred.item() = -0.384429931640625\n",
      "final_closing_price_pred.item() = -0.3842729926109314\n",
      "final_closing_price_pred.item() = -0.3838292956352234\n",
      "final_closing_price_pred.item() = -0.3829776644706726\n",
      "final_closing_price_pred.item() = -0.3823131322860718\n",
      "final_closing_price_pred.item() = -0.3817530870437622\n",
      "final_closing_price_pred.item() = -0.38158556818962097\n",
      "final_closing_price_pred.item() = -0.38161563873291016\n",
      "final_closing_price_pred.item() = -0.38227379322052\n",
      "final_closing_price_pred.item() = -0.3837466239929199\n",
      "final_closing_price_pred.item() = -0.3856274485588074\n",
      "final_closing_price_pred.item() = -0.38686466217041016\n",
      "final_closing_price_pred.item() = -0.3880003094673157\n",
      "final_closing_price_pred.item() = -0.3893512487411499\n",
      "final_closing_price_pred.item() = -0.39094799757003784\n",
      "final_closing_price_pred.item() = -0.39190036058425903\n",
      "final_closing_price_pred.item() = -0.39191776514053345\n",
      "final_closing_price_pred.item() = -0.39139676094055176\n",
      "final_closing_price_pred.item() = -0.39110106229782104\n",
      "final_closing_price_pred.item() = -0.3913061022758484\n",
      "final_closing_price_pred.item() = -0.3920595049858093\n",
      "final_closing_price_pred.item() = -0.39299142360687256\n",
      "final_closing_price_pred.item() = -0.39387059211730957\n",
      "final_closing_price_pred.item() = -0.394253671169281\n",
      "final_closing_price_pred.item() = -0.3940737247467041\n",
      "final_closing_price_pred.item() = -0.3935607671737671\n",
      "final_closing_price_pred.item() = -0.39207881689071655\n",
      "final_closing_price_pred.item() = -0.3897608518600464\n",
      "final_closing_price_pred.item() = -0.3874577283859253\n",
      "final_closing_price_pred.item() = -0.38518399000167847\n",
      "final_closing_price_pred.item() = -0.3841407299041748\n",
      "final_closing_price_pred.item() = -0.38497352600097656\n",
      "final_closing_price_pred.item() = -0.387076199054718\n",
      "final_closing_price_pred.item() = -0.3890712857246399\n",
      "final_closing_price_pred.item() = -0.3909263014793396\n",
      "final_closing_price_pred.item() = -0.39222222566604614\n",
      "final_closing_price_pred.item() = -0.3931942582130432\n",
      "final_closing_price_pred.item() = -0.39427047967910767\n",
      "final_closing_price_pred.item() = -0.3945673108100891\n",
      "final_closing_price_pred.item() = -0.39366573095321655\n",
      "final_closing_price_pred.item() = -0.3929203152656555\n",
      "final_closing_price_pred.item() = -0.39318060874938965\n",
      "final_closing_price_pred.item() = -0.39357686042785645\n",
      "final_closing_price_pred.item() = -0.39324426651000977\n",
      "final_closing_price_pred.item() = -0.3925234079360962\n",
      "final_closing_price_pred.item() = -0.3921840786933899\n",
      "final_closing_price_pred.item() = -0.39188599586486816\n",
      "final_closing_price_pred.item() = -0.3910776376724243\n",
      "final_closing_price_pred.item() = -0.390533983707428\n",
      "final_closing_price_pred.item() = -0.3906652331352234\n",
      "final_closing_price_pred.item() = -0.39119166135787964\n",
      "final_closing_price_pred.item() = -0.3917204737663269\n",
      "final_closing_price_pred.item() = -0.3918236494064331\n",
      "final_closing_price_pred.item() = -0.3919200301170349\n",
      "final_closing_price_pred.item() = -0.39230215549468994\n",
      "final_closing_price_pred.item() = -0.39212942123413086\n",
      "final_closing_price_pred.item() = -0.3917163014411926\n",
      "final_closing_price_pred.item() = -0.39214378595352173\n",
      "final_closing_price_pred.item() = -0.39331358671188354\n",
      "final_closing_price_pred.item() = -0.3944453001022339\n",
      "final_closing_price_pred.item() = -0.39482003450393677\n",
      "final_closing_price_pred.item() = -0.39436256885528564\n",
      "final_closing_price_pred.item() = -0.3936645984649658\n",
      "final_closing_price_pred.item() = -0.3938055634498596\n",
      "final_closing_price_pred.item() = -0.39463555812835693\n",
      "final_closing_price_pred.item() = -0.3949500322341919\n",
      "final_closing_price_pred.item() = -0.394484281539917\n",
      "final_closing_price_pred.item() = -0.39333993196487427\n",
      "final_closing_price_pred.item() = -0.39220869541168213\n",
      "final_closing_price_pred.item() = -0.3915242552757263\n",
      "final_closing_price_pred.item() = -0.39145559072494507\n",
      "final_closing_price_pred.item() = -0.3917827606201172\n",
      "final_closing_price_pred.item() = -0.39276015758514404\n",
      "final_closing_price_pred.item() = -0.3942767381668091\n",
      "final_closing_price_pred.item() = -0.39580196142196655\n",
      "final_closing_price_pred.item() = -0.39683419466018677\n",
      "final_closing_price_pred.item() = -0.39673811197280884\n",
      "final_closing_price_pred.item() = -0.39563971757888794\n",
      "final_closing_price_pred.item() = -0.3943858742713928\n",
      "final_closing_price_pred.item() = -0.39313530921936035\n",
      "final_closing_price_pred.item() = -0.3914642930030823\n",
      "final_closing_price_pred.item() = -0.38864654302597046\n",
      "final_closing_price_pred.item() = -0.38407641649246216\n",
      "final_closing_price_pred.item() = -0.37780237197875977\n",
      "final_closing_price_pred.item() = -0.3709639012813568\n",
      "final_closing_price_pred.item() = -0.36396926641464233\n",
      "final_closing_price_pred.item() = -0.35679134726524353\n",
      "final_closing_price_pred.item() = -0.34982162714004517\n",
      "final_closing_price_pred.item() = -0.34467077255249023\n",
      "final_closing_price_pred.item() = -0.3434349298477173\n",
      "final_closing_price_pred.item() = -0.34504252672195435\n",
      "final_closing_price_pred.item() = -0.34683334827423096\n",
      "final_closing_price_pred.item() = -0.3487362265586853\n",
      "final_closing_price_pred.item() = -0.35004037618637085\n",
      "final_closing_price_pred.item() = -0.3501358926296234\n",
      "final_closing_price_pred.item() = -0.34961193799972534\n",
      "final_closing_price_pred.item() = -0.34923258423805237\n",
      "final_closing_price_pred.item() = -0.34892988204956055\n",
      "final_closing_price_pred.item() = -0.3485800623893738\n",
      "final_closing_price_pred.item() = -0.3478953242301941\n",
      "final_closing_price_pred.item() = -0.3470500111579895\n",
      "final_closing_price_pred.item() = -0.34638485312461853\n",
      "final_closing_price_pred.item() = -0.3459373116493225\n",
      "final_closing_price_pred.item() = -0.3456309139728546\n",
      "final_closing_price_pred.item() = -0.3448772430419922\n",
      "final_closing_price_pred.item() = -0.3440588712692261\n",
      "final_closing_price_pred.item() = -0.34397801756858826\n",
      "final_closing_price_pred.item() = -0.34470322728157043\n",
      "final_closing_price_pred.item() = -0.34547680616378784\n",
      "final_closing_price_pred.item() = -0.3465752601623535\n",
      "final_closing_price_pred.item() = -0.3484477698802948\n",
      "final_closing_price_pred.item() = -0.35127806663513184\n",
      "final_closing_price_pred.item() = -0.354867547750473\n",
      "final_closing_price_pred.item() = -0.3582124710083008\n",
      "final_closing_price_pred.item() = -0.35920417308807373\n",
      "final_closing_price_pred.item() = -0.35732418298721313\n",
      "final_closing_price_pred.item() = -0.35462671518325806\n",
      "final_closing_price_pred.item() = -0.3537743091583252\n",
      "final_closing_price_pred.item() = -0.35528773069381714\n",
      "final_closing_price_pred.item() = -0.35698938369750977\n",
      "final_closing_price_pred.item() = -0.35785770416259766\n",
      "final_closing_price_pred.item() = -0.3576163947582245\n",
      "final_closing_price_pred.item() = -0.3568554222583771\n",
      "final_closing_price_pred.item() = -0.3561449348926544\n",
      "final_closing_price_pred.item() = -0.354775607585907\n",
      "final_closing_price_pred.item() = -0.3534162640571594\n",
      "final_closing_price_pred.item() = -0.3524034023284912\n",
      "final_closing_price_pred.item() = -0.35146617889404297\n",
      "final_closing_price_pred.item() = -0.35079604387283325\n",
      "final_closing_price_pred.item() = -0.3502911925315857\n",
      "final_closing_price_pred.item() = -0.3501824140548706\n",
      "final_closing_price_pred.item() = -0.35073357820510864\n",
      "final_closing_price_pred.item() = -0.351609468460083\n",
      "final_closing_price_pred.item() = -0.35251694917678833\n",
      "final_closing_price_pred.item() = -0.3532862663269043\n",
      "final_closing_price_pred.item() = -0.354145884513855\n",
      "final_closing_price_pred.item() = -0.3548629879951477\n",
      "final_closing_price_pred.item() = -0.35557305812835693\n",
      "final_closing_price_pred.item() = -0.3554481267929077\n",
      "final_closing_price_pred.item() = -0.35362568497657776\n",
      "final_closing_price_pred.item() = -0.3506961464881897\n",
      "final_closing_price_pred.item() = -0.3478270173072815\n",
      "final_closing_price_pred.item() = -0.34539592266082764\n",
      "final_closing_price_pred.item() = -0.3435596823692322\n",
      "final_closing_price_pred.item() = -0.34256455302238464\n",
      "final_closing_price_pred.item() = -0.3419407606124878\n",
      "final_closing_price_pred.item() = -0.3411613702774048\n",
      "final_closing_price_pred.item() = -0.34004324674606323\n",
      "final_closing_price_pred.item() = -0.3387933671474457\n",
      "final_closing_price_pred.item() = -0.3375821113586426\n",
      "final_closing_price_pred.item() = -0.3364570736885071\n",
      "final_closing_price_pred.item() = -0.33547165989875793\n",
      "final_closing_price_pred.item() = -0.3347054719924927\n",
      "final_closing_price_pred.item() = -0.33407706022262573\n",
      "final_closing_price_pred.item() = -0.33313655853271484\n",
      "final_closing_price_pred.item() = -0.33144664764404297\n",
      "final_closing_price_pred.item() = -0.3289813995361328\n",
      "final_closing_price_pred.item() = -0.32673180103302\n",
      "final_closing_price_pred.item() = -0.325516939163208\n",
      "final_closing_price_pred.item() = -0.3251712918281555\n",
      "final_closing_price_pred.item() = -0.3248516917228699\n",
      "final_closing_price_pred.item() = -0.3244953453540802\n",
      "final_closing_price_pred.item() = -0.32414308190345764\n",
      "final_closing_price_pred.item() = -0.3237181305885315\n",
      "final_closing_price_pred.item() = -0.32331693172454834\n",
      "final_closing_price_pred.item() = -0.32305800914764404\n",
      "final_closing_price_pred.item() = -0.32290464639663696\n",
      "final_closing_price_pred.item() = -0.32284048199653625\n",
      "final_closing_price_pred.item() = -0.3228021264076233\n",
      "final_closing_price_pred.item() = -0.3227000832557678\n",
      "final_closing_price_pred.item() = -0.3225786089897156\n",
      "final_closing_price_pred.item() = -0.32253122329711914\n",
      "final_closing_price_pred.item() = -0.32238465547561646\n",
      "final_closing_price_pred.item() = -0.32195237278938293\n",
      "final_closing_price_pred.item() = -0.3214017450809479\n",
      "final_closing_price_pred.item() = -0.3208777904510498\n",
      "final_closing_price_pred.item() = -0.32045626640319824\n",
      "final_closing_price_pred.item() = -0.3202108144760132\n",
      "final_closing_price_pred.item() = -0.3201773166656494\n",
      "final_closing_price_pred.item() = -0.32024991512298584\n",
      "final_closing_price_pred.item() = -0.3202028274536133\n",
      "final_closing_price_pred.item() = -0.3200356364250183\n",
      "final_closing_price_pred.item() = -0.3198304772377014\n",
      "final_closing_price_pred.item() = -0.319624662399292\n",
      "final_closing_price_pred.item() = -0.3195904493331909\n",
      "final_closing_price_pred.item() = -0.3197154998779297\n",
      "final_closing_price_pred.item() = -0.3198034167289734\n",
      "final_closing_price_pred.item() = -0.32000523805618286\n",
      "final_closing_price_pred.item() = -0.32037192583084106\n",
      "final_closing_price_pred.item() = -0.32070910930633545\n",
      "final_closing_price_pred.item() = -0.32094234228134155\n",
      "final_closing_price_pred.item() = -0.3209734559059143\n",
      "final_closing_price_pred.item() = -0.3208790421485901\n",
      "final_closing_price_pred.item() = -0.3207721710205078\n",
      "final_closing_price_pred.item() = -0.3207803964614868\n",
      "final_closing_price_pred.item() = -0.3208804130554199\n",
      "final_closing_price_pred.item() = -0.320978581905365\n",
      "final_closing_price_pred.item() = -0.32087886333465576\n",
      "final_closing_price_pred.item() = -0.3207297921180725\n",
      "final_closing_price_pred.item() = -0.32061102986335754\n",
      "final_closing_price_pred.item() = -0.3205077052116394\n",
      "final_closing_price_pred.item() = -0.3204752802848816\n",
      "final_closing_price_pred.item() = -0.32077670097351074\n",
      "final_closing_price_pred.item() = -0.32154107093811035\n",
      "final_closing_price_pred.item() = -0.3225225806236267\n",
      "final_closing_price_pred.item() = -0.32340675592422485\n",
      "final_closing_price_pred.item() = -0.32414260506629944\n",
      "final_closing_price_pred.item() = -0.3248639702796936\n",
      "final_closing_price_pred.item() = -0.3256385922431946\n",
      "final_closing_price_pred.item() = -0.3262454867362976\n",
      "final_closing_price_pred.item() = -0.3265407085418701\n",
      "final_closing_price_pred.item() = -0.32681524753570557\n",
      "final_closing_price_pred.item() = -0.32723161578178406\n",
      "final_closing_price_pred.item() = -0.32745128870010376\n",
      "final_closing_price_pred.item() = -0.32740992307662964\n",
      "final_closing_price_pred.item() = -0.32716694474220276\n",
      "final_closing_price_pred.item() = -0.32662373781204224\n",
      "final_closing_price_pred.item() = -0.3261737823486328\n",
      "final_closing_price_pred.item() = -0.32586199045181274\n",
      "final_closing_price_pred.item() = -0.3258379101753235\n",
      "final_closing_price_pred.item() = -0.3256968855857849\n",
      "final_closing_price_pred.item() = -0.32518869638442993\n",
      "final_closing_price_pred.item() = -0.3245342969894409\n",
      "final_closing_price_pred.item() = -0.3243419826030731\n",
      "final_closing_price_pred.item() = -0.32508617639541626\n",
      "final_closing_price_pred.item() = -0.3265588581562042\n",
      "final_closing_price_pred.item() = -0.3285768926143646\n",
      "final_closing_price_pred.item() = -0.3303905129432678\n",
      "final_closing_price_pred.item() = -0.3313969373703003\n",
      "final_closing_price_pred.item() = -0.3315957486629486\n",
      "final_closing_price_pred.item() = -0.3312670588493347\n",
      "final_closing_price_pred.item() = -0.3307557702064514\n",
      "final_closing_price_pred.item() = -0.3301317095756531\n",
      "final_closing_price_pred.item() = -0.32946133613586426\n",
      "final_closing_price_pred.item() = -0.3287280201911926\n",
      "final_closing_price_pred.item() = -0.32818442583084106\n",
      "final_closing_price_pred.item() = -0.32800933718681335\n",
      "final_closing_price_pred.item() = -0.3279445171356201\n",
      "final_closing_price_pred.item() = -0.32774847745895386\n",
      "final_closing_price_pred.item() = -0.32761693000793457\n",
      "final_closing_price_pred.item() = -0.32734835147857666\n",
      "final_closing_price_pred.item() = -0.32695019245147705\n",
      "final_closing_price_pred.item() = -0.32659468054771423\n",
      "final_closing_price_pred.item() = -0.32625633478164673\n",
      "final_closing_price_pred.item() = -0.32588109374046326\n",
      "final_closing_price_pred.item() = -0.3257884979248047\n",
      "final_closing_price_pred.item() = -0.32602572441101074\n",
      "final_closing_price_pred.item() = -0.32615160942077637\n",
      "final_closing_price_pred.item() = -0.3259829580783844\n",
      "final_closing_price_pred.item() = -0.3253949284553528\n",
      "final_closing_price_pred.item() = -0.32444339990615845\n",
      "final_closing_price_pred.item() = -0.3235800564289093\n",
      "final_closing_price_pred.item() = -0.322942852973938\n",
      "final_closing_price_pred.item() = -0.322548508644104\n",
      "final_closing_price_pred.item() = -0.3222998380661011\n",
      "final_closing_price_pred.item() = -0.3220745325088501\n",
      "final_closing_price_pred.item() = -0.3218967318534851\n",
      "final_closing_price_pred.item() = -0.3218141198158264\n",
      "final_closing_price_pred.item() = -0.32178598642349243\n",
      "final_closing_price_pred.item() = -0.3217978775501251\n",
      "final_closing_price_pred.item() = -0.32182949781417847\n",
      "final_closing_price_pred.item() = -0.3217329978942871\n",
      "final_closing_price_pred.item() = -0.3215271234512329\n",
      "final_closing_price_pred.item() = -0.3212825059890747\n",
      "final_closing_price_pred.item() = -0.3212070167064667\n",
      "final_closing_price_pred.item() = -0.3213042616844177\n",
      "final_closing_price_pred.item() = -0.3214445114135742\n",
      "final_closing_price_pred.item() = -0.3215845227241516\n",
      "final_closing_price_pred.item() = -0.32173511385917664\n",
      "final_closing_price_pred.item() = -0.32177412509918213\n",
      "final_closing_price_pred.item() = -0.3218157887458801\n",
      "final_closing_price_pred.item() = -0.3218103051185608\n",
      "final_closing_price_pred.item() = -0.32168012857437134\n",
      "final_closing_price_pred.item() = -0.32146525382995605\n",
      "final_closing_price_pred.item() = -0.32129812240600586\n",
      "final_closing_price_pred.item() = -0.32136011123657227\n",
      "final_closing_price_pred.item() = -0.3216235041618347\n",
      "final_closing_price_pred.item() = -0.32212865352630615\n",
      "final_closing_price_pred.item() = -0.3229607343673706\n",
      "final_closing_price_pred.item() = -0.32399237155914307\n",
      "final_closing_price_pred.item() = -0.3251573443412781\n",
      "final_closing_price_pred.item() = -0.32647889852523804\n",
      "final_closing_price_pred.item() = -0.3275344967842102\n",
      "final_closing_price_pred.item() = -0.32816240191459656\n",
      "final_closing_price_pred.item() = -0.32867753505706787\n",
      "final_closing_price_pred.item() = -0.3288692831993103\n",
      "final_closing_price_pred.item() = -0.32873547077178955\n",
      "final_closing_price_pred.item() = -0.3283371329307556\n",
      "final_closing_price_pred.item() = -0.3279508948326111\n",
      "final_closing_price_pred.item() = -0.3274187743663788\n",
      "final_closing_price_pred.item() = -0.32677552103996277\n",
      "final_closing_price_pred.item() = -0.32626771926879883\n",
      "final_closing_price_pred.item() = -0.32602208852767944\n",
      "final_closing_price_pred.item() = -0.3259916305541992\n",
      "final_closing_price_pred.item() = -0.3261341452598572\n",
      "final_closing_price_pred.item() = -0.32632094621658325\n",
      "final_closing_price_pred.item() = -0.3264033794403076\n",
      "final_closing_price_pred.item() = -0.3264490067958832\n",
      "final_closing_price_pred.item() = -0.32652711868286133\n",
      "final_closing_price_pred.item() = -0.3264760375022888\n",
      "final_closing_price_pred.item() = -0.32616937160491943\n",
      "final_closing_price_pred.item() = -0.3257080912590027\n",
      "final_closing_price_pred.item() = -0.3251684904098511\n",
      "final_closing_price_pred.item() = -0.324658066034317\n",
      "final_closing_price_pred.item() = -0.32427510619163513\n",
      "final_closing_price_pred.item() = -0.3241504430770874\n",
      "final_closing_price_pred.item() = -0.32413381338119507\n",
      "final_closing_price_pred.item() = -0.32429414987564087\n",
      "final_closing_price_pred.item() = -0.3247171640396118\n",
      "final_closing_price_pred.item() = -0.32520371675491333\n",
      "final_closing_price_pred.item() = -0.3256135582923889\n",
      "final_closing_price_pred.item() = -0.3258422017097473\n",
      "final_closing_price_pred.item() = -0.32588958740234375\n",
      "final_closing_price_pred.item() = -0.3259902596473694\n",
      "final_closing_price_pred.item() = -0.3263246417045593\n",
      "final_closing_price_pred.item() = -0.326870858669281\n",
      "final_closing_price_pred.item() = -0.3274032473564148\n",
      "final_closing_price_pred.item() = -0.3279483914375305\n",
      "final_closing_price_pred.item() = -0.3286615312099457\n",
      "final_closing_price_pred.item() = -0.3294176459312439\n",
      "final_closing_price_pred.item() = -0.3300181031227112\n",
      "final_closing_price_pred.item() = -0.3301999866962433\n",
      "final_closing_price_pred.item() = -0.3301769495010376\n",
      "final_closing_price_pred.item() = -0.33038467168807983\n",
      "final_closing_price_pred.item() = -0.33074450492858887\n",
      "final_closing_price_pred.item() = -0.3310045599937439\n",
      "final_closing_price_pred.item() = -0.33069169521331787\n",
      "final_closing_price_pred.item() = -0.32963430881500244\n",
      "final_closing_price_pred.item() = -0.328607439994812\n",
      "final_closing_price_pred.item() = -0.32780158519744873\n",
      "final_closing_price_pred.item() = -0.32717910408973694\n",
      "final_closing_price_pred.item() = -0.3266845941543579\n",
      "final_closing_price_pred.item() = -0.3261060118675232\n",
      "final_closing_price_pred.item() = -0.3253650665283203\n",
      "final_closing_price_pred.item() = -0.3245634436607361\n",
      "final_closing_price_pred.item() = -0.3238629698753357\n",
      "final_closing_price_pred.item() = -0.3233693838119507\n",
      "final_closing_price_pred.item() = -0.3229944109916687\n",
      "final_closing_price_pred.item() = -0.3225190043449402\n",
      "final_closing_price_pred.item() = -0.3219669461250305\n",
      "final_closing_price_pred.item() = -0.32142704725265503\n",
      "final_closing_price_pred.item() = -0.3210012912750244\n",
      "final_closing_price_pred.item() = -0.3207525610923767\n",
      "final_closing_price_pred.item() = -0.3205565810203552\n",
      "final_closing_price_pred.item() = -0.3203529119491577\n",
      "final_closing_price_pred.item() = -0.32007545232772827\n",
      "final_closing_price_pred.item() = -0.3196929097175598\n",
      "final_closing_price_pred.item() = -0.3191320300102234\n",
      "final_closing_price_pred.item() = -0.31850701570510864\n",
      "final_closing_price_pred.item() = -0.31797856092453003\n",
      "final_closing_price_pred.item() = -0.31769007444381714\n",
      "final_closing_price_pred.item() = -0.3175767660140991\n",
      "final_closing_price_pred.item() = -0.3174530267715454\n",
      "final_closing_price_pred.item() = -0.3172871470451355\n",
      "final_closing_price_pred.item() = -0.31713902950286865\n",
      "final_closing_price_pred.item() = -0.3170584440231323\n",
      "final_closing_price_pred.item() = -0.31706947088241577\n",
      "final_closing_price_pred.item() = -0.31710493564605713\n",
      "final_closing_price_pred.item() = -0.31719863414764404\n",
      "final_closing_price_pred.item() = -0.31732380390167236\n",
      "final_closing_price_pred.item() = -0.3174630403518677\n",
      "final_closing_price_pred.item() = -0.3175780773162842\n",
      "final_closing_price_pred.item() = -0.3176981806755066\n",
      "final_closing_price_pred.item() = -0.31780803203582764\n",
      "final_closing_price_pred.item() = -0.3179214894771576\n",
      "final_closing_price_pred.item() = -0.3180354833602905\n",
      "final_closing_price_pred.item() = -0.31808584928512573\n",
      "final_closing_price_pred.item() = -0.3181319534778595\n",
      "final_closing_price_pred.item() = -0.31813353300094604\n",
      "final_closing_price_pred.item() = -0.31811216473579407\n",
      "final_closing_price_pred.item() = -0.318107008934021\n",
      "final_closing_price_pred.item() = -0.31809014081954956\n",
      "final_closing_price_pred.item() = -0.3180527687072754\n",
      "final_closing_price_pred.item() = -0.3179309368133545\n",
      "final_closing_price_pred.item() = -0.31782418489456177\n",
      "final_closing_price_pred.item() = -0.31781676411628723\n",
      "final_closing_price_pred.item() = -0.31797510385513306\n",
      "final_closing_price_pred.item() = -0.3182069659233093\n",
      "final_closing_price_pred.item() = -0.3183894753456116\n",
      "final_closing_price_pred.item() = -0.3183469772338867\n",
      "final_closing_price_pred.item() = -0.31824061274528503\n",
      "final_closing_price_pred.item() = -0.3181018829345703\n",
      "final_closing_price_pred.item() = -0.3178955316543579\n",
      "final_closing_price_pred.item() = -0.3177723288536072\n",
      "final_closing_price_pred.item() = -0.3176003098487854\n",
      "final_closing_price_pred.item() = -0.31735754013061523\n",
      "final_closing_price_pred.item() = -0.3171412944793701\n",
      "final_closing_price_pred.item() = -0.31705212593078613\n",
      "final_closing_price_pred.item() = -0.3171054720878601\n",
      "final_closing_price_pred.item() = -0.3172258138656616\n",
      "final_closing_price_pred.item() = -0.3172561526298523\n",
      "final_closing_price_pred.item() = -0.31728827953338623\n",
      "final_closing_price_pred.item() = -0.3173694610595703\n",
      "final_closing_price_pred.item() = -0.31738048791885376\n",
      "final_closing_price_pred.item() = -0.3173360228538513\n",
      "final_closing_price_pred.item() = -0.31724411249160767\n",
      "final_closing_price_pred.item() = -0.3171318471431732\n",
      "final_closing_price_pred.item() = -0.31700825691223145\n",
      "final_closing_price_pred.item() = -0.3168819546699524\n",
      "final_closing_price_pred.item() = -0.3167463541030884\n",
      "final_closing_price_pred.item() = -0.31672346591949463\n",
      "final_closing_price_pred.item() = -0.3166854977607727\n",
      "final_closing_price_pred.item() = -0.3166416883468628\n",
      "final_closing_price_pred.item() = -0.3164454698562622\n",
      "final_closing_price_pred.item() = -0.31615787744522095\n",
      "final_closing_price_pred.item() = -0.31585437059402466\n",
      "final_closing_price_pred.item() = -0.3157368302345276\n",
      "final_closing_price_pred.item() = -0.31569868326187134\n"
     ]
    }
   ],
   "source": [
    "final_closing_price_valid_gts, final_closing_price_valid_preds = pytorch_pipeline.deploy_model(stock_valid_loader, lstm_model)"
   ]
  },
  {
   "cell_type": "code",
   "execution_count": 87,
   "id": "748267bd-d0ef-4ef4-a6e4-9b01d15cdd8a",
   "metadata": {},
   "outputs": [],
   "source": [
    "unscale = 1/scaler.scale_"
   ]
  },
  {
   "cell_type": "code",
   "execution_count": 88,
   "id": "a023273e-4124-4ff2-a6ee-3a298c2f1346",
   "metadata": {},
   "outputs": [
    {
     "data": {
      "text/plain": [
       "array([719.76083374])"
      ]
     },
     "execution_count": 88,
     "metadata": {},
     "output_type": "execute_result"
    }
   ],
   "source": [
    "np.array([unscale[0]])"
   ]
  },
  {
   "cell_type": "code",
   "execution_count": 89,
   "id": "dfd21e07-7854-4b7a-8deb-abc29280f6cc",
   "metadata": {},
   "outputs": [],
   "source": [
    "final_closing_price_unscaled_valid_preds = final_closing_price_valid_preds*np.array([unscale[0]])"
   ]
  },
  {
   "cell_type": "code",
   "execution_count": 90,
   "id": "89aae90a-8575-4326-b4f0-c2e20ac74b9b",
   "metadata": {},
   "outputs": [],
   "source": [
    "final_closing_price_unscaled_valid_gts = final_closing_price_valid_gts*np.array([unscale[0]])"
   ]
  },
  {
   "cell_type": "code",
   "execution_count": 91,
   "id": "91e6d9aa-64cf-4bba-915a-cea8f4c1e08d",
   "metadata": {},
   "outputs": [
    {
     "data": {
      "image/png": "[encoded data removed]",
      "text/plain": [
       "<Figure size 640x480 with 1 Axes>"
      ]
     },
     "metadata": {},
     "output_type": "display_data"
    }
   ],
   "source": [
    "pytorch_utility.plot_gt_pred_curves(final_closing_price_unscaled_valid_gts, final_closing_price_unscaled_valid_preds,\n",
    "                    \"LSTM GT & Pred Unscaled Valid Stock Closing Price\", \"lstm_gt_pred_unscaled_valid_stock_close_price_curves.jpg\")"
   ]
  },
  {
   "cell_type": "markdown",
   "id": "8f4d2c8d-ce8a-44f6-9ea5-2729ea91ce19",
   "metadata": {},
   "source": [
    "For the validation set, we deploy our trained LSTM model, we see the predicted closing prices\n",
    "are close to the ground truth. This is just with one layer LSTM and no dropout and relu activation\n",
    "layers."
   ]
  },
  {
   "cell_type": "markdown",
   "id": "088f64eb-d67a-4e82-8919-47fc201e71c5",
   "metadata": {},
   "source": [
    "## Deploy LSTM on Testing Set for Stock Close Price Prediction"
   ]
  },
  {
   "cell_type": "code",
   "execution_count": 92,
   "id": "9a4188a0-c027-43f3-b74d-1b6003cd1990",
   "metadata": {
    "scrolled": true
   },
   "outputs": [
    {
     "data": {
      "application/vnd.jupyter.widget-view+json": {
       "model_id": "0071fb2ff66f483189940639dfcf61aa",
       "version_major": 2,
       "version_minor": 0
      },
      "text/plain": [
       "  0%|          | 0/767 [00:00<?, ?it/s]"
      ]
     },
     "metadata": {},
     "output_type": "display_data"
    },
    {
     "name": "stdout",
     "output_type": "stream",
     "text": [
      "NasdaqDataset __getitem__ idx = 0\n",
      "closing_price_features_tensor.shape = torch.Size([100, 1])\n",
      "closing_price_labels_tensor.shape = torch.Size([1])\n",
      "final_closing_price_pred.item() = -0.31572818756103516\n",
      "final_closing_price_pred.item() = -0.3158271312713623\n",
      "final_closing_price_pred.item() = -0.3160976767539978\n",
      "final_closing_price_pred.item() = -0.3165026903152466\n",
      "final_closing_price_pred.item() = -0.31685882806777954\n",
      "final_closing_price_pred.item() = -0.3172224760055542\n",
      "final_closing_price_pred.item() = -0.31764447689056396\n",
      "final_closing_price_pred.item() = -0.31800729036331177\n",
      "final_closing_price_pred.item() = -0.3182424306869507\n",
      "final_closing_price_pred.item() = -0.3182399868965149\n",
      "final_closing_price_pred.item() = -0.3180468678474426\n",
      "final_closing_price_pred.item() = -0.3179054260253906\n",
      "final_closing_price_pred.item() = -0.3181252181529999\n",
      "final_closing_price_pred.item() = -0.31866776943206787\n",
      "final_closing_price_pred.item() = -0.31924426555633545\n",
      "final_closing_price_pred.item() = -0.319488525390625\n",
      "final_closing_price_pred.item() = -0.3193356394767761\n",
      "final_closing_price_pred.item() = -0.3189151883125305\n",
      "final_closing_price_pred.item() = -0.3185768127441406\n",
      "final_closing_price_pred.item() = -0.31850743293762207\n",
      "final_closing_price_pred.item() = -0.31853386759757996\n",
      "final_closing_price_pred.item() = -0.31853920221328735\n",
      "final_closing_price_pred.item() = -0.3185415267944336\n",
      "final_closing_price_pred.item() = -0.3185756802558899\n",
      "final_closing_price_pred.item() = -0.3185313045978546\n",
      "final_closing_price_pred.item() = -0.3185226619243622\n",
      "final_closing_price_pred.item() = -0.31861311197280884\n",
      "final_closing_price_pred.item() = -0.3187391757965088\n",
      "final_closing_price_pred.item() = -0.31866854429244995\n",
      "final_closing_price_pred.item() = -0.3182961344718933\n",
      "final_closing_price_pred.item() = -0.31780433654785156\n",
      "final_closing_price_pred.item() = -0.317350834608078\n",
      "final_closing_price_pred.item() = -0.31687626242637634\n",
      "final_closing_price_pred.item() = -0.31646108627319336\n",
      "final_closing_price_pred.item() = -0.31615376472473145\n",
      "final_closing_price_pred.item() = -0.3159809708595276\n",
      "final_closing_price_pred.item() = -0.3158993124961853\n",
      "final_closing_price_pred.item() = -0.3158959746360779\n",
      "final_closing_price_pred.item() = -0.3159368932247162\n",
      "final_closing_price_pred.item() = -0.31600064039230347\n",
      "final_closing_price_pred.item() = -0.31600457429885864\n",
      "final_closing_price_pred.item() = -0.31603243947029114\n",
      "final_closing_price_pred.item() = -0.31612032651901245\n",
      "final_closing_price_pred.item() = -0.31620538234710693\n",
      "final_closing_price_pred.item() = -0.31628692150115967\n",
      "final_closing_price_pred.item() = -0.31636083126068115\n",
      "final_closing_price_pred.item() = -0.3164253830909729\n",
      "final_closing_price_pred.item() = -0.3163968324661255\n",
      "final_closing_price_pred.item() = -0.3162148594856262\n",
      "final_closing_price_pred.item() = -0.3158643841743469\n",
      "final_closing_price_pred.item() = -0.31550413370132446\n",
      "final_closing_price_pred.item() = -0.3152124881744385\n",
      "final_closing_price_pred.item() = -0.3149988651275635\n",
      "final_closing_price_pred.item() = -0.31490522623062134\n",
      "final_closing_price_pred.item() = -0.31488490104675293\n",
      "final_closing_price_pred.item() = -0.3148701786994934\n",
      "final_closing_price_pred.item() = -0.3148585557937622\n",
      "final_closing_price_pred.item() = -0.31483614444732666\n",
      "final_closing_price_pred.item() = -0.3148040771484375\n",
      "final_closing_price_pred.item() = -0.3147096335887909\n",
      "final_closing_price_pred.item() = -0.31452852487564087\n",
      "final_closing_price_pred.item() = -0.3142639696598053\n",
      "final_closing_price_pred.item() = -0.3140243887901306\n",
      "final_closing_price_pred.item() = -0.31392526626586914\n",
      "final_closing_price_pred.item() = -0.3140556812286377\n",
      "final_closing_price_pred.item() = -0.3144071102142334\n",
      "final_closing_price_pred.item() = -0.31483083963394165\n",
      "final_closing_price_pred.item() = -0.31516706943511963\n",
      "final_closing_price_pred.item() = -0.31527721881866455\n",
      "final_closing_price_pred.item() = -0.31518787145614624\n",
      "final_closing_price_pred.item() = -0.3150314688682556\n",
      "final_closing_price_pred.item() = -0.314857542514801\n",
      "final_closing_price_pred.item() = -0.3146951198577881\n",
      "final_closing_price_pred.item() = -0.3145233392715454\n",
      "final_closing_price_pred.item() = -0.3143375515937805\n",
      "final_closing_price_pred.item() = -0.31418532133102417\n",
      "final_closing_price_pred.item() = -0.3140075206756592\n",
      "final_closing_price_pred.item() = -0.3138573169708252\n",
      "final_closing_price_pred.item() = -0.31373053789138794\n",
      "final_closing_price_pred.item() = -0.3136196732521057\n",
      "final_closing_price_pred.item() = -0.31348609924316406\n",
      "final_closing_price_pred.item() = -0.3133895993232727\n",
      "final_closing_price_pred.item() = -0.31334370374679565\n",
      "final_closing_price_pred.item() = -0.3133503198623657\n",
      "final_closing_price_pred.item() = -0.3133736252784729\n",
      "final_closing_price_pred.item() = -0.31337597966194153\n",
      "final_closing_price_pred.item() = -0.31336668133735657\n",
      "final_closing_price_pred.item() = -0.3133190870285034\n",
      "final_closing_price_pred.item() = -0.31325483322143555\n",
      "final_closing_price_pred.item() = -0.3132178783416748\n",
      "final_closing_price_pred.item() = -0.31318140029907227\n",
      "final_closing_price_pred.item() = -0.3130892813205719\n",
      "final_closing_price_pred.item() = -0.31294339895248413\n",
      "final_closing_price_pred.item() = -0.3127898573875427\n",
      "final_closing_price_pred.item() = -0.3126717507839203\n",
      "final_closing_price_pred.item() = -0.3125864863395691\n",
      "final_closing_price_pred.item() = -0.3125590682029724\n",
      "final_closing_price_pred.item() = -0.3125646114349365\n",
      "final_closing_price_pred.item() = -0.31260937452316284\n",
      "final_closing_price_pred.item() = -0.31271785497665405\n",
      "final_closing_price_pred.item() = -0.3129369616508484\n",
      "final_closing_price_pred.item() = -0.3132447600364685\n",
      "final_closing_price_pred.item() = -0.31355321407318115\n",
      "final_closing_price_pred.item() = -0.31375277042388916\n",
      "final_closing_price_pred.item() = -0.31383198499679565\n",
      "final_closing_price_pred.item() = -0.3137516975402832\n",
      "final_closing_price_pred.item() = -0.31358152627944946\n",
      "final_closing_price_pred.item() = -0.3133923411369324\n",
      "final_closing_price_pred.item() = -0.313240647315979\n",
      "final_closing_price_pred.item() = -0.31317615509033203\n",
      "final_closing_price_pred.item() = -0.3131396174430847\n",
      "final_closing_price_pred.item() = -0.31314629316329956\n",
      "final_closing_price_pred.item() = -0.3132125735282898\n",
      "final_closing_price_pred.item() = -0.3132998049259186\n",
      "final_closing_price_pred.item() = -0.31334877014160156\n",
      "final_closing_price_pred.item() = -0.31335410475730896\n",
      "final_closing_price_pred.item() = -0.31328028440475464\n",
      "final_closing_price_pred.item() = -0.3131592869758606\n",
      "final_closing_price_pred.item() = -0.3129616975784302\n",
      "final_closing_price_pred.item() = -0.3127250373363495\n",
      "final_closing_price_pred.item() = -0.3124503493309021\n",
      "final_closing_price_pred.item() = -0.31220656633377075\n",
      "final_closing_price_pred.item() = -0.3119468092918396\n",
      "final_closing_price_pred.item() = -0.31157970428466797\n",
      "final_closing_price_pred.item() = -0.31116822361946106\n",
      "final_closing_price_pred.item() = -0.3107416331768036\n",
      "final_closing_price_pred.item() = -0.3103272020816803\n",
      "final_closing_price_pred.item() = -0.30996036529541016\n",
      "final_closing_price_pred.item() = -0.3095216751098633\n",
      "final_closing_price_pred.item() = -0.30909639596939087\n",
      "final_closing_price_pred.item() = -0.30883026123046875\n",
      "final_closing_price_pred.item() = -0.30866146087646484\n",
      "final_closing_price_pred.item() = -0.30853942036628723\n",
      "final_closing_price_pred.item() = -0.30848097801208496\n",
      "final_closing_price_pred.item() = -0.30846768617630005\n",
      "final_closing_price_pred.item() = -0.30843549966812134\n",
      "final_closing_price_pred.item() = -0.3084196448326111\n",
      "final_closing_price_pred.item() = -0.3083983063697815\n",
      "final_closing_price_pred.item() = -0.3083485960960388\n",
      "final_closing_price_pred.item() = -0.3083087205886841\n",
      "final_closing_price_pred.item() = -0.3082842230796814\n",
      "final_closing_price_pred.item() = -0.30827462673187256\n",
      "final_closing_price_pred.item() = -0.3081972599029541\n",
      "final_closing_price_pred.item() = -0.30800893902778625\n",
      "final_closing_price_pred.item() = -0.307760626077652\n",
      "final_closing_price_pred.item() = -0.3075358271598816\n",
      "final_closing_price_pred.item() = -0.30730730295181274\n",
      "final_closing_price_pred.item() = -0.30715125799179077\n",
      "final_closing_price_pred.item() = -0.30704018473625183\n",
      "final_closing_price_pred.item() = -0.306993305683136\n",
      "final_closing_price_pred.item() = -0.3070020079612732\n",
      "final_closing_price_pred.item() = -0.30697762966156006\n",
      "final_closing_price_pred.item() = -0.30693531036376953\n",
      "final_closing_price_pred.item() = -0.3069075644016266\n",
      "final_closing_price_pred.item() = -0.30697357654571533\n",
      "final_closing_price_pred.item() = -0.30712124705314636\n",
      "final_closing_price_pred.item() = -0.3073312044143677\n",
      "final_closing_price_pred.item() = -0.30756086111068726\n",
      "final_closing_price_pred.item() = -0.3077625036239624\n",
      "final_closing_price_pred.item() = -0.307841420173645\n",
      "final_closing_price_pred.item() = -0.3078375458717346\n",
      "final_closing_price_pred.item() = -0.30783799290657043\n",
      "final_closing_price_pred.item() = -0.3078198730945587\n",
      "final_closing_price_pred.item() = -0.3077433705329895\n",
      "final_closing_price_pred.item() = -0.30768483877182007\n",
      "final_closing_price_pred.item() = -0.3077038526535034\n",
      "final_closing_price_pred.item() = -0.3077688217163086\n",
      "final_closing_price_pred.item() = -0.30792438983917236\n",
      "final_closing_price_pred.item() = -0.30816298723220825\n",
      "final_closing_price_pred.item() = -0.30848002433776855\n",
      "final_closing_price_pred.item() = -0.3087646961212158\n",
      "final_closing_price_pred.item() = -0.3089842200279236\n",
      "final_closing_price_pred.item() = -0.30915188789367676\n",
      "final_closing_price_pred.item() = -0.3092150092124939\n",
      "final_closing_price_pred.item() = -0.3091214895248413\n",
      "final_closing_price_pred.item() = -0.30888378620147705\n",
      "final_closing_price_pred.item() = -0.30864423513412476\n",
      "final_closing_price_pred.item() = -0.3083711266517639\n",
      "final_closing_price_pred.item() = -0.30811554193496704\n",
      "final_closing_price_pred.item() = -0.3078881502151489\n",
      "final_closing_price_pred.item() = -0.30767861008644104\n",
      "final_closing_price_pred.item() = -0.30751192569732666\n",
      "final_closing_price_pred.item() = -0.30737948417663574\n",
      "final_closing_price_pred.item() = -0.3072889447212219\n",
      "final_closing_price_pred.item() = -0.3072294294834137\n",
      "final_closing_price_pred.item() = -0.30724525451660156\n",
      "final_closing_price_pred.item() = -0.3073560297489166\n",
      "final_closing_price_pred.item() = -0.3075237274169922\n",
      "final_closing_price_pred.item() = -0.3077806830406189\n",
      "final_closing_price_pred.item() = -0.3080676198005676\n",
      "final_closing_price_pred.item() = -0.30827486515045166\n",
      "final_closing_price_pred.item() = -0.3083980679512024\n",
      "final_closing_price_pred.item() = -0.3084936738014221\n",
      "final_closing_price_pred.item() = -0.3085774779319763\n",
      "final_closing_price_pred.item() = -0.30864280462265015\n",
      "final_closing_price_pred.item() = -0.30868422985076904\n",
      "final_closing_price_pred.item() = -0.3087257742881775\n",
      "final_closing_price_pred.item() = -0.30876725912094116\n",
      "final_closing_price_pred.item() = -0.30885136127471924\n",
      "final_closing_price_pred.item() = -0.3089589476585388\n",
      "final_closing_price_pred.item() = -0.3090326189994812\n",
      "final_closing_price_pred.item() = -0.30904120206832886\n",
      "final_closing_price_pred.item() = -0.30899500846862793\n",
      "final_closing_price_pred.item() = -0.30894631147384644\n",
      "final_closing_price_pred.item() = -0.3089798092842102\n",
      "final_closing_price_pred.item() = -0.3090662956237793\n",
      "final_closing_price_pred.item() = -0.30910325050354004\n",
      "final_closing_price_pred.item() = -0.30903947353363037\n",
      "final_closing_price_pred.item() = -0.30894118547439575\n",
      "final_closing_price_pred.item() = -0.3088500499725342\n",
      "final_closing_price_pred.item() = -0.30883336067199707\n",
      "final_closing_price_pred.item() = -0.3088662028312683\n",
      "final_closing_price_pred.item() = -0.3088109493255615\n",
      "final_closing_price_pred.item() = -0.30869102478027344\n",
      "final_closing_price_pred.item() = -0.3085330128669739\n",
      "final_closing_price_pred.item() = -0.3084326982498169\n",
      "final_closing_price_pred.item() = -0.3084149658679962\n",
      "final_closing_price_pred.item() = -0.3084666132926941\n",
      "final_closing_price_pred.item() = -0.3085252046585083\n",
      "final_closing_price_pred.item() = -0.3085281252861023\n",
      "final_closing_price_pred.item() = -0.3085278868675232\n",
      "final_closing_price_pred.item() = -0.30855560302734375\n",
      "final_closing_price_pred.item() = -0.30858343839645386\n",
      "final_closing_price_pred.item() = -0.3086091876029968\n",
      "final_closing_price_pred.item() = -0.3086807131767273\n",
      "final_closing_price_pred.item() = -0.30874860286712646\n",
      "final_closing_price_pred.item() = -0.3087385296821594\n",
      "final_closing_price_pred.item() = -0.30865150690078735\n",
      "final_closing_price_pred.item() = -0.3085423707962036\n",
      "final_closing_price_pred.item() = -0.30844616889953613\n",
      "final_closing_price_pred.item() = -0.3083820641040802\n",
      "final_closing_price_pred.item() = -0.3083189129829407\n",
      "final_closing_price_pred.item() = -0.3081381916999817\n",
      "final_closing_price_pred.item() = -0.3078800439834595\n",
      "final_closing_price_pred.item() = -0.30763328075408936\n",
      "final_closing_price_pred.item() = -0.3074781000614166\n",
      "final_closing_price_pred.item() = -0.30736666917800903\n",
      "final_closing_price_pred.item() = -0.3072698712348938\n",
      "final_closing_price_pred.item() = -0.307132363319397\n",
      "final_closing_price_pred.item() = -0.3069506883621216\n",
      "final_closing_price_pred.item() = -0.3067747950553894\n",
      "final_closing_price_pred.item() = -0.3066473603248596\n",
      "final_closing_price_pred.item() = -0.3065732419490814\n",
      "final_closing_price_pred.item() = -0.3064732551574707\n",
      "final_closing_price_pred.item() = -0.3063974380493164\n",
      "final_closing_price_pred.item() = -0.30635708570480347\n",
      "final_closing_price_pred.item() = -0.30636346340179443\n",
      "final_closing_price_pred.item() = -0.3063880205154419\n",
      "final_closing_price_pred.item() = -0.30642932653427124\n",
      "final_closing_price_pred.item() = -0.30651921033859253\n",
      "final_closing_price_pred.item() = -0.3065791726112366\n",
      "final_closing_price_pred.item() = -0.30658668279647827\n",
      "final_closing_price_pred.item() = -0.306508332490921\n",
      "final_closing_price_pred.item() = -0.3062828779220581\n",
      "final_closing_price_pred.item() = -0.30597299337387085\n",
      "final_closing_price_pred.item() = -0.30564576387405396\n",
      "final_closing_price_pred.item() = -0.3053976595401764\n",
      "final_closing_price_pred.item() = -0.3052597641944885\n",
      "final_closing_price_pred.item() = -0.30518215894699097\n",
      "final_closing_price_pred.item() = -0.30510902404785156\n",
      "final_closing_price_pred.item() = -0.3050544857978821\n",
      "final_closing_price_pred.item() = -0.30501753091812134\n",
      "final_closing_price_pred.item() = -0.3050108551979065\n",
      "final_closing_price_pred.item() = -0.3050171732902527\n",
      "final_closing_price_pred.item() = -0.30507051944732666\n",
      "final_closing_price_pred.item() = -0.3051146864891052\n",
      "final_closing_price_pred.item() = -0.3051631450653076\n",
      "final_closing_price_pred.item() = -0.30517005920410156\n",
      "final_closing_price_pred.item() = -0.3051653504371643\n",
      "final_closing_price_pred.item() = -0.3051503896713257\n",
      "final_closing_price_pred.item() = -0.3050997257232666\n",
      "final_closing_price_pred.item() = -0.30504822731018066\n",
      "final_closing_price_pred.item() = -0.3049546182155609\n",
      "final_closing_price_pred.item() = -0.3048659861087799\n",
      "final_closing_price_pred.item() = -0.30484235286712646\n",
      "final_closing_price_pred.item() = -0.3049251437187195\n",
      "final_closing_price_pred.item() = -0.3050711750984192\n",
      "final_closing_price_pred.item() = -0.30525898933410645\n",
      "final_closing_price_pred.item() = -0.3054375648498535\n",
      "final_closing_price_pred.item() = -0.30549508333206177\n",
      "final_closing_price_pred.item() = -0.3054684102535248\n",
      "final_closing_price_pred.item() = -0.3053221106529236\n",
      "final_closing_price_pred.item() = -0.3051038980484009\n",
      "final_closing_price_pred.item() = -0.30487972497940063\n",
      "final_closing_price_pred.item() = -0.30469876527786255\n",
      "final_closing_price_pred.item() = -0.30458515882492065\n",
      "final_closing_price_pred.item() = -0.30446600914001465\n",
      "final_closing_price_pred.item() = -0.3043329119682312\n",
      "final_closing_price_pred.item() = -0.30419236421585083\n",
      "final_closing_price_pred.item() = -0.3040443956851959\n",
      "final_closing_price_pred.item() = -0.3039775490760803\n",
      "final_closing_price_pred.item() = -0.30400317907333374\n",
      "final_closing_price_pred.item() = -0.30406075716018677\n",
      "final_closing_price_pred.item() = -0.3041245937347412\n",
      "final_closing_price_pred.item() = -0.30415040254592896\n",
      "final_closing_price_pred.item() = -0.3041796088218689\n",
      "final_closing_price_pred.item() = -0.3041403293609619\n",
      "final_closing_price_pred.item() = -0.30400550365448\n",
      "final_closing_price_pred.item() = -0.30379948019981384\n",
      "final_closing_price_pred.item() = -0.3035469651222229\n",
      "final_closing_price_pred.item() = -0.3032848834991455\n",
      "final_closing_price_pred.item() = -0.30305683612823486\n",
      "final_closing_price_pred.item() = -0.30290383100509644\n",
      "final_closing_price_pred.item() = -0.3027915358543396\n",
      "final_closing_price_pred.item() = -0.302684485912323\n",
      "final_closing_price_pred.item() = -0.3025844693183899\n",
      "final_closing_price_pred.item() = -0.30245351791381836\n",
      "final_closing_price_pred.item() = -0.30229872465133667\n",
      "final_closing_price_pred.item() = -0.3021352291107178\n",
      "final_closing_price_pred.item() = -0.30198949575424194\n",
      "final_closing_price_pred.item() = -0.3018357753753662\n",
      "final_closing_price_pred.item() = -0.3016899824142456\n",
      "final_closing_price_pred.item() = -0.30156394839286804\n",
      "final_closing_price_pred.item() = -0.3014836311340332\n",
      "final_closing_price_pred.item() = -0.30146968364715576\n",
      "final_closing_price_pred.item() = -0.301516592502594\n",
      "final_closing_price_pred.item() = -0.3016383647918701\n",
      "final_closing_price_pred.item() = -0.30183130502700806\n",
      "final_closing_price_pred.item() = -0.3021136224269867\n",
      "final_closing_price_pred.item() = -0.302479088306427\n",
      "final_closing_price_pred.item() = -0.30297213792800903\n",
      "final_closing_price_pred.item() = -0.3035063147544861\n",
      "final_closing_price_pred.item() = -0.30400094389915466\n",
      "final_closing_price_pred.item() = -0.3043288588523865\n",
      "final_closing_price_pred.item() = -0.3044912815093994\n",
      "final_closing_price_pred.item() = -0.3045147657394409\n",
      "final_closing_price_pred.item() = -0.30435794591903687\n",
      "final_closing_price_pred.item() = -0.30402952432632446\n",
      "final_closing_price_pred.item() = -0.3036971092224121\n",
      "final_closing_price_pred.item() = -0.30340367555618286\n",
      "final_closing_price_pred.item() = -0.30314764380455017\n",
      "final_closing_price_pred.item() = -0.30294811725616455\n",
      "final_closing_price_pred.item() = -0.30280399322509766\n",
      "final_closing_price_pred.item() = -0.30270957946777344\n",
      "final_closing_price_pred.item() = -0.3026629090309143\n",
      "final_closing_price_pred.item() = -0.3026599884033203\n",
      "final_closing_price_pred.item() = -0.30274301767349243\n",
      "final_closing_price_pred.item() = -0.302908718585968\n",
      "final_closing_price_pred.item() = -0.3030696213245392\n",
      "final_closing_price_pred.item() = -0.3031395971775055\n",
      "final_closing_price_pred.item() = -0.3030497431755066\n",
      "final_closing_price_pred.item() = -0.30282706022262573\n",
      "final_closing_price_pred.item() = -0.3025835156440735\n",
      "final_closing_price_pred.item() = -0.3023254871368408\n",
      "final_closing_price_pred.item() = -0.3021235764026642\n",
      "final_closing_price_pred.item() = -0.3020337224006653\n",
      "final_closing_price_pred.item() = -0.30206620693206787\n",
      "final_closing_price_pred.item() = -0.30222758650779724\n",
      "final_closing_price_pred.item() = -0.3024410009384155\n",
      "final_closing_price_pred.item() = -0.3027307987213135\n",
      "final_closing_price_pred.item() = -0.30307620763778687\n",
      "final_closing_price_pred.item() = -0.30350005626678467\n",
      "final_closing_price_pred.item() = -0.3039137125015259\n",
      "final_closing_price_pred.item() = -0.3043268918991089\n",
      "final_closing_price_pred.item() = -0.3047151565551758\n",
      "final_closing_price_pred.item() = -0.3050452470779419\n",
      "final_closing_price_pred.item() = -0.30526846647262573\n",
      "final_closing_price_pred.item() = -0.3053889572620392\n",
      "final_closing_price_pred.item() = -0.3054726719856262\n",
      "final_closing_price_pred.item() = -0.3054546117782593\n",
      "final_closing_price_pred.item() = -0.3054085075855255\n",
      "final_closing_price_pred.item() = -0.3053781986236572\n",
      "final_closing_price_pred.item() = -0.3053334355354309\n",
      "final_closing_price_pred.item() = -0.3052781820297241\n",
      "final_closing_price_pred.item() = -0.30524343252182007\n",
      "final_closing_price_pred.item() = -0.30517005920410156\n",
      "final_closing_price_pred.item() = -0.3050239086151123\n",
      "final_closing_price_pred.item() = -0.30487823486328125\n",
      "final_closing_price_pred.item() = -0.304710328578949\n",
      "final_closing_price_pred.item() = -0.3045111894607544\n",
      "final_closing_price_pred.item() = -0.3042908012866974\n",
      "final_closing_price_pred.item() = -0.3041177988052368\n",
      "final_closing_price_pred.item() = -0.3040430545806885\n",
      "final_closing_price_pred.item() = -0.30414003133773804\n",
      "final_closing_price_pred.item() = -0.3043718934059143\n",
      "final_closing_price_pred.item() = -0.30463555455207825\n",
      "final_closing_price_pred.item() = -0.30488649010658264\n",
      "final_closing_price_pred.item() = -0.30502718687057495\n",
      "final_closing_price_pred.item() = -0.3050091564655304\n",
      "final_closing_price_pred.item() = -0.3049706220626831\n",
      "final_closing_price_pred.item() = -0.3049364686012268\n",
      "final_closing_price_pred.item() = -0.3048335909843445\n",
      "final_closing_price_pred.item() = -0.304673969745636\n",
      "final_closing_price_pred.item() = -0.3044803738594055\n",
      "final_closing_price_pred.item() = -0.3042132556438446\n",
      "final_closing_price_pred.item() = -0.30393245816230774\n",
      "final_closing_price_pred.item() = -0.30370059609413147\n",
      "final_closing_price_pred.item() = -0.30348071455955505\n",
      "final_closing_price_pred.item() = -0.30336794257164\n",
      "final_closing_price_pred.item() = -0.303364098072052\n",
      "final_closing_price_pred.item() = -0.30343955755233765\n",
      "final_closing_price_pred.item() = -0.3035414218902588\n",
      "final_closing_price_pred.item() = -0.3036336600780487\n",
      "final_closing_price_pred.item() = -0.3036814332008362\n",
      "final_closing_price_pred.item() = -0.30369237065315247\n",
      "final_closing_price_pred.item() = -0.30367597937583923\n",
      "final_closing_price_pred.item() = -0.30363696813583374\n",
      "final_closing_price_pred.item() = -0.3035893440246582\n",
      "final_closing_price_pred.item() = -0.30352431535720825\n",
      "final_closing_price_pred.item() = -0.3034496307373047\n",
      "final_closing_price_pred.item() = -0.3032919764518738\n",
      "final_closing_price_pred.item() = -0.30304402112960815\n",
      "final_closing_price_pred.item() = -0.3027219772338867\n",
      "final_closing_price_pred.item() = -0.30242908000946045\n",
      "final_closing_price_pred.item() = -0.3022386133670807\n",
      "final_closing_price_pred.item() = -0.302165687084198\n",
      "final_closing_price_pred.item() = -0.3021641969680786\n",
      "final_closing_price_pred.item() = -0.3021604120731354\n",
      "final_closing_price_pred.item() = -0.30210059881210327\n",
      "final_closing_price_pred.item() = -0.3020075261592865\n",
      "final_closing_price_pred.item() = -0.30189478397369385\n",
      "final_closing_price_pred.item() = -0.3017764985561371\n",
      "final_closing_price_pred.item() = -0.3016696572303772\n",
      "final_closing_price_pred.item() = -0.30161476135253906\n",
      "final_closing_price_pred.item() = -0.3016018271446228\n",
      "final_closing_price_pred.item() = -0.3016864061355591\n",
      "final_closing_price_pred.item() = -0.3018155097961426\n",
      "final_closing_price_pred.item() = -0.30201566219329834\n",
      "final_closing_price_pred.item() = -0.30221426486968994\n",
      "final_closing_price_pred.item() = -0.30239689350128174\n",
      "final_closing_price_pred.item() = -0.3025180697441101\n",
      "final_closing_price_pred.item() = -0.3025423288345337\n",
      "final_closing_price_pred.item() = -0.30247020721435547\n",
      "final_closing_price_pred.item() = -0.30236637592315674\n",
      "final_closing_price_pred.item() = -0.3022250533103943\n",
      "final_closing_price_pred.item() = -0.3020848035812378\n",
      "final_closing_price_pred.item() = -0.3018718957901001\n",
      "final_closing_price_pred.item() = -0.3016431927680969\n",
      "final_closing_price_pred.item() = -0.30142173171043396\n",
      "final_closing_price_pred.item() = -0.30124127864837646\n",
      "final_closing_price_pred.item() = -0.30106645822525024\n",
      "final_closing_price_pred.item() = -0.3008800446987152\n",
      "final_closing_price_pred.item() = -0.3007557988166809\n",
      "final_closing_price_pred.item() = -0.30064141750335693\n",
      "final_closing_price_pred.item() = -0.3005581796169281\n",
      "final_closing_price_pred.item() = -0.3004627227783203\n",
      "final_closing_price_pred.item() = -0.30032771825790405\n",
      "final_closing_price_pred.item() = -0.3001365661621094\n",
      "final_closing_price_pred.item() = -0.2999446392059326\n",
      "final_closing_price_pred.item() = -0.29980921745300293\n",
      "final_closing_price_pred.item() = -0.29977017641067505\n",
      "final_closing_price_pred.item() = -0.29984354972839355\n",
      "final_closing_price_pred.item() = -0.29996490478515625\n",
      "final_closing_price_pred.item() = -0.3000358045101166\n",
      "final_closing_price_pred.item() = -0.30006885528564453\n",
      "final_closing_price_pred.item() = -0.3000435531139374\n",
      "final_closing_price_pred.item() = -0.2999890446662903\n",
      "final_closing_price_pred.item() = -0.2999318838119507\n",
      "final_closing_price_pred.item() = -0.29988303780555725\n",
      "final_closing_price_pred.item() = -0.2998553514480591\n",
      "final_closing_price_pred.item() = -0.2998684048652649\n",
      "final_closing_price_pred.item() = -0.29992151260375977\n",
      "final_closing_price_pred.item() = -0.300012469291687\n",
      "final_closing_price_pred.item() = -0.300121009349823\n",
      "final_closing_price_pred.item() = -0.3002317547798157\n",
      "final_closing_price_pred.item() = -0.3003420829772949\n",
      "final_closing_price_pred.item() = -0.3003978729248047\n",
      "final_closing_price_pred.item() = -0.300418496131897\n",
      "final_closing_price_pred.item() = -0.30038928985595703\n",
      "final_closing_price_pred.item() = -0.3003389835357666\n",
      "final_closing_price_pred.item() = -0.30024611949920654\n",
      "final_closing_price_pred.item() = -0.3001824915409088\n",
      "final_closing_price_pred.item() = -0.3001132607460022\n",
      "final_closing_price_pred.item() = -0.3001018762588501\n",
      "final_closing_price_pred.item() = -0.3001706600189209\n",
      "final_closing_price_pred.item() = -0.3002995550632477\n",
      "final_closing_price_pred.item() = -0.30051660537719727\n",
      "final_closing_price_pred.item() = -0.3007369041442871\n",
      "final_closing_price_pred.item() = -0.3009623885154724\n",
      "final_closing_price_pred.item() = -0.3011351525783539\n",
      "final_closing_price_pred.item() = -0.3012508749961853\n",
      "final_closing_price_pred.item() = -0.30130189657211304\n",
      "final_closing_price_pred.item() = -0.30131232738494873\n",
      "final_closing_price_pred.item() = -0.3013071119785309\n",
      "final_closing_price_pred.item() = -0.3013090491294861\n",
      "final_closing_price_pred.item() = -0.30130505561828613\n",
      "final_closing_price_pred.item() = -0.30130821466445923\n",
      "final_closing_price_pred.item() = -0.30128663778305054\n",
      "final_closing_price_pred.item() = -0.3012332320213318\n",
      "final_closing_price_pred.item() = -0.3011762499809265\n",
      "final_closing_price_pred.item() = -0.30110862851142883\n",
      "final_closing_price_pred.item() = -0.3010808229446411\n",
      "final_closing_price_pred.item() = -0.30102893710136414\n",
      "final_closing_price_pred.item() = -0.30098164081573486\n",
      "final_closing_price_pred.item() = -0.30095964670181274\n",
      "final_closing_price_pred.item() = -0.3009546995162964\n",
      "final_closing_price_pred.item() = -0.301002562046051\n",
      "final_closing_price_pred.item() = -0.301097571849823\n",
      "final_closing_price_pred.item() = -0.3012774586677551\n",
      "final_closing_price_pred.item() = -0.30154651403427124\n",
      "final_closing_price_pred.item() = -0.30186331272125244\n",
      "final_closing_price_pred.item() = -0.30219054222106934\n",
      "final_closing_price_pred.item() = -0.3025050759315491\n",
      "final_closing_price_pred.item() = -0.302790105342865\n",
      "final_closing_price_pred.item() = -0.3030100464820862\n",
      "final_closing_price_pred.item() = -0.30310559272766113\n",
      "final_closing_price_pred.item() = -0.30306610465049744\n",
      "final_closing_price_pred.item() = -0.303017258644104\n",
      "final_closing_price_pred.item() = -0.3030273914337158\n",
      "final_closing_price_pred.item() = -0.30311697721481323\n",
      "final_closing_price_pred.item() = -0.30324846506118774\n",
      "final_closing_price_pred.item() = -0.30338507890701294\n",
      "final_closing_price_pred.item() = -0.3035135269165039\n",
      "final_closing_price_pred.item() = -0.3036949038505554\n",
      "final_closing_price_pred.item() = -0.30391985177993774\n",
      "final_closing_price_pred.item() = -0.3040914535522461\n",
      "final_closing_price_pred.item() = -0.30423277616500854\n",
      "final_closing_price_pred.item() = -0.3043421506881714\n",
      "final_closing_price_pred.item() = -0.30433210730552673\n",
      "final_closing_price_pred.item() = -0.3042108118534088\n",
      "final_closing_price_pred.item() = -0.3041227459907532\n",
      "final_closing_price_pred.item() = -0.3041267991065979\n",
      "final_closing_price_pred.item() = -0.3041418790817261\n",
      "final_closing_price_pred.item() = -0.30409055948257446\n",
      "final_closing_price_pred.item() = -0.3040412366390228\n",
      "final_closing_price_pred.item() = -0.3041169047355652\n",
      "final_closing_price_pred.item() = -0.30431628227233887\n",
      "final_closing_price_pred.item() = -0.3045114278793335\n",
      "final_closing_price_pred.item() = -0.30459633469581604\n",
      "final_closing_price_pred.item() = -0.304593563079834\n",
      "final_closing_price_pred.item() = -0.3045869767665863\n",
      "final_closing_price_pred.item() = -0.304649293422699\n",
      "final_closing_price_pred.item() = -0.3047567903995514\n",
      "final_closing_price_pred.item() = -0.3047841787338257\n",
      "final_closing_price_pred.item() = -0.304645836353302\n",
      "final_closing_price_pred.item() = -0.30443257093429565\n",
      "final_closing_price_pred.item() = -0.30420178174972534\n",
      "final_closing_price_pred.item() = -0.303937166929245\n",
      "final_closing_price_pred.item() = -0.30371206998825073\n",
      "final_closing_price_pred.item() = -0.30365225672721863\n",
      "final_closing_price_pred.item() = -0.3037221431732178\n",
      "final_closing_price_pred.item() = -0.30393439531326294\n",
      "final_closing_price_pred.item() = -0.30418968200683594\n",
      "final_closing_price_pred.item() = -0.3044002652168274\n",
      "final_closing_price_pred.item() = -0.3045119643211365\n",
      "final_closing_price_pred.item() = -0.30458396673202515\n",
      "final_closing_price_pred.item() = -0.30457890033721924\n",
      "final_closing_price_pred.item() = -0.30464106798171997\n",
      "final_closing_price_pred.item() = -0.3047933876514435\n",
      "final_closing_price_pred.item() = -0.30503296852111816\n",
      "final_closing_price_pred.item() = -0.3052877187728882\n",
      "final_closing_price_pred.item() = -0.3054569959640503\n",
      "final_closing_price_pred.item() = -0.3055705428123474\n",
      "final_closing_price_pred.item() = -0.30565130710601807\n",
      "final_closing_price_pred.item() = -0.3056444525718689\n",
      "final_closing_price_pred.item() = -0.3054455518722534\n",
      "final_closing_price_pred.item() = -0.30509358644485474\n",
      "final_closing_price_pred.item() = -0.30478301644325256\n",
      "final_closing_price_pred.item() = -0.3046463131904602\n",
      "final_closing_price_pred.item() = -0.3045828938484192\n",
      "final_closing_price_pred.item() = -0.3044719696044922\n",
      "final_closing_price_pred.item() = -0.30431756377220154\n",
      "final_closing_price_pred.item() = -0.30409300327301025\n",
      "final_closing_price_pred.item() = -0.3039137125015259\n",
      "final_closing_price_pred.item() = -0.3038601875305176\n",
      "final_closing_price_pred.item() = -0.3038816452026367\n",
      "final_closing_price_pred.item() = -0.30391648411750793\n",
      "final_closing_price_pred.item() = -0.30390673875808716\n",
      "final_closing_price_pred.item() = -0.3038278818130493\n",
      "final_closing_price_pred.item() = -0.30368494987487793\n",
      "final_closing_price_pred.item() = -0.3035494089126587\n",
      "final_closing_price_pred.item() = -0.303477942943573\n",
      "final_closing_price_pred.item() = -0.3035089075565338\n",
      "final_closing_price_pred.item() = -0.30355125665664673\n",
      "final_closing_price_pred.item() = -0.3035661578178406\n",
      "final_closing_price_pred.item() = -0.30351972579956055\n",
      "final_closing_price_pred.item() = -0.30343782901763916\n",
      "final_closing_price_pred.item() = -0.30333781242370605\n",
      "final_closing_price_pred.item() = -0.3031761646270752\n",
      "final_closing_price_pred.item() = -0.30294519662857056\n",
      "final_closing_price_pred.item() = -0.3027018904685974\n",
      "final_closing_price_pred.item() = -0.3025588393211365\n",
      "final_closing_price_pred.item() = -0.30254125595092773\n",
      "final_closing_price_pred.item() = -0.302604079246521\n",
      "final_closing_price_pred.item() = -0.30273357033729553\n",
      "final_closing_price_pred.item() = -0.3028208613395691\n",
      "final_closing_price_pred.item() = -0.30282706022262573\n",
      "final_closing_price_pred.item() = -0.30276620388031006\n",
      "final_closing_price_pred.item() = -0.30266138911247253\n",
      "final_closing_price_pred.item() = -0.30260559916496277\n",
      "final_closing_price_pred.item() = -0.3026059567928314\n",
      "final_closing_price_pred.item() = -0.30264002084732056\n",
      "final_closing_price_pred.item() = -0.30267971754074097\n",
      "final_closing_price_pred.item() = -0.3026807904243469\n",
      "final_closing_price_pred.item() = -0.3026654124259949\n",
      "final_closing_price_pred.item() = -0.3025848865509033\n",
      "final_closing_price_pred.item() = -0.3024623692035675\n",
      "final_closing_price_pred.item() = -0.302321195602417\n",
      "final_closing_price_pred.item() = -0.3021566867828369\n",
      "final_closing_price_pred.item() = -0.30198273062705994\n",
      "final_closing_price_pred.item() = -0.3017857074737549\n",
      "final_closing_price_pred.item() = -0.30163246393203735\n",
      "final_closing_price_pred.item() = -0.30152714252471924\n",
      "final_closing_price_pred.item() = -0.30143487453460693\n",
      "final_closing_price_pred.item() = -0.3013334274291992\n",
      "final_closing_price_pred.item() = -0.3011813461780548\n",
      "final_closing_price_pred.item() = -0.3010076880455017\n",
      "final_closing_price_pred.item() = -0.30086976289749146\n",
      "final_closing_price_pred.item() = -0.30078351497650146\n",
      "final_closing_price_pred.item() = -0.30074214935302734\n",
      "final_closing_price_pred.item() = -0.30067867040634155\n",
      "final_closing_price_pred.item() = -0.30060625076293945\n",
      "final_closing_price_pred.item() = -0.3005441427230835\n",
      "final_closing_price_pred.item() = -0.3005276918411255\n",
      "final_closing_price_pred.item() = -0.3006150424480438\n",
      "final_closing_price_pred.item() = -0.3007422089576721\n",
      "final_closing_price_pred.item() = -0.30085867643356323\n",
      "final_closing_price_pred.item() = -0.3009521961212158\n",
      "final_closing_price_pred.item() = -0.30094146728515625\n",
      "final_closing_price_pred.item() = -0.30087077617645264\n",
      "final_closing_price_pred.item() = -0.3007599413394928\n",
      "final_closing_price_pred.item() = -0.3006141185760498\n",
      "final_closing_price_pred.item() = -0.30051079392433167\n",
      "final_closing_price_pred.item() = -0.300456166267395\n",
      "final_closing_price_pred.item() = -0.30043190717697144\n",
      "final_closing_price_pred.item() = -0.3004249930381775\n",
      "final_closing_price_pred.item() = -0.30040010809898376\n",
      "final_closing_price_pred.item() = -0.3003527522087097\n",
      "final_closing_price_pred.item() = -0.30026379227638245\n",
      "final_closing_price_pred.item() = -0.30014801025390625\n",
      "final_closing_price_pred.item() = -0.30001533031463623\n",
      "final_closing_price_pred.item() = -0.29992902278900146\n",
      "final_closing_price_pred.item() = -0.2998100519180298\n",
      "final_closing_price_pred.item() = -0.2997230291366577\n",
      "final_closing_price_pred.item() = -0.2996745705604553\n",
      "final_closing_price_pred.item() = -0.29965323209762573\n",
      "final_closing_price_pred.item() = -0.2996625602245331\n",
      "final_closing_price_pred.item() = -0.29975736141204834\n",
      "final_closing_price_pred.item() = -0.29991647601127625\n",
      "final_closing_price_pred.item() = -0.300193727016449\n",
      "final_closing_price_pred.item() = -0.30053356289863586\n",
      "final_closing_price_pred.item() = -0.3008973002433777\n",
      "final_closing_price_pred.item() = -0.301116943359375\n",
      "final_closing_price_pred.item() = -0.3012555241584778\n",
      "final_closing_price_pred.item() = -0.3012658953666687\n",
      "final_closing_price_pred.item() = -0.3013347387313843\n",
      "final_closing_price_pred.item() = -0.3014412522315979\n",
      "final_closing_price_pred.item() = -0.30156946182250977\n",
      "final_closing_price_pred.item() = -0.30168575048446655\n",
      "final_closing_price_pred.item() = -0.30178597569465637\n",
      "final_closing_price_pred.item() = -0.30181950330734253\n",
      "final_closing_price_pred.item() = -0.3017895221710205\n",
      "final_closing_price_pred.item() = -0.30174267292022705\n",
      "final_closing_price_pred.item() = -0.3017492890357971\n",
      "final_closing_price_pred.item() = -0.30182743072509766\n",
      "final_closing_price_pred.item() = -0.30196815729141235\n",
      "final_closing_price_pred.item() = -0.3020884394645691\n",
      "final_closing_price_pred.item() = -0.3022329807281494\n",
      "final_closing_price_pred.item() = -0.30237507820129395\n",
      "final_closing_price_pred.item() = -0.3026118278503418\n",
      "final_closing_price_pred.item() = -0.30285143852233887\n",
      "final_closing_price_pred.item() = -0.30316227674484253\n",
      "final_closing_price_pred.item() = -0.30349141359329224\n",
      "final_closing_price_pred.item() = -0.30382096767425537\n",
      "final_closing_price_pred.item() = -0.30411380529403687\n",
      "final_closing_price_pred.item() = -0.30423474311828613\n",
      "final_closing_price_pred.item() = -0.30417168140411377\n",
      "final_closing_price_pred.item() = -0.303983211517334\n",
      "final_closing_price_pred.item() = -0.3037891685962677\n",
      "final_closing_price_pred.item() = -0.30358409881591797\n",
      "final_closing_price_pred.item() = -0.3034554719924927\n",
      "final_closing_price_pred.item() = -0.3033739924430847\n",
      "final_closing_price_pred.item() = -0.3032616376876831\n",
      "final_closing_price_pred.item() = -0.30314701795578003\n",
      "final_closing_price_pred.item() = -0.30304914712905884\n",
      "final_closing_price_pred.item() = -0.3029574155807495\n",
      "final_closing_price_pred.item() = -0.30290961265563965\n",
      "final_closing_price_pred.item() = -0.30291634798049927\n",
      "final_closing_price_pred.item() = -0.3029792904853821\n",
      "final_closing_price_pred.item() = -0.30308523774147034\n",
      "final_closing_price_pred.item() = -0.30320578813552856\n",
      "final_closing_price_pred.item() = -0.30323314666748047\n",
      "final_closing_price_pred.item() = -0.30314838886260986\n",
      "final_closing_price_pred.item() = -0.3029540181159973\n",
      "final_closing_price_pred.item() = -0.30273377895355225\n",
      "final_closing_price_pred.item() = -0.3025219440460205\n",
      "final_closing_price_pred.item() = -0.30236974358558655\n",
      "final_closing_price_pred.item() = -0.30225008726119995\n",
      "final_closing_price_pred.item() = -0.30216020345687866\n",
      "final_closing_price_pred.item() = -0.30206984281539917\n",
      "final_closing_price_pred.item() = -0.3019520938396454\n",
      "final_closing_price_pred.item() = -0.301861971616745\n",
      "final_closing_price_pred.item() = -0.30181246995925903\n",
      "final_closing_price_pred.item() = -0.30180448293685913\n",
      "final_closing_price_pred.item() = -0.30179208517074585\n",
      "final_closing_price_pred.item() = -0.30179429054260254\n",
      "final_closing_price_pred.item() = -0.30175745487213135\n",
      "final_closing_price_pred.item() = -0.3016927242279053\n",
      "final_closing_price_pred.item() = -0.3015303313732147\n",
      "final_closing_price_pred.item() = -0.30130040645599365\n",
      "final_closing_price_pred.item() = -0.3010270595550537\n",
      "final_closing_price_pred.item() = -0.3007342219352722\n",
      "final_closing_price_pred.item() = -0.3004459738731384\n",
      "final_closing_price_pred.item() = -0.30044814944267273\n",
      "final_closing_price_pred.item() = -0.30049318075180054\n",
      "final_closing_price_pred.item() = -0.30068790912628174\n",
      "final_closing_price_pred.item() = -0.3008899688720703\n",
      "final_closing_price_pred.item() = -0.30101436376571655\n",
      "final_closing_price_pred.item() = -0.3011015057563782\n",
      "final_closing_price_pred.item() = -0.3010726571083069\n",
      "final_closing_price_pred.item() = -0.30101871490478516\n",
      "final_closing_price_pred.item() = -0.30096226930618286\n",
      "final_closing_price_pred.item() = -0.30099403858184814\n",
      "final_closing_price_pred.item() = -0.30104202032089233\n",
      "final_closing_price_pred.item() = -0.30106252431869507\n",
      "final_closing_price_pred.item() = -0.3011060953140259\n",
      "final_closing_price_pred.item() = -0.30106645822525024\n",
      "final_closing_price_pred.item() = -0.3010301887989044\n",
      "final_closing_price_pred.item() = -0.30100810527801514\n",
      "final_closing_price_pred.item() = -0.30104321241378784\n",
      "final_closing_price_pred.item() = -0.301075279712677\n",
      "final_closing_price_pred.item() = -0.3011542558670044\n",
      "final_closing_price_pred.item() = -0.30118709802627563\n",
      "final_closing_price_pred.item() = -0.3011338710784912\n",
      "final_closing_price_pred.item() = -0.3010680079460144\n",
      "final_closing_price_pred.item() = -0.30095040798187256\n",
      "final_closing_price_pred.item() = -0.30085062980651855\n",
      "final_closing_price_pred.item() = -0.30078113079071045\n",
      "final_closing_price_pred.item() = -0.3006809949874878\n",
      "final_closing_price_pred.item() = -0.3005523681640625\n",
      "final_closing_price_pred.item() = -0.30041295289993286\n",
      "final_closing_price_pred.item() = -0.30031007528305054\n",
      "final_closing_price_pred.item() = -0.30020731687545776\n",
      "final_closing_price_pred.item() = -0.30012238025665283\n",
      "final_closing_price_pred.item() = -0.3000255227088928\n",
      "final_closing_price_pred.item() = -0.29996609687805176\n",
      "final_closing_price_pred.item() = -0.2999352812767029\n",
      "final_closing_price_pred.item() = -0.29993218183517456\n",
      "final_closing_price_pred.item() = -0.2999347448348999\n",
      "final_closing_price_pred.item() = -0.29995572566986084\n",
      "final_closing_price_pred.item() = -0.29997381567955017\n",
      "final_closing_price_pred.item() = -0.3000093102455139\n",
      "final_closing_price_pred.item() = -0.3000260591506958\n",
      "final_closing_price_pred.item() = -0.30007511377334595\n",
      "final_closing_price_pred.item() = -0.30012792348861694\n",
      "final_closing_price_pred.item() = -0.3002399802207947\n",
      "final_closing_price_pred.item() = -0.3003721237182617\n",
      "final_closing_price_pred.item() = -0.30049851536750793\n",
      "final_closing_price_pred.item() = -0.30059075355529785\n",
      "final_closing_price_pred.item() = -0.3006080389022827\n",
      "final_closing_price_pred.item() = -0.30056267976760864\n",
      "final_closing_price_pred.item() = -0.30049532651901245\n",
      "final_closing_price_pred.item() = -0.30039912462234497\n",
      "final_closing_price_pred.item() = -0.30033010244369507\n",
      "final_closing_price_pred.item() = -0.3002132773399353\n",
      "final_closing_price_pred.item() = -0.30007779598236084\n",
      "final_closing_price_pred.item() = -0.2999257445335388\n",
      "final_closing_price_pred.item() = -0.2997891306877136\n",
      "final_closing_price_pred.item() = -0.2996746301651001\n",
      "final_closing_price_pred.item() = -0.29960352182388306\n",
      "final_closing_price_pred.item() = -0.29952967166900635\n",
      "final_closing_price_pred.item() = -0.2994955778121948\n",
      "final_closing_price_pred.item() = -0.29943162202835083\n",
      "final_closing_price_pred.item() = -0.2993708848953247\n",
      "final_closing_price_pred.item() = -0.2992657423019409\n",
      "final_closing_price_pred.item() = -0.2992175817489624\n",
      "final_closing_price_pred.item() = -0.2991485595703125\n",
      "final_closing_price_pred.item() = -0.29911816120147705\n",
      "final_closing_price_pred.item() = -0.2990906834602356\n",
      "final_closing_price_pred.item() = -0.2990177869796753\n",
      "final_closing_price_pred.item() = -0.2989482283592224\n",
      "final_closing_price_pred.item() = -0.29884132742881775\n",
      "final_closing_price_pred.item() = -0.29873037338256836\n",
      "final_closing_price_pred.item() = -0.29865843057632446\n",
      "final_closing_price_pred.item() = -0.29860687255859375\n",
      "final_closing_price_pred.item() = -0.2985725402832031\n",
      "final_closing_price_pred.item() = -0.29856693744659424\n"
     ]
    }
   ],
   "source": [
    "final_closing_price_gts, final_closing_price_predictions = pytorch_pipeline.deploy_model(stock_test_loader, lstm_model)"
   ]
  },
  {
   "cell_type": "markdown",
   "id": "ea6edfa0-0050-4e26-9636-d68248144b94",
   "metadata": {},
   "source": [
    "## Unscale Final Closing Stock Price Predictions"
   ]
  },
  {
   "cell_type": "code",
   "execution_count": 93,
   "id": "24a7e176-466c-45c2-80b5-cdc55f7e0c05",
   "metadata": {},
   "outputs": [],
   "source": [
    "unscale = 1/scaler.scale_"
   ]
  },
  {
   "cell_type": "code",
   "execution_count": 94,
   "id": "f730efb3-b035-4791-9c79-3f309f51f4fc",
   "metadata": {},
   "outputs": [
    {
     "data": {
      "text/plain": [
       "array([719.76083374])"
      ]
     },
     "execution_count": 94,
     "metadata": {},
     "output_type": "execute_result"
    }
   ],
   "source": [
    "np.array([unscale[0]])"
   ]
  },
  {
   "cell_type": "code",
   "execution_count": 95,
   "id": "a0df18b7-c041-429d-ac35-b1289641364c",
   "metadata": {},
   "outputs": [],
   "source": [
    "final_closing_price_unscaled_preds = final_closing_price_predictions*np.array([unscale[0]])"
   ]
  },
  {
   "cell_type": "code",
   "execution_count": 96,
   "id": "8ab780a9-b926-4169-adf1-3468bf31505f",
   "metadata": {},
   "outputs": [],
   "source": [
    "final_closing_price_unscaled_gts = final_closing_price_gts*np.array([unscale[0]])"
   ]
  },
  {
   "cell_type": "markdown",
   "id": "e0fa551f-3978-4742-8681-b5a5f74037e5",
   "metadata": {},
   "source": [
    "It looks like we are getting correct predictions in which I mean they are not the same for every set of features. We maybe able to improve the predictions if we increase the lookback from 7 to 100 days that we predict on. We'll test that next. I have two graphs, one with scaled predicted stock closing prices and the other with unscaled predicted stock closing prices. It seems like our initial issue where we were getting the same predictions for each set of features was happening because of the way we were using dropout and relu. **For now the simple LSTM neural network architecture works, we'll build on top of it to improve it.**"
   ]
  },
  {
   "cell_type": "code",
   "execution_count": 97,
   "id": "0a4e4fb8-2a01-44c8-b2d5-75e544ef55e0",
   "metadata": {},
   "outputs": [
    {
     "data": {
      "image/png": "[encoded data removed]",
      "text/plain": [
       "<Figure size 640x480 with 1 Axes>"
      ]
     },
     "metadata": {},
     "output_type": "display_data"
    }
   ],
   "source": [
    "pytorch_utility.plot_gt_pred_curves(final_closing_price_gts, final_closing_price_predictions,\n",
    "                    \"LSTM GT & Pred Scaled Stock Closing Price\", \"lstm_gt_pred_scaled_stock_close_price_curves.jpg\")"
   ]
  },
  {
   "cell_type": "code",
   "execution_count": 98,
   "id": "27102594-8258-4fe0-9e59-bf7d0c3f5660",
   "metadata": {},
   "outputs": [
    {
     "data": {
      "image/png": "[encoded data removed]",
      "text/plain": [
       "<Figure size 640x480 with 1 Axes>"
      ]
     },
     "metadata": {},
     "output_type": "display_data"
    }
   ],
   "source": [
    "pytorch_utility.plot_gt_pred_curves(final_closing_price_unscaled_gts, final_closing_price_unscaled_preds,\n",
    "                    \"LSTM GT & Pred Unscaled Stock Closing Price\", \"lstm_gt_pred_unscaled_stock_close_price_curves.jpg\")"
   ]
  },
  {
   "cell_type": "code",
   "execution_count": 92,
   "id": "ea5b48f4-68bf-493a-b112-58354adf7eae",
   "metadata": {},
   "outputs": [
    {
     "ename": "NameError",
     "evalue": "name 'google_stock_test_date' is not defined",
     "output_type": "error",
     "traceback": [
      "\u001b[0;31m---------------------------------------------------------------------------\u001b[0m",
      "\u001b[0;31mNameError\u001b[0m                                 Traceback (most recent call last)",
      "Cell \u001b[0;32mIn[92], line 1\u001b[0m\n\u001b[0;32m----> 1\u001b[0m pytorch_utility\u001b[38;5;241m.\u001b[39msave_lstm_predictions(\u001b[43mgoogle_stock_test_date\u001b[49m, final_closing_price_unscaled_preds, np\u001b[38;5;241m.\u001b[39marray([unscale[\u001b[38;5;241m0\u001b[39m]]),\n\u001b[1;32m      2\u001b[0m                                        num_days\u001b[38;5;241m=\u001b[39m\u001b[38;5;241m100\u001b[39m, dst_folder\u001b[38;5;241m=\u001b[39m\u001b[38;5;124m\"\u001b[39m\u001b[38;5;124mlstm_stock_close/unscaled_predictions/\u001b[39m\u001b[38;5;124m\"\u001b[39m, \n\u001b[1;32m      3\u001b[0m                                        filename\u001b[38;5;241m=\u001b[39m\u001b[38;5;124m\"\u001b[39m\u001b[38;5;124mpytorch_final_closing_price_unscaled_preds.csv\u001b[39m\u001b[38;5;124m\"\u001b[39m)\n",
      "\u001b[0;31mNameError\u001b[0m: name 'google_stock_test_date' is not defined"
     ]
    }
   ],
   "source": [
    "pytorch_utility.save_lstm_predictions(google_stock_test_date, final_closing_price_unscaled_preds, np.array([unscale[0]]),\n",
    "                                       num_days=100, dst_folder=\"lstm_stock_close/unscaled_predictions/\", \n",
    "                                       filename=\"pytorch_final_closing_price_unscaled_preds.csv\")"
   ]
  },
  {
   "cell_type": "code",
   "execution_count": null,
   "id": "198b08f5-3c76-44a6-a63a-3621c70a6ebe",
   "metadata": {},
   "outputs": [],
   "source": []
  }
 ],
 "metadata": {
  "kernelspec": {
   "display_name": "Python 3 (ipykernel)",
   "language": "python",
   "name": "python3"
  },
  "language_info": {
   "codemirror_mode": {
    "name": "ipython",
    "version": 3
   },
   "file_extension": ".py",
   "mimetype": "text/x-python",
   "name": "python",
   "nbconvert_exporter": "python",
   "pygments_lexer": "ipython3",
   "version": "3.9.17"
  }
 },
 "nbformat": 4,
 "nbformat_minor": 5
}
