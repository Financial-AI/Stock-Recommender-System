{
 "cells": [
  {
   "cell_type": "markdown",
   "metadata": {},
   "source": [
    "# Neural CF GMF (PyTorch)\n",
    "\n",
    "**NOTE**: Referencing my CMPE 256 Adv Data Mining hw4 on PyTorch Neural CF GMF for my semester team project. We'll leverage this notebook as a basis to repurpose it from movie dataset to yahoo finance stock dataset. My teammates include:\n",
    "\n",
    "- James Guzman, Josef Bustamante, Anshul Shandilya\n",
    "\n",
    "For my programming assignment, I will be switching from TensorFlow to **PyTorch** to implement **Generalized Matrix Factorization** using Collaborative Filtering based **Neural Networks with Embeddings** trained and validated on the Movie Night Dataset.\n",
    "\n",
    "![](neural_cf_mf.png)\n",
    "\n",
    "**Contributor: James Guzman, SJSU MS AI**\n",
    "\n",
    "### PyTorch CF NN Learning Resources\n",
    "\n",
    "For learning how to design and develop PyTorch CF NN architecture, I referenced this Kaggle Deep Learning based Recommender System notebook that used a different movie dataset than ours, which is the movie lens dataset and instead of training the CF NN on predicting movie rating, it is predicting movie interaction and so forth. Also for our GMF NN for this assignment we need to use element wise multiplication whereas in the CF NN example, they use torch concatentation. I took what I learned from this notebook and applied it to this assignment. Here is the link: https://www.kaggle.com/code/jamesloy/deep-learning-based-recommender-systems\n",
    "\n",
    "For learning how to do conversions from TensorFlow Keras to PyTorch syntax for developing Neural CF architecture and debugging pytorch issues related to building the custom Dataset and training the GMF CF NN, I referenced perplexity.ai (GPT-3) for prompt engineering examples, which also shared links with me in its generated responses: https://www.perplexity.ai/search/For-Neural-Collaborative-ATK.g6f0QkegMfRejs3dGw?s=c\n",
    "\n",
    "I also referenced this video tutorial after I had already written most of the code, but was referencing this video to help me with debugging purposes and to compare my custom PyTorch Movie Dataset and my GMF CF NN architecture to theirs. Here is the title \"Building Recommender System with PyTorch using Collaborative Filtering\" and link: https://www.youtube.com/watch?v=Wj-nkk7dFS8\n",
    "\n",
    "### TensorFlow to PyTorch Assignment Explanations\n",
    "\n",
    "Also one more important note, I kept the TensorFlow GMF Architecture code commented out that originally came with this assignment and I added ### Label Me (JG) ### in my PyTorch GMF Architecture code covering most of the action items that were required in the TensorFlow code, but I explained it with respect to PyTorch."
   ]
  },
  {
   "cell_type": "code",
   "execution_count": 1,
   "metadata": {
    "id": "0riOOnaIIPyL"
   },
   "outputs": [],
   "source": [
    "import os\n",
    "import pandas as pd\n",
    "import numpy as np\n",
    "from tqdm.notebook import tqdm\n",
    "from sklearn.model_selection import train_test_split\n",
    "\n",
    "import torch\n",
    "import torch.nn as nn\n",
    "from torchvision import transforms\n",
    "import torch.optim as optim\n",
    "from torch.utils.data import DataLoader\n",
    "\n",
    "import matplotlib.pyplot as plt\n",
    "\n",
    "from pytorch_model_summary import summary"
   ]
  },
  {
   "cell_type": "code",
   "execution_count": 2,
   "metadata": {},
   "outputs": [],
   "source": [
    "def mkdir_prep_dir(dirpath):\n",
    "    \"\"\"make preprocess directory if doesn't exist\"\"\"\n",
    "    prep_dir = dirpath\n",
    "    if not os.path.exists(prep_dir):\n",
    "        os.makedirs(prep_dir)\n",
    "    return prep_dir"
   ]
  },
  {
   "cell_type": "code",
   "execution_count": 3,
   "metadata": {},
   "outputs": [
    {
     "name": "stdout",
     "output_type": "stream",
     "text": [
      "PyTorch version 2.0.1+cu117\n",
      "Running on GPU NVIDIA GeForce RTX 4090\n"
     ]
    }
   ],
   "source": [
    "print(\"PyTorch version {}\".format(torch.__version__))\n",
    "\n",
    "if torch.cuda.is_available():\n",
    "    gpu_device = torch.device(\"cuda\")\n",
    "    print(\"Running on GPU {}\".format(torch.cuda.get_device_name(gpu_device)))\n",
    "else:\n",
    "    raise Exception(\"Not connected to a GPU\")"
   ]
  },
  {
   "cell_type": "code",
   "execution_count": 4,
   "metadata": {},
   "outputs": [],
   "source": [
    "# NOTE: Original Keras batch_size=50, for now PyTorch BATCH_SIZE=1 for verifying we can train\n",
    "BATCH_SIZE = 4\n",
    "TEST_BATCH_SIZE = 4\n",
    "LEARNING_RATE = 1e-2\n",
    "NUM_EPOCHS = 5\n",
    "dataset_name = \"movie_night\"\n",
    "DEBUG = False"
   ]
  },
  {
   "cell_type": "code",
   "execution_count": 5,
   "metadata": {
    "colab": {
     "base_uri": "https://localhost:8080/",
     "height": 206
    },
    "id": "d7sw3eHgIQ7t",
    "outputId": "91e2dbcb-db57-4c2c-b419-af776ac1202d"
   },
   "outputs": [
    {
     "data": {
      "text/html": [
       "<div>\n",
       "<style scoped>\n",
       "    .dataframe tbody tr th:only-of-type {\n",
       "        vertical-align: middle;\n",
       "    }\n",
       "\n",
       "    .dataframe tbody tr th {\n",
       "        vertical-align: top;\n",
       "    }\n",
       "\n",
       "    .dataframe thead th {\n",
       "        text-align: right;\n",
       "    }\n",
       "</style>\n",
       "<table border=\"1\" class=\"dataframe\">\n",
       "  <thead>\n",
       "    <tr style=\"text-align: right;\">\n",
       "      <th></th>\n",
       "      <th>u_id</th>\n",
       "      <th>m_id</th>\n",
       "      <th>rate</th>\n",
       "    </tr>\n",
       "  </thead>\n",
       "  <tbody>\n",
       "    <tr>\n",
       "      <th>0</th>\n",
       "      <td>1</td>\n",
       "      <td>2</td>\n",
       "      <td>5.0</td>\n",
       "    </tr>\n",
       "    <tr>\n",
       "      <th>1</th>\n",
       "      <td>1</td>\n",
       "      <td>3</td>\n",
       "      <td>5.0</td>\n",
       "    </tr>\n",
       "    <tr>\n",
       "      <th>2</th>\n",
       "      <td>1</td>\n",
       "      <td>7</td>\n",
       "      <td>3.0</td>\n",
       "    </tr>\n",
       "    <tr>\n",
       "      <th>3</th>\n",
       "      <td>1</td>\n",
       "      <td>11</td>\n",
       "      <td>2.0</td>\n",
       "    </tr>\n",
       "    <tr>\n",
       "      <th>4</th>\n",
       "      <td>1</td>\n",
       "      <td>14</td>\n",
       "      <td>5.0</td>\n",
       "    </tr>\n",
       "  </tbody>\n",
       "</table>\n",
       "</div>"
      ],
      "text/plain": [
       "   u_id  m_id  rate\n",
       "0     1     2   5.0\n",
       "1     1     3   5.0\n",
       "2     1     7   3.0\n",
       "3     1    11   2.0\n",
       "4     1    14   5.0"
      ]
     },
     "execution_count": 5,
     "metadata": {},
     "output_type": "execute_result"
    }
   ],
   "source": [
    "#grab data and view\n",
    "rating_df = pd.read_csv('movie_night_utilitymatrix_F23.csv')\n",
    "rating_df = rating_df.rename(columns={'user':'u_id','movie':'m_id','rating':'rate'})\n",
    "rating_df.head()"
   ]
  },
  {
   "cell_type": "code",
   "execution_count": 6,
   "metadata": {},
   "outputs": [
    {
     "name": "stdout",
     "output_type": "stream",
     "text": [
      "<class 'pandas.core.frame.DataFrame'>\n",
      "RangeIndex: 4694 entries, 0 to 4693\n",
      "Data columns (total 3 columns):\n",
      " #   Column  Non-Null Count  Dtype  \n",
      "---  ------  --------------  -----  \n",
      " 0   u_id    4694 non-null   int64  \n",
      " 1   m_id    4694 non-null   int64  \n",
      " 2   rate    4694 non-null   float64\n",
      "dtypes: float64(1), int64(2)\n",
      "memory usage: 110.1 KB\n"
     ]
    }
   ],
   "source": [
    "rating_df.info()"
   ]
  },
  {
   "cell_type": "code",
   "execution_count": 7,
   "metadata": {
    "id": "SL4Bs9o6iTuZ"
   },
   "outputs": [],
   "source": [
    "# Model may requires seed for embeddings to work depending on keras/tf version\n",
    "# rating_df = rating_df.sample(frac=1, random_state=73)\n",
    "\n",
    "#splits data into inputs (X) and ratings (y)\n",
    "X = rating_df[['u_id', 'm_id']]\n",
    "y = rating_df[\"rate\"]"
   ]
  },
  {
   "cell_type": "code",
   "execution_count": 8,
   "metadata": {
    "colab": {
     "base_uri": "https://localhost:8080/"
    },
    "id": "x0qKtQswiWyZ",
    "outputId": "1b5251cc-e9dc-466e-e384-787547021de6"
   },
   "outputs": [
    {
     "name": "stdout",
     "output_type": "stream",
     "text": [
      "> Train set ratings: 3520\n",
      "> Test set ratings: 1174\n"
     ]
    }
   ],
   "source": [
    "#create the train and test set. test is 25%\n",
    "X_train, X_test, y_train, y_test = train_test_split(X, y,\n",
    "                                                    stratify=y, \n",
    "                                                    test_size=0.25)\n",
    "\n",
    "print('> Train set ratings: {}'.format(len(y_train)))\n",
    "print('> Test set ratings: {}'.format(len(y_test)))"
   ]
  },
  {
   "cell_type": "code",
   "execution_count": 9,
   "metadata": {},
   "outputs": [],
   "source": [
    "class MovieDataset(torch.utils.data.Dataset):\n",
    "    def __init__(self, user_movie_df, rating_pd_series):\n",
    "        # self.um_2d_array = user_movie_2darray\n",
    "        self.X_u_id = user_movie_df[\"u_id\"].tolist()\n",
    "        self.X_m_id = user_movie_df[\"m_id\"].tolist()\n",
    "        self.rating_list = rating_pd_series.tolist()\n",
    "\n",
    "    def __len__(self):\n",
    "        return len(self.X_u_id)\n",
    "\n",
    "    def __getitem__(self, idx):\n",
    "        if DEBUG:\n",
    "            print(\"idx = {}\".format(idx))\n",
    "\n",
    "        user = self.X_u_id[idx]\n",
    "        user_tensor = torch.tensor(user).int()\n",
    "        if DEBUG:\n",
    "            print(\"user = {}\".format(user))\n",
    "            print(\"user_tensor = {}\".format(user_tensor))\n",
    "            \n",
    "        movie = self.X_m_id[idx]\n",
    "        movie_tensor = torch.tensor(movie).int()\n",
    "        if DEBUG:\n",
    "            print(\"movie = {}\".format(movie))\n",
    "            print(\"movie_tensor = {}\".format(movie_tensor))\n",
    "\n",
    "        rating_label = self.rating_list[idx]\n",
    "        rating_tensor = torch.tensor(rating_label).float()\n",
    "        return user_tensor, movie_tensor, rating_tensor"
   ]
  },
  {
   "cell_type": "code",
   "execution_count": 10,
   "metadata": {},
   "outputs": [],
   "source": [
    "movie_train_dataset = MovieDataset(X_train, y_train)"
   ]
  },
  {
   "cell_type": "code",
   "execution_count": 11,
   "metadata": {},
   "outputs": [],
   "source": [
    "movie_test_dataset = MovieDataset(X_test, y_test)"
   ]
  },
  {
   "cell_type": "code",
   "execution_count": 12,
   "metadata": {},
   "outputs": [
    {
     "name": "stdout",
     "output_type": "stream",
     "text": [
      "movie_train_dataset len = 3520\n"
     ]
    }
   ],
   "source": [
    "print(\"movie_train_dataset len = {}\".format(len(movie_train_dataset)))"
   ]
  },
  {
   "cell_type": "code",
   "execution_count": 13,
   "metadata": {},
   "outputs": [
    {
     "name": "stdout",
     "output_type": "stream",
     "text": [
      "movie_test_dataset len = 1174\n"
     ]
    }
   ],
   "source": [
    "print(\"movie_test_dataset len = {}\".format(len(movie_test_dataset)))"
   ]
  },
  {
   "cell_type": "code",
   "execution_count": 14,
   "metadata": {},
   "outputs": [],
   "source": [
    "movie_train_loader = DataLoader(movie_train_dataset, batch_size = BATCH_SIZE, shuffle=True)"
   ]
  },
  {
   "cell_type": "code",
   "execution_count": 15,
   "metadata": {},
   "outputs": [],
   "source": [
    "movie_test_loader = DataLoader(movie_test_dataset, batch_size = TEST_BATCH_SIZE, shuffle=False)"
   ]
  },
  {
   "cell_type": "code",
   "execution_count": 16,
   "metadata": {},
   "outputs": [
    {
     "name": "stdout",
     "output_type": "stream",
     "text": [
      "Sample 0:\n",
      " User Input shape: torch.Size([4])\n",
      " User Input: tensor([394, 166, 270,  72], dtype=torch.int32)\n",
      " Movie Input shape: torch.Size([4])\n",
      " Movie Input: tensor([ 6, 18,  7, 16], dtype=torch.int32)\n",
      " Rating Labels shape: torch.Size([4])\n",
      " Rating Labels: tensor([4., 2., 5., 5.])\n"
     ]
    }
   ],
   "source": [
    "for idx, (user_input, movie_input, rating_targets) in enumerate(movie_train_loader):\n",
    "    print(f\"Sample {idx}:\")\n",
    "    print(f\" User Input shape: {user_input.shape}\")\n",
    "    print(f\" User Input: {user_input}\")\n",
    "    print(f\" Movie Input shape: {movie_input.shape}\")\n",
    "    print(f\" Movie Input: {movie_input}\")\n",
    "    print(f\" Rating Labels shape: {rating_targets.shape}\")\n",
    "    print(f\" Rating Labels: {rating_targets}\")\n",
    "    if idx == 0:\n",
    "        break"
   ]
  },
  {
   "cell_type": "code",
   "execution_count": 17,
   "metadata": {
    "id": "YXucb6SOx8Dp"
   },
   "outputs": [],
   "source": [
    "# the input dimension is the number of unique entries\n",
    "in_u_dim = len(rating_df[\"u_id\"].unique())\n",
    "in_m_dim = len(rating_df[\"m_id\"].unique())\n",
    " \n",
    "latent_out_dim = 8 #desired embedding length, determines complexity"
   ]
  },
  {
   "cell_type": "code",
   "execution_count": 18,
   "metadata": {},
   "outputs": [
    {
     "data": {
      "text/plain": [
       "482"
      ]
     },
     "execution_count": 18,
     "metadata": {},
     "output_type": "execute_result"
    }
   ],
   "source": [
    "in_u_dim"
   ]
  },
  {
   "cell_type": "code",
   "execution_count": 19,
   "metadata": {},
   "outputs": [
    {
     "data": {
      "text/plain": [
       "20"
      ]
     },
     "execution_count": 19,
     "metadata": {},
     "output_type": "execute_result"
    }
   ],
   "source": [
    "in_m_dim"
   ]
  },
  {
   "cell_type": "code",
   "execution_count": 21,
   "metadata": {},
   "outputs": [],
   "source": [
    "# ALERT for Reader, ust a friendly reminder, I decided to do this assignment using PyTorch\n",
    "# instead of TensorFlow for learning purposes. Here is my GMF CF NN architecture. You will\n",
    "# see ### label me ### like in the original TensorFlow Keras skeleton code. I added my initials\n",
    "# ### label me (JG) ### too.\n",
    "\n",
    "class GMFact(nn.Module):\n",
    "    \"\"\" GMF for Neural CF\n",
    "\n",
    "        Args:\n",
    "            in_u_emb (int): number of unique users for user embedding\n",
    "            in_m_emb (int): number of unique movies for item embedding\n",
    "            out_dim (int): desired embedding length determining complexity\n",
    "    \"\"\"\n",
    "    def __init__(self, in_u_emb = 1, in_m_emb = 1, embedding_size = 1, hidden_features = 16):\n",
    "        super(GMFact, self).__init__()\n",
    "\n",
    "        ###label me (JG):### \n",
    "            # In Keras, we define Input layers for user and movie shape, but in PyTorch we define Input Tensors for them, \n",
    "            # which are located in MovieDataset class's object and then we pass them to our GMFact via DataLoader\n",
    "\n",
    "        if DEBUG:\n",
    "            print(\"in_u_emb = {}\".format(in_u_emb))\n",
    "            print(\"in_m_emb = {}\".format(in_m_emb))\n",
    "            print(\"embedding_size = {}\".format(embedding_size))\n",
    "        ###label me (JG):### \n",
    "            # Like Keras, PyTorch we have User Embedding layer followed by Item Embedding layer\n",
    "        self.user_embedding = nn.Embedding(num_embeddings = in_u_emb, embedding_dim = embedding_size)\n",
    "        self.item_embedding = nn.Embedding(num_embeddings = in_m_emb, embedding_dim = embedding_size)\n",
    "        \n",
    "        # In Keras, the Single Neuron layer indicated by Dense, in PyTorch, it is by nn.Linear \n",
    "            # and kernel initializer for lecun uniform in Keras is kaiming_uniform_() in PyTorch\n",
    "            # we also use a fan_in mode, so kiaming_uniform bases its scaling factor on the in features\n",
    "        self.fc1 = nn.Linear(in_features = embedding_size, out_features = 1)\n",
    "        nn.init.kaiming_uniform_(self.fc1.weight, mode=\"fan_in\", nonlinearity=\"linear\")\n",
    "\n",
    "            # Like Keras, PyTorch has a Sigmoid activation\n",
    "        self.sigmoid_activation = nn.Sigmoid()\n",
    "\n",
    "    def forward(self, user_input, item_input):\n",
    "        ###label me (JG):### \n",
    "            # Passing user and item inputs through embedding layers\n",
    "        if DEBUG:\n",
    "            print(\"user_input.shape = {}\".format(user_input))\n",
    "            print(\"item_input.shape = {}\".format(item_input))\n",
    "        user_embedding_layer = self.user_embedding(user_input)\n",
    "        item_embedding_layer = self.item_embedding(item_input)\n",
    "\n",
    "        if DEBUG:\n",
    "            print(\"user_embedding_layer.shape = {}\".format(user_embedding_layer.shape))\n",
    "            print(\"item_embedding_layer.shape = {}\".format(item_embedding_layer.shape))\n",
    "\n",
    "        ###label me (JG):### \n",
    "            # In PyTorch GMF, we do element wise multiplication for merging embedding layers \n",
    "            # However, we dont flatten the result like we would do in Keras since Pytorch preserve shape of tensors\n",
    "        similarity_vector = torch.mul(user_embedding_layer, item_embedding_layer)\n",
    "        if DEBUG:\n",
    "            print(\"after mult: similarity_vector.shape = {}\".format(similarity_vector.shape))\n",
    "            print(\"after mult: similarity_vector = {}\".format(similarity_vector))\n",
    "\n",
    "        # NOTE: If we were to develop NCF, we could use concatenation below instead of multiplication above\n",
    "        # similarity_vector = torch.cat([user_embedding_layer, item_embedding_layer], dim=-1)\n",
    "        # print(\"after cat: similarity_vector.shape = {}\".format(similarity_vector.shape))\n",
    "        \n",
    "        ###label me###  \n",
    "            # Passing similarity vectors through Linear layers and sigmoid activation to obtain movie rating predictions\n",
    "        similarity_vector = self.fc1(similarity_vector)\n",
    "        if DEBUG:\n",
    "            print(\"after Linear: similarity_vector.shape = {}\".format(similarity_vector.shape))\n",
    "        pred_out = self.sigmoid_activation(similarity_vector)\n",
    "        if DEBUG:\n",
    "            print(\"after sigmoid: pred_out.shape = {}\".format(pred_out.shape))\n",
    "\n",
    "        return pred_out"
   ]
  },
  {
   "cell_type": "code",
   "execution_count": 22,
   "metadata": {},
   "outputs": [],
   "source": [
    "# Store Loss Values During Training\n",
    "train_mse_loss_values = []\n",
    "train_rmse_loss_values = []\n",
    "\n",
    "# Store Loss Values During Validation\n",
    "val_mse_loss_values = []\n",
    "val_rmse_loss_values = []"
   ]
  },
  {
   "cell_type": "code",
   "execution_count": 23,
   "metadata": {},
   "outputs": [],
   "source": [
    "def save_checkpoint(state, filename=\"best_gmfact_dnn.pth.tar\"):\n",
    "    print(\"=> Saving Checkpoint\")\n",
    "    torch.save(state, filename)"
   ]
  },
  {
   "cell_type": "code",
   "execution_count": 24,
   "metadata": {},
   "outputs": [],
   "source": [
    "def compute_metrics(metrics, outputs, targets):\n",
    "    with torch.no_grad():\n",
    "        for metric in metrics:\n",
    "            metric_value = metric(targets, outputs)\n",
    "            if DEBUG:\n",
    "                print(f\"{metric.__name__}: {metric_value:.4f}\")"
   ]
  },
  {
   "cell_type": "code",
   "execution_count": 25,
   "metadata": {},
   "outputs": [],
   "source": [
    "def rmse(y_true, y_pred):\n",
    "    return torch.sqrt(torch.mean((y_true - y_pred) ** 2))"
   ]
  },
  {
   "cell_type": "code",
   "execution_count": 26,
   "metadata": {},
   "outputs": [],
   "source": [
    "def train_gmf(train_loader, dnn_model, optimizer, loss_criterion, metrics):\n",
    "    train_loop = tqdm(train_loader)\n",
    "\n",
    "    if DEBUG:\n",
    "        print(\"Running train_gmf\")\n",
    "    for batch_idx, (user_input, movie_input, rating_targets) in enumerate(train_loop):\n",
    "        if DEBUG:\n",
    "            print(\"Setting user, movie and rating on gpu device\")\n",
    "        user_input = user_input\n",
    "        movie_input = movie_input\n",
    "        rating_targets = rating_targets.unsqueeze(1)\n",
    "\n",
    "        if DEBUG:\n",
    "            print(\"Train Neural CF on user & movie inputs calculating MSE loss\")\n",
    "        optimizer.zero_grad()\n",
    "        pred_targets = dnn_model(user_input, movie_input)\n",
    "        if DEBUG:\n",
    "            print(\"pred_targets = {}\".format(pred_targets))\n",
    "        loss = loss_criterion(pred_targets, rating_targets)\n",
    "        rmse_loss = rmse(rating_targets, pred_targets)\n",
    "        if DEBUG:\n",
    "            print(\"MSE loss = {}\".format(loss))\n",
    "            print(\"Compute Metrics: RMSE\")\n",
    "            \n",
    "        if DEBUG:\n",
    "            print(\"Backpropagate using MSE Loss and SGD optimizer\")\n",
    "        loss.backward()\n",
    "        optimizer.step()\n",
    "\n",
    "        # Save the training loss values to list\n",
    "        train_mse_loss_values.append(loss.item())\n",
    "        train_rmse_loss_values.append(rmse_loss.item())\n",
    "        \n",
    "        train_loop.set_postfix(train_mse_loss=loss.item(), train_rmse_loss=rmse_loss.item())"
   ]
  },
  {
   "cell_type": "code",
   "execution_count": 27,
   "metadata": {},
   "outputs": [],
   "source": [
    "def validate_gmf(val_loader, dnn_model, loss_criterion, metrics):\n",
    "    val_loop = tqdm(val_loader)\n",
    "\n",
    "    if DEBUG:\n",
    "        print(\"Running validate_gmf\")\n",
    "    with torch.no_grad():\n",
    "        for batch_idx, (user_input, movie_input, rating_targets) in enumerate(val_loop):\n",
    "            if DEBUG:\n",
    "                print(\"Setting user, movie and rating on gpu device\")\n",
    "            user_input = user_input\n",
    "            movie_input = movie_input\n",
    "            rating_targets = rating_targets.unsqueeze(1)\n",
    "            pred_targets = dnn_model(user_input, movie_input)\n",
    "\n",
    "            loss = loss_criterion(pred_targets, rating_targets)\n",
    "            rmse_loss = rmse(rating_targets, pred_targets)\n",
    "            \n",
    "            if DEBUG:\n",
    "                print(\"Compute Metrics: RMSE\")\n",
    "\n",
    "            # Save the validation loss values to list\n",
    "            val_mse_loss_values.append(loss.item())\n",
    "            val_rmse_loss_values.append(rmse_loss.item())\n",
    "            \n",
    "            val_loop.set_postfix(val_mse_loss=loss.item(), val_rmse_loss=rmse_loss.item())"
   ]
  },
  {
   "cell_type": "code",
   "execution_count": 42,
   "metadata": {},
   "outputs": [],
   "source": [
    "def plot_dnn_loss_curve(mse_loss_values, rmse_loss_values, plot_title, plot_filename):\n",
    "    plt.title(plot_title)\n",
    "    plt.plot(mse_loss_values, label=\"MSE Loss\")\n",
    "    plt.plot(rmse_loss_values, label=\"RMSE Loss\")\n",
    "    plt.legend()\n",
    "    plt.savefig(plot_filename)\n",
    "    plt.show()"
   ]
  },
  {
   "cell_type": "code",
   "execution_count": 29,
   "metadata": {},
   "outputs": [],
   "source": [
    "def train_neuralCF_over_epochs(neural_cf_dnn, optimizer, loss_criterion, metrics):\n",
    "    if DEBUG:\n",
    "        print(\"Running train neural CF over epochs\")\n",
    "    \n",
    "    step = 100\n",
    "    for epoch in range(NUM_EPOCHS):\n",
    "        if DEBUG:\n",
    "            print(\"Epoch {}: Train across batch_idx and movie_data and target from train_loader\".format(epoch))\n",
    "        train_gmf(movie_train_loader, neural_cf_dnn, optimizer, loss_criterion, metrics)\n",
    "\n",
    "        if DEBUG:\n",
    "            print(\"Creating checkpoint\")\n",
    "        checkpoint = {\n",
    "            \"state_dict\": neural_cf_dnn.state_dict(),\n",
    "            \"optimizer\": optimizer.state_dict(),\n",
    "        }\n",
    "        mkdir_prep_dir(\"{}/neural_cf_dnns\".format(dataset_name))\n",
    "        filename = \"{}/neural_cf_dnns/gmfact_dnn_{}.pth.tar\".format(dataset_name, step)\n",
    "        save_checkpoint(checkpoint, filename=filename)\n",
    "\n",
    "        if DEBUG:\n",
    "            print(\"Running Evaluation on Neural GMF\")\n",
    "\n",
    "        validate_gmf(movie_test_loader, neural_cf_dnn, loss_criterion, metrics)\n",
    "        \n",
    "        step += 100"
   ]
  },
  {
   "cell_type": "markdown",
   "metadata": {},
   "source": [
    "Initially, we used the unique users and unique movies, but I found that to have index out of range issue. I switched to using max() on users and movies to get the unique number and added +1 to account for the zero index."
   ]
  },
  {
   "cell_type": "code",
   "execution_count": 30,
   "metadata": {},
   "outputs": [],
   "source": [
    "user_dim_num = rating_df[\"u_id\"].max()+1"
   ]
  },
  {
   "cell_type": "code",
   "execution_count": 31,
   "metadata": {},
   "outputs": [
    {
     "data": {
      "text/plain": [
       "485"
      ]
     },
     "execution_count": 31,
     "metadata": {},
     "output_type": "execute_result"
    }
   ],
   "source": [
    "user_dim_num"
   ]
  },
  {
   "cell_type": "code",
   "execution_count": 32,
   "metadata": {},
   "outputs": [],
   "source": [
    "movie_dim_num = rating_df[\"m_id\"].max()+1"
   ]
  },
  {
   "cell_type": "code",
   "execution_count": 33,
   "metadata": {},
   "outputs": [
    {
     "data": {
      "text/plain": [
       "21"
      ]
     },
     "execution_count": 33,
     "metadata": {},
     "output_type": "execute_result"
    }
   ],
   "source": [
    "movie_dim_num"
   ]
  },
  {
   "cell_type": "code",
   "execution_count": 34,
   "metadata": {},
   "outputs": [],
   "source": [
    "# Note: for input user and movie embedding numbers, we +1 to account for zero-indexed\n",
    "gmfact_dnn = GMFact(in_u_emb = user_dim_num, in_m_emb = movie_dim_num, embedding_size = latent_out_dim)"
   ]
  },
  {
   "cell_type": "code",
   "execution_count": 35,
   "metadata": {},
   "outputs": [],
   "source": [
    "sgd_optimizer = optim.SGD(gmfact_dnn.parameters(), lr=LEARNING_RATE)"
   ]
  },
  {
   "cell_type": "code",
   "execution_count": 36,
   "metadata": {},
   "outputs": [],
   "source": [
    "mse_criterion = nn.MSELoss()"
   ]
  },
  {
   "cell_type": "code",
   "execution_count": 37,
   "metadata": {},
   "outputs": [],
   "source": [
    "eval_metrics = [rmse]"
   ]
  },
  {
   "cell_type": "code",
   "execution_count": 35,
   "metadata": {},
   "outputs": [],
   "source": [
    "# summary(gmfact_dnn, torch.zeros((1, 1, 1)))"
   ]
  },
  {
   "cell_type": "code",
   "execution_count": 42,
   "metadata": {
    "colab": {
     "base_uri": "https://localhost:8080/"
    },
    "id": "jSIdbCkdjkVX",
    "outputId": "2819e603-824f-489a-a9cc-36eeed80545f",
    "scrolled": true
   },
   "outputs": [
    {
     "name": "stdout",
     "output_type": "stream",
     "text": [
      "Model: \"model_4\"\n",
      "__________________________________________________________________________________________________\n",
      " Layer (type)                   Output Shape         Param #     Connected to                     \n",
      "==================================================================================================\n",
      " u_in (InputLayer)              [(None, 1)]          0           []                               \n",
      "                                                                                                  \n",
      " m_in (InputLayer)              [(None, 1)]          0           []                               \n",
      "                                                                                                  \n",
      " u_emb (Embedding)              (None, 1, 8)         3568        ['u_in[0][0]']                   \n",
      "                                                                                                  \n",
      " s_emb (Embedding)              (None, 1, 8)         160         ['m_in[0][0]']                   \n",
      "                                                                                                  \n",
      " multiply_4 (Multiply)          (None, 1, 8)         0           ['u_emb[0][0]',                  \n",
      "                                                                  's_emb[0][0]']                  \n",
      "                                                                                                  \n",
      " flatten_4 (Flatten)            (None, 8)            0           ['multiply_4[0][0]']             \n",
      "                                                                                                  \n",
      " dense_4 (Dense)                (None, 1)            9           ['flatten_4[0][0]']              \n",
      "                                                                                                  \n",
      " activation_4 (Activation)      (None, 1)            0           ['dense_4[0][0]']                \n",
      "                                                                                                  \n",
      "==================================================================================================\n",
      "Total params: 3,737\n",
      "Trainable params: 3,737\n",
      "Non-trainable params: 0\n",
      "__________________________________________________________________________________________________\n"
     ]
    }
   ],
   "source": [
    "# ALERT for Reader, just a friendly reminder, I decided to do this assignment using PyTorch\n",
    "# instead of TensorFlow for learning purposes. My goal was to design and develop PyTorch GMF\n",
    "# NN Architecture with similar behavior as TensorFlow Keras. I am keeping this TensorFlow Keras\n",
    "# skeleton code here for reference in case it helps to make sure I covered the items, but with\n",
    "# respect to using PyTorch.\n",
    "\n",
    "# Model\n",
    "# from keras.layers import Add, Activation, Lambda, BatchNormalization, Concatenate, Dropout, Input, Embedding, Dot, Reshape, Dense, Flatten\n",
    "\n",
    "# def GMFact():\n",
    "    \n",
    "###--------------------- Instructions!\n",
    "### Take a look at the General Matrix Factorization Architecture.png\n",
    "### Of the 4 architecture components (single neuron, element-wise multiplication layer, embedding layer, and input layer)\n",
    "### label the appropriate component to the appropriate comment denoted with: ###label me###\n",
    "### Additionally, fillout code where ever you see ##, please check the above # for instructions\n",
    "###-----------------------------------\n",
    "\n",
    "    ###label me###\n",
    "    # user = Input(name = 'u_in', shape = [1])\n",
    "    # movie = Input(name = 'm_in', shape = [1])\n",
    "\n",
    "    # ###label me###\n",
    "    # user_embedding = Embedding(name = 'u_emb',\n",
    "    #                    input_dim = ##,                                  #what is the dimension of the user embedding? Hint: it should be the number of unique entries. This variable was created in the previous code block.\n",
    "    #                    output_dim = ##)(user)                           #what is the dimension of the desired output embedding dimension? Hint: see what we did with the movie_embedding\n",
    "    \n",
    "    # movie_embedding = Embedding(name = 's_emb',\n",
    "    #                    input_dim = in_m_dim, \n",
    "    #                    output_dim = latent_out_dim)(movie)\n",
    "    \n",
    "    ###label me###\n",
    "    # x = tf.keras.layers.##()([user_embedding, movie_embedding])         #We need to specify the correct layer type to element-wise multiply the user_embedding with the movie_embedding. Hint: the name of the layer is one of these: https://keras.io/api/layers/merging_layers/\n",
    "    # x = Flatten()(x)\n",
    "\n",
    "    ###label me###   \n",
    "    # x = Dense(##, ##)(x)                                                #add a single neuron and set the 'kernel_initializer' to 'lecun_uniform' see example: https://github.com/fractus-io/keras-tutorial/blob/master/README.md#initializers\n",
    "    # x = Activation(\"sigmoid\")(x)\n",
    "    \n",
    "    # model = Model(inputs=[user, movie], outputs=x)\n",
    "\n",
    "    # model.compile(\n",
    "    #   optimizer='sgd',\n",
    "    #   loss='mse',\n",
    "    #   metrics=[tf.keras.metrics.RootMeanSquaredError()])\n",
    "    \n",
    "#     return model\n",
    "\n",
    "# with tpu_strategy.scope(): \n",
    "#   model = GMFact()\n",
    "# model.summary()\n"
   ]
  },
  {
   "cell_type": "code",
   "execution_count": 43,
   "metadata": {
    "colab": {
     "base_uri": "https://localhost:8080/"
    },
    "id": "7YnLr5gYkN_d",
    "outputId": "78130a12-2f77-43f9-cb82-028e5f958a87"
   },
   "outputs": [
    {
     "name": "stdout",
     "output_type": "stream",
     "text": [
      "68/68 [==============================] - 6s 50ms/step - loss: 11.9475 - root_mean_squared_error: 3.4565 - val_loss: 11.2282 - val_root_mean_squared_error: 3.3508\n"
     ]
    }
   ],
   "source": [
    "## NOTE: This was the previous TensorFlow Keras train code\n",
    "##       Also just keeping the results here, so we can see our PyTorch results and compare our Loss with\n",
    "##       this previous one from TensorFlow Keras.\n",
    "##\n",
    "# # Model training\n",
    "# batch_size = 50\n",
    "# history = model.fit(\n",
    "#     x=X_train_array,\n",
    "#     y=y_train,\n",
    "#     batch_size=batch_size,\n",
    "#     epochs=1,\n",
    "#     verbose=1,\n",
    "#     validation_data=(X_test_array, y_test)\n",
    "# )\n",
    "\n",
    "# model.save_weights('gmf.h5')"
   ]
  },
  {
   "cell_type": "code",
   "execution_count": 38,
   "metadata": {},
   "outputs": [
    {
     "data": {
      "application/vnd.jupyter.widget-view+json": {
       "model_id": "663ffca118104c91ac73fe7d8b85ee6b",
       "version_major": 2,
       "version_minor": 0
      },
      "text/plain": [
       "  0%|          | 0/880 [00:00<?, ?it/s]"
      ]
     },
     "metadata": {},
     "output_type": "display_data"
    },
    {
     "name": "stdout",
     "output_type": "stream",
     "text": [
      "=> Saving Checkpoint\n"
     ]
    },
    {
     "data": {
      "application/vnd.jupyter.widget-view+json": {
       "model_id": "c90a5e00c9f4454180622c031ba617a4",
       "version_major": 2,
       "version_minor": 0
      },
      "text/plain": [
       "  0%|          | 0/294 [00:00<?, ?it/s]"
      ]
     },
     "metadata": {},
     "output_type": "display_data"
    },
    {
     "data": {
      "application/vnd.jupyter.widget-view+json": {
       "model_id": "5ccb9d4a2e4c422a817c39362bbabf3a",
       "version_major": 2,
       "version_minor": 0
      },
      "text/plain": [
       "  0%|          | 0/880 [00:00<?, ?it/s]"
      ]
     },
     "metadata": {},
     "output_type": "display_data"
    },
    {
     "name": "stdout",
     "output_type": "stream",
     "text": [
      "=> Saving Checkpoint\n"
     ]
    },
    {
     "data": {
      "application/vnd.jupyter.widget-view+json": {
       "model_id": "8dd9eee13b1d49f682dd9e224576a521",
       "version_major": 2,
       "version_minor": 0
      },
      "text/plain": [
       "  0%|          | 0/294 [00:00<?, ?it/s]"
      ]
     },
     "metadata": {},
     "output_type": "display_data"
    },
    {
     "data": {
      "application/vnd.jupyter.widget-view+json": {
       "model_id": "bc62d38a0f9d4c8d80672e647e90f9d7",
       "version_major": 2,
       "version_minor": 0
      },
      "text/plain": [
       "  0%|          | 0/880 [00:00<?, ?it/s]"
      ]
     },
     "metadata": {},
     "output_type": "display_data"
    },
    {
     "name": "stdout",
     "output_type": "stream",
     "text": [
      "=> Saving Checkpoint\n"
     ]
    },
    {
     "data": {
      "application/vnd.jupyter.widget-view+json": {
       "model_id": "6f48d73e49d24d4294779c1235ccdf19",
       "version_major": 2,
       "version_minor": 0
      },
      "text/plain": [
       "  0%|          | 0/294 [00:00<?, ?it/s]"
      ]
     },
     "metadata": {},
     "output_type": "display_data"
    },
    {
     "data": {
      "application/vnd.jupyter.widget-view+json": {
       "model_id": "79064b7e72624942b31f799c31318e9b",
       "version_major": 2,
       "version_minor": 0
      },
      "text/plain": [
       "  0%|          | 0/880 [00:00<?, ?it/s]"
      ]
     },
     "metadata": {},
     "output_type": "display_data"
    },
    {
     "name": "stdout",
     "output_type": "stream",
     "text": [
      "=> Saving Checkpoint\n"
     ]
    },
    {
     "data": {
      "application/vnd.jupyter.widget-view+json": {
       "model_id": "d9e899cb99534f42a16170ed387dcda7",
       "version_major": 2,
       "version_minor": 0
      },
      "text/plain": [
       "  0%|          | 0/294 [00:00<?, ?it/s]"
      ]
     },
     "metadata": {},
     "output_type": "display_data"
    },
    {
     "data": {
      "application/vnd.jupyter.widget-view+json": {
       "model_id": "a310fabb938d40d190b738cccbb0993c",
       "version_major": 2,
       "version_minor": 0
      },
      "text/plain": [
       "  0%|          | 0/880 [00:00<?, ?it/s]"
      ]
     },
     "metadata": {},
     "output_type": "display_data"
    },
    {
     "name": "stdout",
     "output_type": "stream",
     "text": [
      "=> Saving Checkpoint\n"
     ]
    },
    {
     "data": {
      "application/vnd.jupyter.widget-view+json": {
       "model_id": "aef4b9f8b56343b783364a9cf32658f6",
       "version_major": 2,
       "version_minor": 0
      },
      "text/plain": [
       "  0%|          | 0/294 [00:00<?, ?it/s]"
      ]
     },
     "metadata": {},
     "output_type": "display_data"
    }
   ],
   "source": [
    "# NOTE: Here is my PyTorch train code calling a train function where we pass our GMF DNN\n",
    "# model, SGD optimizer, MSE Loss Criterion Function, and eval_metrics (mainly holding RMSE).\n",
    "# We train the model printing the MSE Loss and RMSE Loss during training. We also validate\n",
    "# our GMF DNN model on the testing set and print the MSE Loss and RMSE Loss.\n",
    "train_neuralCF_over_epochs(\n",
    "    gmfact_dnn, \n",
    "    sgd_optimizer, \n",
    "    mse_criterion, \n",
    "    eval_metrics\n",
    ")"
   ]
  },
  {
   "cell_type": "code",
   "execution_count": 44,
   "metadata": {
    "colab": {
     "base_uri": "https://localhost:8080/"
    },
    "id": "-w3iQ28com6X",
    "outputId": "76843b5c-b914-405a-a8d3-ddc7b27a71af"
   },
   "outputs": [
    {
     "data": {
      "text/plain": [
       "3.4565114974975586"
      ]
     },
     "execution_count": 44,
     "metadata": {},
     "output_type": "execute_result"
    }
   ],
   "source": [
    "# final_RMSE = (history.history['root_mean_squared_error'])[-1]\n",
    "# final_RMSE"
   ]
  },
  {
   "cell_type": "markdown",
   "metadata": {},
   "source": [
    "Finally, we show the final RMSE scores from training and validation, and then we show graphs of our PyTorch GMFact DNN from training and validation."
   ]
  },
  {
   "cell_type": "code",
   "execution_count": 39,
   "metadata": {},
   "outputs": [
    {
     "name": "stdout",
     "output_type": "stream",
     "text": [
      "final_train_RMSE = 2.961578369140625\n"
     ]
    }
   ],
   "source": [
    "final_train_RMSE = train_rmse_loss_values[-1]\n",
    "print(\"final_train_RMSE = {}\".format(final_train_RMSE))"
   ]
  },
  {
   "cell_type": "code",
   "execution_count": 40,
   "metadata": {},
   "outputs": [
    {
     "name": "stdout",
     "output_type": "stream",
     "text": [
      "final_val_RMSE = 3.0039865970611572\n"
     ]
    }
   ],
   "source": [
    "final_val_RMSE = val_rmse_loss_values[-1]\n",
    "print(\"final_val_RMSE = {}\".format(final_val_RMSE))"
   ]
  },
  {
   "cell_type": "code",
   "execution_count": 43,
   "metadata": {},
   "outputs": [
    {
     "data": {
      "image/png": "[encoded data removed]",
      "text/plain": [
       "<Figure size 640x480 with 1 Axes>"
      ]
     },
     "metadata": {},
     "output_type": "display_data"
    }
   ],
   "source": [
    "plot_dnn_loss_curve(train_mse_loss_values, train_rmse_loss_values, \"Neural GMF Training Loss Curves\", \"gmf_train_loss_curves.jpg\")"
   ]
  },
  {
   "cell_type": "code",
   "execution_count": 44,
   "metadata": {},
   "outputs": [
    {
     "data": {
      "image/png": "[encoded data removed]",
      "text/plain": [
       "<Figure size 640x480 with 1 Axes>"
      ]
     },
     "metadata": {},
     "output_type": "display_data"
    }
   ],
   "source": [
    "plot_dnn_loss_curve(val_mse_loss_values, val_rmse_loss_values, \"Neural GMF Validation Loss Curves\", \"gmf_val_loss_curves.jpg\")"
   ]
  },
  {
   "cell_type": "code",
   "execution_count": null,
   "metadata": {},
   "outputs": [],
   "source": []
  }
 ],
 "metadata": {
  "accelerator": "TPU",
  "colab": {
   "machine_shape": "hm",
   "provenance": []
  },
  "gpuClass": "standard",
  "kernelspec": {
   "display_name": "Python 3 (ipykernel)",
   "language": "python",
   "name": "python3"
  },
  "language_info": {
   "codemirror_mode": {
    "name": "ipython",
    "version": 3
   },
   "file_extension": ".py",
   "mimetype": "text/x-python",
   "name": "python",
   "nbconvert_exporter": "python",
   "pygments_lexer": "ipython3",
   "version": "3.9.17"
  }
 },
 "nbformat": 4,
 "nbformat_minor": 4
}
