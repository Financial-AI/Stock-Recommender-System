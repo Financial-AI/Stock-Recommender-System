{
 "cells": [
  {
   "cell_type": "markdown",
   "id": "9c2e2a3a-f9c1-41d9-8be6-450de4cb29a9",
   "metadata": {},
   "source": [
    "# Stock SQL Pipeline"
   ]
  },
  {
   "cell_type": "code",
   "execution_count": 29,
   "id": "03c70882-b8f8-420e-a9bc-c3a5c9132f5b",
   "metadata": {},
   "outputs": [],
   "source": [
    "import os\n",
    "import sqlalchemy\n",
    "import pymysql\n",
    "import pandas as pd"
   ]
  },
  {
   "cell_type": "code",
   "execution_count": 36,
   "id": "58cab434-eee6-425d-8065-a02fa7bde7df",
   "metadata": {},
   "outputs": [],
   "source": [
    "class SQLPipeline:\n",
    "    def __init__(self):\n",
    "        self.indices_ = [\"NASDAQ\"]\n",
    "        self.user_ = \"root\"\n",
    "        self.password_ = \"stock_autobots\"\n",
    "        self.domain_ = \"localhost\"\n",
    "        self.port_ = \"3306\"\n",
    "        pymysql.install_as_MySQLdb()\n",
    "\n",
    "    def create_engine(self, stock_index):\n",
    "        # NOTE: No longer works being able to create schema \"Database\" using engine, it doesnt have execute(...)\n",
    "        engine = sqlalchemy.create_engine(\n",
    "            f\"mysql://{self.user_}:{self.password_}@{self.domain_}:{self.port_}/{stock_index}\"\n",
    "        )\n",
    "        # engine.execute(sqlalchemy.schema.CreateSchema(index))\n",
    "        return engine\n",
    "\n",
    "    def read_stock_metadata(self, url, idx):\n",
    "        nasdaq = pd.read_html(url)[idx]\n",
    "        return nasdaq"
   ]
  },
  {
   "cell_type": "code",
   "execution_count": 37,
   "id": "86709a50-4fe3-4c31-983f-1bacb2630f78",
   "metadata": {},
   "outputs": [],
   "source": [
    "sql_pipeline = SQLPipeline()"
   ]
  },
  {
   "cell_type": "code",
   "execution_count": 39,
   "id": "4ad8c589-521b-4924-9bf0-28b569b26342",
   "metadata": {},
   "outputs": [],
   "source": [
    "# stock_index = \"NASDAQ\"\n",
    "stock_index = \"nasdaq_stock\""
   ]
  },
  {
   "cell_type": "code",
   "execution_count": 40,
   "id": "aece5d71-c8f5-4763-89f4-818e52d7eee0",
   "metadata": {},
   "outputs": [],
   "source": [
    "# sql_pipeline.create_schema(stock_index)\n",
    "sql_engine = sql_pipeline.create_engine(stock_index)"
   ]
  },
  {
   "cell_type": "code",
   "execution_count": 21,
   "id": "f4d1d05a-5bff-4727-a0e0-b8f1000b2081",
   "metadata": {},
   "outputs": [],
   "source": [
    "nasdaq = sql_pipeline.read_stock_metadata(\"https://en.wikipedia.org/wiki/Nasdaq-100\", idx=4)"
   ]
  },
  {
   "cell_type": "code",
   "execution_count": 22,
   "id": "257b93f0-28f7-4348-8124-8c668517c67c",
   "metadata": {},
   "outputs": [
    {
     "data": {
      "text/html": [
       "<div>\n",
       "<style scoped>\n",
       "    .dataframe tbody tr th:only-of-type {\n",
       "        vertical-align: middle;\n",
       "    }\n",
       "\n",
       "    .dataframe tbody tr th {\n",
       "        vertical-align: top;\n",
       "    }\n",
       "\n",
       "    .dataframe thead th {\n",
       "        text-align: right;\n",
       "    }\n",
       "</style>\n",
       "<table border=\"1\" class=\"dataframe\">\n",
       "  <thead>\n",
       "    <tr style=\"text-align: right;\">\n",
       "      <th></th>\n",
       "      <th>Company</th>\n",
       "      <th>Ticker</th>\n",
       "      <th>GICS Sector</th>\n",
       "      <th>GICS Sub-Industry</th>\n",
       "    </tr>\n",
       "  </thead>\n",
       "  <tbody>\n",
       "    <tr>\n",
       "      <th>0</th>\n",
       "      <td>Adobe Inc.</td>\n",
       "      <td>ADBE</td>\n",
       "      <td>Information Technology</td>\n",
       "      <td>Application Software</td>\n",
       "    </tr>\n",
       "    <tr>\n",
       "      <th>1</th>\n",
       "      <td>ADP</td>\n",
       "      <td>ADP</td>\n",
       "      <td>Industrials</td>\n",
       "      <td>Human Resource &amp; Employment Services</td>\n",
       "    </tr>\n",
       "    <tr>\n",
       "      <th>2</th>\n",
       "      <td>Airbnb</td>\n",
       "      <td>ABNB</td>\n",
       "      <td>Consumer Discretionary</td>\n",
       "      <td>Hotels, Resorts &amp; Cruise Lines</td>\n",
       "    </tr>\n",
       "    <tr>\n",
       "      <th>3</th>\n",
       "      <td>Align Technology</td>\n",
       "      <td>ALGN</td>\n",
       "      <td>Health Care</td>\n",
       "      <td>Health Care Supplies</td>\n",
       "    </tr>\n",
       "    <tr>\n",
       "      <th>4</th>\n",
       "      <td>Alphabet Inc. (Class A)</td>\n",
       "      <td>GOOGL</td>\n",
       "      <td>Communication Services</td>\n",
       "      <td>Interactive Media &amp; Services</td>\n",
       "    </tr>\n",
       "    <tr>\n",
       "      <th>...</th>\n",
       "      <td>...</td>\n",
       "      <td>...</td>\n",
       "      <td>...</td>\n",
       "      <td>...</td>\n",
       "    </tr>\n",
       "    <tr>\n",
       "      <th>96</th>\n",
       "      <td>Warner Bros. Discovery</td>\n",
       "      <td>WBD</td>\n",
       "      <td>Communication Services</td>\n",
       "      <td>Broadcasting</td>\n",
       "    </tr>\n",
       "    <tr>\n",
       "      <th>97</th>\n",
       "      <td>Workday, Inc.</td>\n",
       "      <td>WDAY</td>\n",
       "      <td>Information Technology</td>\n",
       "      <td>Application Software</td>\n",
       "    </tr>\n",
       "    <tr>\n",
       "      <th>98</th>\n",
       "      <td>Xcel Energy</td>\n",
       "      <td>XEL</td>\n",
       "      <td>Utilities</td>\n",
       "      <td>Multi-Utilities</td>\n",
       "    </tr>\n",
       "    <tr>\n",
       "      <th>99</th>\n",
       "      <td>Zoom Video Communications</td>\n",
       "      <td>ZM</td>\n",
       "      <td>Information Technology</td>\n",
       "      <td>Application Software</td>\n",
       "    </tr>\n",
       "    <tr>\n",
       "      <th>100</th>\n",
       "      <td>Zscaler</td>\n",
       "      <td>ZS</td>\n",
       "      <td>Information Technology</td>\n",
       "      <td>Application Software</td>\n",
       "    </tr>\n",
       "  </tbody>\n",
       "</table>\n",
       "<p>101 rows × 4 columns</p>\n",
       "</div>"
      ],
      "text/plain": [
       "                       Company Ticker             GICS Sector  \\\n",
       "0                   Adobe Inc.   ADBE  Information Technology   \n",
       "1                          ADP    ADP             Industrials   \n",
       "2                       Airbnb   ABNB  Consumer Discretionary   \n",
       "3             Align Technology   ALGN             Health Care   \n",
       "4      Alphabet Inc. (Class A)  GOOGL  Communication Services   \n",
       "..                         ...    ...                     ...   \n",
       "96      Warner Bros. Discovery    WBD  Communication Services   \n",
       "97               Workday, Inc.   WDAY  Information Technology   \n",
       "98                 Xcel Energy    XEL               Utilities   \n",
       "99   Zoom Video Communications     ZM  Information Technology   \n",
       "100                    Zscaler     ZS  Information Technology   \n",
       "\n",
       "                        GICS Sub-Industry  \n",
       "0                    Application Software  \n",
       "1    Human Resource & Employment Services  \n",
       "2          Hotels, Resorts & Cruise Lines  \n",
       "3                    Health Care Supplies  \n",
       "4            Interactive Media & Services  \n",
       "..                                    ...  \n",
       "96                           Broadcasting  \n",
       "97                   Application Software  \n",
       "98                        Multi-Utilities  \n",
       "99                   Application Software  \n",
       "100                  Application Software  \n",
       "\n",
       "[101 rows x 4 columns]"
      ]
     },
     "execution_count": 22,
     "metadata": {},
     "output_type": "execute_result"
    }
   ],
   "source": [
    "nasdaq"
   ]
  },
  {
   "cell_type": "code",
   "execution_count": 23,
   "id": "b4678f0c-b32c-405c-9867-668820e8e3b3",
   "metadata": {},
   "outputs": [],
   "source": [
    "nasdaq_ticker = nasdaq.Ticker.to_list()"
   ]
  },
  {
   "cell_type": "code",
   "execution_count": 25,
   "id": "ae287352-11b3-4ba5-8251-47dd536be418",
   "metadata": {},
   "outputs": [
    {
     "data": {
      "text/plain": [
       "['ADBE', 'ADP', 'ABNB', 'ALGN', 'GOOGL', 'GOOG', 'AMZN', 'AMD', 'AEP', 'AMGN']"
      ]
     },
     "execution_count": 25,
     "metadata": {},
     "output_type": "execute_result"
    }
   ],
   "source": [
    "nasdaq_ticker[:10]"
   ]
  },
  {
   "cell_type": "code",
   "execution_count": 26,
   "id": "0eef0c49-a6b0-4bdc-b55a-ae4159b58ac5",
   "metadata": {},
   "outputs": [],
   "source": [
    "stock_dir_path = \"/home/james/src/datasets/NASDAQ_Yahoo_Finance/stocks\""
   ]
  },
  {
   "cell_type": "code",
   "execution_count": 27,
   "id": "52b4e679-b3fd-40b3-936c-76262ab16150",
   "metadata": {},
   "outputs": [],
   "source": [
    "symbol_name = \"GOOG\""
   ]
  },
  {
   "cell_type": "code",
   "execution_count": 30,
   "id": "b0664524-9569-4132-94c4-a854230abf8a",
   "metadata": {},
   "outputs": [],
   "source": [
    "google_stock_data_pd = pd.read_csv(os.path.join(stock_dir_path, f\"{symbol_name}.csv\"))"
   ]
  },
  {
   "cell_type": "code",
   "execution_count": 31,
   "id": "ffedf381-b6d5-4dc4-a28f-ad22cd60c3f2",
   "metadata": {},
   "outputs": [
    {
     "data": {
      "text/html": [
       "<div>\n",
       "<style scoped>\n",
       "    .dataframe tbody tr th:only-of-type {\n",
       "        vertical-align: middle;\n",
       "    }\n",
       "\n",
       "    .dataframe tbody tr th {\n",
       "        vertical-align: top;\n",
       "    }\n",
       "\n",
       "    .dataframe thead th {\n",
       "        text-align: right;\n",
       "    }\n",
       "</style>\n",
       "<table border=\"1\" class=\"dataframe\">\n",
       "  <thead>\n",
       "    <tr style=\"text-align: right;\">\n",
       "      <th></th>\n",
       "      <th>Date</th>\n",
       "      <th>Open</th>\n",
       "      <th>High</th>\n",
       "      <th>Low</th>\n",
       "      <th>Close</th>\n",
       "      <th>Adj Close</th>\n",
       "      <th>Volume</th>\n",
       "    </tr>\n",
       "  </thead>\n",
       "  <tbody>\n",
       "    <tr>\n",
       "      <th>0</th>\n",
       "      <td>2004-08-19</td>\n",
       "      <td>49.813286</td>\n",
       "      <td>51.835709</td>\n",
       "      <td>47.800831</td>\n",
       "      <td>49.982655</td>\n",
       "      <td>49.982655</td>\n",
       "      <td>44871300</td>\n",
       "    </tr>\n",
       "    <tr>\n",
       "      <th>1</th>\n",
       "      <td>2004-08-20</td>\n",
       "      <td>50.316402</td>\n",
       "      <td>54.336334</td>\n",
       "      <td>50.062355</td>\n",
       "      <td>53.952770</td>\n",
       "      <td>53.952770</td>\n",
       "      <td>22942800</td>\n",
       "    </tr>\n",
       "    <tr>\n",
       "      <th>2</th>\n",
       "      <td>2004-08-23</td>\n",
       "      <td>55.168217</td>\n",
       "      <td>56.528118</td>\n",
       "      <td>54.321388</td>\n",
       "      <td>54.495735</td>\n",
       "      <td>54.495735</td>\n",
       "      <td>18342800</td>\n",
       "    </tr>\n",
       "    <tr>\n",
       "      <th>3</th>\n",
       "      <td>2004-08-24</td>\n",
       "      <td>55.412300</td>\n",
       "      <td>55.591629</td>\n",
       "      <td>51.591621</td>\n",
       "      <td>52.239193</td>\n",
       "      <td>52.239193</td>\n",
       "      <td>15319700</td>\n",
       "    </tr>\n",
       "    <tr>\n",
       "      <th>4</th>\n",
       "      <td>2004-08-25</td>\n",
       "      <td>52.284027</td>\n",
       "      <td>53.798351</td>\n",
       "      <td>51.746044</td>\n",
       "      <td>52.802086</td>\n",
       "      <td>52.802086</td>\n",
       "      <td>9232100</td>\n",
       "    </tr>\n",
       "  </tbody>\n",
       "</table>\n",
       "</div>"
      ],
      "text/plain": [
       "         Date       Open       High        Low      Close  Adj Close    Volume\n",
       "0  2004-08-19  49.813286  51.835709  47.800831  49.982655  49.982655  44871300\n",
       "1  2004-08-20  50.316402  54.336334  50.062355  53.952770  53.952770  22942800\n",
       "2  2004-08-23  55.168217  56.528118  54.321388  54.495735  54.495735  18342800\n",
       "3  2004-08-24  55.412300  55.591629  51.591621  52.239193  52.239193  15319700\n",
       "4  2004-08-25  52.284027  53.798351  51.746044  52.802086  52.802086   9232100"
      ]
     },
     "execution_count": 31,
     "metadata": {},
     "output_type": "execute_result"
    }
   ],
   "source": [
    "google_stock_data_pd.head()"
   ]
  },
  {
   "cell_type": "code",
   "execution_count": 42,
   "id": "5ebd1813-49fe-4fba-ac59-afa537a309fd",
   "metadata": {},
   "outputs": [
    {
     "ename": "TypeError",
     "evalue": "__init__() got multiple values for argument 'schema'",
     "output_type": "error",
     "traceback": [
      "\u001b[0;31m---------------------------------------------------------------------------\u001b[0m",
      "\u001b[0;31mTypeError\u001b[0m                                 Traceback (most recent call last)",
      "Cell \u001b[0;32mIn[42], line 1\u001b[0m\n\u001b[0;32m----> 1\u001b[0m \u001b[43mgoogle_stock_data_pd\u001b[49m\u001b[38;5;241;43m.\u001b[39;49m\u001b[43mto_sql\u001b[49m\u001b[43m(\u001b[49m\u001b[43msymbol_name\u001b[49m\u001b[43m,\u001b[49m\u001b[43m \u001b[49m\u001b[43msql_engine\u001b[49m\u001b[43m)\u001b[49m\n",
      "File \u001b[0;32m~/miniconda3/envs/stroke_ai_torch/lib/python3.9/site-packages/pandas/core/generic.py:2872\u001b[0m, in \u001b[0;36mNDFrame.to_sql\u001b[0;34m(self, name, con, schema, if_exists, index, index_label, chunksize, dtype, method)\u001b[0m\n\u001b[1;32m   2734\u001b[0m \u001b[38;5;250m\u001b[39m\u001b[38;5;124;03m\"\"\"\u001b[39;00m\n\u001b[1;32m   2735\u001b[0m \u001b[38;5;124;03mWrite records stored in a DataFrame to a SQL database.\u001b[39;00m\n\u001b[1;32m   2736\u001b[0m \n\u001b[0;32m   (...)\u001b[0m\n\u001b[1;32m   2868\u001b[0m \u001b[38;5;124;03m[(1,), (None,), (2,)]\u001b[39;00m\n\u001b[1;32m   2869\u001b[0m \u001b[38;5;124;03m\"\"\"\u001b[39;00m\n\u001b[1;32m   2870\u001b[0m \u001b[38;5;28;01mfrom\u001b[39;00m \u001b[38;5;21;01mpandas\u001b[39;00m\u001b[38;5;21;01m.\u001b[39;00m\u001b[38;5;21;01mio\u001b[39;00m \u001b[38;5;28;01mimport\u001b[39;00m sql\n\u001b[0;32m-> 2872\u001b[0m \u001b[43msql\u001b[49m\u001b[38;5;241;43m.\u001b[39;49m\u001b[43mto_sql\u001b[49m\u001b[43m(\u001b[49m\n\u001b[1;32m   2873\u001b[0m \u001b[43m    \u001b[49m\u001b[38;5;28;43mself\u001b[39;49m\u001b[43m,\u001b[49m\n\u001b[1;32m   2874\u001b[0m \u001b[43m    \u001b[49m\u001b[43mname\u001b[49m\u001b[43m,\u001b[49m\n\u001b[1;32m   2875\u001b[0m \u001b[43m    \u001b[49m\u001b[43mcon\u001b[49m\u001b[43m,\u001b[49m\n\u001b[1;32m   2876\u001b[0m \u001b[43m    \u001b[49m\u001b[43mschema\u001b[49m\u001b[38;5;241;43m=\u001b[39;49m\u001b[43mschema\u001b[49m\u001b[43m,\u001b[49m\n\u001b[1;32m   2877\u001b[0m \u001b[43m    \u001b[49m\u001b[43mif_exists\u001b[49m\u001b[38;5;241;43m=\u001b[39;49m\u001b[43mif_exists\u001b[49m\u001b[43m,\u001b[49m\n\u001b[1;32m   2878\u001b[0m \u001b[43m    \u001b[49m\u001b[43mindex\u001b[49m\u001b[38;5;241;43m=\u001b[39;49m\u001b[43mindex\u001b[49m\u001b[43m,\u001b[49m\n\u001b[1;32m   2879\u001b[0m \u001b[43m    \u001b[49m\u001b[43mindex_label\u001b[49m\u001b[38;5;241;43m=\u001b[39;49m\u001b[43mindex_label\u001b[49m\u001b[43m,\u001b[49m\n\u001b[1;32m   2880\u001b[0m \u001b[43m    \u001b[49m\u001b[43mchunksize\u001b[49m\u001b[38;5;241;43m=\u001b[39;49m\u001b[43mchunksize\u001b[49m\u001b[43m,\u001b[49m\n\u001b[1;32m   2881\u001b[0m \u001b[43m    \u001b[49m\u001b[43mdtype\u001b[49m\u001b[38;5;241;43m=\u001b[39;49m\u001b[43mdtype\u001b[49m\u001b[43m,\u001b[49m\n\u001b[1;32m   2882\u001b[0m \u001b[43m    \u001b[49m\u001b[43mmethod\u001b[49m\u001b[38;5;241;43m=\u001b[39;49m\u001b[43mmethod\u001b[49m\u001b[43m,\u001b[49m\n\u001b[1;32m   2883\u001b[0m \u001b[43m\u001b[49m\u001b[43m)\u001b[49m\n",
      "File \u001b[0;32m~/miniconda3/envs/stroke_ai_torch/lib/python3.9/site-packages/pandas/io/sql.py:708\u001b[0m, in \u001b[0;36mto_sql\u001b[0;34m(frame, name, con, schema, if_exists, index, index_label, chunksize, dtype, method, engine, **engine_kwargs)\u001b[0m\n\u001b[1;32m    705\u001b[0m \u001b[38;5;28;01mif\u001b[39;00m if_exists \u001b[38;5;129;01mnot\u001b[39;00m \u001b[38;5;129;01min\u001b[39;00m (\u001b[38;5;124m\"\u001b[39m\u001b[38;5;124mfail\u001b[39m\u001b[38;5;124m\"\u001b[39m, \u001b[38;5;124m\"\u001b[39m\u001b[38;5;124mreplace\u001b[39m\u001b[38;5;124m\"\u001b[39m, \u001b[38;5;124m\"\u001b[39m\u001b[38;5;124mappend\u001b[39m\u001b[38;5;124m\"\u001b[39m):\n\u001b[1;32m    706\u001b[0m     \u001b[38;5;28;01mraise\u001b[39;00m \u001b[38;5;167;01mValueError\u001b[39;00m(\u001b[38;5;124mf\u001b[39m\u001b[38;5;124m\"\u001b[39m\u001b[38;5;124m'\u001b[39m\u001b[38;5;132;01m{\u001b[39;00mif_exists\u001b[38;5;132;01m}\u001b[39;00m\u001b[38;5;124m'\u001b[39m\u001b[38;5;124m is not valid for if_exists\u001b[39m\u001b[38;5;124m\"\u001b[39m)\n\u001b[0;32m--> 708\u001b[0m pandas_sql \u001b[38;5;241m=\u001b[39m \u001b[43mpandasSQL_builder\u001b[49m\u001b[43m(\u001b[49m\u001b[43mcon\u001b[49m\u001b[43m,\u001b[49m\u001b[43m \u001b[49m\u001b[43mschema\u001b[49m\u001b[38;5;241;43m=\u001b[39;49m\u001b[43mschema\u001b[49m\u001b[43m)\u001b[49m\n\u001b[1;32m    710\u001b[0m \u001b[38;5;28;01mif\u001b[39;00m \u001b[38;5;28misinstance\u001b[39m(frame, Series):\n\u001b[1;32m    711\u001b[0m     frame \u001b[38;5;241m=\u001b[39m frame\u001b[38;5;241m.\u001b[39mto_frame()\n",
      "File \u001b[0;32m~/miniconda3/envs/stroke_ai_torch/lib/python3.9/site-packages/pandas/io/sql.py:788\u001b[0m, in \u001b[0;36mpandasSQL_builder\u001b[0;34m(con, schema, meta, is_cursor)\u001b[0m\n\u001b[1;32m    786\u001b[0m con \u001b[38;5;241m=\u001b[39m _engine_builder(con)\n\u001b[1;32m    787\u001b[0m \u001b[38;5;28;01mif\u001b[39;00m _is_sqlalchemy_connectable(con):\n\u001b[0;32m--> 788\u001b[0m     \u001b[38;5;28;01mreturn\u001b[39;00m \u001b[43mSQLDatabase\u001b[49m\u001b[43m(\u001b[49m\u001b[43mcon\u001b[49m\u001b[43m,\u001b[49m\u001b[43m \u001b[49m\u001b[43mschema\u001b[49m\u001b[38;5;241;43m=\u001b[39;49m\u001b[43mschema\u001b[49m\u001b[43m,\u001b[49m\u001b[43m \u001b[49m\u001b[43mmeta\u001b[49m\u001b[38;5;241;43m=\u001b[39;49m\u001b[43mmeta\u001b[49m\u001b[43m)\u001b[49m\n\u001b[1;32m    789\u001b[0m \u001b[38;5;28;01melif\u001b[39;00m \u001b[38;5;28misinstance\u001b[39m(con, \u001b[38;5;28mstr\u001b[39m):\n\u001b[1;32m    790\u001b[0m     \u001b[38;5;28;01mraise\u001b[39;00m \u001b[38;5;167;01mImportError\u001b[39;00m(\u001b[38;5;124m\"\u001b[39m\u001b[38;5;124mUsing URI string without sqlalchemy installed.\u001b[39m\u001b[38;5;124m\"\u001b[39m)\n",
      "File \u001b[0;32m~/miniconda3/envs/stroke_ai_torch/lib/python3.9/site-packages/pandas/io/sql.py:1410\u001b[0m, in \u001b[0;36mSQLDatabase.__init__\u001b[0;34m(self, engine, schema, meta)\u001b[0m\n\u001b[1;32m   1407\u001b[0m \u001b[38;5;28;01mif\u001b[39;00m \u001b[38;5;129;01mnot\u001b[39;00m meta:\n\u001b[1;32m   1408\u001b[0m     \u001b[38;5;28;01mfrom\u001b[39;00m \u001b[38;5;21;01msqlalchemy\u001b[39;00m\u001b[38;5;21;01m.\u001b[39;00m\u001b[38;5;21;01mschema\u001b[39;00m \u001b[38;5;28;01mimport\u001b[39;00m MetaData\n\u001b[0;32m-> 1410\u001b[0m     meta \u001b[38;5;241m=\u001b[39m \u001b[43mMetaData\u001b[49m\u001b[43m(\u001b[49m\u001b[38;5;28;43mself\u001b[39;49m\u001b[38;5;241;43m.\u001b[39;49m\u001b[43mconnectable\u001b[49m\u001b[43m,\u001b[49m\u001b[43m \u001b[49m\u001b[43mschema\u001b[49m\u001b[38;5;241;43m=\u001b[39;49m\u001b[43mschema\u001b[49m\u001b[43m)\u001b[49m\n\u001b[1;32m   1412\u001b[0m \u001b[38;5;28mself\u001b[39m\u001b[38;5;241m.\u001b[39mmeta \u001b[38;5;241m=\u001b[39m meta\n",
      "\u001b[0;31mTypeError\u001b[0m: __init__() got multiple values for argument 'schema'"
     ]
    }
   ],
   "source": [
    "google_stock_data_pd.to_sql(symbol_name, sql_engine)"
   ]
  },
  {
   "cell_type": "code",
   "execution_count": null,
   "id": "0643b16d-7def-42ae-9582-c7415ab235ca",
   "metadata": {},
   "outputs": [],
   "source": []
  }
 ],
 "metadata": {
  "kernelspec": {
   "display_name": "Python 3 (ipykernel)",
   "language": "python",
   "name": "python3"
  },
  "language_info": {
   "codemirror_mode": {
    "name": "ipython",
    "version": 3
   },
   "file_extension": ".py",
   "mimetype": "text/x-python",
   "name": "python",
   "nbconvert_exporter": "python",
   "pygments_lexer": "ipython3",
   "version": "3.9.17"
  }
 },
 "nbformat": 4,
 "nbformat_minor": 5
}
