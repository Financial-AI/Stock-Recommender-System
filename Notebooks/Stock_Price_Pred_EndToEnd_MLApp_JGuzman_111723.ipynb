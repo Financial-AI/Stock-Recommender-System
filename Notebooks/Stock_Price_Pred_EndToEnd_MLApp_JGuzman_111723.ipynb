{
 "cells": [
  {
   "cell_type": "markdown",
   "id": "7d69c269-ca4a-4ca2-bda8-1c29451ef5ff",
   "metadata": {},
   "source": [
    "# Stock Price Prediction End To End ML App\n",
    "\n",
    "Based on \"Machine Learning Project in Python to Predict Stock Price ML End to End Application\"\n",
    "\n",
    "- PyTorch (Not TF)\n",
    "- yfinance (for now just use NASDAQ directly)\n",
    "- matplotlib\n",
    "- numpy\n",
    "- pandas\n",
    "- streamlit (?)\n",
    "\n",
    "**Contributor**: James Guzman\n",
    "\n",
    "**Teammates**: Josef, Anshul\n",
    "\n",
    "**Project Advisor**: Dr. Magdalini Eirinaki\n",
    "\n",
    "**SJSU CMPE 256**: Advanced Data Mining\n",
    "\n",
    "**Date**: Nov 17, 2023"
   ]
  },
  {
   "cell_type": "code",
   "execution_count": 1,
   "id": "1d2fb862-b207-4eaa-aa1c-108f19773818",
   "metadata": {},
   "outputs": [],
   "source": [
    "import os\n",
    "import torch\n",
    "import torch.nn as nn\n",
    "import torch.optim as optim\n",
    "from torch.utils.data import DataLoader\n",
    "from tqdm.notebook import tqdm\n",
    "# import yfinance as yf\n",
    "import matplotlib.pyplot as plt\n",
    "import numpy as np\n",
    "import pandas as pd\n",
    "from sklearn.preprocessing import MinMaxScaler\n",
    "# import streamlit\n",
    "    # streamlit they use to deploy as a web app, for now I will use Wave or PySide6"
   ]
  },
  {
   "cell_type": "code",
   "execution_count": 100,
   "id": "08c80100-497a-471c-b94c-8d677645d418",
   "metadata": {},
   "outputs": [
    {
     "name": "stdout",
     "output_type": "stream",
     "text": [
      "Running on GPU NVIDIA GeForce RTX 3050 Ti Laptop GPU\n"
     ]
    }
   ],
   "source": [
    "LEARNING_RATE = 1e-2\n",
    "BATCH_SIZE = 4\n",
    "TEST_BATCH_SIZE = 1\n",
    "NUM_EPOCHS = 5\n",
    "DEBUG = False\n",
    "\n",
    "dataset_name = \"stock_closing_price\"\n",
    "\n",
    "device = torch.device(\"cuda\")\n",
    "print(f\"Running on GPU {torch.cuda.get_device_name(device)}\")"
   ]
  },
  {
   "cell_type": "code",
   "execution_count": 3,
   "id": "9a64d5f3-714d-44f3-a05f-357bbb187c37",
   "metadata": {},
   "outputs": [],
   "source": [
    "train_mse_loss_avg_values = []\n",
    "train_rmse_loss_avg_values = []\n",
    "\n",
    "valid_mse_loss_avg_values = []\n",
    "valid_rmse_loss_avg_values = []"
   ]
  },
  {
   "cell_type": "markdown",
   "id": "8224728b-8190-45d6-a8a1-70b76e939ea6",
   "metadata": {},
   "source": [
    "## Helper Classes & Functions"
   ]
  },
  {
   "cell_type": "code",
   "execution_count": 4,
   "id": "fe2279c3-fac4-44b9-8377-d0592f152dd4",
   "metadata": {},
   "outputs": [],
   "source": [
    "def mkdir_prep_dir(dirpath):\n",
    "    \"\"\"make preprocess directory if doesn't exist\"\"\"\n",
    "    prep_dir = dirpath\n",
    "    if not os.path.exists(prep_dir):\n",
    "        os.makedirs(prep_dir)\n",
    "    return prep_dir\n",
    "\n",
    "def save_checkpoint(state, filename=\"best_lstm.pth.tar\"):\n",
    "    print(\"=> Saving Checkpoint\")\n",
    "    torch.save(state, filename)\n",
    "\n",
    "def rmse(y_true, y_pred):\n",
    "    return torch.sqrt(torch.mean((y_true - y_pred) ** 2))\n"
   ]
  },
  {
   "cell_type": "code",
   "execution_count": 5,
   "id": "4b8063b7-3813-4775-b856-c21fa3dfc972",
   "metadata": {},
   "outputs": [],
   "source": [
    "# Ideally, I am thinking of parts of the preprocessing pipeline code, I can refactor toward nifi later\n",
    "# Need a better telemetry dashboard to interact with NiFi: Unity, H2O Wave, PySide6 QT\n",
    "class DataPrepPipeline:\n",
    "    def __init__(self):\n",
    "        pass\n",
    "\n",
    "    # NOTE (JG): my save predictions method later should be based on how we address 100 days here\n",
    "    def split_features_labels(self, stock_features_labels_data, num_days=100):\n",
    "        # num_days = 100 by default\n",
    "        x_features_2d_list = [] # features: ex 100 days of final closing prices\n",
    "        y_labels_list = [] # labels: ex 100th day of final closing price gt to be pred\n",
    "\n",
    "        count = 0\n",
    "        for i in range(num_days, stock_features_labels_data.shape[0]):\n",
    "            # x_features_list is a 2D list where each element of 100 elements are 1D array with single element\n",
    "            if DEBUG and count == 0:\n",
    "                print(f\"stock_features_labels_data[i-num_days:i] = {stock_features_labels_data[i-num_days:i]}\")\n",
    "\n",
    "            x_features_per_num_days = []\n",
    "            for j in range(len(stock_features_labels_data[i-num_days:i])):\n",
    "                if DEBUG and count == 0:\n",
    "                    print(f\"j = {j}\")\n",
    "                    print(f\"stock_features_labels_data[j][0] = {stock_features_labels_data[j][0]}\") # only one item per list within list\n",
    "                x_features_per_num_days.append(stock_features_labels_data[j][0])\n",
    "            x_features_2d_list.append(x_features_per_num_days)\n",
    "            if DEBUG and count == 0:\n",
    "                print(f\"x_features_2d_list = {x_features_2d_list}\")\n",
    "                print(f\"stock_features_labels_data[i,0] = {stock_features_labels_data[i,0]}\")\n",
    "            y_labels_list.append(stock_features_labels_data[i,0])\n",
    "            count += 1\n",
    "\n",
    "        return x_features_2d_list, y_labels_list"
   ]
  },
  {
   "cell_type": "code",
   "execution_count": 6,
   "id": "bdbff328-bc26-4de5-81a1-88c2e4aa8fc3",
   "metadata": {},
   "outputs": [],
   "source": [
    "class PyTorchPipeline:\n",
    "    def __init__(self):\n",
    "        pass\n",
    "\n",
    "    def train_model(self, train_loader, lstm_model, optimizer, loss_criterion):\n",
    "        train_loop = tqdm(train_loader)\n",
    "\n",
    "        train_mse_loss_values = []\n",
    "        train_rmse_loss_values = []\n",
    "\n",
    "        # closing_price_2d_tensor\n",
    "        for batch_idx, (closing_price_2d_tensor, final_closing_price_tensor) in enumerate(train_loop):\n",
    "            final_closing_price_tensor_gt = final_closing_price_tensor.unsqueeze(1)\n",
    "\n",
    "            optimizer.zero_grad()\n",
    "            pred_final_closing_price = lstm_model(closing_price_2d_tensor)\n",
    "            mse_loss = loss_criterion(pred_final_closing_price, final_closing_price_tensor_gt)\n",
    "            rmse_loss = rmse(pred_final_closing_price, final_closing_price_tensor_gt)\n",
    "\n",
    "            mse_loss.backward()\n",
    "            optimizer.step()\n",
    "\n",
    "            train_mse_loss_values.append(mse_loss.item())\n",
    "            train_rmse_loss_values.append(rmse_loss.item())\n",
    "\n",
    "            train_loop.set_postfix(train_mse_loss=mse_loss.item(), train_rmse_loss=rmse_loss.item())\n",
    "\n",
    "        train_mse_loss_avg_values.append( sum(train_mse_loss_values)/len(train_loader) )\n",
    "        train_rmse_loss_avg_values.append( sum(train_rmse_loss_values)/len(train_loader) )\n",
    "\n",
    "    def validate_model(self, val_loader, lstm_model, loss_criterion):\n",
    "        val_loop = tqdm(val_loader)\n",
    "\n",
    "        val_mse_loss_values = []\n",
    "        val_rmse_loss_values = []\n",
    "\n",
    "        for batch_idx, (closing_price_2d_tensor, final_closing_price_tensor) in enumerate(val_loop):\n",
    "            final_closing_price_tensor_gt = final_closing_price_tensor.unsqueeze(1)\n",
    "\n",
    "            pred_final_closing_price = lstm_model(closing_price_2d_tensor)\n",
    "            mse_loss = loss_criterion(pred_final_closing_price, final_closing_price_tensor_gt)\n",
    "            rmse_loss = rmse(pred_final_closing_price, final_closing_price_tensor_gt)\n",
    "\n",
    "\n",
    "            val_mse_loss_values.append(mse_loss.item())\n",
    "            val_rmse_loss_values.append(rmse_loss.item())\n",
    "\n",
    "            val_loop.set_postfix(val_mse_loss=mse_loss.item(), val_rmse_loss=rmse_loss.item())\n",
    "\n",
    "        valid_mse_loss_avg_values.append( sum(val_mse_loss_values)/len(val_loader) )\n",
    "        valid_rmse_loss_avg_values.append( sum(val_rmse_loss_values)/len(val_loader) )\n",
    "\n",
    "    def train_over_epochs(self, train_loader, test_loader, lstm_model, optimizer, loss_criterion, dst_folder=\"lstm_model\"):\n",
    "        step = 100\n",
    "        for epoch in range(NUM_EPOCHS):\n",
    "            self.train_model(train_loader, lstm_model, optimizer, loss_criterion)\n",
    "\n",
    "            checkpoint = {\n",
    "                \"state_dict\": lstm_model.state_dict(),\n",
    "                \"optimizer\": optimizer.state_dict(),\n",
    "            }\n",
    "\n",
    "            mkdir_prep_dir(f\"{dataset_name}/{dst_folder}\")\n",
    "            filename = f\"{dataset_name}/{dst_folder}/lstm_model_{step}.pth.tar\"\n",
    "            save_checkpoint(checkpoint, filename=filename)\n",
    "\n",
    "            self.validate_model(test_loader, lstm_model, loss_criterion)\n",
    "\n",
    "            step += 100\n",
    "\n",
    "    def deploy_model(self, test_loader, lstm_model):\n",
    "        test_loop = tqdm(test_loader)\n",
    "        final_closing_price_predictions = []\n",
    "        final_closing_price_gts = []\n",
    "        count = 0\n",
    "\n",
    "        for batch_idx, (closing_price_2d_tensor, final_closing_price_tensor) in enumerate(test_loop):\n",
    "            final_closing_price_pred = lstm_model(closing_price_2d_tensor)\n",
    "            # if DEBUG and count == 0:\n",
    "            print(f\"final_closing_price_pred = {final_closing_price_pred}\")\n",
    "            final_closing_price_predictions.append(final_closing_price_pred.item())\n",
    "            final_closing_price_gts.append(final_closing_price_tensor.item())\n",
    "            count += 1\n",
    "        return final_closing_price_gts, final_closing_price_predictions"
   ]
  },
  {
   "cell_type": "code",
   "execution_count": 7,
   "id": "3f653d58-7e80-4d7a-8dd4-008a2c277c89",
   "metadata": {},
   "outputs": [],
   "source": [
    "class PyTorchUtility:\n",
    "    def __init__(self):\n",
    "        pass\n",
    "\n",
    "    # TODO (JG): Add arguments for naming the two labels\n",
    "    def plot_loss_curves(self, train_loss_values, test_loss_values, plot_title, plot_filename):\n",
    "        f, ax = plt.subplots()\n",
    "        ax.set_title(plot_title)\n",
    "        ax.plot(train_loss_values, color=\"blue\", label=\"Train RMSE\")\n",
    "        ax.plot(test_loss_values, color=\"gold\", label=\"Valid RMSE\")\n",
    "        ax.grid(True)\n",
    "        ax.set_xlabel(\"Epochs\")\n",
    "        ax.set_ylabel(\"RMSE Loss\")\n",
    "        plt.legend()\n",
    "        plt.savefig(plot_filename)\n",
    "        plt.show()\n",
    "\n",
    "    \n",
    "    def plot_gt_pred_curves(self, final_closing_price_gts, final_closing_price_predictions, plot_title, plot_filename):\n",
    "        f, ax = plt.subplots()\n",
    "        ax.set_title(plot_title)\n",
    "        ax.plot(final_closing_price_predictions, color=\"blue\", label=\"Pred Price\")\n",
    "        ax.plot(final_closing_price_gts, color=\"gold\", label=\"GT Price\")\n",
    "        ax.grid(True)\n",
    "        ax.set_xlabel(\"Time\")\n",
    "        ax.set_ylabel(\"Price\")\n",
    "        plt.legend()\n",
    "        plt.savefig(plot_filename)\n",
    "        plt.show()\n",
    "\n",
    "\n",
    "    # TODO (JG): Need to check num_days preds for closing price. Is it suppose to be over\n",
    "    def save_lstm_predictions(self, stock_test_date_df, final_closing_price_predictions, scale, num_days, dst_folder=\"lstm_model\", filename=\"pytorch_final_closing_price_preds.csv\"):\n",
    "        # test_close_price_df, google_stock_train_date\n",
    "        stock_date_list = []\n",
    "        # y_train_list = []\n",
    "\n",
    "        count = 0\n",
    "        for i in range(num_days, stock_test_date_df.shape[0]):\n",
    "            # if DEBUG and count == 0:\n",
    "            #     print(f\"stock_test_date_df[0] = {stock_test_date_df[0]}\")\n",
    "            #     print(f\"stock_test_date_df[i,0] = {stock_test_date_df[i,0]}\")\n",
    "                \n",
    "            stock_pred_date_id = stock_test_date_df.Date.iloc[i]\n",
    "            if DEBUG and count == 0:\n",
    "                print(f\"stock_pred_date_id = {stock_pred_date_id}\")\n",
    "            stock_date_list.append(stock_pred_date_id)\n",
    "            count += 1\n",
    "\n",
    "        mkdir_prep_dir(f\"{dataset_name}/{dst_folder}\")\n",
    "        dst_filepath = f\"{dataset_name}/{dst_folder}/{filename}\"\n",
    "\n",
    "        # final_closing_price_unscaled_preds = final_closing_price_predictions*scale\n",
    "        \n",
    "        # final close price pred for each 100th date after predicting on 100 days of final closing prices\n",
    "        stock_close_price_res_df = pd.DataFrame({f\"{num_days}th Date\": stock_date_list, \"Close\": final_closing_price_predictions})\n",
    "        stock_close_price_res_df.to_csv(dst_filepath, index=False)\n",
    "        return stock_close_price_res_df\n"
   ]
  },
  {
   "cell_type": "markdown",
   "id": "94b2f004-f9b4-44e9-b3cd-a2aa180e12d0",
   "metadata": {},
   "source": [
    "## Load NASDAQ Symbols Metadata"
   ]
  },
  {
   "cell_type": "code",
   "execution_count": 8,
   "id": "7ad30409-9c14-4cbf-86d0-9161b9a2e513",
   "metadata": {},
   "outputs": [],
   "source": [
    "# Load Stock Market Data\n",
    "nasdaq_meta_symbols_filepath = \"/home/james/src/datasets/NASDAQ_Yahoo_Finance/symbols_valid_meta.csv\""
   ]
  },
  {
   "cell_type": "code",
   "execution_count": 9,
   "id": "1fd04ffe-08dd-4311-bd03-9684eafb92d9",
   "metadata": {},
   "outputs": [],
   "source": [
    "nasdaq_symbols_meta_pd = pd.read_csv(nasdaq_meta_symbols_filepath)"
   ]
  },
  {
   "cell_type": "code",
   "execution_count": 10,
   "id": "0c08a337-19c7-479c-891e-01b4e7af5780",
   "metadata": {},
   "outputs": [
    {
     "data": {
      "text/html": [
       "<div>\n",
       "<style scoped>\n",
       "    .dataframe tbody tr th:only-of-type {\n",
       "        vertical-align: middle;\n",
       "    }\n",
       "\n",
       "    .dataframe tbody tr th {\n",
       "        vertical-align: top;\n",
       "    }\n",
       "\n",
       "    .dataframe thead th {\n",
       "        text-align: right;\n",
       "    }\n",
       "</style>\n",
       "<table border=\"1\" class=\"dataframe\">\n",
       "  <thead>\n",
       "    <tr style=\"text-align: right;\">\n",
       "      <th></th>\n",
       "      <th>Nasdaq Traded</th>\n",
       "      <th>Symbol</th>\n",
       "      <th>Security Name</th>\n",
       "      <th>Listing Exchange</th>\n",
       "      <th>Market Category</th>\n",
       "      <th>ETF</th>\n",
       "      <th>Round Lot Size</th>\n",
       "      <th>Test Issue</th>\n",
       "      <th>Financial Status</th>\n",
       "      <th>CQS Symbol</th>\n",
       "      <th>NASDAQ Symbol</th>\n",
       "      <th>NextShares</th>\n",
       "    </tr>\n",
       "  </thead>\n",
       "  <tbody>\n",
       "    <tr>\n",
       "      <th>0</th>\n",
       "      <td>Y</td>\n",
       "      <td>A</td>\n",
       "      <td>Agilent Technologies, Inc. Common Stock</td>\n",
       "      <td>N</td>\n",
       "      <td></td>\n",
       "      <td>N</td>\n",
       "      <td>100.0</td>\n",
       "      <td>N</td>\n",
       "      <td>NaN</td>\n",
       "      <td>A</td>\n",
       "      <td>A</td>\n",
       "      <td>N</td>\n",
       "    </tr>\n",
       "    <tr>\n",
       "      <th>1</th>\n",
       "      <td>Y</td>\n",
       "      <td>AA</td>\n",
       "      <td>Alcoa Corporation Common Stock</td>\n",
       "      <td>N</td>\n",
       "      <td></td>\n",
       "      <td>N</td>\n",
       "      <td>100.0</td>\n",
       "      <td>N</td>\n",
       "      <td>NaN</td>\n",
       "      <td>AA</td>\n",
       "      <td>AA</td>\n",
       "      <td>N</td>\n",
       "    </tr>\n",
       "    <tr>\n",
       "      <th>2</th>\n",
       "      <td>Y</td>\n",
       "      <td>AAAU</td>\n",
       "      <td>Perth Mint Physical Gold ETF</td>\n",
       "      <td>P</td>\n",
       "      <td></td>\n",
       "      <td>Y</td>\n",
       "      <td>100.0</td>\n",
       "      <td>N</td>\n",
       "      <td>NaN</td>\n",
       "      <td>AAAU</td>\n",
       "      <td>AAAU</td>\n",
       "      <td>N</td>\n",
       "    </tr>\n",
       "    <tr>\n",
       "      <th>3</th>\n",
       "      <td>Y</td>\n",
       "      <td>AACG</td>\n",
       "      <td>ATA Creativity Global - American Depositary Sh...</td>\n",
       "      <td>Q</td>\n",
       "      <td>G</td>\n",
       "      <td>N</td>\n",
       "      <td>100.0</td>\n",
       "      <td>N</td>\n",
       "      <td>N</td>\n",
       "      <td>NaN</td>\n",
       "      <td>AACG</td>\n",
       "      <td>N</td>\n",
       "    </tr>\n",
       "    <tr>\n",
       "      <th>4</th>\n",
       "      <td>Y</td>\n",
       "      <td>AADR</td>\n",
       "      <td>AdvisorShares Dorsey Wright ADR ETF</td>\n",
       "      <td>P</td>\n",
       "      <td></td>\n",
       "      <td>Y</td>\n",
       "      <td>100.0</td>\n",
       "      <td>N</td>\n",
       "      <td>NaN</td>\n",
       "      <td>AADR</td>\n",
       "      <td>AADR</td>\n",
       "      <td>N</td>\n",
       "    </tr>\n",
       "  </tbody>\n",
       "</table>\n",
       "</div>"
      ],
      "text/plain": [
       "  Nasdaq Traded Symbol                                      Security Name  \\\n",
       "0             Y      A            Agilent Technologies, Inc. Common Stock   \n",
       "1             Y     AA                    Alcoa Corporation Common Stock    \n",
       "2             Y   AAAU                       Perth Mint Physical Gold ETF   \n",
       "3             Y   AACG  ATA Creativity Global - American Depositary Sh...   \n",
       "4             Y   AADR                AdvisorShares Dorsey Wright ADR ETF   \n",
       "\n",
       "  Listing Exchange Market Category ETF  Round Lot Size Test Issue  \\\n",
       "0                N                   N           100.0          N   \n",
       "1                N                   N           100.0          N   \n",
       "2                P                   Y           100.0          N   \n",
       "3                Q               G   N           100.0          N   \n",
       "4                P                   Y           100.0          N   \n",
       "\n",
       "  Financial Status CQS Symbol NASDAQ Symbol NextShares  \n",
       "0              NaN          A             A          N  \n",
       "1              NaN         AA            AA          N  \n",
       "2              NaN       AAAU          AAAU          N  \n",
       "3                N        NaN          AACG          N  \n",
       "4              NaN       AADR          AADR          N  "
      ]
     },
     "execution_count": 10,
     "metadata": {},
     "output_type": "execute_result"
    }
   ],
   "source": [
    "nasdaq_symbols_meta_pd.head()"
   ]
  },
  {
   "cell_type": "code",
   "execution_count": 11,
   "id": "80107d2e-a8bb-4209-a7f4-3d2847b745b6",
   "metadata": {},
   "outputs": [
    {
     "name": "stdout",
     "output_type": "stream",
     "text": [
      "<class 'pandas.core.frame.DataFrame'>\n",
      "RangeIndex: 8049 entries, 0 to 8048\n",
      "Data columns (total 12 columns):\n",
      " #   Column            Non-Null Count  Dtype  \n",
      "---  ------            --------------  -----  \n",
      " 0   Nasdaq Traded     8049 non-null   object \n",
      " 1   Symbol            8049 non-null   object \n",
      " 2   Security Name     8049 non-null   object \n",
      " 3   Listing Exchange  8049 non-null   object \n",
      " 4   Market Category   8049 non-null   object \n",
      " 5   ETF               8049 non-null   object \n",
      " 6   Round Lot Size    8049 non-null   float64\n",
      " 7   Test Issue        8049 non-null   object \n",
      " 8   Financial Status  3383 non-null   object \n",
      " 9   CQS Symbol        4666 non-null   object \n",
      " 10  NASDAQ Symbol     8049 non-null   object \n",
      " 11  NextShares        8049 non-null   object \n",
      "dtypes: float64(1), object(11)\n",
      "memory usage: 754.7+ KB\n"
     ]
    }
   ],
   "source": [
    "nasdaq_symbols_meta_pd.info()"
   ]
  },
  {
   "cell_type": "markdown",
   "id": "86a8c34b-0eb8-4694-b2d4-12283ce9c0f2",
   "metadata": {},
   "source": [
    "## Load NASDAQ Stock Data If Company Is In Metadata"
   ]
  },
  {
   "cell_type": "code",
   "execution_count": 12,
   "id": "19eda8ca-9595-42e0-a797-df49ef2fbadb",
   "metadata": {},
   "outputs": [],
   "source": [
    "stock_dir_path = \"/home/james/src/datasets/NASDAQ_Yahoo_Finance/stocks\""
   ]
  },
  {
   "cell_type": "code",
   "execution_count": 13,
   "id": "4738f384-f740-42b9-ad97-4a02d3c55f77",
   "metadata": {},
   "outputs": [],
   "source": [
    "symbol_name = \"GOOG\""
   ]
  },
  {
   "cell_type": "code",
   "execution_count": 14,
   "id": "df25d7ca-c498-4e6e-9386-65e25bddca67",
   "metadata": {},
   "outputs": [
    {
     "name": "stdout",
     "output_type": "stream",
     "text": [
      "GOOG is in NASDAQ Yahoo Finance Metadata, loading GOOG stock pd\n"
     ]
    }
   ],
   "source": [
    "if symbol_name in nasdaq_symbols_meta_pd[\"Symbol\"].tolist():\n",
    "    print(f\"{symbol_name} is in NASDAQ Yahoo Finance Metadata, loading GOOG stock pd\")\n",
    "    google_stock_data_pd = pd.read_csv(os.path.join(stock_dir_path, f\"{symbol_name}.csv\"))"
   ]
  },
  {
   "cell_type": "code",
   "execution_count": 15,
   "id": "487265b2-44fe-4080-b997-e9010c343f26",
   "metadata": {},
   "outputs": [
    {
     "data": {
      "text/html": [
       "<div>\n",
       "<style scoped>\n",
       "    .dataframe tbody tr th:only-of-type {\n",
       "        vertical-align: middle;\n",
       "    }\n",
       "\n",
       "    .dataframe tbody tr th {\n",
       "        vertical-align: top;\n",
       "    }\n",
       "\n",
       "    .dataframe thead th {\n",
       "        text-align: right;\n",
       "    }\n",
       "</style>\n",
       "<table border=\"1\" class=\"dataframe\">\n",
       "  <thead>\n",
       "    <tr style=\"text-align: right;\">\n",
       "      <th></th>\n",
       "      <th>Date</th>\n",
       "      <th>Open</th>\n",
       "      <th>High</th>\n",
       "      <th>Low</th>\n",
       "      <th>Close</th>\n",
       "      <th>Adj Close</th>\n",
       "      <th>Volume</th>\n",
       "    </tr>\n",
       "  </thead>\n",
       "  <tbody>\n",
       "    <tr>\n",
       "      <th>0</th>\n",
       "      <td>2004-08-19</td>\n",
       "      <td>49.813286</td>\n",
       "      <td>51.835709</td>\n",
       "      <td>47.800831</td>\n",
       "      <td>49.982655</td>\n",
       "      <td>49.982655</td>\n",
       "      <td>44871300</td>\n",
       "    </tr>\n",
       "    <tr>\n",
       "      <th>1</th>\n",
       "      <td>2004-08-20</td>\n",
       "      <td>50.316402</td>\n",
       "      <td>54.336334</td>\n",
       "      <td>50.062355</td>\n",
       "      <td>53.952770</td>\n",
       "      <td>53.952770</td>\n",
       "      <td>22942800</td>\n",
       "    </tr>\n",
       "    <tr>\n",
       "      <th>2</th>\n",
       "      <td>2004-08-23</td>\n",
       "      <td>55.168217</td>\n",
       "      <td>56.528118</td>\n",
       "      <td>54.321388</td>\n",
       "      <td>54.495735</td>\n",
       "      <td>54.495735</td>\n",
       "      <td>18342800</td>\n",
       "    </tr>\n",
       "    <tr>\n",
       "      <th>3</th>\n",
       "      <td>2004-08-24</td>\n",
       "      <td>55.412300</td>\n",
       "      <td>55.591629</td>\n",
       "      <td>51.591621</td>\n",
       "      <td>52.239193</td>\n",
       "      <td>52.239193</td>\n",
       "      <td>15319700</td>\n",
       "    </tr>\n",
       "    <tr>\n",
       "      <th>4</th>\n",
       "      <td>2004-08-25</td>\n",
       "      <td>52.284027</td>\n",
       "      <td>53.798351</td>\n",
       "      <td>51.746044</td>\n",
       "      <td>52.802086</td>\n",
       "      <td>52.802086</td>\n",
       "      <td>9232100</td>\n",
       "    </tr>\n",
       "  </tbody>\n",
       "</table>\n",
       "</div>"
      ],
      "text/plain": [
       "         Date       Open       High        Low      Close  Adj Close    Volume\n",
       "0  2004-08-19  49.813286  51.835709  47.800831  49.982655  49.982655  44871300\n",
       "1  2004-08-20  50.316402  54.336334  50.062355  53.952770  53.952770  22942800\n",
       "2  2004-08-23  55.168217  56.528118  54.321388  54.495735  54.495735  18342800\n",
       "3  2004-08-24  55.412300  55.591629  51.591621  52.239193  52.239193  15319700\n",
       "4  2004-08-25  52.284027  53.798351  51.746044  52.802086  52.802086   9232100"
      ]
     },
     "execution_count": 15,
     "metadata": {},
     "output_type": "execute_result"
    }
   ],
   "source": [
    "google_stock_data_pd.head()"
   ]
  },
  {
   "cell_type": "code",
   "execution_count": 16,
   "id": "110be783-2b49-4799-a52a-59ee3af4c5bc",
   "metadata": {},
   "outputs": [
    {
     "name": "stdout",
     "output_type": "stream",
     "text": [
      "<class 'pandas.core.frame.DataFrame'>\n",
      "RangeIndex: 3932 entries, 0 to 3931\n",
      "Data columns (total 7 columns):\n",
      " #   Column     Non-Null Count  Dtype  \n",
      "---  ------     --------------  -----  \n",
      " 0   Date       3932 non-null   object \n",
      " 1   Open       3932 non-null   float64\n",
      " 2   High       3932 non-null   float64\n",
      " 3   Low        3932 non-null   float64\n",
      " 4   Close      3932 non-null   float64\n",
      " 5   Adj Close  3932 non-null   float64\n",
      " 6   Volume     3932 non-null   int64  \n",
      "dtypes: float64(5), int64(1), object(1)\n",
      "memory usage: 215.2+ KB\n"
     ]
    }
   ],
   "source": [
    "google_stock_data_pd.info()"
   ]
  },
  {
   "cell_type": "markdown",
   "id": "0b380a94-72dd-49c3-92d4-88216ba1bdda",
   "metadata": {},
   "source": [
    "## Create Moving Average Stock Across 100 Days\n",
    "\n",
    "We'll create moving average stock across 100 days"
   ]
  },
  {
   "cell_type": "code",
   "execution_count": 17,
   "id": "ea232567-b82c-4beb-86e7-e4645739cc0a",
   "metadata": {},
   "outputs": [],
   "source": [
    "num_days = 100"
   ]
  },
  {
   "cell_type": "code",
   "execution_count": 18,
   "id": "324231e2-e721-4c7a-9f5d-e6a47d97ab03",
   "metadata": {},
   "outputs": [],
   "source": [
    "mavg_100_days = google_stock_data_pd.Close.rolling(num_days).mean()"
   ]
  },
  {
   "cell_type": "markdown",
   "id": "8a9ad946-ba54-4f39-9dad-8c44f5624ebd",
   "metadata": {},
   "source": [
    "### Plot Moving Average vs Close Price"
   ]
  },
  {
   "cell_type": "code",
   "execution_count": 19,
   "id": "2f50cdb0-22d6-4e61-a1b1-49a176d3db94",
   "metadata": {},
   "outputs": [
    {
     "data": {
      "image/png": "[encoded data removed]",
      "text/plain": [
       "<Figure size 800x600 with 1 Axes>"
      ]
     },
     "metadata": {},
     "output_type": "display_data"
    }
   ],
   "source": [
    "plt.figure(figsize=(8, 6))\n",
    "plt.plot(mavg_100_days, \"r\")\n",
    "plt.plot(google_stock_data_pd.Close, \"g\")\n",
    "plt.show()"
   ]
  },
  {
   "cell_type": "markdown",
   "id": "a365d14d-b238-402f-8a59-0ec8ca984d0b",
   "metadata": {},
   "source": [
    "## Create Moving Average Stock Across 200 Days"
   ]
  },
  {
   "cell_type": "code",
   "execution_count": 20,
   "id": "688ae976-fc77-4724-b512-2c9efef0a2cb",
   "metadata": {},
   "outputs": [],
   "source": [
    "num_days = 200\n",
    "mavg_200_days = google_stock_data_pd.Close.rolling(num_days).mean()"
   ]
  },
  {
   "cell_type": "code",
   "execution_count": 21,
   "id": "6dc47912-1ae3-4a96-943b-644563a81654",
   "metadata": {},
   "outputs": [
    {
     "data": {
      "image/png": "[encoded data removed]",
      "text/plain": [
       "<Figure size 800x600 with 1 Axes>"
      ]
     },
     "metadata": {},
     "output_type": "display_data"
    }
   ],
   "source": [
    "plt.figure(figsize=(8,6))\n",
    "plt.plot(mavg_100_days, \"r\")\n",
    "plt.plot(mavg_200_days, \"b\")\n",
    "plt.plot(google_stock_data_pd.Close, \"g\")\n",
    "plt.show()"
   ]
  },
  {
   "cell_type": "markdown",
   "id": "6ffd4a53-b804-4bd0-8edb-8d2fe769d84d",
   "metadata": {},
   "source": [
    "## Clean NAs from Stock Data\n",
    "\n",
    "Double check how to find number of NAs"
   ]
  },
  {
   "cell_type": "code",
   "execution_count": 22,
   "id": "79ea643d-3436-461d-836d-5f96ba08348e",
   "metadata": {},
   "outputs": [],
   "source": [
    "google_stock_data_pd.dropna(inplace=True)"
   ]
  },
  {
   "cell_type": "markdown",
   "id": "564ceeca-0edb-4fe8-a588-30ae03950fa7",
   "metadata": {},
   "source": [
    "## Split Stock 80% for Train & 20% for Test"
   ]
  },
  {
   "cell_type": "code",
   "execution_count": 23,
   "id": "a52ef44c-07d3-411f-8d14-c9903ab185cf",
   "metadata": {},
   "outputs": [],
   "source": [
    "train_ratio = 0.60\n",
    "valid_ratio = 0.20 + train_ratio # 0.80\n",
    "test_ratio = 0.20"
   ]
  },
  {
   "cell_type": "code",
   "execution_count": 24,
   "id": "526ca269-a5d8-47c7-8109-96f5d4f4f620",
   "metadata": {},
   "outputs": [
    {
     "data": {
      "text/plain": [
       "(3932, 7)"
      ]
     },
     "execution_count": 24,
     "metadata": {},
     "output_type": "execute_result"
    }
   ],
   "source": [
    "google_stock_data_pd.shape"
   ]
  },
  {
   "cell_type": "code",
   "execution_count": 25,
   "id": "22d5de8f-6b96-4303-aff0-168255fbe153",
   "metadata": {},
   "outputs": [],
   "source": [
    "# 60% for training: 0 to 60%\n",
    "google_stock_train = pd.DataFrame(google_stock_data_pd.Close[0: int(len(google_stock_data_pd)*train_ratio)])\n",
    "# further split training set to 80% training & 20% validation\n",
    "# google_stock_train = pd.DataFrame(google_stock_training_set[0: int(len(google_stock_training_set)*0.80)])\n",
    "# google_stock_valid = pd.DataFrame(google_stock_training_set[int(len(google_stock_training_set)*0.80: len(google_stock_training_set)])\n",
    "\n",
    "# 20% for validation: 60% to 80%\n",
    "google_stock_valid = pd.DataFrame(google_stock_data_pd.Close[int(len(google_stock_data_pd)*train_ratio): int(len(google_stock_data_pd)*valid_ratio)])\n",
    "\n",
    "google_stock_test = pd.DataFrame(google_stock_data_pd.Close[int(len(google_stock_data_pd)*valid_ratio): len(google_stock_data_pd)])"
   ]
  },
  {
   "cell_type": "code",
   "execution_count": 26,
   "id": "30dcde80-8f72-4030-b536-21ed8b196a89",
   "metadata": {},
   "outputs": [],
   "source": [
    "google_stock_train_date = pd.DataFrame(google_stock_data_pd.Date[0: int(len(google_stock_data_pd)*0.80)])\n",
    "google_stock_test_date = pd.DataFrame(google_stock_data_pd.Date[int(len(google_stock_data_pd)*0.80): len(google_stock_data_pd)])"
   ]
  },
  {
   "cell_type": "code",
   "execution_count": 27,
   "id": "1cb8877c-7a61-404c-b3b7-4149f485ad0a",
   "metadata": {},
   "outputs": [
    {
     "data": {
      "text/plain": [
       "(787, 1)"
      ]
     },
     "execution_count": 27,
     "metadata": {},
     "output_type": "execute_result"
    }
   ],
   "source": [
    "google_stock_test_date.shape"
   ]
  },
  {
   "cell_type": "code",
   "execution_count": 28,
   "id": "78f3e85e-3634-44d5-a8f0-98b3bdc5df82",
   "metadata": {},
   "outputs": [
    {
     "name": "stdout",
     "output_type": "stream",
     "text": [
      "2017-02-15\n"
     ]
    }
   ],
   "source": [
    "print(google_stock_test_date.Date.iloc[0])"
   ]
  },
  {
   "cell_type": "code",
   "execution_count": 29,
   "id": "7dbefa16-0f4a-4c64-80dc-0207adddf9e7",
   "metadata": {},
   "outputs": [
    {
     "data": {
      "text/plain": [
       "(2359, 1)"
      ]
     },
     "execution_count": 29,
     "metadata": {},
     "output_type": "execute_result"
    }
   ],
   "source": [
    "# We dont see 100 since back at google_stock_train, we havent yet split features from labels\n",
    "google_stock_train.shape"
   ]
  },
  {
   "cell_type": "code",
   "execution_count": 30,
   "id": "5470aa45-5de8-4199-b68a-91fac0d42dbf",
   "metadata": {},
   "outputs": [
    {
     "data": {
      "text/plain": [
       "2359"
      ]
     },
     "execution_count": 30,
     "metadata": {},
     "output_type": "execute_result"
    }
   ],
   "source": [
    "google_stock_train.shape[0]"
   ]
  },
  {
   "cell_type": "code",
   "execution_count": 31,
   "id": "d357fd82-567d-41f5-a7d6-c7187c889d8a",
   "metadata": {},
   "outputs": [
    {
     "data": {
      "text/plain": [
       "786"
      ]
     },
     "execution_count": 31,
     "metadata": {},
     "output_type": "execute_result"
    }
   ],
   "source": [
    "google_stock_valid.shape[0]"
   ]
  },
  {
   "cell_type": "code",
   "execution_count": 32,
   "id": "844aa47a-fbae-4f81-bcb0-c6f278e44bd0",
   "metadata": {},
   "outputs": [
    {
     "data": {
      "text/plain": [
       "787"
      ]
     },
     "execution_count": 32,
     "metadata": {},
     "output_type": "execute_result"
    }
   ],
   "source": [
    "google_stock_test.shape[0]"
   ]
  },
  {
   "cell_type": "code",
   "execution_count": 33,
   "id": "5d9bbdcf-36c0-425e-a831-9481fbfa92aa",
   "metadata": {},
   "outputs": [
    {
     "data": {
      "text/html": [
       "<div>\n",
       "<style scoped>\n",
       "    .dataframe tbody tr th:only-of-type {\n",
       "        vertical-align: middle;\n",
       "    }\n",
       "\n",
       "    .dataframe tbody tr th {\n",
       "        vertical-align: top;\n",
       "    }\n",
       "\n",
       "    .dataframe thead th {\n",
       "        text-align: right;\n",
       "    }\n",
       "</style>\n",
       "<table border=\"1\" class=\"dataframe\">\n",
       "  <thead>\n",
       "    <tr style=\"text-align: right;\">\n",
       "      <th></th>\n",
       "      <th>Close</th>\n",
       "    </tr>\n",
       "  </thead>\n",
       "  <tbody>\n",
       "    <tr>\n",
       "      <th>3145</th>\n",
       "      <td>818.979980</td>\n",
       "    </tr>\n",
       "    <tr>\n",
       "      <th>3146</th>\n",
       "      <td>824.159973</td>\n",
       "    </tr>\n",
       "    <tr>\n",
       "      <th>3147</th>\n",
       "      <td>828.070007</td>\n",
       "    </tr>\n",
       "    <tr>\n",
       "      <th>3148</th>\n",
       "      <td>831.659973</td>\n",
       "    </tr>\n",
       "    <tr>\n",
       "      <th>3149</th>\n",
       "      <td>830.760010</td>\n",
       "    </tr>\n",
       "  </tbody>\n",
       "</table>\n",
       "</div>"
      ],
      "text/plain": [
       "           Close\n",
       "3145  818.979980\n",
       "3146  824.159973\n",
       "3147  828.070007\n",
       "3148  831.659973\n",
       "3149  830.760010"
      ]
     },
     "execution_count": 33,
     "metadata": {},
     "output_type": "execute_result"
    }
   ],
   "source": [
    "google_stock_test.head()"
   ]
  },
  {
   "cell_type": "code",
   "execution_count": 34,
   "id": "2ea562ab-49c3-4da3-8a8a-ba7f5ec3e09d",
   "metadata": {},
   "outputs": [],
   "source": [
    "# taken last 100 days from training set\n",
    "# google_stock_train_pas_100_days = google_stock_train.tail(100)"
   ]
  },
  {
   "cell_type": "code",
   "execution_count": 34,
   "id": "cb53d787-3693-4989-83f2-9acd5005fd20",
   "metadata": {},
   "outputs": [],
   "source": [
    "# google_stock_test = pd.concat([google_stock_train_pas_100_days, google_stock_test],\n",
    "#                                ignore_index=True)"
   ]
  },
  {
   "cell_type": "code",
   "execution_count": 35,
   "id": "431e5688-be51-4ec9-953f-b6498e1fbe0e",
   "metadata": {},
   "outputs": [],
   "source": [
    "# google_stock_test"
   ]
  },
  {
   "cell_type": "code",
   "execution_count": 35,
   "id": "30ff6ac4-5ba4-4f66-baf3-5d5cee59dffd",
   "metadata": {},
   "outputs": [
    {
     "name": "stdout",
     "output_type": "stream",
     "text": [
      "len(google_stock_data_pd) = 3932\n",
      "total google stock on splits = 3932\n"
     ]
    }
   ],
   "source": [
    "print(f\"len(google_stock_data_pd) = {len(google_stock_data_pd)}\")\n",
    "print(f\"total google stock on splits = {google_stock_train.shape[0] + google_stock_valid.shape[0] + google_stock_test.shape[0]}\")"
   ]
  },
  {
   "cell_type": "markdown",
   "id": "ee6de394-0ba8-4d7d-8f37-335e7adbd643",
   "metadata": {},
   "source": [
    "## MinMaxScaler Feature Range\n",
    "\n",
    "Scale training data between 0 and 1"
   ]
  },
  {
   "cell_type": "code",
   "execution_count": 36,
   "id": "1ea95b96-4679-4996-894f-fc2b07709a57",
   "metadata": {},
   "outputs": [],
   "source": [
    "scaler = MinMaxScaler(feature_range=(0,1))"
   ]
  },
  {
   "cell_type": "code",
   "execution_count": 37,
   "id": "37a8c706-0214-4fa7-a279-4c94463707df",
   "metadata": {},
   "outputs": [],
   "source": [
    "google_stock_train_scale = scaler.fit_transform(google_stock_train)"
   ]
  },
  {
   "cell_type": "code",
   "execution_count": 38,
   "id": "d349efbb-1e2d-4582-b865-a185f1b718f4",
   "metadata": {},
   "outputs": [],
   "source": [
    "google_stock_valid_scale = scaler.fit_transform(google_stock_valid)"
   ]
  },
  {
   "cell_type": "code",
   "execution_count": 39,
   "id": "3cad4b4b-6b3f-4d31-927d-0060fb99a240",
   "metadata": {},
   "outputs": [],
   "source": [
    "google_stock_test_scale = scaler.fit_transform(google_stock_test)"
   ]
  },
  {
   "cell_type": "code",
   "execution_count": 40,
   "id": "b3970647-c496-422e-816d-5a115f552141",
   "metadata": {},
   "outputs": [],
   "source": [
    "# 10 days stock price\n",
    "# it'll take the first 10 days, to then predict 11th day stock price\n",
    "# 10, 11, 12, 15, 16, 17, 18, 19, 20, 17, \"18\"\n",
    "# for the 12th day prediction, it'll take the 11th back to the 1st day\n",
    "# .., 11, 12, 15, 16, 17, 18, 19, 20, 17, 18, \"19\""
   ]
  },
  {
   "cell_type": "markdown",
   "id": "f8d547a9-f774-4f95-8209-f466f977f21f",
   "metadata": {},
   "source": [
    "## Array Slicing on 1st 100 Days Stock Data (Train, Test)\n",
    "\n",
    "Previous array slicing for each training feature row has 100 samples (100 closing prices) while training label has 1 sample, which is final closing price"
   ]
  },
  {
   "cell_type": "code",
   "execution_count": 41,
   "id": "c9d4a3b2-1a24-4d85-b607-df40559e40b2",
   "metadata": {},
   "outputs": [],
   "source": [
    "num_days = 100"
   ]
  },
  {
   "cell_type": "code",
   "execution_count": 42,
   "id": "044bb0f0-604e-4b50-93fd-a57bb89ce5dc",
   "metadata": {},
   "outputs": [],
   "source": [
    "nifi_pipeline = DataPrepPipeline()"
   ]
  },
  {
   "cell_type": "code",
   "execution_count": null,
   "id": "2397af3e-79eb-46a5-8f31-0690078d0051",
   "metadata": {
    "scrolled": true
   },
   "outputs": [],
   "source": [
    "x_train_fets_list, y_train_labels_list = nifi_pipeline.split_features_labels(google_stock_train_scale, num_days)"
   ]
  },
  {
   "cell_type": "code",
   "execution_count": null,
   "id": "844a8e51-3965-4e88-b03d-ff3b94553c35",
   "metadata": {
    "scrolled": true
   },
   "outputs": [],
   "source": [
    "x_valid_fets_list, y_valid_labels_list = nifi_pipeline.split_features_labels(google_stock_valid_scale, num_days)"
   ]
  },
  {
   "cell_type": "code",
   "execution_count": 45,
   "id": "141a9801-0600-4086-bbbb-2eb74103e97e",
   "metadata": {},
   "outputs": [],
   "source": [
    "# x_train_list = []\n",
    "# y_train_list = []\n",
    "\n",
    "# for i in range(num_days, google_stock_train_scale.shape[0]):\n",
    "#     x_train_list.append(google_stock_train_scale[i-100:i])\n",
    "#     y_train_list.append(google_stock_train_scale[i,0])"
   ]
  },
  {
   "cell_type": "code",
   "execution_count": 46,
   "id": "7aae8403-83b8-4860-bdea-a1654bfe9059",
   "metadata": {},
   "outputs": [],
   "source": [
    "# x_train, y_train = np.array(x_train_list), np.array(y_train_list)"
   ]
  },
  {
   "cell_type": "code",
   "execution_count": null,
   "id": "1130445d-37cf-46cd-97b4-42b9e84e159b",
   "metadata": {
    "scrolled": true
   },
   "outputs": [],
   "source": [
    "x_test_fets_list, y_test_labels_list = nifi_pipeline.split_features_labels(google_stock_test_scale, num_days)"
   ]
  },
  {
   "cell_type": "code",
   "execution_count": null,
   "id": "84604d96-931d-4954-a0f1-074cb60ec514",
   "metadata": {
    "scrolled": true
   },
   "outputs": [],
   "source": [
    "x_test_fets_list"
   ]
  },
  {
   "cell_type": "code",
   "execution_count": null,
   "id": "6237f00b-8b92-400e-adcf-5d1458ec66f3",
   "metadata": {
    "scrolled": true
   },
   "outputs": [],
   "source": [
    "y_test_labels_list"
   ]
  },
  {
   "cell_type": "code",
   "execution_count": 50,
   "id": "b05fb4b2-d351-4647-a3c3-ce6957e57fa2",
   "metadata": {},
   "outputs": [],
   "source": [
    "# x_test_list = []\n",
    "# y_test_list = []\n",
    "\n",
    "# for i in range(num_days, google_stock_test_scale.shape[0]):\n",
    "#     x_test_list.append(google_stock_test_scale[i-100:i])\n",
    "#     y_test_list.append(google_stock_test_scale[i,0])"
   ]
  },
  {
   "cell_type": "markdown",
   "id": "a4a5452c-1aa4-4821-a8fb-398f2e069ef2",
   "metadata": {},
   "source": [
    "## Create PyTorch Nasdaq Dataset (Train, Test)"
   ]
  },
  {
   "cell_type": "code",
   "execution_count": 51,
   "id": "f79eb6f7-27a4-4bb4-b35f-6e62f5eeaa36",
   "metadata": {},
   "outputs": [],
   "source": [
    "class NasdaqDataset(torch.utils.data.Dataset):\n",
    "    def __init__(self, closing_price_2d_list, final_closing_price_list):\n",
    "        self.closing_price_2d_list_ = closing_price_2d_list\n",
    "        self.final_closing_price_list_ = final_closing_price_list\n",
    "        self.count_ = 0\n",
    "\n",
    "    def __len__(self):\n",
    "        return len(self.closing_price_2d_list_)\n",
    "\n",
    "    def __getitem__(self, idx):\n",
    "        if DEBUG and self.count_ == 0:\n",
    "            print(f\"NasdaqDataset __getitem__ idx = {idx}\")\n",
    "        # each array holds 100 days of closing prices\n",
    "        closing_price_array = self.closing_price_2d_list_[idx]\n",
    "        closing_price_tensor = torch.tensor(closing_price_array).float()\n",
    "\n",
    "        if DEBUG and self.count_ == 0:\n",
    "            print(f\"closing_price_tensor.shape = {closing_price_tensor.shape}\")\n",
    "        \n",
    "        final_closing_price_array = self.final_closing_price_list_[idx]\n",
    "        final_closing_price_tensor = torch.tensor(final_closing_price_array).float()\n",
    "\n",
    "        if DEBUG and self.count_ == 0:\n",
    "            print(f\"final_closing_price_tensor.shape = {final_closing_price_tensor.shape}\")\n",
    "\n",
    "        self.count_ += 1\n",
    "        \n",
    "        return closing_price_tensor, final_closing_price_tensor"
   ]
  },
  {
   "cell_type": "code",
   "execution_count": 52,
   "id": "496b55eb-f2fe-4a8f-8d13-5038b878abfc",
   "metadata": {},
   "outputs": [],
   "source": [
    "x_train_fets_array, y_train_labels_array = np.array(x_train_fets_list), np.array(y_train_labels_list)\n",
    "x_valid_fets_array, y_valid_labels_array = np.array(x_valid_fets_list), np.array(y_valid_labels_list)\n",
    "x_test_fets_array, y_test_labels_array = np.array(x_test_fets_list), np.array(y_test_labels_list)"
   ]
  },
  {
   "cell_type": "code",
   "execution_count": 53,
   "id": "a1fc880d-07ea-4e46-b29f-905f58b275a5",
   "metadata": {},
   "outputs": [],
   "source": [
    "stock_train_dataset = NasdaqDataset(x_train_fets_list, y_train_labels_list)"
   ]
  },
  {
   "cell_type": "code",
   "execution_count": 54,
   "id": "fa8e5d75-9b36-42af-a1b9-297b5d821af4",
   "metadata": {},
   "outputs": [],
   "source": [
    "stock_valid_dataset = NasdaqDataset(x_valid_fets_list, y_valid_labels_list)"
   ]
  },
  {
   "cell_type": "code",
   "execution_count": 55,
   "id": "94a50dbf-3470-4072-b944-29374d9272a8",
   "metadata": {},
   "outputs": [],
   "source": [
    "stock_test_dataset = NasdaqDataset(x_test_fets_list, y_test_labels_list)"
   ]
  },
  {
   "cell_type": "markdown",
   "id": "281d2cc6-81ab-4ad0-a7f6-840cbbf01499",
   "metadata": {},
   "source": [
    "## Create PyTorch Nasdaq DataLoader (Train, Test)"
   ]
  },
  {
   "cell_type": "code",
   "execution_count": 56,
   "id": "08de933f-2133-4dd6-8184-3b8f585deb03",
   "metadata": {},
   "outputs": [],
   "source": [
    "stock_train_loader = DataLoader(stock_train_dataset, batch_size = BATCH_SIZE, shuffle=True)"
   ]
  },
  {
   "cell_type": "code",
   "execution_count": 57,
   "id": "7bbfb686-b264-43b8-bf03-6fd910c956b6",
   "metadata": {},
   "outputs": [],
   "source": [
    "stock_valid_loader = DataLoader(stock_valid_dataset, batch_size = TEST_BATCH_SIZE, shuffle=False)"
   ]
  },
  {
   "cell_type": "code",
   "execution_count": 58,
   "id": "5dd3796c-c345-44f1-a492-7687944c5e8d",
   "metadata": {},
   "outputs": [],
   "source": [
    "stock_test_loader = DataLoader(stock_test_dataset, batch_size = TEST_BATCH_SIZE, shuffle=False)"
   ]
  },
  {
   "cell_type": "markdown",
   "id": "80ac7f7e-f077-4ad9-bb3d-215036e5f880",
   "metadata": {},
   "source": [
    "## Create a PyTorch LSTM Model\n",
    "\n",
    "Based on our \"x\" and \"y\" training data, we'll create a ML model and then train it"
   ]
  },
  {
   "cell_type": "code",
   "execution_count": 59,
   "id": "5891bce3-9619-415c-8c10-852bc68a964d",
   "metadata": {},
   "outputs": [],
   "source": [
    "# Use nn.LSTM, nn.Linear, nn.ReLU, nn.Dropout"
   ]
  },
  {
   "cell_type": "code",
   "execution_count": 60,
   "id": "e7574106-62e0-48c1-a398-5fe7adf85f62",
   "metadata": {},
   "outputs": [
    {
     "data": {
      "text/plain": [
       "(2259, 100)"
      ]
     },
     "execution_count": 60,
     "metadata": {},
     "output_type": "execute_result"
    }
   ],
   "source": [
    "# rows = 2259, columns, ch\n",
    "# NOTE: use to be \"x\"\n",
    "x_train_fets_array.shape"
   ]
  },
  {
   "cell_type": "code",
   "execution_count": 128,
   "id": "23dc3ea0-36b1-4bb3-8046-41935dd33db6",
   "metadata": {},
   "outputs": [],
   "source": [
    "class StockPriceLSTM(nn.Module):\n",
    "    def __init__(self, num_days, hidden_size=10):\n",
    "        super(StockPriceLSTM, self).__init__()\n",
    "        # self.lstm = nn.LSTM(embed_size, hidden_size, num_layers)\n",
    "        self.lstm1 = nn.LSTMCell(num_days, hidden_size*5)\n",
    "        self.lstm2 = nn.LSTMCell(hidden_size*5, hidden_size*6)\n",
    "        self.lstm3 = nn.LSTMCell(hidden_size*6, hidden_size*8)\n",
    "        self.lstm4 = nn.LSTMCell(hidden_size*8, hidden_size*12)\n",
    "        self.linear = nn.Linear(hidden_size*12, 1)\n",
    "        self.dropout1 = nn.Dropout(0.2)\n",
    "        self.dropout2 = nn.Dropout(0.3)\n",
    "        self.dropout3 = nn.Dropout(0.4)\n",
    "        self.dropout4 = nn.Dropout(0.5)\n",
    "        self.relu = nn.ReLU()\n",
    "\n",
    "        self.count_ = 0\n",
    "\n",
    "    def forward(self, closing_price_2d_features):\n",
    "        # closing price 2D features: row by col, each row has 100 samples since 100 days of closing prices, \n",
    "        # trying to pred final closing price\n",
    "        if DEBUG and self.count_ == 0:\n",
    "            print(f\"type(closing_price_2d_features) = {type(closing_price_2d_features)}\")\n",
    "        lstm_features, lstm_hidden = self.lstm1(closing_price_2d_features)\n",
    "        if DEBUG and self.count_ == 0:\n",
    "            print(f\"type(lstm_features) = {type(lstm_features)}\")\n",
    "        lstm_relu = self.relu(lstm_features)\n",
    "        lstm_dropout = self.dropout1(lstm_relu)\n",
    "\n",
    "        lstm_features, lstm_hidden = self.lstm2(lstm_dropout)\n",
    "        lstm_relu = self.relu(lstm_features)\n",
    "        lstm_dropout = self.dropout2(lstm_relu)\n",
    "\n",
    "        lstm_features, lstm_hidden = self.lstm3(lstm_dropout)\n",
    "        lstm_relu = self.relu(lstm_features)\n",
    "        lstm_dropout = self.dropout3(lstm_relu)\n",
    "\n",
    "        lstm_features, lstm_hidden = self.lstm4(lstm_dropout)\n",
    "        lstm_relu = self.relu(lstm_features)\n",
    "        lstm_dropout = self.dropout4(lstm_relu)\n",
    "\n",
    "        stock_price_pred = self.linear(lstm_dropout)\n",
    "\n",
    "        self.count_ += 1\n",
    "        return stock_price_pred"
   ]
  },
  {
   "cell_type": "code",
   "execution_count": 119,
   "id": "ef0e7b82-a2e1-4f47-b6e5-622ca196de97",
   "metadata": {},
   "outputs": [],
   "source": [
    "class StockPriceLSTMV2(nn.Module):\n",
    "    def __init__(self, input_size, hidden_size=10, num_stacked_layers=1):\n",
    "        super(StockPriceLSTMV2, self).__init__()\n",
    "        self.hidden_size = hidden_size\n",
    "        self.num_stacked_layers = num_stacked_layers\n",
    "        self.lstm = nn.LSTM(input_size, hidden_size*12, num_stacked_layers, batch_first=True)\n",
    "        # self.lstm1 = nn.LSTMCell(num_days, hidden_size*5)\n",
    "        # self.lstm2 = nn.LSTMCell(hidden_size*5, hidden_size*6)\n",
    "        # self.lstm3 = nn.LSTMCell(hidden_size*6, hidden_size*8)\n",
    "        # self.lstm4 = nn.LSTMCell(hidden_size*8, hidden_size*12)\n",
    "        self.linear = nn.Linear(hidden_size*12, 1)\n",
    "        self.dropout1 = nn.Dropout(0.2)\n",
    "        self.dropout2 = nn.Dropout(0.3)\n",
    "        self.dropout3 = nn.Dropout(0.4)\n",
    "        self.dropout4 = nn.Dropout(0.5)\n",
    "        self.relu = nn.ReLU()\n",
    "\n",
    "        self.count_ = 0\n",
    "\n",
    "    def forward(self, closing_price_2d_features):\n",
    "        # closing price 2D features: row by col, each row has 100 samples since 100 days of closing prices, \n",
    "        # trying to pred final closing price\n",
    "        if DEBUG and self.count_ == 0:\n",
    "            print(f\"type(closing_price_2d_features) = {type(closing_price_2d_features)}\")\n",
    "        batch_size = closing_price_2d_features.size(0)\n",
    "        if DEBUG and self.count_ == 0:\n",
    "            print(f\"closing_price_2d_features batch_size = {batch_size}\")\n",
    "        h0 = torch.zeros(self.num_stacked_layers, batch_size, self.hidden_size).to(device)\n",
    "        c0 = torch.zeros(self.num_stacked_layers, batch_size, self.hidden_size).to(device)\n",
    "        \n",
    "        lstm_features, lstm_hidden = self.lstm(closing_price_2d_features, (h0, c0))\n",
    "        lstm_features = lstm_features[:, -1, :]\n",
    "        if DEBUG and self.count_ == 0:\n",
    "            print(f\"type(lstm_features) = {type(lstm_features)}\")\n",
    "        lstm_relu = self.relu(lstm_features)\n",
    "        lstm_dropout = self.dropout1(lstm_relu)\n",
    "\n",
    "        stock_price_pred = self.linear(lstm_dropout)\n",
    "\n",
    "        self.count_ += 1\n",
    "        return stock_price_pred"
   ]
  },
  {
   "cell_type": "code",
   "execution_count": 130,
   "id": "1b4cc8ad-321e-4ff0-9b75-9699df46cf17",
   "metadata": {},
   "outputs": [],
   "source": [
    "lstm_model = StockPriceLSTM(num_days=x_train_fets_array.shape[1], hidden_size=10)\n",
    "# lstm_model = StockPriceLSTMV2(input_size=1, hidden_size=10, num_stacked_layers=1)"
   ]
  },
  {
   "cell_type": "code",
   "execution_count": 131,
   "id": "df5cb671-675c-4b3b-af30-1e3efaf55815",
   "metadata": {},
   "outputs": [],
   "source": [
    "mse_criterion = nn.MSELoss()"
   ]
  },
  {
   "cell_type": "code",
   "execution_count": 132,
   "id": "a01fbc6b-b1ca-4426-a2a1-c8ab498a6a58",
   "metadata": {},
   "outputs": [],
   "source": [
    "lstm_optimizer = optim.Adam(lstm_model.parameters(), lr=LEARNING_RATE)"
   ]
  },
  {
   "cell_type": "markdown",
   "id": "e2768af0-b5e4-4bf5-8883-d8f0eba19bab",
   "metadata": {},
   "source": [
    "## Train PyTorch LSTM Model using Pipeline"
   ]
  },
  {
   "cell_type": "code",
   "execution_count": 133,
   "id": "debcd1d3-b633-43e3-8e7b-1b1c8444e201",
   "metadata": {},
   "outputs": [],
   "source": [
    "pytorch_pipeline = PyTorchPipeline()"
   ]
  },
  {
   "cell_type": "code",
   "execution_count": 134,
   "id": "2bd2a78f-2a78-4038-80bb-4d7338096f01",
   "metadata": {},
   "outputs": [
    {
     "data": {
      "application/vnd.jupyter.widget-view+json": {
       "model_id": "dc916ffb8fe54702876f13f8a5669ab6",
       "version_major": 2,
       "version_minor": 0
      },
      "text/plain": [
       "  0%|          | 0/565 [00:00<?, ?it/s]"
      ]
     },
     "metadata": {},
     "output_type": "display_data"
    },
    {
     "name": "stdout",
     "output_type": "stream",
     "text": [
      "type(closing_price_2d_features) = <class 'torch.Tensor'>\n",
      "type(lstm_features) = <class 'torch.Tensor'>\n",
      "=> Saving Checkpoint\n"
     ]
    },
    {
     "data": {
      "application/vnd.jupyter.widget-view+json": {
       "model_id": "d490965d354043b4b7ab572a288e197d",
       "version_major": 2,
       "version_minor": 0
      },
      "text/plain": [
       "  0%|          | 0/686 [00:00<?, ?it/s]"
      ]
     },
     "metadata": {},
     "output_type": "display_data"
    },
    {
     "data": {
      "application/vnd.jupyter.widget-view+json": {
       "model_id": "6baaa57c864d495b80373746fee0ffd7",
       "version_major": 2,
       "version_minor": 0
      },
      "text/plain": [
       "  0%|          | 0/565 [00:00<?, ?it/s]"
      ]
     },
     "metadata": {},
     "output_type": "display_data"
    },
    {
     "name": "stdout",
     "output_type": "stream",
     "text": [
      "=> Saving Checkpoint\n"
     ]
    },
    {
     "data": {
      "application/vnd.jupyter.widget-view+json": {
       "model_id": "a7e56bca85b74f5fb78c4291fafb3962",
       "version_major": 2,
       "version_minor": 0
      },
      "text/plain": [
       "  0%|          | 0/686 [00:00<?, ?it/s]"
      ]
     },
     "metadata": {},
     "output_type": "display_data"
    },
    {
     "data": {
      "application/vnd.jupyter.widget-view+json": {
       "model_id": "aca977b8e3d04d4ca051d8d777df95b7",
       "version_major": 2,
       "version_minor": 0
      },
      "text/plain": [
       "  0%|          | 0/565 [00:00<?, ?it/s]"
      ]
     },
     "metadata": {},
     "output_type": "display_data"
    },
    {
     "name": "stdout",
     "output_type": "stream",
     "text": [
      "=> Saving Checkpoint\n"
     ]
    },
    {
     "data": {
      "application/vnd.jupyter.widget-view+json": {
       "model_id": "dccad2c086d54fc3a6ae5648470481de",
       "version_major": 2,
       "version_minor": 0
      },
      "text/plain": [
       "  0%|          | 0/686 [00:00<?, ?it/s]"
      ]
     },
     "metadata": {},
     "output_type": "display_data"
    },
    {
     "data": {
      "application/vnd.jupyter.widget-view+json": {
       "model_id": "e69225eb8d734e94970348c9bb0bc0fa",
       "version_major": 2,
       "version_minor": 0
      },
      "text/plain": [
       "  0%|          | 0/565 [00:00<?, ?it/s]"
      ]
     },
     "metadata": {},
     "output_type": "display_data"
    },
    {
     "name": "stdout",
     "output_type": "stream",
     "text": [
      "=> Saving Checkpoint\n"
     ]
    },
    {
     "data": {
      "application/vnd.jupyter.widget-view+json": {
       "model_id": "8e3ccac3358f4f26b837fc218b2aefe7",
       "version_major": 2,
       "version_minor": 0
      },
      "text/plain": [
       "  0%|          | 0/686 [00:00<?, ?it/s]"
      ]
     },
     "metadata": {},
     "output_type": "display_data"
    },
    {
     "data": {
      "application/vnd.jupyter.widget-view+json": {
       "model_id": "ddeb815c30f74e1c92e3d1591ee4dc46",
       "version_major": 2,
       "version_minor": 0
      },
      "text/plain": [
       "  0%|          | 0/565 [00:00<?, ?it/s]"
      ]
     },
     "metadata": {},
     "output_type": "display_data"
    },
    {
     "name": "stdout",
     "output_type": "stream",
     "text": [
      "=> Saving Checkpoint\n"
     ]
    },
    {
     "data": {
      "application/vnd.jupyter.widget-view+json": {
       "model_id": "a2c8a165f203463ebeec8c308545f55a",
       "version_major": 2,
       "version_minor": 0
      },
      "text/plain": [
       "  0%|          | 0/686 [00:00<?, ?it/s]"
      ]
     },
     "metadata": {},
     "output_type": "display_data"
    }
   ],
   "source": [
    "pytorch_pipeline.train_over_epochs(\n",
    "    stock_train_loader, stock_valid_loader,\n",
    "    lstm_model,\n",
    "    lstm_optimizer,\n",
    "    mse_criterion,\n",
    "    dst_folder=\"lstm_stock_close\"\n",
    ")"
   ]
  },
  {
   "cell_type": "code",
   "execution_count": 135,
   "id": "248c953f-d3b9-40f2-9fd6-d0a9c982c7eb",
   "metadata": {},
   "outputs": [],
   "source": [
    "pytorch_utility = PyTorchUtility()"
   ]
  },
  {
   "cell_type": "code",
   "execution_count": 136,
   "id": "66b2cd1c-a979-47ac-971f-0bcdf65ad3b5",
   "metadata": {},
   "outputs": [
    {
     "data": {
      "image/png": "[encoded data removed]",
      "text/plain": [
       "<Figure size 640x480 with 1 Axes>"
      ]
     },
     "metadata": {},
     "output_type": "display_data"
    }
   ],
   "source": [
    "pytorch_utility.plot_loss_curves(train_rmse_loss_avg_values, valid_rmse_loss_avg_values,\n",
    "                                 \"LSTM Train & Valid RMSE Loss\", \"lstm_train_valid_loss_avg_curves.jpg\")"
   ]
  },
  {
   "cell_type": "code",
   "execution_count": 137,
   "id": "f770cb5a-b0f9-4536-a8fe-83fe75ae0a07",
   "metadata": {},
   "outputs": [
    {
     "name": "stdout",
     "output_type": "stream",
     "text": [
      "LSTM: final_train Min RMSE = 0.1582709067492886\n"
     ]
    }
   ],
   "source": [
    "final_train_rmse = min(train_rmse_loss_avg_values)\n",
    "print(f\"LSTM: final_train Min RMSE = {final_train_rmse}\")"
   ]
  },
  {
   "cell_type": "code",
   "execution_count": 138,
   "id": "39bfc40a-e189-46d3-bbb7-6f1546f715cf",
   "metadata": {},
   "outputs": [
    {
     "name": "stdout",
     "output_type": "stream",
     "text": [
      "LSTM: final_valid Min RMSE = 0.2694248328577325\n"
     ]
    }
   ],
   "source": [
    "final_test_rmse = min(valid_rmse_loss_avg_values)\n",
    "print(f\"LSTM: final_valid Min RMSE = {final_test_rmse}\")"
   ]
  },
  {
   "cell_type": "code",
   "execution_count": null,
   "id": "9a4188a0-c027-43f3-b74d-1b6003cd1990",
   "metadata": {},
   "outputs": [],
   "source": [
    "final_closing_price_gts, final_closing_price_predictions = pytorch_pipeline.deploy_model(stock_test_loader, lstm_model)"
   ]
  },
  {
   "cell_type": "markdown",
   "id": "ea6edfa0-0050-4e26-9636-d68248144b94",
   "metadata": {},
   "source": [
    "## Unscale Final Closing Stock Price Predictions"
   ]
  },
  {
   "cell_type": "code",
   "execution_count": 140,
   "id": "24a7e176-466c-45c2-80b5-cdc55f7e0c05",
   "metadata": {},
   "outputs": [],
   "source": [
    "unscale = 1/scaler.scale_"
   ]
  },
  {
   "cell_type": "code",
   "execution_count": 141,
   "id": "a0df18b7-c041-429d-ac35-b1289641364c",
   "metadata": {},
   "outputs": [],
   "source": [
    "final_closing_price_unscaled_preds = final_closing_price_predictions*unscale"
   ]
  },
  {
   "cell_type": "code",
   "execution_count": 142,
   "id": "8ab780a9-b926-4169-adf1-3468bf31505f",
   "metadata": {},
   "outputs": [],
   "source": [
    "final_closing_price_unscaled_gts = final_closing_price_gts*unscale"
   ]
  },
  {
   "cell_type": "code",
   "execution_count": 143,
   "id": "0a4e4fb8-2a01-44c8-b2d5-75e544ef55e0",
   "metadata": {},
   "outputs": [
    {
     "data": {
      "image/png": "[encoded data removed]",
      "text/plain": [
       "<Figure size 640x480 with 1 Axes>"
      ]
     },
     "metadata": {},
     "output_type": "display_data"
    }
   ],
   "source": [
    "pytorch_utility.plot_gt_pred_curves(final_closing_price_unscaled_gts, final_closing_price_unscaled_preds,\n",
    "                    \"LSTM GT & Pred Stock Closing Price\", \"lstm_gt_pred_stock_close_price_curves.jpg\")"
   ]
  },
  {
   "cell_type": "code",
   "execution_count": 144,
   "id": "ea5b48f4-68bf-493a-b112-58354adf7eae",
   "metadata": {},
   "outputs": [
    {
     "name": "stdout",
     "output_type": "stream",
     "text": [
      "stock_pred_date_id = 2017-07-11\n"
     ]
    },
    {
     "data": {
      "text/html": [
       "<div>\n",
       "<style scoped>\n",
       "    .dataframe tbody tr th:only-of-type {\n",
       "        vertical-align: middle;\n",
       "    }\n",
       "\n",
       "    .dataframe tbody tr th {\n",
       "        vertical-align: top;\n",
       "    }\n",
       "\n",
       "    .dataframe thead th {\n",
       "        text-align: right;\n",
       "    }\n",
       "</style>\n",
       "<table border=\"1\" class=\"dataframe\">\n",
       "  <thead>\n",
       "    <tr style=\"text-align: right;\">\n",
       "      <th></th>\n",
       "      <th>100th Date</th>\n",
       "      <th>Close</th>\n",
       "    </tr>\n",
       "  </thead>\n",
       "  <tbody>\n",
       "    <tr>\n",
       "      <th>0</th>\n",
       "      <td>2017-07-11</td>\n",
       "      <td>279.490780</td>\n",
       "    </tr>\n",
       "    <tr>\n",
       "      <th>1</th>\n",
       "      <td>2017-07-12</td>\n",
       "      <td>279.490780</td>\n",
       "    </tr>\n",
       "    <tr>\n",
       "      <th>2</th>\n",
       "      <td>2017-07-13</td>\n",
       "      <td>279.490780</td>\n",
       "    </tr>\n",
       "    <tr>\n",
       "      <th>3</th>\n",
       "      <td>2017-07-14</td>\n",
       "      <td>279.490568</td>\n",
       "    </tr>\n",
       "    <tr>\n",
       "      <th>4</th>\n",
       "      <td>2017-07-17</td>\n",
       "      <td>279.490780</td>\n",
       "    </tr>\n",
       "    <tr>\n",
       "      <th>...</th>\n",
       "      <td>...</td>\n",
       "      <td>...</td>\n",
       "    </tr>\n",
       "    <tr>\n",
       "      <th>682</th>\n",
       "      <td>2020-03-26</td>\n",
       "      <td>279.490228</td>\n",
       "    </tr>\n",
       "    <tr>\n",
       "      <th>683</th>\n",
       "      <td>2020-03-27</td>\n",
       "      <td>279.490780</td>\n",
       "    </tr>\n",
       "    <tr>\n",
       "      <th>684</th>\n",
       "      <td>2020-03-30</td>\n",
       "      <td>279.490780</td>\n",
       "    </tr>\n",
       "    <tr>\n",
       "      <th>685</th>\n",
       "      <td>2020-03-31</td>\n",
       "      <td>279.490780</td>\n",
       "    </tr>\n",
       "    <tr>\n",
       "      <th>686</th>\n",
       "      <td>2020-04-01</td>\n",
       "      <td>279.490780</td>\n",
       "    </tr>\n",
       "  </tbody>\n",
       "</table>\n",
       "<p>687 rows × 2 columns</p>\n",
       "</div>"
      ],
      "text/plain": [
       "     100th Date       Close\n",
       "0    2017-07-11  279.490780\n",
       "1    2017-07-12  279.490780\n",
       "2    2017-07-13  279.490780\n",
       "3    2017-07-14  279.490568\n",
       "4    2017-07-17  279.490780\n",
       "..          ...         ...\n",
       "682  2020-03-26  279.490228\n",
       "683  2020-03-27  279.490780\n",
       "684  2020-03-30  279.490780\n",
       "685  2020-03-31  279.490780\n",
       "686  2020-04-01  279.490780\n",
       "\n",
       "[687 rows x 2 columns]"
      ]
     },
     "execution_count": 144,
     "metadata": {},
     "output_type": "execute_result"
    }
   ],
   "source": [
    "pytorch_utility.save_lstm_predictions(google_stock_test_date, final_closing_price_unscaled_preds, unscale,\n",
    "                                       num_days=100, dst_folder=\"lstm_stock_close/predictions/\", \n",
    "                                       filename=\"pytorch_final_closing_price_preds.csv\")"
   ]
  },
  {
   "cell_type": "code",
   "execution_count": null,
   "id": "198b08f5-3c76-44a6-a63a-3621c70a6ebe",
   "metadata": {},
   "outputs": [],
   "source": []
  }
 ],
 "metadata": {
  "kernelspec": {
   "display_name": "Python 3 (ipykernel)",
   "language": "python",
   "name": "python3"
  },
  "language_info": {
   "codemirror_mode": {
    "name": "ipython",
    "version": 3
   },
   "file_extension": ".py",
   "mimetype": "text/x-python",
   "name": "python",
   "nbconvert_exporter": "python",
   "pygments_lexer": "ipython3",
   "version": "3.9.17"
  }
 },
 "nbformat": 4,
 "nbformat_minor": 5
}
