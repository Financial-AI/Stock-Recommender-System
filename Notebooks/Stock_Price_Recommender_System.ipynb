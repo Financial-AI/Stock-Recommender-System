{
 "cells": [
  {
   "cell_type": "markdown",
   "id": "7e600aab-659c-4132-ad8d-0f6e0b88bb60",
   "metadata": {},
   "source": [
    "# Stock Price Recommender System\n",
    "\n",
    "- PyTorch (Not TF)\n",
    "- yfinance (for now just use NASDAQ directly)\n",
    "- matplotlib\n",
    "- numpy\n",
    "- pandas\n",
    "- plan to use h2o.ai wave\n",
    "\n",
    "**Contributor**: James Guzman\n",
    "\n",
    "**Teammates**: Josef, Anshul\n",
    "\n",
    "**Project Advisor**: Dr. Magdalini Eirinaki\n",
    "\n",
    "**SJSU CMPE 256**: Advanced Data Mining\n",
    "\n",
    "**Date**: Nov 22, 2023\n",
    "\n",
    "Based on \"Stock Recommendation System with Python/SQL\":\n",
    "\n",
    "- https://youtube.com/playlist?list=PL9ATnizYJ7f9sW_mdY3071dS8mMwBGu2S&si=S9YpLhQsMvFr3AFn\n",
    "\n",
    "Other Resources:\n",
    "\n",
    "- Create Finance Database with Py & SQL\n",
    "- Use MACD indicator and RSI/SMA indicator for decision makers\n",
    "\n",
    "NOTE: For our Stock Recommender System application, it may make sense to build up the data prep pipelines and DL deployment pipelines in NiFi and provide a GUI by H2O.ai wave to make it easier\n",
    "for our AI/DL audience to see our data pipeline. We still have to create the custom NiFi python\n",
    "processors for this task."
   ]
  },
  {
   "cell_type": "code",
   "execution_count": 1,
   "id": "755fc1f9-6b76-4d13-b55c-8a8779b08832",
   "metadata": {},
   "outputs": [],
   "source": [
    "import os\n",
    "import ta\n",
    "import torch\n",
    "import torch.nn as nn\n",
    "import torch.optim as optim\n",
    "from torch.utils.data import DataLoader\n",
    "from copy import deepcopy as dc\n",
    "from tqdm.notebook import tqdm\n",
    "# import yfinance as yf\n",
    "import matplotlib.pyplot as plt\n",
    "import numpy as np\n",
    "import pandas as pd\n",
    "from sklearn.preprocessing import MinMaxScaler\n",
    "# import streamlit\n",
    "    # streamlit they use to deploy as a web app, for now I will use Wave or PySide6"
   ]
  },
  {
   "cell_type": "markdown",
   "id": "a5aff16a-29f1-4dad-bc6c-6684c548937a",
   "metadata": {},
   "source": [
    "## Ingest Stock Close Price Predicted Data\n",
    "\n",
    "We can read in our GOOG closing stock price predictions table that also has the Date of the prediction like Algovibes does, but our stock recommender system is based on using our PyTorch predictions when calculating **MACDecision**, etc."
   ]
  },
  {
   "cell_type": "code",
   "execution_count": 2,
   "id": "0d95c9e9-e1f2-475d-80be-d5f7b251a697",
   "metadata": {},
   "outputs": [],
   "source": [
    "stock_dir_path = \"/home/james/src/datasets/NASDAQ_Yahoo_Finance_PyTorch/stocks\""
   ]
  },
  {
   "cell_type": "code",
   "execution_count": 3,
   "id": "7587836c-a117-492e-a2da-fc8012afb9c9",
   "metadata": {},
   "outputs": [],
   "source": [
    "symbol_name = \"GOOG\""
   ]
  },
  {
   "cell_type": "code",
   "execution_count": 4,
   "id": "6316a678-5c70-4331-9c22-02cd996894fa",
   "metadata": {},
   "outputs": [],
   "source": [
    "close_price_pred_filename = f\"pytorch_final_closing_price_preds_{symbol_name}.csv\""
   ]
  },
  {
   "cell_type": "code",
   "execution_count": 5,
   "id": "3f2c07a2-af03-40df-8876-210f063f6ca4",
   "metadata": {},
   "outputs": [],
   "source": [
    "google_stock_price_pred_pd = pd.read_csv(os.path.join(stock_dir_path, close_price_pred_filename))"
   ]
  },
  {
   "cell_type": "code",
   "execution_count": 6,
   "id": "c4872a7c-5308-485d-b3ab-b006fa794f15",
   "metadata": {},
   "outputs": [
    {
     "data": {
      "text/html": [
       "<div>\n",
       "<style scoped>\n",
       "    .dataframe tbody tr th:only-of-type {\n",
       "        vertical-align: middle;\n",
       "    }\n",
       "\n",
       "    .dataframe tbody tr th {\n",
       "        vertical-align: top;\n",
       "    }\n",
       "\n",
       "    .dataframe thead th {\n",
       "        text-align: right;\n",
       "    }\n",
       "</style>\n",
       "<table border=\"1\" class=\"dataframe\">\n",
       "  <thead>\n",
       "    <tr style=\"text-align: right;\">\n",
       "      <th></th>\n",
       "      <th>100th Date</th>\n",
       "      <th>Close</th>\n",
       "    </tr>\n",
       "  </thead>\n",
       "  <tbody>\n",
       "    <tr>\n",
       "      <th>0</th>\n",
       "      <td>2017-03-16</td>\n",
       "      <td>780.899261</td>\n",
       "    </tr>\n",
       "    <tr>\n",
       "      <th>1</th>\n",
       "      <td>2017-03-17</td>\n",
       "      <td>781.577956</td>\n",
       "    </tr>\n",
       "    <tr>\n",
       "      <th>2</th>\n",
       "      <td>2017-03-20</td>\n",
       "      <td>782.921275</td>\n",
       "    </tr>\n",
       "    <tr>\n",
       "      <th>3</th>\n",
       "      <td>2017-03-21</td>\n",
       "      <td>779.192227</td>\n",
       "    </tr>\n",
       "    <tr>\n",
       "      <th>4</th>\n",
       "      <td>2017-03-22</td>\n",
       "      <td>775.225077</td>\n",
       "    </tr>\n",
       "  </tbody>\n",
       "</table>\n",
       "</div>"
      ],
      "text/plain": [
       "   100th Date       Close\n",
       "0  2017-03-16  780.899261\n",
       "1  2017-03-17  781.577956\n",
       "2  2017-03-20  782.921275\n",
       "3  2017-03-21  779.192227\n",
       "4  2017-03-22  775.225077"
      ]
     },
     "execution_count": 6,
     "metadata": {},
     "output_type": "execute_result"
    }
   ],
   "source": [
    "google_stock_price_pred_pd.head()"
   ]
  },
  {
   "cell_type": "markdown",
   "id": "b335b53d-869e-4915-a46e-7ee06090f753",
   "metadata": {},
   "source": [
    "## Compute Technical Stock Indicators\n",
    "\n",
    "First we will compute **MACDecision** stock indicator using our PyTorch predicted stock closing prices.\n",
    "We then create the **RSIDecision Stock Indicator** function."
   ]
  },
  {
   "cell_type": "code",
   "execution_count": 10,
   "id": "fc59e621-4efc-4f31-a936-118d9f870f4c",
   "metadata": {},
   "outputs": [],
   "source": [
    "def MACDecision(stock_price_pred_df):\n",
    "    stock_price_pred_df[\"MACD_diff\"] = ta.trend.macd_diff(stock_price_pred_df.Close)\n",
    "    stock_price_pred_df.loc[(stock_price_pred_df.MACD_diff > 0) & \n",
    "                            (stock_price_pred_df.MACD_diff.shift(1) < 0), \"Decision MACD\"] = \"Buy\""
   ]
  },
  {
   "cell_type": "markdown",
   "id": "cebdbc56-ba89-4797-b4b1-680411ed453f",
   "metadata": {},
   "source": [
    "**NOTE**: if we use SMA 200, we should most likely have a our PyTorch model be trained on predicting\n",
    "final closing stock price based on learning from closing stock prices from 200 days sliding window\n",
    "Else, we can try SMA 100 since we trained our PyTorch model based on 100 days sliding window of\n",
    "past closing prices to predict final closing stock price"
   ]
  },
  {
   "cell_type": "code",
   "execution_count": 11,
   "id": "3e7af308-16e8-4e43-bede-6fe5a335f1f3",
   "metadata": {},
   "outputs": [],
   "source": [
    "def RSI_SMA_Decision(stock_price_pred_df):\n",
    "    # NOTE: our PyTorch model was trained on 100 days to predict final closing price\n",
    "    stock_price_pred_df[\"RSI\"] = ta.momentum.rsi(stock_price_pred_df.Close, window=10)\n",
    "    # This probably would be simple moving average based on 200 days of predicted closing stock prices\n",
    "    stock_price_pred_df[\"SMA200\"] = ta.trend.sma_indicator(stock_price_pred_df.Close, window = 200)\n",
    "    stock_price_pred_df.loc[(stock_price_pred_df.Close > stock_price_pred_df.SMA200) &\n",
    "                            (stock_price_pred_df.RSI < 30), \"Decision RSI/SMA\"] = \"Buy\""
   ]
  },
  {
   "cell_type": "markdown",
   "id": "b8b48141-d5a5-426c-9b0d-0a9217272e33",
   "metadata": {},
   "source": [
    "Apply MACDecision indicator and RSIDecision indicator to GOOG predicted closing stock prices dataframe. Can be applied to all other company dataframes where previously we predicted closing stock prices."
   ]
  },
  {
   "cell_type": "code",
   "execution_count": 12,
   "id": "e06e7cc1-d410-457e-b9f3-2b890f1fdfbe",
   "metadata": {},
   "outputs": [],
   "source": [
    "# NOTE: this single element list will be replaced by a list of company stock predicted close price\n",
    "# dataframes\n",
    "# for stock_price_pred_df in [google_stock_price_pred_pd]:\n",
    "    # Compute Technical Stock Indicator for each company's stock closing predicted price\n",
    "MACDecision(google_stock_price_pred_pd)\n",
    "RSI_SMA_Decision(google_stock_price_pred_pd)"
   ]
  },
  {
   "cell_type": "code",
   "execution_count": 14,
   "id": "5baafcbf-a866-4371-a593-aed7bb5db1ea",
   "metadata": {},
   "outputs": [
    {
     "data": {
      "text/html": [
       "<div>\n",
       "<style scoped>\n",
       "    .dataframe tbody tr th:only-of-type {\n",
       "        vertical-align: middle;\n",
       "    }\n",
       "\n",
       "    .dataframe tbody tr th {\n",
       "        vertical-align: top;\n",
       "    }\n",
       "\n",
       "    .dataframe thead th {\n",
       "        text-align: right;\n",
       "    }\n",
       "</style>\n",
       "<table border=\"1\" class=\"dataframe\">\n",
       "  <thead>\n",
       "    <tr style=\"text-align: right;\">\n",
       "      <th></th>\n",
       "      <th>100th Date</th>\n",
       "      <th>Close</th>\n",
       "      <th>MACD_diff</th>\n",
       "      <th>Decision MACD</th>\n",
       "      <th>RSI</th>\n",
       "      <th>SMA200</th>\n",
       "      <th>Decision RSI/SMA</th>\n",
       "    </tr>\n",
       "  </thead>\n",
       "  <tbody>\n",
       "    <tr>\n",
       "      <th>0</th>\n",
       "      <td>2017-03-16</td>\n",
       "      <td>780.899261</td>\n",
       "      <td>NaN</td>\n",
       "      <td>NaN</td>\n",
       "      <td>NaN</td>\n",
       "      <td>NaN</td>\n",
       "      <td>NaN</td>\n",
       "    </tr>\n",
       "    <tr>\n",
       "      <th>1</th>\n",
       "      <td>2017-03-17</td>\n",
       "      <td>781.577956</td>\n",
       "      <td>NaN</td>\n",
       "      <td>NaN</td>\n",
       "      <td>NaN</td>\n",
       "      <td>NaN</td>\n",
       "      <td>NaN</td>\n",
       "    </tr>\n",
       "    <tr>\n",
       "      <th>2</th>\n",
       "      <td>2017-03-20</td>\n",
       "      <td>782.921275</td>\n",
       "      <td>NaN</td>\n",
       "      <td>NaN</td>\n",
       "      <td>NaN</td>\n",
       "      <td>NaN</td>\n",
       "      <td>NaN</td>\n",
       "    </tr>\n",
       "    <tr>\n",
       "      <th>3</th>\n",
       "      <td>2017-03-21</td>\n",
       "      <td>779.192227</td>\n",
       "      <td>NaN</td>\n",
       "      <td>NaN</td>\n",
       "      <td>NaN</td>\n",
       "      <td>NaN</td>\n",
       "      <td>NaN</td>\n",
       "    </tr>\n",
       "    <tr>\n",
       "      <th>4</th>\n",
       "      <td>2017-03-22</td>\n",
       "      <td>775.225077</td>\n",
       "      <td>NaN</td>\n",
       "      <td>NaN</td>\n",
       "      <td>NaN</td>\n",
       "      <td>NaN</td>\n",
       "      <td>NaN</td>\n",
       "    </tr>\n",
       "    <tr>\n",
       "      <th>...</th>\n",
       "      <td>...</td>\n",
       "      <td>...</td>\n",
       "      <td>...</td>\n",
       "      <td>...</td>\n",
       "      <td>...</td>\n",
       "      <td>...</td>\n",
       "      <td>...</td>\n",
       "    </tr>\n",
       "    <tr>\n",
       "      <th>762</th>\n",
       "      <td>2020-03-26</td>\n",
       "      <td>1060.627488</td>\n",
       "      <td>0.839057</td>\n",
       "      <td>NaN</td>\n",
       "      <td>73.891365</td>\n",
       "      <td>1010.041608</td>\n",
       "      <td>NaN</td>\n",
       "    </tr>\n",
       "    <tr>\n",
       "      <th>763</th>\n",
       "      <td>2020-03-27</td>\n",
       "      <td>1064.726344</td>\n",
       "      <td>0.881474</td>\n",
       "      <td>NaN</td>\n",
       "      <td>78.147480</td>\n",
       "      <td>1010.525653</td>\n",
       "      <td>NaN</td>\n",
       "    </tr>\n",
       "    <tr>\n",
       "      <th>764</th>\n",
       "      <td>2020-03-30</td>\n",
       "      <td>1068.556381</td>\n",
       "      <td>1.044949</td>\n",
       "      <td>NaN</td>\n",
       "      <td>81.310642</td>\n",
       "      <td>1011.027595</td>\n",
       "      <td>NaN</td>\n",
       "    </tr>\n",
       "    <tr>\n",
       "      <th>765</th>\n",
       "      <td>2020-03-31</td>\n",
       "      <td>1069.329974</td>\n",
       "      <td>1.078294</td>\n",
       "      <td>NaN</td>\n",
       "      <td>81.898669</td>\n",
       "      <td>1011.557901</td>\n",
       "      <td>NaN</td>\n",
       "    </tr>\n",
       "    <tr>\n",
       "      <th>766</th>\n",
       "      <td>2020-04-01</td>\n",
       "      <td>1070.316442</td>\n",
       "      <td>1.039455</td>\n",
       "      <td>NaN</td>\n",
       "      <td>82.671172</td>\n",
       "      <td>1012.082985</td>\n",
       "      <td>NaN</td>\n",
       "    </tr>\n",
       "  </tbody>\n",
       "</table>\n",
       "<p>767 rows × 7 columns</p>\n",
       "</div>"
      ],
      "text/plain": [
       "     100th Date        Close  MACD_diff Decision MACD        RSI       SMA200  \\\n",
       "0    2017-03-16   780.899261        NaN           NaN        NaN          NaN   \n",
       "1    2017-03-17   781.577956        NaN           NaN        NaN          NaN   \n",
       "2    2017-03-20   782.921275        NaN           NaN        NaN          NaN   \n",
       "3    2017-03-21   779.192227        NaN           NaN        NaN          NaN   \n",
       "4    2017-03-22   775.225077        NaN           NaN        NaN          NaN   \n",
       "..          ...          ...        ...           ...        ...          ...   \n",
       "762  2020-03-26  1060.627488   0.839057           NaN  73.891365  1010.041608   \n",
       "763  2020-03-27  1064.726344   0.881474           NaN  78.147480  1010.525653   \n",
       "764  2020-03-30  1068.556381   1.044949           NaN  81.310642  1011.027595   \n",
       "765  2020-03-31  1069.329974   1.078294           NaN  81.898669  1011.557901   \n",
       "766  2020-04-01  1070.316442   1.039455           NaN  82.671172  1012.082985   \n",
       "\n",
       "    Decision RSI/SMA  \n",
       "0                NaN  \n",
       "1                NaN  \n",
       "2                NaN  \n",
       "3                NaN  \n",
       "4                NaN  \n",
       "..               ...  \n",
       "762              NaN  \n",
       "763              NaN  \n",
       "764              NaN  \n",
       "765              NaN  \n",
       "766              NaN  \n",
       "\n",
       "[767 rows x 7 columns]"
      ]
     },
     "execution_count": 14,
     "metadata": {},
     "output_type": "execute_result"
    }
   ],
   "source": [
    "google_stock_price_pred_pd"
   ]
  },
  {
   "cell_type": "markdown",
   "id": "fd022d45-163c-457d-ae15-b12eb69c269f",
   "metadata": {},
   "source": [
    "## Buy Asset On Next Day?"
   ]
  },
  {
   "cell_type": "markdown",
   "id": "2e017588-2a29-45a1-8134-642373b1c55d",
   "metadata": {},
   "source": [
    "From our results table based on stock closing price prediction, **Decision MACD** and/or **Decision RSI/SMA** will indicate if there is a buy signal for our predictions.\n",
    "\n",
    "Next we'll check the very last row."
   ]
  },
  {
   "cell_type": "code",
   "execution_count": 15,
   "id": "27f7c8e2-4cab-4298-a2ae-b3250214abc2",
   "metadata": {},
   "outputs": [],
   "source": [
    "if google_stock_price_pred_pd[\"Decision MACD\"].iloc[-1] == \"Buy\":\n",
    "    print(\"Buying Signal MACD for GOOG\")\n",
    "if google_stock_price_pred_pd[\"Decision RSI/SMA\"].iloc[-1] == \"Buy\":\n",
    "    print(\"Buying Signal RSI/SMA for GOOG\")"
   ]
  }
 ],
 "metadata": {
  "kernelspec": {
   "display_name": "Python 3 (ipykernel)",
   "language": "python",
   "name": "python3"
  },
  "language_info": {
   "codemirror_mode": {
    "name": "ipython",
    "version": 3
   },
   "file_extension": ".py",
   "mimetype": "text/x-python",
   "name": "python",
   "nbconvert_exporter": "python",
   "pygments_lexer": "ipython3",
   "version": "3.9.17"
  }
 },
 "nbformat": 4,
 "nbformat_minor": 5
}
